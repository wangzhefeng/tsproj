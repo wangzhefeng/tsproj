{
 "cells": [
  {
   "cell_type": "markdown",
   "metadata": {},
   "source": [
    "## Window\n",
    "\n",
    "### Window\n",
    "\n",
    "* pd.DataFrame.rolling().mean()\n",
    "* pd.DataFrame.expanding().mean()\n",
    "* pd.DataFrame.ewm().mean()\n",
    "\n",
    "### groupby\n",
    "\n",
    "* groupby().resample()\n",
    "* groupby().rolling()\n",
    "* groupby().expanding()"
   ]
  },
  {
   "cell_type": "code",
   "execution_count": null,
   "metadata": {},
   "outputs": [],
   "source": []
  }
 ],
 "metadata": {
  "kernelspec": {
   "display_name": "Python 3",
   "language": "python",
   "name": "python3"
  },
  "language_info": {
   "codemirror_mode": {
    "name": "ipython",
    "version": 3
   },
   "file_extension": ".py",
   "mimetype": "text/x-python",
   "name": "python",
   "nbconvert_exporter": "python",
   "pygments_lexer": "ipython3",
   "version": "3.8.5"
  }
 },
 "nbformat": 4,
 "nbformat_minor": 4
}
