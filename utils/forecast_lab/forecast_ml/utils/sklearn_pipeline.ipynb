{
 "cells": [
  {
   "cell_type": "code",
   "execution_count": 2,
   "id": "cf4ca638-e7da-4ffe-9251-6299e8f87cf4",
   "metadata": {},
   "outputs": [],
   "source": [
    "# data\n",
    "from mlforecast.utils import generate_daily_series\n",
    "\n",
    "# forecast\n",
    "from mlforecast import MLForecast\n",
    "\n",
    "# feature transform\n",
    "from sklearn.compose import ColumnTransformer\n",
    "from sklearn.preprocessing import OneHotEncoder\n",
    "\n",
    "# model and pipeline\n",
    "from sklearn.linear_model import LinearRegression\n",
    "from sklearn.pipeline import make_pipeline"
   ]
  },
  {
   "cell_type": "markdown",
   "id": "f80f8c51-00d8-43f8-9465-567bddcedb04",
   "metadata": {},
   "source": [
    "# data"
   ]
  },
  {
   "cell_type": "code",
   "execution_count": 3,
   "id": "e19b8426-8575-430d-8366-ab9bc11955a0",
   "metadata": {},
   "outputs": [
    {
     "data": {
      "text/html": [
       "<div>\n",
       "<style scoped>\n",
       "    .dataframe tbody tr th:only-of-type {\n",
       "        vertical-align: middle;\n",
       "    }\n",
       "\n",
       "    .dataframe tbody tr th {\n",
       "        vertical-align: top;\n",
       "    }\n",
       "\n",
       "    .dataframe thead th {\n",
       "        text-align: right;\n",
       "    }\n",
       "</style>\n",
       "<table border=\"1\" class=\"dataframe\">\n",
       "  <thead>\n",
       "    <tr style=\"text-align: right;\">\n",
       "      <th></th>\n",
       "      <th>unique_id</th>\n",
       "      <th>ds</th>\n",
       "      <th>y</th>\n",
       "    </tr>\n",
       "  </thead>\n",
       "  <tbody>\n",
       "    <tr>\n",
       "      <th>0</th>\n",
       "      <td>id_0</td>\n",
       "      <td>2000-01-01</td>\n",
       "      <td>0.428973</td>\n",
       "    </tr>\n",
       "    <tr>\n",
       "      <th>1</th>\n",
       "      <td>id_0</td>\n",
       "      <td>2000-01-02</td>\n",
       "      <td>1.423626</td>\n",
       "    </tr>\n",
       "    <tr>\n",
       "      <th>2</th>\n",
       "      <td>id_0</td>\n",
       "      <td>2000-01-03</td>\n",
       "      <td>2.311782</td>\n",
       "    </tr>\n",
       "    <tr>\n",
       "      <th>3</th>\n",
       "      <td>id_0</td>\n",
       "      <td>2000-01-04</td>\n",
       "      <td>3.192191</td>\n",
       "    </tr>\n",
       "    <tr>\n",
       "      <th>4</th>\n",
       "      <td>id_0</td>\n",
       "      <td>2000-01-05</td>\n",
       "      <td>4.148767</td>\n",
       "    </tr>\n",
       "    <tr>\n",
       "      <th>...</th>\n",
       "      <td>...</td>\n",
       "      <td>...</td>\n",
       "      <td>...</td>\n",
       "    </tr>\n",
       "    <tr>\n",
       "      <th>1096</th>\n",
       "      <td>id_4</td>\n",
       "      <td>2001-01-03</td>\n",
       "      <td>4.058910</td>\n",
       "    </tr>\n",
       "    <tr>\n",
       "      <th>1097</th>\n",
       "      <td>id_4</td>\n",
       "      <td>2001-01-04</td>\n",
       "      <td>5.178157</td>\n",
       "    </tr>\n",
       "    <tr>\n",
       "      <th>1098</th>\n",
       "      <td>id_4</td>\n",
       "      <td>2001-01-05</td>\n",
       "      <td>6.133142</td>\n",
       "    </tr>\n",
       "    <tr>\n",
       "      <th>1099</th>\n",
       "      <td>id_4</td>\n",
       "      <td>2001-01-06</td>\n",
       "      <td>0.403709</td>\n",
       "    </tr>\n",
       "    <tr>\n",
       "      <th>1100</th>\n",
       "      <td>id_4</td>\n",
       "      <td>2001-01-07</td>\n",
       "      <td>1.081779</td>\n",
       "    </tr>\n",
       "  </tbody>\n",
       "</table>\n",
       "<p>1101 rows × 3 columns</p>\n",
       "</div>"
      ],
      "text/plain": [
       "     unique_id         ds         y\n",
       "0         id_0 2000-01-01  0.428973\n",
       "1         id_0 2000-01-02  1.423626\n",
       "2         id_0 2000-01-03  2.311782\n",
       "3         id_0 2000-01-04  3.192191\n",
       "4         id_0 2000-01-05  4.148767\n",
       "...        ...        ...       ...\n",
       "1096      id_4 2001-01-03  4.058910\n",
       "1097      id_4 2001-01-04  5.178157\n",
       "1098      id_4 2001-01-05  6.133142\n",
       "1099      id_4 2001-01-06  0.403709\n",
       "1100      id_4 2001-01-07  1.081779\n",
       "\n",
       "[1101 rows x 3 columns]"
      ]
     },
     "execution_count": 3,
     "metadata": {},
     "output_type": "execute_result"
    }
   ],
   "source": [
    "series = generate_daily_series(n_series = 5)\n",
    "series"
   ]
  },
  {
   "cell_type": "markdown",
   "id": "b000e294-cdc3-4170-94a3-5b9402e61004",
   "metadata": {},
   "source": [
    "# pipeline"
   ]
  },
  {
   "cell_type": "markdown",
   "id": "f5a29f94-d8ad-4db6-bbdd-baaff21f3ac1",
   "metadata": {},
   "source": [
    "## lag and date features"
   ]
  },
  {
   "cell_type": "code",
   "execution_count": 4,
   "id": "afe2ff16-b4fa-4705-9438-06f64de8f450",
   "metadata": {},
   "outputs": [
    {
     "name": "stdout",
     "output_type": "stream",
     "text": [
      "       lag1  dayofweek\n",
      "1  0.428973          6\n",
      "2  1.423626          0\n",
      "3  2.311782          1\n",
      "4  3.192191          2\n",
      "5  4.148767          3\n",
      "(1096, 2)\n",
      "[1.42362587 2.31178185 3.19219085 ... 6.13314199 0.40370926 1.0817794 ]\n",
      "1096\n"
     ]
    }
   ],
   "source": [
    "fcst = MLForecast(\n",
    "    models = [],\n",
    "    freq = \"D\",\n",
    "    lags = [1],\n",
    "    date_features = [\"dayofweek\"],\n",
    ")\n",
    "X, y = fcst.preprocess(series, return_X_y = True)\n",
    "print(X.head())\n",
    "print(X.shape)\n",
    "print(y)\n",
    "print(len(y))"
   ]
  },
  {
   "cell_type": "markdown",
   "id": "3bc23564-0a85-4c73-978b-cd0aa56d5982",
   "metadata": {},
   "source": [
    "## date feature one-hot-encoding"
   ]
  },
  {
   "cell_type": "code",
   "execution_count": 5,
   "id": "174f53c8-22da-480b-a41e-53c6edb0d2e0",
   "metadata": {},
   "outputs": [
    {
     "name": "stdout",
     "output_type": "stream",
     "text": [
      "  (0, 5)\t1.0\n",
      "  (0, 6)\t0.4289728088113784\n",
      "  (1, 6)\t1.4236258693920627\n",
      "  (2, 0)\t1.0\n",
      "  (2, 6)\t2.311781848392986\n",
      "  (3, 1)\t1.0\n",
      "  (3, 6)\t3.19219085364635\n",
      "  (4, 2)\t1.0\n",
      "  (4, 6)\t4.148767303272236\n",
      "  (5, 3)\t1.0\n",
      "  (5, 6)\t5.028356488658722\n",
      "  (6, 4)\t1.0\n",
      "  (6, 6)\t6.136328147290056\n",
      "  (7, 5)\t1.0\n",
      "  (7, 6)\t0.23883255866067493\n",
      "  (8, 6)\t1.4060843643877465\n",
      "  (9, 0)\t1.0\n",
      "  (9, 6)\t2.2399885861875286\n",
      "  (10, 1)\t1.0\n",
      "  (10, 6)\t3.1963923980504148\n",
      "  (11, 2)\t1.0\n",
      "  (11, 6)\t4.418039381768689\n",
      "  (12, 3)\t1.0\n",
      "  (12, 6)\t5.168698080208634\n",
      "  (13, 4)\t1.0\n",
      "  :\t:\n",
      "  (1083, 0)\t1.0\n",
      "  (1083, 6)\t2.078941935130301\n",
      "  (1084, 1)\t1.0\n",
      "  (1084, 6)\t3.393430013657649\n",
      "  (1085, 2)\t1.0\n",
      "  (1085, 6)\t4.486508316378672\n",
      "  (1086, 3)\t1.0\n",
      "  (1086, 6)\t5.031017910260789\n",
      "  (1087, 4)\t1.0\n",
      "  (1087, 6)\t6.050001338497742\n",
      "  (1088, 5)\t1.0\n",
      "  (1088, 6)\t0.15894893467048016\n",
      "  (1089, 6)\t1.2629754692951607\n",
      "  (1090, 0)\t1.0\n",
      "  (1090, 6)\t2.352135646965559\n",
      "  (1091, 1)\t1.0\n",
      "  (1091, 6)\t3.4777752742732244\n",
      "  (1092, 2)\t1.0\n",
      "  (1092, 6)\t4.058909869016852\n",
      "  (1093, 3)\t1.0\n",
      "  (1093, 6)\t5.178157490849308\n",
      "  (1094, 4)\t1.0\n",
      "  (1094, 6)\t6.1331419942129095\n",
      "  (1095, 5)\t1.0\n",
      "  (1095, 6)\t0.40370926360005743\n",
      "<class 'scipy.sparse._csr.csr_matrix'>\n",
      "(1096, 7)\n",
      "['encoder__dayofweek_1' 'encoder__dayofweek_2' 'encoder__dayofweek_3'\n",
      " 'encoder__dayofweek_4' 'encoder__dayofweek_5' 'encoder__dayofweek_6'\n",
      " 'remainder__lag1']\n"
     ]
    }
   ],
   "source": [
    "ohe = ColumnTransformer(\n",
    "    transformers = [\n",
    "        (\"encoder\", OneHotEncoder(drop = \"first\"), [\"dayofweek\"]),\n",
    "    ],\n",
    "    remainder = \"passthrough\",  # lag1\n",
    ")\n",
    "X_transformed = ohe.fit_transform(X)\n",
    "print(X_transformed)\n",
    "print(type(X_transformed))\n",
    "print(X_transformed.shape)\n",
    "print(ohe.get_feature_names_out())"
   ]
  },
  {
   "cell_type": "markdown",
   "id": "f30b7cb7-4720-4e49-b998-6be23ff7039b",
   "metadata": {},
   "source": [
    "# training"
   ]
  },
  {
   "cell_type": "code",
   "execution_count": 6,
   "id": "666a5868-5b36-4a2b-8a94-d4cc645c2314",
   "metadata": {},
   "outputs": [
    {
     "data": {
      "text/plain": [
       "MLForecast(models=[ohe-lr], freq=D, lag_features=['lag1'], date_features=['dayofweek'], num_threads=1)"
      ]
     },
     "execution_count": 6,
     "metadata": {},
     "output_type": "execute_result"
    }
   ],
   "source": [
    "# one-hot encoding\n",
    "ohe = ColumnTransformer(\n",
    "    transformers = [\n",
    "        (\"encoder\", OneHotEncoder(drop = \"first\"), [\"dayofweek\"]),\n",
    "    ],\n",
    "    remainder = \"passthrough\",  # lag1\n",
    ")\n",
    "\n",
    "# feature transform and model pipeline\n",
    "model = make_pipeline(\n",
    "    ohe, \n",
    "    LinearRegression()\n",
    ")\n",
    "\n",
    "# model\n",
    "fcst = MLForecast(\n",
    "    models = {\"ohe-lr\": model},\n",
    "    freq = \"D\",\n",
    "    lags = [1],\n",
    "    date_features = [\"dayofweek\"],\n",
    ")\n",
    "\n",
    "# model training\n",
    "fcst.fit(series)"
   ]
  },
  {
   "cell_type": "markdown",
   "id": "49ba18e1-7f0e-4dc7-a500-3204b1c9dd7b",
   "metadata": {},
   "source": [
    "# forecasting"
   ]
  },
  {
   "cell_type": "code",
   "execution_count": 7,
   "id": "a895110e-bdbf-4000-8386-07a660c2ccc5",
   "metadata": {},
   "outputs": [
    {
     "data": {
      "text/html": [
       "<div>\n",
       "<style scoped>\n",
       "    .dataframe tbody tr th:only-of-type {\n",
       "        vertical-align: middle;\n",
       "    }\n",
       "\n",
       "    .dataframe tbody tr th {\n",
       "        vertical-align: top;\n",
       "    }\n",
       "\n",
       "    .dataframe thead th {\n",
       "        text-align: right;\n",
       "    }\n",
       "</style>\n",
       "<table border=\"1\" class=\"dataframe\">\n",
       "  <thead>\n",
       "    <tr style=\"text-align: right;\">\n",
       "      <th></th>\n",
       "      <th>unique_id</th>\n",
       "      <th>ds</th>\n",
       "      <th>ohe-lr</th>\n",
       "    </tr>\n",
       "  </thead>\n",
       "  <tbody>\n",
       "    <tr>\n",
       "      <th>0</th>\n",
       "      <td>id_0</td>\n",
       "      <td>2000-08-10</td>\n",
       "      <td>4.312748</td>\n",
       "    </tr>\n",
       "    <tr>\n",
       "      <th>1</th>\n",
       "      <td>id_1</td>\n",
       "      <td>2000-04-07</td>\n",
       "      <td>4.537019</td>\n",
       "    </tr>\n",
       "    <tr>\n",
       "      <th>2</th>\n",
       "      <td>id_2</td>\n",
       "      <td>2000-06-16</td>\n",
       "      <td>4.160505</td>\n",
       "    </tr>\n",
       "    <tr>\n",
       "      <th>3</th>\n",
       "      <td>id_3</td>\n",
       "      <td>2000-08-30</td>\n",
       "      <td>3.777040</td>\n",
       "    </tr>\n",
       "    <tr>\n",
       "      <th>4</th>\n",
       "      <td>id_4</td>\n",
       "      <td>2001-01-08</td>\n",
       "      <td>2.676933</td>\n",
       "    </tr>\n",
       "  </tbody>\n",
       "</table>\n",
       "</div>"
      ],
      "text/plain": [
       "  unique_id         ds    ohe-lr\n",
       "0      id_0 2000-08-10  4.312748\n",
       "1      id_1 2000-04-07  4.537019\n",
       "2      id_2 2000-06-16  4.160505\n",
       "3      id_3 2000-08-30  3.777040\n",
       "4      id_4 2001-01-08  2.676933"
      ]
     },
     "execution_count": 7,
     "metadata": {},
     "output_type": "execute_result"
    }
   ],
   "source": [
    "fcst.predict(h = 1)"
   ]
  }
 ],
 "metadata": {
  "kernelspec": {
   "display_name": "Python 3 (ipykernel)",
   "language": "python",
   "name": "python3"
  },
  "language_info": {
   "codemirror_mode": {
    "name": "ipython",
    "version": 3
   },
   "file_extension": ".py",
   "mimetype": "text/x-python",
   "name": "python",
   "nbconvert_exporter": "python",
   "pygments_lexer": "ipython3",
   "version": "3.8.19"
  }
 },
 "nbformat": 4,
 "nbformat_minor": 5
}
