{
 "cells": [
  {
   "cell_type": "code",
   "execution_count": 1,
   "id": "093700ad-46d4-497a-b91a-7626b9ec7445",
   "metadata": {},
   "outputs": [],
   "source": [
    "# tools\n",
    "import pandas as pd\n",
    "import matplotlib.pyplot as plt\n",
    "\n",
    "# data\n",
    "from neuralforecast.utils import AirPassengersDF\n",
    "\n",
    "# forecast\n",
    "from neuralforecast import NeuralForecast\n",
    "\n",
    "# models\n",
    "from neuralforecast.models import NHITS\n",
    "\n",
    "import warnings\n",
    "warnings.filterwarnings(\"ignore\")"
   ]
  },
  {
   "cell_type": "markdown",
   "id": "c0530fa7-93d1-45d9-8a1e-9e3e6c5f09e8",
   "metadata": {},
   "source": [
    "# data"
   ]
  },
  {
   "cell_type": "code",
   "execution_count": 2,
   "id": "f4d52a0c-1990-4313-9d12-5d03f330d56e",
   "metadata": {},
   "outputs": [
    {
     "name": "stdout",
     "output_type": "stream",
     "text": [
      "   unique_id         ds      y\n",
      "0        1.0 1949-01-31  112.0\n",
      "1        1.0 1949-02-28  118.0\n",
      "2        1.0 1949-03-31  132.0\n",
      "3        1.0 1949-04-30  129.0\n",
      "4        1.0 1949-05-31  121.0 \n",
      "\n",
      "     unique_id         ds      y\n",
      "139        1.0 1960-08-31  606.0\n",
      "140        1.0 1960-09-30  508.0\n",
      "141        1.0 1960-10-31  461.0\n",
      "142        1.0 1960-11-30  390.0\n",
      "143        1.0 1960-12-31  432.0 \n",
      "\n",
      "(144, 3) \n",
      "\n",
      "unique_id\n",
      "1.0    144\n",
      "Name: count, dtype: int64\n"
     ]
    }
   ],
   "source": [
    "Y_df = AirPassengersDF\n",
    "print(Y_df.head(), \"\\n\")\n",
    "print(Y_df.tail(), \"\\n\")\n",
    "print(Y_df.shape, \"\\n\")\n",
    "print(Y_df[\"unique_id\"].value_counts())"
   ]
  },
  {
   "cell_type": "markdown",
   "id": "f45d8ff0-c5b8-443f-84d5-39908932775d",
   "metadata": {},
   "source": [
    "# model training"
   ]
  },
  {
   "cell_type": "code",
   "execution_count": 3,
   "id": "333c7e0a-fa3d-4857-b9be-f99de14e36ba",
   "metadata": {},
   "outputs": [
    {
     "name": "stderr",
     "output_type": "stream",
     "text": [
      "Global seed set to 1\n",
      "GPU available: True (cuda), used: True\n",
      "TPU available: False, using: 0 TPU cores\n",
      "IPU available: False, using: 0 IPUs\n",
      "HPU available: False, using: 0 HPUs\n",
      "You are using a CUDA device ('NVIDIA GeForce RTX 4070') that has Tensor Cores. To properly utilize them, you should set `torch.set_float32_matmul_precision('medium' | 'high')` which will trade-off precision for performance. For more details, read https://pytorch.org/docs/stable/generated/torch.set_float32_matmul_precision.html#torch.set_float32_matmul_precision\n",
      "LOCAL_RANK: 0 - CUDA_VISIBLE_DEVICES: [0]\n",
      "\n",
      "  | Name         | Type          | Params\n",
      "-----------------------------------------------\n",
      "0 | loss         | MAE           | 0     \n",
      "1 | padder_train | ConstantPad1d | 0     \n",
      "2 | scaler       | TemporalNorm  | 0     \n",
      "3 | blocks       | ModuleList    | 9.6 M \n",
      "-----------------------------------------------\n",
      "9.6 M     Trainable params\n",
      "0         Non-trainable params\n",
      "9.6 M     Total params\n",
      "38.413    Total estimated model params size (MB)\n"
     ]
    },
    {
     "data": {
      "application/vnd.jupyter.widget-view+json": {
       "model_id": "",
       "version_major": 2,
       "version_minor": 0
      },
      "text/plain": [
       "Sanity Checking: 0it [00:00, ?it/s]"
      ]
     },
     "metadata": {},
     "output_type": "display_data"
    },
    {
     "data": {
      "application/vnd.jupyter.widget-view+json": {
       "model_id": "23eec6112ac841fea3ca77cf557d56ce",
       "version_major": 2,
       "version_minor": 0
      },
      "text/plain": [
       "Training: 0it [00:00, ?it/s]"
      ]
     },
     "metadata": {},
     "output_type": "display_data"
    },
    {
     "data": {
      "application/vnd.jupyter.widget-view+json": {
       "model_id": "",
       "version_major": 2,
       "version_minor": 0
      },
      "text/plain": [
       "Validation: 0it [00:00, ?it/s]"
      ]
     },
     "metadata": {},
     "output_type": "display_data"
    },
    {
     "data": {
      "application/vnd.jupyter.widget-view+json": {
       "model_id": "",
       "version_major": 2,
       "version_minor": 0
      },
      "text/plain": [
       "Validation: 0it [00:00, ?it/s]"
      ]
     },
     "metadata": {},
     "output_type": "display_data"
    },
    {
     "data": {
      "application/vnd.jupyter.widget-view+json": {
       "model_id": "",
       "version_major": 2,
       "version_minor": 0
      },
      "text/plain": [
       "Validation: 0it [00:00, ?it/s]"
      ]
     },
     "metadata": {},
     "output_type": "display_data"
    },
    {
     "data": {
      "application/vnd.jupyter.widget-view+json": {
       "model_id": "",
       "version_major": 2,
       "version_minor": 0
      },
      "text/plain": [
       "Validation: 0it [00:00, ?it/s]"
      ]
     },
     "metadata": {},
     "output_type": "display_data"
    },
    {
     "data": {
      "application/vnd.jupyter.widget-view+json": {
       "model_id": "",
       "version_major": 2,
       "version_minor": 0
      },
      "text/plain": [
       "Validation: 0it [00:00, ?it/s]"
      ]
     },
     "metadata": {},
     "output_type": "display_data"
    },
    {
     "data": {
      "application/vnd.jupyter.widget-view+json": {
       "model_id": "",
       "version_major": 2,
       "version_minor": 0
      },
      "text/plain": [
       "Validation: 0it [00:00, ?it/s]"
      ]
     },
     "metadata": {},
     "output_type": "display_data"
    },
    {
     "data": {
      "application/vnd.jupyter.widget-view+json": {
       "model_id": "",
       "version_major": 2,
       "version_minor": 0
      },
      "text/plain": [
       "Validation: 0it [00:00, ?it/s]"
      ]
     },
     "metadata": {},
     "output_type": "display_data"
    },
    {
     "data": {
      "application/vnd.jupyter.widget-view+json": {
       "model_id": "",
       "version_major": 2,
       "version_minor": 0
      },
      "text/plain": [
       "Validation: 0it [00:00, ?it/s]"
      ]
     },
     "metadata": {},
     "output_type": "display_data"
    },
    {
     "data": {
      "application/vnd.jupyter.widget-view+json": {
       "model_id": "",
       "version_major": 2,
       "version_minor": 0
      },
      "text/plain": [
       "Validation: 0it [00:00, ?it/s]"
      ]
     },
     "metadata": {},
     "output_type": "display_data"
    },
    {
     "data": {
      "application/vnd.jupyter.widget-view+json": {
       "model_id": "",
       "version_major": 2,
       "version_minor": 0
      },
      "text/plain": [
       "Validation: 0it [00:00, ?it/s]"
      ]
     },
     "metadata": {},
     "output_type": "display_data"
    },
    {
     "name": "stderr",
     "output_type": "stream",
     "text": [
      "`Trainer.fit` stopped: `max_steps=1000` reached.\n"
     ]
    }
   ],
   "source": [
    "horizon = 12\n",
    "nf = NeuralForecast(\n",
    "    models = [\n",
    "        NHITS(\n",
    "            h = horizon,\n",
    "            input_size = 2 * horizon,\n",
    "            max_steps = 1000,\n",
    "            n_freq_downsample = [2, 1, 1],\n",
    "            mlp_units = 3 * [[1024, 1024]],\n",
    "        )\n",
    "    ],\n",
    "    freq = \"M\",\n",
    ")\n",
    "nf.fit(df = Y_df, val_size = horizon)"
   ]
  },
  {
   "cell_type": "markdown",
   "id": "62328892-32fb-4ae8-a7d1-c1127ce1da67",
   "metadata": {},
   "source": [
    "# model predicting"
   ]
  },
  {
   "cell_type": "code",
   "execution_count": 4,
   "id": "a6a836cf-9f27-4e1d-b621-72e1916d7e7f",
   "metadata": {},
   "outputs": [
    {
     "name": "stderr",
     "output_type": "stream",
     "text": [
      "GPU available: True (cuda), used: True\n",
      "TPU available: False, using: 0 TPU cores\n",
      "IPU available: False, using: 0 IPUs\n",
      "HPU available: False, using: 0 HPUs\n",
      "You are using a CUDA device ('NVIDIA GeForce RTX 4070') that has Tensor Cores. To properly utilize them, you should set `torch.set_float32_matmul_precision('medium' | 'high')` which will trade-off precision for performance. For more details, read https://pytorch.org/docs/stable/generated/torch.set_float32_matmul_precision.html#torch.set_float32_matmul_precision\n",
      "LOCAL_RANK: 0 - CUDA_VISIBLE_DEVICES: [0]\n"
     ]
    },
    {
     "data": {
      "application/vnd.jupyter.widget-view+json": {
       "model_id": "d9878bd49d3245929e275dfed7c7454a",
       "version_major": 2,
       "version_minor": 0
      },
      "text/plain": [
       "Predicting: 0it [00:00, ?it/s]"
      ]
     },
     "metadata": {},
     "output_type": "display_data"
    },
    {
     "name": "stdout",
     "output_type": "stream",
     "text": [
      "                  ds     cutoff       NHITS      y\n",
      "unique_id                                         \n",
      "1.0       1949-01-31 1948-12-31    0.172645  112.0\n",
      "1.0       1949-02-28 1948-12-31    0.254529  118.0\n",
      "1.0       1949-03-31 1948-12-31    0.271205  132.0\n",
      "1.0       1949-04-30 1948-12-31    0.425967  129.0\n",
      "1.0       1949-05-31 1948-12-31    0.504878  121.0\n",
      "1.0       1949-06-30 1948-12-31    0.362378  135.0\n",
      "1.0       1949-07-31 1948-12-31    0.592494  148.0\n",
      "1.0       1949-08-31 1948-12-31    0.612901  148.0\n",
      "1.0       1949-09-30 1948-12-31    0.822346  136.0\n",
      "1.0       1949-10-31 1948-12-31    0.886277  119.0\n",
      "1.0       1949-11-30 1948-12-31    0.773343  104.0\n",
      "1.0       1949-12-31 1948-12-31    0.773657  118.0\n",
      "1.0       1950-01-31 1949-12-31  121.938606  115.0\n",
      "1.0       1950-02-28 1949-12-31  123.674934  126.0\n",
      "1.0       1950-03-31 1949-12-31  132.974060  141.0\n",
      "1.0       1950-04-30 1949-12-31  136.778397  135.0\n",
      "1.0       1950-05-31 1949-12-31  136.814301  125.0\n",
      "1.0       1950-06-30 1949-12-31  137.873535  149.0\n",
      "1.0       1950-07-31 1949-12-31  140.162888  170.0\n",
      "1.0       1950-08-31 1949-12-31  128.724182  170.0\n",
      "1.0       1950-09-30 1949-12-31  132.045029  158.0\n",
      "1.0       1950-10-31 1949-12-31  131.142578  133.0\n",
      "1.0       1950-11-30 1949-12-31  136.114777  114.0\n",
      "1.0       1950-12-31 1949-12-31  151.591293  140.0\n",
      "1.0       1951-01-31 1950-12-31  145.146561  145.0\n",
      "1.0       1951-02-28 1950-12-31  147.420441  150.0\n",
      "1.0       1951-03-31 1950-12-31  177.325806  178.0\n",
      "1.0       1951-04-30 1950-12-31  164.804337  163.0\n",
      "1.0       1951-05-31 1950-12-31  172.093079  172.0\n",
      "1.0       1951-06-30 1950-12-31  178.162918  178.0\n",
      "1.0       1951-07-31 1950-12-31  199.276093  199.0\n",
      "1.0       1951-08-31 1950-12-31  198.969269  199.0\n",
      "1.0       1951-09-30 1950-12-31  184.248352  184.0\n",
      "1.0       1951-10-31 1950-12-31  161.340317  162.0\n",
      "1.0       1951-11-30 1950-12-31  146.047760  146.0\n",
      "1.0       1951-12-31 1950-12-31  165.327530  166.0\n",
      "1.0       1952-01-31 1951-12-31  171.160645  171.0\n",
      "1.0       1952-02-29 1951-12-31  174.809769  180.0\n",
      "1.0       1952-03-31 1951-12-31  192.397995  193.0\n",
      "1.0       1952-04-30 1951-12-31  181.051132  181.0\n",
      "1.0       1952-05-31 1951-12-31  182.914627  183.0\n",
      "1.0       1952-06-30 1951-12-31  218.112762  218.0\n",
      "1.0       1952-07-31 1951-12-31  230.221130  230.0\n",
      "1.0       1952-08-31 1951-12-31  242.095673  242.0\n",
      "1.0       1952-09-30 1951-12-31  209.364166  209.0\n",
      "1.0       1952-10-31 1951-12-31  190.831635  191.0\n",
      "1.0       1952-11-30 1951-12-31  172.723145  172.0\n",
      "1.0       1952-12-31 1951-12-31  194.408920  194.0\n",
      "1.0       1953-01-31 1952-12-31  196.025269  196.0\n",
      "1.0       1953-02-28 1952-12-31  195.954147  196.0\n",
      "1.0       1953-03-31 1952-12-31  235.817551  236.0\n",
      "1.0       1953-04-30 1952-12-31  229.645462  235.0\n",
      "1.0       1953-05-31 1952-12-31  229.184998  229.0\n",
      "1.0       1953-06-30 1952-12-31  243.092148  243.0\n",
      "1.0       1953-07-31 1952-12-31  264.094086  264.0\n",
      "1.0       1953-08-31 1952-12-31  272.588013  272.0\n",
      "1.0       1953-09-30 1952-12-31  236.918152  237.0\n",
      "1.0       1953-10-31 1952-12-31  210.769150  211.0\n",
      "1.0       1953-11-30 1952-12-31  180.168182  180.0\n",
      "1.0       1953-12-31 1952-12-31  202.076462  201.0\n",
      "1.0       1954-01-31 1953-12-31  204.390656  204.0\n",
      "1.0       1954-02-28 1953-12-31  187.518738  188.0\n",
      "1.0       1954-03-31 1953-12-31  235.115906  235.0\n",
      "1.0       1954-04-30 1953-12-31  226.691925  227.0\n",
      "1.0       1954-05-31 1953-12-31  234.304749  234.0\n",
      "1.0       1954-06-30 1953-12-31  264.258026  264.0\n",
      "1.0       1954-07-31 1953-12-31  302.140015  302.0\n",
      "1.0       1954-08-31 1953-12-31  293.769012  293.0\n",
      "1.0       1954-09-30 1953-12-31  258.809235  259.0\n",
      "1.0       1954-10-31 1953-12-31  229.087585  229.0\n",
      "1.0       1954-11-30 1953-12-31  203.215622  203.0\n",
      "1.0       1954-12-31 1953-12-31  229.016876  229.0\n",
      "1.0       1955-01-31 1954-12-31  242.200439  242.0\n",
      "1.0       1955-02-28 1954-12-31  232.379013  233.0\n",
      "1.0       1955-03-31 1954-12-31  266.761505  267.0\n",
      "1.0       1955-04-30 1954-12-31  268.816223  269.0\n",
      "1.0       1955-05-31 1954-12-31  269.597382  270.0\n",
      "1.0       1955-06-30 1954-12-31  314.603729  315.0\n",
      "1.0       1955-07-31 1954-12-31  364.143616  364.0\n",
      "1.0       1955-08-31 1954-12-31  347.722473  347.0\n",
      "1.0       1955-09-30 1954-12-31  311.247314  312.0\n",
      "1.0       1955-10-31 1954-12-31  273.314392  274.0\n",
      "1.0       1955-11-30 1954-12-31  237.183975  237.0\n",
      "1.0       1955-12-31 1954-12-31  278.040527  278.0\n",
      "1.0       1956-01-31 1955-12-31  284.283417  284.0\n",
      "1.0       1956-02-29 1955-12-31  276.676514  277.0\n",
      "1.0       1956-03-31 1955-12-31  316.375671  317.0\n",
      "1.0       1956-04-30 1955-12-31  312.839478  313.0\n",
      "1.0       1956-05-31 1955-12-31  318.319000  318.0\n",
      "1.0       1956-06-30 1955-12-31  374.421600  374.0\n",
      "1.0       1956-07-31 1955-12-31  413.102325  413.0\n",
      "1.0       1956-08-31 1955-12-31  405.317078  405.0\n",
      "1.0       1956-09-30 1955-12-31  355.537170  355.0\n",
      "1.0       1956-10-31 1955-12-31  305.935303  306.0\n",
      "1.0       1956-11-30 1955-12-31  272.016571  271.0\n",
      "1.0       1956-12-31 1955-12-31  306.476990  306.0\n",
      "1.0       1957-01-31 1956-12-31  315.006195  315.0\n",
      "1.0       1957-02-28 1956-12-31  300.116547  301.0\n",
      "1.0       1957-03-31 1956-12-31  355.159149  356.0\n",
      "1.0       1957-04-30 1956-12-31  348.541779  348.0\n",
      "1.0       1957-05-31 1956-12-31  354.884827  355.0\n",
      "1.0       1957-06-30 1956-12-31  421.495605  422.0\n",
      "1.0       1957-07-31 1956-12-31  465.607147  465.0\n",
      "1.0       1957-08-31 1956-12-31  467.934814  467.0\n",
      "1.0       1957-09-30 1956-12-31  403.735443  404.0\n",
      "1.0       1957-10-31 1956-12-31  346.857910  347.0\n",
      "1.0       1957-11-30 1956-12-31  305.758667  305.0\n",
      "1.0       1957-12-31 1956-12-31  337.038361  336.0\n",
      "1.0       1958-01-31 1957-12-31  340.974243  340.0\n",
      "1.0       1958-02-28 1957-12-31  317.390656  318.0\n",
      "1.0       1958-03-31 1957-12-31  361.955444  362.0\n",
      "1.0       1958-04-30 1957-12-31  349.147522  348.0\n",
      "1.0       1958-05-31 1957-12-31  363.016174  363.0\n",
      "1.0       1958-06-30 1957-12-31  434.881073  435.0\n",
      "1.0       1958-07-31 1957-12-31  491.508942  491.0\n",
      "1.0       1958-08-31 1957-12-31  506.305695  505.0\n",
      "1.0       1958-09-30 1957-12-31  403.877838  404.0\n",
      "1.0       1958-10-31 1957-12-31  358.569305  359.0\n",
      "1.0       1958-11-30 1957-12-31  310.439911  310.0\n",
      "1.0       1958-12-31 1957-12-31  336.995361  337.0\n",
      "1.0       1959-01-31 1958-12-31  360.639801  360.0\n",
      "1.0       1959-02-28 1958-12-31  340.945892  342.0\n",
      "1.0       1959-03-31 1958-12-31  405.431030  406.0\n",
      "1.0       1959-04-30 1958-12-31  395.847687  396.0\n",
      "1.0       1959-05-31 1958-12-31  418.608124  420.0\n",
      "1.0       1959-06-30 1958-12-31  471.611267  472.0\n",
      "1.0       1959-07-31 1958-12-31  548.512512  548.0\n",
      "1.0       1959-08-31 1958-12-31  560.243896  559.0\n",
      "1.0       1959-09-30 1958-12-31  462.662415  463.0\n",
      "1.0       1959-10-31 1958-12-31  405.990814  407.0\n",
      "1.0       1959-11-30 1958-12-31  362.244690  362.0\n",
      "1.0       1959-12-31 1958-12-31  405.020813  405.0\n",
      "1.0       1960-01-31 1959-12-31  415.962189  417.0\n",
      "1.0       1960-02-29 1959-12-31  388.161377  391.0\n",
      "1.0       1960-03-31 1959-12-31  438.440857  419.0\n",
      "1.0       1960-04-30 1959-12-31  422.861420  461.0\n",
      "1.0       1960-05-31 1959-12-31  436.236694  472.0\n",
      "1.0       1960-06-30 1959-12-31  523.619934  535.0\n",
      "1.0       1960-07-31 1959-12-31  589.259583  622.0\n",
      "1.0       1960-08-31 1959-12-31  615.851318  606.0\n",
      "1.0       1960-09-30 1959-12-31  496.396912  508.0\n",
      "1.0       1960-10-31 1959-12-31  432.604889  461.0\n",
      "1.0       1960-11-30 1959-12-31  379.929565  390.0\n",
      "1.0       1960-12-31 1959-12-31  410.251862  432.0\n"
     ]
    }
   ],
   "source": [
    "Y_hat_insample = nf.predict_insample(step_size = horizon)\n",
    "with pd.option_context(\"display.max_rows\", None):\n",
    "    print(Y_hat_insample)"
   ]
  },
  {
   "cell_type": "markdown",
   "id": "0bf74035-771f-4ed4-99c9-feee0dc3cecb",
   "metadata": {},
   "source": [
    "# result"
   ]
  },
  {
   "cell_type": "code",
   "execution_count": 5,
   "id": "b0a36ee5-3eba-462a-a163-fe375d51d2f1",
   "metadata": {},
   "outputs": [
    {
     "data": {
      "image/png": "[encoded data removed]",
      "text/plain": [
       "<Figure size 1000x500 with 1 Axes>"
      ]
     },
     "metadata": {},
     "output_type": "display_data"
    }
   ],
   "source": [
    "plt.figure(figsize=(10, 5))\n",
    "plt.plot(Y_hat_insample['ds'], Y_hat_insample['y'], label='True')\n",
    "plt.plot(Y_hat_insample['ds'], Y_hat_insample['NHITS'], label='Forecast', ls = \"--\")\n",
    "plt.axvline(Y_hat_insample['ds'].iloc[-horizon], color='black', linestyle='--', label='Train-Test Split')\n",
    "plt.xlabel('Timestamp [t]')\n",
    "plt.ylabel('Monthly Passengers')\n",
    "plt.legend()\n",
    "plt.tight_layout()\n",
    "plt.grid()"
   ]
  }
 ],
 "metadata": {
  "kernelspec": {
   "display_name": "Python 3 (ipykernel)",
   "language": "python",
   "name": "python3"
  },
  "language_info": {
   "codemirror_mode": {
    "name": "ipython",
    "version": 3
   },
   "file_extension": ".py",
   "mimetype": "text/x-python",
   "name": "python",
   "nbconvert_exporter": "python",
   "pygments_lexer": "ipython3",
   "version": "3.8.19"
  }
 },
 "nbformat": 4,
 "nbformat_minor": 5
}
