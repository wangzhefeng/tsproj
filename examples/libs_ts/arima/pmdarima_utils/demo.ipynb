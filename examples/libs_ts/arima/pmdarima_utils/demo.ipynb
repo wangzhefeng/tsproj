{
 "cells": [
  {
   "cell_type": "code",
   "execution_count": 5,
   "id": "711e5e40-3322-429e-86ea-c3dafa6889fd",
   "metadata": {},
   "outputs": [],
   "source": [
    "import numpy as np\n",
    "\n",
    "import pmdarima as pm\n",
    "from pmdarima.datasets import load_wineind\n",
    "\n",
    "import warnings\n",
    "warnings.filterwarnings(\"ignore\")"
   ]
  },
  {
   "cell_type": "markdown",
   "id": "2195aba2-e053-4373-83a6-f02d30e53b43",
   "metadata": {},
   "source": [
    "# data"
   ]
  },
  {
   "cell_type": "code",
   "execution_count": 6,
   "id": "ff49f93c-4380-4a3c-934d-f80c93c423ab",
   "metadata": {},
   "outputs": [
    {
     "data": {
      "text/plain": [
       "array([15136., 16733., 20016., 17708., 18019., 19227., 22893., 23739.,\n",
       "       21133., 22591., 26786., 29740., 15028., 17977., 20008., 21354.,\n",
       "       19498., 22125., 25817., 28779., 20960., 22254., 27392., 29945.,\n",
       "       16933., 17892., 20533., 23569., 22417., 22084., 26580., 27454.,\n",
       "       24081., 23451., 28991., 31386., 16896., 20045., 23471., 21747.,\n",
       "       25621., 23859., 25500., 30998., 24475., 23145., 29701., 34365.,\n",
       "       17556., 22077., 25702., 22214., 26886., 23191., 27831., 35406.,\n",
       "       23195., 25110., 30009., 36242., 18450., 21845., 26488., 22394.,\n",
       "       28057., 25451., 24872., 33424., 24052., 28449., 33533., 37351.,\n",
       "       19969., 21701., 26249., 24493., 24603., 26485., 30723., 34569.,\n",
       "       26689., 26157., 32064., 38870., 21337., 19419., 23166., 28286.,\n",
       "       24570., 24001., 33151., 24878., 26804., 28967., 33311., 40226.,\n",
       "       20504., 23060., 23562., 27562., 23940., 24584., 34303., 25517.,\n",
       "       23494., 29095., 32903., 34379., 16991., 21109., 23740., 25552.,\n",
       "       21752., 20294., 29009., 25500., 24166., 26960., 31222., 38641.,\n",
       "       14672., 17543., 25453., 32683., 22449., 22316., 27595., 25451.,\n",
       "       25421., 25288., 32568., 35110., 16052., 22146., 21198., 19543.,\n",
       "       22084., 23816., 29961., 26773., 26635., 26972., 30207., 38687.,\n",
       "       16974., 21697., 24179., 23757., 25013., 24019., 30345., 24488.,\n",
       "       25156., 25650., 30923., 37240., 17466., 19463., 24352., 26805.,\n",
       "       25236., 24735., 29356., 31234., 22724., 28496., 32857., 37198.,\n",
       "       13652., 22784., 23565., 26323., 23779., 27549., 29660., 23356.])"
      ]
     },
     "execution_count": 6,
     "metadata": {},
     "output_type": "execute_result"
    }
   ],
   "source": [
    "wineind = load_wineind().astype(np.float64)\n",
    "wineind"
   ]
  },
  {
   "cell_type": "markdown",
   "id": "5630778d-3e5c-43c9-906d-9227048cf259",
   "metadata": {},
   "source": [
    "# 拟合 stepwise auto-ARIMA"
   ]
  },
  {
   "cell_type": "code",
   "execution_count": 11,
   "id": "e6ad68a6-f3f6-4fd7-a02f-c5baa1f60ce1",
   "metadata": {},
   "outputs": [
    {
     "name": "stdout",
     "output_type": "stream",
     "text": [
      "Performing stepwise search to minimize aic\n",
      " ARIMA(1,1,1)(0,0,0)[0] intercept   : AIC=3508.854, Time=0.16 sec\n",
      " ARIMA(0,1,0)(0,0,0)[0] intercept   : AIC=3587.776, Time=0.01 sec\n",
      " ARIMA(1,1,0)(0,0,0)[0] intercept   : AIC=3573.940, Time=0.02 sec\n",
      " ARIMA(0,1,1)(0,0,0)[0] intercept   : AIC=3509.903, Time=0.07 sec\n",
      " ARIMA(0,1,0)(0,0,0)[0]             : AIC=3585.787, Time=0.01 sec\n",
      " ARIMA(2,1,1)(0,0,0)[0] intercept   : AIC=3500.610, Time=0.12 sec\n",
      " ARIMA(2,1,0)(0,0,0)[0] intercept   : AIC=3540.400, Time=0.02 sec\n",
      " ARIMA(3,1,1)(0,0,0)[0] intercept   : AIC=3502.598, Time=0.17 sec\n",
      " ARIMA(2,1,2)(0,0,0)[0] intercept   : AIC=3503.442, Time=0.18 sec\n",
      " ARIMA(1,1,2)(0,0,0)[0] intercept   : AIC=3505.978, Time=0.20 sec\n",
      " ARIMA(3,1,0)(0,0,0)[0] intercept   : AIC=3516.118, Time=0.03 sec\n",
      " ARIMA(3,1,2)(0,0,0)[0] intercept   : AIC=3504.888, Time=0.09 sec\n",
      " ARIMA(2,1,1)(0,0,0)[0]             : AIC=3500.251, Time=0.04 sec\n",
      " ARIMA(1,1,1)(0,0,0)[0]             : AIC=3509.015, Time=0.03 sec\n",
      " ARIMA(2,1,0)(0,0,0)[0]             : AIC=3538.500, Time=0.02 sec\n",
      " ARIMA(3,1,1)(0,0,0)[0]             : AIC=3502.238, Time=0.08 sec\n",
      " ARIMA(2,1,2)(0,0,0)[0]             : AIC=3503.042, Time=0.09 sec\n",
      " ARIMA(1,1,0)(0,0,0)[0]             : AIC=3571.973, Time=0.01 sec\n",
      " ARIMA(1,1,2)(0,0,0)[0]             : AIC=3508.438, Time=0.05 sec\n",
      " ARIMA(3,1,0)(0,0,0)[0]             : AIC=3514.328, Time=0.03 sec\n",
      " ARIMA(3,1,2)(0,0,0)[0]             : AIC=3504.226, Time=0.13 sec\n",
      "\n",
      "Best model:  ARIMA(2,1,1)(0,0,0)[0]          \n",
      "Total fit time: 1.552 seconds\n"
     ]
    }
   ],
   "source": [
    "stepwise_fit = pm.auto_arima(\n",
    "    y = wineind,\n",
    "    start_p = 1,\n",
    "    start_q = 1,\n",
    "    max_p = 3,\n",
    "    max_q = 3,\n",
    "    seasonal = True,\n",
    "    d = 1,\n",
    "    D = 1,\n",
    "    trace = True,\n",
    "    error_action = \"ignore\",\n",
    "    suppress_warnings = True,  # 收敛信息\n",
    "    stepwise= True,\n",
    ")"
   ]
  },
  {
   "cell_type": "markdown",
   "id": "14f1080f-95cf-4347-99e5-da52a910ffc2",
   "metadata": {},
   "source": [
    "# 查看模型信息"
   ]
  },
  {
   "cell_type": "code",
   "execution_count": 12,
   "id": "1a6758ec-1523-4f56-82b5-d36efd5200df",
   "metadata": {},
   "outputs": [
    {
     "name": "stdout",
     "output_type": "stream",
     "text": [
      "\n",
      "System:\n",
      "    python: 3.7.10 (default, Mar  6 2021, 16:49:05)  [Clang 12.0.0 (clang-1200.0.32.29)]\n",
      "executable: /Users/zfwang/.pyenv/versions/ts/bin/python3.7\n",
      "   machine: Darwin-22.3.0-x86_64-i386-64bit\n",
      "\n",
      "Python dependencies:\n",
      "        pip: 22.3.1\n",
      " setuptools: 65.6.3\n",
      "    sklearn: 1.0.2\n",
      "statsmodels: 0.13.2\n",
      "      numpy: 1.21.6\n",
      "      scipy: 1.7.3\n",
      "     Cython: 0.29.30\n",
      "     pandas: 1.3.5\n",
      "     joblib: 1.1.0\n",
      "   pmdarima: 1.8.5\n",
      "None\n"
     ]
    }
   ],
   "source": [
    "print(pm.show_versions())"
   ]
  },
  {
   "cell_type": "code",
   "execution_count": 10,
   "id": "22645826-de76-4dee-8e35-e5dd1ece9ac7",
   "metadata": {},
   "outputs": [
    {
     "name": "stdout",
     "output_type": "stream",
     "text": [
      "                               SARIMAX Results                                \n",
      "==============================================================================\n",
      "Dep. Variable:                      y   No. Observations:                  176\n",
      "Model:               SARIMAX(2, 1, 1)   Log Likelihood               -1746.125\n",
      "Date:                Sun, 12 Mar 2023   AIC                           3500.251\n",
      "Time:                        17:13:32   BIC                           3512.910\n",
      "Sample:                             0   HQIC                          3505.386\n",
      "                                - 176                                         \n",
      "Covariance Type:                  opg                                         \n",
      "==============================================================================\n",
      "                 coef    std err          z      P>|z|      [0.025      0.975]\n",
      "------------------------------------------------------------------------------\n",
      "ar.L1          0.1420      0.109      1.307      0.191      -0.071       0.355\n",
      "ar.L2         -0.2572      0.125     -2.063      0.039      -0.502      -0.013\n",
      "ma.L1         -0.9074      0.052    -17.526      0.000      -1.009      -0.806\n",
      "sigma2      2.912e+07   1.19e-09   2.44e+16      0.000    2.91e+07    2.91e+07\n",
      "===================================================================================\n",
      "Ljung-Box (L1) (Q):                   0.01   Jarque-Bera (JB):                 0.48\n",
      "Prob(Q):                              0.92   Prob(JB):                         0.79\n",
      "Heteroskedasticity (H):               1.37   Skew:                            -0.12\n",
      "Prob(H) (two-sided):                  0.23   Kurtosis:                         2.92\n",
      "===================================================================================\n",
      "\n",
      "Warnings:\n",
      "[1] Covariance matrix calculated using the outer product of gradients (complex-step).\n",
      "[2] Covariance matrix is singular or near-singular, with condition number 2.74e+32. Standard errors may be unstable.\n"
     ]
    }
   ],
   "source": [
    "print(stepwise_fit.summary())"
   ]
  },
  {
   "cell_type": "markdown",
   "id": "1f87ef12-e30e-4e89-9dd7-24ac0ace537d",
   "metadata": {},
   "source": [
    "# 模型序列化"
   ]
  },
  {
   "cell_type": "code",
   "execution_count": 14,
   "id": "3cfba98f-4074-406a-8e3a-ed6ead8c5c4a",
   "metadata": {},
   "outputs": [],
   "source": [
    "import pickle\n",
    "\n",
    "# pickle serialize model\n",
    "with open(\"arima.pkl\", \"wb\") as pkl:\n",
    "    pickle.dump(stepwise_fit, pkl)\n",
    "\n",
    "# pickle load model\n",
    "with open(\"arima.pkl\", \"rb\") as pkl:\n",
    "    pickle_preds = pickle.load(pkl).predict(n_periods = 5)"
   ]
  },
  {
   "cell_type": "code",
   "execution_count": 15,
   "id": "e9e141e8-4433-4459-9fce-1d9c32750645",
   "metadata": {},
   "outputs": [],
   "source": [
    "import joblib\n",
    "\n",
    "# joblib serialize model\n",
    "with open(\"arima.pkl\", \"wb\") as pkl:\n",
    "    joblib.dump(stepwise_fit, pkl)\n",
    "\n",
    "# joblib load model\n",
    "with open(\"arima.pkl\", \"rb\") as pkl:\n",
    "    joblib_preds = joblib.load(pkl).predict(n_periods = 5)"
   ]
  },
  {
   "cell_type": "code",
   "execution_count": 16,
   "id": "b5137e78-fb35-491e-838b-906de1310911",
   "metadata": {},
   "outputs": [
    {
     "data": {
      "text/plain": [
       "True"
      ]
     },
     "execution_count": 16,
     "metadata": {},
     "output_type": "execute_result"
    }
   ],
   "source": [
    "np.allclose(pickle_preds, joblib_preds)"
   ]
  },
  {
   "cell_type": "markdown",
   "id": "0b730e7f-7755-4068-84e5-3e3d1b631f34",
   "metadata": {},
   "source": [
    "# 更新模型"
   ]
  },
  {
   "cell_type": "code",
   "execution_count": 18,
   "id": "e86642d5-baf4-4e5b-be0d-54e74072357b",
   "metadata": {},
   "outputs": [],
   "source": [
    "# data\n",
    "wineind = load_wineind().astype(np.float64)\n",
    "train, test = wineind[:125], wineind[125:]"
   ]
  },
  {
   "cell_type": "code",
   "execution_count": 19,
   "id": "9882eb4c-42d4-4c28-b6c6-bc3e95c5b49b",
   "metadata": {},
   "outputs": [
    {
     "name": "stdout",
     "output_type": "stream",
     "text": [
      "Performing stepwise search to minimize aic\n",
      " ARIMA(1,1,1)(0,0,0)[0] intercept   : AIC=3508.854, Time=0.19 sec\n",
      " ARIMA(0,1,0)(0,0,0)[0] intercept   : AIC=3587.776, Time=0.01 sec\n",
      " ARIMA(1,1,0)(0,0,0)[0] intercept   : AIC=3573.940, Time=0.02 sec\n",
      " ARIMA(0,1,1)(0,0,0)[0] intercept   : AIC=3509.903, Time=0.07 sec\n",
      " ARIMA(0,1,0)(0,0,0)[0]             : AIC=3585.787, Time=0.01 sec\n",
      " ARIMA(2,1,1)(0,0,0)[0] intercept   : AIC=3500.610, Time=0.12 sec\n",
      " ARIMA(2,1,0)(0,0,0)[0] intercept   : AIC=3540.400, Time=0.02 sec\n",
      " ARIMA(3,1,1)(0,0,0)[0] intercept   : AIC=3502.598, Time=0.20 sec\n",
      " ARIMA(2,1,2)(0,0,0)[0] intercept   : AIC=3503.442, Time=0.20 sec\n",
      " ARIMA(1,1,2)(0,0,0)[0] intercept   : AIC=3505.978, Time=0.19 sec\n",
      " ARIMA(3,1,0)(0,0,0)[0] intercept   : AIC=3516.118, Time=0.03 sec\n",
      " ARIMA(3,1,2)(0,0,0)[0] intercept   : AIC=3504.888, Time=0.10 sec\n",
      " ARIMA(2,1,1)(0,0,0)[0]             : AIC=3500.251, Time=0.04 sec\n",
      " ARIMA(1,1,1)(0,0,0)[0]             : AIC=3509.015, Time=0.03 sec\n",
      " ARIMA(2,1,0)(0,0,0)[0]             : AIC=3538.500, Time=0.02 sec\n",
      " ARIMA(3,1,1)(0,0,0)[0]             : AIC=3502.238, Time=0.09 sec\n",
      " ARIMA(2,1,2)(0,0,0)[0]             : AIC=3503.042, Time=0.10 sec\n",
      " ARIMA(1,1,0)(0,0,0)[0]             : AIC=3571.973, Time=0.02 sec\n",
      " ARIMA(1,1,2)(0,0,0)[0]             : AIC=3508.438, Time=0.05 sec\n",
      " ARIMA(3,1,0)(0,0,0)[0]             : AIC=3514.328, Time=0.03 sec\n",
      " ARIMA(3,1,2)(0,0,0)[0]             : AIC=3504.226, Time=0.13 sec\n",
      "\n",
      "Best model:  ARIMA(2,1,1)(0,0,0)[0]          \n",
      "Total fit time: 1.677 seconds\n"
     ]
    }
   ],
   "source": [
    "# 拟合 stepwise auto-ARIMA\n",
    "stepwise_fit = pm.auto_arima(\n",
    "    y = wineind,\n",
    "    start_p = 1,\n",
    "    max_p = 3,\n",
    "    start_q = 1,\n",
    "    max_q = 3,\n",
    "    seasonal = True,\n",
    "    d = 1,\n",
    "    D = 1,\n",
    "    trace = True,\n",
    "    error_action = \"ignore\",\n",
    "    suppress_warnings = True,  # 收敛信息\n",
    "    stepwise = True,\n",
    ")"
   ]
  },
  {
   "cell_type": "code",
   "execution_count": 20,
   "id": "71efbe3a-357f-4189-be61-2d4a811f1761",
   "metadata": {},
   "outputs": [
    {
     "data": {
      "text/plain": [
       "ARIMA(order=(2, 1, 1))"
      ]
     },
     "execution_count": 20,
     "metadata": {},
     "output_type": "execute_result"
    }
   ],
   "source": [
    "# ARIMA model\n",
    "arima = pm.ARIMA(order = (2, 1, 1), seasonal_order = (0, 0, 0, 0))\n",
    "arima.fit(train)"
   ]
  },
  {
   "cell_type": "code",
   "execution_count": 23,
   "id": "de9c65eb-ae90-456e-a322-0e6cc4b7504c",
   "metadata": {},
   "outputs": [],
   "source": [
    "# pickle serialize model\n",
    "with open(\"arima.pkl\", \"wb\") as pkl:\n",
    "    pickle.dump(arima, pkl)\n",
    "\n",
    "# pickle load model\n",
    "with open(\"arima.pkl\", \"rb\") as pkl:\n",
    "    arima = pickle.load(pkl)\n",
    "    pickle_preds = arima.predict(n_periods = 5)"
   ]
  },
  {
   "cell_type": "code",
   "execution_count": 24,
   "id": "f901dda4-dffb-4532-967e-a14057575b4b",
   "metadata": {},
   "outputs": [
    {
     "data": {
      "text/plain": [
       "ARIMA(order=(2, 1, 1))"
      ]
     },
     "execution_count": 24,
     "metadata": {},
     "output_type": "execute_result"
    }
   ],
   "source": [
    "# 更新模型\n",
    "arima.update(test)"
   ]
  },
  {
   "cell_type": "code",
   "execution_count": 25,
   "id": "6e1dd4a7-2d6e-4fa7-96c1-0c67c742dcad",
   "metadata": {},
   "outputs": [],
   "source": [
    "# pickle serialize model\n",
    "with open(\"arima.pkl\", \"wb\") as pkl:\n",
    "    pickle.dump(arima, pkl)"
   ]
  }
 ],
 "metadata": {
  "kernelspec": {
   "display_name": "Python 3 (ipykernel)",
   "language": "python",
   "name": "python3"
  },
  "language_info": {
   "codemirror_mode": {
    "name": "ipython",
    "version": 3
   },
   "file_extension": ".py",
   "mimetype": "text/x-python",
   "name": "python",
   "nbconvert_exporter": "python",
   "pygments_lexer": "ipython3",
   "version": "3.7.10"
  }
 },
 "nbformat": 4,
 "nbformat_minor": 5
}
