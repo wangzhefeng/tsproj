{
 "cells": [
  {
   "cell_type": "code",
   "execution_count": 10,
   "id": "0a8c0d87-03b5-469b-8f55-743aa31977f8",
   "metadata": {},
   "outputs": [],
   "source": [
    "# python libraries\n",
    "import os\n",
    "import sys\n",
    "\n",
    "import pandas as pd\n",
    "\n",
    "from neuralprophet import NeuralProphet\n",
    "from neuralprophet import set_random_seed\n",
    "set_random_seed(0)"
   ]
  },
  {
   "cell_type": "code",
   "execution_count": 11,
   "id": "1172d94e-eb67-4c73-8dd1-caf16a7408ee",
   "metadata": {},
   "outputs": [
    {
     "name": "stdout",
     "output_type": "stream",
     "text": [
      "           ds       y\n",
      "0  2007-12-10  9.5908\n",
      "1  2007-12-11  8.5196\n",
      "2  2007-12-12  8.1837\n",
      "3  2007-12-13  8.0725\n",
      "4  2007-12-14  7.8936\n",
      "(2964, 2)\n"
     ]
    }
   ],
   "source": [
    "# data\n",
    "data_location = \"https://raw.githubusercontent.com/ourownstory/neuralprophet-data/main/datasets/\"\n",
    "df = pd.read_csv(data_location + \"wp_log_peyton_manning.csv\")\n",
    "print(df.head())\n",
    "print(df.shape)"
   ]
  },
  {
   "cell_type": "code",
   "execution_count": 20,
   "id": "2b6e73c9-9355-4a49-803b-ac484809fd25",
   "metadata": {},
   "outputs": [
    {
     "name": "stderr",
     "output_type": "stream",
     "text": [
      "INFO - (NP.df_utils._infer_frequency) - Major frequency D corresponds to 99.966% of the data.\n",
      "INFO - (NP.df_utils._infer_frequency) - Dataframe freq automatically defined as D\n",
      "INFO - (NP.df_utils.return_df_in_original_format) - Returning df with no ID column\n",
      "INFO - (NP.df_utils.return_df_in_original_format) - Returning df with no ID column\n",
      "WARNING - (NP.forecaster.fit) - When Global modeling with local normalization, metrics are displayed in normalized scale.\n",
      "INFO - (NP.df_utils._infer_frequency) - Major frequency D corresponds to 99.958% of the data.\n",
      "INFO - (NP.df_utils._infer_frequency) - Dataframe freq automatically defined as D\n",
      "INFO - (NP.config.init_data_params) - Setting normalization to global as only one dataframe provided for training.\n",
      "INFO - (NP.config.set_auto_batch_epoch) - Auto-set batch_size to 32\n",
      "INFO - (NP.config.set_auto_batch_epoch) - Auto-set epochs to 150\n",
      "WARNING - (NP.config.set_lr_finder_args) - Learning rate finder: The number of batches (75) is too small than the required number for the learning rate finder (234). The results might not be optimal.\n"
     ]
    },
    {
     "data": {
      "application/json": {
       "ascii": false,
       "bar_format": null,
       "colour": null,
       "elapsed": 0.019643306732177734,
       "initial": 0,
       "n": 0,
       "ncols": null,
       "nrows": 26,
       "postfix": null,
       "prefix": "Finding best initial lr",
       "rate": null,
       "total": 234,
       "unit": "it",
       "unit_divisor": 1000,
       "unit_scale": false
      },
      "application/vnd.jupyter.widget-view+json": {
       "model_id": "6ff6819c4b2f431cbf55edd470e0580e",
       "version_major": 2,
       "version_minor": 0
      },
      "text/plain": [
       "Finding best initial lr:   0%|          | 0/234 [00:00<?, ?it/s]"
      ]
     },
     "metadata": {},
     "output_type": "display_data"
    },
    {
     "data": {
      "application/json": {
       "ascii": false,
       "bar_format": null,
       "colour": null,
       "elapsed": 0.019077062606811523,
       "initial": 0,
       "n": 0,
       "ncols": 88,
       "nrows": 26,
       "postfix": null,
       "prefix": "Training",
       "rate": null,
       "total": null,
       "unit": "it",
       "unit_divisor": 1000,
       "unit_scale": false
      },
      "application/vnd.jupyter.widget-view+json": {
       "model_id": "5654860971324fd391e4d49565de1893",
       "version_major": 2,
       "version_minor": 0
      },
      "text/plain": [
       "Training: 0it [00:00, ?it/s]"
      ]
     },
     "metadata": {},
     "output_type": "display_data"
    },
    {
     "data": {
      "application/json": {
       "ascii": false,
       "bar_format": null,
       "colour": null,
       "elapsed": 0.01951909065246582,
       "initial": 0,
       "n": 0,
       "ncols": 88,
       "nrows": 26,
       "postfix": null,
       "prefix": "Validation",
       "rate": null,
       "total": null,
       "unit": "it",
       "unit_divisor": 1000,
       "unit_scale": false
      },
      "application/vnd.jupyter.widget-view+json": {
       "model_id": "",
       "version_major": 2,
       "version_minor": 0
      },
      "text/plain": [
       "Validation: 0it [00:00, ?it/s]"
      ]
     },
     "metadata": {},
     "output_type": "display_data"
    },
    {
     "data": {
      "application/json": {
       "ascii": false,
       "bar_format": null,
       "colour": null,
       "elapsed": 0.019879817962646484,
       "initial": 0,
       "n": 0,
       "ncols": 88,
       "nrows": 26,
       "postfix": null,
       "prefix": "Validation",
       "rate": null,
       "total": null,
       "unit": "it",
       "unit_divisor": 1000,
       "unit_scale": false
      },
      "application/vnd.jupyter.widget-view+json": {
       "model_id": "",
       "version_major": 2,
       "version_minor": 0
      },
      "text/plain": [
       "Validation: 0it [00:00, ?it/s]"
      ]
     },
     "metadata": {},
     "output_type": "display_data"
    },
    {
     "data": {
      "application/json": {
       "ascii": false,
       "bar_format": null,
       "colour": null,
       "elapsed": 0.017369747161865234,
       "initial": 0,
       "n": 0,
       "ncols": 88,
       "nrows": 26,
       "postfix": null,
       "prefix": "Validation",
       "rate": null,
       "total": null,
       "unit": "it",
       "unit_divisor": 1000,
       "unit_scale": false
      },
      "application/vnd.jupyter.widget-view+json": {
       "model_id": "",
       "version_major": 2,
       "version_minor": 0
      },
      "text/plain": [
       "Validation: 0it [00:00, ?it/s]"
      ]
     },
     "metadata": {},
     "output_type": "display_data"
    },
    {
     "data": {
      "application/json": {
       "ascii": false,
       "bar_format": null,
       "colour": null,
       "elapsed": 0.018079042434692383,
       "initial": 0,
       "n": 0,
       "ncols": 88,
       "nrows": 26,
       "postfix": null,
       "prefix": "Validation",
       "rate": null,
       "total": null,
       "unit": "it",
       "unit_divisor": 1000,
       "unit_scale": false
      },
      "application/vnd.jupyter.widget-view+json": {
       "model_id": "",
       "version_major": 2,
       "version_minor": 0
      },
      "text/plain": [
       "Validation: 0it [00:00, ?it/s]"
      ]
     },
     "metadata": {},
     "output_type": "display_data"
    },
    {
     "data": {
      "application/json": {
       "ascii": false,
       "bar_format": null,
       "colour": null,
       "elapsed": 0.0166318416595459,
       "initial": 0,
       "n": 0,
       "ncols": 88,
       "nrows": 26,
       "postfix": null,
       "prefix": "Validation",
       "rate": null,
       "total": null,
       "unit": "it",
       "unit_divisor": 1000,
       "unit_scale": false
      },
      "application/vnd.jupyter.widget-view+json": {
       "model_id": "",
       "version_major": 2,
       "version_minor": 0
      },
      "text/plain": [
       "Validation: 0it [00:00, ?it/s]"
      ]
     },
     "metadata": {},
     "output_type": "display_data"
    },
    {
     "data": {
      "application/json": {
       "ascii": false,
       "bar_format": null,
       "colour": null,
       "elapsed": 0.017660140991210938,
       "initial": 0,
       "n": 0,
       "ncols": 88,
       "nrows": 26,
       "postfix": null,
       "prefix": "Validation",
       "rate": null,
       "total": null,
       "unit": "it",
       "unit_divisor": 1000,
       "unit_scale": false
      },
      "application/vnd.jupyter.widget-view+json": {
       "model_id": "",
       "version_major": 2,
       "version_minor": 0
      },
      "text/plain": [
       "Validation: 0it [00:00, ?it/s]"
      ]
     },
     "metadata": {},
     "output_type": "display_data"
    },
    {
     "data": {
      "application/json": {
       "ascii": false,
       "bar_format": null,
       "colour": null,
       "elapsed": 0.01710200309753418,
       "initial": 0,
       "n": 0,
       "ncols": 88,
       "nrows": 26,
       "postfix": null,
       "prefix": "Validation",
       "rate": null,
       "total": null,
       "unit": "it",
       "unit_divisor": 1000,
       "unit_scale": false
      },
      "application/vnd.jupyter.widget-view+json": {
       "model_id": "",
       "version_major": 2,
       "version_minor": 0
      },
      "text/plain": [
       "Validation: 0it [00:00, ?it/s]"
      ]
     },
     "metadata": {},
     "output_type": "display_data"
    },
    {
     "data": {
      "application/json": {
       "ascii": false,
       "bar_format": null,
       "colour": null,
       "elapsed": 0.018672704696655273,
       "initial": 0,
       "n": 0,
       "ncols": 88,
       "nrows": 26,
       "postfix": null,
       "prefix": "Validation",
       "rate": null,
       "total": null,
       "unit": "it",
       "unit_divisor": 1000,
       "unit_scale": false
      },
      "application/vnd.jupyter.widget-view+json": {
       "model_id": "",
       "version_major": 2,
       "version_minor": 0
      },
      "text/plain": [
       "Validation: 0it [00:00, ?it/s]"
      ]
     },
     "metadata": {},
     "output_type": "display_data"
    },
    {
     "data": {
      "application/json": {
       "ascii": false,
       "bar_format": null,
       "colour": null,
       "elapsed": 0.016672134399414062,
       "initial": 0,
       "n": 0,
       "ncols": 88,
       "nrows": 26,
       "postfix": null,
       "prefix": "Validation",
       "rate": null,
       "total": null,
       "unit": "it",
       "unit_divisor": 1000,
       "unit_scale": false
      },
      "application/vnd.jupyter.widget-view+json": {
       "model_id": "",
       "version_major": 2,
       "version_minor": 0
      },
      "text/plain": [
       "Validation: 0it [00:00, ?it/s]"
      ]
     },
     "metadata": {},
     "output_type": "display_data"
    },
    {
     "data": {
      "application/json": {
       "ascii": false,
       "bar_format": null,
       "colour": null,
       "elapsed": 0.016949892044067383,
       "initial": 0,
       "n": 0,
       "ncols": 88,
       "nrows": 26,
       "postfix": null,
       "prefix": "Validation",
       "rate": null,
       "total": null,
       "unit": "it",
       "unit_divisor": 1000,
       "unit_scale": false
      },
      "application/vnd.jupyter.widget-view+json": {
       "model_id": "",
       "version_major": 2,
       "version_minor": 0
      },
      "text/plain": [
       "Validation: 0it [00:00, ?it/s]"
      ]
     },
     "metadata": {},
     "output_type": "display_data"
    },
    {
     "data": {
      "application/json": {
       "ascii": false,
       "bar_format": null,
       "colour": null,
       "elapsed": 0.017760038375854492,
       "initial": 0,
       "n": 0,
       "ncols": 88,
       "nrows": 26,
       "postfix": null,
       "prefix": "Validation",
       "rate": null,
       "total": null,
       "unit": "it",
       "unit_divisor": 1000,
       "unit_scale": false
      },
      "application/vnd.jupyter.widget-view+json": {
       "model_id": "",
       "version_major": 2,
       "version_minor": 0
      },
      "text/plain": [
       "Validation: 0it [00:00, ?it/s]"
      ]
     },
     "metadata": {},
     "output_type": "display_data"
    },
    {
     "data": {
      "application/json": {
       "ascii": false,
       "bar_format": null,
       "colour": null,
       "elapsed": 0.016573190689086914,
       "initial": 0,
       "n": 0,
       "ncols": 88,
       "nrows": 26,
       "postfix": null,
       "prefix": "Validation",
       "rate": null,
       "total": null,
       "unit": "it",
       "unit_divisor": 1000,
       "unit_scale": false
      },
      "application/vnd.jupyter.widget-view+json": {
       "model_id": "",
       "version_major": 2,
       "version_minor": 0
      },
      "text/plain": [
       "Validation: 0it [00:00, ?it/s]"
      ]
     },
     "metadata": {},
     "output_type": "display_data"
    },
    {
     "data": {
      "application/json": {
       "ascii": false,
       "bar_format": null,
       "colour": null,
       "elapsed": 0.01781296730041504,
       "initial": 0,
       "n": 0,
       "ncols": 88,
       "nrows": 26,
       "postfix": null,
       "prefix": "Validation",
       "rate": null,
       "total": null,
       "unit": "it",
       "unit_divisor": 1000,
       "unit_scale": false
      },
      "application/vnd.jupyter.widget-view+json": {
       "model_id": "",
       "version_major": 2,
       "version_minor": 0
      },
      "text/plain": [
       "Validation: 0it [00:00, ?it/s]"
      ]
     },
     "metadata": {},
     "output_type": "display_data"
    },
    {
     "data": {
      "application/json": {
       "ascii": false,
       "bar_format": null,
       "colour": null,
       "elapsed": 0.02164292335510254,
       "initial": 0,
       "n": 0,
       "ncols": 88,
       "nrows": 26,
       "postfix": null,
       "prefix": "Validation",
       "rate": null,
       "total": null,
       "unit": "it",
       "unit_divisor": 1000,
       "unit_scale": false
      },
      "application/vnd.jupyter.widget-view+json": {
       "model_id": "",
       "version_major": 2,
       "version_minor": 0
      },
      "text/plain": [
       "Validation: 0it [00:00, ?it/s]"
      ]
     },
     "metadata": {},
     "output_type": "display_data"
    },
    {
     "data": {
      "application/json": {
       "ascii": false,
       "bar_format": null,
       "colour": null,
       "elapsed": 0.01869821548461914,
       "initial": 0,
       "n": 0,
       "ncols": 88,
       "nrows": 26,
       "postfix": null,
       "prefix": "Validation",
       "rate": null,
       "total": null,
       "unit": "it",
       "unit_divisor": 1000,
       "unit_scale": false
      },
      "application/vnd.jupyter.widget-view+json": {
       "model_id": "",
       "version_major": 2,
       "version_minor": 0
      },
      "text/plain": [
       "Validation: 0it [00:00, ?it/s]"
      ]
     },
     "metadata": {},
     "output_type": "display_data"
    },
    {
     "data": {
      "application/json": {
       "ascii": false,
       "bar_format": null,
       "colour": null,
       "elapsed": 0.016695022583007812,
       "initial": 0,
       "n": 0,
       "ncols": 88,
       "nrows": 26,
       "postfix": null,
       "prefix": "Validation",
       "rate": null,
       "total": null,
       "unit": "it",
       "unit_divisor": 1000,
       "unit_scale": false
      },
      "application/vnd.jupyter.widget-view+json": {
       "model_id": "",
       "version_major": 2,
       "version_minor": 0
      },
      "text/plain": [
       "Validation: 0it [00:00, ?it/s]"
      ]
     },
     "metadata": {},
     "output_type": "display_data"
    },
    {
     "data": {
      "application/json": {
       "ascii": false,
       "bar_format": null,
       "colour": null,
       "elapsed": 0.01711297035217285,
       "initial": 0,
       "n": 0,
       "ncols": 88,
       "nrows": 26,
       "postfix": null,
       "prefix": "Validation",
       "rate": null,
       "total": null,
       "unit": "it",
       "unit_divisor": 1000,
       "unit_scale": false
      },
      "application/vnd.jupyter.widget-view+json": {
       "model_id": "",
       "version_major": 2,
       "version_minor": 0
      },
      "text/plain": [
       "Validation: 0it [00:00, ?it/s]"
      ]
     },
     "metadata": {},
     "output_type": "display_data"
    },
    {
     "data": {
      "application/json": {
       "ascii": false,
       "bar_format": null,
       "colour": null,
       "elapsed": 0.018075227737426758,
       "initial": 0,
       "n": 0,
       "ncols": 88,
       "nrows": 26,
       "postfix": null,
       "prefix": "Validation",
       "rate": null,
       "total": null,
       "unit": "it",
       "unit_divisor": 1000,
       "unit_scale": false
      },
      "application/vnd.jupyter.widget-view+json": {
       "model_id": "",
       "version_major": 2,
       "version_minor": 0
      },
      "text/plain": [
       "Validation: 0it [00:00, ?it/s]"
      ]
     },
     "metadata": {},
     "output_type": "display_data"
    },
    {
     "data": {
      "application/json": {
       "ascii": false,
       "bar_format": null,
       "colour": null,
       "elapsed": 0.01691603660583496,
       "initial": 0,
       "n": 0,
       "ncols": 88,
       "nrows": 26,
       "postfix": null,
       "prefix": "Validation",
       "rate": null,
       "total": null,
       "unit": "it",
       "unit_divisor": 1000,
       "unit_scale": false
      },
      "application/vnd.jupyter.widget-view+json": {
       "model_id": "",
       "version_major": 2,
       "version_minor": 0
      },
      "text/plain": [
       "Validation: 0it [00:00, ?it/s]"
      ]
     },
     "metadata": {},
     "output_type": "display_data"
    },
    {
     "data": {
      "application/json": {
       "ascii": false,
       "bar_format": null,
       "colour": null,
       "elapsed": 0.01728510856628418,
       "initial": 0,
       "n": 0,
       "ncols": 88,
       "nrows": 26,
       "postfix": null,
       "prefix": "Validation",
       "rate": null,
       "total": null,
       "unit": "it",
       "unit_divisor": 1000,
       "unit_scale": false
      },
      "application/vnd.jupyter.widget-view+json": {
       "model_id": "",
       "version_major": 2,
       "version_minor": 0
      },
      "text/plain": [
       "Validation: 0it [00:00, ?it/s]"
      ]
     },
     "metadata": {},
     "output_type": "display_data"
    },
    {
     "data": {
      "application/json": {
       "ascii": false,
       "bar_format": null,
       "colour": null,
       "elapsed": 0.016811847686767578,
       "initial": 0,
       "n": 0,
       "ncols": 88,
       "nrows": 26,
       "postfix": null,
       "prefix": "Validation",
       "rate": null,
       "total": null,
       "unit": "it",
       "unit_divisor": 1000,
       "unit_scale": false
      },
      "application/vnd.jupyter.widget-view+json": {
       "model_id": "",
       "version_major": 2,
       "version_minor": 0
      },
      "text/plain": [
       "Validation: 0it [00:00, ?it/s]"
      ]
     },
     "metadata": {},
     "output_type": "display_data"
    },
    {
     "data": {
      "application/json": {
       "ascii": false,
       "bar_format": null,
       "colour": null,
       "elapsed": 0.01981496810913086,
       "initial": 0,
       "n": 0,
       "ncols": 88,
       "nrows": 26,
       "postfix": null,
       "prefix": "Validation",
       "rate": null,
       "total": null,
       "unit": "it",
       "unit_divisor": 1000,
       "unit_scale": false
      },
      "application/vnd.jupyter.widget-view+json": {
       "model_id": "",
       "version_major": 2,
       "version_minor": 0
      },
      "text/plain": [
       "Validation: 0it [00:00, ?it/s]"
      ]
     },
     "metadata": {},
     "output_type": "display_data"
    },
    {
     "data": {
      "application/json": {
       "ascii": false,
       "bar_format": null,
       "colour": null,
       "elapsed": 0.017004013061523438,
       "initial": 0,
       "n": 0,
       "ncols": 88,
       "nrows": 26,
       "postfix": null,
       "prefix": "Validation",
       "rate": null,
       "total": null,
       "unit": "it",
       "unit_divisor": 1000,
       "unit_scale": false
      },
      "application/vnd.jupyter.widget-view+json": {
       "model_id": "",
       "version_major": 2,
       "version_minor": 0
      },
      "text/plain": [
       "Validation: 0it [00:00, ?it/s]"
      ]
     },
     "metadata": {},
     "output_type": "display_data"
    },
    {
     "data": {
      "application/json": {
       "ascii": false,
       "bar_format": null,
       "colour": null,
       "elapsed": 0.02303910255432129,
       "initial": 0,
       "n": 0,
       "ncols": 88,
       "nrows": 26,
       "postfix": null,
       "prefix": "Validation",
       "rate": null,
       "total": null,
       "unit": "it",
       "unit_divisor": 1000,
       "unit_scale": false
      },
      "application/vnd.jupyter.widget-view+json": {
       "model_id": "",
       "version_major": 2,
       "version_minor": 0
      },
      "text/plain": [
       "Validation: 0it [00:00, ?it/s]"
      ]
     },
     "metadata": {},
     "output_type": "display_data"
    },
    {
     "data": {
      "application/json": {
       "ascii": false,
       "bar_format": null,
       "colour": null,
       "elapsed": 0.018116235733032227,
       "initial": 0,
       "n": 0,
       "ncols": 88,
       "nrows": 26,
       "postfix": null,
       "prefix": "Validation",
       "rate": null,
       "total": null,
       "unit": "it",
       "unit_divisor": 1000,
       "unit_scale": false
      },
      "application/vnd.jupyter.widget-view+json": {
       "model_id": "",
       "version_major": 2,
       "version_minor": 0
      },
      "text/plain": [
       "Validation: 0it [00:00, ?it/s]"
      ]
     },
     "metadata": {},
     "output_type": "display_data"
    },
    {
     "data": {
      "application/json": {
       "ascii": false,
       "bar_format": null,
       "colour": null,
       "elapsed": 0.018529653549194336,
       "initial": 0,
       "n": 0,
       "ncols": 88,
       "nrows": 26,
       "postfix": null,
       "prefix": "Validation",
       "rate": null,
       "total": null,
       "unit": "it",
       "unit_divisor": 1000,
       "unit_scale": false
      },
      "application/vnd.jupyter.widget-view+json": {
       "model_id": "",
       "version_major": 2,
       "version_minor": 0
      },
      "text/plain": [
       "Validation: 0it [00:00, ?it/s]"
      ]
     },
     "metadata": {},
     "output_type": "display_data"
    },
    {
     "data": {
      "application/json": {
       "ascii": false,
       "bar_format": null,
       "colour": null,
       "elapsed": 0.018764972686767578,
       "initial": 0,
       "n": 0,
       "ncols": 88,
       "nrows": 26,
       "postfix": null,
       "prefix": "Validation",
       "rate": null,
       "total": null,
       "unit": "it",
       "unit_divisor": 1000,
       "unit_scale": false
      },
      "application/vnd.jupyter.widget-view+json": {
       "model_id": "",
       "version_major": 2,
       "version_minor": 0
      },
      "text/plain": [
       "Validation: 0it [00:00, ?it/s]"
      ]
     },
     "metadata": {},
     "output_type": "display_data"
    },
    {
     "data": {
      "application/json": {
       "ascii": false,
       "bar_format": null,
       "colour": null,
       "elapsed": 0.017333984375,
       "initial": 0,
       "n": 0,
       "ncols": 88,
       "nrows": 26,
       "postfix": null,
       "prefix": "Validation",
       "rate": null,
       "total": null,
       "unit": "it",
       "unit_divisor": 1000,
       "unit_scale": false
      },
      "application/vnd.jupyter.widget-view+json": {
       "model_id": "",
       "version_major": 2,
       "version_minor": 0
      },
      "text/plain": [
       "Validation: 0it [00:00, ?it/s]"
      ]
     },
     "metadata": {},
     "output_type": "display_data"
    },
    {
     "data": {
      "application/json": {
       "ascii": false,
       "bar_format": null,
       "colour": null,
       "elapsed": 0.017203807830810547,
       "initial": 0,
       "n": 0,
       "ncols": 88,
       "nrows": 26,
       "postfix": null,
       "prefix": "Validation",
       "rate": null,
       "total": null,
       "unit": "it",
       "unit_divisor": 1000,
       "unit_scale": false
      },
      "application/vnd.jupyter.widget-view+json": {
       "model_id": "",
       "version_major": 2,
       "version_minor": 0
      },
      "text/plain": [
       "Validation: 0it [00:00, ?it/s]"
      ]
     },
     "metadata": {},
     "output_type": "display_data"
    },
    {
     "data": {
      "application/json": {
       "ascii": false,
       "bar_format": null,
       "colour": null,
       "elapsed": 0.0166318416595459,
       "initial": 0,
       "n": 0,
       "ncols": 88,
       "nrows": 26,
       "postfix": null,
       "prefix": "Validation",
       "rate": null,
       "total": null,
       "unit": "it",
       "unit_divisor": 1000,
       "unit_scale": false
      },
      "application/vnd.jupyter.widget-view+json": {
       "model_id": "",
       "version_major": 2,
       "version_minor": 0
      },
      "text/plain": [
       "Validation: 0it [00:00, ?it/s]"
      ]
     },
     "metadata": {},
     "output_type": "display_data"
    },
    {
     "data": {
      "application/json": {
       "ascii": false,
       "bar_format": null,
       "colour": null,
       "elapsed": 0.020115137100219727,
       "initial": 0,
       "n": 0,
       "ncols": 88,
       "nrows": 26,
       "postfix": null,
       "prefix": "Validation",
       "rate": null,
       "total": null,
       "unit": "it",
       "unit_divisor": 1000,
       "unit_scale": false
      },
      "application/vnd.jupyter.widget-view+json": {
       "model_id": "",
       "version_major": 2,
       "version_minor": 0
      },
      "text/plain": [
       "Validation: 0it [00:00, ?it/s]"
      ]
     },
     "metadata": {},
     "output_type": "display_data"
    },
    {
     "data": {
      "application/json": {
       "ascii": false,
       "bar_format": null,
       "colour": null,
       "elapsed": 0.01773381233215332,
       "initial": 0,
       "n": 0,
       "ncols": 88,
       "nrows": 26,
       "postfix": null,
       "prefix": "Validation",
       "rate": null,
       "total": null,
       "unit": "it",
       "unit_divisor": 1000,
       "unit_scale": false
      },
      "application/vnd.jupyter.widget-view+json": {
       "model_id": "",
       "version_major": 2,
       "version_minor": 0
      },
      "text/plain": [
       "Validation: 0it [00:00, ?it/s]"
      ]
     },
     "metadata": {},
     "output_type": "display_data"
    },
    {
     "data": {
      "application/json": {
       "ascii": false,
       "bar_format": null,
       "colour": null,
       "elapsed": 0.017066001892089844,
       "initial": 0,
       "n": 0,
       "ncols": 88,
       "nrows": 26,
       "postfix": null,
       "prefix": "Validation",
       "rate": null,
       "total": null,
       "unit": "it",
       "unit_divisor": 1000,
       "unit_scale": false
      },
      "application/vnd.jupyter.widget-view+json": {
       "model_id": "",
       "version_major": 2,
       "version_minor": 0
      },
      "text/plain": [
       "Validation: 0it [00:00, ?it/s]"
      ]
     },
     "metadata": {},
     "output_type": "display_data"
    },
    {
     "data": {
      "application/json": {
       "ascii": false,
       "bar_format": null,
       "colour": null,
       "elapsed": 0.017389774322509766,
       "initial": 0,
       "n": 0,
       "ncols": 88,
       "nrows": 26,
       "postfix": null,
       "prefix": "Validation",
       "rate": null,
       "total": null,
       "unit": "it",
       "unit_divisor": 1000,
       "unit_scale": false
      },
      "application/vnd.jupyter.widget-view+json": {
       "model_id": "",
       "version_major": 2,
       "version_minor": 0
      },
      "text/plain": [
       "Validation: 0it [00:00, ?it/s]"
      ]
     },
     "metadata": {},
     "output_type": "display_data"
    },
    {
     "data": {
      "application/json": {
       "ascii": false,
       "bar_format": null,
       "colour": null,
       "elapsed": 0.018501758575439453,
       "initial": 0,
       "n": 0,
       "ncols": 88,
       "nrows": 26,
       "postfix": null,
       "prefix": "Validation",
       "rate": null,
       "total": null,
       "unit": "it",
       "unit_divisor": 1000,
       "unit_scale": false
      },
      "application/vnd.jupyter.widget-view+json": {
       "model_id": "",
       "version_major": 2,
       "version_minor": 0
      },
      "text/plain": [
       "Validation: 0it [00:00, ?it/s]"
      ]
     },
     "metadata": {},
     "output_type": "display_data"
    },
    {
     "data": {
      "application/json": {
       "ascii": false,
       "bar_format": null,
       "colour": null,
       "elapsed": 0.01878499984741211,
       "initial": 0,
       "n": 0,
       "ncols": 88,
       "nrows": 26,
       "postfix": null,
       "prefix": "Validation",
       "rate": null,
       "total": null,
       "unit": "it",
       "unit_divisor": 1000,
       "unit_scale": false
      },
      "application/vnd.jupyter.widget-view+json": {
       "model_id": "",
       "version_major": 2,
       "version_minor": 0
      },
      "text/plain": [
       "Validation: 0it [00:00, ?it/s]"
      ]
     },
     "metadata": {},
     "output_type": "display_data"
    },
    {
     "data": {
      "application/json": {
       "ascii": false,
       "bar_format": null,
       "colour": null,
       "elapsed": 0.017486095428466797,
       "initial": 0,
       "n": 0,
       "ncols": 88,
       "nrows": 26,
       "postfix": null,
       "prefix": "Validation",
       "rate": null,
       "total": null,
       "unit": "it",
       "unit_divisor": 1000,
       "unit_scale": false
      },
      "application/vnd.jupyter.widget-view+json": {
       "model_id": "",
       "version_major": 2,
       "version_minor": 0
      },
      "text/plain": [
       "Validation: 0it [00:00, ?it/s]"
      ]
     },
     "metadata": {},
     "output_type": "display_data"
    },
    {
     "data": {
      "application/json": {
       "ascii": false,
       "bar_format": null,
       "colour": null,
       "elapsed": 0.01707911491394043,
       "initial": 0,
       "n": 0,
       "ncols": 88,
       "nrows": 26,
       "postfix": null,
       "prefix": "Validation",
       "rate": null,
       "total": null,
       "unit": "it",
       "unit_divisor": 1000,
       "unit_scale": false
      },
      "application/vnd.jupyter.widget-view+json": {
       "model_id": "",
       "version_major": 2,
       "version_minor": 0
      },
      "text/plain": [
       "Validation: 0it [00:00, ?it/s]"
      ]
     },
     "metadata": {},
     "output_type": "display_data"
    },
    {
     "data": {
      "application/json": {
       "ascii": false,
       "bar_format": null,
       "colour": null,
       "elapsed": 0.02257990837097168,
       "initial": 0,
       "n": 0,
       "ncols": 88,
       "nrows": 26,
       "postfix": null,
       "prefix": "Validation",
       "rate": null,
       "total": null,
       "unit": "it",
       "unit_divisor": 1000,
       "unit_scale": false
      },
      "application/vnd.jupyter.widget-view+json": {
       "model_id": "",
       "version_major": 2,
       "version_minor": 0
      },
      "text/plain": [
       "Validation: 0it [00:00, ?it/s]"
      ]
     },
     "metadata": {},
     "output_type": "display_data"
    },
    {
     "data": {
      "application/json": {
       "ascii": false,
       "bar_format": null,
       "colour": null,
       "elapsed": 0.016723155975341797,
       "initial": 0,
       "n": 0,
       "ncols": 88,
       "nrows": 26,
       "postfix": null,
       "prefix": "Validation",
       "rate": null,
       "total": null,
       "unit": "it",
       "unit_divisor": 1000,
       "unit_scale": false
      },
      "application/vnd.jupyter.widget-view+json": {
       "model_id": "",
       "version_major": 2,
       "version_minor": 0
      },
      "text/plain": [
       "Validation: 0it [00:00, ?it/s]"
      ]
     },
     "metadata": {},
     "output_type": "display_data"
    },
    {
     "data": {
      "application/json": {
       "ascii": false,
       "bar_format": null,
       "colour": null,
       "elapsed": 0.018770933151245117,
       "initial": 0,
       "n": 0,
       "ncols": 88,
       "nrows": 26,
       "postfix": null,
       "prefix": "Validation",
       "rate": null,
       "total": null,
       "unit": "it",
       "unit_divisor": 1000,
       "unit_scale": false
      },
      "application/vnd.jupyter.widget-view+json": {
       "model_id": "",
       "version_major": 2,
       "version_minor": 0
      },
      "text/plain": [
       "Validation: 0it [00:00, ?it/s]"
      ]
     },
     "metadata": {},
     "output_type": "display_data"
    },
    {
     "data": {
      "application/json": {
       "ascii": false,
       "bar_format": null,
       "colour": null,
       "elapsed": 0.018568038940429688,
       "initial": 0,
       "n": 0,
       "ncols": 88,
       "nrows": 26,
       "postfix": null,
       "prefix": "Validation",
       "rate": null,
       "total": null,
       "unit": "it",
       "unit_divisor": 1000,
       "unit_scale": false
      },
      "application/vnd.jupyter.widget-view+json": {
       "model_id": "",
       "version_major": 2,
       "version_minor": 0
      },
      "text/plain": [
       "Validation: 0it [00:00, ?it/s]"
      ]
     },
     "metadata": {},
     "output_type": "display_data"
    },
    {
     "data": {
      "application/json": {
       "ascii": false,
       "bar_format": null,
       "colour": null,
       "elapsed": 0.01875901222229004,
       "initial": 0,
       "n": 0,
       "ncols": 88,
       "nrows": 26,
       "postfix": null,
       "prefix": "Validation",
       "rate": null,
       "total": null,
       "unit": "it",
       "unit_divisor": 1000,
       "unit_scale": false
      },
      "application/vnd.jupyter.widget-view+json": {
       "model_id": "",
       "version_major": 2,
       "version_minor": 0
      },
      "text/plain": [
       "Validation: 0it [00:00, ?it/s]"
      ]
     },
     "metadata": {},
     "output_type": "display_data"
    },
    {
     "data": {
      "application/json": {
       "ascii": false,
       "bar_format": null,
       "colour": null,
       "elapsed": 0.018663883209228516,
       "initial": 0,
       "n": 0,
       "ncols": 88,
       "nrows": 26,
       "postfix": null,
       "prefix": "Validation",
       "rate": null,
       "total": null,
       "unit": "it",
       "unit_divisor": 1000,
       "unit_scale": false
      },
      "application/vnd.jupyter.widget-view+json": {
       "model_id": "",
       "version_major": 2,
       "version_minor": 0
      },
      "text/plain": [
       "Validation: 0it [00:00, ?it/s]"
      ]
     },
     "metadata": {},
     "output_type": "display_data"
    },
    {
     "data": {
      "application/json": {
       "ascii": false,
       "bar_format": null,
       "colour": null,
       "elapsed": 0.01675868034362793,
       "initial": 0,
       "n": 0,
       "ncols": 88,
       "nrows": 26,
       "postfix": null,
       "prefix": "Validation",
       "rate": null,
       "total": null,
       "unit": "it",
       "unit_divisor": 1000,
       "unit_scale": false
      },
      "application/vnd.jupyter.widget-view+json": {
       "model_id": "",
       "version_major": 2,
       "version_minor": 0
      },
      "text/plain": [
       "Validation: 0it [00:00, ?it/s]"
      ]
     },
     "metadata": {},
     "output_type": "display_data"
    },
    {
     "data": {
      "application/json": {
       "ascii": false,
       "bar_format": null,
       "colour": null,
       "elapsed": 0.01699209213256836,
       "initial": 0,
       "n": 0,
       "ncols": 88,
       "nrows": 26,
       "postfix": null,
       "prefix": "Validation",
       "rate": null,
       "total": null,
       "unit": "it",
       "unit_divisor": 1000,
       "unit_scale": false
      },
      "application/vnd.jupyter.widget-view+json": {
       "model_id": "",
       "version_major": 2,
       "version_minor": 0
      },
      "text/plain": [
       "Validation: 0it [00:00, ?it/s]"
      ]
     },
     "metadata": {},
     "output_type": "display_data"
    },
    {
     "data": {
      "application/json": {
       "ascii": false,
       "bar_format": null,
       "colour": null,
       "elapsed": 0.018527984619140625,
       "initial": 0,
       "n": 0,
       "ncols": 88,
       "nrows": 26,
       "postfix": null,
       "prefix": "Validation",
       "rate": null,
       "total": null,
       "unit": "it",
       "unit_divisor": 1000,
       "unit_scale": false
      },
      "application/vnd.jupyter.widget-view+json": {
       "model_id": "",
       "version_major": 2,
       "version_minor": 0
      },
      "text/plain": [
       "Validation: 0it [00:00, ?it/s]"
      ]
     },
     "metadata": {},
     "output_type": "display_data"
    },
    {
     "data": {
      "application/json": {
       "ascii": false,
       "bar_format": null,
       "colour": null,
       "elapsed": 0.018203020095825195,
       "initial": 0,
       "n": 0,
       "ncols": 88,
       "nrows": 26,
       "postfix": null,
       "prefix": "Validation",
       "rate": null,
       "total": null,
       "unit": "it",
       "unit_divisor": 1000,
       "unit_scale": false
      },
      "application/vnd.jupyter.widget-view+json": {
       "model_id": "",
       "version_major": 2,
       "version_minor": 0
      },
      "text/plain": [
       "Validation: 0it [00:00, ?it/s]"
      ]
     },
     "metadata": {},
     "output_type": "display_data"
    },
    {
     "data": {
      "application/json": {
       "ascii": false,
       "bar_format": null,
       "colour": null,
       "elapsed": 0.017232894897460938,
       "initial": 0,
       "n": 0,
       "ncols": 88,
       "nrows": 26,
       "postfix": null,
       "prefix": "Validation",
       "rate": null,
       "total": null,
       "unit": "it",
       "unit_divisor": 1000,
       "unit_scale": false
      },
      "application/vnd.jupyter.widget-view+json": {
       "model_id": "",
       "version_major": 2,
       "version_minor": 0
      },
      "text/plain": [
       "Validation: 0it [00:00, ?it/s]"
      ]
     },
     "metadata": {},
     "output_type": "display_data"
    },
    {
     "data": {
      "application/json": {
       "ascii": false,
       "bar_format": null,
       "colour": null,
       "elapsed": 0.01739501953125,
       "initial": 0,
       "n": 0,
       "ncols": 88,
       "nrows": 26,
       "postfix": null,
       "prefix": "Validation",
       "rate": null,
       "total": null,
       "unit": "it",
       "unit_divisor": 1000,
       "unit_scale": false
      },
      "application/vnd.jupyter.widget-view+json": {
       "model_id": "",
       "version_major": 2,
       "version_minor": 0
      },
      "text/plain": [
       "Validation: 0it [00:00, ?it/s]"
      ]
     },
     "metadata": {},
     "output_type": "display_data"
    },
    {
     "data": {
      "application/json": {
       "ascii": false,
       "bar_format": null,
       "colour": null,
       "elapsed": 0.017042160034179688,
       "initial": 0,
       "n": 0,
       "ncols": 88,
       "nrows": 26,
       "postfix": null,
       "prefix": "Validation",
       "rate": null,
       "total": null,
       "unit": "it",
       "unit_divisor": 1000,
       "unit_scale": false
      },
      "application/vnd.jupyter.widget-view+json": {
       "model_id": "",
       "version_major": 2,
       "version_minor": 0
      },
      "text/plain": [
       "Validation: 0it [00:00, ?it/s]"
      ]
     },
     "metadata": {},
     "output_type": "display_data"
    },
    {
     "data": {
      "application/json": {
       "ascii": false,
       "bar_format": null,
       "colour": null,
       "elapsed": 0.018063068389892578,
       "initial": 0,
       "n": 0,
       "ncols": 88,
       "nrows": 26,
       "postfix": null,
       "prefix": "Validation",
       "rate": null,
       "total": null,
       "unit": "it",
       "unit_divisor": 1000,
       "unit_scale": false
      },
      "application/vnd.jupyter.widget-view+json": {
       "model_id": "",
       "version_major": 2,
       "version_minor": 0
      },
      "text/plain": [
       "Validation: 0it [00:00, ?it/s]"
      ]
     },
     "metadata": {},
     "output_type": "display_data"
    },
    {
     "data": {
      "application/json": {
       "ascii": false,
       "bar_format": null,
       "colour": null,
       "elapsed": 0.018194913864135742,
       "initial": 0,
       "n": 0,
       "ncols": 88,
       "nrows": 26,
       "postfix": null,
       "prefix": "Validation",
       "rate": null,
       "total": null,
       "unit": "it",
       "unit_divisor": 1000,
       "unit_scale": false
      },
      "application/vnd.jupyter.widget-view+json": {
       "model_id": "",
       "version_major": 2,
       "version_minor": 0
      },
      "text/plain": [
       "Validation: 0it [00:00, ?it/s]"
      ]
     },
     "metadata": {},
     "output_type": "display_data"
    },
    {
     "data": {
      "application/json": {
       "ascii": false,
       "bar_format": null,
       "colour": null,
       "elapsed": 0.016482830047607422,
       "initial": 0,
       "n": 0,
       "ncols": 88,
       "nrows": 26,
       "postfix": null,
       "prefix": "Validation",
       "rate": null,
       "total": null,
       "unit": "it",
       "unit_divisor": 1000,
       "unit_scale": false
      },
      "application/vnd.jupyter.widget-view+json": {
       "model_id": "",
       "version_major": 2,
       "version_minor": 0
      },
      "text/plain": [
       "Validation: 0it [00:00, ?it/s]"
      ]
     },
     "metadata": {},
     "output_type": "display_data"
    },
    {
     "data": {
      "application/json": {
       "ascii": false,
       "bar_format": null,
       "colour": null,
       "elapsed": 0.01705002784729004,
       "initial": 0,
       "n": 0,
       "ncols": 88,
       "nrows": 26,
       "postfix": null,
       "prefix": "Validation",
       "rate": null,
       "total": null,
       "unit": "it",
       "unit_divisor": 1000,
       "unit_scale": false
      },
      "application/vnd.jupyter.widget-view+json": {
       "model_id": "",
       "version_major": 2,
       "version_minor": 0
      },
      "text/plain": [
       "Validation: 0it [00:00, ?it/s]"
      ]
     },
     "metadata": {},
     "output_type": "display_data"
    },
    {
     "data": {
      "application/json": {
       "ascii": false,
       "bar_format": null,
       "colour": null,
       "elapsed": 0.01935291290283203,
       "initial": 0,
       "n": 0,
       "ncols": 88,
       "nrows": 26,
       "postfix": null,
       "prefix": "Validation",
       "rate": null,
       "total": null,
       "unit": "it",
       "unit_divisor": 1000,
       "unit_scale": false
      },
      "application/vnd.jupyter.widget-view+json": {
       "model_id": "",
       "version_major": 2,
       "version_minor": 0
      },
      "text/plain": [
       "Validation: 0it [00:00, ?it/s]"
      ]
     },
     "metadata": {},
     "output_type": "display_data"
    },
    {
     "data": {
      "application/json": {
       "ascii": false,
       "bar_format": null,
       "colour": null,
       "elapsed": 0.01648998260498047,
       "initial": 0,
       "n": 0,
       "ncols": 88,
       "nrows": 26,
       "postfix": null,
       "prefix": "Validation",
       "rate": null,
       "total": null,
       "unit": "it",
       "unit_divisor": 1000,
       "unit_scale": false
      },
      "application/vnd.jupyter.widget-view+json": {
       "model_id": "",
       "version_major": 2,
       "version_minor": 0
      },
      "text/plain": [
       "Validation: 0it [00:00, ?it/s]"
      ]
     },
     "metadata": {},
     "output_type": "display_data"
    },
    {
     "data": {
      "application/json": {
       "ascii": false,
       "bar_format": null,
       "colour": null,
       "elapsed": 0.023157119750976562,
       "initial": 0,
       "n": 0,
       "ncols": 88,
       "nrows": 26,
       "postfix": null,
       "prefix": "Validation",
       "rate": null,
       "total": null,
       "unit": "it",
       "unit_divisor": 1000,
       "unit_scale": false
      },
      "application/vnd.jupyter.widget-view+json": {
       "model_id": "",
       "version_major": 2,
       "version_minor": 0
      },
      "text/plain": [
       "Validation: 0it [00:00, ?it/s]"
      ]
     },
     "metadata": {},
     "output_type": "display_data"
    },
    {
     "data": {
      "application/json": {
       "ascii": false,
       "bar_format": null,
       "colour": null,
       "elapsed": 0.017901897430419922,
       "initial": 0,
       "n": 0,
       "ncols": 88,
       "nrows": 26,
       "postfix": null,
       "prefix": "Validation",
       "rate": null,
       "total": null,
       "unit": "it",
       "unit_divisor": 1000,
       "unit_scale": false
      },
      "application/vnd.jupyter.widget-view+json": {
       "model_id": "",
       "version_major": 2,
       "version_minor": 0
      },
      "text/plain": [
       "Validation: 0it [00:00, ?it/s]"
      ]
     },
     "metadata": {},
     "output_type": "display_data"
    },
    {
     "data": {
      "application/json": {
       "ascii": false,
       "bar_format": null,
       "colour": null,
       "elapsed": 0.0191650390625,
       "initial": 0,
       "n": 0,
       "ncols": 88,
       "nrows": 26,
       "postfix": null,
       "prefix": "Validation",
       "rate": null,
       "total": null,
       "unit": "it",
       "unit_divisor": 1000,
       "unit_scale": false
      },
      "application/vnd.jupyter.widget-view+json": {
       "model_id": "",
       "version_major": 2,
       "version_minor": 0
      },
      "text/plain": [
       "Validation: 0it [00:00, ?it/s]"
      ]
     },
     "metadata": {},
     "output_type": "display_data"
    },
    {
     "data": {
      "application/json": {
       "ascii": false,
       "bar_format": null,
       "colour": null,
       "elapsed": 0.01972794532775879,
       "initial": 0,
       "n": 0,
       "ncols": 88,
       "nrows": 26,
       "postfix": null,
       "prefix": "Validation",
       "rate": null,
       "total": null,
       "unit": "it",
       "unit_divisor": 1000,
       "unit_scale": false
      },
      "application/vnd.jupyter.widget-view+json": {
       "model_id": "",
       "version_major": 2,
       "version_minor": 0
      },
      "text/plain": [
       "Validation: 0it [00:00, ?it/s]"
      ]
     },
     "metadata": {},
     "output_type": "display_data"
    },
    {
     "data": {
      "application/json": {
       "ascii": false,
       "bar_format": null,
       "colour": null,
       "elapsed": 0.016885042190551758,
       "initial": 0,
       "n": 0,
       "ncols": 88,
       "nrows": 26,
       "postfix": null,
       "prefix": "Validation",
       "rate": null,
       "total": null,
       "unit": "it",
       "unit_divisor": 1000,
       "unit_scale": false
      },
      "application/vnd.jupyter.widget-view+json": {
       "model_id": "",
       "version_major": 2,
       "version_minor": 0
      },
      "text/plain": [
       "Validation: 0it [00:00, ?it/s]"
      ]
     },
     "metadata": {},
     "output_type": "display_data"
    },
    {
     "data": {
      "application/json": {
       "ascii": false,
       "bar_format": null,
       "colour": null,
       "elapsed": 0.01861882209777832,
       "initial": 0,
       "n": 0,
       "ncols": 88,
       "nrows": 26,
       "postfix": null,
       "prefix": "Validation",
       "rate": null,
       "total": null,
       "unit": "it",
       "unit_divisor": 1000,
       "unit_scale": false
      },
      "application/vnd.jupyter.widget-view+json": {
       "model_id": "",
       "version_major": 2,
       "version_minor": 0
      },
      "text/plain": [
       "Validation: 0it [00:00, ?it/s]"
      ]
     },
     "metadata": {},
     "output_type": "display_data"
    },
    {
     "data": {
      "application/json": {
       "ascii": false,
       "bar_format": null,
       "colour": null,
       "elapsed": 0.016786813735961914,
       "initial": 0,
       "n": 0,
       "ncols": 88,
       "nrows": 26,
       "postfix": null,
       "prefix": "Validation",
       "rate": null,
       "total": null,
       "unit": "it",
       "unit_divisor": 1000,
       "unit_scale": false
      },
      "application/vnd.jupyter.widget-view+json": {
       "model_id": "",
       "version_major": 2,
       "version_minor": 0
      },
      "text/plain": [
       "Validation: 0it [00:00, ?it/s]"
      ]
     },
     "metadata": {},
     "output_type": "display_data"
    },
    {
     "data": {
      "application/json": {
       "ascii": false,
       "bar_format": null,
       "colour": null,
       "elapsed": 0.022311925888061523,
       "initial": 0,
       "n": 0,
       "ncols": 88,
       "nrows": 26,
       "postfix": null,
       "prefix": "Validation",
       "rate": null,
       "total": null,
       "unit": "it",
       "unit_divisor": 1000,
       "unit_scale": false
      },
      "application/vnd.jupyter.widget-view+json": {
       "model_id": "",
       "version_major": 2,
       "version_minor": 0
      },
      "text/plain": [
       "Validation: 0it [00:00, ?it/s]"
      ]
     },
     "metadata": {},
     "output_type": "display_data"
    },
    {
     "data": {
      "application/json": {
       "ascii": false,
       "bar_format": null,
       "colour": null,
       "elapsed": 0.018362045288085938,
       "initial": 0,
       "n": 0,
       "ncols": 88,
       "nrows": 26,
       "postfix": null,
       "prefix": "Validation",
       "rate": null,
       "total": null,
       "unit": "it",
       "unit_divisor": 1000,
       "unit_scale": false
      },
      "application/vnd.jupyter.widget-view+json": {
       "model_id": "",
       "version_major": 2,
       "version_minor": 0
      },
      "text/plain": [
       "Validation: 0it [00:00, ?it/s]"
      ]
     },
     "metadata": {},
     "output_type": "display_data"
    },
    {
     "data": {
      "application/json": {
       "ascii": false,
       "bar_format": null,
       "colour": null,
       "elapsed": 0.01778697967529297,
       "initial": 0,
       "n": 0,
       "ncols": 88,
       "nrows": 26,
       "postfix": null,
       "prefix": "Validation",
       "rate": null,
       "total": null,
       "unit": "it",
       "unit_divisor": 1000,
       "unit_scale": false
      },
      "application/vnd.jupyter.widget-view+json": {
       "model_id": "",
       "version_major": 2,
       "version_minor": 0
      },
      "text/plain": [
       "Validation: 0it [00:00, ?it/s]"
      ]
     },
     "metadata": {},
     "output_type": "display_data"
    },
    {
     "data": {
      "application/json": {
       "ascii": false,
       "bar_format": null,
       "colour": null,
       "elapsed": 0.01783919334411621,
       "initial": 0,
       "n": 0,
       "ncols": 88,
       "nrows": 26,
       "postfix": null,
       "prefix": "Validation",
       "rate": null,
       "total": null,
       "unit": "it",
       "unit_divisor": 1000,
       "unit_scale": false
      },
      "application/vnd.jupyter.widget-view+json": {
       "model_id": "",
       "version_major": 2,
       "version_minor": 0
      },
      "text/plain": [
       "Validation: 0it [00:00, ?it/s]"
      ]
     },
     "metadata": {},
     "output_type": "display_data"
    },
    {
     "data": {
      "application/json": {
       "ascii": false,
       "bar_format": null,
       "colour": null,
       "elapsed": 0.016768932342529297,
       "initial": 0,
       "n": 0,
       "ncols": 88,
       "nrows": 26,
       "postfix": null,
       "prefix": "Validation",
       "rate": null,
       "total": null,
       "unit": "it",
       "unit_divisor": 1000,
       "unit_scale": false
      },
      "application/vnd.jupyter.widget-view+json": {
       "model_id": "",
       "version_major": 2,
       "version_minor": 0
      },
      "text/plain": [
       "Validation: 0it [00:00, ?it/s]"
      ]
     },
     "metadata": {},
     "output_type": "display_data"
    },
    {
     "data": {
      "application/json": {
       "ascii": false,
       "bar_format": null,
       "colour": null,
       "elapsed": 0.018432140350341797,
       "initial": 0,
       "n": 0,
       "ncols": 88,
       "nrows": 26,
       "postfix": null,
       "prefix": "Validation",
       "rate": null,
       "total": null,
       "unit": "it",
       "unit_divisor": 1000,
       "unit_scale": false
      },
      "application/vnd.jupyter.widget-view+json": {
       "model_id": "",
       "version_major": 2,
       "version_minor": 0
      },
      "text/plain": [
       "Validation: 0it [00:00, ?it/s]"
      ]
     },
     "metadata": {},
     "output_type": "display_data"
    },
    {
     "data": {
      "application/json": {
       "ascii": false,
       "bar_format": null,
       "colour": null,
       "elapsed": 0.01736617088317871,
       "initial": 0,
       "n": 0,
       "ncols": 88,
       "nrows": 26,
       "postfix": null,
       "prefix": "Validation",
       "rate": null,
       "total": null,
       "unit": "it",
       "unit_divisor": 1000,
       "unit_scale": false
      },
      "application/vnd.jupyter.widget-view+json": {
       "model_id": "",
       "version_major": 2,
       "version_minor": 0
      },
      "text/plain": [
       "Validation: 0it [00:00, ?it/s]"
      ]
     },
     "metadata": {},
     "output_type": "display_data"
    },
    {
     "data": {
      "application/json": {
       "ascii": false,
       "bar_format": null,
       "colour": null,
       "elapsed": 0.016772985458374023,
       "initial": 0,
       "n": 0,
       "ncols": 88,
       "nrows": 26,
       "postfix": null,
       "prefix": "Validation",
       "rate": null,
       "total": null,
       "unit": "it",
       "unit_divisor": 1000,
       "unit_scale": false
      },
      "application/vnd.jupyter.widget-view+json": {
       "model_id": "",
       "version_major": 2,
       "version_minor": 0
      },
      "text/plain": [
       "Validation: 0it [00:00, ?it/s]"
      ]
     },
     "metadata": {},
     "output_type": "display_data"
    },
    {
     "data": {
      "application/json": {
       "ascii": false,
       "bar_format": null,
       "colour": null,
       "elapsed": 0.017240047454833984,
       "initial": 0,
       "n": 0,
       "ncols": 88,
       "nrows": 26,
       "postfix": null,
       "prefix": "Validation",
       "rate": null,
       "total": null,
       "unit": "it",
       "unit_divisor": 1000,
       "unit_scale": false
      },
      "application/vnd.jupyter.widget-view+json": {
       "model_id": "",
       "version_major": 2,
       "version_minor": 0
      },
      "text/plain": [
       "Validation: 0it [00:00, ?it/s]"
      ]
     },
     "metadata": {},
     "output_type": "display_data"
    },
    {
     "data": {
      "application/json": {
       "ascii": false,
       "bar_format": null,
       "colour": null,
       "elapsed": 0.017579078674316406,
       "initial": 0,
       "n": 0,
       "ncols": 88,
       "nrows": 26,
       "postfix": null,
       "prefix": "Validation",
       "rate": null,
       "total": null,
       "unit": "it",
       "unit_divisor": 1000,
       "unit_scale": false
      },
      "application/vnd.jupyter.widget-view+json": {
       "model_id": "",
       "version_major": 2,
       "version_minor": 0
      },
      "text/plain": [
       "Validation: 0it [00:00, ?it/s]"
      ]
     },
     "metadata": {},
     "output_type": "display_data"
    },
    {
     "data": {
      "application/json": {
       "ascii": false,
       "bar_format": null,
       "colour": null,
       "elapsed": 0.016942739486694336,
       "initial": 0,
       "n": 0,
       "ncols": 88,
       "nrows": 26,
       "postfix": null,
       "prefix": "Validation",
       "rate": null,
       "total": null,
       "unit": "it",
       "unit_divisor": 1000,
       "unit_scale": false
      },
      "application/vnd.jupyter.widget-view+json": {
       "model_id": "",
       "version_major": 2,
       "version_minor": 0
      },
      "text/plain": [
       "Validation: 0it [00:00, ?it/s]"
      ]
     },
     "metadata": {},
     "output_type": "display_data"
    },
    {
     "data": {
      "application/json": {
       "ascii": false,
       "bar_format": null,
       "colour": null,
       "elapsed": 0.018026113510131836,
       "initial": 0,
       "n": 0,
       "ncols": 88,
       "nrows": 26,
       "postfix": null,
       "prefix": "Validation",
       "rate": null,
       "total": null,
       "unit": "it",
       "unit_divisor": 1000,
       "unit_scale": false
      },
      "application/vnd.jupyter.widget-view+json": {
       "model_id": "",
       "version_major": 2,
       "version_minor": 0
      },
      "text/plain": [
       "Validation: 0it [00:00, ?it/s]"
      ]
     },
     "metadata": {},
     "output_type": "display_data"
    },
    {
     "data": {
      "application/json": {
       "ascii": false,
       "bar_format": null,
       "colour": null,
       "elapsed": 0.01700139045715332,
       "initial": 0,
       "n": 0,
       "ncols": 88,
       "nrows": 26,
       "postfix": null,
       "prefix": "Validation",
       "rate": null,
       "total": null,
       "unit": "it",
       "unit_divisor": 1000,
       "unit_scale": false
      },
      "application/vnd.jupyter.widget-view+json": {
       "model_id": "",
       "version_major": 2,
       "version_minor": 0
      },
      "text/plain": [
       "Validation: 0it [00:00, ?it/s]"
      ]
     },
     "metadata": {},
     "output_type": "display_data"
    },
    {
     "data": {
      "application/json": {
       "ascii": false,
       "bar_format": null,
       "colour": null,
       "elapsed": 0.021374940872192383,
       "initial": 0,
       "n": 0,
       "ncols": 88,
       "nrows": 26,
       "postfix": null,
       "prefix": "Validation",
       "rate": null,
       "total": null,
       "unit": "it",
       "unit_divisor": 1000,
       "unit_scale": false
      },
      "application/vnd.jupyter.widget-view+json": {
       "model_id": "",
       "version_major": 2,
       "version_minor": 0
      },
      "text/plain": [
       "Validation: 0it [00:00, ?it/s]"
      ]
     },
     "metadata": {},
     "output_type": "display_data"
    },
    {
     "data": {
      "application/json": {
       "ascii": false,
       "bar_format": null,
       "colour": null,
       "elapsed": 0.017406940460205078,
       "initial": 0,
       "n": 0,
       "ncols": 88,
       "nrows": 26,
       "postfix": null,
       "prefix": "Validation",
       "rate": null,
       "total": null,
       "unit": "it",
       "unit_divisor": 1000,
       "unit_scale": false
      },
      "application/vnd.jupyter.widget-view+json": {
       "model_id": "",
       "version_major": 2,
       "version_minor": 0
      },
      "text/plain": [
       "Validation: 0it [00:00, ?it/s]"
      ]
     },
     "metadata": {},
     "output_type": "display_data"
    },
    {
     "data": {
      "application/json": {
       "ascii": false,
       "bar_format": null,
       "colour": null,
       "elapsed": 0.017340898513793945,
       "initial": 0,
       "n": 0,
       "ncols": 88,
       "nrows": 26,
       "postfix": null,
       "prefix": "Validation",
       "rate": null,
       "total": null,
       "unit": "it",
       "unit_divisor": 1000,
       "unit_scale": false
      },
      "application/vnd.jupyter.widget-view+json": {
       "model_id": "",
       "version_major": 2,
       "version_minor": 0
      },
      "text/plain": [
       "Validation: 0it [00:00, ?it/s]"
      ]
     },
     "metadata": {},
     "output_type": "display_data"
    },
    {
     "data": {
      "application/json": {
       "ascii": false,
       "bar_format": null,
       "colour": null,
       "elapsed": 0.017799854278564453,
       "initial": 0,
       "n": 0,
       "ncols": 88,
       "nrows": 26,
       "postfix": null,
       "prefix": "Validation",
       "rate": null,
       "total": null,
       "unit": "it",
       "unit_divisor": 1000,
       "unit_scale": false
      },
      "application/vnd.jupyter.widget-view+json": {
       "model_id": "",
       "version_major": 2,
       "version_minor": 0
      },
      "text/plain": [
       "Validation: 0it [00:00, ?it/s]"
      ]
     },
     "metadata": {},
     "output_type": "display_data"
    },
    {
     "data": {
      "application/json": {
       "ascii": false,
       "bar_format": null,
       "colour": null,
       "elapsed": 0.016500234603881836,
       "initial": 0,
       "n": 0,
       "ncols": 88,
       "nrows": 26,
       "postfix": null,
       "prefix": "Validation",
       "rate": null,
       "total": null,
       "unit": "it",
       "unit_divisor": 1000,
       "unit_scale": false
      },
      "application/vnd.jupyter.widget-view+json": {
       "model_id": "",
       "version_major": 2,
       "version_minor": 0
      },
      "text/plain": [
       "Validation: 0it [00:00, ?it/s]"
      ]
     },
     "metadata": {},
     "output_type": "display_data"
    },
    {
     "data": {
      "application/json": {
       "ascii": false,
       "bar_format": null,
       "colour": null,
       "elapsed": 0.02778792381286621,
       "initial": 0,
       "n": 0,
       "ncols": 88,
       "nrows": 26,
       "postfix": null,
       "prefix": "Validation",
       "rate": null,
       "total": null,
       "unit": "it",
       "unit_divisor": 1000,
       "unit_scale": false
      },
      "application/vnd.jupyter.widget-view+json": {
       "model_id": "",
       "version_major": 2,
       "version_minor": 0
      },
      "text/plain": [
       "Validation: 0it [00:00, ?it/s]"
      ]
     },
     "metadata": {},
     "output_type": "display_data"
    },
    {
     "data": {
      "application/json": {
       "ascii": false,
       "bar_format": null,
       "colour": null,
       "elapsed": 0.017663955688476562,
       "initial": 0,
       "n": 0,
       "ncols": 88,
       "nrows": 26,
       "postfix": null,
       "prefix": "Validation",
       "rate": null,
       "total": null,
       "unit": "it",
       "unit_divisor": 1000,
       "unit_scale": false
      },
      "application/vnd.jupyter.widget-view+json": {
       "model_id": "",
       "version_major": 2,
       "version_minor": 0
      },
      "text/plain": [
       "Validation: 0it [00:00, ?it/s]"
      ]
     },
     "metadata": {},
     "output_type": "display_data"
    },
    {
     "data": {
      "application/json": {
       "ascii": false,
       "bar_format": null,
       "colour": null,
       "elapsed": 0.016988039016723633,
       "initial": 0,
       "n": 0,
       "ncols": 88,
       "nrows": 26,
       "postfix": null,
       "prefix": "Validation",
       "rate": null,
       "total": null,
       "unit": "it",
       "unit_divisor": 1000,
       "unit_scale": false
      },
      "application/vnd.jupyter.widget-view+json": {
       "model_id": "",
       "version_major": 2,
       "version_minor": 0
      },
      "text/plain": [
       "Validation: 0it [00:00, ?it/s]"
      ]
     },
     "metadata": {},
     "output_type": "display_data"
    },
    {
     "data": {
      "application/json": {
       "ascii": false,
       "bar_format": null,
       "colour": null,
       "elapsed": 0.016968965530395508,
       "initial": 0,
       "n": 0,
       "ncols": 88,
       "nrows": 26,
       "postfix": null,
       "prefix": "Validation",
       "rate": null,
       "total": null,
       "unit": "it",
       "unit_divisor": 1000,
       "unit_scale": false
      },
      "application/vnd.jupyter.widget-view+json": {
       "model_id": "",
       "version_major": 2,
       "version_minor": 0
      },
      "text/plain": [
       "Validation: 0it [00:00, ?it/s]"
      ]
     },
     "metadata": {},
     "output_type": "display_data"
    },
    {
     "data": {
      "application/json": {
       "ascii": false,
       "bar_format": null,
       "colour": null,
       "elapsed": 0.01796412467956543,
       "initial": 0,
       "n": 0,
       "ncols": 88,
       "nrows": 26,
       "postfix": null,
       "prefix": "Validation",
       "rate": null,
       "total": null,
       "unit": "it",
       "unit_divisor": 1000,
       "unit_scale": false
      },
      "application/vnd.jupyter.widget-view+json": {
       "model_id": "",
       "version_major": 2,
       "version_minor": 0
      },
      "text/plain": [
       "Validation: 0it [00:00, ?it/s]"
      ]
     },
     "metadata": {},
     "output_type": "display_data"
    },
    {
     "data": {
      "application/json": {
       "ascii": false,
       "bar_format": null,
       "colour": null,
       "elapsed": 0.017385005950927734,
       "initial": 0,
       "n": 0,
       "ncols": 88,
       "nrows": 26,
       "postfix": null,
       "prefix": "Validation",
       "rate": null,
       "total": null,
       "unit": "it",
       "unit_divisor": 1000,
       "unit_scale": false
      },
      "application/vnd.jupyter.widget-view+json": {
       "model_id": "",
       "version_major": 2,
       "version_minor": 0
      },
      "text/plain": [
       "Validation: 0it [00:00, ?it/s]"
      ]
     },
     "metadata": {},
     "output_type": "display_data"
    },
    {
     "data": {
      "application/json": {
       "ascii": false,
       "bar_format": null,
       "colour": null,
       "elapsed": 0.017953157424926758,
       "initial": 0,
       "n": 0,
       "ncols": 88,
       "nrows": 26,
       "postfix": null,
       "prefix": "Validation",
       "rate": null,
       "total": null,
       "unit": "it",
       "unit_divisor": 1000,
       "unit_scale": false
      },
      "application/vnd.jupyter.widget-view+json": {
       "model_id": "",
       "version_major": 2,
       "version_minor": 0
      },
      "text/plain": [
       "Validation: 0it [00:00, ?it/s]"
      ]
     },
     "metadata": {},
     "output_type": "display_data"
    },
    {
     "data": {
      "application/json": {
       "ascii": false,
       "bar_format": null,
       "colour": null,
       "elapsed": 0.017114877700805664,
       "initial": 0,
       "n": 0,
       "ncols": 88,
       "nrows": 26,
       "postfix": null,
       "prefix": "Validation",
       "rate": null,
       "total": null,
       "unit": "it",
       "unit_divisor": 1000,
       "unit_scale": false
      },
      "application/vnd.jupyter.widget-view+json": {
       "model_id": "",
       "version_major": 2,
       "version_minor": 0
      },
      "text/plain": [
       "Validation: 0it [00:00, ?it/s]"
      ]
     },
     "metadata": {},
     "output_type": "display_data"
    },
    {
     "data": {
      "application/json": {
       "ascii": false,
       "bar_format": null,
       "colour": null,
       "elapsed": 0.017837047576904297,
       "initial": 0,
       "n": 0,
       "ncols": 88,
       "nrows": 26,
       "postfix": null,
       "prefix": "Validation",
       "rate": null,
       "total": null,
       "unit": "it",
       "unit_divisor": 1000,
       "unit_scale": false
      },
      "application/vnd.jupyter.widget-view+json": {
       "model_id": "",
       "version_major": 2,
       "version_minor": 0
      },
      "text/plain": [
       "Validation: 0it [00:00, ?it/s]"
      ]
     },
     "metadata": {},
     "output_type": "display_data"
    },
    {
     "data": {
      "application/json": {
       "ascii": false,
       "bar_format": null,
       "colour": null,
       "elapsed": 0.023841142654418945,
       "initial": 0,
       "n": 0,
       "ncols": 88,
       "nrows": 26,
       "postfix": null,
       "prefix": "Validation",
       "rate": null,
       "total": null,
       "unit": "it",
       "unit_divisor": 1000,
       "unit_scale": false
      },
      "application/vnd.jupyter.widget-view+json": {
       "model_id": "",
       "version_major": 2,
       "version_minor": 0
      },
      "text/plain": [
       "Validation: 0it [00:00, ?it/s]"
      ]
     },
     "metadata": {},
     "output_type": "display_data"
    },
    {
     "data": {
      "application/json": {
       "ascii": false,
       "bar_format": null,
       "colour": null,
       "elapsed": 0.018020153045654297,
       "initial": 0,
       "n": 0,
       "ncols": 88,
       "nrows": 26,
       "postfix": null,
       "prefix": "Validation",
       "rate": null,
       "total": null,
       "unit": "it",
       "unit_divisor": 1000,
       "unit_scale": false
      },
      "application/vnd.jupyter.widget-view+json": {
       "model_id": "",
       "version_major": 2,
       "version_minor": 0
      },
      "text/plain": [
       "Validation: 0it [00:00, ?it/s]"
      ]
     },
     "metadata": {},
     "output_type": "display_data"
    },
    {
     "data": {
      "application/json": {
       "ascii": false,
       "bar_format": null,
       "colour": null,
       "elapsed": 0.01753401756286621,
       "initial": 0,
       "n": 0,
       "ncols": 88,
       "nrows": 26,
       "postfix": null,
       "prefix": "Validation",
       "rate": null,
       "total": null,
       "unit": "it",
       "unit_divisor": 1000,
       "unit_scale": false
      },
      "application/vnd.jupyter.widget-view+json": {
       "model_id": "",
       "version_major": 2,
       "version_minor": 0
      },
      "text/plain": [
       "Validation: 0it [00:00, ?it/s]"
      ]
     },
     "metadata": {},
     "output_type": "display_data"
    },
    {
     "data": {
      "application/json": {
       "ascii": false,
       "bar_format": null,
       "colour": null,
       "elapsed": 0.016701936721801758,
       "initial": 0,
       "n": 0,
       "ncols": 88,
       "nrows": 26,
       "postfix": null,
       "prefix": "Validation",
       "rate": null,
       "total": null,
       "unit": "it",
       "unit_divisor": 1000,
       "unit_scale": false
      },
      "application/vnd.jupyter.widget-view+json": {
       "model_id": "",
       "version_major": 2,
       "version_minor": 0
      },
      "text/plain": [
       "Validation: 0it [00:00, ?it/s]"
      ]
     },
     "metadata": {},
     "output_type": "display_data"
    },
    {
     "data": {
      "application/json": {
       "ascii": false,
       "bar_format": null,
       "colour": null,
       "elapsed": 0.016961097717285156,
       "initial": 0,
       "n": 0,
       "ncols": 88,
       "nrows": 26,
       "postfix": null,
       "prefix": "Validation",
       "rate": null,
       "total": null,
       "unit": "it",
       "unit_divisor": 1000,
       "unit_scale": false
      },
      "application/vnd.jupyter.widget-view+json": {
       "model_id": "",
       "version_major": 2,
       "version_minor": 0
      },
      "text/plain": [
       "Validation: 0it [00:00, ?it/s]"
      ]
     },
     "metadata": {},
     "output_type": "display_data"
    },
    {
     "data": {
      "application/json": {
       "ascii": false,
       "bar_format": null,
       "colour": null,
       "elapsed": 0.018281936645507812,
       "initial": 0,
       "n": 0,
       "ncols": 88,
       "nrows": 26,
       "postfix": null,
       "prefix": "Validation",
       "rate": null,
       "total": null,
       "unit": "it",
       "unit_divisor": 1000,
       "unit_scale": false
      },
      "application/vnd.jupyter.widget-view+json": {
       "model_id": "",
       "version_major": 2,
       "version_minor": 0
      },
      "text/plain": [
       "Validation: 0it [00:00, ?it/s]"
      ]
     },
     "metadata": {},
     "output_type": "display_data"
    },
    {
     "data": {
      "application/json": {
       "ascii": false,
       "bar_format": null,
       "colour": null,
       "elapsed": 0.017892122268676758,
       "initial": 0,
       "n": 0,
       "ncols": 88,
       "nrows": 26,
       "postfix": null,
       "prefix": "Validation",
       "rate": null,
       "total": null,
       "unit": "it",
       "unit_divisor": 1000,
       "unit_scale": false
      },
      "application/vnd.jupyter.widget-view+json": {
       "model_id": "",
       "version_major": 2,
       "version_minor": 0
      },
      "text/plain": [
       "Validation: 0it [00:00, ?it/s]"
      ]
     },
     "metadata": {},
     "output_type": "display_data"
    },
    {
     "data": {
      "application/json": {
       "ascii": false,
       "bar_format": null,
       "colour": null,
       "elapsed": 0.018058061599731445,
       "initial": 0,
       "n": 0,
       "ncols": 88,
       "nrows": 26,
       "postfix": null,
       "prefix": "Validation",
       "rate": null,
       "total": null,
       "unit": "it",
       "unit_divisor": 1000,
       "unit_scale": false
      },
      "application/vnd.jupyter.widget-view+json": {
       "model_id": "",
       "version_major": 2,
       "version_minor": 0
      },
      "text/plain": [
       "Validation: 0it [00:00, ?it/s]"
      ]
     },
     "metadata": {},
     "output_type": "display_data"
    },
    {
     "data": {
      "application/json": {
       "ascii": false,
       "bar_format": null,
       "colour": null,
       "elapsed": 0.01771998405456543,
       "initial": 0,
       "n": 0,
       "ncols": 88,
       "nrows": 26,
       "postfix": null,
       "prefix": "Validation",
       "rate": null,
       "total": null,
       "unit": "it",
       "unit_divisor": 1000,
       "unit_scale": false
      },
      "application/vnd.jupyter.widget-view+json": {
       "model_id": "",
       "version_major": 2,
       "version_minor": 0
      },
      "text/plain": [
       "Validation: 0it [00:00, ?it/s]"
      ]
     },
     "metadata": {},
     "output_type": "display_data"
    },
    {
     "data": {
      "application/json": {
       "ascii": false,
       "bar_format": null,
       "colour": null,
       "elapsed": 0.018290281295776367,
       "initial": 0,
       "n": 0,
       "ncols": 88,
       "nrows": 26,
       "postfix": null,
       "prefix": "Validation",
       "rate": null,
       "total": null,
       "unit": "it",
       "unit_divisor": 1000,
       "unit_scale": false
      },
      "application/vnd.jupyter.widget-view+json": {
       "model_id": "",
       "version_major": 2,
       "version_minor": 0
      },
      "text/plain": [
       "Validation: 0it [00:00, ?it/s]"
      ]
     },
     "metadata": {},
     "output_type": "display_data"
    },
    {
     "data": {
      "application/json": {
       "ascii": false,
       "bar_format": null,
       "colour": null,
       "elapsed": 0.018298864364624023,
       "initial": 0,
       "n": 0,
       "ncols": 88,
       "nrows": 26,
       "postfix": null,
       "prefix": "Validation",
       "rate": null,
       "total": null,
       "unit": "it",
       "unit_divisor": 1000,
       "unit_scale": false
      },
      "application/vnd.jupyter.widget-view+json": {
       "model_id": "",
       "version_major": 2,
       "version_minor": 0
      },
      "text/plain": [
       "Validation: 0it [00:00, ?it/s]"
      ]
     },
     "metadata": {},
     "output_type": "display_data"
    },
    {
     "data": {
      "application/json": {
       "ascii": false,
       "bar_format": null,
       "colour": null,
       "elapsed": 0.0167696475982666,
       "initial": 0,
       "n": 0,
       "ncols": 88,
       "nrows": 26,
       "postfix": null,
       "prefix": "Validation",
       "rate": null,
       "total": null,
       "unit": "it",
       "unit_divisor": 1000,
       "unit_scale": false
      },
      "application/vnd.jupyter.widget-view+json": {
       "model_id": "",
       "version_major": 2,
       "version_minor": 0
      },
      "text/plain": [
       "Validation: 0it [00:00, ?it/s]"
      ]
     },
     "metadata": {},
     "output_type": "display_data"
    },
    {
     "data": {
      "application/json": {
       "ascii": false,
       "bar_format": null,
       "colour": null,
       "elapsed": 0.018065214157104492,
       "initial": 0,
       "n": 0,
       "ncols": 88,
       "nrows": 26,
       "postfix": null,
       "prefix": "Validation",
       "rate": null,
       "total": null,
       "unit": "it",
       "unit_divisor": 1000,
       "unit_scale": false
      },
      "application/vnd.jupyter.widget-view+json": {
       "model_id": "",
       "version_major": 2,
       "version_minor": 0
      },
      "text/plain": [
       "Validation: 0it [00:00, ?it/s]"
      ]
     },
     "metadata": {},
     "output_type": "display_data"
    },
    {
     "data": {
      "application/json": {
       "ascii": false,
       "bar_format": null,
       "colour": null,
       "elapsed": 0.016837120056152344,
       "initial": 0,
       "n": 0,
       "ncols": 88,
       "nrows": 26,
       "postfix": null,
       "prefix": "Validation",
       "rate": null,
       "total": null,
       "unit": "it",
       "unit_divisor": 1000,
       "unit_scale": false
      },
      "application/vnd.jupyter.widget-view+json": {
       "model_id": "",
       "version_major": 2,
       "version_minor": 0
      },
      "text/plain": [
       "Validation: 0it [00:00, ?it/s]"
      ]
     },
     "metadata": {},
     "output_type": "display_data"
    },
    {
     "data": {
      "application/json": {
       "ascii": false,
       "bar_format": null,
       "colour": null,
       "elapsed": 0.019114971160888672,
       "initial": 0,
       "n": 0,
       "ncols": 88,
       "nrows": 26,
       "postfix": null,
       "prefix": "Validation",
       "rate": null,
       "total": null,
       "unit": "it",
       "unit_divisor": 1000,
       "unit_scale": false
      },
      "application/vnd.jupyter.widget-view+json": {
       "model_id": "",
       "version_major": 2,
       "version_minor": 0
      },
      "text/plain": [
       "Validation: 0it [00:00, ?it/s]"
      ]
     },
     "metadata": {},
     "output_type": "display_data"
    },
    {
     "data": {
      "application/json": {
       "ascii": false,
       "bar_format": null,
       "colour": null,
       "elapsed": 0.0170590877532959,
       "initial": 0,
       "n": 0,
       "ncols": 88,
       "nrows": 26,
       "postfix": null,
       "prefix": "Validation",
       "rate": null,
       "total": null,
       "unit": "it",
       "unit_divisor": 1000,
       "unit_scale": false
      },
      "application/vnd.jupyter.widget-view+json": {
       "model_id": "",
       "version_major": 2,
       "version_minor": 0
      },
      "text/plain": [
       "Validation: 0it [00:00, ?it/s]"
      ]
     },
     "metadata": {},
     "output_type": "display_data"
    },
    {
     "data": {
      "application/json": {
       "ascii": false,
       "bar_format": null,
       "colour": null,
       "elapsed": 0.01935410499572754,
       "initial": 0,
       "n": 0,
       "ncols": 88,
       "nrows": 26,
       "postfix": null,
       "prefix": "Validation",
       "rate": null,
       "total": null,
       "unit": "it",
       "unit_divisor": 1000,
       "unit_scale": false
      },
      "application/vnd.jupyter.widget-view+json": {
       "model_id": "",
       "version_major": 2,
       "version_minor": 0
      },
      "text/plain": [
       "Validation: 0it [00:00, ?it/s]"
      ]
     },
     "metadata": {},
     "output_type": "display_data"
    },
    {
     "data": {
      "application/json": {
       "ascii": false,
       "bar_format": null,
       "colour": null,
       "elapsed": 0.018958091735839844,
       "initial": 0,
       "n": 0,
       "ncols": 88,
       "nrows": 26,
       "postfix": null,
       "prefix": "Validation",
       "rate": null,
       "total": null,
       "unit": "it",
       "unit_divisor": 1000,
       "unit_scale": false
      },
      "application/vnd.jupyter.widget-view+json": {
       "model_id": "",
       "version_major": 2,
       "version_minor": 0
      },
      "text/plain": [
       "Validation: 0it [00:00, ?it/s]"
      ]
     },
     "metadata": {},
     "output_type": "display_data"
    },
    {
     "data": {
      "application/json": {
       "ascii": false,
       "bar_format": null,
       "colour": null,
       "elapsed": 0.01726531982421875,
       "initial": 0,
       "n": 0,
       "ncols": 88,
       "nrows": 26,
       "postfix": null,
       "prefix": "Validation",
       "rate": null,
       "total": null,
       "unit": "it",
       "unit_divisor": 1000,
       "unit_scale": false
      },
      "application/vnd.jupyter.widget-view+json": {
       "model_id": "",
       "version_major": 2,
       "version_minor": 0
      },
      "text/plain": [
       "Validation: 0it [00:00, ?it/s]"
      ]
     },
     "metadata": {},
     "output_type": "display_data"
    },
    {
     "data": {
      "application/json": {
       "ascii": false,
       "bar_format": null,
       "colour": null,
       "elapsed": 0.01801609992980957,
       "initial": 0,
       "n": 0,
       "ncols": 88,
       "nrows": 26,
       "postfix": null,
       "prefix": "Validation",
       "rate": null,
       "total": null,
       "unit": "it",
       "unit_divisor": 1000,
       "unit_scale": false
      },
      "application/vnd.jupyter.widget-view+json": {
       "model_id": "",
       "version_major": 2,
       "version_minor": 0
      },
      "text/plain": [
       "Validation: 0it [00:00, ?it/s]"
      ]
     },
     "metadata": {},
     "output_type": "display_data"
    },
    {
     "data": {
      "application/json": {
       "ascii": false,
       "bar_format": null,
       "colour": null,
       "elapsed": 0.019823789596557617,
       "initial": 0,
       "n": 0,
       "ncols": 88,
       "nrows": 26,
       "postfix": null,
       "prefix": "Validation",
       "rate": null,
       "total": null,
       "unit": "it",
       "unit_divisor": 1000,
       "unit_scale": false
      },
      "application/vnd.jupyter.widget-view+json": {
       "model_id": "",
       "version_major": 2,
       "version_minor": 0
      },
      "text/plain": [
       "Validation: 0it [00:00, ?it/s]"
      ]
     },
     "metadata": {},
     "output_type": "display_data"
    },
    {
     "data": {
      "application/json": {
       "ascii": false,
       "bar_format": null,
       "colour": null,
       "elapsed": 0.018932104110717773,
       "initial": 0,
       "n": 0,
       "ncols": 88,
       "nrows": 26,
       "postfix": null,
       "prefix": "Validation",
       "rate": null,
       "total": null,
       "unit": "it",
       "unit_divisor": 1000,
       "unit_scale": false
      },
      "application/vnd.jupyter.widget-view+json": {
       "model_id": "",
       "version_major": 2,
       "version_minor": 0
      },
      "text/plain": [
       "Validation: 0it [00:00, ?it/s]"
      ]
     },
     "metadata": {},
     "output_type": "display_data"
    },
    {
     "data": {
      "application/json": {
       "ascii": false,
       "bar_format": null,
       "colour": null,
       "elapsed": 0.017290830612182617,
       "initial": 0,
       "n": 0,
       "ncols": 88,
       "nrows": 26,
       "postfix": null,
       "prefix": "Validation",
       "rate": null,
       "total": null,
       "unit": "it",
       "unit_divisor": 1000,
       "unit_scale": false
      },
      "application/vnd.jupyter.widget-view+json": {
       "model_id": "",
       "version_major": 2,
       "version_minor": 0
      },
      "text/plain": [
       "Validation: 0it [00:00, ?it/s]"
      ]
     },
     "metadata": {},
     "output_type": "display_data"
    },
    {
     "data": {
      "application/json": {
       "ascii": false,
       "bar_format": null,
       "colour": null,
       "elapsed": 0.016962766647338867,
       "initial": 0,
       "n": 0,
       "ncols": 88,
       "nrows": 26,
       "postfix": null,
       "prefix": "Validation",
       "rate": null,
       "total": null,
       "unit": "it",
       "unit_divisor": 1000,
       "unit_scale": false
      },
      "application/vnd.jupyter.widget-view+json": {
       "model_id": "",
       "version_major": 2,
       "version_minor": 0
      },
      "text/plain": [
       "Validation: 0it [00:00, ?it/s]"
      ]
     },
     "metadata": {},
     "output_type": "display_data"
    },
    {
     "data": {
      "application/json": {
       "ascii": false,
       "bar_format": null,
       "colour": null,
       "elapsed": 0.019140005111694336,
       "initial": 0,
       "n": 0,
       "ncols": 88,
       "nrows": 26,
       "postfix": null,
       "prefix": "Validation",
       "rate": null,
       "total": null,
       "unit": "it",
       "unit_divisor": 1000,
       "unit_scale": false
      },
      "application/vnd.jupyter.widget-view+json": {
       "model_id": "",
       "version_major": 2,
       "version_minor": 0
      },
      "text/plain": [
       "Validation: 0it [00:00, ?it/s]"
      ]
     },
     "metadata": {},
     "output_type": "display_data"
    },
    {
     "data": {
      "application/json": {
       "ascii": false,
       "bar_format": null,
       "colour": null,
       "elapsed": 0.018252849578857422,
       "initial": 0,
       "n": 0,
       "ncols": 88,
       "nrows": 26,
       "postfix": null,
       "prefix": "Validation",
       "rate": null,
       "total": null,
       "unit": "it",
       "unit_divisor": 1000,
       "unit_scale": false
      },
      "application/vnd.jupyter.widget-view+json": {
       "model_id": "",
       "version_major": 2,
       "version_minor": 0
      },
      "text/plain": [
       "Validation: 0it [00:00, ?it/s]"
      ]
     },
     "metadata": {},
     "output_type": "display_data"
    },
    {
     "data": {
      "application/json": {
       "ascii": false,
       "bar_format": null,
       "colour": null,
       "elapsed": 0.02055215835571289,
       "initial": 0,
       "n": 0,
       "ncols": 88,
       "nrows": 26,
       "postfix": null,
       "prefix": "Validation",
       "rate": null,
       "total": null,
       "unit": "it",
       "unit_divisor": 1000,
       "unit_scale": false
      },
      "application/vnd.jupyter.widget-view+json": {
       "model_id": "",
       "version_major": 2,
       "version_minor": 0
      },
      "text/plain": [
       "Validation: 0it [00:00, ?it/s]"
      ]
     },
     "metadata": {},
     "output_type": "display_data"
    },
    {
     "data": {
      "application/json": {
       "ascii": false,
       "bar_format": null,
       "colour": null,
       "elapsed": 0.017775774002075195,
       "initial": 0,
       "n": 0,
       "ncols": 88,
       "nrows": 26,
       "postfix": null,
       "prefix": "Validation",
       "rate": null,
       "total": null,
       "unit": "it",
       "unit_divisor": 1000,
       "unit_scale": false
      },
      "application/vnd.jupyter.widget-view+json": {
       "model_id": "",
       "version_major": 2,
       "version_minor": 0
      },
      "text/plain": [
       "Validation: 0it [00:00, ?it/s]"
      ]
     },
     "metadata": {},
     "output_type": "display_data"
    },
    {
     "data": {
      "application/json": {
       "ascii": false,
       "bar_format": null,
       "colour": null,
       "elapsed": 0.016871213912963867,
       "initial": 0,
       "n": 0,
       "ncols": 88,
       "nrows": 26,
       "postfix": null,
       "prefix": "Validation",
       "rate": null,
       "total": null,
       "unit": "it",
       "unit_divisor": 1000,
       "unit_scale": false
      },
      "application/vnd.jupyter.widget-view+json": {
       "model_id": "",
       "version_major": 2,
       "version_minor": 0
      },
      "text/plain": [
       "Validation: 0it [00:00, ?it/s]"
      ]
     },
     "metadata": {},
     "output_type": "display_data"
    },
    {
     "data": {
      "application/json": {
       "ascii": false,
       "bar_format": null,
       "colour": null,
       "elapsed": 0.01743602752685547,
       "initial": 0,
       "n": 0,
       "ncols": 88,
       "nrows": 26,
       "postfix": null,
       "prefix": "Validation",
       "rate": null,
       "total": null,
       "unit": "it",
       "unit_divisor": 1000,
       "unit_scale": false
      },
      "application/vnd.jupyter.widget-view+json": {
       "model_id": "",
       "version_major": 2,
       "version_minor": 0
      },
      "text/plain": [
       "Validation: 0it [00:00, ?it/s]"
      ]
     },
     "metadata": {},
     "output_type": "display_data"
    },
    {
     "data": {
      "application/json": {
       "ascii": false,
       "bar_format": null,
       "colour": null,
       "elapsed": 0.021802902221679688,
       "initial": 0,
       "n": 0,
       "ncols": 88,
       "nrows": 26,
       "postfix": null,
       "prefix": "Validation",
       "rate": null,
       "total": null,
       "unit": "it",
       "unit_divisor": 1000,
       "unit_scale": false
      },
      "application/vnd.jupyter.widget-view+json": {
       "model_id": "",
       "version_major": 2,
       "version_minor": 0
      },
      "text/plain": [
       "Validation: 0it [00:00, ?it/s]"
      ]
     },
     "metadata": {},
     "output_type": "display_data"
    },
    {
     "data": {
      "application/json": {
       "ascii": false,
       "bar_format": null,
       "colour": null,
       "elapsed": 0.016902923583984375,
       "initial": 0,
       "n": 0,
       "ncols": 88,
       "nrows": 26,
       "postfix": null,
       "prefix": "Validation",
       "rate": null,
       "total": null,
       "unit": "it",
       "unit_divisor": 1000,
       "unit_scale": false
      },
      "application/vnd.jupyter.widget-view+json": {
       "model_id": "",
       "version_major": 2,
       "version_minor": 0
      },
      "text/plain": [
       "Validation: 0it [00:00, ?it/s]"
      ]
     },
     "metadata": {},
     "output_type": "display_data"
    },
    {
     "data": {
      "application/json": {
       "ascii": false,
       "bar_format": null,
       "colour": null,
       "elapsed": 0.018470287322998047,
       "initial": 0,
       "n": 0,
       "ncols": 88,
       "nrows": 26,
       "postfix": null,
       "prefix": "Validation",
       "rate": null,
       "total": null,
       "unit": "it",
       "unit_divisor": 1000,
       "unit_scale": false
      },
      "application/vnd.jupyter.widget-view+json": {
       "model_id": "",
       "version_major": 2,
       "version_minor": 0
      },
      "text/plain": [
       "Validation: 0it [00:00, ?it/s]"
      ]
     },
     "metadata": {},
     "output_type": "display_data"
    },
    {
     "data": {
      "application/json": {
       "ascii": false,
       "bar_format": null,
       "colour": null,
       "elapsed": 0.020006895065307617,
       "initial": 0,
       "n": 0,
       "ncols": 88,
       "nrows": 26,
       "postfix": null,
       "prefix": "Validation",
       "rate": null,
       "total": null,
       "unit": "it",
       "unit_divisor": 1000,
       "unit_scale": false
      },
      "application/vnd.jupyter.widget-view+json": {
       "model_id": "",
       "version_major": 2,
       "version_minor": 0
      },
      "text/plain": [
       "Validation: 0it [00:00, ?it/s]"
      ]
     },
     "metadata": {},
     "output_type": "display_data"
    },
    {
     "data": {
      "application/json": {
       "ascii": false,
       "bar_format": null,
       "colour": null,
       "elapsed": 0.01851797103881836,
       "initial": 0,
       "n": 0,
       "ncols": 88,
       "nrows": 26,
       "postfix": null,
       "prefix": "Validation",
       "rate": null,
       "total": null,
       "unit": "it",
       "unit_divisor": 1000,
       "unit_scale": false
      },
      "application/vnd.jupyter.widget-view+json": {
       "model_id": "",
       "version_major": 2,
       "version_minor": 0
      },
      "text/plain": [
       "Validation: 0it [00:00, ?it/s]"
      ]
     },
     "metadata": {},
     "output_type": "display_data"
    },
    {
     "data": {
      "application/json": {
       "ascii": false,
       "bar_format": null,
       "colour": null,
       "elapsed": 0.020366907119750977,
       "initial": 0,
       "n": 0,
       "ncols": 88,
       "nrows": 26,
       "postfix": null,
       "prefix": "Validation",
       "rate": null,
       "total": null,
       "unit": "it",
       "unit_divisor": 1000,
       "unit_scale": false
      },
      "application/vnd.jupyter.widget-view+json": {
       "model_id": "",
       "version_major": 2,
       "version_minor": 0
      },
      "text/plain": [
       "Validation: 0it [00:00, ?it/s]"
      ]
     },
     "metadata": {},
     "output_type": "display_data"
    },
    {
     "data": {
      "application/json": {
       "ascii": false,
       "bar_format": null,
       "colour": null,
       "elapsed": 0.0186612606048584,
       "initial": 0,
       "n": 0,
       "ncols": 88,
       "nrows": 26,
       "postfix": null,
       "prefix": "Validation",
       "rate": null,
       "total": null,
       "unit": "it",
       "unit_divisor": 1000,
       "unit_scale": false
      },
      "application/vnd.jupyter.widget-view+json": {
       "model_id": "",
       "version_major": 2,
       "version_minor": 0
      },
      "text/plain": [
       "Validation: 0it [00:00, ?it/s]"
      ]
     },
     "metadata": {},
     "output_type": "display_data"
    },
    {
     "data": {
      "application/json": {
       "ascii": false,
       "bar_format": null,
       "colour": null,
       "elapsed": 0.02744007110595703,
       "initial": 0,
       "n": 0,
       "ncols": 88,
       "nrows": 26,
       "postfix": null,
       "prefix": "Validation",
       "rate": null,
       "total": null,
       "unit": "it",
       "unit_divisor": 1000,
       "unit_scale": false
      },
      "application/vnd.jupyter.widget-view+json": {
       "model_id": "",
       "version_major": 2,
       "version_minor": 0
      },
      "text/plain": [
       "Validation: 0it [00:00, ?it/s]"
      ]
     },
     "metadata": {},
     "output_type": "display_data"
    },
    {
     "data": {
      "application/json": {
       "ascii": false,
       "bar_format": null,
       "colour": null,
       "elapsed": 0.02163982391357422,
       "initial": 0,
       "n": 0,
       "ncols": 88,
       "nrows": 26,
       "postfix": null,
       "prefix": "Validation",
       "rate": null,
       "total": null,
       "unit": "it",
       "unit_divisor": 1000,
       "unit_scale": false
      },
      "application/vnd.jupyter.widget-view+json": {
       "model_id": "",
       "version_major": 2,
       "version_minor": 0
      },
      "text/plain": [
       "Validation: 0it [00:00, ?it/s]"
      ]
     },
     "metadata": {},
     "output_type": "display_data"
    },
    {
     "data": {
      "application/json": {
       "ascii": false,
       "bar_format": null,
       "colour": null,
       "elapsed": 0.022279024124145508,
       "initial": 0,
       "n": 0,
       "ncols": 88,
       "nrows": 26,
       "postfix": null,
       "prefix": "Validation",
       "rate": null,
       "total": null,
       "unit": "it",
       "unit_divisor": 1000,
       "unit_scale": false
      },
      "application/vnd.jupyter.widget-view+json": {
       "model_id": "",
       "version_major": 2,
       "version_minor": 0
      },
      "text/plain": [
       "Validation: 0it [00:00, ?it/s]"
      ]
     },
     "metadata": {},
     "output_type": "display_data"
    },
    {
     "data": {
      "application/json": {
       "ascii": false,
       "bar_format": null,
       "colour": null,
       "elapsed": 0.017249107360839844,
       "initial": 0,
       "n": 0,
       "ncols": 88,
       "nrows": 26,
       "postfix": null,
       "prefix": "Validation",
       "rate": null,
       "total": null,
       "unit": "it",
       "unit_divisor": 1000,
       "unit_scale": false
      },
      "application/vnd.jupyter.widget-view+json": {
       "model_id": "",
       "version_major": 2,
       "version_minor": 0
      },
      "text/plain": [
       "Validation: 0it [00:00, ?it/s]"
      ]
     },
     "metadata": {},
     "output_type": "display_data"
    },
    {
     "data": {
      "application/json": {
       "ascii": false,
       "bar_format": null,
       "colour": null,
       "elapsed": 0.021172046661376953,
       "initial": 0,
       "n": 0,
       "ncols": 88,
       "nrows": 26,
       "postfix": null,
       "prefix": "Validation",
       "rate": null,
       "total": null,
       "unit": "it",
       "unit_divisor": 1000,
       "unit_scale": false
      },
      "application/vnd.jupyter.widget-view+json": {
       "model_id": "",
       "version_major": 2,
       "version_minor": 0
      },
      "text/plain": [
       "Validation: 0it [00:00, ?it/s]"
      ]
     },
     "metadata": {},
     "output_type": "display_data"
    },
    {
     "data": {
      "application/json": {
       "ascii": false,
       "bar_format": null,
       "colour": null,
       "elapsed": 0.01810312271118164,
       "initial": 0,
       "n": 0,
       "ncols": 88,
       "nrows": 26,
       "postfix": null,
       "prefix": "Validation",
       "rate": null,
       "total": null,
       "unit": "it",
       "unit_divisor": 1000,
       "unit_scale": false
      },
      "application/vnd.jupyter.widget-view+json": {
       "model_id": "",
       "version_major": 2,
       "version_minor": 0
      },
      "text/plain": [
       "Validation: 0it [00:00, ?it/s]"
      ]
     },
     "metadata": {},
     "output_type": "display_data"
    },
    {
     "data": {
      "application/json": {
       "ascii": false,
       "bar_format": null,
       "colour": null,
       "elapsed": 0.018759965896606445,
       "initial": 0,
       "n": 0,
       "ncols": 88,
       "nrows": 26,
       "postfix": null,
       "prefix": "Validation",
       "rate": null,
       "total": null,
       "unit": "it",
       "unit_divisor": 1000,
       "unit_scale": false
      },
      "application/vnd.jupyter.widget-view+json": {
       "model_id": "",
       "version_major": 2,
       "version_minor": 0
      },
      "text/plain": [
       "Validation: 0it [00:00, ?it/s]"
      ]
     },
     "metadata": {},
     "output_type": "display_data"
    },
    {
     "data": {
      "application/json": {
       "ascii": false,
       "bar_format": null,
       "colour": null,
       "elapsed": 0.02572798728942871,
       "initial": 0,
       "n": 0,
       "ncols": 88,
       "nrows": 26,
       "postfix": null,
       "prefix": "Validation",
       "rate": null,
       "total": null,
       "unit": "it",
       "unit_divisor": 1000,
       "unit_scale": false
      },
      "application/vnd.jupyter.widget-view+json": {
       "model_id": "",
       "version_major": 2,
       "version_minor": 0
      },
      "text/plain": [
       "Validation: 0it [00:00, ?it/s]"
      ]
     },
     "metadata": {},
     "output_type": "display_data"
    },
    {
     "data": {
      "application/json": {
       "ascii": false,
       "bar_format": null,
       "colour": null,
       "elapsed": 0.018600940704345703,
       "initial": 0,
       "n": 0,
       "ncols": 88,
       "nrows": 26,
       "postfix": null,
       "prefix": "Validation",
       "rate": null,
       "total": null,
       "unit": "it",
       "unit_divisor": 1000,
       "unit_scale": false
      },
      "application/vnd.jupyter.widget-view+json": {
       "model_id": "",
       "version_major": 2,
       "version_minor": 0
      },
      "text/plain": [
       "Validation: 0it [00:00, ?it/s]"
      ]
     },
     "metadata": {},
     "output_type": "display_data"
    },
    {
     "data": {
      "application/json": {
       "ascii": false,
       "bar_format": null,
       "colour": null,
       "elapsed": 0.022068023681640625,
       "initial": 0,
       "n": 0,
       "ncols": 88,
       "nrows": 26,
       "postfix": null,
       "prefix": "Validation",
       "rate": null,
       "total": null,
       "unit": "it",
       "unit_divisor": 1000,
       "unit_scale": false
      },
      "application/vnd.jupyter.widget-view+json": {
       "model_id": "",
       "version_major": 2,
       "version_minor": 0
      },
      "text/plain": [
       "Validation: 0it [00:00, ?it/s]"
      ]
     },
     "metadata": {},
     "output_type": "display_data"
    },
    {
     "data": {
      "application/json": {
       "ascii": false,
       "bar_format": null,
       "colour": null,
       "elapsed": 0.02260875701904297,
       "initial": 0,
       "n": 0,
       "ncols": 88,
       "nrows": 26,
       "postfix": null,
       "prefix": "Validation",
       "rate": null,
       "total": null,
       "unit": "it",
       "unit_divisor": 1000,
       "unit_scale": false
      },
      "application/vnd.jupyter.widget-view+json": {
       "model_id": "",
       "version_major": 2,
       "version_minor": 0
      },
      "text/plain": [
       "Validation: 0it [00:00, ?it/s]"
      ]
     },
     "metadata": {},
     "output_type": "display_data"
    },
    {
     "data": {
      "application/json": {
       "ascii": false,
       "bar_format": null,
       "colour": null,
       "elapsed": 0.017601966857910156,
       "initial": 0,
       "n": 0,
       "ncols": 88,
       "nrows": 26,
       "postfix": null,
       "prefix": "Validation",
       "rate": null,
       "total": null,
       "unit": "it",
       "unit_divisor": 1000,
       "unit_scale": false
      },
      "application/vnd.jupyter.widget-view+json": {
       "model_id": "",
       "version_major": 2,
       "version_minor": 0
      },
      "text/plain": [
       "Validation: 0it [00:00, ?it/s]"
      ]
     },
     "metadata": {},
     "output_type": "display_data"
    },
    {
     "data": {
      "application/json": {
       "ascii": false,
       "bar_format": null,
       "colour": null,
       "elapsed": 0.017831087112426758,
       "initial": 0,
       "n": 0,
       "ncols": 88,
       "nrows": 26,
       "postfix": null,
       "prefix": "Validation",
       "rate": null,
       "total": null,
       "unit": "it",
       "unit_divisor": 1000,
       "unit_scale": false
      },
      "application/vnd.jupyter.widget-view+json": {
       "model_id": "",
       "version_major": 2,
       "version_minor": 0
      },
      "text/plain": [
       "Validation: 0it [00:00, ?it/s]"
      ]
     },
     "metadata": {},
     "output_type": "display_data"
    },
    {
     "data": {
      "application/json": {
       "ascii": false,
       "bar_format": null,
       "colour": null,
       "elapsed": 0.018035173416137695,
       "initial": 0,
       "n": 0,
       "ncols": 88,
       "nrows": 26,
       "postfix": null,
       "prefix": "Validation",
       "rate": null,
       "total": null,
       "unit": "it",
       "unit_divisor": 1000,
       "unit_scale": false
      },
      "application/vnd.jupyter.widget-view+json": {
       "model_id": "",
       "version_major": 2,
       "version_minor": 0
      },
      "text/plain": [
       "Validation: 0it [00:00, ?it/s]"
      ]
     },
     "metadata": {},
     "output_type": "display_data"
    },
    {
     "data": {
      "application/json": {
       "ascii": false,
       "bar_format": null,
       "colour": null,
       "elapsed": 0.01699090003967285,
       "initial": 0,
       "n": 0,
       "ncols": 88,
       "nrows": 26,
       "postfix": null,
       "prefix": "Validation",
       "rate": null,
       "total": null,
       "unit": "it",
       "unit_divisor": 1000,
       "unit_scale": false
      },
      "application/vnd.jupyter.widget-view+json": {
       "model_id": "",
       "version_major": 2,
       "version_minor": 0
      },
      "text/plain": [
       "Validation: 0it [00:00, ?it/s]"
      ]
     },
     "metadata": {},
     "output_type": "display_data"
    },
    {
     "data": {
      "application/json": {
       "ascii": false,
       "bar_format": null,
       "colour": null,
       "elapsed": 0.018535852432250977,
       "initial": 0,
       "n": 0,
       "ncols": 88,
       "nrows": 26,
       "postfix": null,
       "prefix": "Validation",
       "rate": null,
       "total": null,
       "unit": "it",
       "unit_divisor": 1000,
       "unit_scale": false
      },
      "application/vnd.jupyter.widget-view+json": {
       "model_id": "",
       "version_major": 2,
       "version_minor": 0
      },
      "text/plain": [
       "Validation: 0it [00:00, ?it/s]"
      ]
     },
     "metadata": {},
     "output_type": "display_data"
    },
    {
     "data": {
      "application/json": {
       "ascii": false,
       "bar_format": null,
       "colour": null,
       "elapsed": 0.024537086486816406,
       "initial": 0,
       "n": 0,
       "ncols": 88,
       "nrows": 26,
       "postfix": null,
       "prefix": "Validation",
       "rate": null,
       "total": null,
       "unit": "it",
       "unit_divisor": 1000,
       "unit_scale": false
      },
      "application/vnd.jupyter.widget-view+json": {
       "model_id": "",
       "version_major": 2,
       "version_minor": 0
      },
      "text/plain": [
       "Validation: 0it [00:00, ?it/s]"
      ]
     },
     "metadata": {},
     "output_type": "display_data"
    },
    {
     "data": {
      "application/json": {
       "ascii": false,
       "bar_format": null,
       "colour": null,
       "elapsed": 0.020469188690185547,
       "initial": 0,
       "n": 0,
       "ncols": 88,
       "nrows": 26,
       "postfix": null,
       "prefix": "Validation",
       "rate": null,
       "total": null,
       "unit": "it",
       "unit_divisor": 1000,
       "unit_scale": false
      },
      "application/vnd.jupyter.widget-view+json": {
       "model_id": "",
       "version_major": 2,
       "version_minor": 0
      },
      "text/plain": [
       "Validation: 0it [00:00, ?it/s]"
      ]
     },
     "metadata": {},
     "output_type": "display_data"
    },
    {
     "data": {
      "application/json": {
       "ascii": false,
       "bar_format": null,
       "colour": null,
       "elapsed": 0.020296812057495117,
       "initial": 0,
       "n": 0,
       "ncols": 88,
       "nrows": 26,
       "postfix": null,
       "prefix": "Validation",
       "rate": null,
       "total": null,
       "unit": "it",
       "unit_divisor": 1000,
       "unit_scale": false
      },
      "application/vnd.jupyter.widget-view+json": {
       "model_id": "",
       "version_major": 2,
       "version_minor": 0
      },
      "text/plain": [
       "Validation: 0it [00:00, ?it/s]"
      ]
     },
     "metadata": {},
     "output_type": "display_data"
    },
    {
     "data": {
      "application/json": {
       "ascii": false,
       "bar_format": null,
       "colour": null,
       "elapsed": 0.018259048461914062,
       "initial": 0,
       "n": 0,
       "ncols": 88,
       "nrows": 26,
       "postfix": null,
       "prefix": "Validation",
       "rate": null,
       "total": null,
       "unit": "it",
       "unit_divisor": 1000,
       "unit_scale": false
      },
      "application/vnd.jupyter.widget-view+json": {
       "model_id": "",
       "version_major": 2,
       "version_minor": 0
      },
      "text/plain": [
       "Validation: 0it [00:00, ?it/s]"
      ]
     },
     "metadata": {},
     "output_type": "display_data"
    },
    {
     "data": {
      "application/json": {
       "ascii": false,
       "bar_format": null,
       "colour": null,
       "elapsed": 0.019273042678833008,
       "initial": 0,
       "n": 0,
       "ncols": 88,
       "nrows": 26,
       "postfix": null,
       "prefix": "Validation",
       "rate": null,
       "total": null,
       "unit": "it",
       "unit_divisor": 1000,
       "unit_scale": false
      },
      "application/vnd.jupyter.widget-view+json": {
       "model_id": "",
       "version_major": 2,
       "version_minor": 0
      },
      "text/plain": [
       "Validation: 0it [00:00, ?it/s]"
      ]
     },
     "metadata": {},
     "output_type": "display_data"
    },
    {
     "data": {
      "application/json": {
       "ascii": false,
       "bar_format": null,
       "colour": null,
       "elapsed": 0.016927003860473633,
       "initial": 0,
       "n": 0,
       "ncols": 88,
       "nrows": 26,
       "postfix": null,
       "prefix": "Validation",
       "rate": null,
       "total": null,
       "unit": "it",
       "unit_divisor": 1000,
       "unit_scale": false
      },
      "application/vnd.jupyter.widget-view+json": {
       "model_id": "",
       "version_major": 2,
       "version_minor": 0
      },
      "text/plain": [
       "Validation: 0it [00:00, ?it/s]"
      ]
     },
     "metadata": {},
     "output_type": "display_data"
    }
   ],
   "source": [
    "# model\n",
    "m = NeuralProphet(daily_seasonality = True)\n",
    "\n",
    "# trian and test data\n",
    "df_train, df_test = m.split_df(df, valid_p = 0.2)\n",
    "\n",
    "# model fit\n",
    "metrics = m.fit(df_train, validation_df = df_test)"
   ]
  },
  {
   "cell_type": "code",
   "execution_count": 21,
   "id": "3dd2c18a-e7b9-4608-9f5a-ad559e46b9c7",
   "metadata": {},
   "outputs": [
    {
     "name": "stdout",
     "output_type": "stream",
     "text": [
      "      MAE_val  RMSE_val  Loss_val  RegLoss_val  epoch       MAE      RMSE  \\\n",
      "0    3.602445  4.443264  0.418354          0.0      0  5.396183  6.475113   \n",
      "1    3.391813  4.042522  0.355211          0.0      1  4.307802  5.298369   \n",
      "2    3.437996  4.142626  0.368134          0.0      2  3.418789  4.235656   \n",
      "3    3.379269  4.108317  0.369601          0.0      3  2.776497  3.389490   \n",
      "4    2.940488  3.504388  0.283200          0.0      4  2.197982  2.656712   \n",
      "5    2.486407  2.862184  0.194072          0.0      5  1.633428  1.970894   \n",
      "6    2.000369  2.223875  0.117531          0.0      6  1.155280  1.403777   \n",
      "7    1.650242  1.777929  0.075121          0.0      7  0.792033  0.982400   \n",
      "8    1.183511  1.281836  0.039048          0.0      8  0.563441  0.721760   \n",
      "9    1.008747  1.101169  0.028817          0.0      9  0.451357  0.599584   \n",
      "10   0.725708  0.824054  0.016138          0.0     10  0.409305  0.554600   \n",
      "11   0.597909  0.705209  0.011819          0.0     11  0.405161  0.547300   \n",
      "12   0.608560  0.712008  0.012048          0.0     12  0.395008  0.548703   \n",
      "13   0.601530  0.703166  0.011750          0.0     13  0.401522  0.543567   \n",
      "14   0.515243  0.631517  0.009478          0.0     14  0.393476  0.540558   \n",
      "15   0.509377  0.620971  0.009164          0.0     15  0.393719  0.539352   \n",
      "16   0.525399  0.640175  0.009739          0.0     16  0.391536  0.539708   \n",
      "17   0.488724  0.605864  0.008723          0.0     17  0.390811  0.539018   \n",
      "18   0.433731  0.553865  0.007290          0.0     18  0.393459  0.540403   \n",
      "19   0.429380  0.551015  0.007215          0.0     19  0.404663  0.547856   \n",
      "20   0.384310  0.514448  0.006290          0.0     20  0.399708  0.547593   \n",
      "21   0.497039  0.616135  0.009022          0.0     21  0.401457  0.549985   \n",
      "22   0.399791  0.523170  0.006505          0.0     22  0.431000  0.582528   \n",
      "23   0.339464  0.479760  0.005470          0.0     23  0.398188  0.543797   \n",
      "24   0.424117  0.554011  0.007294          0.0     24  0.413439  0.557303   \n",
      "25   0.415262  0.552954  0.007266          0.0     25  0.421515  0.568869   \n",
      "26   0.609067  0.747130  0.013266          0.0     26  0.429515  0.577536   \n",
      "27   0.540583  0.650456  0.010055          0.0     27  0.429982  0.579101   \n",
      "28   0.797015  0.911845  0.019759          0.0     28  0.423884  0.574041   \n",
      "29   0.387068  0.547793  0.007131          0.0     29  0.425689  0.575278   \n",
      "30   0.347527  0.490868  0.005726          0.0     30  0.443856  0.590999   \n",
      "31   0.397266  0.533387  0.006761          0.0     31  0.457638  0.611091   \n",
      "32   0.520784  0.641953  0.009794          0.0     32  0.476639  0.627286   \n",
      "33   0.395878  0.551924  0.007239          0.0     33  0.452825  0.601901   \n",
      "34   0.480791  0.678512  0.010941          0.0     34  0.469893  0.621529   \n",
      "35   0.510378  0.671853  0.010727          0.0     35  0.498684  0.658806   \n",
      "36   0.587896  0.710640  0.012001          0.0     36  0.490203  0.640090   \n",
      "37   0.497561  0.634283  0.009561          0.0     37  0.458169  0.604230   \n",
      "38   0.412901  0.555265  0.007327          0.0     38  0.480149  0.634260   \n",
      "39   0.688574  0.829287  0.016343          0.0     39  0.465273  0.614688   \n",
      "40   0.872383  1.026143  0.025024          0.0     40  0.515158  0.672124   \n",
      "41   0.531079  0.665405  0.010522          0.0     41  0.562868  0.734379   \n",
      "42   0.566983  0.721842  0.012383          0.0     42  0.468805  0.614687   \n",
      "43   0.587033  0.760938  0.013760          0.0     43  0.558918  0.713669   \n",
      "44   1.111210  1.269598  0.038306          0.0     44  0.526013  0.685819   \n",
      "45   0.480632  0.620833  0.009160          0.0     45  0.635392  0.799149   \n",
      "46   0.494817  0.641630  0.009784          0.0     46  0.483746  0.630804   \n",
      "47   0.942435  1.074996  0.027463          0.0     47  0.509011  0.653027   \n",
      "48   0.469243  0.616501  0.009032          0.0     48  0.508819  0.657925   \n",
      "49   0.766066  0.902932  0.019375          0.0     49  0.526261  0.680032   \n",
      "50   0.734965  0.870133  0.017993          0.0     50  0.530277  0.688613   \n",
      "51   0.495913  0.632760  0.009515          0.0     51  0.565180  0.723378   \n",
      "52   0.495549  0.626267  0.009321          0.0     52  0.544975  0.701328   \n",
      "53   0.665336  0.802392  0.015301          0.0     53  0.493469  0.639483   \n",
      "54   1.239861  1.366135  0.044353          0.0     54  0.497956  0.650596   \n",
      "55   1.180740  1.309186  0.040732          0.0     55  0.539286  0.691624   \n",
      "56   0.717296  0.855762  0.017404          0.0     56  0.508070  0.657335   \n",
      "57   0.581890  0.746593  0.013247          0.0     57  0.511691  0.668708   \n",
      "58   0.561767  0.682891  0.011082          0.0     58  0.542465  0.695932   \n",
      "59   1.517599  1.673579  0.066562          0.0     59  0.528080  0.685603   \n",
      "60   0.440145  0.584217  0.008111          0.0     60  0.584363  0.742687   \n",
      "61   1.251263  1.401118  0.046653          0.0     61  0.542540  0.687106   \n",
      "62   0.448608  0.602585  0.008629          0.0     62  0.577351  0.752279   \n",
      "63   0.966948  1.069928  0.027205          0.0     63  0.510755  0.662099   \n",
      "64   0.985742  1.099043  0.028705          0.0     64  0.486263  0.636663   \n",
      "65   0.836753  0.951230  0.021503          0.0     65  0.463173  0.607743   \n",
      "66   0.687276  0.819527  0.015961          0.0     66  0.499254  0.642662   \n",
      "67   0.559995  0.701717  0.011702          0.0     67  0.482414  0.624156   \n",
      "68   0.527899  0.671481  0.010715          0.0     68  0.485758  0.626962   \n",
      "69   0.658552  0.779517  0.014441          0.0     69  0.464246  0.613354   \n",
      "70   0.553958  0.736790  0.012901          0.0     70  0.482727  0.632636   \n",
      "71   0.507123  0.663986  0.010477          0.0     71  0.498618  0.651446   \n",
      "72   0.498278  0.626224  0.009319          0.0     72  0.476338  0.621934   \n",
      "73   0.503267  0.625704  0.009304          0.0     73  0.469152  0.612666   \n",
      "74   0.519723  0.654974  0.010195          0.0     74  0.486415  0.636700   \n",
      "75   1.113743  1.265673  0.038069          0.0     75  0.497718  0.645822   \n",
      "76   0.553010  0.680909  0.011018          0.0     76  0.569408  0.734190   \n",
      "77   0.526893  0.672693  0.010754          0.0     77  0.460116  0.605925   \n",
      "78   0.428386  0.571457  0.007761          0.0     78  0.481430  0.628799   \n",
      "79   0.471227  0.626455  0.009326          0.0     79  0.446293  0.590727   \n",
      "80   0.567576  0.709009  0.011946          0.0     80  0.490031  0.637394   \n",
      "81   0.674386  0.809793  0.015584          0.0     81  0.491146  0.633507   \n",
      "82   0.505994  0.685418  0.011165          0.0     82  0.503666  0.647607   \n",
      "83   0.413517  0.559543  0.007440          0.0     83  0.494231  0.650369   \n",
      "84   0.531030  0.654509  0.010180          0.0     84  0.468364  0.610493   \n",
      "85   0.592425  0.743561  0.013139          0.0     85  0.454464  0.598933   \n",
      "86   0.525186  0.653743  0.010157          0.0     86  0.442841  0.596460   \n",
      "87   0.596601  0.717687  0.012241          0.0     87  0.453452  0.600059   \n",
      "88   0.504487  0.632869  0.009518          0.0     88  0.440962  0.589641   \n",
      "89   0.652826  0.769227  0.014062          0.0     89  0.449929  0.590479   \n",
      "90   0.491756  0.616029  0.009019          0.0     90  0.444685  0.589837   \n",
      "91   0.496476  0.611678  0.008892          0.0     91  0.452721  0.601357   \n",
      "92   0.544940  0.663061  0.010448          0.0     92  0.453001  0.596049   \n",
      "93   0.687633  0.796822  0.015089          0.0     93  0.488267  0.636953   \n",
      "94   0.654711  0.781865  0.014528          0.0     94  0.433680  0.567917   \n",
      "95   0.822367  0.924853  0.020327          0.0     95  0.436411  0.578720   \n",
      "96   0.807465  0.915748  0.019929          0.0     96  0.421513  0.563490   \n",
      "97   0.848165  0.980348  0.022840          0.0     97  0.416450  0.554740   \n",
      "98   0.451500  0.581945  0.008048          0.0     98  0.435841  0.582209   \n",
      "99   0.474458  0.606057  0.008729          0.0     99  0.454689  0.600004   \n",
      "100  0.505714  0.633032  0.009523          0.0    100  0.418022  0.565207   \n",
      "101  0.717790  0.827814  0.016285          0.0    101  0.429942  0.575126   \n",
      "102  0.510553  0.628373  0.009384          0.0    102  0.447670  0.590468   \n",
      "103  0.613809  0.717498  0.012234          0.0    103  0.416735  0.558791   \n",
      "104  0.829315  0.934686  0.020762          0.0    104  0.424117  0.571838   \n",
      "105  0.528710  0.643016  0.009826          0.0    105  0.416138  0.551597   \n",
      "106  0.496756  0.630198  0.009438          0.0    106  0.401548  0.543169   \n",
      "107  0.872942  0.971894  0.022448          0.0    107  0.435235  0.578126   \n",
      "108  0.541405  0.660909  0.010380          0.0    108  0.440831  0.581272   \n",
      "109  0.597389  0.709026  0.011947          0.0    109  0.394793  0.535484   \n",
      "110  0.686872  0.804522  0.015382          0.0    110  0.389875  0.539045   \n",
      "111  0.608948  0.713388  0.012094          0.0    111  0.435686  0.579447   \n",
      "112  0.604805  0.731958  0.012732          0.0    112  0.409746  0.555225   \n",
      "113  0.506648  0.626225  0.009320          0.0    113  0.396393  0.543224   \n",
      "114  0.577575  0.690048  0.011316          0.0    114  0.389604  0.527990   \n",
      "115  0.568465  0.682857  0.011081          0.0    115  0.398638  0.534376   \n",
      "116  0.795123  0.892145  0.018915          0.0    116  0.411506  0.551015   \n",
      "117  0.599594  0.710509  0.011997          0.0    117  0.396929  0.537451   \n",
      "118  0.509338  0.626053  0.009314          0.0    118  0.377729  0.515462   \n",
      "119  0.573622  0.685859  0.011179          0.0    119  0.379481  0.518753   \n",
      "120  0.445114  0.554537  0.007308          0.0    120  0.381857  0.522732   \n",
      "121  0.528790  0.636137  0.009617          0.0    121  0.376408  0.518451   \n",
      "122  0.473774  0.597892  0.008495          0.0    122  0.383751  0.518925   \n",
      "123  0.636084  0.736048  0.012875          0.0    123  0.376732  0.519448   \n",
      "124  0.501593  0.613005  0.008930          0.0    124  0.374126  0.511505   \n",
      "125  0.545314  0.653678  0.010155          0.0    125  0.373288  0.512334   \n",
      "126  0.618151  0.721131  0.012358          0.0    126  0.370955  0.511962   \n",
      "127  0.601355  0.714663  0.012138          0.0    127  0.369369  0.508418   \n",
      "128  0.631712  0.737952  0.012942          0.0    128  0.377919  0.516727   \n",
      "129  0.619632  0.718453  0.012267          0.0    129  0.374142  0.513513   \n",
      "130  0.534610  0.643085  0.009828          0.0    130  0.366825  0.506948   \n",
      "131  0.478625  0.593769  0.008379          0.0    131  0.362401  0.500076   \n",
      "132  0.532644  0.644622  0.009875          0.0    132  0.360990  0.500821   \n",
      "133  0.602218  0.711815  0.012041          0.0    133  0.362698  0.500716   \n",
      "134  0.533394  0.638836  0.009699          0.0    134  0.355921  0.492117   \n",
      "135  0.587051  0.690824  0.011341          0.0    135  0.358224  0.493365   \n",
      "136  0.561956  0.668305  0.010614          0.0    136  0.359228  0.495078   \n",
      "137  0.571846  0.676760  0.010884          0.0    137  0.358284  0.494719   \n",
      "138  0.580760  0.685178  0.011157          0.0    138  0.361268  0.500287   \n",
      "139  0.566840  0.672596  0.010751          0.0    139  0.354829  0.496920   \n",
      "140  0.518550  0.628215  0.009379          0.0    140  0.354605  0.490550   \n",
      "141  0.586563  0.690306  0.011324          0.0    141  0.352950  0.487371   \n",
      "142  0.533997  0.641789  0.009789          0.0    142  0.350437  0.485959   \n",
      "143  0.546672  0.653085  0.010136          0.0    143  0.351202  0.484563   \n",
      "144  0.561050  0.666197  0.010547          0.0    144  0.352304  0.490541   \n",
      "145  0.546485  0.653089  0.010136          0.0    145  0.349241  0.485516   \n",
      "146  0.549179  0.655940  0.010225          0.0    146  0.358190  0.496092   \n",
      "147  0.552321  0.658646  0.010309          0.0    147  0.351729  0.485694   \n",
      "148  0.547218  0.654085  0.010167          0.0    148  0.352826  0.491505   \n",
      "149  0.545815  0.652786  0.010127          0.0    149  0.352515  0.491258   \n",
      "\n",
      "         Loss  RegLoss  \n",
      "0    0.550171      0.0  \n",
      "1    0.401250      0.0  \n",
      "2    0.281922      0.0  \n",
      "3    0.194199      0.0  \n",
      "4    0.124869      0.0  \n",
      "5    0.069693      0.0  \n",
      "6    0.035405      0.0  \n",
      "7    0.017408      0.0  \n",
      "8    0.009543      0.0  \n",
      "9    0.006756      0.0  \n",
      "10   0.005918      0.0  \n",
      "11   0.005786      0.0  \n",
      "12   0.005801      0.0  \n",
      "13   0.005765      0.0  \n",
      "14   0.005671      0.0  \n",
      "15   0.005655      0.0  \n",
      "16   0.005676      0.0  \n",
      "17   0.005689      0.0  \n",
      "18   0.005670      0.0  \n",
      "19   0.005896      0.0  \n",
      "20   0.005882      0.0  \n",
      "21   0.006150      0.0  \n",
      "22   0.006504      0.0  \n",
      "23   0.005726      0.0  \n",
      "24   0.006025      0.0  \n",
      "25   0.006205      0.0  \n",
      "26   0.006471      0.0  \n",
      "27   0.006504      0.0  \n",
      "28   0.006369      0.0  \n",
      "29   0.006510      0.0  \n",
      "30   0.006804      0.0  \n",
      "31   0.007244      0.0  \n",
      "32   0.007498      0.0  \n",
      "33   0.007033      0.0  \n",
      "34   0.007397      0.0  \n",
      "35   0.008311      0.0  \n",
      "36   0.007796      0.0  \n",
      "37   0.007045      0.0  \n",
      "38   0.007792      0.0  \n",
      "39   0.007297      0.0  \n",
      "40   0.008719      0.0  \n",
      "41   0.010675      0.0  \n",
      "42   0.007187      0.0  \n",
      "43   0.009761      0.0  \n",
      "44   0.009023      0.0  \n",
      "45   0.012395      0.0  \n",
      "46   0.007693      0.0  \n",
      "47   0.008241      0.0  \n",
      "48   0.008388      0.0  \n",
      "49   0.009032      0.0  \n",
      "50   0.009104      0.0  \n",
      "51   0.010018      0.0  \n",
      "52   0.009337      0.0  \n",
      "53   0.007870      0.0  \n",
      "54   0.008107      0.0  \n",
      "55   0.009145      0.0  \n",
      "56   0.008230      0.0  \n",
      "57   0.008652      0.0  \n",
      "58   0.009193      0.0  \n",
      "59   0.009260      0.0  \n",
      "60   0.011340      0.0  \n",
      "61   0.009246      0.0  \n",
      "62   0.011087      0.0  \n",
      "63   0.008489      0.0  \n",
      "64   0.007815      0.0  \n",
      "65   0.007131      0.0  \n",
      "66   0.007899      0.0  \n",
      "67   0.007570      0.0  \n",
      "68   0.007548      0.0  \n",
      "69   0.007241      0.0  \n",
      "70   0.007653      0.0  \n",
      "71   0.008177      0.0  \n",
      "72   0.007386      0.0  \n",
      "73   0.007198      0.0  \n",
      "74   0.007796      0.0  \n",
      "75   0.008139      0.0  \n",
      "76   0.010523      0.0  \n",
      "77   0.007146      0.0  \n",
      "78   0.007568      0.0  \n",
      "79   0.006722      0.0  \n",
      "80   0.007850      0.0  \n",
      "81   0.007803      0.0  \n",
      "82   0.008095      0.0  \n",
      "83   0.008192      0.0  \n",
      "84   0.007197      0.0  \n",
      "85   0.006870      0.0  \n",
      "86   0.006839      0.0  \n",
      "87   0.007070      0.0  \n",
      "88   0.006694      0.0  \n",
      "89   0.006709      0.0  \n",
      "90   0.006725      0.0  \n",
      "91   0.006993      0.0  \n",
      "92   0.006982      0.0  \n",
      "93   0.007900      0.0  \n",
      "94   0.006364      0.0  \n",
      "95   0.006513      0.0  \n",
      "96   0.006174      0.0  \n",
      "97   0.005993      0.0  \n",
      "98   0.006580      0.0  \n",
      "99   0.006920      0.0  \n",
      "100  0.006158      0.0  \n",
      "101  0.006406      0.0  \n",
      "102  0.006656      0.0  \n",
      "103  0.005994      0.0  \n",
      "104  0.006394      0.0  \n",
      "105  0.005954      0.0  \n",
      "106  0.005851      0.0  \n",
      "107  0.006785      0.0  \n",
      "108  0.006676      0.0  \n",
      "109  0.005535      0.0  \n",
      "110  0.005894      0.0  \n",
      "111  0.006505      0.0  \n",
      "112  0.005987      0.0  \n",
      "113  0.005732      0.0  \n",
      "114  0.005501      0.0  \n",
      "115  0.005579      0.0  \n",
      "116  0.005964      0.0  \n",
      "117  0.005626      0.0  \n",
      "118  0.005220      0.0  \n",
      "119  0.005318      0.0  \n",
      "120  0.005369      0.0  \n",
      "121  0.005253      0.0  \n",
      "122  0.005336      0.0  \n",
      "123  0.005317      0.0  \n",
      "124  0.005199      0.0  \n",
      "125  0.005172      0.0  \n",
      "126  0.005179      0.0  \n",
      "127  0.005062      0.0  \n",
      "128  0.005279      0.0  \n",
      "129  0.005167      0.0  \n",
      "130  0.005011      0.0  \n",
      "131  0.004935      0.0  \n",
      "132  0.004951      0.0  \n",
      "133  0.004950      0.0  \n",
      "134  0.004815      0.0  \n",
      "135  0.004869      0.0  \n",
      "136  0.004910      0.0  \n",
      "137  0.004873      0.0  \n",
      "138  0.004982      0.0  \n",
      "139  0.004871      0.0  \n",
      "140  0.004783      0.0  \n",
      "141  0.004762      0.0  \n",
      "142  0.004715      0.0  \n",
      "143  0.004737      0.0  \n",
      "144  0.004782      0.0  \n",
      "145  0.004701      0.0  \n",
      "146  0.004992      0.0  \n",
      "147  0.004692      0.0  \n",
      "148  0.004733      0.0  \n",
      "149  0.004807      0.0  \n"
     ]
    }
   ],
   "source": [
    "with pd.option_context(\"display.max_rows\", None, \"display.max_columns\", None):\n",
    "    print(metrics)"
   ]
  },
  {
   "cell_type": "code",
   "execution_count": 22,
   "id": "109b0946-ba5e-4a48-8150-17090d2e7c2d",
   "metadata": {},
   "outputs": [
    {
     "name": "stderr",
     "output_type": "stream",
     "text": [
      "INFO - (NP.df_utils._infer_frequency) - Major frequency D corresponds to 99.966% of the data.\n",
      "INFO - (NP.df_utils._infer_frequency) - Defined frequency is equal to major frequency - D\n",
      "INFO - (NP.df_utils._infer_frequency) - Major frequency D corresponds to 99.966% of the data.\n",
      "INFO - (NP.df_utils._infer_frequency) - Defined frequency is equal to major frequency - D\n"
     ]
    },
    {
     "data": {
      "application/json": {
       "ascii": false,
       "bar_format": null,
       "colour": null,
       "elapsed": 0.021632909774780273,
       "initial": 75,
       "n": 75,
       "ncols": 88,
       "nrows": 26,
       "postfix": null,
       "prefix": "Predicting",
       "rate": null,
       "total": null,
       "unit": "it",
       "unit_divisor": 1000,
       "unit_scale": false
      },
      "application/vnd.jupyter.widget-view+json": {
       "model_id": "778d0e6628414ab88952d47c4da3d659",
       "version_major": 2,
       "version_minor": 0
      },
      "text/plain": [
       "Predicting: 75it [00:00, ?it/s]"
      ]
     },
     "metadata": {},
     "output_type": "display_data"
    },
    {
     "name": "stderr",
     "output_type": "stream",
     "text": [
      "INFO - (NP.df_utils.return_df_in_original_format) - Returning df with no ID column\n",
      "INFO - (NP.df_utils._infer_frequency) - Major frequency D corresponds to 99.966% of the data.\n",
      "INFO - (NP.df_utils._infer_frequency) - Defined frequency is equal to major frequency - D\n",
      "INFO - (NP.df_utils._infer_frequency) - Major frequency D corresponds to 99.966% of the data.\n",
      "INFO - (NP.df_utils._infer_frequency) - Defined frequency is equal to major frequency - D\n"
     ]
    },
    {
     "data": {
      "application/json": {
       "ascii": false,
       "bar_format": null,
       "colour": null,
       "elapsed": 0.020720720291137695,
       "initial": 75,
       "n": 75,
       "ncols": 88,
       "nrows": 26,
       "postfix": null,
       "prefix": "Predicting",
       "rate": null,
       "total": null,
       "unit": "it",
       "unit_divisor": 1000,
       "unit_scale": false
      },
      "application/vnd.jupyter.widget-view+json": {
       "model_id": "2c151b083987439f8712507ba80c6ad0",
       "version_major": 2,
       "version_minor": 0
      },
      "text/plain": [
       "Predicting: 75it [00:00, ?it/s]"
      ]
     },
     "metadata": {},
     "output_type": "display_data"
    },
    {
     "name": "stderr",
     "output_type": "stream",
     "text": [
      "INFO - (NP.df_utils.return_df_in_original_format) - Returning df with no ID column\n"
     ]
    },
    {
     "name": "stdout",
     "output_type": "stream",
     "text": [
      "             ds        y     yhat1     trend  season_yearly  season_weekly  \\\n",
      "0    2007-12-10   9.5908  8.689712  4.155756       0.431544       0.338075   \n",
      "1    2007-12-11   8.5196  8.442211  4.156180       0.423533       0.098162   \n",
      "2    2007-12-12   8.1837  8.268303  4.156604       0.416657      -0.069295   \n",
      "3    2007-12-13   8.0725  8.247316  4.157028       0.411077      -0.085125   \n",
      "4    2007-12-14   7.8936  8.246916  4.157452       0.406949      -0.081822   \n",
      "...         ...      ...       ...       ...            ...            ...   \n",
      "2959 2016-01-16   7.8172  9.039858  4.500613       1.060111      -0.285202   \n",
      "2960 2016-01-17   9.2739  9.424151  4.500570       1.074037       0.085209   \n",
      "2961 2016-01-18  10.3338  9.688035  4.500526       1.085097       0.338075   \n",
      "2962 2016-01-19   9.1259  9.456116  4.500484       1.093135       0.098162   \n",
      "2963 2016-01-20   8.8914  9.293492  4.500440       1.098011      -0.069295   \n",
      "\n",
      "      season_daily  \n",
      "0         3.764336  \n",
      "1         3.764336  \n",
      "2         3.764336  \n",
      "3         3.764336  \n",
      "4         3.764336  \n",
      "...            ...  \n",
      "2959      3.764336  \n",
      "2960      3.764336  \n",
      "2961      3.764336  \n",
      "2962      3.764336  \n",
      "2963      3.764336  \n",
      "\n",
      "[2964 rows x 7 columns]\n",
      "             ds        y     yhat1     trend  season_yearly  season_weekly  \\\n",
      "0    2007-12-10   9.5908  8.689712  4.155756       0.431544       0.338075   \n",
      "1    2007-12-11   8.5196  8.442211  4.156180       0.423533       0.098162   \n",
      "2    2007-12-12   8.1837  8.268303  4.156604       0.416657      -0.069295   \n",
      "3    2007-12-13   8.0725  8.247316  4.157028       0.411077      -0.085125   \n",
      "4    2007-12-14   7.8936  8.246916  4.157452       0.406949      -0.081822   \n",
      "...         ...      ...       ...       ...            ...            ...   \n",
      "2959 2016-01-16   7.8172  9.039858  4.500613       1.060111      -0.285202   \n",
      "2960 2016-01-17   9.2739  9.424151  4.500570       1.074037       0.085209   \n",
      "2961 2016-01-18  10.3338  9.688035  4.500526       1.085097       0.338075   \n",
      "2962 2016-01-19   9.1259  9.456116  4.500484       1.093135       0.098162   \n",
      "2963 2016-01-20   8.8914  9.293492  4.500440       1.098011      -0.069295   \n",
      "\n",
      "      season_daily  \n",
      "0         3.764336  \n",
      "1         3.764336  \n",
      "2         3.764336  \n",
      "3         3.764336  \n",
      "4         3.764336  \n",
      "...            ...  \n",
      "2959      3.764336  \n",
      "2960      3.764336  \n",
      "2961      3.764336  \n",
      "2962      3.764336  \n",
      "2963      3.764336  \n",
      "\n",
      "[2964 rows x 7 columns]\n"
     ]
    }
   ],
   "source": [
    "# model predict\n",
    "predicted = m.predict(df)\n",
    "forecast = m.predict(df)\n",
    "print(predicted)\n",
    "print(forecast)"
   ]
  },
  {
   "cell_type": "code",
   "execution_count": 27,
   "id": "48134337-53d0-46f5-9cfe-dd712cf66a95",
   "metadata": {},
   "outputs": [
    {
     "data": {
      "application/vnd.jupyter.widget-view+json": {
       "model_id": "dc43fb9c4acc4ac99aac071e2876f909",
       "version_major": 2,
       "version_minor": 0
      },
      "text/plain": [
       "FigureWidgetResampler({\n",
       "    'data': [{'fill': 'none',\n",
       "              'line': {'color': 'rgba(45, 146, 255, 1.0)', 'width': 2},\n",
       "              'mode': 'lines',\n",
       "              'name': '<b style=\"color:sandybrown\">[R]</b> yhat1 <i style=\"color:#fc9944\">~3D</i>',\n",
       "              'type': 'scatter',\n",
       "              'uid': 'f3f56bdf-3175-4fa2-a992-eb4e80751349',\n",
       "              'x': array([datetime.datetime(2007, 12, 10, 0, 0),\n",
       "                          datetime.datetime(2007, 12, 12, 0, 0),\n",
       "                          datetime.datetime(2007, 12, 15, 0, 0), ...,\n",
       "                          datetime.datetime(2016, 1, 16, 0, 0),\n",
       "                          datetime.datetime(2016, 1, 18, 0, 0),\n",
       "                          datetime.datetime(2016, 1, 20, 0, 0)], dtype=object),\n",
       "              'y': array([8.68971157, 8.26830292, 8.0414238 , ..., 9.03985786, 9.68803501,\n",
       "                          9.29349232])},\n",
       "             {'marker': {'color': 'black', 'size': 4},\n",
       "              'mode': 'markers',\n",
       "              'name': '<b style=\"color:sandybrown\">[R]</b> Actual <i style=\"color:#fc9944\">~3D</i>',\n",
       "              'type': 'scatter',\n",
       "              'uid': 'acbca9cb-ad84-4d30-b2df-3b292484052a',\n",
       "              'x': array([datetime.datetime(2007, 12, 10, 0, 0),\n",
       "                          datetime.datetime(2007, 12, 11, 0, 0),\n",
       "                          datetime.datetime(2007, 12, 15, 0, 0), ...,\n",
       "                          datetime.datetime(2016, 1, 16, 0, 0),\n",
       "                          datetime.datetime(2016, 1, 18, 0, 0),\n",
       "                          datetime.datetime(2016, 1, 20, 0, 0)], dtype=object),\n",
       "              'y': array([ 9.5908,  8.5196,  7.7836, ...,  7.8172, 10.3338,  8.8914])}],\n",
       "    'layout': {'autosize': True,\n",
       "               'font': {'size': 10},\n",
       "               'height': 420,\n",
       "               'hovermode': 'x unified',\n",
       "               'margin': {'b': 0, 'l': 0, 'pad': 0, 'r': 10, 't': 10},\n",
       "               'showlegend': True,\n",
       "               'template': '...',\n",
       "               'title': {'font': {'size': 12}},\n",
       "               'width': 700,\n",
       "               'xaxis': {'linewidth': 1.5,\n",
       "                         'mirror': True,\n",
       "                         'rangeselector': {'buttons': [{'count': 7, 'label': '1w', 'step': 'day', 'stepmode': 'backward'},\n",
       "                                                       {'count': 1,\n",
       "                                                        'label': '1m',\n",
       "                                                        'step': 'month',\n",
       "                                                        'stepmode': 'backward'},\n",
       "                                                       {'count': 6,\n",
       "                                                        'label': '6m',\n",
       "                                                        'step': 'month',\n",
       "                                                        'stepmode': 'backward'},\n",
       "                                                       {'count': 1, 'label': '1y', 'step': 'year', 'stepmode': 'backward'},\n",
       "                                                       {'step': 'all'}]},\n",
       "                         'rangeslider': {'visible': True},\n",
       "                         'showline': True,\n",
       "                         'title': {'text': 'ds'},\n",
       "                         'type': 'date'},\n",
       "               'yaxis': {'linewidth': 1.5, 'mirror': True, 'showline': True, 'title': {'text': 'y'}}}\n",
       "})"
      ]
     },
     "execution_count": 27,
     "metadata": {},
     "output_type": "execute_result"
    }
   ],
   "source": [
    "# plotting\n",
    "forecast_plot = m.plot(forecast)\n",
    "forecast_plot"
   ]
  },
  {
   "cell_type": "code",
   "execution_count": 28,
   "id": "0ab5dbc1-6093-4664-8427-1d4789bc770a",
   "metadata": {},
   "outputs": [
    {
     "data": {
      "application/vnd.jupyter.widget-view+json": {
       "model_id": "ed3457e5fbd94f4b8b4ee2459cbdf6d1",
       "version_major": 2,
       "version_minor": 0
      },
      "text/plain": [
       "FigureWidgetResampler({\n",
       "    'data': [{'line': {'color': '#2d92ff', 'width': 2},\n",
       "              'mode': 'lines',\n",
       "              'name': '<b style=\"color:sandybrown\">[R]</b> Trend <i style=\"color:#fc9944\">~3D</i>',\n",
       "              'showlegend': False,\n",
       "              'type': 'scatter',\n",
       "              'uid': '813682f8-b225-4696-bfac-82fdc6cf3cda',\n",
       "              'x': array([datetime.datetime(2007, 12, 10, 0, 0),\n",
       "                          datetime.datetime(2007, 12, 12, 0, 0),\n",
       "                          datetime.datetime(2007, 12, 15, 0, 0), ...,\n",
       "                          datetime.datetime(2016, 1, 16, 0, 0),\n",
       "                          datetime.datetime(2016, 1, 18, 0, 0),\n",
       "                          datetime.datetime(2016, 1, 20, 0, 0)], dtype=object),\n",
       "              'xaxis': 'x',\n",
       "              'y': array([4.155756  , 4.15660429, 4.15787601, ..., 4.50061321, 4.50052643,\n",
       "                          4.50044012]),\n",
       "              'yaxis': 'y'},\n",
       "             {'line': {'color': '#2d92ff', 'width': 2},\n",
       "              'mode': 'lines',\n",
       "              'name': ('<b style=\"color:sandybrown\">[R' ... ' style=\"color:#fc9944\">~3D</i>'),\n",
       "              'showlegend': False,\n",
       "              'type': 'scatter',\n",
       "              'uid': '39aa785f-c264-487e-9566-17df7d8d6ecd',\n",
       "              'x': array([datetime.datetime(2007, 12, 10, 0, 0),\n",
       "                          datetime.datetime(2007, 12, 12, 0, 0),\n",
       "                          datetime.datetime(2007, 12, 15, 0, 0), ...,\n",
       "                          datetime.datetime(2016, 1, 16, 0, 0),\n",
       "                          datetime.datetime(2016, 1, 18, 0, 0),\n",
       "                          datetime.datetime(2016, 1, 20, 0, 0)], dtype=object),\n",
       "              'xaxis': 'x2',\n",
       "              'y': array([0.43154448, 0.4166567 , 0.40441406, ..., 1.06011117, 1.08509731,\n",
       "                          1.09801078]),\n",
       "              'yaxis': 'y2'},\n",
       "             {'line': {'color': '#2d92ff', 'width': 2},\n",
       "              'mode': 'lines',\n",
       "              'name': ('<b style=\"color:sandybrown\">[R' ... ' style=\"color:#fc9944\">~3D</i>'),\n",
       "              'showlegend': False,\n",
       "              'type': 'scatter',\n",
       "              'uid': 'e209639f-7488-40bc-9411-f30126c64bbc',\n",
       "              'x': array([datetime.datetime(2007, 12, 10, 0, 0),\n",
       "                          datetime.datetime(2007, 12, 12, 0, 0),\n",
       "                          datetime.datetime(2007, 12, 15, 0, 0), ...,\n",
       "                          datetime.datetime(2016, 1, 16, 0, 0),\n",
       "                          datetime.datetime(2016, 1, 18, 0, 0),\n",
       "                          datetime.datetime(2016, 1, 20, 0, 0)], dtype=object),\n",
       "              'xaxis': 'x3',\n",
       "              'y': array([ 0.33807471, -0.06929506, -0.28520244, ..., -0.28520244,  0.33807471,\n",
       "                          -0.06929506]),\n",
       "              'yaxis': 'y3'},\n",
       "             {'line': {'color': '#2d92ff', 'width': 2},\n",
       "              'mode': 'lines',\n",
       "              'name': ('<b style=\"color:sandybrown\">[R' ... ' style=\"color:#fc9944\">~3D</i>'),\n",
       "              'showlegend': False,\n",
       "              'type': 'scatter',\n",
       "              'uid': '1b119605-9fc4-42b9-8db2-d0a686be79ea',\n",
       "              'x': array([datetime.datetime(2007, 12, 10, 0, 0),\n",
       "                          datetime.datetime(2007, 12, 11, 0, 0),\n",
       "                          datetime.datetime(2007, 12, 13, 0, 0), ...,\n",
       "                          datetime.datetime(2016, 1, 14, 0, 0),\n",
       "                          datetime.datetime(2016, 1, 17, 0, 0),\n",
       "                          datetime.datetime(2016, 1, 20, 0, 0)], dtype=object),\n",
       "              'xaxis': 'x4',\n",
       "              'y': array([3.76433635, 3.76433635, 3.76433635, ..., 3.76433635, 3.76433635,\n",
       "                          3.76433635]),\n",
       "              'yaxis': 'y4'}],\n",
       "    'layout': {'autosize': True,\n",
       "               'font': {'size': 10},\n",
       "               'height': 840,\n",
       "               'hovermode': 'x unified',\n",
       "               'legend': {'traceorder': 'reversed', 'y': 0.1},\n",
       "               'margin': {'b': 0, 'l': 0, 'pad': 0, 'r': 10, 't': 10},\n",
       "               'template': '...',\n",
       "               'title': {'font': {'size': 12}},\n",
       "               'width': 700,\n",
       "               'xaxis': {'anchor': 'y',\n",
       "                         'domain': [0.0, 1.0],\n",
       "                         'linewidth': 1.5,\n",
       "                         'mirror': True,\n",
       "                         'range': [2007-07-15 00:00:00, 2016-06-16 00:00:00],\n",
       "                         'showline': True,\n",
       "                         'title': {'text': 'ds'},\n",
       "                         'type': 'date'},\n",
       "               'xaxis2': {'anchor': 'y2',\n",
       "                          'domain': [0.0, 1.0],\n",
       "                          'linewidth': 1.5,\n",
       "                          'mirror': True,\n",
       "                          'range': [2007-07-15 00:00:00, 2016-06-16 00:00:00],\n",
       "                          'showline': True,\n",
       "                          'title': {'text': 'ds'},\n",
       "                          'type': 'date'},\n",
       "               'xaxis3': {'anchor': 'y3',\n",
       "                          'domain': [0.0, 1.0],\n",
       "                          'linewidth': 1.5,\n",
       "                          'mirror': True,\n",
       "                          'range': [2007-07-15 00:00:00, 2016-06-16 00:00:00],\n",
       "                          'showline': True,\n",
       "                          'title': {'text': 'ds'},\n",
       "                          'type': 'date'},\n",
       "               'xaxis4': {'anchor': 'y4',\n",
       "                          'domain': [0.0, 1.0],\n",
       "                          'linewidth': 1.5,\n",
       "                          'mirror': True,\n",
       "                          'range': [2007-07-15 00:00:00, 2016-06-16 00:00:00],\n",
       "                          'showline': True,\n",
       "                          'title': {'text': 'ds'},\n",
       "                          'type': 'date'},\n",
       "               'yaxis': {'anchor': 'x',\n",
       "                         'domain': [0.80625, 1.0],\n",
       "                         'linewidth': 1.5,\n",
       "                         'mirror': True,\n",
       "                         'rangemode': 'normal',\n",
       "                         'showline': True,\n",
       "                         'title': {'text': 'Trend'}},\n",
       "               'yaxis2': {'anchor': 'x2',\n",
       "                          'domain': [0.5375, 0.73125],\n",
       "                          'linewidth': 1.5,\n",
       "                          'mirror': True,\n",
       "                          'rangemode': 'tozero',\n",
       "                          'showline': True,\n",
       "                          'title': {'text': 'yearly seasonality'}},\n",
       "               'yaxis3': {'anchor': 'x3',\n",
       "                          'domain': [0.26875, 0.4625],\n",
       "                          'linewidth': 1.5,\n",
       "                          'mirror': True,\n",
       "                          'rangemode': 'tozero',\n",
       "                          'showline': True,\n",
       "                          'title': {'text': 'weekly seasonality'}},\n",
       "               'yaxis4': {'anchor': 'x4',\n",
       "                          'domain': [0.0, 0.19375],\n",
       "                          'linewidth': 1.5,\n",
       "                          'mirror': True,\n",
       "                          'rangemode': 'tozero',\n",
       "                          'showline': True,\n",
       "                          'title': {'text': 'daily seasonality'}}}\n",
       "})"
      ]
     },
     "execution_count": 28,
     "metadata": {},
     "output_type": "execute_result"
    }
   ],
   "source": [
    "fig_comp = m.plot_components((forecast))\n",
    "fig_comp"
   ]
  },
  {
   "cell_type": "code",
   "execution_count": 29,
   "id": "d882f613-1dd6-4e12-95e4-4120a937f048",
   "metadata": {},
   "outputs": [
    {
     "data": {
      "application/vnd.jupyter.widget-view+json": {
       "model_id": "bfd0c966a60642bd8a0e07d7429f87c8",
       "version_major": 2,
       "version_minor": 0
      },
      "text/plain": [
       "FigureWidgetResampler({\n",
       "    'data': [{'fill': 'none',\n",
       "              'line': {'color': '#2d92ff', 'width': 2},\n",
       "              'mode': 'lines',\n",
       "              'name': '<b style=\"color:sandybrown\">[R]</b> Trend <i style=\"color:#fc9944\">~2D</i>',\n",
       "              'type': 'scatter',\n",
       "              'uid': '20c34cd0-3bd5-420a-9ea0-75d9597fd84b',\n",
       "              'x': array([datetime.datetime(2007, 12, 10, 0, 0),\n",
       "                          datetime.datetime(2007, 12, 11, 0, 0),\n",
       "                          datetime.datetime(2007, 12, 13, 0, 0), ...,\n",
       "                          datetime.datetime(2014, 6, 2, 0, 0),\n",
       "                          datetime.datetime(2014, 6, 6, 0, 0),\n",
       "                          datetime.datetime(2014, 6, 7, 0, 0)], dtype=object),\n",
       "              'xaxis': 'x',\n",
       "              'y': array([4.15575596, 4.15618002, 4.15702815, ..., 4.52631367, 4.52614031,\n",
       "                          4.52609697]),\n",
       "              'yaxis': 'y'},\n",
       "             {'marker': {'color': '#2d92ff'},\n",
       "              'name': 'Trend Rate Change',\n",
       "              'type': 'bar',\n",
       "              'uid': '7e9e3b07-1db5-4571-ba83-e0694c767ac6',\n",
       "              'x': array([Timestamp('2007-12-10 00:00:00'),\n",
       "                          Timestamp('2008-05-30 10:28:21.818182'),\n",
       "                          Timestamp('2008-11-18 20:56:43.636364'),\n",
       "                          Timestamp('2009-05-10 07:25:05.454545'),\n",
       "                          Timestamp('2009-10-29 17:53:27.272727'),\n",
       "                          Timestamp('2010-04-20 04:21:49.090909'),\n",
       "                          Timestamp('2010-10-09 14:50:10.909091'),\n",
       "                          Timestamp('2011-03-31 01:18:32.727273'),\n",
       "                          Timestamp('2011-09-19 11:46:54.545455'),\n",
       "                          Timestamp('2012-03-09 22:15:16.363636'),\n",
       "                          Timestamp('2012-08-29 08:43:38.181818'),\n",
       "                          Timestamp('2014-06-07 00:00:00')], dtype=object),\n",
       "              'xaxis': 'x2',\n",
       "              'y': array([-0.74491704, -2.403265  ,  4.15777445, -1.11494756, -0.86872351,\n",
       "                          -0.09561986,  0.33181584, -0.40065736,  3.22927594, -5.71941805,\n",
       "                           2.64216161,  0.        ]),\n",
       "              'yaxis': 'y2'},\n",
       "             {'fill': 'none',\n",
       "              'line': {'color': '#2d92ff', 'width': 2},\n",
       "              'mode': 'lines',\n",
       "              'name': 'yearly',\n",
       "              'type': 'scatter',\n",
       "              'uid': '3c8fd9e7-6e2e-4d82-9962-30efc608d631',\n",
       "              'x': array([datetime.datetime(2017, 1, 1, 0, 0),\n",
       "                          datetime.datetime(2017, 1, 2, 0, 0),\n",
       "                          datetime.datetime(2017, 1, 3, 0, 0), ...,\n",
       "                          datetime.datetime(2017, 12, 29, 0, 0),\n",
       "                          datetime.datetime(2017, 12, 30, 0, 0),\n",
       "                          datetime.datetime(2017, 12, 31, 0, 0)], dtype=object),\n",
       "              'xaxis': 'x3',\n",
       "              'y': array([0.67919495, 0.70927182, 0.73986891, ..., 0.58770632, 0.61458525,\n",
       "                          0.64267687]),\n",
       "              'yaxis': 'y3'},\n",
       "             {'fill': 'none',\n",
       "              'line': {'color': '#2d92ff', 'width': 2},\n",
       "              'mode': 'lines',\n",
       "              'name': 'weekly',\n",
       "              'type': 'scatter',\n",
       "              'uid': '96da680a-d16d-44fe-bf1a-f3f6e5d42c0e',\n",
       "              'x': array([  0,   1,   2,   3,   4,   5,   6,   7,   8,   9,  10,  11,  12,  13,\n",
       "                           14,  15,  16,  17,  18,  19,  20,  21,  22,  23,  24,  25,  26,  27,\n",
       "                           28,  29,  30,  31,  32,  33,  34,  35,  36,  37,  38,  39,  40,  41,\n",
       "                           42,  43,  44,  45,  46,  47,  48,  49,  50,  51,  52,  53,  54,  55,\n",
       "                           56,  57,  58,  59,  60,  61,  62,  63,  64,  65,  66,  67,  68,  69,\n",
       "                           70,  71,  72,  73,  74,  75,  76,  77,  78,  79,  80,  81,  82,  83,\n",
       "                           84,  85,  86,  87,  88,  89,  90,  91,  92,  93,  94,  95,  96,  97,\n",
       "                           98,  99, 100, 101, 102, 103, 104, 105, 106, 107, 108, 109, 110, 111,\n",
       "                          112, 113, 114, 115, 116, 117, 118, 119, 120, 121, 122, 123, 124, 125,\n",
       "                          126, 127, 128, 129, 130, 131, 132, 133, 134, 135, 136, 137, 138, 139,\n",
       "                          140, 141, 142, 143, 144, 145, 146, 147, 148, 149, 150, 151, 152, 153,\n",
       "                          154, 155, 156, 157, 158, 159, 160, 161, 162, 163, 164, 165, 166, 167]),\n",
       "              'xaxis': 'x4',\n",
       "              'y': array([ 0.08520855,  0.10787999,  0.13008661,  0.15170462,  0.17261581,\n",
       "                           0.19270854,  0.21187858,  0.23002992,  0.24707548,  0.26293768,\n",
       "                           0.27754894,  0.29085212,  0.30280073,  0.31335915,  0.32250268,\n",
       "                           0.33021747,  0.33650038,  0.3413587 ,  0.3448098 ,  0.34688069,\n",
       "                           0.34760741,  0.34703448,  0.34521417,  0.34220576,  0.3380747 ,\n",
       "                           0.3328918 ,  0.32673233,  0.31967512,  0.31180166,  0.30319518,\n",
       "                           0.29393978,  0.28411953,  0.27381765,  0.26311571,  0.25209287,\n",
       "                           0.2408252 ,  0.22938509,  0.21784063,  0.20625521,  0.19468704,\n",
       "                           0.18318894,  0.17180801,  0.16058557,  0.14955704,  0.13875202,\n",
       "                           0.12819433,  0.11790226,  0.10788878,  0.09816186,  0.08872486,\n",
       "                           0.07957696,  0.07071364,  0.06212717,  0.05380715,  0.04574111,\n",
       "                           0.037915  ,  0.03031383,  0.02292219,  0.01572481,  0.00870704,\n",
       "                           0.00185539, -0.0048421 , -0.0113954 , -0.01781218, -0.02409754,\n",
       "                          -0.03025375, -0.03628016, -0.04217304, -0.04792562, -0.05352811,\n",
       "                          -0.05896784, -0.06422943, -0.06929505, -0.07414472, -0.0787567 ,\n",
       "                          -0.08310786, -0.08717417, -0.09093116, -0.09435446, -0.09742033,\n",
       "                          -0.10010621, -0.10239125, -0.10425687, -0.10568729, -0.10667   ,\n",
       "                          -0.10719627, -0.10726155, -0.10686587, -0.10601412, -0.10471638,\n",
       "                          -0.10298803, -0.10084995, -0.09832851, -0.09545556, -0.0922683 ,\n",
       "                          -0.08880913, -0.08512529, -0.0812686 , -0.07729495, -0.07326387,\n",
       "                          -0.0692379 , -0.06528198, -0.06146277, -0.05784794, -0.05450533,\n",
       "                          -0.05150222, -0.04890446, -0.04677569, -0.04517643, -0.04416334,\n",
       "                          -0.04378836, -0.04409798, -0.04513249, -0.0469253 , -0.04950236,\n",
       "                          -0.05288156, -0.05707231, -0.06207512, -0.06788134, -0.07447291,\n",
       "                          -0.08182235, -0.08989268, -0.09863757, -0.10800156, -0.1179204 ,\n",
       "                          -0.12832142, -0.13912412, -0.15024076, -0.16157707, -0.17303308,\n",
       "                          -0.18450395, -0.19588094, -0.20705241, -0.21790483, -0.22832394,\n",
       "                          -0.23819576, -0.24740781, -0.25585014, -0.26341654, -0.27000555,\n",
       "                          -0.27552155, -0.27987579, -0.28298729, -0.28478377, -0.28520242,\n",
       "                          -0.28419065, -0.28170668, -0.27772008, -0.27221217, -0.26517632,\n",
       "                          -0.25661811, -0.24655542, -0.23501835, -0.22204903, -0.20770133,\n",
       "                          -0.19204045, -0.17514237, -0.15709324, -0.13798864, -0.11793272,\n",
       "                          -0.09703736, -0.07542113, -0.05320828, -0.03052762, -0.00751142,\n",
       "                           0.01570578,  0.03898834,  0.0622007 ]),\n",
       "              'yaxis': 'y4'},\n",
       "             {'fill': 'none',\n",
       "              'line': {'color': '#2d92ff', 'width': 2},\n",
       "              'mode': 'lines',\n",
       "              'name': 'daily',\n",
       "              'type': 'scatter',\n",
       "              'uid': '24294607-78de-4cf9-9f13-fd2ea0f507ab',\n",
       "              'x': array([  0,   1,   2, ..., 285, 286, 287]),\n",
       "              'xaxis': 'x5',\n",
       "              'y': array([3.76433627, 3.56347931, 3.33768098, ..., 4.19096472, 4.08036346,\n",
       "                          3.93745402]),\n",
       "              'yaxis': 'y5'}],\n",
       "    'layout': {'autosize': True,\n",
       "               'font': {'size': 10},\n",
       "               'height': 1050,\n",
       "               'hovermode': 'x unified',\n",
       "               'margin': {'b': 0, 'l': 0, 'pad': 0, 'r': 10, 't': 10},\n",
       "               'showlegend': False,\n",
       "               'template': '...',\n",
       "               'title': {'font': {'size': 12}},\n",
       "               'width': 700,\n",
       "               'xaxis': {'anchor': 'y',\n",
       "                         'domain': [0.0, 1.0],\n",
       "                         'linewidth': 1.5,\n",
       "                         'mirror': True,\n",
       "                         'range': [2007-08-13 00:00:00, 2014-10-04 00:00:00],\n",
       "                         'showline': True,\n",
       "                         'title': {'text': 'ds'},\n",
       "                         'type': 'date'},\n",
       "               'xaxis2': {'anchor': 'y2',\n",
       "                          'domain': [0.0, 1.0],\n",
       "                          'linewidth': 1.5,\n",
       "                          'mirror': True,\n",
       "                          'range': [2007-06-20 13:31:38.181818, 2014-11-26\n",
       "                                    10:28:21.818182],\n",
       "                          'showline': True,\n",
       "                          'title': {'text': 'Trend segment'},\n",
       "                          'type': 'date'},\n",
       "               'xaxis3': {'anchor': 'y3',\n",
       "                          'domain': [0.0, 1.0],\n",
       "                          'linewidth': 1.5,\n",
       "                          'mirror': True,\n",
       "                          'range': [2016-12-14 00:00:00, 2018-01-18 00:00:00],\n",
       "                          'showline': True,\n",
       "                          'title': {'text': 'Day of year'}},\n",
       "               'xaxis4': {'anchor': 'y4',\n",
       "                          'domain': [0.0, 1.0],\n",
       "                          'linewidth': 1.5,\n",
       "                          'mirror': True,\n",
       "                          'range': [-8, 175],\n",
       "                          'showline': True,\n",
       "                          'tickmode': 'array',\n",
       "                          'ticktext': [Sunday, Monday, Tuesday, Wednesday,\n",
       "                                       Thursday, Friday, Saturday, Sunday, Sunday],\n",
       "                          'tickvals': [0, 24, 48, 72, 96, 120, 144, 168, 192],\n",
       "                          'title': {'text': 'Day of week'}},\n",
       "               'xaxis5': {'anchor': 'y5',\n",
       "                          'domain': [0.0, 1.0],\n",
       "                          'linewidth': 1.5,\n",
       "                          'mirror': True,\n",
       "                          'range': [-14, 301],\n",
       "                          'showline': True,\n",
       "                          'tickmode': 'array',\n",
       "                          'ticktext': [0, 1, 2, 3, 4, 5, 6, 7, 8, 9, 10, 11, 12,\n",
       "                                       13, 14, 15, 16, 17, 18, 19, 20, 21, 22, 23,\n",
       "                                       24],\n",
       "                          'tickvals': [0, 12, 24, 36, 48, 60, 72, 84, 96, 108,\n",
       "                                       120, 132, 144, 156, 168, 180, 192, 204, 216,\n",
       "                                       228, 240, 252, 264, 276, 288],\n",
       "                          'title': {'text': 'Hour of day'}},\n",
       "               'yaxis': {'anchor': 'x',\n",
       "                         'domain': [0.848, 1.0],\n",
       "                         'linewidth': 1.5,\n",
       "                         'mirror': True,\n",
       "                         'rangemode': 'normal',\n",
       "                         'showline': True,\n",
       "                         'title': {'text': 'Trend'}},\n",
       "               'yaxis2': {'anchor': 'x2',\n",
       "                          'domain': [0.6359999999999999, 0.7879999999999999],\n",
       "                          'linewidth': 1.5,\n",
       "                          'mirror': True,\n",
       "                          'rangemode': 'normal',\n",
       "                          'showline': True,\n",
       "                          'title': {'text': 'Trend Rate Change'}},\n",
       "               'yaxis3': {'anchor': 'x3',\n",
       "                          'domain': [0.424, 0.576],\n",
       "                          'linewidth': 1.5,\n",
       "                          'mirror': True,\n",
       "                          'rangemode': 'normal',\n",
       "                          'showline': True,\n",
       "                          'title': {'text': 'Seasonality: yearly'}},\n",
       "               'yaxis4': {'anchor': 'x4',\n",
       "                          'domain': [0.212, 0.364],\n",
       "                          'linewidth': 1.5,\n",
       "                          'mirror': True,\n",
       "                          'rangemode': 'normal',\n",
       "                          'showline': True,\n",
       "                          'title': {'text': 'Seasonality: weekly'}},\n",
       "               'yaxis5': {'anchor': 'x5',\n",
       "                          'domain': [0.0, 0.152],\n",
       "                          'linewidth': 1.5,\n",
       "                          'mirror': True,\n",
       "                          'rangemode': 'normal',\n",
       "                          'showline': True,\n",
       "                          'title': {'text': 'Seasonality: daily'}}}\n",
       "})"
      ]
     },
     "execution_count": 29,
     "metadata": {},
     "output_type": "execute_result"
    }
   ],
   "source": [
    "fig_param = m.plot_parameters()\n",
    "fig_param"
   ]
  },
  {
   "cell_type": "code",
   "execution_count": null,
   "id": "690da757-92f9-4e50-b2e6-3329724150f9",
   "metadata": {},
   "outputs": [],
   "source": []
  }
 ],
 "metadata": {
  "kernelspec": {
   "display_name": "Python 3 (ipykernel)",
   "language": "python",
   "name": "python3"
  },
  "language_info": {
   "codemirror_mode": {
    "name": "ipython",
    "version": 3
   },
   "file_extension": ".py",
   "mimetype": "text/x-python",
   "name": "python",
   "nbconvert_exporter": "python",
   "pygments_lexer": "ipython3",
   "version": "3.7.10"
  }
 },
 "nbformat": 4,
 "nbformat_minor": 5
}
