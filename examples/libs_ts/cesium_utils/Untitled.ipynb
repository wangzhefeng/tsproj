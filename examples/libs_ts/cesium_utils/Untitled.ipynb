{
 "cells": [
  {
   "cell_type": "code",
   "execution_count": 79,
   "id": "5a8260dd-7f4a-4bdc-9fd1-5b2b3d8860d7",
   "metadata": {},
   "outputs": [],
   "source": [
    "# data utils\n",
    "import scipy\n",
    "import numpy as np\n",
    "import pandas as pd\n",
    "import matplotlib.pyplot as plt\n",
    "import seaborn as sns\n",
    "import pywt\n",
    "\n",
    "# data and feature engine\n",
    "from cesium import datasets\n",
    "from cesium import featurize\n",
    "\n",
    "\n",
    "# model\n",
    "from sklearn.ensemble import RandomForestClassifier\n",
    "from sklearn.neighbors import KNeighborsClassifier\n",
    "from sklearn.model_selection import train_test_split\n",
    "from sklearn.metrics import accuracy_score"
   ]
  },
  {
   "cell_type": "markdown",
   "id": "014efb63-02a0-4895-ae9f-49a25e694e5d",
   "metadata": {},
   "source": [
    "# data"
   ]
  },
  {
   "cell_type": "code",
   "execution_count": 26,
   "id": "f853f9b2-c123-4148-b23e-9619fb8b9146",
   "metadata": {},
   "outputs": [
    {
     "name": "stderr",
     "output_type": "stream",
     "text": [
      "Loaded data from cached archive.\n"
     ]
    },
    {
     "data": {
      "text/html": [
       "<div>\n",
       "<style scoped>\n",
       "    .dataframe tbody tr th:only-of-type {\n",
       "        vertical-align: middle;\n",
       "    }\n",
       "\n",
       "    .dataframe tbody tr th {\n",
       "        vertical-align: top;\n",
       "    }\n",
       "\n",
       "    .dataframe thead th {\n",
       "        text-align: right;\n",
       "    }\n",
       "</style>\n",
       "<table border=\"1\" class=\"dataframe\">\n",
       "  <thead>\n",
       "    <tr style=\"text-align: right;\">\n",
       "      <th></th>\n",
       "      <th>times</th>\n",
       "      <th>measurements</th>\n",
       "      <th>classes</th>\n",
       "      <th>archive</th>\n",
       "      <th>header</th>\n",
       "    </tr>\n",
       "  </thead>\n",
       "  <tbody>\n",
       "    <tr>\n",
       "      <th>0</th>\n",
       "      <td>[0.0, 0.00576171875, 0.0115234375, 0.017285156...</td>\n",
       "      <td>[40.0, 48.0, 35.0, 5.0, -40.0, -54.0, -32.0, 6...</td>\n",
       "      <td>Z</td>\n",
       "      <td>/Users/zfwang/.local/datasets/andrzejak/andrze...</td>\n",
       "      <td>/Users/zfwang/.local/datasets/andrzejak/andrze...</td>\n",
       "    </tr>\n",
       "    <tr>\n",
       "      <th>1</th>\n",
       "      <td>[0.0, 0.00576171875, 0.0115234375, 0.017285156...</td>\n",
       "      <td>[-56.0, -50.0, -64.0, -91.0, -135.0, -140.0, -...</td>\n",
       "      <td>Z</td>\n",
       "      <td>/Users/zfwang/.local/datasets/andrzejak/andrze...</td>\n",
       "      <td>/Users/zfwang/.local/datasets/andrzejak/andrze...</td>\n",
       "    </tr>\n",
       "    <tr>\n",
       "      <th>2</th>\n",
       "      <td>[0.0, 0.00576171875, 0.0115234375, 0.017285156...</td>\n",
       "      <td>[-37.0, -22.0, -17.0, -24.0, -31.0, -20.0, -5....</td>\n",
       "      <td>Z</td>\n",
       "      <td>/Users/zfwang/.local/datasets/andrzejak/andrze...</td>\n",
       "      <td>/Users/zfwang/.local/datasets/andrzejak/andrze...</td>\n",
       "    </tr>\n",
       "    <tr>\n",
       "      <th>3</th>\n",
       "      <td>[0.0, 0.00576171875, 0.0115234375, 0.017285156...</td>\n",
       "      <td>[-31.0, -43.0, -39.0, -39.0, -9.0, -5.0, 18.0,...</td>\n",
       "      <td>Z</td>\n",
       "      <td>/Users/zfwang/.local/datasets/andrzejak/andrze...</td>\n",
       "      <td>/Users/zfwang/.local/datasets/andrzejak/andrze...</td>\n",
       "    </tr>\n",
       "    <tr>\n",
       "      <th>4</th>\n",
       "      <td>[0.0, 0.00576171875, 0.0115234375, 0.017285156...</td>\n",
       "      <td>[14.0, 26.0, 32.0, 25.0, 16.0, 8.0, 8.0, 12.0,...</td>\n",
       "      <td>Z</td>\n",
       "      <td>/Users/zfwang/.local/datasets/andrzejak/andrze...</td>\n",
       "      <td>/Users/zfwang/.local/datasets/andrzejak/andrze...</td>\n",
       "    </tr>\n",
       "  </tbody>\n",
       "</table>\n",
       "</div>"
      ],
      "text/plain": [
       "                                               times  \\\n",
       "0  [0.0, 0.00576171875, 0.0115234375, 0.017285156...   \n",
       "1  [0.0, 0.00576171875, 0.0115234375, 0.017285156...   \n",
       "2  [0.0, 0.00576171875, 0.0115234375, 0.017285156...   \n",
       "3  [0.0, 0.00576171875, 0.0115234375, 0.017285156...   \n",
       "4  [0.0, 0.00576171875, 0.0115234375, 0.017285156...   \n",
       "\n",
       "                                        measurements classes  \\\n",
       "0  [40.0, 48.0, 35.0, 5.0, -40.0, -54.0, -32.0, 6...       Z   \n",
       "1  [-56.0, -50.0, -64.0, -91.0, -135.0, -140.0, -...       Z   \n",
       "2  [-37.0, -22.0, -17.0, -24.0, -31.0, -20.0, -5....       Z   \n",
       "3  [-31.0, -43.0, -39.0, -39.0, -9.0, -5.0, 18.0,...       Z   \n",
       "4  [14.0, 26.0, 32.0, 25.0, 16.0, 8.0, 8.0, 12.0,...       Z   \n",
       "\n",
       "                                             archive  \\\n",
       "0  /Users/zfwang/.local/datasets/andrzejak/andrze...   \n",
       "1  /Users/zfwang/.local/datasets/andrzejak/andrze...   \n",
       "2  /Users/zfwang/.local/datasets/andrzejak/andrze...   \n",
       "3  /Users/zfwang/.local/datasets/andrzejak/andrze...   \n",
       "4  /Users/zfwang/.local/datasets/andrzejak/andrze...   \n",
       "\n",
       "                                              header  \n",
       "0  /Users/zfwang/.local/datasets/andrzejak/andrze...  \n",
       "1  /Users/zfwang/.local/datasets/andrzejak/andrze...  \n",
       "2  /Users/zfwang/.local/datasets/andrzejak/andrze...  \n",
       "3  /Users/zfwang/.local/datasets/andrzejak/andrze...  \n",
       "4  /Users/zfwang/.local/datasets/andrzejak/andrze...  "
      ]
     },
     "execution_count": 26,
     "metadata": {},
     "output_type": "execute_result"
    }
   ],
   "source": [
    "eeg = datasets.fetch_andrzejak()\n",
    "eeg_df = pd.DataFrame(eeg)\n",
    "eeg_df.head()"
   ]
  },
  {
   "cell_type": "code",
   "execution_count": 27,
   "id": "454c9a08-86de-473f-bba0-b408af978352",
   "metadata": {},
   "outputs": [
    {
     "data": {
      "text/plain": [
       "(500, 5)"
      ]
     },
     "execution_count": 27,
     "metadata": {},
     "output_type": "execute_result"
    }
   ],
   "source": [
    "eeg_df.shape"
   ]
  },
  {
   "cell_type": "code",
   "execution_count": 50,
   "id": "f7f27f4a-2fd6-4837-bb85-9766b4188548",
   "metadata": {},
   "outputs": [
    {
     "data": {
      "text/plain": [
       "(4097, 4097)"
      ]
     },
     "execution_count": 50,
     "metadata": {},
     "output_type": "execute_result"
    }
   ],
   "source": [
    "len(eeg[\"times\"][0]), len(eeg[\"measurements\"][0])"
   ]
  },
  {
   "cell_type": "markdown",
   "id": "f6033bc7-a114-406a-b607-243f3f08c296",
   "metadata": {},
   "source": [
    "# feature engine"
   ]
  },
  {
   "cell_type": "markdown",
   "id": "0a48fd05-7085-4caa-ab6f-98f4b5e78097",
   "metadata": {},
   "source": [
    "## 类别型变量"
   ]
  },
  {
   "cell_type": "code",
   "execution_count": 28,
   "id": "cb8fb3ac-ef21-41aa-90f8-64c350068b40",
   "metadata": {},
   "outputs": [],
   "source": [
    "eeg[\"classes\"] = eeg[\"classes\"].astype(\"U16\")\n",
    "eeg[\"classes\"][np.logical_or(eeg[\"classes\"] == \"Z\", eeg[\"classes\"] == \"O\")] = \"Normal\"\n",
    "eeg[\"classes\"][np.logical_or(eeg[\"classes\"] == \"N\", eeg[\"classes\"] == \"F\")] = \"Interictal\"\n",
    "eeg[\"classes\"][eeg[\"classes\"] == \"S\"] = \"Ictal\""
   ]
  },
  {
   "cell_type": "code",
   "execution_count": 41,
   "id": "77a5a51d-210e-4f3e-9613-58c554be1165",
   "metadata": {},
   "outputs": [
    {
     "data": {
      "image/png": "[encoded data removed]",
      "text/plain": [
       "<Figure size 1440x360 with 3 Axes>"
      ]
     },
     "metadata": {
      "needs_background": "light"
     },
     "output_type": "display_data"
    }
   ],
   "source": [
    "fig, axes = plt.subplots(1, len(np.unique(eeg[\"classes\"])), sharey = False, figsize = (20, 5))\n",
    "for label, ax in zip(np.unique(eeg[\"classes\"]), axes):\n",
    "    i = np.where(eeg[\"classes\"] == label)[0][0]\n",
    "    ax.plot(eeg[\"times\"][i], eeg[\"measurements\"][i])\n",
    "    ax.set_xlabel(\"time(s)\")\n",
    "    ax.set_ylabel(\"signal\")\n",
    "    ax.set_title(label)\n",
    "plt.show()"
   ]
  },
  {
   "cell_type": "markdown",
   "id": "96ce115d-e5c0-416c-b98c-096e8ec5725a",
   "metadata": {},
   "source": [
    "## 特征构造"
   ]
  },
  {
   "cell_type": "code",
   "execution_count": 62,
   "id": "00fd42a2-1b50-4686-9781-65430d3c45e2",
   "metadata": {},
   "outputs": [],
   "source": [
    "# cesium features\n",
    "features_to_use = [\n",
    "    \"amplitude\",\n",
    "    \"percent_beyond_1_std\",\n",
    "    \"maximum\",\n",
    "    \"max_slope\",\n",
    "    \"median\",\n",
    "    \"median_absolute_deviation\",\n",
    "    \"percent_close_to_median\",\n",
    "    \"minimum\",\n",
    "    \"skew\",\n",
    "    \"std\",\n",
    "    \"weighted_average\",\n",
    "]\n",
    "\n",
    "\n",
    "# udf features\n",
    "def mean_signal(t, m, e):\n",
    "    return np.mean(m)\n",
    "\n",
    "def std_signal(t, m, e):\n",
    "    return np.std(m)\n",
    "\n",
    "def mean_square_signal(t, m, e):\n",
    "    return np.mean(m ** 2)\n",
    "\n",
    "def abs_diffs_signal(t, m, e):\n",
    "    return np.sum(np.abs(np.diff(m)))\n",
    "\n",
    "def skew_signal(t, m, e):\n",
    "    return scipy.stats.skew(m)\n",
    "\n",
    "guo_features = {\n",
    "    \"mean\": mean_signal,\n",
    "    \"std\": std_signal,\n",
    "    \"mean2\": mean_square_signal,\n",
    "    \"abs_diffs\": abs_diffs_signal,\n",
    "    \"skew\": skew_signal,\n",
    "}\n",
    "\n",
    "# 多通道时间序列特征\n",
    "n_channels = 5\n",
    "eeg[\"dwts\"] = [\n",
    "    pywt.wavedec(m, pywt.Wavelet(\"db1\"), level = n_channels - 1)\n",
    "    for m in eeg[\"measurements\"]\n",
    "]"
   ]
  },
  {
   "cell_type": "code",
   "execution_count": 55,
   "id": "e9c49b61-47c3-4856-aeed-e8affefa0b9c",
   "metadata": {},
   "outputs": [
    {
     "name": "stdout",
     "output_type": "stream",
     "text": [
      "feature amplitude percent_beyond_1_std maximum     max_slope median  \\\n",
      "channel         0                    0       0             0      0   \n",
      "0           143.5             0.327313   141.0  11107.796610   -4.0   \n",
      "1           211.5             0.290212   169.0  20653.559322  -51.0   \n",
      "2           165.0             0.302660   184.0  13537.627119   13.0   \n",
      "3           171.5             0.300952   162.0  17008.813559   -4.0   \n",
      "4           170.0             0.305101   152.0  13016.949153  -18.0   \n",
      "\n",
      "feature median_absolute_deviation percent_close_to_median minimum      skew  \\\n",
      "channel                         0                       0       0         0   \n",
      "0                            28.0                0.505004  -146.0  0.032805   \n",
      "1                            32.0                0.640469  -254.0 -0.092715   \n",
      "2                            31.0                0.515987  -146.0 -0.004100   \n",
      "3                            31.0                0.541128  -181.0  0.063678   \n",
      "4                            29.0                0.566268  -188.0  0.142753   \n",
      "\n",
      "feature        std weighted_average  \n",
      "channel          0                0  \n",
      "0        40.411000        -4.132048  \n",
      "1        48.812668       -52.444716  \n",
      "2        47.144789        12.705150  \n",
      "3        47.072316        -3.992433  \n",
      "4        44.910958       -17.999268  \n",
      "(500, 11)\n"
     ]
    }
   ],
   "source": [
    "# feature engine\n",
    "feature_set_cesium = featurize.featurize_time_series(\n",
    "    times = eeg[\"times\"],\n",
    "    values = eeg[\"measurements\"],\n",
    "    errors = None,\n",
    "    features_to_use = features_to_use,\n",
    ")\n",
    "print(feature_set_cesium.head())\n",
    "print(feature_set_cesium.shape)"
   ]
  },
  {
   "cell_type": "code",
   "execution_count": 58,
   "id": "2899ed6b-89bc-4e3c-9d73-5333400406ac",
   "metadata": {},
   "outputs": [
    {
     "name": "stdout",
     "output_type": "stream",
     "text": [
      "feature       mean        std        mean2 abs_diffs      skew\n",
      "channel          0          0            0         0         0\n",
      "0        -4.132048  40.411000  1650.122773   46948.0  0.032805\n",
      "1       -52.444716  48.812668  5133.124725   61118.0 -0.092715\n",
      "2        12.705150  47.144789  2384.051989   51269.0 -0.004100\n",
      "3        -3.992433  47.072316  2231.742495   75014.0  0.063678\n",
      "4       -17.999268  44.910958  2340.967781   52873.0  0.142753\n",
      "(500, 5)\n"
     ]
    }
   ],
   "source": [
    "# udf features\n",
    "feature_set_guo = featurize.featurize_time_series(\n",
    "    times = eeg[\"times\"],\n",
    "    values = eeg[\"measurements\"],\n",
    "    errors = None,\n",
    "    features_to_use = list(guo_features.keys()),\n",
    "    custom_functions = guo_features,\n",
    ")\n",
    "print(feature_set_guo.head())\n",
    "print(feature_set_guo.shape)"
   ]
  },
  {
   "cell_type": "code",
   "execution_count": 64,
   "id": "04724afe-7bad-4bb0-8b08-ccc1b6edbfa1",
   "metadata": {},
   "outputs": [
    {
     "name": "stdout",
     "output_type": "stream",
     "text": [
      "feature        mean                                                 std  \\\n",
      "channel           0         1         2         3         4           0   \n",
      "0        -17.080739 -6.067121 -0.979336  0.154634  0.035545  112.473774   \n",
      "1       -210.210117 -3.743191  0.511377  0.057561 -0.024847  119.836067   \n",
      "2         51.831712  0.714981  0.247418 -0.101951  0.007937  134.809626   \n",
      "3        -15.429961  9.348249 -0.099243 -0.228293  0.181522  104.420503   \n",
      "4        -71.982490 -3.787938 -0.183324 -0.034146 -0.048314  124.012203   \n",
      "\n",
      "feature                                              ... abs_diffs            \\\n",
      "channel          1          2          3          4  ...         0         1   \n",
      "0        72.970862  48.167301  25.774846  10.154899  ...  25127.00  18056.00   \n",
      "1        92.777487  67.005780  33.957464  13.673398  ...  28742.00  25226.00   \n",
      "2        78.294247  60.275759  28.088980  11.246134  ...  28284.75  19826.25   \n",
      "3        89.999242  67.249397  35.929621  16.366747  ...  24848.25  25715.25   \n",
      "4        73.870175  59.986686  27.599723  11.655378  ...  23848.25  18328.75   \n",
      "\n",
      "feature                                           skew                      \\\n",
      "channel             2        3             4         0         1         2   \n",
      "0        32408.117995  34239.0  19883.842687 -0.043301  0.065784  0.299892   \n",
      "1        44392.163723  45330.5  26138.909273 -0.286254 -0.016437  0.168179   \n",
      "2        42874.712570  36283.0  21020.163284  0.042923 -0.121195 -0.254241   \n",
      "3        43004.466665  47952.0  34686.416044  0.177416  0.214529 -0.013705   \n",
      "4        39809.051121  35455.5  22640.144920  0.220502 -0.077603  0.285906   \n",
      "\n",
      "feature                      \n",
      "channel         3         4  \n",
      "0        0.123948  0.117937  \n",
      "1       -0.005521  0.187815  \n",
      "2       -0.061304 -0.136422  \n",
      "3       -0.007339  0.013836  \n",
      "4        0.087555  0.066677  \n",
      "\n",
      "[5 rows x 25 columns]\n",
      "(500, 25)\n"
     ]
    }
   ],
   "source": [
    "feature_set_dwt = featurize.featurize_time_series(\n",
    "    times = None,\n",
    "    values = eeg[\"dwts\"],\n",
    "    errors = None,\n",
    "    features_to_use = list(guo_features.keys()),\n",
    "    custom_functions = guo_features,\n",
    ")\n",
    "print(feature_set_dwt.head())\n",
    "print(feature_set_dwt.shape)"
   ]
  },
  {
   "cell_type": "markdown",
   "id": "b3894bbd-da53-46dd-9fc9-cf90a06cabbd",
   "metadata": {},
   "source": [
    "# model"
   ]
  },
  {
   "cell_type": "code",
   "execution_count": 68,
   "id": "2bfafc2b-eefc-485e-822d-19b193915fbd",
   "metadata": {},
   "outputs": [
    {
     "data": {
      "text/plain": [
       "(array([239,  59, 406, 391, 411, 485, 229, 297,  55, 293, 490, 458, 457,\n",
       "        453, 186, 194,  52,  74,  26, 488,   4, 318, 331, 245,   5, 141,\n",
       "        383, 135, 493, 122,  22,  68,  20, 382,  14, 278, 225,  64, 381,\n",
       "        231,  81, 401, 302, 499, 471, 455, 160, 478, 364, 496, 206, 319,\n",
       "         51, 306, 452, 332, 164, 106, 481,  63, 344, 427, 439, 320,  89,\n",
       "        312, 450,  93, 298, 459, 308, 395,  92,  18, 198, 145, 158, 150,\n",
       "        479, 167, 255, 230, 422,  66, 309, 253, 140, 101, 433,   2, 408,\n",
       "         17, 146, 249, 263,  30, 114, 247, 103, 405, 310, 176, 246, 116,\n",
       "        168, 415, 120, 261, 112, 360, 435, 282, 136, 190, 347, 181, 126,\n",
       "        281, 252, 407, 393, 354, 232, 133,  33, 476, 162,  34,  44,  97,\n",
       "         85,  61, 199, 268, 218,  73,  35, 303,  29, 361, 392, 443, 217,\n",
       "         27, 399, 380, 156, 429, 345, 138, 212, 104, 350, 346, 351, 215,\n",
       "        385, 189, 214, 204, 234, 259,  67,  24, 216, 223, 129, 111, 166,\n",
       "        417, 394,  40, 274, 357,  79, 313, 315,  13, 287, 409, 494, 228,\n",
       "        161,  83, 497, 473, 110, 149, 152,  16, 339, 109, 352, 139, 237,\n",
       "        260, 419, 317, 495, 400, 248, 386,  19, 328, 296, 269, 226, 414,\n",
       "          3, 378, 125, 280, 286,  77, 184, 424, 477, 275, 294, 436, 182,\n",
       "        447,  80, 307, 258,  11, 371,  86, 266,  36, 480,  58,  41, 270,\n",
       "         50, 209, 397, 410, 416, 123, 222,  62, 377, 130, 187,  23,  43,\n",
       "        441,   0, 201, 368, 426,  98, 349, 304, 487, 178, 369, 256,  94,\n",
       "        465,  95, 442, 169,  69, 305,  48, 341, 373, 207, 279, 227, 148,\n",
       "        143, 334, 180, 356, 131, 462, 498, 262, 324, 203,  84, 121, 482,\n",
       "        434, 460, 454, 384,  91,  82, 267, 119, 358, 291,  57, 321, 257,\n",
       "        376, 446,  42, 105, 388, 467, 273, 444,  38, 389,  53, 420, 437,\n",
       "        128, 290,  28, 183, 370, 163, 151, 244, 202,  31,  32, 127, 185,\n",
       "        470, 449, 288, 423, 398, 456, 147, 285, 466, 177,  99, 338, 448,\n",
       "        431, 335, 197, 243, 464, 115, 404, 265,  72, 333,  25, 165, 337,\n",
       "        483, 174, 486,  39, 193, 314, 396,  88, 472,  70,  87, 292, 242,\n",
       "        277, 211,   9, 359, 195, 251, 323, 192, 117,  47, 172]),\n",
       " array([ 90, 254, 283, 445, 461,  15, 316, 489, 159, 153, 241, 250, 390,\n",
       "        289, 171, 329, 468, 355, 154,  37, 205, 366, 240, 108,  45, 438,\n",
       "         21, 367,  96, 233, 428, 118, 124, 191, 374, 492, 311, 451, 353,\n",
       "        238, 322,  46, 403, 221,  76,   1, 213, 325, 418, 102, 363, 170,\n",
       "        343, 144, 132,  12, 327, 173, 224, 342,  78, 276, 387, 425, 301,\n",
       "        196,  10, 469, 271,  75, 142,  65, 340, 484, 175, 362, 264, 100,\n",
       "        491, 295, 300, 235, 475, 219, 330, 326, 421, 157, 348,  54, 220,\n",
       "        402, 379, 200, 179, 372,  56, 440,  60, 208, 107, 336,  71, 474,\n",
       "          6, 412, 113, 236, 299, 155, 272,   7, 137,   8, 463, 432, 375,\n",
       "        284, 210, 188, 430,  49, 134, 365, 413]))"
      ]
     },
     "execution_count": 68,
     "metadata": {},
     "output_type": "execute_result"
    }
   ],
   "source": [
    "train_idx, test_idx = train_test_split(\n",
    "    np.arange(len(eeg[\"classes\"])),\n",
    "    random_state = 0,\n",
    ")\n",
    "train_idx, test_idx"
   ]
  },
  {
   "cell_type": "code",
   "execution_count": 76,
   "id": "3c09a43e-3849-4dbc-ad34-973d6ed28375",
   "metadata": {},
   "outputs": [
    {
     "name": "stderr",
     "output_type": "stream",
     "text": [
      "/Users/zfwang/.pyenv/versions/ts/lib/python3.7/site-packages/sklearn/utils/validation.py:1692: FutureWarning: Feature names only support names that are all strings. Got feature names with dtypes: ['tuple']. An error will be raised in 1.2.\n",
      "  FutureWarning,\n"
     ]
    },
    {
     "data": {
      "text/plain": [
       "RandomForestClassifier(n_estimators=128, random_state=0)"
      ]
     },
     "execution_count": 76,
     "metadata": {},
     "output_type": "execute_result"
    }
   ],
   "source": [
    "model_cesium = RandomForestClassifier(n_estimators = 128, max_features = \"auto\", random_state = 0)\n",
    "model_cesium.fit(feature_set_cesium.iloc[train_idx], eeg[\"classes\"][train_idx])"
   ]
  },
  {
   "cell_type": "code",
   "execution_count": 77,
   "id": "d1baad60-c545-4a6f-80b8-0e371ddff1b5",
   "metadata": {},
   "outputs": [
    {
     "name": "stderr",
     "output_type": "stream",
     "text": [
      "/Users/zfwang/.pyenv/versions/ts/lib/python3.7/site-packages/sklearn/utils/validation.py:1692: FutureWarning: Feature names only support names that are all strings. Got feature names with dtypes: ['tuple']. An error will be raised in 1.2.\n",
      "  FutureWarning,\n"
     ]
    },
    {
     "data": {
      "text/plain": [
       "KNeighborsClassifier(n_neighbors=3)"
      ]
     },
     "execution_count": 77,
     "metadata": {},
     "output_type": "execute_result"
    }
   ],
   "source": [
    "model_guo = KNeighborsClassifier(n_neighbors = 3)\n",
    "model_guo.fit(feature_set_guo.iloc[train_idx], eeg[\"classes\"][train_idx])"
   ]
  },
  {
   "cell_type": "code",
   "execution_count": 78,
   "id": "e58e3fec-d977-429e-9807-10a5a2ae75ac",
   "metadata": {},
   "outputs": [
    {
     "name": "stderr",
     "output_type": "stream",
     "text": [
      "/Users/zfwang/.pyenv/versions/ts/lib/python3.7/site-packages/sklearn/utils/validation.py:1692: FutureWarning: Feature names only support names that are all strings. Got feature names with dtypes: ['tuple']. An error will be raised in 1.2.\n",
      "  FutureWarning,\n"
     ]
    },
    {
     "data": {
      "text/plain": [
       "KNeighborsClassifier(n_neighbors=3)"
      ]
     },
     "execution_count": 78,
     "metadata": {},
     "output_type": "execute_result"
    }
   ],
   "source": [
    "model_dwt = KNeighborsClassifier(n_neighbors = 3)\n",
    "model_dwt.fit(feature_set_dwt.iloc[train_idx], eeg[\"classes\"][train_idx])"
   ]
  },
  {
   "cell_type": "markdown",
   "id": "072d9852-244c-49f2-921a-c914268be8a5",
   "metadata": {},
   "source": [
    "# model predict"
   ]
  },
  {
   "cell_type": "code",
   "execution_count": 83,
   "id": "abdcb5eb-5018-496c-a27f-d87a5909d14a",
   "metadata": {},
   "outputs": [
    {
     "name": "stdout",
     "output_type": "stream",
     "text": [
      "Built-in cesium features: training accuracy=100.00%, test accuracy=83.20%\n",
      "Guo et al. features: training accuracy=92.80%, test accuracy=83.20%\n",
      "Wavelet transform features: training accuracy=97.87%, test accuracy=95.20%\n"
     ]
    },
    {
     "name": "stderr",
     "output_type": "stream",
     "text": [
      "/Users/zfwang/.pyenv/versions/ts/lib/python3.7/site-packages/sklearn/utils/validation.py:1692: FutureWarning: Feature names only support names that are all strings. Got feature names with dtypes: ['tuple']. An error will be raised in 1.2.\n",
      "  FutureWarning,\n",
      "/Users/zfwang/.pyenv/versions/ts/lib/python3.7/site-packages/sklearn/utils/validation.py:1692: FutureWarning: Feature names only support names that are all strings. Got feature names with dtypes: ['tuple']. An error will be raised in 1.2.\n",
      "  FutureWarning,\n",
      "/Users/zfwang/.pyenv/versions/ts/lib/python3.7/site-packages/sklearn/utils/validation.py:1692: FutureWarning: Feature names only support names that are all strings. Got feature names with dtypes: ['tuple']. An error will be raised in 1.2.\n",
      "  FutureWarning,\n"
     ]
    }
   ],
   "source": [
    "preds_cesium = model_cesium.predict(feature_set_cesium)\n",
    "preds_guo = model_guo.predict(feature_set_guo)\n",
    "preds_dwt = model_dwt.predict(feature_set_dwt)\n",
    "\n",
    "print(\"Built-in cesium features: training accuracy={:.2%}, test accuracy={:.2%}\".format(\n",
    "    accuracy_score(preds_cesium[train_idx], eeg[\"classes\"][train_idx]),\n",
    "    accuracy_score(preds_cesium[test_idx], eeg[\"classes\"][test_idx])\n",
    "))\n",
    "print(\"Guo et al. features: training accuracy={:.2%}, test accuracy={:.2%}\".format(\n",
    "    accuracy_score(preds_guo[train_idx], eeg[\"classes\"][train_idx]),\n",
    "    accuracy_score(preds_guo[test_idx], eeg[\"classes\"][test_idx])\n",
    "))\n",
    "print(\"Wavelet transform features: training accuracy={:.2%}, test accuracy={:.2%}\".format(\n",
    "    accuracy_score(preds_dwt[train_idx], eeg[\"classes\"][train_idx]),\n",
    "    accuracy_score(preds_dwt[test_idx], eeg[\"classes\"][test_idx])\n",
    "))"
   ]
  }
 ],
 "metadata": {
  "kernelspec": {
   "display_name": "Python 3 (ipykernel)",
   "language": "python",
   "name": "python3"
  },
  "language_info": {
   "codemirror_mode": {
    "name": "ipython",
    "version": 3
   },
   "file_extension": ".py",
   "mimetype": "text/x-python",
   "name": "python",
   "nbconvert_exporter": "python",
   "pygments_lexer": "ipython3",
   "version": "3.7.10"
  }
 },
 "nbformat": 4,
 "nbformat_minor": 5
}
