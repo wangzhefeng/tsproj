{
 "cells": [
  {
   "cell_type": "markdown",
   "metadata": {},
   "source": [
    "### 1.Period"
   ]
  },
  {
   "cell_type": "markdown",
   "metadata": {},
   "source": [
    "#### 创建Period"
   ]
  },
  {
   "cell_type": "code",
   "execution_count": 5,
   "metadata": {},
   "outputs": [
    {
     "data": {
      "text/plain": [
       "Period('2012', 'A-DEC')"
      ]
     },
     "execution_count": 5,
     "metadata": {},
     "output_type": "execute_result"
    }
   ],
   "source": [
    "import pandas as pd\n",
    "pd.Period(\"2012\", freq = \"A-DEC\")"
   ]
  },
  {
   "cell_type": "code",
   "execution_count": 6,
   "metadata": {},
   "outputs": [
    {
     "data": {
      "text/plain": [
       "Period('2012-01-01', 'D')"
      ]
     },
     "execution_count": 6,
     "metadata": {},
     "output_type": "execute_result"
    }
   ],
   "source": [
    "pd.Period(\"2012-1-1\", freq = \"D\")"
   ]
  },
  {
   "cell_type": "code",
   "execution_count": 7,
   "metadata": {},
   "outputs": [
    {
     "data": {
      "text/plain": [
       "Period('2012-01-01 19:00', '5H')"
      ]
     },
     "execution_count": 7,
     "metadata": {},
     "output_type": "execute_result"
    }
   ],
   "source": [
    "pd.Period(\"2012-1-1 19:00\", freq = \"5H\")"
   ]
  },
  {
   "cell_type": "markdown",
   "metadata": {},
   "source": [
    "#### Period运算"
   ]
  },
  {
   "cell_type": "code",
   "execution_count": 13,
   "metadata": {},
   "outputs": [
    {
     "name": "stdout",
     "output_type": "stream",
     "text": [
      "2013\n",
      "2009\n",
      "2012-05\n",
      "2011-11\n",
      "Input has different freq=3M from Period(freq=2M)\n"
     ]
    }
   ],
   "source": [
    "p1 = pd.Period(\"2012\", freq = \"A-DEC\")\n",
    "print(p1 + 1)\n",
    "print(p1 - 3)\n",
    "p2 = pd.Period(\"2012-01\", freq = \"2M\")\n",
    "print(p2 + 2)\n",
    "print(p2 - 1)\n",
    "try:\n",
    "    p2 == pd.Period(\"2012-01\", freq = \"3M\")\n",
    "except Exception as e:\n",
    "    print(e)"
   ]
  },
  {
   "cell_type": "code",
   "execution_count": 33,
   "metadata": {},
   "outputs": [
    {
     "name": "stdout",
     "output_type": "stream",
     "text": [
      "2014-07-01 11:00\n",
      "2014-07-01 11:00\n",
      "2014-07-01 11:00\n",
      "Input cannot be converted to Period(freq=H)\n"
     ]
    }
   ],
   "source": [
    "import datetime\n",
    "\n",
    "import numpy as np\n",
    "p = pd.Period(\"2014-07-01 09:00\", freq = \"H\")\n",
    "print(p + pd.offsets.Hour(2))\n",
    "print(p + datetime.timedelta(minutes = 120))\n",
    "print(p + np.timedelta64(7200, \"s\"))\n",
    "try:\n",
    "    import pandas as pd\n",
    "    print(p + pd.offsets.Minute(5))\n",
    "except Exception as e:\n",
    "    print(e)"
   ]
  },
  {
   "cell_type": "code",
   "execution_count": 35,
   "metadata": {},
   "outputs": [
    {
     "name": "stdout",
     "output_type": "stream",
     "text": [
      "2014-10\n",
      "Input has different freq=3MS from Period(freq=M)\n"
     ]
    }
   ],
   "source": [
    "p = pd.Period(\"2014-07\", freq = \"M\")\n",
    "\n",
    "print(p + pd.offsets.MonthEnd(3))\n",
    "try:\n",
    "    print(p + pd.offsets.MonthBegin(3))\n",
    "except Exception as e:\n",
    "    print(e)"
   ]
  },
  {
   "cell_type": "code",
   "execution_count": 42,
   "metadata": {},
   "outputs": [
    {
     "data": {
      "text/plain": [
       "10"
      ]
     },
     "execution_count": 42,
     "metadata": {},
     "output_type": "execute_result"
    }
   ],
   "source": [
    "pd.Period(\"2012\", freq = \"A-DEC\") - \\\n",
    "pd.Period(\"2002\", freq = \"A-DEC\")"
   ]
  },
  {
   "cell_type": "markdown",
   "metadata": {},
   "source": [
    "### 2.PeriodIndex / period_range"
   ]
  },
  {
   "cell_type": "code",
   "execution_count": 49,
   "metadata": {},
   "outputs": [
    {
     "data": {
      "text/plain": [
       "PeriodIndex(['2011-01', '2011-02', '2011-03', '2011-04', '2011-05', '2011-06',\n",
       "             '2011-07', '2011-08', '2011-09', '2011-10', '2011-11', '2011-12',\n",
       "             '2012-01'],\n",
       "            dtype='period[M]', freq='M')"
      ]
     },
     "execution_count": 49,
     "metadata": {},
     "output_type": "execute_result"
    }
   ],
   "source": [
    "prng = pd.period_range(start = \"1/1/2011\", end = \"1/1/2012\", freq = \"M\")\n",
    "prng"
   ]
  },
  {
   "cell_type": "code",
   "execution_count": 45,
   "metadata": {},
   "outputs": [
    {
     "data": {
      "text/plain": [
       "PeriodIndex(['2011-01', '2011-02', '2011-03', '2011-04', '2011-05', '2011-06',\n",
       "             '2011-07', '2011-08', '2011-09', '2011-10', '2011-11', '2011-12',\n",
       "             '2012-01'],\n",
       "            dtype='period[M]', freq='M')"
      ]
     },
     "execution_count": 45,
     "metadata": {},
     "output_type": "execute_result"
    }
   ],
   "source": [
    "prng = pd.PeriodIndex(['2011-01', '2011-02', '2011-03', '2011-04', \n",
    "                       '2011-05', '2011-06', '2011-07', '2011-08', \n",
    "                       '2011-09', '2011-10', '2011-11', '2011-12',\n",
    "                       '2012-01'], freq = \"M\")\n",
    "prng"
   ]
  },
  {
   "cell_type": "code",
   "execution_count": 53,
   "metadata": {},
   "outputs": [
    {
     "data": {
      "text/plain": [
       "PeriodIndex(['2014-01', '2014-04', '2014-07', '2014-10'], dtype='period[3M]', freq='3M')"
      ]
     },
     "execution_count": 53,
     "metadata": {},
     "output_type": "execute_result"
    }
   ],
   "source": [
    "prng = pd.period_range(start = \"2014-01\", freq = \"3M\", periods = 4)\n",
    "prng"
   ]
  },
  {
   "cell_type": "code",
   "execution_count": 55,
   "metadata": {},
   "outputs": [
    {
     "data": {
      "text/plain": [
       "PeriodIndex(['2017-03', '2017-04', '2017-05', '2017-06'], dtype='period[M]', freq='M')"
      ]
     },
     "execution_count": 55,
     "metadata": {},
     "output_type": "execute_result"
    }
   ],
   "source": [
    "prng = pd.period_range(start = pd.Period(\"2017Q1\", freq = \"Q\"),\n",
    "                       end = pd.Period(\"2017Q2\", freq = \"Q\"),\n",
    "                       freq = \"M\")\n",
    "prng"
   ]
  },
  {
   "cell_type": "code",
   "execution_count": 56,
   "metadata": {},
   "outputs": [
    {
     "data": {
      "text/plain": [
       "2017-03   -0.173475\n",
       "2017-04    0.790163\n",
       "2017-05    1.877965\n",
       "2017-06    1.188824\n",
       "Freq: M, dtype: float64"
      ]
     },
     "execution_count": 56,
     "metadata": {},
     "output_type": "execute_result"
    }
   ],
   "source": [
    "ps = pd.Series(np.random.randn(len(prng)), prng)\n",
    "ps"
   ]
  },
  {
   "cell_type": "markdown",
   "metadata": {},
   "source": [
    "#### PeriodIndex运算"
   ]
  },
  {
   "cell_type": "code",
   "execution_count": 63,
   "metadata": {},
   "outputs": [
    {
     "name": "stdout",
     "output_type": "stream",
     "text": [
      "PeriodIndex(['2014-07-01 09:00', '2014-07-01 10:00', '2014-07-01 11:00',\n",
      "             '2014-07-01 12:00', '2014-07-01 13:00'],\n",
      "            dtype='period[H]', freq='H')\n",
      "PeriodIndex(['2014-07-01 11:00', '2014-07-01 12:00', '2014-07-01 13:00',\n",
      "             '2014-07-01 14:00', '2014-07-01 15:00'],\n",
      "            dtype='period[H]', freq='H')\n",
      "PeriodIndex(['2014-07', '2014-08', '2014-09', '2014-10', '2014-11'], dtype='period[M]', freq='M')\n",
      "PeriodIndex(['2014-10', '2014-11', '2014-12', '2015-01', '2015-02'], dtype='period[M]', freq='M')\n"
     ]
    }
   ],
   "source": [
    "idx = pd.period_range(start = \"2014-07-01 09:00\", \n",
    "                      periods = 5, \n",
    "                      freq = \"H\")\n",
    "print(idx)\n",
    "print(idx + pd.offsets.Hour(2))\n",
    "\n",
    "idx = pd.period_range(\"2014-07\", periods = 5, freq = \"M\")\n",
    "print(idx)\n",
    "print(idx + pd.offsets.MonthEnd(3))"
   ]
  },
  {
   "cell_type": "code",
   "execution_count": null,
   "metadata": {},
   "outputs": [],
   "source": []
  },
  {
   "cell_type": "code",
   "execution_count": null,
   "metadata": {},
   "outputs": [],
   "source": []
  },
  {
   "cell_type": "code",
   "execution_count": null,
   "metadata": {},
   "outputs": [],
   "source": []
  },
  {
   "cell_type": "code",
   "execution_count": null,
   "metadata": {},
   "outputs": [],
   "source": []
  },
  {
   "cell_type": "code",
   "execution_count": null,
   "metadata": {},
   "outputs": [],
   "source": []
  },
  {
   "cell_type": "code",
   "execution_count": null,
   "metadata": {},
   "outputs": [],
   "source": []
  },
  {
   "cell_type": "code",
   "execution_count": null,
   "metadata": {},
   "outputs": [],
   "source": []
  },
  {
   "cell_type": "code",
   "execution_count": null,
   "metadata": {},
   "outputs": [],
   "source": []
  },
  {
   "cell_type": "markdown",
   "metadata": {},
   "source": [
    "### out-of-bounds spans"
   ]
  },
  {
   "cell_type": "code",
   "execution_count": 69,
   "metadata": {},
   "outputs": [
    {
     "name": "stdout",
     "output_type": "stream",
     "text": [
      "Out of bounds nanosecond timestamp: 1215-01-01 00:00:00\n",
      "--------------------------------------------------\n"
     ]
    },
    {
     "data": {
      "text/plain": [
       "PeriodIndex(['1215-01-01', '1215-01-02', '1215-01-03', '1215-01-04',\n",
       "             '1215-01-05', '1215-01-06', '1215-01-07', '1215-01-08',\n",
       "             '1215-01-09', '1215-01-10',\n",
       "             ...\n",
       "             '1380-12-23', '1380-12-24', '1380-12-25', '1380-12-26',\n",
       "             '1380-12-27', '1380-12-28', '1380-12-29', '1380-12-30',\n",
       "             '1380-12-31', '1381-01-01'],\n",
       "            dtype='period[D]', length=60632, freq='D')"
      ]
     },
     "execution_count": 69,
     "metadata": {},
     "output_type": "execute_result"
    }
   ],
   "source": [
    "try:\n",
    "    span = pd.date_range(\"1215-01-01\", \"1381-01-01\", freq = \"D\")\n",
    "except Exception as e:\n",
    "    print(e)\n",
    "print(\"-\" * 50)\n",
    "span = pd.period_range(\"1215-01-01\", \"1381-01-01\", freq = \"D\")\n",
    "span"
   ]
  },
  {
   "cell_type": "code",
   "execution_count": 77,
   "metadata": {},
   "outputs": [
    {
     "name": "stdout",
     "output_type": "stream",
     "text": [
      "0    20121231\n",
      "1    20141130\n",
      "2    99991231\n",
      "dtype: int64\n",
      "\n",
      "0   2012-12-31\n",
      "1   2014-11-30\n",
      "2   9999-12-31\n",
      "dtype: object\n",
      "\n",
      "PeriodIndex(['2012-12-31', '2014-11-30', '9999-12-31'], dtype='period[D]', freq='D')\n"
     ]
    }
   ],
   "source": [
    "s = pd.Series([20121231, 20141130, 99991231])\n",
    "def conv(x):\n",
    "    return pd.Period(year = x // 10000, \n",
    "                     month = x // 100 % 100,\n",
    "                     day = x % 100,\n",
    "                     freq = \"D\")\n",
    "\n",
    "print(s)\n",
    "print()\n",
    "print(s.apply(conv))\n",
    "print()\n",
    "print(pd.PeriodIndex(s.apply(conv)))"
   ]
  },
  {
   "cell_type": "code",
   "execution_count": null,
   "metadata": {},
   "outputs": [],
   "source": []
  }
 ],
 "metadata": {
  "kernelspec": {
   "display_name": "Python 3",
   "language": "python",
   "name": "python3"
  },
  "language_info": {
   "codemirror_mode": {
    "name": "ipython",
    "version": 3
   },
   "file_extension": ".py",
   "mimetype": "text/x-python",
   "name": "python",
   "nbconvert_exporter": "python",
   "pygments_lexer": "ipython3",
   "version": "3.8.5"
  }
 },
 "nbformat": 4,
 "nbformat_minor": 4
}
