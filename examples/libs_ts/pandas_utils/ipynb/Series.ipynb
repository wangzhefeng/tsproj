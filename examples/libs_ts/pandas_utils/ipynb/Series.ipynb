{
 "cells": [
  {
   "cell_type": "code",
   "execution_count": 1,
   "id": "f6cfee0d-08e6-4392-b3cd-2bc4bd49c74e",
   "metadata": {},
   "outputs": [],
   "source": [
    "import numpy as np\n",
    "import pandas as pd"
   ]
  },
  {
   "cell_type": "markdown",
   "id": "61fc2612-6ff7-49f0-ba47-13f4bc7cc4cf",
   "metadata": {},
   "source": [
    "# data: ndarray"
   ]
  },
  {
   "cell_type": "code",
   "execution_count": 26,
   "id": "b9c118a4-e976-4d16-8e28-b0a6e48983f8",
   "metadata": {},
   "outputs": [
    {
     "data": {
      "text/plain": [
       "a   -1.109852\n",
       "b    0.109982\n",
       "c   -0.097126\n",
       "d   -1.327272\n",
       "e   -0.612457\n",
       "Name: something, dtype: float64"
      ]
     },
     "execution_count": 26,
     "metadata": {},
     "output_type": "execute_result"
    }
   ],
   "source": [
    "s = pd.Series(\n",
    "    data = np.random.randn(5),\n",
    "    index = [\"a\", \"b\", \"c\", \"d\", \"e\"],\n",
    "    name = \"something\"\n",
    ")\n",
    "s"
   ]
  },
  {
   "cell_type": "code",
   "execution_count": 27,
   "id": "b557648a-6fbc-43ac-bf66-712f4bd1080c",
   "metadata": {},
   "outputs": [
    {
     "data": {
      "text/plain": [
       "Index(['a', 'b', 'c', 'd', 'e'], dtype='object')"
      ]
     },
     "execution_count": 27,
     "metadata": {},
     "output_type": "execute_result"
    }
   ],
   "source": [
    "s.index"
   ]
  },
  {
   "cell_type": "code",
   "execution_count": 28,
   "id": "3592d27d-f2c1-48bf-a3b6-70e0a9a35065",
   "metadata": {},
   "outputs": [
    {
     "data": {
      "text/plain": [
       "array([-1.10985229,  0.10998246, -0.09712571, -1.32727173, -0.61245659])"
      ]
     },
     "execution_count": 28,
     "metadata": {},
     "output_type": "execute_result"
    }
   ],
   "source": [
    "s.values"
   ]
  },
  {
   "cell_type": "code",
   "execution_count": 32,
   "id": "cf5391bb-60eb-4cc7-85cf-2922face13b6",
   "metadata": {},
   "outputs": [
    {
     "data": {
      "text/plain": [
       "'something'"
      ]
     },
     "execution_count": 32,
     "metadata": {},
     "output_type": "execute_result"
    }
   ],
   "source": [
    "s.name"
   ]
  },
  {
   "cell_type": "code",
   "execution_count": 34,
   "id": "1e5852d7-a998-4b66-ab49-d513ee7efde9",
   "metadata": {},
   "outputs": [
    {
     "data": {
      "text/plain": [
       "'value'"
      ]
     },
     "execution_count": 34,
     "metadata": {},
     "output_type": "execute_result"
    }
   ],
   "source": [
    "s = s.rename(\"value\")\n",
    "s.name"
   ]
  },
  {
   "cell_type": "code",
   "execution_count": 29,
   "id": "e02eba2b-d058-46e5-bafc-b12fc48ecbd5",
   "metadata": {},
   "outputs": [
    {
     "data": {
      "text/plain": [
       "(5,)"
      ]
     },
     "execution_count": 29,
     "metadata": {},
     "output_type": "execute_result"
    }
   ],
   "source": [
    "s.shape"
   ]
  },
  {
   "cell_type": "code",
   "execution_count": 30,
   "id": "6e30d89a-4ab3-4b36-ba3e-119ca77a3140",
   "metadata": {},
   "outputs": [
    {
     "data": {
      "text/plain": [
       "dtype('float64')"
      ]
     },
     "execution_count": 30,
     "metadata": {},
     "output_type": "execute_result"
    }
   ],
   "source": [
    "s.dtype"
   ]
  },
  {
   "cell_type": "code",
   "execution_count": 31,
   "id": "44db7618-b670-4677-b1af-2ddcc4b52fb7",
   "metadata": {},
   "outputs": [
    {
     "data": {
      "text/plain": [
       "<PandasArray>\n",
       "[ -1.1098522922322882,  0.10998246487470675, -0.09712570598488704,\n",
       "  -1.3272717324997143,  -0.6124565943934106]\n",
       "Length: 5, dtype: float64"
      ]
     },
     "execution_count": 31,
     "metadata": {},
     "output_type": "execute_result"
    }
   ],
   "source": [
    "s.array"
   ]
  },
  {
   "cell_type": "code",
   "execution_count": 25,
   "id": "c2b5c01b-5cd5-4760-bfd4-fe5a61f152cb",
   "metadata": {},
   "outputs": [
    {
     "data": {
      "text/plain": [
       "array([ 0.25225577, -1.81094829,  0.41982135, -1.57796336,  0.07437253])"
      ]
     },
     "execution_count": 25,
     "metadata": {},
     "output_type": "execute_result"
    }
   ],
   "source": [
    "s.to_numpy()"
   ]
  },
  {
   "cell_type": "markdown",
   "id": "12ece82e-addf-4d7d-9922-78791a162829",
   "metadata": {},
   "source": [
    "# data: dict"
   ]
  },
  {
   "cell_type": "code",
   "execution_count": 15,
   "id": "73e76f72-a66e-49eb-8082-e315867b2fd6",
   "metadata": {},
   "outputs": [
    {
     "data": {
      "text/plain": [
       "b    1.0\n",
       "c    2.0\n",
       "d    NaN\n",
       "a    0.0\n",
       "dtype: float64"
      ]
     },
     "execution_count": 15,
     "metadata": {},
     "output_type": "execute_result"
    }
   ],
   "source": [
    "s = pd.Series(\n",
    "    data = {\n",
    "        \"a\": 0.0,\n",
    "        \"b\": 1.0,\n",
    "        \"c\": 2.0,\n",
    "    },\n",
    "    index = [\"b\", \"c\", \"d\", \"a\"]\n",
    ")\n",
    "s"
   ]
  },
  {
   "cell_type": "markdown",
   "id": "1e4d7fcf-469e-474f-b3e0-c2e9d04943fb",
   "metadata": {},
   "source": [
    "# data: scalar"
   ]
  },
  {
   "cell_type": "code",
   "execution_count": 16,
   "id": "d1ee085c-65ed-46c0-9189-103243d6e1e7",
   "metadata": {},
   "outputs": [
    {
     "data": {
      "text/plain": [
       "a    5.0\n",
       "b    5.0\n",
       "c    5.0\n",
       "d    5.0\n",
       "e    5.0\n",
       "dtype: float64"
      ]
     },
     "execution_count": 16,
     "metadata": {},
     "output_type": "execute_result"
    }
   ],
   "source": [
    "s = pd.Series(\n",
    "    data = 5.0,\n",
    "    index = [\"a\", \"b\", \"c\", \"d\", \"e\"],\n",
    ")\n",
    "s"
   ]
  },
  {
   "cell_type": "code",
   "execution_count": null,
   "id": "c4c889c3-1814-4d15-a400-7a9527af66a7",
   "metadata": {},
   "outputs": [],
   "source": []
  }
 ],
 "metadata": {
  "kernelspec": {
   "display_name": "Python 3 (ipykernel)",
   "language": "python",
   "name": "python3"
  },
  "language_info": {
   "codemirror_mode": {
    "name": "ipython",
    "version": 3
   },
   "file_extension": ".py",
   "mimetype": "text/x-python",
   "name": "python",
   "nbconvert_exporter": "python",
   "pygments_lexer": "ipython3",
   "version": "3.7.10"
  }
 },
 "nbformat": 4,
 "nbformat_minor": 5
}
