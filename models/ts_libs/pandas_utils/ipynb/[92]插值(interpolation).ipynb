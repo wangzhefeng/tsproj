{
 "cells": [
  {
   "cell_type": "code",
   "execution_count": 4,
   "metadata": {},
   "outputs": [],
   "source": [
    "import numpy as np\n",
    "import pandas as pd\n",
    "from scipy.interpolate import interp1d"
   ]
  },
  {
   "cell_type": "code",
   "execution_count": 10,
   "metadata": {},
   "outputs": [
    {
     "name": "stdout",
     "output_type": "stream",
     "text": [
      "[ 0.  1.  2.  3.  4.  5.  6.  7.  8.  9. 10.]\n",
      "-------------------------\n",
      "[ 1.          0.99383351  0.90284967  0.54030231 -0.20550672 -0.93454613\n",
      " -0.65364362  0.6683999   0.67640492 -0.91113026  0.11527995]\n",
      "-------------------------\n",
      "<scipy.interpolate.interpolate.interp1d object at 0x000001AD58383458>\n",
      "-------------------------\n",
      "<scipy.interpolate.interpolate.interp1d object at 0x000001AD58352B88>\n"
     ]
    }
   ],
   "source": [
    "x = np.linspace(0, 10, num = 11, endpoint = True)\n",
    "y = np.cos(-x ** 2 / 9.0)\n",
    "print(x)\n",
    "print(\"-\" * 25)\n",
    "print(y)\n",
    "print(\"-\" * 25)\n",
    "f = interp1d(x, y)\n",
    "f2 = interp1d(x, y, kind = \"cubic\")\n",
    "print(f)\n",
    "print(\"-\" * 25)\n",
    "print(f2)"
   ]
  },
  {
   "cell_type": "code",
   "execution_count": null,
   "metadata": {},
   "outputs": [],
   "source": []
  }
 ],
 "metadata": {
  "kernelspec": {
   "display_name": "Python 3 (ipykernel)",
   "language": "python",
   "name": "python3"
  },
  "language_info": {
   "codemirror_mode": {
    "name": "ipython",
    "version": 3
   },
   "file_extension": ".py",
   "mimetype": "text/x-python",
   "name": "python",
   "nbconvert_exporter": "python",
   "pygments_lexer": "ipython3",
   "version": "3.7.10"
  }
 },
 "nbformat": 4,
 "nbformat_minor": 4
}
