{
 "cells": [
  {
   "cell_type": "markdown",
   "metadata": {},
   "source": [
    "# `.dt` 访问器"
   ]
  },
  {
   "cell_type": "markdown",
   "metadata": {},
   "source": [
    "* `.dt.year`\n",
    "* `.dt.month`\n",
    "* `.dt.day`\n",
    "* `.dt.hour`\n",
    "* `.dt.minute`\n",
    "* `.dt.second`"
   ]
  },
  {
   "cell_type": "code",
   "execution_count": 1,
   "metadata": {},
   "outputs": [],
   "source": [
    "import pandas as pd"
   ]
  },
  {
   "cell_type": "markdown",
   "metadata": {},
   "source": [
    "## 1.dt访问器"
   ]
  },
  {
   "cell_type": "code",
   "execution_count": 3,
   "metadata": {},
   "outputs": [
    {
     "name": "stdout",
     "output_type": "stream",
     "text": [
      "0   2013-01-01 09:10:12\n",
      "1   2013-01-02 09:10:12\n",
      "2   2013-01-03 09:10:12\n",
      "3   2013-01-04 09:10:12\n",
      "dtype: datetime64[ns]\n",
      "0   2013-01-01\n",
      "1   2013-01-02\n",
      "2   2013-01-03\n",
      "3   2013-01-04\n",
      "dtype: object\n",
      "0   1 days 00:00:04\n",
      "1   1 days 00:00:05\n",
      "2   1 days 00:00:06\n",
      "3   1 days 00:00:07\n",
      "dtype: timedelta64[ns]\n",
      "--------------------\n",
      "0    2013\n",
      "1    2013\n",
      "2    2013\n",
      "3    2013\n",
      "dtype: int64\n",
      "0    1\n",
      "1    1\n",
      "2    1\n",
      "3    1\n",
      "dtype: int64\n",
      "0    1\n",
      "1    2\n",
      "2    3\n",
      "3    4\n",
      "dtype: int64\n",
      "0    9\n",
      "1    9\n",
      "2    9\n",
      "3    9\n",
      "dtype: int64\n",
      "0    10\n",
      "1    10\n",
      "2    10\n",
      "3    10\n",
      "dtype: int64\n",
      "0    12\n",
      "1    12\n",
      "2    12\n",
      "3    12\n",
      "dtype: int64\n",
      "--------------------\n",
      "0    2013\n",
      "1    2013\n",
      "2    2013\n",
      "3    2013\n",
      "dtype: int64\n",
      "0    1\n",
      "1    1\n",
      "2    1\n",
      "3    1\n",
      "dtype: int64\n",
      "0    1\n",
      "1    2\n",
      "2    3\n",
      "3    4\n",
      "dtype: int64\n",
      "0    0\n",
      "1    0\n",
      "2    0\n",
      "3    0\n",
      "dtype: int64\n",
      "0    0\n",
      "1    0\n",
      "2    0\n",
      "3    0\n",
      "dtype: int64\n",
      "0    0\n",
      "1    0\n",
      "2    0\n",
      "3    0\n",
      "dtype: int64\n",
      "--------------------\n",
      "0    1\n",
      "1    1\n",
      "2    1\n",
      "3    1\n",
      "dtype: int64\n",
      "0    4\n",
      "1    5\n",
      "2    6\n",
      "3    7\n",
      "dtype: int64\n",
      "   days  hours  minutes  seconds  milliseconds  microseconds  nanoseconds\n",
      "0     1      0        0        4             0             0            0\n",
      "1     1      0        0        5             0             0            0\n",
      "2     1      0        0        6             0             0            0\n",
      "3     1      0        0        7             0             0            0\n",
      "--------------------\n"
     ]
    },
    {
     "data": {
      "text/plain": [
       "1   2013-01-02 09:10:12\n",
       "dtype: datetime64[ns]"
      ]
     },
     "execution_count": 3,
     "metadata": {},
     "output_type": "execute_result"
    }
   ],
   "source": [
    "s1 = pd.Series(pd.date_range(\"20130101 09:10:12\", periods = 4))\n",
    "s2 = pd.Series(pd.period_range(\"20130101\", periods = 4, freq = \"D\"))\n",
    "s3 = pd.Series(pd.timedelta_range(\"1 day 00:00:04\", periods = 4, freq = \"s\"))\n",
    "print(s1)\n",
    "print(s2)\n",
    "print(s3)\n",
    "print(\"-\" * 20)\n",
    "\n",
    "print(s1.dt.year)\n",
    "print(s1.dt.month)\n",
    "print(s1.dt.day)\n",
    "print(s1.dt.hour)\n",
    "print(s1.dt.minute)\n",
    "print(s1.dt.second)\n",
    "print(\"-\" * 20)\n",
    "\n",
    "print(s2.dt.year)\n",
    "print(s2.dt.month)\n",
    "print(s2.dt.day)\n",
    "print(s2.dt.hour)\n",
    "print(s2.dt.minute)\n",
    "print(s2.dt.second)\n",
    "print(\"-\" * 20)\n",
    "\n",
    "print(s3.dt.days)\n",
    "print(s3.dt.seconds)\n",
    "print(s3.dt.components)\n",
    "print(\"-\" * 20)\n",
    "\n",
    "s1[s1.dt.day == 2]"
   ]
  },
  {
   "cell_type": "markdown",
   "metadata": {},
   "source": [
    "## 2.Time ZOne\n",
    "\n",
    "* `.dt.tz`\n",
    "* `.dt.tz_localize()`\n",
    "    - `UTC`\n",
    "    - `US/Eastern`\n",
    "* `.dt.tz_convert()`\n",
    "    - `UTC`\n",
    "    - `US/Eastern`"
   ]
  },
  {
   "cell_type": "code",
   "execution_count": 6,
   "metadata": {},
   "outputs": [
    {
     "name": "stdout",
     "output_type": "stream",
     "text": [
      "0   2013-01-01 09:10:12\n",
      "1   2013-01-02 09:10:12\n",
      "2   2013-01-03 09:10:12\n",
      "3   2013-01-04 09:10:12\n",
      "dtype: datetime64[ns]\n",
      "\n",
      "None\n",
      "--------------------------------------------------\n",
      "0   2013-01-01 09:10:12-05:00\n",
      "1   2013-01-02 09:10:12-05:00\n",
      "2   2013-01-03 09:10:12-05:00\n",
      "3   2013-01-04 09:10:12-05:00\n",
      "dtype: datetime64[ns, US/Eastern]\n",
      "\n",
      "US/Eastern\n",
      "--------------------------------------------------\n",
      "0   2013-01-01 14:10:12+00:00\n",
      "1   2013-01-02 14:10:12+00:00\n",
      "2   2013-01-03 14:10:12+00:00\n",
      "3   2013-01-04 14:10:12+00:00\n",
      "dtype: datetime64[ns, UTC]\n",
      "\n",
      "UTC\n"
     ]
    }
   ],
   "source": [
    "s = pd.Series(pd.date_range(\"20130101 09:10:12\", periods = 4))\n",
    "print(s)\n",
    "print()\n",
    "print(s.dt.tz)\n",
    "print(\"-\" * 50)\n",
    "\n",
    "stz = s.dt.tz_localize(\"US/Eastern\")\n",
    "print(stz)\n",
    "print()\n",
    "print(stz.dt.tz)\n",
    "print(\"-\" * 50)\n",
    "\n",
    "stz2 = s.dt.tz_localize(\"US/Eastern\").dt.tz_convert(\"UTC\")\n",
    "print(stz2)\n",
    "print()\n",
    "print(stz2.dt.tz)"
   ]
  },
  {
   "cell_type": "markdown",
   "metadata": {},
   "source": [
    "## 3.dt.strftime\n",
    "\n",
    "* `Series.dt.strftime()`"
   ]
  },
  {
   "cell_type": "code",
   "execution_count": 3,
   "metadata": {},
   "outputs": [
    {
     "name": "stdout",
     "output_type": "stream",
     "text": [
      "0   2013-01-01\n",
      "1   2013-01-02\n",
      "2   2013-01-03\n",
      "3   2013-01-04\n",
      "dtype: datetime64[ns]\n",
      "\n",
      "0    2013/01/01\n",
      "1    2013/01/02\n",
      "2    2013/01/03\n",
      "3    2013/01/04\n",
      "dtype: object\n",
      "--------------------\n",
      "0    2013-01-01\n",
      "1    2013-01-02\n",
      "2    2013-01-03\n",
      "3    2013-01-04\n",
      "dtype: period[D]\n",
      "\n",
      "0    2013/01/01\n",
      "1    2013/01/02\n",
      "2    2013/01/03\n",
      "3    2013/01/04\n",
      "dtype: object\n"
     ]
    }
   ],
   "source": [
    "s = pd.Series(pd.date_range(\"20130101\", periods = 4))\n",
    "print(s)\n",
    "print()\n",
    "print(s.dt.strftime(\"%Y/%m/%d\"))\n",
    "print(\"-\" * 20)\n",
    "\n",
    "s = pd.Series(pd.period_range(\"20130101\", periods = 4))\n",
    "print(s)\n",
    "print()\n",
    "print(s.dt.strftime(\"%Y/%m/%d\"))"
   ]
  }
 ],
 "metadata": {
  "kernelspec": {
   "display_name": "Python 3 (ipykernel)",
   "language": "python",
   "name": "python3"
  },
  "language_info": {
   "codemirror_mode": {
    "name": "ipython",
    "version": 3
   },
   "file_extension": ".py",
   "mimetype": "text/x-python",
   "name": "python",
   "nbconvert_exporter": "python",
   "pygments_lexer": "ipython3",
   "version": "3.7.10"
  }
 },
 "nbformat": 4,
 "nbformat_minor": 4
}
