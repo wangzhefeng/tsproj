{
 "cells": [
  {
   "cell_type": "code",
   "execution_count": 1,
   "id": "e498d476-bb46-4cf8-8c3e-4746e3538497",
   "metadata": {},
   "outputs": [],
   "source": [
    "# tools\n",
    "import pandas as pd\n",
    "import matplotlib.pyplot as plt\n",
    "\n",
    "# data\n",
    "from neuralforecast.utils import AirPassengersDF\n",
    "\n",
    "# forecast\n",
    "from neuralforecast.core import NeuralForecast\n",
    "\n",
    "# models\n",
    "from neuralforecast.auto import AutoMLP\n",
    "from neuralforecast.models import NBEATS, NHITS\n",
    "\n",
    "# hyperparams optim\n",
    "from ray import tune\n",
    "\n",
    "import warnings\n",
    "warnings.filterwarnings(\"ignore\")"
   ]
  },
  {
   "cell_type": "markdown",
   "id": "e25ad4eb-cfb9-4e9d-9604-e865f55a0600",
   "metadata": {},
   "source": [
    "# data"
   ]
  },
  {
   "cell_type": "code",
   "execution_count": 3,
   "id": "6b0f7e76-5e5b-4db2-893d-cdf5019224da",
   "metadata": {},
   "outputs": [
    {
     "name": "stdout",
     "output_type": "stream",
     "text": [
      "   unique_id         ds      y\n",
      "0        1.0 1949-01-31  112.0\n",
      "1        1.0 1949-02-28  118.0\n",
      "2        1.0 1949-03-31  132.0\n",
      "3        1.0 1949-04-30  129.0\n",
      "4        1.0 1949-05-31  121.0 \n",
      "\n",
      "(144, 3) \n",
      "\n",
      "unique_id\n",
      "1.0    144\n",
      "Name: count, dtype: int64\n"
     ]
    }
   ],
   "source": [
    "Y_df = AirPassengersDF\n",
    "Y_df = Y_df.reset_index(drop = True)\n",
    "print(Y_df.head(), \"\\n\")\n",
    "print(Y_df.shape, \"\\n\")\n",
    "print(Y_df[\"unique_id\"].value_counts())"
   ]
  },
  {
   "cell_type": "markdown",
   "id": "546a7a76-1815-4a62-8e48-de4b7c71a0f0",
   "metadata": {},
   "source": [
    "# model training"
   ]
  },
  {
   "cell_type": "code",
   "execution_count": 4,
   "id": "ccc6b321-acfc-4cd6-947a-323f9b045ec4",
   "metadata": {},
   "outputs": [
    {
     "data": {
      "text/html": [],
      "text/plain": [
       "<IPython.core.display.HTML object>"
      ]
     },
     "metadata": {},
     "output_type": "display_data"
    },
    {
     "name": "stderr",
     "output_type": "stream",
     "text": [
      "\u001b[36m(_train_tune pid=29136)\u001b[0m D:\\software\\miniconda3\\envs\\ts\\lib\\site-packages\\torch\\storage.py:414: FutureWarning: You are using `torch.load` with `weights_only=False` (the current default value), which uses the default pickle module implicitly. It is possible to construct malicious pickle data which will execute arbitrary code during unpickling (See https://github.com/pytorch/pytorch/blob/main/SECURITY.md#untrusted-models for more details). In a future release, the default value for `weights_only` will be flipped to `True`. This limits the functions that could be executed during unpickling. Arbitrary objects will no longer be allowed to be loaded via this mode unless they are explicitly allowlisted by the user via `torch.serialization.add_safe_globals`. We recommend you start setting `weights_only=True` for any use case where you don't have full control of the loaded file. Please open an issue on GitHub for any issues related to this experimental feature.\n",
      "\u001b[36m(_train_tune pid=29136)\u001b[0m   return torch.load(io.BytesIO(b))\n",
      "\u001b[36m(_train_tune pid=29136)\u001b[0m D:\\software\\miniconda3\\envs\\ts\\lib\\site-packages\\ray\\tune\\integration\\pytorch_lightning.py:194: UserWarning: `ray.tune.integration.pytorch_lightning.TuneReportCallback` is deprecated. Use `ray.tune.integration.pytorch_lightning.TuneReportCheckpointCallback` instead.\n",
      "\u001b[36m(_train_tune pid=29136)\u001b[0m   warnings.warn(\n",
      "\u001b[36m(_train_tune pid=29136)\u001b[0m Global seed set to 1\n",
      "\u001b[36m(_train_tune pid=29136)\u001b[0m GPU available: True (cuda), used: True\n",
      "\u001b[36m(_train_tune pid=29136)\u001b[0m TPU available: False, using: 0 TPU cores\n",
      "\u001b[36m(_train_tune pid=29136)\u001b[0m IPU available: False, using: 0 IPUs\n",
      "\u001b[36m(_train_tune pid=29136)\u001b[0m HPU available: False, using: 0 HPUs\n",
      "\u001b[36m(_train_tune pid=29136)\u001b[0m You are using a CUDA device ('NVIDIA GeForce RTX 4070') that has Tensor Cores. To properly utilize them, you should set `torch.set_float32_matmul_precision('medium' | 'high')` which will trade-off precision for performance. For more details, read https://pytorch.org/docs/stable/generated/torch.set_float32_matmul_precision.html#torch.set_float32_matmul_precision\n",
      "\u001b[36m(_train_tune pid=29136)\u001b[0m Missing logger folder: C:\\Users\\ADMINI~1\\AppData\\Local\\Temp\\ray\\session_2024-12-07_22-35-20_050212_28772\\artifacts\\2024-12-07_22-35-24\\_train_tune_2024-12-07_22-35-18\\working_dirs\\_train_tune_3273e_00000\\lightning_logs\n",
      "\u001b[36m(_train_tune pid=29136)\u001b[0m LOCAL_RANK: 0 - CUDA_VISIBLE_DEVICES: [0]\n",
      "\u001b[36m(_train_tune pid=29136)\u001b[0m \n",
      "\u001b[36m(_train_tune pid=29136)\u001b[0m   | Name         | Type          | Params\n",
      "\u001b[36m(_train_tune pid=29136)\u001b[0m -----------------------------------------------\n",
      "\u001b[36m(_train_tune pid=29136)\u001b[0m 0 | loss         | MAE           | 0     \n",
      "\u001b[36m(_train_tune pid=29136)\u001b[0m 1 | padder_train | ConstantPad1d | 0     \n",
      "\u001b[36m(_train_tune pid=29136)\u001b[0m 2 | scaler       | TemporalNorm  | 0     \n",
      "\u001b[36m(_train_tune pid=29136)\u001b[0m 3 | mlp          | ModuleList    | 1.1 M \n",
      "\u001b[36m(_train_tune pid=29136)\u001b[0m 4 | out          | Linear        | 12.3 K\n",
      "\u001b[36m(_train_tune pid=29136)\u001b[0m -----------------------------------------------\n",
      "\u001b[36m(_train_tune pid=29136)\u001b[0m 1.1 M     Trainable params\n",
      "\u001b[36m(_train_tune pid=29136)\u001b[0m 0         Non-trainable params\n",
      "\u001b[36m(_train_tune pid=29136)\u001b[0m 1.1 M     Total params\n",
      "\u001b[36m(_train_tune pid=29136)\u001b[0m 4.399     Total estimated model params size (MB)\n"
     ]
    },
    {
     "name": "stdout",
     "output_type": "stream",
     "text": [
      "Sanity Checking DataLoader 0:   0%|          | 0/1 [00:00<?, ?it/s]\n",
      "Epoch 0:   0%|          | 0/1 [00:00<?, ?it/s]                             \n",
      "Epoch 14:   0%|          | 0/1 [00:00<?, ?it/s, v_num=0, train_loss_step=43.90, train_loss_epoch=43.90]         \n",
      "Epoch 15: 100%|██████████| 1/1 [00:00<00:00, 230.15it/s, v_num=0, train_loss_step=38.30, train_loss_epoch=38.30]\n",
      "Epoch 17:   0%|          | 0/1 [00:00<?, ?it/s, v_num=0, train_loss_step=45.50, train_loss_epoch=45.50]         \n",
      "Epoch 19:   0%|          | 0/1 [00:00<?, ?it/s, v_num=0, train_loss_step=36.50, train_loss_epoch=36.50]         \n",
      "Epoch 20: 100%|██████████| 1/1 [00:00<00:00, 222.09it/s, v_num=0, train_loss_step=35.40, train_loss_epoch=35.40]\n",
      "Epoch 20: 100%|██████████| 1/1 [00:00<00:00, 222.09it/s, v_num=0, train_loss_step=37.90, train_loss_epoch=35.40]\n",
      "Epoch 22:   0%|          | 0/1 [00:00<?, ?it/s, v_num=0, train_loss_step=36.90, train_loss_epoch=36.90]         \n",
      "Epoch 24:   0%|          | 0/1 [00:00<?, ?it/s, v_num=0, train_loss_step=32.30, train_loss_epoch=32.30]         \n",
      "Epoch 25:   0%|          | 0/1 [00:00<?, ?it/s, v_num=0, train_loss_step=32.00, train_loss_epoch=32.00]         \n",
      "Epoch 27:   0%|          | 0/1 [00:00<?, ?it/s, v_num=0, train_loss_step=29.90, train_loss_epoch=29.90]         \n",
      "Epoch 29:   0%|          | 0/1 [00:00<?, ?it/s, v_num=0, train_loss_step=28.20, train_loss_epoch=28.20]         \n",
      "Epoch 30:   0%|          | 0/1 [00:00<?, ?it/s, v_num=0, train_loss_step=27.10, train_loss_epoch=27.10]         \n",
      "Epoch 31: 100%|██████████| 1/1 [00:00<00:00, 221.74it/s, v_num=0, train_loss_step=25.20, train_loss_epoch=25.20]\n",
      "Epoch 33:   0%|          | 0/1 [00:00<?, ?it/s, v_num=0, train_loss_step=24.70, train_loss_epoch=24.70]         \n",
      "Epoch 35:   0%|          | 0/1 [00:00<?, ?it/s, v_num=0, train_loss_step=23.00, train_loss_epoch=23.00]         \n",
      "Epoch 36:   0%|          | 0/1 [00:00<?, ?it/s, v_num=0, train_loss_step=23.40, train_loss_epoch=23.40]         \n",
      "Epoch 38:   0%|          | 0/1 [00:00<?, ?it/s, v_num=0, train_loss_step=21.40, train_loss_epoch=21.40]         \n",
      "Epoch 39: 100%|██████████| 1/1 [00:00<00:00, 200.01it/s, v_num=0, train_loss_step=21.20, train_loss_epoch=21.20]\n",
      "Epoch 41: 100%|██████████| 1/1 [00:00<00:00, 222.05it/s, v_num=0, train_loss_step=20.50, train_loss_epoch=20.60]\n",
      "Epoch 43:   0%|          | 0/1 [00:00<?, ?it/s, v_num=0, train_loss_step=20.00, train_loss_epoch=20.00]         \n",
      "Epoch 45:   0%|          | 0/1 [00:00<?, ?it/s, v_num=0, train_loss_step=19.40, train_loss_epoch=19.40]         \n",
      "Epoch 46:   0%|          | 0/1 [00:00<?, ?it/s, v_num=0, train_loss_step=18.90, train_loss_epoch=18.90]         \n",
      "Epoch 48:   0%|          | 0/1 [00:00<?, ?it/s, v_num=0, train_loss_step=18.40, train_loss_epoch=18.40]         \n",
      "Epoch 49: 100%|██████████| 1/1 [00:00<00:00, 199.70it/s, v_num=0, train_loss_step=17.70, train_loss_epoch=17.70]\n",
      "Epoch 51:   0%|          | 0/1 [00:00<?, ?it/s, v_num=0, train_loss_step=17.80, train_loss_epoch=17.80]         \n",
      "Epoch 53:   0%|          | 0/1 [00:00<?, ?it/s, v_num=0, train_loss_step=17.10, train_loss_epoch=17.10]         \n",
      "Epoch 55:   0%|          | 0/1 [00:00<?, ?it/s, v_num=0, train_loss_step=16.80, train_loss_epoch=16.80]         \n",
      "Epoch 57:   0%|          | 0/1 [00:00<?, ?it/s, v_num=0, train_loss_step=16.20, train_loss_epoch=16.20]         \n",
      "Epoch 58: 100%|██████████| 1/1 [00:00<00:00, 185.25it/s, v_num=0, train_loss_step=15.90, train_loss_epoch=15.90]\n",
      "Epoch 60:   0%|          | 0/1 [00:00<?, ?it/s, v_num=0, train_loss_step=15.30, train_loss_epoch=15.30]         \n",
      "Epoch 62:   0%|          | 0/1 [00:00<?, ?it/s, v_num=0, train_loss_step=14.90, train_loss_epoch=14.90]         \n",
      "Epoch 63:   0%|          | 0/1 [00:00<?, ?it/s, v_num=0, train_loss_step=15.60, train_loss_epoch=15.60]         \n",
      "Epoch 65:   0%|          | 0/1 [00:00<?, ?it/s, v_num=0, train_loss_step=15.10, train_loss_epoch=15.10]         \n",
      "Epoch 65: 100%|██████████| 1/1 [00:00<00:00, 285.15it/s, v_num=0, train_loss_step=15.00, train_loss_epoch=15.10]\n",
      "Epoch 66:   0%|          | 0/1 [00:00<?, ?it/s, v_num=0, train_loss_step=15.00, train_loss_epoch=15.00]         \n",
      "Epoch 68:   0%|          | 0/1 [00:00<?, ?it/s, v_num=0, train_loss_step=14.40, train_loss_epoch=14.40]         \n",
      "Epoch 69:   0%|          | 0/1 [00:00<?, ?it/s, v_num=0, train_loss_step=14.50, train_loss_epoch=14.50]         \n",
      "Epoch 71:   0%|          | 0/1 [00:00<?, ?it/s, v_num=0, train_loss_step=14.10, train_loss_epoch=14.10]         \n",
      "Epoch 72: 100%|██████████| 1/1 [00:00<00:00, 221.76it/s, v_num=0, train_loss_step=13.70, train_loss_epoch=14.00]\n",
      "Epoch 74:   0%|          | 0/1 [00:00<?, ?it/s, v_num=0, train_loss_step=13.80, train_loss_epoch=13.80]         \n",
      "Epoch 76:   0%|          | 0/1 [00:00<?, ?it/s, v_num=0, train_loss_step=13.90, train_loss_epoch=13.90]         \n",
      "Epoch 77:   0%|          | 0/1 [00:00<?, ?it/s, v_num=0, train_loss_step=13.90, train_loss_epoch=13.90]         \n",
      "Epoch 79:   0%|          | 0/1 [00:00<?, ?it/s, v_num=0, train_loss_step=13.90, train_loss_epoch=13.90]         \n",
      "Epoch 81:   0%|          | 0/1 [00:00<?, ?it/s, v_num=0, train_loss_step=13.80, train_loss_epoch=13.80]         \n",
      "Epoch 82: 100%|██████████| 1/1 [00:00<00:00, 250.02it/s, v_num=0, train_loss_step=13.50, train_loss_epoch=13.60]\n",
      "Epoch 84: 100%|██████████| 1/1 [00:00<00:00, 249.85it/s, v_num=0, train_loss_step=13.70, train_loss_epoch=13.70]\n",
      "Epoch 87:   0%|          | 0/1 [00:00<?, ?it/s, v_num=0, train_loss_step=13.60, train_loss_epoch=13.60]         \n",
      "Epoch 89:   0%|          | 0/1 [00:00<?, ?it/s, v_num=0, train_loss_step=13.30, train_loss_epoch=13.30]         \n",
      "Epoch 90:   0%|          | 0/1 [00:00<?, ?it/s, v_num=0, train_loss_step=13.20, train_loss_epoch=13.20]         \n",
      "Epoch 91: 100%|██████████| 1/1 [00:00<00:00, 221.76it/s, v_num=0, train_loss_step=13.50, train_loss_epoch=13.50]\n"
     ]
    },
    {
     "name": "stderr",
     "output_type": "stream",
     "text": [
      "\u001b[36m(_train_tune pid=29136)\u001b[0m `Trainer.fit` stopped: `max_steps=100` reached.\n",
      "2024-12-07 22:35:32,122\tINFO tune.py:1016 -- Wrote the latest version of all result files and experiment state to 'C:/Users/Administrator/ray_results/_train_tune_2024-12-07_22-35-18' in 0.0070s.\n",
      "Global seed set to 1\n",
      "GPU available: True (cuda), used: True\n",
      "TPU available: False, using: 0 TPU cores\n",
      "IPU available: False, using: 0 IPUs\n",
      "HPU available: False, using: 0 HPUs\n",
      "You are using a CUDA device ('NVIDIA GeForce RTX 4070') that has Tensor Cores. To properly utilize them, you should set `torch.set_float32_matmul_precision('medium' | 'high')` which will trade-off precision for performance. For more details, read https://pytorch.org/docs/stable/generated/torch.set_float32_matmul_precision.html#torch.set_float32_matmul_precision\n",
      "LOCAL_RANK: 0 - CUDA_VISIBLE_DEVICES: [0]\n",
      "\n",
      "  | Name         | Type          | Params\n",
      "-----------------------------------------------\n",
      "0 | loss         | MAE           | 0     \n",
      "1 | padder_train | ConstantPad1d | 0     \n",
      "2 | scaler       | TemporalNorm  | 0     \n",
      "3 | mlp          | ModuleList    | 1.1 M \n",
      "4 | out          | Linear        | 12.3 K\n",
      "-----------------------------------------------\n",
      "1.1 M     Trainable params\n",
      "0         Non-trainable params\n",
      "1.1 M     Total params\n",
      "4.399     Total estimated model params size (MB)\n"
     ]
    },
    {
     "name": "stdout",
     "output_type": "stream",
     "text": [
      "Epoch 93:   0%|          | 0/1 [00:00<?, ?it/s, v_num=0, train_loss_step=13.30, train_loss_epoch=13.30]         \n",
      "Epoch 95:   0%|          | 0/1 [00:00<?, ?it/s, v_num=0, train_loss_step=13.20, train_loss_epoch=13.20]         \n",
      "Epoch 96:   0%|          | 0/1 [00:00<?, ?it/s, v_num=0, train_loss_step=12.70, train_loss_epoch=12.70]         \n",
      "Epoch 97:   0%|          | 0/1 [00:00<?, ?it/s, v_num=0, train_loss_step=13.00, train_loss_epoch=13.00]         \n",
      "Epoch 98:   0%|          | 0/1 [00:00<?, ?it/s, v_num=0, train_loss_step=12.50, train_loss_epoch=12.50]         \n",
      "Epoch 99:   0%|          | 0/1 [00:00<?, ?it/s, v_num=0, train_loss_step=12.90, train_loss_epoch=12.90]         \n",
      "Epoch 99: 100%|██████████| 1/1 [00:00<00:00, 324.74it/s, v_num=0, train_loss_step=12.50, train_loss_epoch=12.90]\n",
      "Validation: 0it [00:00, ?it/s]\u001b[A\n",
      "Validation:   0%|          | 0/1 [00:00<?, ?it/s]\u001b[A\n",
      "Validation DataLoader 0:   0%|          | 0/1 [00:00<?, ?it/s]\u001b[A\n",
      "\u001b[36m(_train_tune pid=29136)\u001b[0m \n",
      "Validation DataLoader 0: 100%|██████████| 1/1 [00:00<00:00, 1000.55it/s]\u001b[A\n",
      "Epoch 99: 100%|██████████| 1/1 [00:00<00:00, 70.55it/s, v_num=0, train_loss_step=12.50, train_loss_epoch=12.90, valid_loss=15.60]\n",
      "                                                                        \u001b[A\n",
      "Epoch 99: 100%|██████████| 1/1 [00:00<00:00, 65.90it/s, v_num=0, train_loss_step=12.50, train_loss_epoch=12.50, valid_loss=15.60]\n"
     ]
    },
    {
     "data": {
      "application/vnd.jupyter.widget-view+json": {
       "model_id": "",
       "version_major": 2,
       "version_minor": 0
      },
      "text/plain": [
       "Sanity Checking: 0it [00:00, ?it/s]"
      ]
     },
     "metadata": {},
     "output_type": "display_data"
    },
    {
     "data": {
      "application/vnd.jupyter.widget-view+json": {
       "model_id": "d229c5059def4fb7a226b153ffd3163f",
       "version_major": 2,
       "version_minor": 0
      },
      "text/plain": [
       "Training: 0it [00:00, ?it/s]"
      ]
     },
     "metadata": {},
     "output_type": "display_data"
    },
    {
     "data": {
      "application/vnd.jupyter.widget-view+json": {
       "model_id": "",
       "version_major": 2,
       "version_minor": 0
      },
      "text/plain": [
       "Validation: 0it [00:00, ?it/s]"
      ]
     },
     "metadata": {},
     "output_type": "display_data"
    },
    {
     "name": "stderr",
     "output_type": "stream",
     "text": [
      "`Trainer.fit` stopped: `max_steps=100` reached.\n"
     ]
    }
   ],
   "source": [
    "horizon = 12\n",
    "models = [\n",
    "    NBEATS(input_size=2 * horizon, h=horizon, max_steps=50),\n",
    "    NHITS(input_size=2 * horizon, h=horizon, max_steps=50),\n",
    "    # Ray tune explore config\n",
    "    AutoMLP(\n",
    "        config = dict(\n",
    "            max_steps = 100, # Operates with steps not epochs\n",
    "            input_size = tune.choice([3 * horizon]),\n",
    "            learning_rate = tune.choice([1e-3])\n",
    "        ),\n",
    "        h = horizon,\n",
    "        num_samples = 1, \n",
    "        cpus = 1\n",
    "    )\n",
    "]\n",
    "nf = NeuralForecast(models = models, freq = \"M\")\n",
    "nf.fit(df = Y_df)"
   ]
  },
  {
   "cell_type": "markdown",
   "id": "a98c5368-138d-468f-9797-c340cb29f24c",
   "metadata": {},
   "source": [
    "# model predicting"
   ]
  },
  {
   "cell_type": "code",
   "execution_count": 5,
   "id": "59425f8e-ed1a-4c84-9d85-d3742e299a79",
   "metadata": {},
   "outputs": [
    {
     "name": "stderr",
     "output_type": "stream",
     "text": [
      "GPU available: True (cuda), used: True\n",
      "TPU available: False, using: 0 TPU cores\n",
      "IPU available: False, using: 0 IPUs\n",
      "HPU available: False, using: 0 HPUs\n",
      "You are using a CUDA device ('NVIDIA GeForce RTX 4070') that has Tensor Cores. To properly utilize them, you should set `torch.set_float32_matmul_precision('medium' | 'high')` which will trade-off precision for performance. For more details, read https://pytorch.org/docs/stable/generated/torch.set_float32_matmul_precision.html#torch.set_float32_matmul_precision\n",
      "LOCAL_RANK: 0 - CUDA_VISIBLE_DEVICES: [0]\n"
     ]
    },
    {
     "data": {
      "application/vnd.jupyter.widget-view+json": {
       "model_id": "1f6d1735c9c648ce996900a58735d091",
       "version_major": 2,
       "version_minor": 0
      },
      "text/plain": [
       "Predicting: 0it [00:00, ?it/s]"
      ]
     },
     "metadata": {},
     "output_type": "display_data"
    },
    {
     "name": "stderr",
     "output_type": "stream",
     "text": [
      "GPU available: True (cuda), used: True\n",
      "TPU available: False, using: 0 TPU cores\n",
      "IPU available: False, using: 0 IPUs\n",
      "HPU available: False, using: 0 HPUs\n",
      "You are using a CUDA device ('NVIDIA GeForce RTX 4070') that has Tensor Cores. To properly utilize them, you should set `torch.set_float32_matmul_precision('medium' | 'high')` which will trade-off precision for performance. For more details, read https://pytorch.org/docs/stable/generated/torch.set_float32_matmul_precision.html#torch.set_float32_matmul_precision\n",
      "LOCAL_RANK: 0 - CUDA_VISIBLE_DEVICES: [0]\n"
     ]
    },
    {
     "data": {
      "application/vnd.jupyter.widget-view+json": {
       "model_id": "7cf9a73460ea4637af9d93fae32be397",
       "version_major": 2,
       "version_minor": 0
      },
      "text/plain": [
       "Predicting: 0it [00:00, ?it/s]"
      ]
     },
     "metadata": {},
     "output_type": "display_data"
    },
    {
     "name": "stderr",
     "output_type": "stream",
     "text": [
      "GPU available: True (cuda), used: True\n",
      "TPU available: False, using: 0 TPU cores\n",
      "IPU available: False, using: 0 IPUs\n",
      "HPU available: False, using: 0 HPUs\n",
      "You are using a CUDA device ('NVIDIA GeForce RTX 4070') that has Tensor Cores. To properly utilize them, you should set `torch.set_float32_matmul_precision('medium' | 'high')` which will trade-off precision for performance. For more details, read https://pytorch.org/docs/stable/generated/torch.set_float32_matmul_precision.html#torch.set_float32_matmul_precision\n",
      "LOCAL_RANK: 0 - CUDA_VISIBLE_DEVICES: [0]\n"
     ]
    },
    {
     "data": {
      "application/vnd.jupyter.widget-view+json": {
       "model_id": "034b38b3d47347b58656b0b8376c4993",
       "version_major": 2,
       "version_minor": 0
      },
      "text/plain": [
       "Predicting: 0it [00:00, ?it/s]"
      ]
     },
     "metadata": {},
     "output_type": "display_data"
    },
    {
     "data": {
      "text/html": [
       "<div>\n",
       "<style scoped>\n",
       "    .dataframe tbody tr th:only-of-type {\n",
       "        vertical-align: middle;\n",
       "    }\n",
       "\n",
       "    .dataframe tbody tr th {\n",
       "        vertical-align: top;\n",
       "    }\n",
       "\n",
       "    .dataframe thead th {\n",
       "        text-align: right;\n",
       "    }\n",
       "</style>\n",
       "<table border=\"1\" class=\"dataframe\">\n",
       "  <thead>\n",
       "    <tr style=\"text-align: right;\">\n",
       "      <th></th>\n",
       "      <th>unique_id</th>\n",
       "      <th>ds</th>\n",
       "      <th>NBEATS</th>\n",
       "      <th>NHITS</th>\n",
       "      <th>AutoMLP</th>\n",
       "    </tr>\n",
       "  </thead>\n",
       "  <tbody>\n",
       "    <tr>\n",
       "      <th>0</th>\n",
       "      <td>1.0</td>\n",
       "      <td>1961-01-31</td>\n",
       "      <td>444.368103</td>\n",
       "      <td>450.529510</td>\n",
       "      <td>454.914154</td>\n",
       "    </tr>\n",
       "    <tr>\n",
       "      <th>1</th>\n",
       "      <td>1.0</td>\n",
       "      <td>1961-02-28</td>\n",
       "      <td>464.821472</td>\n",
       "      <td>468.269562</td>\n",
       "      <td>430.188354</td>\n",
       "    </tr>\n",
       "    <tr>\n",
       "      <th>2</th>\n",
       "      <td>1.0</td>\n",
       "      <td>1961-03-31</td>\n",
       "      <td>472.306366</td>\n",
       "      <td>478.337708</td>\n",
       "      <td>458.478607</td>\n",
       "    </tr>\n",
       "    <tr>\n",
       "      <th>3</th>\n",
       "      <td>1.0</td>\n",
       "      <td>1961-04-30</td>\n",
       "      <td>493.174072</td>\n",
       "      <td>509.043457</td>\n",
       "      <td>477.244476</td>\n",
       "    </tr>\n",
       "    <tr>\n",
       "      <th>4</th>\n",
       "      <td>1.0</td>\n",
       "      <td>1961-05-31</td>\n",
       "      <td>531.443726</td>\n",
       "      <td>562.544495</td>\n",
       "      <td>522.253052</td>\n",
       "    </tr>\n",
       "    <tr>\n",
       "      <th>5</th>\n",
       "      <td>1.0</td>\n",
       "      <td>1961-06-30</td>\n",
       "      <td>621.822571</td>\n",
       "      <td>595.196106</td>\n",
       "      <td>608.805603</td>\n",
       "    </tr>\n",
       "    <tr>\n",
       "      <th>6</th>\n",
       "      <td>1.0</td>\n",
       "      <td>1961-07-31</td>\n",
       "      <td>678.368225</td>\n",
       "      <td>658.282471</td>\n",
       "      <td>694.153198</td>\n",
       "    </tr>\n",
       "    <tr>\n",
       "      <th>7</th>\n",
       "      <td>1.0</td>\n",
       "      <td>1961-08-31</td>\n",
       "      <td>668.124023</td>\n",
       "      <td>658.865540</td>\n",
       "      <td>689.863464</td>\n",
       "    </tr>\n",
       "    <tr>\n",
       "      <th>8</th>\n",
       "      <td>1.0</td>\n",
       "      <td>1961-09-30</td>\n",
       "      <td>585.601257</td>\n",
       "      <td>598.597290</td>\n",
       "      <td>583.123596</td>\n",
       "    </tr>\n",
       "    <tr>\n",
       "      <th>9</th>\n",
       "      <td>1.0</td>\n",
       "      <td>1961-10-31</td>\n",
       "      <td>506.837067</td>\n",
       "      <td>565.858276</td>\n",
       "      <td>511.057098</td>\n",
       "    </tr>\n",
       "    <tr>\n",
       "      <th>10</th>\n",
       "      <td>1.0</td>\n",
       "      <td>1961-11-30</td>\n",
       "      <td>464.804382</td>\n",
       "      <td>513.579590</td>\n",
       "      <td>448.880707</td>\n",
       "    </tr>\n",
       "    <tr>\n",
       "      <th>11</th>\n",
       "      <td>1.0</td>\n",
       "      <td>1961-12-31</td>\n",
       "      <td>488.900726</td>\n",
       "      <td>477.922516</td>\n",
       "      <td>488.846222</td>\n",
       "    </tr>\n",
       "  </tbody>\n",
       "</table>\n",
       "</div>"
      ],
      "text/plain": [
       "    unique_id         ds      NBEATS       NHITS     AutoMLP\n",
       "0         1.0 1961-01-31  444.368103  450.529510  454.914154\n",
       "1         1.0 1961-02-28  464.821472  468.269562  430.188354\n",
       "2         1.0 1961-03-31  472.306366  478.337708  458.478607\n",
       "3         1.0 1961-04-30  493.174072  509.043457  477.244476\n",
       "4         1.0 1961-05-31  531.443726  562.544495  522.253052\n",
       "5         1.0 1961-06-30  621.822571  595.196106  608.805603\n",
       "6         1.0 1961-07-31  678.368225  658.282471  694.153198\n",
       "7         1.0 1961-08-31  668.124023  658.865540  689.863464\n",
       "8         1.0 1961-09-30  585.601257  598.597290  583.123596\n",
       "9         1.0 1961-10-31  506.837067  565.858276  511.057098\n",
       "10        1.0 1961-11-30  464.804382  513.579590  448.880707\n",
       "11        1.0 1961-12-31  488.900726  477.922516  488.846222"
      ]
     },
     "execution_count": 5,
     "metadata": {},
     "output_type": "execute_result"
    }
   ],
   "source": [
    "Y_hat_df = nf.predict().reset_index()\n",
    "Y_hat_df"
   ]
  },
  {
   "cell_type": "code",
   "execution_count": 10,
   "id": "e661edd4-3524-43b9-aed1-f3e5e246edac",
   "metadata": {},
   "outputs": [
    {
     "data": {
      "text/plain": [
       "<Figure size 1200x300 with 0 Axes>"
      ]
     },
     "metadata": {},
     "output_type": "display_data"
    },
    {
     "data": {
      "image/png": "[encoded data removed]",
      "text/plain": [
       "<Figure size 640x480 with 1 Axes>"
      ]
     },
     "metadata": {},
     "output_type": "display_data"
    }
   ],
   "source": [
    "plot_df = pd.concat([Y_df, Y_hat_df]).set_index('ds')\n",
    "\n",
    "plt.figure(figsize = (12, 3))\n",
    "plot_df[['y', 'NBEATS', 'NHITS', 'AutoMLP']].plot(linewidth=1.0)\n",
    "plt.title('AirPassengers Forecast', fontsize=10)\n",
    "plt.ylabel('Monthly Passengers', fontsize=10)\n",
    "plt.xlabel('Timestamp [t]', fontsize=10)\n",
    "plt.axvline(plot_df.index[-horizon], color='r', linestyle='--', linewidth=1.0)\n",
    "plt.legend(prop={'size': 10})\n",
    "plt.grid()"
   ]
  },
  {
   "cell_type": "markdown",
   "id": "63cc5016-0f5d-4e12-8cbf-183fe03c094a",
   "metadata": {},
   "source": [
    "# model save"
   ]
  },
  {
   "cell_type": "code",
   "execution_count": 7,
   "id": "475d5aa6-1b83-43f2-8dc7-2aac017643a4",
   "metadata": {},
   "outputs": [],
   "source": [
    "nf.save(\n",
    "    path = \"./checkpoints/test_run/\",\n",
    "    model_index = None,\n",
    "    overwrite = True,\n",
    "    save_dataset = True,\n",
    ")"
   ]
  },
  {
   "cell_type": "markdown",
   "id": "ead593e7-b91f-425c-ad03-a99a4756a425",
   "metadata": {},
   "source": [
    "# model load"
   ]
  },
  {
   "cell_type": "code",
   "execution_count": 8,
   "id": "17c1a618-b2e3-47f4-b8e9-35e0edfd6747",
   "metadata": {},
   "outputs": [
    {
     "name": "stderr",
     "output_type": "stream",
     "text": [
      "Global seed set to 1\n",
      "Global seed set to 1\n",
      "Global seed set to 1\n",
      "GPU available: True (cuda), used: True\n",
      "TPU available: False, using: 0 TPU cores\n",
      "IPU available: False, using: 0 IPUs\n",
      "HPU available: False, using: 0 HPUs\n",
      "You are using a CUDA device ('NVIDIA GeForce RTX 4070') that has Tensor Cores. To properly utilize them, you should set `torch.set_float32_matmul_precision('medium' | 'high')` which will trade-off precision for performance. For more details, read https://pytorch.org/docs/stable/generated/torch.set_float32_matmul_precision.html#torch.set_float32_matmul_precision\n",
      "LOCAL_RANK: 0 - CUDA_VISIBLE_DEVICES: [0]\n"
     ]
    },
    {
     "data": {
      "application/vnd.jupyter.widget-view+json": {
       "model_id": "66f9f73576c043f18766c54b7f78887a",
       "version_major": 2,
       "version_minor": 0
      },
      "text/plain": [
       "Predicting: 0it [00:00, ?it/s]"
      ]
     },
     "metadata": {},
     "output_type": "display_data"
    },
    {
     "name": "stderr",
     "output_type": "stream",
     "text": [
      "GPU available: True (cuda), used: True\n",
      "TPU available: False, using: 0 TPU cores\n",
      "IPU available: False, using: 0 IPUs\n",
      "HPU available: False, using: 0 HPUs\n",
      "You are using a CUDA device ('NVIDIA GeForce RTX 4070') that has Tensor Cores. To properly utilize them, you should set `torch.set_float32_matmul_precision('medium' | 'high')` which will trade-off precision for performance. For more details, read https://pytorch.org/docs/stable/generated/torch.set_float32_matmul_precision.html#torch.set_float32_matmul_precision\n",
      "LOCAL_RANK: 0 - CUDA_VISIBLE_DEVICES: [0]\n"
     ]
    },
    {
     "data": {
      "application/vnd.jupyter.widget-view+json": {
       "model_id": "01523024a04341d2bfc4ab04dcd36365",
       "version_major": 2,
       "version_minor": 0
      },
      "text/plain": [
       "Predicting: 0it [00:00, ?it/s]"
      ]
     },
     "metadata": {},
     "output_type": "display_data"
    },
    {
     "name": "stderr",
     "output_type": "stream",
     "text": [
      "GPU available: True (cuda), used: True\n",
      "TPU available: False, using: 0 TPU cores\n",
      "IPU available: False, using: 0 IPUs\n",
      "HPU available: False, using: 0 HPUs\n",
      "You are using a CUDA device ('NVIDIA GeForce RTX 4070') that has Tensor Cores. To properly utilize them, you should set `torch.set_float32_matmul_precision('medium' | 'high')` which will trade-off precision for performance. For more details, read https://pytorch.org/docs/stable/generated/torch.set_float32_matmul_precision.html#torch.set_float32_matmul_precision\n",
      "LOCAL_RANK: 0 - CUDA_VISIBLE_DEVICES: [0]\n"
     ]
    },
    {
     "data": {
      "application/vnd.jupyter.widget-view+json": {
       "model_id": "f83ed6ff7f614a9983c807edfae1de8d",
       "version_major": 2,
       "version_minor": 0
      },
      "text/plain": [
       "Predicting: 0it [00:00, ?it/s]"
      ]
     },
     "metadata": {},
     "output_type": "display_data"
    },
    {
     "data": {
      "text/html": [
       "<div>\n",
       "<style scoped>\n",
       "    .dataframe tbody tr th:only-of-type {\n",
       "        vertical-align: middle;\n",
       "    }\n",
       "\n",
       "    .dataframe tbody tr th {\n",
       "        vertical-align: top;\n",
       "    }\n",
       "\n",
       "    .dataframe thead th {\n",
       "        text-align: right;\n",
       "    }\n",
       "</style>\n",
       "<table border=\"1\" class=\"dataframe\">\n",
       "  <thead>\n",
       "    <tr style=\"text-align: right;\">\n",
       "      <th></th>\n",
       "      <th>unique_id</th>\n",
       "      <th>ds</th>\n",
       "      <th>AutoMLP</th>\n",
       "      <th>NBEATS</th>\n",
       "      <th>NHITS</th>\n",
       "    </tr>\n",
       "  </thead>\n",
       "  <tbody>\n",
       "    <tr>\n",
       "      <th>0</th>\n",
       "      <td>1.0</td>\n",
       "      <td>1961-01-31</td>\n",
       "      <td>454.914154</td>\n",
       "      <td>444.368103</td>\n",
       "      <td>450.529510</td>\n",
       "    </tr>\n",
       "    <tr>\n",
       "      <th>1</th>\n",
       "      <td>1.0</td>\n",
       "      <td>1961-02-28</td>\n",
       "      <td>430.188354</td>\n",
       "      <td>464.821472</td>\n",
       "      <td>468.269562</td>\n",
       "    </tr>\n",
       "    <tr>\n",
       "      <th>2</th>\n",
       "      <td>1.0</td>\n",
       "      <td>1961-03-31</td>\n",
       "      <td>458.478607</td>\n",
       "      <td>472.306366</td>\n",
       "      <td>478.337708</td>\n",
       "    </tr>\n",
       "    <tr>\n",
       "      <th>3</th>\n",
       "      <td>1.0</td>\n",
       "      <td>1961-04-30</td>\n",
       "      <td>477.244476</td>\n",
       "      <td>493.174072</td>\n",
       "      <td>509.043457</td>\n",
       "    </tr>\n",
       "    <tr>\n",
       "      <th>4</th>\n",
       "      <td>1.0</td>\n",
       "      <td>1961-05-31</td>\n",
       "      <td>522.253052</td>\n",
       "      <td>531.443726</td>\n",
       "      <td>562.544495</td>\n",
       "    </tr>\n",
       "    <tr>\n",
       "      <th>5</th>\n",
       "      <td>1.0</td>\n",
       "      <td>1961-06-30</td>\n",
       "      <td>608.805603</td>\n",
       "      <td>621.822571</td>\n",
       "      <td>595.196106</td>\n",
       "    </tr>\n",
       "    <tr>\n",
       "      <th>6</th>\n",
       "      <td>1.0</td>\n",
       "      <td>1961-07-31</td>\n",
       "      <td>694.153198</td>\n",
       "      <td>678.368225</td>\n",
       "      <td>658.282471</td>\n",
       "    </tr>\n",
       "    <tr>\n",
       "      <th>7</th>\n",
       "      <td>1.0</td>\n",
       "      <td>1961-08-31</td>\n",
       "      <td>689.863464</td>\n",
       "      <td>668.124023</td>\n",
       "      <td>658.865540</td>\n",
       "    </tr>\n",
       "    <tr>\n",
       "      <th>8</th>\n",
       "      <td>1.0</td>\n",
       "      <td>1961-09-30</td>\n",
       "      <td>583.123596</td>\n",
       "      <td>585.601257</td>\n",
       "      <td>598.597290</td>\n",
       "    </tr>\n",
       "    <tr>\n",
       "      <th>9</th>\n",
       "      <td>1.0</td>\n",
       "      <td>1961-10-31</td>\n",
       "      <td>511.057098</td>\n",
       "      <td>506.837067</td>\n",
       "      <td>565.858276</td>\n",
       "    </tr>\n",
       "    <tr>\n",
       "      <th>10</th>\n",
       "      <td>1.0</td>\n",
       "      <td>1961-11-30</td>\n",
       "      <td>448.880707</td>\n",
       "      <td>464.804382</td>\n",
       "      <td>513.579590</td>\n",
       "    </tr>\n",
       "    <tr>\n",
       "      <th>11</th>\n",
       "      <td>1.0</td>\n",
       "      <td>1961-12-31</td>\n",
       "      <td>488.846222</td>\n",
       "      <td>488.900726</td>\n",
       "      <td>477.922516</td>\n",
       "    </tr>\n",
       "  </tbody>\n",
       "</table>\n",
       "</div>"
      ],
      "text/plain": [
       "    unique_id         ds     AutoMLP      NBEATS       NHITS\n",
       "0         1.0 1961-01-31  454.914154  444.368103  450.529510\n",
       "1         1.0 1961-02-28  430.188354  464.821472  468.269562\n",
       "2         1.0 1961-03-31  458.478607  472.306366  478.337708\n",
       "3         1.0 1961-04-30  477.244476  493.174072  509.043457\n",
       "4         1.0 1961-05-31  522.253052  531.443726  562.544495\n",
       "5         1.0 1961-06-30  608.805603  621.822571  595.196106\n",
       "6         1.0 1961-07-31  694.153198  678.368225  658.282471\n",
       "7         1.0 1961-08-31  689.863464  668.124023  658.865540\n",
       "8         1.0 1961-09-30  583.123596  585.601257  598.597290\n",
       "9         1.0 1961-10-31  511.057098  506.837067  565.858276\n",
       "10        1.0 1961-11-30  448.880707  464.804382  513.579590\n",
       "11        1.0 1961-12-31  488.846222  488.900726  477.922516"
      ]
     },
     "execution_count": 8,
     "metadata": {},
     "output_type": "execute_result"
    }
   ],
   "source": [
    "nf2 = NeuralForecast.load(path = \"./checkpoints/test_run/\")\n",
    "Y_hat_df = nf2.predict().reset_index()\n",
    "Y_hat_df"
   ]
  },
  {
   "cell_type": "code",
   "execution_count": 25,
   "id": "f80b9141-5dff-4d87-b2e3-c339f558845f",
   "metadata": {},
   "outputs": [
    {
     "data": {
      "text/plain": [
       "<Figure size 1500x500 with 0 Axes>"
      ]
     },
     "metadata": {},
     "output_type": "display_data"
    },
    {
     "data": {
      "image/png": "[encoded data removed]",
      "text/plain": [
       "<Figure size 640x480 with 1 Axes>"
      ]
     },
     "metadata": {},
     "output_type": "display_data"
    }
   ],
   "source": [
    "plot_df = pd.concat([Y_df, Y_hat_df]).set_index('ds')\n",
    "\n",
    "plt.figure(figsize = (15, 5))\n",
    "plot_df[['y', 'NBEATS', 'NHITS', 'AutoMLP']].plot(linewidth=1.0)\n",
    "plt.axvline(plot_df.index[-horizon], color='black', linestyle='--', label='Train-Test Split')\n",
    "plt.title('AirPassengers Forecast', fontsize=10)\n",
    "plt.ylabel('Monthly Passengers', fontsize=10)\n",
    "plt.xlabel('Timestamp [t]', fontsize=10)\n",
    "plt.legend(prop={'size': 10})\n",
    "plt.tight_layout()\n",
    "plt.grid()"
   ]
  },
  {
   "cell_type": "code",
   "execution_count": null,
   "id": "5c5bc6ad-8b70-4265-8d9d-d06aacdf163e",
   "metadata": {},
   "outputs": [],
   "source": []
  }
 ],
 "metadata": {
  "kernelspec": {
   "display_name": "Python 3 (ipykernel)",
   "language": "python",
   "name": "python3"
  },
  "language_info": {
   "codemirror_mode": {
    "name": "ipython",
    "version": 3
   },
   "file_extension": ".py",
   "mimetype": "text/x-python",
   "name": "python",
   "nbconvert_exporter": "python",
   "pygments_lexer": "ipython3",
   "version": "3.8.19"
  }
 },
 "nbformat": 4,
 "nbformat_minor": 5
}
