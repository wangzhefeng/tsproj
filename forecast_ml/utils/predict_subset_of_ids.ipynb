{
 "cells": [
  {
   "cell_type": "code",
   "execution_count": 1,
   "id": "7a4f7e83-d84b-45f7-b5bc-73e5695e3852",
   "metadata": {},
   "outputs": [],
   "source": [
    "# tools\n",
    "from fastcore.test import test_fail\n",
    "\n",
    "# data\n",
    "from mlforecast.utils import generate_daily_series\n",
    "\n",
    "# models\n",
    "from lightgbm import LGBMRegressor\n",
    "\n",
    "# forecast\n",
    "from mlforecast import MLForecast"
   ]
  },
  {
   "cell_type": "markdown",
   "id": "2de2fe29-0f8b-4b7c-9945-dc9d010e7b44",
   "metadata": {},
   "source": [
    "# data"
   ]
  },
  {
   "cell_type": "code",
   "execution_count": 2,
   "id": "1144bc93-4700-4ae5-9c84-bb8f3bf5a318",
   "metadata": {},
   "outputs": [
    {
     "name": "stdout",
     "output_type": "stream",
     "text": [
      "  unique_id         ds         y\n",
      "0      id_0 2000-01-01  0.428973\n",
      "1      id_0 2000-01-02  1.423626\n",
      "2      id_0 2000-01-03  2.311782\n",
      "3      id_0 2000-01-04  3.192191\n",
      "4      id_0 2000-01-05  4.148767\n",
      "\n",
      "(1101, 3)\n",
      "\n",
      "unique_id\n",
      "id_4    373\n",
      "id_3    242\n",
      "id_0    222\n",
      "id_2    167\n",
      "id_1     97\n",
      "Name: count, dtype: int64\n"
     ]
    }
   ],
   "source": [
    "series = generate_daily_series(5)\n",
    "print(series.head())\n",
    "print()\n",
    "print(series.shape)\n",
    "print()\n",
    "print(series[\"unique_id\"].value_counts())"
   ]
  },
  {
   "cell_type": "markdown",
   "id": "ddf10937-e40b-46b9-acc2-aed9a58e654d",
   "metadata": {},
   "source": [
    "# model"
   ]
  },
  {
   "cell_type": "code",
   "execution_count": 3,
   "id": "dbf01a55-a98d-4bea-a008-3f6b58868c98",
   "metadata": {},
   "outputs": [
    {
     "data": {
      "text/plain": [
       "MLForecast(models=[lgb], freq=D, lag_features=[], date_features=['dayofweek'], num_threads=1)"
      ]
     },
     "execution_count": 3,
     "metadata": {},
     "output_type": "execute_result"
    }
   ],
   "source": [
    "fcst = MLForecast(\n",
    "    models = {\"lgb\": LGBMRegressor(verbosity = -1)},\n",
    "    freq = \"D\",\n",
    "    date_features = [\"dayofweek\"],\n",
    ")\n",
    "fcst.fit(series)"
   ]
  },
  {
   "cell_type": "markdown",
   "id": "deaba39a-7de1-4ea3-81f6-001b3538cefe",
   "metadata": {},
   "source": [
    "# forecasting"
   ]
  },
  {
   "cell_type": "code",
   "execution_count": 4,
   "id": "2f5b176c-c835-406e-881d-c69aa0aac5fd",
   "metadata": {},
   "outputs": [
    {
     "data": {
      "text/html": [
       "<div>\n",
       "<style scoped>\n",
       "    .dataframe tbody tr th:only-of-type {\n",
       "        vertical-align: middle;\n",
       "    }\n",
       "\n",
       "    .dataframe tbody tr th {\n",
       "        vertical-align: top;\n",
       "    }\n",
       "\n",
       "    .dataframe thead th {\n",
       "        text-align: right;\n",
       "    }\n",
       "</style>\n",
       "<table border=\"1\" class=\"dataframe\">\n",
       "  <thead>\n",
       "    <tr style=\"text-align: right;\">\n",
       "      <th></th>\n",
       "      <th>unique_id</th>\n",
       "      <th>ds</th>\n",
       "      <th>lgb</th>\n",
       "    </tr>\n",
       "  </thead>\n",
       "  <tbody>\n",
       "    <tr>\n",
       "      <th>0</th>\n",
       "      <td>id_0</td>\n",
       "      <td>2000-08-10</td>\n",
       "      <td>3.728396</td>\n",
       "    </tr>\n",
       "    <tr>\n",
       "      <th>1</th>\n",
       "      <td>id_1</td>\n",
       "      <td>2000-04-07</td>\n",
       "      <td>4.749133</td>\n",
       "    </tr>\n",
       "    <tr>\n",
       "      <th>2</th>\n",
       "      <td>id_2</td>\n",
       "      <td>2000-06-16</td>\n",
       "      <td>4.749133</td>\n",
       "    </tr>\n",
       "    <tr>\n",
       "      <th>3</th>\n",
       "      <td>id_3</td>\n",
       "      <td>2000-08-30</td>\n",
       "      <td>2.758949</td>\n",
       "    </tr>\n",
       "    <tr>\n",
       "      <th>4</th>\n",
       "      <td>id_4</td>\n",
       "      <td>2001-01-08</td>\n",
       "      <td>3.331394</td>\n",
       "    </tr>\n",
       "  </tbody>\n",
       "</table>\n",
       "</div>"
      ],
      "text/plain": [
       "  unique_id         ds       lgb\n",
       "0      id_0 2000-08-10  3.728396\n",
       "1      id_1 2000-04-07  4.749133\n",
       "2      id_2 2000-06-16  4.749133\n",
       "3      id_3 2000-08-30  2.758949\n",
       "4      id_4 2001-01-08  3.331394"
      ]
     },
     "execution_count": 4,
     "metadata": {},
     "output_type": "execute_result"
    }
   ],
   "source": [
    "all_preds = fcst.predict(h = 1)\n",
    "all_preds"
   ]
  },
  {
   "cell_type": "code",
   "execution_count": 5,
   "id": "ccdfaaf4-43ff-4a1b-a7f9-e3f9c3bd1736",
   "metadata": {},
   "outputs": [
    {
     "data": {
      "text/html": [
       "<div>\n",
       "<style scoped>\n",
       "    .dataframe tbody tr th:only-of-type {\n",
       "        vertical-align: middle;\n",
       "    }\n",
       "\n",
       "    .dataframe tbody tr th {\n",
       "        vertical-align: top;\n",
       "    }\n",
       "\n",
       "    .dataframe thead th {\n",
       "        text-align: right;\n",
       "    }\n",
       "</style>\n",
       "<table border=\"1\" class=\"dataframe\">\n",
       "  <thead>\n",
       "    <tr style=\"text-align: right;\">\n",
       "      <th></th>\n",
       "      <th>unique_id</th>\n",
       "      <th>ds</th>\n",
       "      <th>lgb</th>\n",
       "    </tr>\n",
       "  </thead>\n",
       "  <tbody>\n",
       "    <tr>\n",
       "      <th>0</th>\n",
       "      <td>id_0</td>\n",
       "      <td>2000-08-10</td>\n",
       "      <td>3.728396</td>\n",
       "    </tr>\n",
       "    <tr>\n",
       "      <th>1</th>\n",
       "      <td>id_4</td>\n",
       "      <td>2001-01-08</td>\n",
       "      <td>3.331394</td>\n",
       "    </tr>\n",
       "  </tbody>\n",
       "</table>\n",
       "</div>"
      ],
      "text/plain": [
       "  unique_id         ds       lgb\n",
       "0      id_0 2000-08-10  3.728396\n",
       "1      id_4 2001-01-08  3.331394"
      ]
     },
     "execution_count": 5,
     "metadata": {},
     "output_type": "execute_result"
    }
   ],
   "source": [
    "fcst.predict(h = 1, ids = [\"id_0\", \"id_4\"])"
   ]
  },
  {
   "cell_type": "code",
   "execution_count": 8,
   "id": "54f26a0a-4630-45b1-b282-afab110fbed1",
   "metadata": {},
   "outputs": [],
   "source": [
    "test_fail(\n",
    "    lambda: fcst.predict(h = 1, ids = [\"fake_id\"]), \n",
    "    contains = \"fake_id\"\n",
    ")"
   ]
  }
 ],
 "metadata": {
  "kernelspec": {
   "display_name": "Python 3 (ipykernel)",
   "language": "python",
   "name": "python3"
  },
  "language_info": {
   "codemirror_mode": {
    "name": "ipython",
    "version": 3
   },
   "file_extension": ".py",
   "mimetype": "text/x-python",
   "name": "python",
   "nbconvert_exporter": "python",
   "pygments_lexer": "ipython3",
   "version": "3.11.9"
  }
 },
 "nbformat": 4,
 "nbformat_minor": 5
}
