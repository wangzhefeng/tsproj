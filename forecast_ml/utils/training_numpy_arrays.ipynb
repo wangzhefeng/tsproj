{
 "cells": [
  {
   "cell_type": "code",
   "execution_count": 1,
   "id": "117b8b35-f15f-4f58-b100-66e5edcac5ce",
   "metadata": {},
   "outputs": [],
   "source": [
    "# tools\n",
    "import numpy as np\n",
    "\n",
    "# data\n",
    "from mlforecast.utils import generate_daily_series\n",
    "\n",
    "# models\n",
    "from sklearn.linear_model import LinearRegression\n",
    "from lightgbm import LGBMRegressor\n",
    "\n",
    "# forecast\n",
    "from mlforecast import MLForecast"
   ]
  },
  {
   "cell_type": "markdown",
   "id": "f62d3840-4b92-407e-8862-bc57ca5b498d",
   "metadata": {},
   "source": [
    "# data"
   ]
  },
  {
   "cell_type": "code",
   "execution_count": 9,
   "id": "a8ccee9d-e021-4004-ac26-36a1ed79ebd6",
   "metadata": {},
   "outputs": [
    {
     "name": "stdout",
     "output_type": "stream",
     "text": [
      "  unique_id         ds         y\n",
      "0      id_0 2000-01-01  0.428973\n",
      "1      id_0 2000-01-02  1.423626\n",
      "2      id_0 2000-01-03  2.311782\n",
      "3      id_0 2000-01-04  3.192191\n",
      "4      id_0 2000-01-05  4.148767\n",
      "\n",
      "    unique_id         ds         y\n",
      "217      id_0 2000-08-05  0.259856\n",
      "218      id_0 2000-08-06  1.000028\n",
      "219      id_0 2000-08-07  2.155930\n",
      "220      id_0 2000-08-08  3.212726\n",
      "221      id_0 2000-08-09  4.442669\n",
      "\n",
      "(1101, 3)\n",
      "\n",
      "unique_id\n",
      "id_4    373\n",
      "id_3    242\n",
      "id_0    222\n",
      "id_2    167\n",
      "id_1     97\n",
      "Name: count, dtype: int64\n"
     ]
    }
   ],
   "source": [
    "series = generate_daily_series(n_series = 5)\n",
    "print(series.loc[series[\"unique_id\"] == \"id_0\", ].head())\n",
    "print()\n",
    "print(series.loc[series[\"unique_id\"] == \"id_0\", ].tail())\n",
    "print()\n",
    "print(series.shape)\n",
    "print()\n",
    "print(series[\"unique_id\"].value_counts())"
   ]
  },
  {
   "cell_type": "markdown",
   "id": "50674c22-edb6-4554-8502-23d46a96f1da",
   "metadata": {},
   "source": [
    "# forecast"
   ]
  },
  {
   "cell_type": "code",
   "execution_count": 3,
   "id": "0de734ff-0e6e-44ae-a24c-c46023373287",
   "metadata": {},
   "outputs": [],
   "source": [
    "fcst = MLForecast(\n",
    "    models = {\n",
    "        \"lr\": LinearRegression(),\n",
    "        \"lgbm\": LGBMRegressor(verbosity = -1),\n",
    "    },\n",
    "    freq = \"D\",\n",
    "    lags = [7, 14],\n",
    "    date_features = [\"dayofweek\"],\n",
    ")"
   ]
  },
  {
   "cell_type": "markdown",
   "id": "9d0cd428-0371-438f-b7d3-ba584ab74149",
   "metadata": {},
   "source": [
    "# training"
   ]
  },
  {
   "cell_type": "code",
   "execution_count": 4,
   "id": "6bc941ae-8925-4a10-aee0-33cf01152ac4",
   "metadata": {},
   "outputs": [
    {
     "data": {
      "text/plain": [
       "MLForecast(models=[lr, lgbm], freq=D, lag_features=['lag7', 'lag14'], date_features=['dayofweek'], num_threads=1)"
      ]
     },
     "execution_count": 4,
     "metadata": {},
     "output_type": "execute_result"
    }
   ],
   "source": [
    "fcst.fit(series, as_numpy=True)"
   ]
  },
  {
   "cell_type": "markdown",
   "id": "52268119-5a0b-4f7a-92e9-829253fd6abd",
   "metadata": {},
   "source": [
    "# predicting"
   ]
  },
  {
   "cell_type": "code",
   "execution_count": 5,
   "id": "c519e89a-be87-4b18-afc8-1cea22a51e73",
   "metadata": {},
   "outputs": [
    {
     "data": {
      "text/html": [
       "<div>\n",
       "<style scoped>\n",
       "    .dataframe tbody tr th:only-of-type {\n",
       "        vertical-align: middle;\n",
       "    }\n",
       "\n",
       "    .dataframe tbody tr th {\n",
       "        vertical-align: top;\n",
       "    }\n",
       "\n",
       "    .dataframe thead th {\n",
       "        text-align: right;\n",
       "    }\n",
       "</style>\n",
       "<table border=\"1\" class=\"dataframe\">\n",
       "  <thead>\n",
       "    <tr style=\"text-align: right;\">\n",
       "      <th></th>\n",
       "      <th>unique_id</th>\n",
       "      <th>ds</th>\n",
       "      <th>lr</th>\n",
       "      <th>lgbm</th>\n",
       "    </tr>\n",
       "  </thead>\n",
       "  <tbody>\n",
       "    <tr>\n",
       "      <th>0</th>\n",
       "      <td>id_0</td>\n",
       "      <td>2000-08-10</td>\n",
       "      <td>5.268787</td>\n",
       "      <td>5.286476</td>\n",
       "    </tr>\n",
       "    <tr>\n",
       "      <th>1</th>\n",
       "      <td>id_1</td>\n",
       "      <td>2000-04-07</td>\n",
       "      <td>4.437316</td>\n",
       "      <td>4.139620</td>\n",
       "    </tr>\n",
       "    <tr>\n",
       "      <th>2</th>\n",
       "      <td>id_2</td>\n",
       "      <td>2000-06-16</td>\n",
       "      <td>3.246518</td>\n",
       "      <td>3.219793</td>\n",
       "    </tr>\n",
       "    <tr>\n",
       "      <th>3</th>\n",
       "      <td>id_3</td>\n",
       "      <td>2000-08-30</td>\n",
       "      <td>0.144860</td>\n",
       "      <td>0.298443</td>\n",
       "    </tr>\n",
       "    <tr>\n",
       "      <th>4</th>\n",
       "      <td>id_4</td>\n",
       "      <td>2001-01-08</td>\n",
       "      <td>2.211318</td>\n",
       "      <td>2.172097</td>\n",
       "    </tr>\n",
       "  </tbody>\n",
       "</table>\n",
       "</div>"
      ],
      "text/plain": [
       "  unique_id         ds        lr      lgbm\n",
       "0      id_0 2000-08-10  5.268787  5.286476\n",
       "1      id_1 2000-04-07  4.437316  4.139620\n",
       "2      id_2 2000-06-16  3.246518  3.219793\n",
       "3      id_3 2000-08-30  0.144860  0.298443\n",
       "4      id_4 2001-01-08  2.211318  2.172097"
      ]
     },
     "execution_count": 5,
     "metadata": {},
     "output_type": "execute_result"
    }
   ],
   "source": [
    "fcst.predict(h = 1)"
   ]
  },
  {
   "cell_type": "markdown",
   "id": "542af2a7-3f20-4279-9a44-827a31929cfe",
   "metadata": {},
   "source": [
    "# cross validation"
   ]
  },
  {
   "cell_type": "code",
   "execution_count": 7,
   "id": "0d3d7ed6-03a7-4186-be52-f5d77b9cb182",
   "metadata": {},
   "outputs": [
    {
     "data": {
      "text/html": [
       "<div>\n",
       "<style scoped>\n",
       "    .dataframe tbody tr th:only-of-type {\n",
       "        vertical-align: middle;\n",
       "    }\n",
       "\n",
       "    .dataframe tbody tr th {\n",
       "        vertical-align: top;\n",
       "    }\n",
       "\n",
       "    .dataframe thead th {\n",
       "        text-align: right;\n",
       "    }\n",
       "</style>\n",
       "<table border=\"1\" class=\"dataframe\">\n",
       "  <thead>\n",
       "    <tr style=\"text-align: right;\">\n",
       "      <th></th>\n",
       "      <th>unique_id</th>\n",
       "      <th>ds</th>\n",
       "      <th>cutoff</th>\n",
       "      <th>y</th>\n",
       "      <th>lr</th>\n",
       "      <th>lgbm</th>\n",
       "    </tr>\n",
       "  </thead>\n",
       "  <tbody>\n",
       "    <tr>\n",
       "      <th>0</th>\n",
       "      <td>id_0</td>\n",
       "      <td>2000-08-06</td>\n",
       "      <td>2000-08-05</td>\n",
       "      <td>1.000028</td>\n",
       "      <td>1.161935</td>\n",
       "      <td>1.213010</td>\n",
       "    </tr>\n",
       "    <tr>\n",
       "      <th>1</th>\n",
       "      <td>id_0</td>\n",
       "      <td>2000-08-07</td>\n",
       "      <td>2000-08-05</td>\n",
       "      <td>2.155930</td>\n",
       "      <td>2.241249</td>\n",
       "      <td>2.308215</td>\n",
       "    </tr>\n",
       "    <tr>\n",
       "      <th>2</th>\n",
       "      <td>id_1</td>\n",
       "      <td>2000-04-03</td>\n",
       "      <td>2000-04-02</td>\n",
       "      <td>0.414801</td>\n",
       "      <td>0.164123</td>\n",
       "      <td>0.167860</td>\n",
       "    </tr>\n",
       "    <tr>\n",
       "      <th>3</th>\n",
       "      <td>id_1</td>\n",
       "      <td>2000-04-04</td>\n",
       "      <td>2000-04-02</td>\n",
       "      <td>1.189517</td>\n",
       "      <td>1.420101</td>\n",
       "      <td>1.331728</td>\n",
       "    </tr>\n",
       "    <tr>\n",
       "      <th>4</th>\n",
       "      <td>id_2</td>\n",
       "      <td>2000-06-12</td>\n",
       "      <td>2000-06-11</td>\n",
       "      <td>6.189163</td>\n",
       "      <td>6.174459</td>\n",
       "      <td>6.365293</td>\n",
       "    </tr>\n",
       "    <tr>\n",
       "      <th>5</th>\n",
       "      <td>id_2</td>\n",
       "      <td>2000-06-13</td>\n",
       "      <td>2000-06-11</td>\n",
       "      <td>0.050016</td>\n",
       "      <td>0.229130</td>\n",
       "      <td>0.219905</td>\n",
       "    </tr>\n",
       "    <tr>\n",
       "      <th>6</th>\n",
       "      <td>id_3</td>\n",
       "      <td>2000-08-26</td>\n",
       "      <td>2000-08-25</td>\n",
       "      <td>3.096359</td>\n",
       "      <td>3.331848</td>\n",
       "      <td>3.253805</td>\n",
       "    </tr>\n",
       "    <tr>\n",
       "      <th>7</th>\n",
       "      <td>id_3</td>\n",
       "      <td>2000-08-27</td>\n",
       "      <td>2000-08-25</td>\n",
       "      <td>4.459046</td>\n",
       "      <td>4.323154</td>\n",
       "      <td>4.274378</td>\n",
       "    </tr>\n",
       "    <tr>\n",
       "      <th>8</th>\n",
       "      <td>id_4</td>\n",
       "      <td>2001-01-04</td>\n",
       "      <td>2001-01-03</td>\n",
       "      <td>5.178157</td>\n",
       "      <td>5.245190</td>\n",
       "      <td>5.147514</td>\n",
       "    </tr>\n",
       "    <tr>\n",
       "      <th>9</th>\n",
       "      <td>id_4</td>\n",
       "      <td>2001-01-05</td>\n",
       "      <td>2001-01-03</td>\n",
       "      <td>6.133142</td>\n",
       "      <td>6.118392</td>\n",
       "      <td>6.324345</td>\n",
       "    </tr>\n",
       "    <tr>\n",
       "      <th>10</th>\n",
       "      <td>id_0</td>\n",
       "      <td>2000-08-08</td>\n",
       "      <td>2000-08-07</td>\n",
       "      <td>3.212726</td>\n",
       "      <td>3.368626</td>\n",
       "      <td>3.238476</td>\n",
       "    </tr>\n",
       "    <tr>\n",
       "      <th>11</th>\n",
       "      <td>id_0</td>\n",
       "      <td>2000-08-09</td>\n",
       "      <td>2000-08-07</td>\n",
       "      <td>4.442669</td>\n",
       "      <td>4.398549</td>\n",
       "      <td>4.286288</td>\n",
       "    </tr>\n",
       "    <tr>\n",
       "      <th>12</th>\n",
       "      <td>id_1</td>\n",
       "      <td>2000-04-05</td>\n",
       "      <td>2000-04-04</td>\n",
       "      <td>2.048275</td>\n",
       "      <td>2.309338</td>\n",
       "      <td>2.269989</td>\n",
       "    </tr>\n",
       "    <tr>\n",
       "      <th>13</th>\n",
       "      <td>id_1</td>\n",
       "      <td>2000-04-06</td>\n",
       "      <td>2000-04-04</td>\n",
       "      <td>3.128070</td>\n",
       "      <td>3.243367</td>\n",
       "      <td>3.236526</td>\n",
       "    </tr>\n",
       "    <tr>\n",
       "      <th>14</th>\n",
       "      <td>id_2</td>\n",
       "      <td>2000-06-14</td>\n",
       "      <td>2000-06-13</td>\n",
       "      <td>1.480128</td>\n",
       "      <td>1.317242</td>\n",
       "      <td>1.428342</td>\n",
       "    </tr>\n",
       "    <tr>\n",
       "      <th>15</th>\n",
       "      <td>id_2</td>\n",
       "      <td>2000-06-15</td>\n",
       "      <td>2000-06-13</td>\n",
       "      <td>2.036217</td>\n",
       "      <td>2.282876</td>\n",
       "      <td>2.238507</td>\n",
       "    </tr>\n",
       "    <tr>\n",
       "      <th>16</th>\n",
       "      <td>id_3</td>\n",
       "      <td>2000-08-28</td>\n",
       "      <td>2000-08-27</td>\n",
       "      <td>5.289840</td>\n",
       "      <td>5.124138</td>\n",
       "      <td>5.207330</td>\n",
       "    </tr>\n",
       "    <tr>\n",
       "      <th>17</th>\n",
       "      <td>id_3</td>\n",
       "      <td>2000-08-29</td>\n",
       "      <td>2000-08-27</td>\n",
       "      <td>6.227949</td>\n",
       "      <td>6.265674</td>\n",
       "      <td>6.197265</td>\n",
       "    </tr>\n",
       "    <tr>\n",
       "      <th>18</th>\n",
       "      <td>id_4</td>\n",
       "      <td>2001-01-06</td>\n",
       "      <td>2001-01-05</td>\n",
       "      <td>0.403709</td>\n",
       "      <td>0.325981</td>\n",
       "      <td>0.339687</td>\n",
       "    </tr>\n",
       "    <tr>\n",
       "      <th>19</th>\n",
       "      <td>id_4</td>\n",
       "      <td>2001-01-07</td>\n",
       "      <td>2001-01-05</td>\n",
       "      <td>1.081779</td>\n",
       "      <td>1.190075</td>\n",
       "      <td>1.331705</td>\n",
       "    </tr>\n",
       "  </tbody>\n",
       "</table>\n",
       "</div>"
      ],
      "text/plain": [
       "   unique_id         ds     cutoff         y        lr      lgbm\n",
       "0       id_0 2000-08-06 2000-08-05  1.000028  1.161935  1.213010\n",
       "1       id_0 2000-08-07 2000-08-05  2.155930  2.241249  2.308215\n",
       "2       id_1 2000-04-03 2000-04-02  0.414801  0.164123  0.167860\n",
       "3       id_1 2000-04-04 2000-04-02  1.189517  1.420101  1.331728\n",
       "4       id_2 2000-06-12 2000-06-11  6.189163  6.174459  6.365293\n",
       "5       id_2 2000-06-13 2000-06-11  0.050016  0.229130  0.219905\n",
       "6       id_3 2000-08-26 2000-08-25  3.096359  3.331848  3.253805\n",
       "7       id_3 2000-08-27 2000-08-25  4.459046  4.323154  4.274378\n",
       "8       id_4 2001-01-04 2001-01-03  5.178157  5.245190  5.147514\n",
       "9       id_4 2001-01-05 2001-01-03  6.133142  6.118392  6.324345\n",
       "10      id_0 2000-08-08 2000-08-07  3.212726  3.368626  3.238476\n",
       "11      id_0 2000-08-09 2000-08-07  4.442669  4.398549  4.286288\n",
       "12      id_1 2000-04-05 2000-04-04  2.048275  2.309338  2.269989\n",
       "13      id_1 2000-04-06 2000-04-04  3.128070  3.243367  3.236526\n",
       "14      id_2 2000-06-14 2000-06-13  1.480128  1.317242  1.428342\n",
       "15      id_2 2000-06-15 2000-06-13  2.036217  2.282876  2.238507\n",
       "16      id_3 2000-08-28 2000-08-27  5.289840  5.124138  5.207330\n",
       "17      id_3 2000-08-29 2000-08-27  6.227949  6.265674  6.197265\n",
       "18      id_4 2001-01-06 2001-01-05  0.403709  0.325981  0.339687\n",
       "19      id_4 2001-01-07 2001-01-05  1.081779  1.190075  1.331705"
      ]
     },
     "execution_count": 7,
     "metadata": {},
     "output_type": "execute_result"
    }
   ],
   "source": [
    "cv_res = fcst.cross_validation(series, n_windows = 2, h = 2, as_numpy = True)\n",
    "cv_res"
   ]
  },
  {
   "cell_type": "markdown",
   "id": "a2a1c3b4-b29a-4d0e-86b8-a780e5862450",
   "metadata": {},
   "source": [
    "# preprocess method"
   ]
  },
  {
   "cell_type": "code",
   "execution_count": 15,
   "id": "590a74ce-2e24-4316-b358-74c70c9fa1d2",
   "metadata": {},
   "outputs": [],
   "source": [
    "series_pl = generate_daily_series(5, n_static_features=1, engine='polars')\n",
    "series_pl.head(2)"
   ]
  },
  {
   "cell_type": "code",
   "execution_count": null,
   "id": "95eb5017-3324-44d2-abff-33a4161d8afc",
   "metadata": {},
   "outputs": [],
   "source": [
    "fcst = MLForecast(\n",
    "    models=[],\n",
    "    freq='1d',\n",
    "    lags=[7, 14],\n",
    "    date_features=['weekday'],\n",
    ")"
   ]
  },
  {
   "cell_type": "code",
   "execution_count": null,
   "id": "7d503b23-e032-4b12-b3b6-9fe236f79073",
   "metadata": {},
   "outputs": [],
   "source": [
    "X, y = fcst.preprocess(series_pl, return_X_y=True, as_numpy=True)\n",
    "X[:2]"
   ]
  },
  {
   "cell_type": "code",
   "execution_count": null,
   "id": "5e16f632-54a3-4d50-8d1e-88c1ca2d37d4",
   "metadata": {},
   "outputs": [],
   "source": [
    "fcst.ts.features_order_"
   ]
  },
  {
   "cell_type": "code",
   "execution_count": null,
   "id": "6e066199-81bb-4326-a5f3-5d17397ace31",
   "metadata": {},
   "outputs": [],
   "source": [
    "model = LGBMRegressor(verbosity=-1)\n",
    "model.fit(\n",
    "    X=X,\n",
    "    y=y,\n",
    "    feature_name=fcst.ts.features_order_,\n",
    "    categorical_feature=['static_0', 'weekday'],\n",
    ");"
   ]
  },
  {
   "cell_type": "code",
   "execution_count": null,
   "id": "99368ce0-54da-48f3-a43a-25d8c6bf817f",
   "metadata": {},
   "outputs": [],
   "source": [
    "fcst.models_ = {'lgbm': model}"
   ]
  },
  {
   "cell_type": "code",
   "execution_count": null,
   "id": "1be1d65d-e2ee-43d3-8575-d898101905dd",
   "metadata": {},
   "outputs": [],
   "source": [
    "fcst.predict(1)"
   ]
  }
 ],
 "metadata": {
  "kernelspec": {
   "display_name": "Python 3 (ipykernel)",
   "language": "python",
   "name": "python3"
  },
  "language_info": {
   "codemirror_mode": {
    "name": "ipython",
    "version": 3
   },
   "file_extension": ".py",
   "mimetype": "text/x-python",
   "name": "python",
   "nbconvert_exporter": "python",
   "pygments_lexer": "ipython3",
   "version": "3.11.9"
  }
 },
 "nbformat": 4,
 "nbformat_minor": 5
}
