{
 "cells": [
  {
   "cell_type": "code",
   "execution_count": 14,
   "id": "763f3bd2-d914-43c6-b9fb-46b5139752c6",
   "metadata": {},
   "outputs": [],
   "source": [
    "import numpy as np\n",
    "import pandas as pd\n",
    "\n",
    "from sktime.datasets import load_longley\n",
    "from sktime.utils.plotting import plot_series\n",
    "from sktime.forecasting.var import VAR\n",
    "\n",
    "from sktime.registry import all_estimators"
   ]
  },
  {
   "cell_type": "markdown",
   "id": "d3b19766-a451-4c86-aed0-fb9bba8687a7",
   "metadata": {},
   "source": [
    "# data"
   ]
  },
  {
   "cell_type": "code",
   "execution_count": 12,
   "id": "872f6ad8-ea23-4823-8ebb-4d4006b40ec7",
   "metadata": {},
   "outputs": [
    {
     "data": {
      "text/html": [
       "<div>\n",
       "<style scoped>\n",
       "    .dataframe tbody tr th:only-of-type {\n",
       "        vertical-align: middle;\n",
       "    }\n",
       "\n",
       "    .dataframe tbody tr th {\n",
       "        vertical-align: top;\n",
       "    }\n",
       "\n",
       "    .dataframe thead th {\n",
       "        text-align: right;\n",
       "    }\n",
       "</style>\n",
       "<table border=\"1\" class=\"dataframe\">\n",
       "  <thead>\n",
       "    <tr style=\"text-align: right;\">\n",
       "      <th></th>\n",
       "      <th>GNPDEFL</th>\n",
       "      <th>GNP</th>\n",
       "      <th>UNEMP</th>\n",
       "      <th>ARMED</th>\n",
       "      <th>POP</th>\n",
       "    </tr>\n",
       "    <tr>\n",
       "      <th>Period</th>\n",
       "      <th></th>\n",
       "      <th></th>\n",
       "      <th></th>\n",
       "      <th></th>\n",
       "      <th></th>\n",
       "    </tr>\n",
       "  </thead>\n",
       "  <tbody>\n",
       "    <tr>\n",
       "      <th>1947</th>\n",
       "      <td>83.0</td>\n",
       "      <td>234289.0</td>\n",
       "      <td>2356.0</td>\n",
       "      <td>1590.0</td>\n",
       "      <td>107608.0</td>\n",
       "    </tr>\n",
       "    <tr>\n",
       "      <th>1948</th>\n",
       "      <td>88.5</td>\n",
       "      <td>259426.0</td>\n",
       "      <td>2325.0</td>\n",
       "      <td>1456.0</td>\n",
       "      <td>108632.0</td>\n",
       "    </tr>\n",
       "    <tr>\n",
       "      <th>1949</th>\n",
       "      <td>88.2</td>\n",
       "      <td>258054.0</td>\n",
       "      <td>3682.0</td>\n",
       "      <td>1616.0</td>\n",
       "      <td>109773.0</td>\n",
       "    </tr>\n",
       "    <tr>\n",
       "      <th>1950</th>\n",
       "      <td>89.5</td>\n",
       "      <td>284599.0</td>\n",
       "      <td>3351.0</td>\n",
       "      <td>1650.0</td>\n",
       "      <td>110929.0</td>\n",
       "    </tr>\n",
       "    <tr>\n",
       "      <th>1951</th>\n",
       "      <td>96.2</td>\n",
       "      <td>328975.0</td>\n",
       "      <td>2099.0</td>\n",
       "      <td>3099.0</td>\n",
       "      <td>112075.0</td>\n",
       "    </tr>\n",
       "  </tbody>\n",
       "</table>\n",
       "</div>"
      ],
      "text/plain": [
       "        GNPDEFL       GNP   UNEMP   ARMED       POP\n",
       "Period                                             \n",
       "1947       83.0  234289.0  2356.0  1590.0  107608.0\n",
       "1948       88.5  259426.0  2325.0  1456.0  108632.0\n",
       "1949       88.2  258054.0  3682.0  1616.0  109773.0\n",
       "1950       89.5  284599.0  3351.0  1650.0  110929.0\n",
       "1951       96.2  328975.0  2099.0  3099.0  112075.0"
      ]
     },
     "execution_count": 12,
     "metadata": {},
     "output_type": "execute_result"
    }
   ],
   "source": [
    "x, y = load_longley()\n",
    "y.head()"
   ]
  },
  {
   "cell_type": "markdown",
   "id": "66db86d8-7f8d-4760-9ed7-812b5f2617b5",
   "metadata": {},
   "source": [
    "# forecasting"
   ]
  },
  {
   "cell_type": "code",
   "execution_count": 13,
   "id": "868fef0b-8d2d-4c61-b067-4a89812e1d2d",
   "metadata": {},
   "outputs": [
    {
     "data": {
      "text/html": [
       "<div>\n",
       "<style scoped>\n",
       "    .dataframe tbody tr th:only-of-type {\n",
       "        vertical-align: middle;\n",
       "    }\n",
       "\n",
       "    .dataframe tbody tr th {\n",
       "        vertical-align: top;\n",
       "    }\n",
       "\n",
       "    .dataframe thead th {\n",
       "        text-align: right;\n",
       "    }\n",
       "</style>\n",
       "<table border=\"1\" class=\"dataframe\">\n",
       "  <thead>\n",
       "    <tr style=\"text-align: right;\">\n",
       "      <th></th>\n",
       "      <th>GNPDEFL</th>\n",
       "      <th>GNP</th>\n",
       "      <th>UNEMP</th>\n",
       "      <th>ARMED</th>\n",
       "      <th>POP</th>\n",
       "    </tr>\n",
       "  </thead>\n",
       "  <tbody>\n",
       "    <tr>\n",
       "      <th>1963</th>\n",
       "      <td>119.850676</td>\n",
       "      <td>573753.413302</td>\n",
       "      <td>4890.128398</td>\n",
       "      <td>2535.356545</td>\n",
       "      <td>132493.093697</td>\n",
       "    </tr>\n",
       "    <tr>\n",
       "      <th>1964</th>\n",
       "      <td>121.468483</td>\n",
       "      <td>596746.410268</td>\n",
       "      <td>5633.310536</td>\n",
       "      <td>2150.219863</td>\n",
       "      <td>134981.099616</td>\n",
       "    </tr>\n",
       "    <tr>\n",
       "      <th>1965</th>\n",
       "      <td>124.127716</td>\n",
       "      <td>629948.315304</td>\n",
       "      <td>5881.901495</td>\n",
       "      <td>1855.953946</td>\n",
       "      <td>137613.083699</td>\n",
       "    </tr>\n",
       "  </tbody>\n",
       "</table>\n",
       "</div>"
      ],
      "text/plain": [
       "         GNPDEFL            GNP        UNEMP        ARMED            POP\n",
       "1963  119.850676  573753.413302  4890.128398  2535.356545  132493.093697\n",
       "1964  121.468483  596746.410268  5633.310536  2150.219863  134981.099616\n",
       "1965  124.127716  629948.315304  5881.901495  1855.953946  137613.083699"
      ]
     },
     "execution_count": 13,
     "metadata": {},
     "output_type": "execute_result"
    }
   ],
   "source": [
    "# fh\n",
    "fh = [1, 2, 3]\n",
    "\n",
    "# model\n",
    "forecaster = VAR()\n",
    "# model fit\n",
    "forecaster.fit(y, fh = fh)\n",
    "# model predict\n",
    "y_pred = forecaster.predict(fh = fh)\n",
    "y_pred"
   ]
  }
 ],
 "metadata": {
  "kernelspec": {
   "display_name": "Python 3 (ipykernel)",
   "language": "python",
   "name": "python3"
  },
  "language_info": {
   "codemirror_mode": {
    "name": "ipython",
    "version": 3
   },
   "file_extension": ".py",
   "mimetype": "text/x-python",
   "name": "python",
   "nbconvert_exporter": "python",
   "pygments_lexer": "ipython3",
   "version": "3.7.10"
  }
 },
 "nbformat": 4,
 "nbformat_minor": 5
}
