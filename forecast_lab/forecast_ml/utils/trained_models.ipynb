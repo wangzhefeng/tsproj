{
 "cells": [
  {
   "cell_type": "code",
   "execution_count": 16,
   "id": "d0254b8a-44d0-4233-a881-b6d7771fb78c",
   "metadata": {},
   "outputs": [],
   "source": [
    "# data\n",
    "from mlforecast.utils import generate_daily_series\n",
    "\n",
    "# model\n",
    "from sklearn.linear_model import LinearRegression\n",
    "\n",
    "# forecast\n",
    "from mlforecast import MLForecast\n",
    "\n",
    "# shap\n",
    "import shap\n",
    "\n",
    "# callbacks\n",
    "from mlforecast.callbacks import SaveFeatures"
   ]
  },
  {
   "cell_type": "markdown",
   "id": "bab9713a-326e-4995-8975-dd11d50755be",
   "metadata": {},
   "source": [
    "# data"
   ]
  },
  {
   "cell_type": "code",
   "execution_count": 2,
   "id": "bb180e41-150e-4fb9-9c8f-baadae39fbf4",
   "metadata": {},
   "outputs": [
    {
     "name": "stdout",
     "output_type": "stream",
     "text": [
      "  unique_id         ds         y\n",
      "0      id_0 2000-01-01  0.322947\n",
      "1      id_0 2000-01-02  1.218794\n",
      "2      id_0 2000-01-03  2.445887\n",
      "3      id_0 2000-01-04  3.481831\n",
      "4      id_0 2000-01-05  4.191721\n",
      "\n",
      "(2376, 3)\n",
      "\n",
      "unique_id\n",
      "id_7    409\n",
      "id_4    373\n",
      "id_5    301\n",
      "id_9    261\n",
      "id_6    245\n",
      "id_3    242\n",
      "id_0    222\n",
      "id_2    167\n",
      "id_1     97\n",
      "id_8     59\n",
      "Name: count, dtype: int64\n"
     ]
    }
   ],
   "source": [
    "series = generate_daily_series(10)\n",
    "print(series.head())\n",
    "print()\n",
    "print(series.shape)\n",
    "print()\n",
    "print(series[\"unique_id\"].value_counts())"
   ]
  },
  {
   "cell_type": "markdown",
   "id": "53b6bff6-6546-4677-b121-fba6ba5bad86",
   "metadata": {},
   "source": [
    "# training"
   ]
  },
  {
   "cell_type": "code",
   "execution_count": 5,
   "id": "86efed05-9f9c-4eed-8725-cf9d54c2037e",
   "metadata": {},
   "outputs": [
    {
     "data": {
      "text/plain": [
       "MLForecast(models=[lr], freq=D, lag_features=['lag1'], date_features=['dayofweek'], num_threads=1)"
      ]
     },
     "execution_count": 5,
     "metadata": {},
     "output_type": "execute_result"
    }
   ],
   "source": [
    "fcst = MLForecast(\n",
    "    models = {\"lr\": LinearRegression()},\n",
    "    freq = \"D\",\n",
    "    lags = [1],\n",
    "    date_features = [\"dayofweek\"],\n",
    ")\n",
    "fcst.fit(series)"
   ]
  },
  {
   "cell_type": "markdown",
   "id": "0027d46a-6c13-427d-97e3-168cf630871d",
   "metadata": {},
   "source": [
    "# model attribute"
   ]
  },
  {
   "cell_type": "code",
   "execution_count": 6,
   "id": "ddf882d7-2973-49f1-a907-09eff0da290b",
   "metadata": {},
   "outputs": [
    {
     "data": {
      "text/plain": [
       "{'lr': LinearRegression()}"
      ]
     },
     "execution_count": 6,
     "metadata": {},
     "output_type": "execute_result"
    }
   ],
   "source": [
    "fcst.models_"
   ]
  },
  {
   "cell_type": "code",
   "execution_count": 7,
   "id": "d14eb1c1-e66b-4db7-a3af-f14915580607",
   "metadata": {},
   "outputs": [
    {
     "data": {
      "text/plain": [
       "3.247633716738441"
      ]
     },
     "execution_count": 7,
     "metadata": {},
     "output_type": "execute_result"
    }
   ],
   "source": [
    "fcst.models_[\"lr\"].intercept_"
   ]
  },
  {
   "cell_type": "code",
   "execution_count": 9,
   "id": "4f3644d5-4f75-43a0-878c-e10de4fa1e92",
   "metadata": {},
   "outputs": [
    {
     "data": {
      "text/plain": [
       "array([ 0.19896416, -0.21441331])"
      ]
     },
     "execution_count": 9,
     "metadata": {},
     "output_type": "execute_result"
    }
   ],
   "source": [
    "fcst.models_[\"lr\"].coef_"
   ]
  },
  {
   "cell_type": "markdown",
   "id": "89a78e8b-7bba-43b0-bc51-98e6cb8ce817",
   "metadata": {},
   "source": [
    "# shap"
   ]
  },
  {
   "cell_type": "markdown",
   "id": "b4864d9f-0482-4414-bbf5-38d403b2334d",
   "metadata": {},
   "source": [
    "## training set"
   ]
  },
  {
   "cell_type": "code",
   "execution_count": 12,
   "id": "712e7292-734e-48df-a714-4116dd0ea0c7",
   "metadata": {},
   "outputs": [
    {
     "data": {
      "text/html": [
       "<div>\n",
       "<style scoped>\n",
       "    .dataframe tbody tr th:only-of-type {\n",
       "        vertical-align: middle;\n",
       "    }\n",
       "\n",
       "    .dataframe tbody tr th {\n",
       "        vertical-align: top;\n",
       "    }\n",
       "\n",
       "    .dataframe thead th {\n",
       "        text-align: right;\n",
       "    }\n",
       "</style>\n",
       "<table border=\"1\" class=\"dataframe\">\n",
       "  <thead>\n",
       "    <tr style=\"text-align: right;\">\n",
       "      <th></th>\n",
       "      <th>unique_id</th>\n",
       "      <th>ds</th>\n",
       "      <th>y</th>\n",
       "      <th>lag1</th>\n",
       "      <th>dayofweek</th>\n",
       "    </tr>\n",
       "  </thead>\n",
       "  <tbody>\n",
       "    <tr>\n",
       "      <th>1</th>\n",
       "      <td>id_0</td>\n",
       "      <td>2000-01-02</td>\n",
       "      <td>1.218794</td>\n",
       "      <td>0.322947</td>\n",
       "      <td>6</td>\n",
       "    </tr>\n",
       "    <tr>\n",
       "      <th>2</th>\n",
       "      <td>id_0</td>\n",
       "      <td>2000-01-03</td>\n",
       "      <td>2.445887</td>\n",
       "      <td>1.218794</td>\n",
       "      <td>0</td>\n",
       "    </tr>\n",
       "    <tr>\n",
       "      <th>3</th>\n",
       "      <td>id_0</td>\n",
       "      <td>2000-01-04</td>\n",
       "      <td>3.481831</td>\n",
       "      <td>2.445887</td>\n",
       "      <td>1</td>\n",
       "    </tr>\n",
       "    <tr>\n",
       "      <th>4</th>\n",
       "      <td>id_0</td>\n",
       "      <td>2000-01-05</td>\n",
       "      <td>4.191721</td>\n",
       "      <td>3.481831</td>\n",
       "      <td>2</td>\n",
       "    </tr>\n",
       "    <tr>\n",
       "      <th>5</th>\n",
       "      <td>id_0</td>\n",
       "      <td>2000-01-06</td>\n",
       "      <td>5.395863</td>\n",
       "      <td>4.191721</td>\n",
       "      <td>3</td>\n",
       "    </tr>\n",
       "  </tbody>\n",
       "</table>\n",
       "</div>"
      ],
      "text/plain": [
       "  unique_id         ds         y      lag1  dayofweek\n",
       "1      id_0 2000-01-02  1.218794  0.322947          6\n",
       "2      id_0 2000-01-03  2.445887  1.218794          0\n",
       "3      id_0 2000-01-04  3.481831  2.445887          1\n",
       "4      id_0 2000-01-05  4.191721  3.481831          2\n",
       "5      id_0 2000-01-06  5.395863  4.191721          3"
      ]
     },
     "execution_count": 12,
     "metadata": {},
     "output_type": "execute_result"
    }
   ],
   "source": [
    "prep = fcst.preprocess(series)\n",
    "prep.head()"
   ]
  },
  {
   "cell_type": "code",
   "execution_count": 13,
   "id": "1f6379e7-f7ff-43f2-bb4d-923fbb7581e4",
   "metadata": {},
   "outputs": [
    {
     "data": {
      "text/html": [
       "<div>\n",
       "<style scoped>\n",
       "    .dataframe tbody tr th:only-of-type {\n",
       "        vertical-align: middle;\n",
       "    }\n",
       "\n",
       "    .dataframe tbody tr th {\n",
       "        vertical-align: top;\n",
       "    }\n",
       "\n",
       "    .dataframe thead th {\n",
       "        text-align: right;\n",
       "    }\n",
       "</style>\n",
       "<table border=\"1\" class=\"dataframe\">\n",
       "  <thead>\n",
       "    <tr style=\"text-align: right;\">\n",
       "      <th></th>\n",
       "      <th>lag1</th>\n",
       "      <th>dayofweek</th>\n",
       "    </tr>\n",
       "  </thead>\n",
       "  <tbody>\n",
       "    <tr>\n",
       "      <th>1</th>\n",
       "      <td>0.322947</td>\n",
       "      <td>6</td>\n",
       "    </tr>\n",
       "    <tr>\n",
       "      <th>2</th>\n",
       "      <td>1.218794</td>\n",
       "      <td>0</td>\n",
       "    </tr>\n",
       "    <tr>\n",
       "      <th>3</th>\n",
       "      <td>2.445887</td>\n",
       "      <td>1</td>\n",
       "    </tr>\n",
       "    <tr>\n",
       "      <th>4</th>\n",
       "      <td>3.481831</td>\n",
       "      <td>2</td>\n",
       "    </tr>\n",
       "    <tr>\n",
       "      <th>5</th>\n",
       "      <td>4.191721</td>\n",
       "      <td>3</td>\n",
       "    </tr>\n",
       "  </tbody>\n",
       "</table>\n",
       "</div>"
      ],
      "text/plain": [
       "       lag1  dayofweek\n",
       "1  0.322947          6\n",
       "2  1.218794          0\n",
       "3  2.445887          1\n",
       "4  3.481831          2\n",
       "5  4.191721          3"
      ]
     },
     "execution_count": 13,
     "metadata": {},
     "output_type": "execute_result"
    }
   ],
   "source": [
    "X = prep.drop(columns = [\"unique_id\", \"ds\", \"y\"])\n",
    "X.head()"
   ]
  },
  {
   "cell_type": "code",
   "execution_count": 15,
   "id": "2bd6eb94-6ded-4b85-be5e-67725b83d2ae",
   "metadata": {},
   "outputs": [
    {
     "data": {
      "image/png": "[encoded data removed]",
      "text/plain": [
       "<Figure size 800x230 with 2 Axes>"
      ]
     },
     "metadata": {},
     "output_type": "display_data"
    }
   ],
   "source": [
    "X100 = shap.utils.sample(X, 100)\n",
    "explainer = shap.Explainer(fcst.models_['lr'].predict, X100)\n",
    "shap_values = explainer(X)\n",
    "shap.plots.beeswarm(shap_values)"
   ]
  },
  {
   "cell_type": "markdown",
   "id": "b72c46e1-89a0-415b-986d-c9572d259848",
   "metadata": {},
   "source": [
    "## predictions"
   ]
  },
  {
   "cell_type": "code",
   "execution_count": 20,
   "id": "a6340c8d-3b03-4359-9a55-d1fd04363d4c",
   "metadata": {},
   "outputs": [
    {
     "data": {
      "text/html": [
       "<div>\n",
       "<style scoped>\n",
       "    .dataframe tbody tr th:only-of-type {\n",
       "        vertical-align: middle;\n",
       "    }\n",
       "\n",
       "    .dataframe tbody tr th {\n",
       "        vertical-align: top;\n",
       "    }\n",
       "\n",
       "    .dataframe thead th {\n",
       "        text-align: right;\n",
       "    }\n",
       "</style>\n",
       "<table border=\"1\" class=\"dataframe\">\n",
       "  <thead>\n",
       "    <tr style=\"text-align: right;\">\n",
       "      <th></th>\n",
       "      <th>unique_id</th>\n",
       "      <th>ds</th>\n",
       "      <th>lr</th>\n",
       "    </tr>\n",
       "  </thead>\n",
       "  <tbody>\n",
       "    <tr>\n",
       "      <th>0</th>\n",
       "      <td>id_0</td>\n",
       "      <td>2000-08-10</td>\n",
       "      <td>3.468643</td>\n",
       "    </tr>\n",
       "    <tr>\n",
       "      <th>1</th>\n",
       "      <td>id_1</td>\n",
       "      <td>2000-04-07</td>\n",
       "      <td>3.016877</td>\n",
       "    </tr>\n",
       "    <tr>\n",
       "      <th>2</th>\n",
       "      <td>id_2</td>\n",
       "      <td>2000-06-16</td>\n",
       "      <td>2.815249</td>\n",
       "    </tr>\n",
       "    <tr>\n",
       "      <th>3</th>\n",
       "      <td>id_3</td>\n",
       "      <td>2000-08-30</td>\n",
       "      <td>4.048894</td>\n",
       "    </tr>\n",
       "    <tr>\n",
       "      <th>4</th>\n",
       "      <td>id_4</td>\n",
       "      <td>2001-01-08</td>\n",
       "      <td>3.524532</td>\n",
       "    </tr>\n",
       "  </tbody>\n",
       "</table>\n",
       "</div>"
      ],
      "text/plain": [
       "  unique_id         ds        lr\n",
       "0      id_0 2000-08-10  3.468643\n",
       "1      id_1 2000-04-07  3.016877\n",
       "2      id_2 2000-06-16  2.815249\n",
       "3      id_3 2000-08-30  4.048894\n",
       "4      id_4 2001-01-08  3.524532"
      ]
     },
     "execution_count": 20,
     "metadata": {},
     "output_type": "execute_result"
    }
   ],
   "source": [
    "save_feats = SaveFeatures()\n",
    "preds = fcst.predict(h = 1, before_predict_callback = save_feats)\n",
    "preds.head()"
   ]
  },
  {
   "cell_type": "code",
   "execution_count": 21,
   "id": "1fbfb7bb-44fd-4244-9a40-4d51a8c60bc7",
   "metadata": {},
   "outputs": [
    {
     "data": {
      "text/html": [
       "<div>\n",
       "<style scoped>\n",
       "    .dataframe tbody tr th:only-of-type {\n",
       "        vertical-align: middle;\n",
       "    }\n",
       "\n",
       "    .dataframe tbody tr th {\n",
       "        vertical-align: top;\n",
       "    }\n",
       "\n",
       "    .dataframe thead th {\n",
       "        text-align: right;\n",
       "    }\n",
       "</style>\n",
       "<table border=\"1\" class=\"dataframe\">\n",
       "  <thead>\n",
       "    <tr style=\"text-align: right;\">\n",
       "      <th></th>\n",
       "      <th>lag1</th>\n",
       "      <th>dayofweek</th>\n",
       "    </tr>\n",
       "  </thead>\n",
       "  <tbody>\n",
       "    <tr>\n",
       "      <th>0</th>\n",
       "      <td>4.343744</td>\n",
       "      <td>3</td>\n",
       "    </tr>\n",
       "    <tr>\n",
       "      <th>1</th>\n",
       "      <td>3.150799</td>\n",
       "      <td>4</td>\n",
       "    </tr>\n",
       "    <tr>\n",
       "      <th>2</th>\n",
       "      <td>2.137412</td>\n",
       "      <td>4</td>\n",
       "    </tr>\n",
       "    <tr>\n",
       "      <th>3</th>\n",
       "      <td>6.182456</td>\n",
       "      <td>2</td>\n",
       "    </tr>\n",
       "    <tr>\n",
       "      <th>4</th>\n",
       "      <td>1.391698</td>\n",
       "      <td>0</td>\n",
       "    </tr>\n",
       "    <tr>\n",
       "      <th>5</th>\n",
       "      <td>1.059175</td>\n",
       "      <td>5</td>\n",
       "    </tr>\n",
       "    <tr>\n",
       "      <th>6</th>\n",
       "      <td>1.076548</td>\n",
       "      <td>5</td>\n",
       "    </tr>\n",
       "    <tr>\n",
       "      <th>7</th>\n",
       "      <td>4.196815</td>\n",
       "      <td>1</td>\n",
       "    </tr>\n",
       "    <tr>\n",
       "      <th>8</th>\n",
       "      <td>0.162962</td>\n",
       "      <td>1</td>\n",
       "    </tr>\n",
       "    <tr>\n",
       "      <th>9</th>\n",
       "      <td>2.061590</td>\n",
       "      <td>0</td>\n",
       "    </tr>\n",
       "  </tbody>\n",
       "</table>\n",
       "</div>"
      ],
      "text/plain": [
       "       lag1  dayofweek\n",
       "0  4.343744          3\n",
       "1  3.150799          4\n",
       "2  2.137412          4\n",
       "3  6.182456          2\n",
       "4  1.391698          0\n",
       "5  1.059175          5\n",
       "6  1.076548          5\n",
       "7  4.196815          1\n",
       "8  0.162962          1\n",
       "9  2.061590          0"
      ]
     },
     "execution_count": 21,
     "metadata": {},
     "output_type": "execute_result"
    }
   ],
   "source": [
    "features = save_feats.get_features()\n",
    "features"
   ]
  },
  {
   "cell_type": "code",
   "execution_count": 22,
   "id": "3a531aee-8a12-4cca-a2db-ea1f30ce1132",
   "metadata": {},
   "outputs": [],
   "source": [
    "shap_values_predictions = explainer(features)"
   ]
  },
  {
   "cell_type": "code",
   "execution_count": 24,
   "id": "809698a6-a0a3-4b56-b6b3-f89267874da8",
   "metadata": {},
   "outputs": [
    {
     "data": {
      "text/plain": [
       "3.525"
      ]
     },
     "execution_count": 24,
     "metadata": {},
     "output_type": "execute_result"
    }
   ],
   "source": [
    "round(preds.loc[4, 'lr'], 3)"
   ]
  },
  {
   "cell_type": "code",
   "execution_count": 26,
   "id": "486e0053-41c1-4a5c-a104-3782b3fdd8fc",
   "metadata": {},
   "outputs": [
    {
     "data": {
      "image/png": "[encoded data removed]",
      "text/plain": [
       "<Figure size 800x250 with 3 Axes>"
      ]
     },
     "metadata": {},
     "output_type": "display_data"
    }
   ],
   "source": [
    "shap.plots.waterfall(shap_values_predictions[4])"
   ]
  },
  {
   "cell_type": "code",
   "execution_count": null,
   "id": "fb205358-9458-4c45-af30-566e784ed6d2",
   "metadata": {},
   "outputs": [],
   "source": []
  }
 ],
 "metadata": {
  "kernelspec": {
   "display_name": "Python 3 (ipykernel)",
   "language": "python",
   "name": "python3"
  },
  "language_info": {
   "codemirror_mode": {
    "name": "ipython",
    "version": 3
   },
   "file_extension": ".py",
   "mimetype": "text/x-python",
   "name": "python",
   "nbconvert_exporter": "python",
   "pygments_lexer": "ipython3",
   "version": "3.8.19"
  }
 },
 "nbformat": 4,
 "nbformat_minor": 5
}
