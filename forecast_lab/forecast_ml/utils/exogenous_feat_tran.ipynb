{
 "cells": [
  {
   "cell_type": "code",
   "execution_count": 9,
   "id": "e4745e38-6210-4b6c-b93d-bad9777087d3",
   "metadata": {},
   "outputs": [],
   "source": [
    "# data\n",
    "from mlforecast.utils import generate_series, generate_prices_for_series\n",
    "\n",
    "# features\n",
    "from mlforecast.lag_transforms import ExpandingMean\n",
    "from mlforecast.feature_engineering import transform_exog\n",
    "\n",
    "# model\n",
    "from sklearn.linear_model import LinearRegression\n",
    "\n",
    "# forecast\n",
    "from mlforecast import MLForecast"
   ]
  },
  {
   "cell_type": "markdown",
   "id": "bf96b298-eb2e-481a-9009-62b2f0ff1f20",
   "metadata": {},
   "source": [
    "# data"
   ]
  },
  {
   "cell_type": "code",
   "execution_count": 33,
   "id": "c0ccffe3-a668-4a3d-9562-cbb11ae4d4bb",
   "metadata": {},
   "outputs": [
    {
     "name": "stdout",
     "output_type": "stream",
     "text": [
      "  unique_id         ds         y\n",
      "0         0 2000-10-05  0.322947\n",
      "1         0 2000-10-06  1.218794\n",
      "2         0 2000-10-07  2.445887\n",
      "3         0 2000-10-08  3.481831\n",
      "4         0 2000-10-09  4.191721\n",
      "\n",
      "(2376, 3)\n",
      "\n",
      "unique_id\n",
      "7    409\n",
      "4    373\n",
      "5    301\n",
      "9    261\n",
      "6    245\n",
      "3    242\n",
      "0    222\n",
      "2    167\n",
      "1     97\n",
      "8     59\n",
      "Name: count, dtype: int64\n",
      "--------------------------------------------------------------------------------\n",
      "          ds  unique_id     price\n",
      "0 2000-10-05          0  0.548814\n",
      "1 2000-10-06          0  0.715189\n",
      "2 2000-10-07          0  0.602763\n",
      "3 2000-10-08          0  0.544883\n",
      "4 2000-10-09          0  0.423655\n",
      "\n",
      "(2446, 3)\n",
      "\n",
      "unique_id\n",
      "7    416\n",
      "4    380\n",
      "5    308\n",
      "9    268\n",
      "6    252\n",
      "3    249\n",
      "0    229\n",
      "2    174\n",
      "1    104\n",
      "8     66\n",
      "Name: count, dtype: int64\n"
     ]
    }
   ],
   "source": [
    "series = generate_series(n_series=10, equal_ends = True)\n",
    "print(series.head())\n",
    "print()\n",
    "print(series.shape)\n",
    "print()\n",
    "print(series[\"unique_id\"].value_counts())\n",
    "print(\"-\" * 80)\n",
    "prices = generate_prices_for_series(series)\n",
    "print(prices.head())\n",
    "print()\n",
    "print(prices.shape)\n",
    "print()\n",
    "print(prices[\"unique_id\"].value_counts())"
   ]
  },
  {
   "cell_type": "markdown",
   "id": "d9d5737e-130b-436f-8aea-20c16c7b7914",
   "metadata": {},
   "source": [
    "# transformations"
   ]
  },
  {
   "cell_type": "code",
   "execution_count": 34,
   "id": "95c6db71-4d62-4264-8f7a-a1def351aa47",
   "metadata": {},
   "outputs": [
    {
     "name": "stdout",
     "output_type": "stream",
     "text": [
      "          ds  unique_id     price  price_lag7  price_expanding_mean_lag1\n",
      "0 2000-10-05          0  0.548814         NaN                        NaN\n",
      "1 2000-10-06          0  0.715189         NaN                   0.548814\n",
      "2 2000-10-07          0  0.602763         NaN                   0.632001\n",
      "3 2000-10-08          0  0.544883         NaN                   0.622255\n",
      "4 2000-10-09          0  0.423655         NaN                   0.602912\n",
      "\n",
      "(2446, 5)\n",
      "\n",
      "unique_id\n",
      "7    416\n",
      "4    380\n",
      "5    308\n",
      "9    268\n",
      "6    252\n",
      "3    249\n",
      "0    229\n",
      "2    174\n",
      "1    104\n",
      "8     66\n",
      "Name: count, dtype: int64\n"
     ]
    }
   ],
   "source": [
    "transformed_prices = transform_exog(\n",
    "    prices, \n",
    "    lags=[7], \n",
    "    lag_transforms={\n",
    "        1: [ExpandingMean()]\n",
    "    },\n",
    ")\n",
    "print(transformed_prices.head())\n",
    "print()\n",
    "print(transformed_prices.shape)\n",
    "print()\n",
    "print(transformed_prices[\"unique_id\"].value_counts())"
   ]
  },
  {
   "cell_type": "code",
   "execution_count": 35,
   "id": "61ee5cdc-3a23-4ac8-bf82-3b2513e06937",
   "metadata": {},
   "outputs": [
    {
     "name": "stdout",
     "output_type": "stream",
     "text": [
      "   unique_id         ds         y     price  price_lag7  \\\n",
      "0          0 2000-10-05  0.322947  0.548814         NaN   \n",
      "1          0 2000-10-06  1.218794  0.715189         NaN   \n",
      "2          0 2000-10-07  2.445887  0.602763         NaN   \n",
      "3          0 2000-10-08  3.481831  0.544883         NaN   \n",
      "4          0 2000-10-09  4.191721  0.423655         NaN   \n",
      "\n",
      "   price_expanding_mean_lag1  \n",
      "0                        NaN  \n",
      "1                   0.548814  \n",
      "2                   0.632001  \n",
      "3                   0.622255  \n",
      "4                   0.602912  \n",
      "\n",
      "(2376, 6)\n",
      "\n",
      "unique_id\n",
      "7    409\n",
      "4    373\n",
      "5    301\n",
      "9    261\n",
      "6    245\n",
      "3    242\n",
      "0    222\n",
      "2    167\n",
      "1     97\n",
      "8     59\n",
      "Name: count, dtype: int64\n"
     ]
    }
   ],
   "source": [
    "series_with_prices = series.merge(transformed_prices, on = [\"unique_id\", \"ds\"])\n",
    "print(series_with_prices.head())\n",
    "print()\n",
    "print(series_with_prices.shape)\n",
    "print()\n",
    "print(series_with_prices[\"unique_id\"].value_counts())"
   ]
  },
  {
   "cell_type": "markdown",
   "id": "84b0807a-4123-4bff-807c-cafe4dc8181c",
   "metadata": {},
   "source": [
    "# forecast"
   ]
  },
  {
   "cell_type": "code",
   "execution_count": 36,
   "id": "d20d0ad1-3f09-416d-af53-c019035e8d34",
   "metadata": {},
   "outputs": [],
   "source": [
    "fcst = MLForecast(\n",
    "    models = [LinearRegression()],\n",
    "    freq = \"D\",\n",
    "    lags = [1],\n",
    "    date_features = [\"dayofweek\"],\n",
    ")"
   ]
  },
  {
   "cell_type": "markdown",
   "id": "8cdd0cb6-dcc4-48b9-b27e-05e2c98878fb",
   "metadata": {},
   "source": [
    "# features"
   ]
  },
  {
   "cell_type": "code",
   "execution_count": 38,
   "id": "288e77b3-96a9-4894-92b8-16c04f6fa463",
   "metadata": {},
   "outputs": [
    {
     "data": {
      "text/html": [
       "<div>\n",
       "<style scoped>\n",
       "    .dataframe tbody tr th:only-of-type {\n",
       "        vertical-align: middle;\n",
       "    }\n",
       "\n",
       "    .dataframe tbody tr th {\n",
       "        vertical-align: top;\n",
       "    }\n",
       "\n",
       "    .dataframe thead th {\n",
       "        text-align: right;\n",
       "    }\n",
       "</style>\n",
       "<table border=\"1\" class=\"dataframe\">\n",
       "  <thead>\n",
       "    <tr style=\"text-align: right;\">\n",
       "      <th></th>\n",
       "      <th>unique_id</th>\n",
       "      <th>ds</th>\n",
       "      <th>y</th>\n",
       "      <th>price</th>\n",
       "      <th>price_lag7</th>\n",
       "      <th>price_expanding_mean_lag1</th>\n",
       "      <th>lag1</th>\n",
       "      <th>dayofweek</th>\n",
       "    </tr>\n",
       "  </thead>\n",
       "  <tbody>\n",
       "    <tr>\n",
       "      <th>1</th>\n",
       "      <td>0</td>\n",
       "      <td>2000-10-06</td>\n",
       "      <td>1.218794</td>\n",
       "      <td>0.715189</td>\n",
       "      <td>NaN</td>\n",
       "      <td>0.548814</td>\n",
       "      <td>0.322947</td>\n",
       "      <td>4</td>\n",
       "    </tr>\n",
       "    <tr>\n",
       "      <th>2</th>\n",
       "      <td>0</td>\n",
       "      <td>2000-10-07</td>\n",
       "      <td>2.445887</td>\n",
       "      <td>0.602763</td>\n",
       "      <td>NaN</td>\n",
       "      <td>0.632001</td>\n",
       "      <td>1.218794</td>\n",
       "      <td>5</td>\n",
       "    </tr>\n",
       "    <tr>\n",
       "      <th>3</th>\n",
       "      <td>0</td>\n",
       "      <td>2000-10-08</td>\n",
       "      <td>3.481831</td>\n",
       "      <td>0.544883</td>\n",
       "      <td>NaN</td>\n",
       "      <td>0.622255</td>\n",
       "      <td>2.445887</td>\n",
       "      <td>6</td>\n",
       "    </tr>\n",
       "    <tr>\n",
       "      <th>4</th>\n",
       "      <td>0</td>\n",
       "      <td>2000-10-09</td>\n",
       "      <td>4.191721</td>\n",
       "      <td>0.423655</td>\n",
       "      <td>NaN</td>\n",
       "      <td>0.602912</td>\n",
       "      <td>3.481831</td>\n",
       "      <td>0</td>\n",
       "    </tr>\n",
       "    <tr>\n",
       "      <th>5</th>\n",
       "      <td>0</td>\n",
       "      <td>2000-10-10</td>\n",
       "      <td>5.395863</td>\n",
       "      <td>0.645894</td>\n",
       "      <td>NaN</td>\n",
       "      <td>0.567061</td>\n",
       "      <td>4.191721</td>\n",
       "      <td>1</td>\n",
       "    </tr>\n",
       "  </tbody>\n",
       "</table>\n",
       "</div>"
      ],
      "text/plain": [
       "   unique_id         ds         y     price  price_lag7  \\\n",
       "1          0 2000-10-06  1.218794  0.715189         NaN   \n",
       "2          0 2000-10-07  2.445887  0.602763         NaN   \n",
       "3          0 2000-10-08  3.481831  0.544883         NaN   \n",
       "4          0 2000-10-09  4.191721  0.423655         NaN   \n",
       "5          0 2000-10-10  5.395863  0.645894         NaN   \n",
       "\n",
       "   price_expanding_mean_lag1      lag1  dayofweek  \n",
       "1                   0.548814  0.322947          4  \n",
       "2                   0.632001  1.218794          5  \n",
       "3                   0.622255  2.445887          6  \n",
       "4                   0.602912  3.481831          0  \n",
       "5                   0.567061  4.191721          1  "
      ]
     },
     "execution_count": 38,
     "metadata": {},
     "output_type": "execute_result"
    }
   ],
   "source": [
    "fcst.preprocess(series_with_prices, static_features=[], dropna = True).head()"
   ]
  },
  {
   "cell_type": "code",
   "execution_count": 41,
   "id": "525b7b35-43d8-4a7d-a2f2-4344d3da4d06",
   "metadata": {},
   "outputs": [
    {
     "data": {
      "text/html": [
       "<div>\n",
       "<style scoped>\n",
       "    .dataframe tbody tr th:only-of-type {\n",
       "        vertical-align: middle;\n",
       "    }\n",
       "\n",
       "    .dataframe tbody tr th {\n",
       "        vertical-align: top;\n",
       "    }\n",
       "\n",
       "    .dataframe thead th {\n",
       "        text-align: right;\n",
       "    }\n",
       "</style>\n",
       "<table border=\"1\" class=\"dataframe\">\n",
       "  <thead>\n",
       "    <tr style=\"text-align: right;\">\n",
       "      <th></th>\n",
       "      <th>unique_id</th>\n",
       "      <th>ds</th>\n",
       "      <th>y</th>\n",
       "      <th>price</th>\n",
       "      <th>price_lag7</th>\n",
       "      <th>price_expanding_mean_lag1</th>\n",
       "      <th>lag1</th>\n",
       "      <th>dayofweek</th>\n",
       "    </tr>\n",
       "  </thead>\n",
       "  <tbody>\n",
       "    <tr>\n",
       "      <th>8</th>\n",
       "      <td>0</td>\n",
       "      <td>2000-10-13</td>\n",
       "      <td>1.462798</td>\n",
       "      <td>0.963663</td>\n",
       "      <td>0.715189</td>\n",
       "      <td>0.601320</td>\n",
       "      <td>0.284022</td>\n",
       "      <td>4</td>\n",
       "    </tr>\n",
       "    <tr>\n",
       "      <th>9</th>\n",
       "      <td>0</td>\n",
       "      <td>2000-10-14</td>\n",
       "      <td>2.035518</td>\n",
       "      <td>0.383442</td>\n",
       "      <td>0.602763</td>\n",
       "      <td>0.641580</td>\n",
       "      <td>1.462798</td>\n",
       "      <td>5</td>\n",
       "    </tr>\n",
       "    <tr>\n",
       "      <th>10</th>\n",
       "      <td>0</td>\n",
       "      <td>2000-10-15</td>\n",
       "      <td>3.043565</td>\n",
       "      <td>0.791725</td>\n",
       "      <td>0.544883</td>\n",
       "      <td>0.615766</td>\n",
       "      <td>2.035518</td>\n",
       "      <td>6</td>\n",
       "    </tr>\n",
       "    <tr>\n",
       "      <th>11</th>\n",
       "      <td>0</td>\n",
       "      <td>2000-10-16</td>\n",
       "      <td>4.010109</td>\n",
       "      <td>0.528895</td>\n",
       "      <td>0.423655</td>\n",
       "      <td>0.631763</td>\n",
       "      <td>3.043565</td>\n",
       "      <td>0</td>\n",
       "    </tr>\n",
       "    <tr>\n",
       "      <th>12</th>\n",
       "      <td>0</td>\n",
       "      <td>2000-10-17</td>\n",
       "      <td>5.416310</td>\n",
       "      <td>0.568045</td>\n",
       "      <td>0.645894</td>\n",
       "      <td>0.623190</td>\n",
       "      <td>4.010109</td>\n",
       "      <td>1</td>\n",
       "    </tr>\n",
       "  </tbody>\n",
       "</table>\n",
       "</div>"
      ],
      "text/plain": [
       "    unique_id         ds         y     price  price_lag7  \\\n",
       "8           0 2000-10-13  1.462798  0.963663    0.715189   \n",
       "9           0 2000-10-14  2.035518  0.383442    0.602763   \n",
       "10          0 2000-10-15  3.043565  0.791725    0.544883   \n",
       "11          0 2000-10-16  4.010109  0.528895    0.423655   \n",
       "12          0 2000-10-17  5.416310  0.568045    0.645894   \n",
       "\n",
       "    price_expanding_mean_lag1      lag1  dayofweek  \n",
       "8                    0.601320  0.284022          4  \n",
       "9                    0.641580  1.462798          5  \n",
       "10                   0.615766  2.035518          6  \n",
       "11                   0.631763  3.043565          0  \n",
       "12                   0.623190  4.010109          1  "
      ]
     },
     "execution_count": 41,
     "metadata": {},
     "output_type": "execute_result"
    }
   ],
   "source": [
    "series_with_prices.dropna(inplace=True)\n",
    "fcst.preprocess(series_with_prices, dropna=True, static_features=[]).head()"
   ]
  },
  {
   "cell_type": "markdown",
   "id": "06659d2e-3f2f-4893-9b85-117e66186abe",
   "metadata": {},
   "source": [
    "# training"
   ]
  },
  {
   "cell_type": "code",
   "execution_count": 27,
   "id": "40c26c30-239b-40cc-8527-4fa6b0067e8c",
   "metadata": {},
   "outputs": [
    {
     "data": {
      "text/plain": [
       "MLForecast(models=[LinearRegression], freq=D, lag_features=['lag1'], date_features=['dayofweek'], num_threads=1)"
      ]
     },
     "execution_count": 27,
     "metadata": {},
     "output_type": "execute_result"
    }
   ],
   "source": [
    "fcst.fit(series_with_prices, static_features = [])"
   ]
  },
  {
   "cell_type": "markdown",
   "id": "2a9a025e-c551-47eb-919b-e6658f117513",
   "metadata": {},
   "source": [
    "# predicting"
   ]
  },
  {
   "cell_type": "code",
   "execution_count": 28,
   "id": "103f58e9-2c31-4037-be5b-dbe0bf36a413",
   "metadata": {},
   "outputs": [
    {
     "data": {
      "text/html": [
       "<div>\n",
       "<style scoped>\n",
       "    .dataframe tbody tr th:only-of-type {\n",
       "        vertical-align: middle;\n",
       "    }\n",
       "\n",
       "    .dataframe tbody tr th {\n",
       "        vertical-align: top;\n",
       "    }\n",
       "\n",
       "    .dataframe thead th {\n",
       "        text-align: right;\n",
       "    }\n",
       "</style>\n",
       "<table border=\"1\" class=\"dataframe\">\n",
       "  <thead>\n",
       "    <tr style=\"text-align: right;\">\n",
       "      <th></th>\n",
       "      <th>unique_id</th>\n",
       "      <th>ds</th>\n",
       "      <th>LinearRegression</th>\n",
       "    </tr>\n",
       "  </thead>\n",
       "  <tbody>\n",
       "    <tr>\n",
       "      <th>0</th>\n",
       "      <td>0</td>\n",
       "      <td>2001-05-15</td>\n",
       "      <td>3.803967</td>\n",
       "    </tr>\n",
       "    <tr>\n",
       "      <th>1</th>\n",
       "      <td>1</td>\n",
       "      <td>2001-05-15</td>\n",
       "      <td>3.512489</td>\n",
       "    </tr>\n",
       "    <tr>\n",
       "      <th>2</th>\n",
       "      <td>2</td>\n",
       "      <td>2001-05-15</td>\n",
       "      <td>3.170019</td>\n",
       "    </tr>\n",
       "    <tr>\n",
       "      <th>3</th>\n",
       "      <td>3</td>\n",
       "      <td>2001-05-15</td>\n",
       "      <td>4.307121</td>\n",
       "    </tr>\n",
       "    <tr>\n",
       "      <th>4</th>\n",
       "      <td>4</td>\n",
       "      <td>2001-05-15</td>\n",
       "      <td>3.018758</td>\n",
       "    </tr>\n",
       "  </tbody>\n",
       "</table>\n",
       "</div>"
      ],
      "text/plain": [
       "   unique_id         ds  LinearRegression\n",
       "0          0 2001-05-15          3.803967\n",
       "1          1 2001-05-15          3.512489\n",
       "2          2 2001-05-15          3.170019\n",
       "3          3 2001-05-15          4.307121\n",
       "4          4 2001-05-15          3.018758"
      ]
     },
     "execution_count": 28,
     "metadata": {},
     "output_type": "execute_result"
    }
   ],
   "source": [
    "fcst.predict(h = 1, X_df = transformed_prices).head()"
   ]
  },
  {
   "cell_type": "code",
   "execution_count": 29,
   "id": "d606ba95-4abd-4667-a435-a501a02ed3c2",
   "metadata": {},
   "outputs": [],
   "source": [
    "from fastcore.test import test_fail\n",
    "test_fail(\n",
    "    lambda: fcst.predict(8, X_df=transformed_prices), \n",
    "    contains='Found missing inputs in X_df'\n",
    ")"
   ]
  },
  {
   "cell_type": "code",
   "execution_count": null,
   "id": "aecb08e6-cf8e-42e9-bef4-9e15031cfb01",
   "metadata": {},
   "outputs": [],
   "source": []
  }
 ],
 "metadata": {
  "kernelspec": {
   "display_name": "Python 3 (ipykernel)",
   "language": "python",
   "name": "python3"
  },
  "language_info": {
   "codemirror_mode": {
    "name": "ipython",
    "version": 3
   },
   "file_extension": ".py",
   "mimetype": "text/x-python",
   "name": "python",
   "nbconvert_exporter": "python",
   "pygments_lexer": "ipython3",
   "version": "3.11.9"
  }
 },
 "nbformat": 4,
 "nbformat_minor": 5
}
