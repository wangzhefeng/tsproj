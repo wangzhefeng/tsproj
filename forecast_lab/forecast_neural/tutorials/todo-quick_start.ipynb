{
 "cells": [
  {
   "cell_type": "code",
   "execution_count": 1,
   "id": "534cfcda-d7d2-4387-8279-11f2d85f1c75",
   "metadata": {},
   "outputs": [],
   "source": [
    "# tools\n",
    "import numpy as np\n",
    "import pandas as pd\n",
    "import matplotlib.pyplot as plt\n",
    "from IPython.display import display, Markdown\n",
    "\n",
    "# data\n",
    "from neuralforecast.utils import AirPassengersDF\n",
    "# forecast\n",
    "from neuralforecast import NeuralForecast\n",
    "# models\n",
    "from neuralforecast.models import NBEATS, NHITS, RNN, LSTM\n",
    "\n",
    "import warnings\n",
    "warnings.filterwarnings(\"ignore\")\n",
    "\n",
    "import torch\n",
    "torch.set_float32_matmul_precision('medium')"
   ]
  },
  {
   "cell_type": "markdown",
   "id": "8eef333f-b381-4a6f-9514-976fe94d269c",
   "metadata": {},
   "source": [
    "# data"
   ]
  },
  {
   "cell_type": "code",
   "execution_count": 2,
   "id": "a4f254d4-c9ed-46eb-bbfb-90d85dfb3719",
   "metadata": {},
   "outputs": [
    {
     "name": "stdout",
     "output_type": "stream",
     "text": [
      "   unique_id         ds      y\n",
      "0        1.0 1949-01-31  112.0\n",
      "1        1.0 1949-02-28  118.0\n",
      "2        1.0 1949-03-31  132.0\n",
      "3        1.0 1949-04-30  129.0\n",
      "4        1.0 1949-05-31  121.0 \n",
      "\n",
      "(144, 3) \n",
      "\n",
      "unique_id\n",
      "1.0    144\n",
      "Name: count, dtype: int64 \n",
      "\n",
      "(132, 3) \n",
      "\n",
      "(12, 3) \n",
      "\n"
     ]
    }
   ],
   "source": [
    "# Split data and declare panel dataset\n",
    "Y_df = AirPassengersDF\n",
    "Y_train_df = Y_df[Y_df.ds <= \"1959-12-31\"]\n",
    "Y_test_df = Y_df[Y_df.ds > \"1959-12-31\"]\n",
    "\n",
    "print(Y_df.head(), \"\\n\")\n",
    "print(Y_df.shape, \"\\n\")\n",
    "print(Y_df[\"unique_id\"].value_counts(), \"\\n\")\n",
    "print(Y_train_df.shape, \"\\n\")\n",
    "print(Y_test_df.shape, \"\\n\")"
   ]
  },
  {
   "cell_type": "code",
   "execution_count": 3,
   "id": "b8758f06-de70-40af-9ebb-93b950e0a58d",
   "metadata": {},
   "outputs": [
    {
     "data": {
      "text/html": [
       "<div>\n",
       "<style scoped>\n",
       "    .dataframe tbody tr th:only-of-type {\n",
       "        vertical-align: middle;\n",
       "    }\n",
       "\n",
       "    .dataframe tbody tr th {\n",
       "        vertical-align: top;\n",
       "    }\n",
       "\n",
       "    .dataframe thead th {\n",
       "        text-align: right;\n",
       "    }\n",
       "</style>\n",
       "<table border=\"1\" class=\"dataframe\">\n",
       "  <thead>\n",
       "    <tr style=\"text-align: right;\">\n",
       "      <th></th>\n",
       "      <th>unique_id</th>\n",
       "      <th>ds</th>\n",
       "      <th>y</th>\n",
       "    </tr>\n",
       "  </thead>\n",
       "  <tbody>\n",
       "    <tr>\n",
       "      <th>0</th>\n",
       "      <td>1.0</td>\n",
       "      <td>1949-01-31</td>\n",
       "      <td>112.0</td>\n",
       "    </tr>\n",
       "    <tr>\n",
       "      <th>1</th>\n",
       "      <td>1.0</td>\n",
       "      <td>1949-02-28</td>\n",
       "      <td>118.0</td>\n",
       "    </tr>\n",
       "    <tr>\n",
       "      <th>2</th>\n",
       "      <td>1.0</td>\n",
       "      <td>1949-03-31</td>\n",
       "      <td>132.0</td>\n",
       "    </tr>\n",
       "    <tr>\n",
       "      <th>3</th>\n",
       "      <td>1.0</td>\n",
       "      <td>1949-04-30</td>\n",
       "      <td>129.0</td>\n",
       "    </tr>\n",
       "    <tr>\n",
       "      <th>4</th>\n",
       "      <td>1.0</td>\n",
       "      <td>1949-05-31</td>\n",
       "      <td>121.0</td>\n",
       "    </tr>\n",
       "  </tbody>\n",
       "</table>\n",
       "</div>"
      ],
      "text/plain": [
       "   unique_id         ds      y\n",
       "0        1.0 1949-01-31  112.0\n",
       "1        1.0 1949-02-28  118.0\n",
       "2        1.0 1949-03-31  132.0\n",
       "3        1.0 1949-04-30  129.0\n",
       "4        1.0 1949-05-31  121.0"
      ]
     },
     "execution_count": 3,
     "metadata": {},
     "output_type": "execute_result"
    }
   ],
   "source": [
    "Y_train_df.head()"
   ]
  },
  {
   "cell_type": "code",
   "execution_count": 4,
   "id": "a8e62fe7-dcf4-49e2-ac90-8adc72d96833",
   "metadata": {},
   "outputs": [
    {
     "data": {
      "text/html": [
       "<div>\n",
       "<style scoped>\n",
       "    .dataframe tbody tr th:only-of-type {\n",
       "        vertical-align: middle;\n",
       "    }\n",
       "\n",
       "    .dataframe tbody tr th {\n",
       "        vertical-align: top;\n",
       "    }\n",
       "\n",
       "    .dataframe thead th {\n",
       "        text-align: right;\n",
       "    }\n",
       "</style>\n",
       "<table border=\"1\" class=\"dataframe\">\n",
       "  <thead>\n",
       "    <tr style=\"text-align: right;\">\n",
       "      <th></th>\n",
       "      <th>unique_id</th>\n",
       "      <th>ds</th>\n",
       "      <th>y</th>\n",
       "    </tr>\n",
       "  </thead>\n",
       "  <tbody>\n",
       "    <tr>\n",
       "      <th>132</th>\n",
       "      <td>1.0</td>\n",
       "      <td>1960-01-31</td>\n",
       "      <td>417.0</td>\n",
       "    </tr>\n",
       "    <tr>\n",
       "      <th>133</th>\n",
       "      <td>1.0</td>\n",
       "      <td>1960-02-29</td>\n",
       "      <td>391.0</td>\n",
       "    </tr>\n",
       "    <tr>\n",
       "      <th>134</th>\n",
       "      <td>1.0</td>\n",
       "      <td>1960-03-31</td>\n",
       "      <td>419.0</td>\n",
       "    </tr>\n",
       "    <tr>\n",
       "      <th>135</th>\n",
       "      <td>1.0</td>\n",
       "      <td>1960-04-30</td>\n",
       "      <td>461.0</td>\n",
       "    </tr>\n",
       "    <tr>\n",
       "      <th>136</th>\n",
       "      <td>1.0</td>\n",
       "      <td>1960-05-31</td>\n",
       "      <td>472.0</td>\n",
       "    </tr>\n",
       "  </tbody>\n",
       "</table>\n",
       "</div>"
      ],
      "text/plain": [
       "     unique_id         ds      y\n",
       "132        1.0 1960-01-31  417.0\n",
       "133        1.0 1960-02-29  391.0\n",
       "134        1.0 1960-03-31  419.0\n",
       "135        1.0 1960-04-30  461.0\n",
       "136        1.0 1960-05-31  472.0"
      ]
     },
     "execution_count": 4,
     "metadata": {},
     "output_type": "execute_result"
    }
   ],
   "source": [
    "Y_test_df.head()"
   ]
  },
  {
   "cell_type": "markdown",
   "id": "27e7017d-ed9a-44a9-a705-9fd1a1746825",
   "metadata": {},
   "source": [
    "# model fit"
   ]
  },
  {
   "cell_type": "code",
   "execution_count": 5,
   "id": "2066e4d5-36b7-4a02-8f37-1b2792dfbc6a",
   "metadata": {},
   "outputs": [
    {
     "name": "stderr",
     "output_type": "stream",
     "text": [
      "Seed set to 1\n",
      "Seed set to 1\n",
      "Seed set to 1\n",
      "GPU available: True (mps), used: True\n",
      "TPU available: False, using: 0 TPU cores\n",
      "HPU available: False, using: 0 HPUs\n",
      "\n",
      "  | Name            | Type          | Params | Mode \n",
      "----------------------------------------------------------\n",
      "0 | loss            | MAE           | 0      | train\n",
      "1 | padder          | ConstantPad1d | 0      | train\n",
      "2 | scaler          | TemporalNorm  | 0      | train\n",
      "3 | hist_encoder    | LSTM          | 50.4 K | train\n",
      "4 | context_adapter | Linear        | 7.8 K  | train\n",
      "5 | mlp_decoder     | MLP           | 769    | train\n",
      "----------------------------------------------------------\n",
      "59.0 K    Trainable params\n",
      "0         Non-trainable params\n",
      "59.0 K    Total params\n",
      "0.236     Total estimated model params size (MB)\n",
      "11        Modules in train mode\n",
      "0         Modules in eval mode\n"
     ]
    },
    {
     "data": {
      "application/vnd.jupyter.widget-view+json": {
       "model_id": "",
       "version_major": 2,
       "version_minor": 0
      },
      "text/plain": [
       "Sanity Checking: |                                                                                  | 0/? [00:…"
      ]
     },
     "metadata": {},
     "output_type": "display_data"
    },
    {
     "data": {
      "application/vnd.jupyter.widget-view+json": {
       "model_id": "a4a07b023cf74255a7c7fa0777e1a04a",
       "version_major": 2,
       "version_minor": 0
      },
      "text/plain": [
       "Training: |                                                                                         | 0/? [00:…"
      ]
     },
     "metadata": {},
     "output_type": "display_data"
    },
    {
     "data": {
      "application/vnd.jupyter.widget-view+json": {
       "model_id": "",
       "version_major": 2,
       "version_minor": 0
      },
      "text/plain": [
       "Validation: |                                                                                       | 0/? [00:…"
      ]
     },
     "metadata": {},
     "output_type": "display_data"
    },
    {
     "data": {
      "application/vnd.jupyter.widget-view+json": {
       "model_id": "",
       "version_major": 2,
       "version_minor": 0
      },
      "text/plain": [
       "Validation: |                                                                                       | 0/? [00:…"
      ]
     },
     "metadata": {},
     "output_type": "display_data"
    },
    {
     "data": {
      "application/vnd.jupyter.widget-view+json": {
       "model_id": "",
       "version_major": 2,
       "version_minor": 0
      },
      "text/plain": [
       "Validation: |                                                                                       | 0/? [00:…"
      ]
     },
     "metadata": {},
     "output_type": "display_data"
    },
    {
     "data": {
      "application/vnd.jupyter.widget-view+json": {
       "model_id": "",
       "version_major": 2,
       "version_minor": 0
      },
      "text/plain": [
       "Validation: |                                                                                       | 0/? [00:…"
      ]
     },
     "metadata": {},
     "output_type": "display_data"
    },
    {
     "data": {
      "application/vnd.jupyter.widget-view+json": {
       "model_id": "",
       "version_major": 2,
       "version_minor": 0
      },
      "text/plain": [
       "Validation: |                                                                                       | 0/? [00:…"
      ]
     },
     "metadata": {},
     "output_type": "display_data"
    },
    {
     "name": "stderr",
     "output_type": "stream",
     "text": [
      "`Trainer.fit` stopped: `max_steps=500` reached.\n",
      "GPU available: True (mps), used: True\n",
      "TPU available: False, using: 0 TPU cores\n",
      "HPU available: False, using: 0 HPUs\n",
      "\n",
      "  | Name         | Type          | Params | Mode \n",
      "-------------------------------------------------------\n",
      "0 | loss         | MAE           | 0      | train\n",
      "1 | padder_train | ConstantPad1d | 0      | train\n",
      "2 | scaler       | TemporalNorm  | 0      | train\n",
      "3 | blocks       | ModuleList    | 2.4 M  | train\n",
      "-------------------------------------------------------\n",
      "2.4 M     Trainable params\n",
      "900       Non-trainable params\n",
      "2.4 M     Total params\n",
      "9.789     Total estimated model params size (MB)\n",
      "31        Modules in train mode\n",
      "0         Modules in eval mode\n"
     ]
    },
    {
     "data": {
      "application/vnd.jupyter.widget-view+json": {
       "model_id": "",
       "version_major": 2,
       "version_minor": 0
      },
      "text/plain": [
       "Sanity Checking: |                                                                                  | 0/? [00:…"
      ]
     },
     "metadata": {},
     "output_type": "display_data"
    },
    {
     "data": {
      "application/vnd.jupyter.widget-view+json": {
       "model_id": "51284e0a5a4848b4aed93f5d8541d0f4",
       "version_major": 2,
       "version_minor": 0
      },
      "text/plain": [
       "Training: |                                                                                         | 0/? [00:…"
      ]
     },
     "metadata": {},
     "output_type": "display_data"
    },
    {
     "data": {
      "application/vnd.jupyter.widget-view+json": {
       "model_id": "",
       "version_major": 2,
       "version_minor": 0
      },
      "text/plain": [
       "Validation: |                                                                                       | 0/? [00:…"
      ]
     },
     "metadata": {},
     "output_type": "display_data"
    },
    {
     "name": "stderr",
     "output_type": "stream",
     "text": [
      "`Trainer.fit` stopped: `max_steps=50` reached.\n",
      "GPU available: True (mps), used: True\n",
      "TPU available: False, using: 0 TPU cores\n",
      "HPU available: False, using: 0 HPUs\n",
      "\n",
      "  | Name         | Type          | Params | Mode \n",
      "-------------------------------------------------------\n",
      "0 | loss         | MAE           | 0      | train\n",
      "1 | padder_train | ConstantPad1d | 0      | train\n",
      "2 | scaler       | TemporalNorm  | 0      | train\n",
      "3 | blocks       | ModuleList    | 2.4 M  | train\n",
      "-------------------------------------------------------\n",
      "2.4 M     Trainable params\n",
      "0         Non-trainable params\n",
      "2.4 M     Total params\n",
      "9.769     Total estimated model params size (MB)\n",
      "34        Modules in train mode\n",
      "0         Modules in eval mode\n"
     ]
    },
    {
     "data": {
      "application/vnd.jupyter.widget-view+json": {
       "model_id": "",
       "version_major": 2,
       "version_minor": 0
      },
      "text/plain": [
       "Sanity Checking: |                                                                                  | 0/? [00:…"
      ]
     },
     "metadata": {},
     "output_type": "display_data"
    },
    {
     "data": {
      "application/vnd.jupyter.widget-view+json": {
       "model_id": "0b936f4b38a9421d9bc8463a16df4d7a",
       "version_major": 2,
       "version_minor": 0
      },
      "text/plain": [
       "Training: |                                                                                         | 0/? [00:…"
      ]
     },
     "metadata": {},
     "output_type": "display_data"
    },
    {
     "data": {
      "application/vnd.jupyter.widget-view+json": {
       "model_id": "",
       "version_major": 2,
       "version_minor": 0
      },
      "text/plain": [
       "Validation: |                                                                                       | 0/? [00:…"
      ]
     },
     "metadata": {},
     "output_type": "display_data"
    },
    {
     "name": "stderr",
     "output_type": "stream",
     "text": [
      "`Trainer.fit` stopped: `max_steps=100` reached.\n"
     ]
    }
   ],
   "source": [
    "# forecast length\n",
    "horizon = len(Y_test_df)\n",
    "\n",
    "# model\n",
    "nf = NeuralForecast(\n",
    "    models = [\n",
    "        LSTM(\n",
    "            h = horizon, \n",
    "            max_steps = 500, \n",
    "            scaler_type = \"standard\",\n",
    "            encoder_hidden_size = 64, \n",
    "            decoder_hidden_size = 64\n",
    "        ),\n",
    "        NBEATS(\n",
    "            input_size = 2 * horizon, \n",
    "            h = horizon, \n",
    "            max_steps = 50\n",
    "        ),\n",
    "        NHITS(\n",
    "            input_size = 2 * horizon, \n",
    "            h = horizon, \n",
    "            max_steps = 100, \n",
    "            n_freq_downsample = [2, 1, 1]\n",
    "        ),\n",
    "    ], \n",
    "    freq = \"M\"\n",
    ")\n",
    "\n",
    "# model training\n",
    "nf.fit(df = Y_train_df)"
   ]
  },
  {
   "cell_type": "markdown",
   "id": "3527c883-06aa-40d0-a155-526878a1fadb",
   "metadata": {},
   "source": [
    "# model predict"
   ]
  },
  {
   "cell_type": "code",
   "execution_count": 6,
   "id": "45301b62-396f-4183-b908-9eb8324fb23e",
   "metadata": {},
   "outputs": [
    {
     "name": "stderr",
     "output_type": "stream",
     "text": [
      "GPU available: True (mps), used: True\n",
      "TPU available: False, using: 0 TPU cores\n",
      "HPU available: False, using: 0 HPUs\n"
     ]
    },
    {
     "data": {
      "application/vnd.jupyter.widget-view+json": {
       "model_id": "00a3ff76a07648e197b47e96608c0871",
       "version_major": 2,
       "version_minor": 0
      },
      "text/plain": [
       "Predicting: |                                                                                       | 0/? [00:…"
      ]
     },
     "metadata": {},
     "output_type": "display_data"
    },
    {
     "name": "stderr",
     "output_type": "stream",
     "text": [
      "GPU available: True (mps), used: True\n",
      "TPU available: False, using: 0 TPU cores\n",
      "HPU available: False, using: 0 HPUs\n"
     ]
    },
    {
     "data": {
      "application/vnd.jupyter.widget-view+json": {
       "model_id": "48768deb8fa34eecab9cbb18a6e9f43b",
       "version_major": 2,
       "version_minor": 0
      },
      "text/plain": [
       "Predicting: |                                                                                       | 0/? [00:…"
      ]
     },
     "metadata": {},
     "output_type": "display_data"
    },
    {
     "name": "stderr",
     "output_type": "stream",
     "text": [
      "GPU available: True (mps), used: True\n",
      "TPU available: False, using: 0 TPU cores\n",
      "HPU available: False, using: 0 HPUs\n"
     ]
    },
    {
     "data": {
      "application/vnd.jupyter.widget-view+json": {
       "model_id": "4468c2e3888648c4be2f35836c78473d",
       "version_major": 2,
       "version_minor": 0
      },
      "text/plain": [
       "Predicting: |                                                                                       | 0/? [00:…"
      ]
     },
     "metadata": {},
     "output_type": "display_data"
    },
    {
     "data": {
      "text/html": [
       "<div>\n",
       "<style scoped>\n",
       "    .dataframe tbody tr th:only-of-type {\n",
       "        vertical-align: middle;\n",
       "    }\n",
       "\n",
       "    .dataframe tbody tr th {\n",
       "        vertical-align: top;\n",
       "    }\n",
       "\n",
       "    .dataframe thead th {\n",
       "        text-align: right;\n",
       "    }\n",
       "</style>\n",
       "<table border=\"1\" class=\"dataframe\">\n",
       "  <thead>\n",
       "    <tr style=\"text-align: right;\">\n",
       "      <th></th>\n",
       "      <th>unique_id</th>\n",
       "      <th>ds</th>\n",
       "      <th>LSTM</th>\n",
       "      <th>NBEATS</th>\n",
       "      <th>NHITS</th>\n",
       "    </tr>\n",
       "  </thead>\n",
       "  <tbody>\n",
       "    <tr>\n",
       "      <th>0</th>\n",
       "      <td>1.0</td>\n",
       "      <td>1960-01-31</td>\n",
       "      <td>414.258728</td>\n",
       "      <td>425.104950</td>\n",
       "      <td>422.867065</td>\n",
       "    </tr>\n",
       "    <tr>\n",
       "      <th>1</th>\n",
       "      <td>1.0</td>\n",
       "      <td>1960-02-29</td>\n",
       "      <td>439.354156</td>\n",
       "      <td>441.126190</td>\n",
       "      <td>433.847229</td>\n",
       "    </tr>\n",
       "    <tr>\n",
       "      <th>2</th>\n",
       "      <td>1.0</td>\n",
       "      <td>1960-03-31</td>\n",
       "      <td>423.180756</td>\n",
       "      <td>453.357208</td>\n",
       "      <td>461.176483</td>\n",
       "    </tr>\n",
       "    <tr>\n",
       "      <th>3</th>\n",
       "      <td>1.0</td>\n",
       "      <td>1960-04-30</td>\n",
       "      <td>422.524536</td>\n",
       "      <td>460.131378</td>\n",
       "      <td>462.637024</td>\n",
       "    </tr>\n",
       "    <tr>\n",
       "      <th>4</th>\n",
       "      <td>1.0</td>\n",
       "      <td>1960-05-31</td>\n",
       "      <td>449.128143</td>\n",
       "      <td>503.365540</td>\n",
       "      <td>476.654327</td>\n",
       "    </tr>\n",
       "    <tr>\n",
       "      <th>5</th>\n",
       "      <td>1.0</td>\n",
       "      <td>1960-06-30</td>\n",
       "      <td>515.484558</td>\n",
       "      <td>574.232422</td>\n",
       "      <td>550.436096</td>\n",
       "    </tr>\n",
       "    <tr>\n",
       "      <th>6</th>\n",
       "      <td>1.0</td>\n",
       "      <td>1960-07-31</td>\n",
       "      <td>588.542664</td>\n",
       "      <td>628.103027</td>\n",
       "      <td>629.343567</td>\n",
       "    </tr>\n",
       "    <tr>\n",
       "      <th>7</th>\n",
       "      <td>1.0</td>\n",
       "      <td>1960-08-31</td>\n",
       "      <td>591.223755</td>\n",
       "      <td>620.626343</td>\n",
       "      <td>634.283386</td>\n",
       "    </tr>\n",
       "    <tr>\n",
       "      <th>8</th>\n",
       "      <td>1.0</td>\n",
       "      <td>1960-09-30</td>\n",
       "      <td>517.301208</td>\n",
       "      <td>552.786133</td>\n",
       "      <td>546.299805</td>\n",
       "    </tr>\n",
       "    <tr>\n",
       "      <th>9</th>\n",
       "      <td>1.0</td>\n",
       "      <td>1960-10-31</td>\n",
       "      <td>454.927399</td>\n",
       "      <td>489.251495</td>\n",
       "      <td>466.182220</td>\n",
       "    </tr>\n",
       "    <tr>\n",
       "      <th>10</th>\n",
       "      <td>1.0</td>\n",
       "      <td>1960-11-30</td>\n",
       "      <td>461.056335</td>\n",
       "      <td>439.301270</td>\n",
       "      <td>423.498444</td>\n",
       "    </tr>\n",
       "    <tr>\n",
       "      <th>11</th>\n",
       "      <td>1.0</td>\n",
       "      <td>1960-12-31</td>\n",
       "      <td>455.290344</td>\n",
       "      <td>457.304504</td>\n",
       "      <td>457.888885</td>\n",
       "    </tr>\n",
       "  </tbody>\n",
       "</table>\n",
       "</div>"
      ],
      "text/plain": [
       "    unique_id         ds        LSTM      NBEATS       NHITS\n",
       "0         1.0 1960-01-31  414.258728  425.104950  422.867065\n",
       "1         1.0 1960-02-29  439.354156  441.126190  433.847229\n",
       "2         1.0 1960-03-31  423.180756  453.357208  461.176483\n",
       "3         1.0 1960-04-30  422.524536  460.131378  462.637024\n",
       "4         1.0 1960-05-31  449.128143  503.365540  476.654327\n",
       "5         1.0 1960-06-30  515.484558  574.232422  550.436096\n",
       "6         1.0 1960-07-31  588.542664  628.103027  629.343567\n",
       "7         1.0 1960-08-31  591.223755  620.626343  634.283386\n",
       "8         1.0 1960-09-30  517.301208  552.786133  546.299805\n",
       "9         1.0 1960-10-31  454.927399  489.251495  466.182220\n",
       "10        1.0 1960-11-30  461.056335  439.301270  423.498444\n",
       "11        1.0 1960-12-31  455.290344  457.304504  457.888885"
      ]
     },
     "execution_count": 6,
     "metadata": {},
     "output_type": "execute_result"
    }
   ],
   "source": [
    "Y_hat_df = nf.predict().reset_index()\n",
    "Y_hat_df"
   ]
  },
  {
   "cell_type": "markdown",
   "id": "2fb7a477-8fc0-424e-9ae7-9b9e1d4a3930",
   "metadata": {},
   "source": [
    "# plot_predictions"
   ]
  },
  {
   "cell_type": "code",
   "execution_count": 7,
   "id": "fbf8fde2-2341-4cfa-94e3-bb8d64c1ea45",
   "metadata": {},
   "outputs": [
    {
     "data": {
      "text/html": [
       "<div>\n",
       "<style scoped>\n",
       "    .dataframe tbody tr th:only-of-type {\n",
       "        vertical-align: middle;\n",
       "    }\n",
       "\n",
       "    .dataframe tbody tr th {\n",
       "        vertical-align: top;\n",
       "    }\n",
       "\n",
       "    .dataframe thead th {\n",
       "        text-align: right;\n",
       "    }\n",
       "</style>\n",
       "<table border=\"1\" class=\"dataframe\">\n",
       "  <thead>\n",
       "    <tr style=\"text-align: right;\">\n",
       "      <th></th>\n",
       "      <th>unique_id</th>\n",
       "      <th>ds</th>\n",
       "      <th>y</th>\n",
       "      <th>LSTM</th>\n",
       "      <th>NBEATS</th>\n",
       "      <th>NHITS</th>\n",
       "    </tr>\n",
       "  </thead>\n",
       "  <tbody>\n",
       "    <tr>\n",
       "      <th>0</th>\n",
       "      <td>1.0</td>\n",
       "      <td>1960-01-31</td>\n",
       "      <td>417.0</td>\n",
       "      <td>414.258728</td>\n",
       "      <td>425.104950</td>\n",
       "      <td>422.867065</td>\n",
       "    </tr>\n",
       "    <tr>\n",
       "      <th>1</th>\n",
       "      <td>1.0</td>\n",
       "      <td>1960-02-29</td>\n",
       "      <td>391.0</td>\n",
       "      <td>439.354156</td>\n",
       "      <td>441.126190</td>\n",
       "      <td>433.847229</td>\n",
       "    </tr>\n",
       "    <tr>\n",
       "      <th>2</th>\n",
       "      <td>1.0</td>\n",
       "      <td>1960-03-31</td>\n",
       "      <td>419.0</td>\n",
       "      <td>423.180756</td>\n",
       "      <td>453.357208</td>\n",
       "      <td>461.176483</td>\n",
       "    </tr>\n",
       "    <tr>\n",
       "      <th>3</th>\n",
       "      <td>1.0</td>\n",
       "      <td>1960-04-30</td>\n",
       "      <td>461.0</td>\n",
       "      <td>422.524536</td>\n",
       "      <td>460.131378</td>\n",
       "      <td>462.637024</td>\n",
       "    </tr>\n",
       "    <tr>\n",
       "      <th>4</th>\n",
       "      <td>1.0</td>\n",
       "      <td>1960-05-31</td>\n",
       "      <td>472.0</td>\n",
       "      <td>449.128143</td>\n",
       "      <td>503.365540</td>\n",
       "      <td>476.654327</td>\n",
       "    </tr>\n",
       "    <tr>\n",
       "      <th>5</th>\n",
       "      <td>1.0</td>\n",
       "      <td>1960-06-30</td>\n",
       "      <td>535.0</td>\n",
       "      <td>515.484558</td>\n",
       "      <td>574.232422</td>\n",
       "      <td>550.436096</td>\n",
       "    </tr>\n",
       "    <tr>\n",
       "      <th>6</th>\n",
       "      <td>1.0</td>\n",
       "      <td>1960-07-31</td>\n",
       "      <td>622.0</td>\n",
       "      <td>588.542664</td>\n",
       "      <td>628.103027</td>\n",
       "      <td>629.343567</td>\n",
       "    </tr>\n",
       "    <tr>\n",
       "      <th>7</th>\n",
       "      <td>1.0</td>\n",
       "      <td>1960-08-31</td>\n",
       "      <td>606.0</td>\n",
       "      <td>591.223755</td>\n",
       "      <td>620.626343</td>\n",
       "      <td>634.283386</td>\n",
       "    </tr>\n",
       "    <tr>\n",
       "      <th>8</th>\n",
       "      <td>1.0</td>\n",
       "      <td>1960-09-30</td>\n",
       "      <td>508.0</td>\n",
       "      <td>517.301208</td>\n",
       "      <td>552.786133</td>\n",
       "      <td>546.299805</td>\n",
       "    </tr>\n",
       "    <tr>\n",
       "      <th>9</th>\n",
       "      <td>1.0</td>\n",
       "      <td>1960-10-31</td>\n",
       "      <td>461.0</td>\n",
       "      <td>454.927399</td>\n",
       "      <td>489.251495</td>\n",
       "      <td>466.182220</td>\n",
       "    </tr>\n",
       "    <tr>\n",
       "      <th>10</th>\n",
       "      <td>1.0</td>\n",
       "      <td>1960-11-30</td>\n",
       "      <td>390.0</td>\n",
       "      <td>461.056335</td>\n",
       "      <td>439.301270</td>\n",
       "      <td>423.498444</td>\n",
       "    </tr>\n",
       "    <tr>\n",
       "      <th>11</th>\n",
       "      <td>1.0</td>\n",
       "      <td>1960-12-31</td>\n",
       "      <td>432.0</td>\n",
       "      <td>455.290344</td>\n",
       "      <td>457.304504</td>\n",
       "      <td>457.888885</td>\n",
       "    </tr>\n",
       "  </tbody>\n",
       "</table>\n",
       "</div>"
      ],
      "text/plain": [
       "    unique_id         ds      y        LSTM      NBEATS       NHITS\n",
       "0         1.0 1960-01-31  417.0  414.258728  425.104950  422.867065\n",
       "1         1.0 1960-02-29  391.0  439.354156  441.126190  433.847229\n",
       "2         1.0 1960-03-31  419.0  423.180756  453.357208  461.176483\n",
       "3         1.0 1960-04-30  461.0  422.524536  460.131378  462.637024\n",
       "4         1.0 1960-05-31  472.0  449.128143  503.365540  476.654327\n",
       "5         1.0 1960-06-30  535.0  515.484558  574.232422  550.436096\n",
       "6         1.0 1960-07-31  622.0  588.542664  628.103027  629.343567\n",
       "7         1.0 1960-08-31  606.0  591.223755  620.626343  634.283386\n",
       "8         1.0 1960-09-30  508.0  517.301208  552.786133  546.299805\n",
       "9         1.0 1960-10-31  461.0  454.927399  489.251495  466.182220\n",
       "10        1.0 1960-11-30  390.0  461.056335  439.301270  423.498444\n",
       "11        1.0 1960-12-31  432.0  455.290344  457.304504  457.888885"
      ]
     },
     "execution_count": 7,
     "metadata": {},
     "output_type": "execute_result"
    }
   ],
   "source": [
    "# test and predictions data\n",
    "Y_hat_df = Y_test_df.merge(Y_hat_df, how = \"left\", on = [\"unique_id\", \"ds\"])\n",
    "Y_hat_df"
   ]
  },
  {
   "cell_type": "code",
   "execution_count": 8,
   "id": "8e90cb9a-5210-4c8b-bd49-707f38e0ef35",
   "metadata": {},
   "outputs": [
    {
     "data": {
      "text/html": [
       "<div>\n",
       "<style scoped>\n",
       "    .dataframe tbody tr th:only-of-type {\n",
       "        vertical-align: middle;\n",
       "    }\n",
       "\n",
       "    .dataframe tbody tr th {\n",
       "        vertical-align: top;\n",
       "    }\n",
       "\n",
       "    .dataframe thead th {\n",
       "        text-align: right;\n",
       "    }\n",
       "</style>\n",
       "<table border=\"1\" class=\"dataframe\">\n",
       "  <thead>\n",
       "    <tr style=\"text-align: right;\">\n",
       "      <th></th>\n",
       "      <th>unique_id</th>\n",
       "      <th>y</th>\n",
       "      <th>LSTM</th>\n",
       "      <th>NBEATS</th>\n",
       "      <th>NHITS</th>\n",
       "    </tr>\n",
       "    <tr>\n",
       "      <th>ds</th>\n",
       "      <th></th>\n",
       "      <th></th>\n",
       "      <th></th>\n",
       "      <th></th>\n",
       "      <th></th>\n",
       "    </tr>\n",
       "  </thead>\n",
       "  <tbody>\n",
       "    <tr>\n",
       "      <th>1949-01-31</th>\n",
       "      <td>1.0</td>\n",
       "      <td>112.0</td>\n",
       "      <td>NaN</td>\n",
       "      <td>NaN</td>\n",
       "      <td>NaN</td>\n",
       "    </tr>\n",
       "    <tr>\n",
       "      <th>1949-02-28</th>\n",
       "      <td>1.0</td>\n",
       "      <td>118.0</td>\n",
       "      <td>NaN</td>\n",
       "      <td>NaN</td>\n",
       "      <td>NaN</td>\n",
       "    </tr>\n",
       "    <tr>\n",
       "      <th>1949-03-31</th>\n",
       "      <td>1.0</td>\n",
       "      <td>132.0</td>\n",
       "      <td>NaN</td>\n",
       "      <td>NaN</td>\n",
       "      <td>NaN</td>\n",
       "    </tr>\n",
       "    <tr>\n",
       "      <th>1949-04-30</th>\n",
       "      <td>1.0</td>\n",
       "      <td>129.0</td>\n",
       "      <td>NaN</td>\n",
       "      <td>NaN</td>\n",
       "      <td>NaN</td>\n",
       "    </tr>\n",
       "    <tr>\n",
       "      <th>1949-05-31</th>\n",
       "      <td>1.0</td>\n",
       "      <td>121.0</td>\n",
       "      <td>NaN</td>\n",
       "      <td>NaN</td>\n",
       "      <td>NaN</td>\n",
       "    </tr>\n",
       "    <tr>\n",
       "      <th>1949-06-30</th>\n",
       "      <td>1.0</td>\n",
       "      <td>135.0</td>\n",
       "      <td>NaN</td>\n",
       "      <td>NaN</td>\n",
       "      <td>NaN</td>\n",
       "    </tr>\n",
       "    <tr>\n",
       "      <th>1949-07-31</th>\n",
       "      <td>1.0</td>\n",
       "      <td>148.0</td>\n",
       "      <td>NaN</td>\n",
       "      <td>NaN</td>\n",
       "      <td>NaN</td>\n",
       "    </tr>\n",
       "    <tr>\n",
       "      <th>1949-08-31</th>\n",
       "      <td>1.0</td>\n",
       "      <td>148.0</td>\n",
       "      <td>NaN</td>\n",
       "      <td>NaN</td>\n",
       "      <td>NaN</td>\n",
       "    </tr>\n",
       "    <tr>\n",
       "      <th>1949-09-30</th>\n",
       "      <td>1.0</td>\n",
       "      <td>136.0</td>\n",
       "      <td>NaN</td>\n",
       "      <td>NaN</td>\n",
       "      <td>NaN</td>\n",
       "    </tr>\n",
       "    <tr>\n",
       "      <th>1949-10-31</th>\n",
       "      <td>1.0</td>\n",
       "      <td>119.0</td>\n",
       "      <td>NaN</td>\n",
       "      <td>NaN</td>\n",
       "      <td>NaN</td>\n",
       "    </tr>\n",
       "    <tr>\n",
       "      <th>1949-11-30</th>\n",
       "      <td>1.0</td>\n",
       "      <td>104.0</td>\n",
       "      <td>NaN</td>\n",
       "      <td>NaN</td>\n",
       "      <td>NaN</td>\n",
       "    </tr>\n",
       "    <tr>\n",
       "      <th>1949-12-31</th>\n",
       "      <td>1.0</td>\n",
       "      <td>118.0</td>\n",
       "      <td>NaN</td>\n",
       "      <td>NaN</td>\n",
       "      <td>NaN</td>\n",
       "    </tr>\n",
       "    <tr>\n",
       "      <th>1950-01-31</th>\n",
       "      <td>1.0</td>\n",
       "      <td>115.0</td>\n",
       "      <td>NaN</td>\n",
       "      <td>NaN</td>\n",
       "      <td>NaN</td>\n",
       "    </tr>\n",
       "  </tbody>\n",
       "</table>\n",
       "</div>"
      ],
      "text/plain": [
       "            unique_id      y  LSTM  NBEATS  NHITS\n",
       "ds                                               \n",
       "1949-01-31        1.0  112.0   NaN     NaN    NaN\n",
       "1949-02-28        1.0  118.0   NaN     NaN    NaN\n",
       "1949-03-31        1.0  132.0   NaN     NaN    NaN\n",
       "1949-04-30        1.0  129.0   NaN     NaN    NaN\n",
       "1949-05-31        1.0  121.0   NaN     NaN    NaN\n",
       "1949-06-30        1.0  135.0   NaN     NaN    NaN\n",
       "1949-07-31        1.0  148.0   NaN     NaN    NaN\n",
       "1949-08-31        1.0  148.0   NaN     NaN    NaN\n",
       "1949-09-30        1.0  136.0   NaN     NaN    NaN\n",
       "1949-10-31        1.0  119.0   NaN     NaN    NaN\n",
       "1949-11-30        1.0  104.0   NaN     NaN    NaN\n",
       "1949-12-31        1.0  118.0   NaN     NaN    NaN\n",
       "1950-01-31        1.0  115.0   NaN     NaN    NaN"
      ]
     },
     "execution_count": 8,
     "metadata": {},
     "output_type": "execute_result"
    }
   ],
   "source": [
    "plot_df = pd.concat([Y_train_df, Y_hat_df]).set_index(\"ds\")\n",
    "plot_df.head(13)"
   ]
  },
  {
   "cell_type": "code",
   "execution_count": 9,
   "id": "e2cd9fa5-7933-4387-ae57-bb20a3fad3a7",
   "metadata": {},
   "outputs": [
    {
     "data": {
      "text/html": [
       "<div>\n",
       "<style scoped>\n",
       "    .dataframe tbody tr th:only-of-type {\n",
       "        vertical-align: middle;\n",
       "    }\n",
       "\n",
       "    .dataframe tbody tr th {\n",
       "        vertical-align: top;\n",
       "    }\n",
       "\n",
       "    .dataframe thead th {\n",
       "        text-align: right;\n",
       "    }\n",
       "</style>\n",
       "<table border=\"1\" class=\"dataframe\">\n",
       "  <thead>\n",
       "    <tr style=\"text-align: right;\">\n",
       "      <th></th>\n",
       "      <th>unique_id</th>\n",
       "      <th>y</th>\n",
       "      <th>LSTM</th>\n",
       "      <th>NBEATS</th>\n",
       "      <th>NHITS</th>\n",
       "    </tr>\n",
       "    <tr>\n",
       "      <th>ds</th>\n",
       "      <th></th>\n",
       "      <th></th>\n",
       "      <th></th>\n",
       "      <th></th>\n",
       "      <th></th>\n",
       "    </tr>\n",
       "  </thead>\n",
       "  <tbody>\n",
       "    <tr>\n",
       "      <th>1959-12-31</th>\n",
       "      <td>1.0</td>\n",
       "      <td>405.0</td>\n",
       "      <td>NaN</td>\n",
       "      <td>NaN</td>\n",
       "      <td>NaN</td>\n",
       "    </tr>\n",
       "    <tr>\n",
       "      <th>1960-01-31</th>\n",
       "      <td>1.0</td>\n",
       "      <td>417.0</td>\n",
       "      <td>414.258728</td>\n",
       "      <td>425.104950</td>\n",
       "      <td>422.867065</td>\n",
       "    </tr>\n",
       "    <tr>\n",
       "      <th>1960-02-29</th>\n",
       "      <td>1.0</td>\n",
       "      <td>391.0</td>\n",
       "      <td>439.354156</td>\n",
       "      <td>441.126190</td>\n",
       "      <td>433.847229</td>\n",
       "    </tr>\n",
       "    <tr>\n",
       "      <th>1960-03-31</th>\n",
       "      <td>1.0</td>\n",
       "      <td>419.0</td>\n",
       "      <td>423.180756</td>\n",
       "      <td>453.357208</td>\n",
       "      <td>461.176483</td>\n",
       "    </tr>\n",
       "    <tr>\n",
       "      <th>1960-04-30</th>\n",
       "      <td>1.0</td>\n",
       "      <td>461.0</td>\n",
       "      <td>422.524536</td>\n",
       "      <td>460.131378</td>\n",
       "      <td>462.637024</td>\n",
       "    </tr>\n",
       "    <tr>\n",
       "      <th>1960-05-31</th>\n",
       "      <td>1.0</td>\n",
       "      <td>472.0</td>\n",
       "      <td>449.128143</td>\n",
       "      <td>503.365540</td>\n",
       "      <td>476.654327</td>\n",
       "    </tr>\n",
       "    <tr>\n",
       "      <th>1960-06-30</th>\n",
       "      <td>1.0</td>\n",
       "      <td>535.0</td>\n",
       "      <td>515.484558</td>\n",
       "      <td>574.232422</td>\n",
       "      <td>550.436096</td>\n",
       "    </tr>\n",
       "    <tr>\n",
       "      <th>1960-07-31</th>\n",
       "      <td>1.0</td>\n",
       "      <td>622.0</td>\n",
       "      <td>588.542664</td>\n",
       "      <td>628.103027</td>\n",
       "      <td>629.343567</td>\n",
       "    </tr>\n",
       "    <tr>\n",
       "      <th>1960-08-31</th>\n",
       "      <td>1.0</td>\n",
       "      <td>606.0</td>\n",
       "      <td>591.223755</td>\n",
       "      <td>620.626343</td>\n",
       "      <td>634.283386</td>\n",
       "    </tr>\n",
       "    <tr>\n",
       "      <th>1960-09-30</th>\n",
       "      <td>1.0</td>\n",
       "      <td>508.0</td>\n",
       "      <td>517.301208</td>\n",
       "      <td>552.786133</td>\n",
       "      <td>546.299805</td>\n",
       "    </tr>\n",
       "    <tr>\n",
       "      <th>1960-10-31</th>\n",
       "      <td>1.0</td>\n",
       "      <td>461.0</td>\n",
       "      <td>454.927399</td>\n",
       "      <td>489.251495</td>\n",
       "      <td>466.182220</td>\n",
       "    </tr>\n",
       "    <tr>\n",
       "      <th>1960-11-30</th>\n",
       "      <td>1.0</td>\n",
       "      <td>390.0</td>\n",
       "      <td>461.056335</td>\n",
       "      <td>439.301270</td>\n",
       "      <td>423.498444</td>\n",
       "    </tr>\n",
       "    <tr>\n",
       "      <th>1960-12-31</th>\n",
       "      <td>1.0</td>\n",
       "      <td>432.0</td>\n",
       "      <td>455.290344</td>\n",
       "      <td>457.304504</td>\n",
       "      <td>457.888885</td>\n",
       "    </tr>\n",
       "  </tbody>\n",
       "</table>\n",
       "</div>"
      ],
      "text/plain": [
       "            unique_id      y        LSTM      NBEATS       NHITS\n",
       "ds                                                              \n",
       "1959-12-31        1.0  405.0         NaN         NaN         NaN\n",
       "1960-01-31        1.0  417.0  414.258728  425.104950  422.867065\n",
       "1960-02-29        1.0  391.0  439.354156  441.126190  433.847229\n",
       "1960-03-31        1.0  419.0  423.180756  453.357208  461.176483\n",
       "1960-04-30        1.0  461.0  422.524536  460.131378  462.637024\n",
       "1960-05-31        1.0  472.0  449.128143  503.365540  476.654327\n",
       "1960-06-30        1.0  535.0  515.484558  574.232422  550.436096\n",
       "1960-07-31        1.0  622.0  588.542664  628.103027  629.343567\n",
       "1960-08-31        1.0  606.0  591.223755  620.626343  634.283386\n",
       "1960-09-30        1.0  508.0  517.301208  552.786133  546.299805\n",
       "1960-10-31        1.0  461.0  454.927399  489.251495  466.182220\n",
       "1960-11-30        1.0  390.0  461.056335  439.301270  423.498444\n",
       "1960-12-31        1.0  432.0  455.290344  457.304504  457.888885"
      ]
     },
     "execution_count": 9,
     "metadata": {},
     "output_type": "execute_result"
    }
   ],
   "source": [
    "plot_df.tail(13)"
   ]
  },
  {
   "cell_type": "code",
   "execution_count": 10,
   "id": "fd3e1c4c-426e-4fee-9ef3-e0a06c8568a5",
   "metadata": {},
   "outputs": [
    {
     "data": {
      "image/png": "[encoded data removed]",
      "text/plain": [
       "<Figure size 2000x700 with 1 Axes>"
      ]
     },
     "metadata": {},
     "output_type": "display_data"
    }
   ],
   "source": [
    "# plot\n",
    "fig, ax = plt.subplots(1, 1, figsize = (20, 7))\n",
    "plot_df[[\"y\", \"NBEATS\", \"NHITS\", \"LSTM\"]].plot(ax = ax, linewidth = 1.0)\n",
    "ax.set_title('AirPassengers Forecast', fontsize=22)\n",
    "ax.set_ylabel('Monthly Passengers', fontsize=20)\n",
    "ax.set_xlabel('Timestamp [t]', fontsize=20)\n",
    "ax.legend(prop={'size': 15})\n",
    "ax.grid()"
   ]
  }
 ],
 "metadata": {
  "kernelspec": {
   "display_name": "Python 3 (ipykernel)",
   "language": "python",
   "name": "python3"
  },
  "language_info": {
   "codemirror_mode": {
    "name": "ipython",
    "version": 3
   },
   "file_extension": ".py",
   "mimetype": "text/x-python",
   "name": "python",
   "nbconvert_exporter": "python",
   "pygments_lexer": "ipython3",
   "version": "3.11.9"
  }
 },
 "nbformat": 4,
 "nbformat_minor": 5
}
