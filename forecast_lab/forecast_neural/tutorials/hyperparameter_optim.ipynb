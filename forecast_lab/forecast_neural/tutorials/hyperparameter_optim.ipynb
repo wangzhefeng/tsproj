{
 "cells": [
  {
   "cell_type": "code",
   "execution_count": 24,
   "id": "23d549b7-2b71-4ab9-b310-0189531d2dd9",
   "metadata": {},
   "outputs": [],
   "source": [
    "# tool\n",
    "import pandas as pd\n",
    "import matplotlib.pyplot as plt\n",
    "\n",
    "# data\n",
    "from neuralforecast.utils import AirPassengersDF\n",
    "\n",
    "# models\n",
    "from neuralforecast.auto import AutoNHITS\n",
    "\n",
    "# forecast\n",
    "from neuralforecast.core import NeuralForecast\n",
    "\n",
    "# loss\n",
    "from neuralforecast.losses.pytorch import MAE\n",
    "\n",
    "# hyperparameter optim\n",
    "import optuna\n",
    "optuna.logging.set_verbosity(optuna.logging.WARNING)  # disable training prints\n",
    "from ray import tune\n",
    "from ray.tune.search.hyperopt import HyperOptSearch\n",
    "\n",
    "import warnings\n",
    "warnings.filterwarnings(\"ignore\")\n",
    "\n",
    "import torch\n",
    "torch.set_float32_matmul_precision('medium')"
   ]
  },
  {
   "cell_type": "markdown",
   "id": "d82a2bd7-83eb-462a-afb5-186a77b7de35",
   "metadata": {},
   "source": [
    "# data"
   ]
  },
  {
   "cell_type": "code",
   "execution_count": 2,
   "id": "708e77db-e7f9-401e-aacc-2b2b49f901cf",
   "metadata": {},
   "outputs": [
    {
     "name": "stdout",
     "output_type": "stream",
     "text": [
      "   unique_id         ds      y\n",
      "0        1.0 1949-01-31  112.0\n",
      "1        1.0 1949-02-28  118.0\n",
      "2        1.0 1949-03-31  132.0\n",
      "3        1.0 1949-04-30  129.0\n",
      "4        1.0 1949-05-31  121.0 \n",
      "\n",
      "     unique_id         ds      y\n",
      "139        1.0 1960-08-31  606.0\n",
      "140        1.0 1960-09-30  508.0\n",
      "141        1.0 1960-10-31  461.0\n",
      "142        1.0 1960-11-30  390.0\n",
      "143        1.0 1960-12-31  432.0 \n",
      "\n",
      "(144, 3) \n",
      "\n",
      "unique_id\n",
      "1.0    144\n",
      "Name: count, dtype: int64\n"
     ]
    }
   ],
   "source": [
    "Y_df = AirPassengersDF\n",
    "print(Y_df.head(), \"\\n\")\n",
    "print(Y_df.tail(), \"\\n\")\n",
    "print(Y_df.shape, \"\\n\")\n",
    "print(Y_df[\"unique_id\"].value_counts())"
   ]
  },
  {
   "cell_type": "markdown",
   "id": "e9e00bee-9755-4461-85c1-caf15def09c3",
   "metadata": {},
   "source": [
    "# Ray tune hyperparameter grid"
   ]
  },
  {
   "cell_type": "markdown",
   "id": "cb27b3c4-17ba-433f-8af4-9e67e9d73a9b",
   "metadata": {},
   "source": [
    "## 默认超参数网格"
   ]
  },
  {
   "cell_type": "code",
   "execution_count": 22,
   "id": "c9c283c6-e00f-4d9f-9cb0-fea1ef6627aa",
   "metadata": {},
   "outputs": [],
   "source": [
    "# Extract the default hyperparameter settings\n",
    "nhits_config = AutoNHITS.get_default_config(h = 12, backend = \"ray\")\n",
    "\n",
    "nhits_config[\"random_seed\"] = tune.randint(1, 10)  # Random seed\n",
    "nhits_config[\"n_pool_kernel_size\"] = tune.choice([[2, 2, 2], [16, 8, 1]])  # MaxPool's Kernelsize"
   ]
  },
  {
   "cell_type": "markdown",
   "id": "732f2d3f-1a46-409d-83ea-49b4aecb8114",
   "metadata": {},
   "source": [
    "## 自定义超参数网格"
   ]
  },
  {
   "cell_type": "code",
   "execution_count": 32,
   "id": "012622ba-3704-4699-a46d-09d07e102206",
   "metadata": {},
   "outputs": [],
   "source": [
    "nhits_config = {\n",
    "    \"max_steps\": 100,  # Number of SGD steps\n",
    "    \"input_size\": 24,  # Size of input window\n",
    "    \"learning_rate\": tune.loguniform(1e-5, 1e-1),                              # Initial Learning rate\n",
    "    \"n_pool_kernel_size\": tune.choice([[2, 2, 2], [16, 8, 1]]),                # MaxPool's Kernelsize\n",
    "    \"n_freq_downsample\": tune.choice([[168, 24, 1], [24, 12, 1], [1, 1, 1]]),  # Interpolation expressivity ratios\n",
    "    \"val_check_steps\": 50,  # Compute validation every 50 steps\n",
    "    \"random_seed\": tune.randint(1, 10),  # Random seed\n",
    "}"
   ]
  },
  {
   "cell_type": "markdown",
   "id": "475297c3-bd2d-45cf-8d3b-c776cdd8ff91",
   "metadata": {},
   "source": [
    "## model"
   ]
  },
  {
   "cell_type": "code",
   "execution_count": 29,
   "id": "b51a485f-0b59-46b5-87e0-e25fb9d3f3f3",
   "metadata": {},
   "outputs": [],
   "source": [
    "model = AutoNHITS(\n",
    "    h = 12,\n",
    "    loss = MAE(),\n",
    "    config = nhits_config,\n",
    "    search_alg = HyperOptSearch(),\n",
    "    backend = \"ray\",\n",
    "    num_samples = 10,\n",
    ")"
   ]
  },
  {
   "cell_type": "markdown",
   "id": "4dcf7439-5822-4ead-8b08-62ae7fd0a24a",
   "metadata": {},
   "source": [
    "## model training"
   ]
  },
  {
   "cell_type": "code",
   "execution_count": 30,
   "id": "025e8971-d4bf-4914-bd46-8d2d0b42e133",
   "metadata": {},
   "outputs": [
    {
     "data": {
      "text/html": [],
      "text/plain": [
       "<IPython.core.display.HTML object>"
      ]
     },
     "metadata": {},
     "output_type": "display_data"
    },
    {
     "name": "stderr",
     "output_type": "stream",
     "text": [
      "\u001b[36m(_train_tune pid=28316)\u001b[0m D:\\software\\miniconda3\\envs\\ts\\lib\\site-packages\\torch\\storage.py:414: FutureWarning: You are using `torch.load` with `weights_only=False` (the current default value), which uses the default pickle module implicitly. It is possible to construct malicious pickle data which will execute arbitrary code during unpickling (See https://github.com/pytorch/pytorch/blob/main/SECURITY.md#untrusted-models for more details). In a future release, the default value for `weights_only` will be flipped to `True`. This limits the functions that could be executed during unpickling. Arbitrary objects will no longer be allowed to be loaded via this mode unless they are explicitly allowlisted by the user via `torch.serialization.add_safe_globals`. We recommend you start setting `weights_only=True` for any use case where you don't have full control of the loaded file. Please open an issue on GitHub for any issues related to this experimental feature.\n",
      "\u001b[36m(_train_tune pid=28316)\u001b[0m   return torch.load(io.BytesIO(b))\n",
      "\u001b[36m(_train_tune pid=28316)\u001b[0m D:\\software\\miniconda3\\envs\\ts\\lib\\site-packages\\ray\\tune\\integration\\pytorch_lightning.py:194: UserWarning: `ray.tune.integration.pytorch_lightning.TuneReportCallback` is deprecated. Use `ray.tune.integration.pytorch_lightning.TuneReportCheckpointCallback` instead.\n",
      "\u001b[36m(_train_tune pid=28316)\u001b[0m   warnings.warn(\n",
      "\u001b[36m(_train_tune pid=28316)\u001b[0m Global seed set to 9\n",
      "\u001b[36m(_train_tune pid=28316)\u001b[0m GPU available: True (cuda), used: True\n",
      "\u001b[36m(_train_tune pid=28316)\u001b[0m TPU available: False, using: 0 TPU cores\n",
      "\u001b[36m(_train_tune pid=28316)\u001b[0m IPU available: False, using: 0 IPUs\n",
      "\u001b[36m(_train_tune pid=28316)\u001b[0m HPU available: False, using: 0 HPUs\n",
      "\u001b[36m(_train_tune pid=28316)\u001b[0m You are using a CUDA device ('NVIDIA GeForce RTX 4070') that has Tensor Cores. To properly utilize them, you should set `torch.set_float32_matmul_precision('medium' | 'high')` which will trade-off precision for performance. For more details, read https://pytorch.org/docs/stable/generated/torch.set_float32_matmul_precision.html#torch.set_float32_matmul_precision\n",
      "\u001b[36m(_train_tune pid=28316)\u001b[0m Missing logger folder: C:\\Users\\ADMINI~1\\AppData\\Local\\Temp\\ray\\session_2024-12-07_21-58-08_639308_21512\\artifacts\\2024-12-07_21-58-13\\_train_tune_2024-12-07_21-58-07\\working_dirs\\_train_tune_d3dad1d8\\lightning_logs\n",
      "\u001b[36m(_train_tune pid=28316)\u001b[0m LOCAL_RANK: 0 - CUDA_VISIBLE_DEVICES: [0]\n",
      "\u001b[36m(_train_tune pid=28316)\u001b[0m \n",
      "\u001b[36m(_train_tune pid=28316)\u001b[0m   | Name         | Type          | Params\n",
      "\u001b[36m(_train_tune pid=28316)\u001b[0m -----------------------------------------------\n",
      "\u001b[36m(_train_tune pid=28316)\u001b[0m 0 | loss         | MAE           | 0     \n",
      "\u001b[36m(_train_tune pid=28316)\u001b[0m 1 | padder_train | ConstantPad1d | 0     \n",
      "\u001b[36m(_train_tune pid=28316)\u001b[0m 2 | scaler       | TemporalNorm  | 0     \n",
      "\u001b[36m(_train_tune pid=28316)\u001b[0m 3 | blocks       | ModuleList    | 2.4 M \n",
      "\u001b[36m(_train_tune pid=28316)\u001b[0m -----------------------------------------------\n",
      "\u001b[36m(_train_tune pid=28316)\u001b[0m 2.4 M     Trainable params\n",
      "\u001b[36m(_train_tune pid=28316)\u001b[0m 0         Non-trainable params\n",
      "\u001b[36m(_train_tune pid=28316)\u001b[0m 2.4 M     Total params\n",
      "\u001b[36m(_train_tune pid=28316)\u001b[0m 9.698     Total estimated model params size (MB)\n"
     ]
    },
    {
     "name": "stdout",
     "output_type": "stream",
     "text": [
      "Sanity Checking DataLoader 0:   0%|          | 0/1 [00:00<?, ?it/s]\n",
      "Epoch 0:   0%|          | 0/1 [00:00<?, ?it/s]                             \n",
      "Epoch 6:   0%|          | 0/1 [00:00<?, ?it/s, v_num=0, train_loss_step=44.30, train_loss_epoch=44.30]         \n",
      "Epoch 7:   0%|          | 0/1 [00:00<?, ?it/s, v_num=0, train_loss_step=41.60, train_loss_epoch=41.60]         \n",
      "Epoch 8: 100%|██████████| 1/1 [00:00<00:00, 181.73it/s, v_num=0, train_loss_step=41.90, train_loss_epoch=41.90]\n",
      "Epoch 9:   0%|          | 0/1 [00:00<?, ?it/s, v_num=0, train_loss_step=41.90, train_loss_epoch=41.90]         \n",
      "Epoch 10:   0%|          | 0/1 [00:00<?, ?it/s, v_num=0, train_loss_step=42.10, train_loss_epoch=42.10]        \n",
      "Epoch 26: 100%|██████████| 1/1 [00:00<00:00, 195.30it/s, v_num=0, train_loss_step=26.00, train_loss_epoch=26.00]\n",
      "Epoch 28:   0%|          | 0/1 [00:00<?, ?it/s, v_num=0, train_loss_step=25.50, train_loss_epoch=25.50]         \n",
      "Epoch 29:   0%|          | 0/1 [00:00<?, ?it/s, v_num=0, train_loss_step=24.30, train_loss_epoch=24.30]         \n",
      "Epoch 31:   0%|          | 0/1 [00:00<?, ?it/s, v_num=0, train_loss_step=22.50, train_loss_epoch=22.50]         \n",
      "Epoch 32:   0%|          | 0/1 [00:00<?, ?it/s, v_num=0, train_loss_step=23.30, train_loss_epoch=23.30]         \n",
      "Epoch 33: 100%|██████████| 1/1 [00:00<00:00, 166.69it/s, v_num=0, train_loss_step=22.30, train_loss_epoch=22.30]\n",
      "Epoch 35:   0%|          | 0/1 [00:00<?, ?it/s, v_num=0, train_loss_step=21.50, train_loss_epoch=21.50]         \n",
      "Epoch 36:   0%|          | 0/1 [00:00<?, ?it/s, v_num=0, train_loss_step=20.90, train_loss_epoch=20.90]         \n",
      "Epoch 37: 100%|██████████| 1/1 [00:00<00:00, 161.51it/s, v_num=0, train_loss_step=20.70, train_loss_epoch=20.70]\n",
      "Epoch 39:   0%|          | 0/1 [00:00<?, ?it/s, v_num=0, train_loss_step=20.20, train_loss_epoch=20.20]         \n",
      "Epoch 40:   0%|          | 0/1 [00:00<?, ?it/s, v_num=0, train_loss_step=20.50, train_loss_epoch=20.50]         \n",
      "Epoch 41:   0%|          | 0/1 [00:00<?, ?it/s, v_num=0, train_loss_step=19.60, train_loss_epoch=19.60]         \n",
      "Epoch 42: 100%|██████████| 1/1 [00:00<00:00, 181.53it/s, v_num=0, train_loss_step=19.90, train_loss_epoch=19.60]\n",
      "Epoch 44:   0%|          | 0/1 [00:00<?, ?it/s, v_num=0, train_loss_step=20.00, train_loss_epoch=20.00]         \n",
      "Epoch 45:   0%|          | 0/1 [00:00<?, ?it/s, v_num=0, train_loss_step=19.30, train_loss_epoch=19.30]         \n",
      "Epoch 46:   0%|          | 0/1 [00:00<?, ?it/s, v_num=0, train_loss_step=19.30, train_loss_epoch=19.30]         \n",
      "Epoch 47:   0%|          | 0/1 [00:00<?, ?it/s, v_num=0, train_loss_step=19.10, train_loss_epoch=19.10]         \n",
      "Epoch 49:   0%|          | 0/1 [00:00<?, ?it/s, v_num=0, train_loss_step=18.70, train_loss_epoch=18.70]         \n",
      "Epoch 49: 100%|██████████| 1/1 [00:00<00:00, 166.68it/s, v_num=0, train_loss_step=18.80, train_loss_epoch=18.70]\n",
      "Validation: 0it [00:00, ?it/s]\u001b[A\n",
      "Validation:   0%|          | 0/1 [00:00<?, ?it/s]\u001b[A\n",
      "Validation DataLoader 0:   0%|          | 0/1 [00:00<?, ?it/s]\u001b[A\n",
      "Validation DataLoader 0: 100%|██████████| 1/1 [00:00<00:00, 398.74it/s]\u001b[A\n",
      "Epoch 49: 100%|██████████| 1/1 [00:00<00:00, 55.51it/s, v_num=0, train_loss_step=18.80, train_loss_epoch=18.70, valid_loss=29.50]\n",
      "\u001b[36m(_train_tune pid=28316)\u001b[0m \n",
      "Epoch 51:   0%|          | 0/1 [00:00<?, ?it/s, v_num=0, train_loss_step=18.10, train_loss_epoch=18.10, valid_loss=29.50]         \n",
      "Epoch 52:   0%|          | 0/1 [00:00<?, ?it/s, v_num=0, train_loss_step=18.20, train_loss_epoch=18.20, valid_loss=29.50]         \n",
      "Epoch 53: 100%|██████████| 1/1 [00:00<00:00, 166.71it/s, v_num=0, train_loss_step=18.40, train_loss_epoch=18.40, valid_loss=29.50]\n",
      "Epoch 55:   0%|          | 0/1 [00:00<?, ?it/s, v_num=0, train_loss_step=17.70, train_loss_epoch=17.70, valid_loss=29.50]         \n",
      "Epoch 56:   0%|          | 0/1 [00:00<?, ?it/s, v_num=0, train_loss_step=17.60, train_loss_epoch=17.60, valid_loss=29.50]         \n",
      "Epoch 58:   0%|          | 0/1 [00:00<?, ?it/s, v_num=0, train_loss_step=17.30, train_loss_epoch=17.30, valid_loss=29.50]         \n",
      "Epoch 59:   0%|          | 0/1 [00:00<?, ?it/s, v_num=0, train_loss_step=17.20, train_loss_epoch=17.20, valid_loss=29.50]         \n",
      "Epoch 61:   0%|          | 0/1 [00:00<?, ?it/s, v_num=0, train_loss_step=16.90, train_loss_epoch=16.90, valid_loss=29.50]         \n",
      "Epoch 62:   0%|          | 0/1 [00:00<?, ?it/s, v_num=0, train_loss_step=16.80, train_loss_epoch=16.80, valid_loss=29.50]         \n",
      "Epoch 63: 100%|██████████| 1/1 [00:00<00:00, 165.85it/s, v_num=0, train_loss_step=16.10, train_loss_epoch=16.10, valid_loss=29.50]\n",
      "Epoch 65:   0%|          | 0/1 [00:00<?, ?it/s, v_num=0, train_loss_step=15.80, train_loss_epoch=15.80, valid_loss=29.50]         \n",
      "Epoch 66:   0%|          | 0/1 [00:00<?, ?it/s, v_num=0, train_loss_step=15.70, train_loss_epoch=15.70, valid_loss=29.50]         \n",
      "Epoch 68:   0%|          | 0/1 [00:00<?, ?it/s, v_num=0, train_loss_step=15.70, train_loss_epoch=15.70, valid_loss=29.50]         \n",
      "Epoch 69:   0%|          | 0/1 [00:00<?, ?it/s, v_num=0, train_loss_step=16.10, train_loss_epoch=16.10, valid_loss=29.50]         \n",
      "Epoch 71:   0%|          | 0/1 [00:00<?, ?it/s, v_num=0, train_loss_step=15.80, train_loss_epoch=15.80, valid_loss=29.50]         \n",
      "Epoch 72:   0%|          | 0/1 [00:00<?, ?it/s, v_num=0, train_loss_step=15.40, train_loss_epoch=15.40, valid_loss=29.50]         \n",
      "Epoch 73: 100%|██████████| 1/1 [00:00<00:00, 166.67it/s, v_num=0, train_loss_step=15.00, train_loss_epoch=15.00, valid_loss=29.50]\n",
      "Epoch 75:   0%|          | 0/1 [00:00<?, ?it/s, v_num=0, train_loss_step=15.30, train_loss_epoch=15.30, valid_loss=29.50]         \n",
      "Epoch 76:   0%|          | 0/1 [00:00<?, ?it/s, v_num=0, train_loss_step=15.10, train_loss_epoch=15.10, valid_loss=29.50]         \n",
      "Epoch 78:   0%|          | 0/1 [00:00<?, ?it/s, v_num=0, train_loss_step=14.80, train_loss_epoch=14.80, valid_loss=29.50]         \n",
      "Epoch 79:   0%|          | 0/1 [00:00<?, ?it/s, v_num=0, train_loss_step=15.00, train_loss_epoch=15.00, valid_loss=29.50]         \n",
      "Epoch 79: 100%|██████████| 1/1 [00:00<00:00, 181.60it/s, v_num=0, train_loss_step=15.20, train_loss_epoch=15.20, valid_loss=29.50]\n",
      "Epoch 81:   0%|          | 0/1 [00:00<?, ?it/s, v_num=0, train_loss_step=14.50, train_loss_epoch=14.50, valid_loss=29.50]         \n",
      "Epoch 82:   0%|          | 0/1 [00:00<?, ?it/s, v_num=0, train_loss_step=14.80, train_loss_epoch=14.80, valid_loss=29.50]         \n",
      "Epoch 83:   0%|          | 0/1 [00:00<?, ?it/s, v_num=0, train_loss_step=14.30, train_loss_epoch=14.30, valid_loss=29.50]         \n",
      "Epoch 84: 100%|██████████| 1/1 [00:00<00:00, 181.49it/s, v_num=0, train_loss_step=14.60, train_loss_epoch=14.60, valid_loss=29.50]\n",
      "Epoch 86:   0%|          | 0/1 [00:00<?, ?it/s, v_num=0, train_loss_step=14.30, train_loss_epoch=14.30, valid_loss=29.50]         \n",
      "Epoch 87:   0%|          | 0/1 [00:00<?, ?it/s, v_num=0, train_loss_step=14.30, train_loss_epoch=14.30, valid_loss=29.50]         \n",
      "Epoch 88:   0%|          | 0/1 [00:00<?, ?it/s, v_num=0, train_loss_step=14.80, train_loss_epoch=14.80, valid_loss=29.50]         \n",
      "Epoch 90:   0%|          | 0/1 [00:00<?, ?it/s, v_num=0, train_loss_step=14.00, train_loss_epoch=14.00, valid_loss=29.50]         \n",
      "Epoch 91:   0%|          | 0/1 [00:00<?, ?it/s, v_num=0, train_loss_step=14.20, train_loss_epoch=14.20, valid_loss=29.50]         \n",
      "Epoch 92: 100%|██████████| 1/1 [00:00<00:00, 200.03it/s, v_num=0, train_loss_step=14.10, train_loss_epoch=13.50, valid_loss=29.50]\n",
      "Epoch 94:   0%|          | 0/1 [00:00<?, ?it/s, v_num=0, train_loss_step=13.50, train_loss_epoch=13.50, valid_loss=29.50]         \n",
      "Epoch 95:   0%|          | 0/1 [00:00<?, ?it/s, v_num=0, train_loss_step=13.30, train_loss_epoch=13.30, valid_loss=29.50]         \n",
      "Epoch 97:   0%|          | 0/1 [00:00<?, ?it/s, v_num=0, train_loss_step=13.70, train_loss_epoch=13.70, valid_loss=29.50]         \n",
      "Epoch 98:   0%|          | 0/1 [00:00<?, ?it/s, v_num=0, train_loss_step=13.60, train_loss_epoch=13.60, valid_loss=29.50]         \n",
      "Epoch 99:   0%|          | 0/1 [00:00<?, ?it/s, v_num=0, train_loss_step=13.50, train_loss_epoch=13.50, valid_loss=29.50]         \n"
     ]
    },
    {
     "name": "stderr",
     "output_type": "stream",
     "text": [
      "\u001b[36m(_train_tune pid=28316)\u001b[0m `Trainer.fit` stopped: `max_steps=100` reached.\n",
      "2024-12-07 21:58:22,183\tINFO tensorboardx.py:311 -- Removed the following hyperparameter values when logging to tensorboard: {'loss': ('__ref_ph', 'de895953'), 'n_freq_downsample': (168, 24, 1), 'n_pool_kernel_size': (16, 8, 1), 'valid_loss': ('__ref_ph', '004b9a7a')}\n"
     ]
    },
    {
     "name": "stdout",
     "output_type": "stream",
     "text": [
      "Epoch 99: 100%|██████████| 1/1 [00:00<00:00, 165.93it/s, v_num=0, train_loss_step=13.40, train_loss_epoch=13.50, valid_loss=29.50]\n",
      "Validation: 0it [00:00, ?it/s]\u001b[A\n",
      "Validation:   0%|          | 0/1 [00:00<?, ?it/s]\u001b[A\n",
      "Validation DataLoader 0:   0%|          | 0/1 [00:00<?, ?it/s]\u001b[A\n",
      "Validation DataLoader 0: 100%|██████████| 1/1 [00:00<00:00, 385.90it/s]\u001b[A\n",
      "Epoch 99: 100%|██████████| 1/1 [00:00<00:00, 60.17it/s, v_num=0, train_loss_step=13.40, train_loss_epoch=13.50, valid_loss=22.20] \n",
      "Epoch 99: 100%|██████████| 1/1 [00:00<00:00, 56.76it/s, v_num=0, train_loss_step=13.40, train_loss_epoch=13.40, valid_loss=22.20]\n"
     ]
    },
    {
     "name": "stderr",
     "output_type": "stream",
     "text": [
      "\u001b[36m(_train_tune pid=29584)\u001b[0m D:\\software\\miniconda3\\envs\\ts\\lib\\site-packages\\torch\\storage.py:414: FutureWarning: You are using `torch.load` with `weights_only=False` (the current default value), which uses the default pickle module implicitly. It is possible to construct malicious pickle data which will execute arbitrary code during unpickling (See https://github.com/pytorch/pytorch/blob/main/SECURITY.md#untrusted-models for more details). In a future release, the default value for `weights_only` will be flipped to `True`. This limits the functions that could be executed during unpickling. Arbitrary objects will no longer be allowed to be loaded via this mode unless they are explicitly allowlisted by the user via `torch.serialization.add_safe_globals`. We recommend you start setting `weights_only=True` for any use case where you don't have full control of the loaded file. Please open an issue on GitHub for any issues related to this experimental feature.\n",
      "\u001b[36m(_train_tune pid=29584)\u001b[0m   return torch.load(io.BytesIO(b))\n",
      "\u001b[36m(_train_tune pid=29584)\u001b[0m D:\\software\\miniconda3\\envs\\ts\\lib\\site-packages\\ray\\tune\\integration\\pytorch_lightning.py:194: UserWarning: `ray.tune.integration.pytorch_lightning.TuneReportCallback` is deprecated. Use `ray.tune.integration.pytorch_lightning.TuneReportCheckpointCallback` instead.\n",
      "\u001b[36m(_train_tune pid=29584)\u001b[0m   warnings.warn(\n",
      "\u001b[36m(_train_tune pid=29584)\u001b[0m Global seed set to 2\n",
      "\u001b[36m(_train_tune pid=29584)\u001b[0m GPU available: True (cuda), used: True\n",
      "\u001b[36m(_train_tune pid=29584)\u001b[0m TPU available: False, using: 0 TPU cores\n",
      "\u001b[36m(_train_tune pid=29584)\u001b[0m IPU available: False, using: 0 IPUs\n",
      "\u001b[36m(_train_tune pid=29584)\u001b[0m HPU available: False, using: 0 HPUs\n",
      "\u001b[36m(_train_tune pid=29584)\u001b[0m You are using a CUDA device ('NVIDIA GeForce RTX 4070') that has Tensor Cores. To properly utilize them, you should set `torch.set_float32_matmul_precision('medium' | 'high')` which will trade-off precision for performance. For more details, read https://pytorch.org/docs/stable/generated/torch.set_float32_matmul_precision.html#torch.set_float32_matmul_precision\n",
      "\u001b[36m(_train_tune pid=29584)\u001b[0m Missing logger folder: C:\\Users\\ADMINI~1\\AppData\\Local\\Temp\\ray\\session_2024-12-07_21-58-08_639308_21512\\artifacts\\2024-12-07_21-58-13\\_train_tune_2024-12-07_21-58-07\\working_dirs\\_train_tune_c1f2e0f1\\lightning_logs\n",
      "\u001b[36m(_train_tune pid=29584)\u001b[0m LOCAL_RANK: 0 - CUDA_VISIBLE_DEVICES: [0]\n",
      "\u001b[36m(_train_tune pid=29584)\u001b[0m \n",
      "\u001b[36m(_train_tune pid=29584)\u001b[0m   | Name         | Type          | Params\n",
      "\u001b[36m(_train_tune pid=29584)\u001b[0m -----------------------------------------------\n",
      "\u001b[36m(_train_tune pid=29584)\u001b[0m 0 | loss         | MAE           | 0     \n",
      "\u001b[36m(_train_tune pid=29584)\u001b[0m 1 | padder_train | ConstantPad1d | 0     \n",
      "\u001b[36m(_train_tune pid=29584)\u001b[0m 2 | scaler       | TemporalNorm  | 0     \n",
      "\u001b[36m(_train_tune pid=29584)\u001b[0m 3 | blocks       | ModuleList    | 2.4 M \n",
      "\u001b[36m(_train_tune pid=29584)\u001b[0m -----------------------------------------------\n",
      "\u001b[36m(_train_tune pid=29584)\u001b[0m 2.4 M     Trainable params\n",
      "\u001b[36m(_train_tune pid=29584)\u001b[0m 0         Non-trainable params\n",
      "\u001b[36m(_train_tune pid=29584)\u001b[0m 2.4 M     Total params\n",
      "\u001b[36m(_train_tune pid=29584)\u001b[0m 9.712     Total estimated model params size (MB)\n"
     ]
    },
    {
     "name": "stdout",
     "output_type": "stream",
     "text": [
      "Sanity Checking DataLoader 0:   0%|          | 0/1 [00:00<?, ?it/s]\n",
      "Epoch 0:   0%|          | 0/1 [00:00<?, ?it/s]                             \n",
      "Epoch 16:   0%|          | 0/1 [00:00<?, ?it/s, v_num=0, train_loss_step=37.60, train_loss_epoch=37.60]         \n",
      "Epoch 17:   0%|          | 0/1 [00:00<?, ?it/s, v_num=0, train_loss_step=38.60, train_loss_epoch=38.60]         \n",
      "Epoch 19:   0%|          | 0/1 [00:00<?, ?it/s, v_num=0, train_loss_step=35.90, train_loss_epoch=35.90]         \n",
      "Epoch 20:   0%|          | 0/1 [00:00<?, ?it/s, v_num=0, train_loss_step=33.60, train_loss_epoch=33.60]         \n",
      "Epoch 21: 100%|██████████| 1/1 [00:00<00:00, 166.67it/s, v_num=0, train_loss_step=29.00, train_loss_epoch=31.50]\n",
      "Epoch 23:   0%|          | 0/1 [00:00<?, ?it/s, v_num=0, train_loss_step=28.10, train_loss_epoch=28.10]         \n",
      "Epoch 24:   0%|          | 0/1 [00:00<?, ?it/s, v_num=0, train_loss_step=30.10, train_loss_epoch=30.10]         \n",
      "Epoch 26:   0%|          | 0/1 [00:00<?, ?it/s, v_num=0, train_loss_step=25.40, train_loss_epoch=25.40]         \n",
      "Epoch 27:   0%|          | 0/1 [00:00<?, ?it/s, v_num=0, train_loss_step=29.80, train_loss_epoch=29.80]         \n",
      "Epoch 28: 100%|██████████| 1/1 [00:00<00:00, 153.58it/s, v_num=0, train_loss_step=26.30, train_loss_epoch=26.30]\n",
      "Epoch 30:   0%|          | 0/1 [00:00<?, ?it/s, v_num=0, train_loss_step=22.80, train_loss_epoch=22.80]         \n",
      "Epoch 31:   0%|          | 0/1 [00:00<?, ?it/s, v_num=0, train_loss_step=24.70, train_loss_epoch=24.70]         \n",
      "Epoch 33:   0%|          | 0/1 [00:00<?, ?it/s, v_num=0, train_loss_step=22.90, train_loss_epoch=22.90]         \n",
      "Epoch 34:   0%|          | 0/1 [00:00<?, ?it/s, v_num=0, train_loss_step=21.90, train_loss_epoch=21.90]         \n",
      "Epoch 35:   0%|          | 0/1 [00:00<?, ?it/s, v_num=0, train_loss_step=20.50, train_loss_epoch=20.50]         \n",
      "Epoch 36:   0%|          | 0/1 [00:00<?, ?it/s, v_num=0, train_loss_step=21.60, train_loss_epoch=21.60]         \n",
      "Epoch 49: 100%|██████████| 1/1 [00:00<00:00, 153.55it/s, v_num=0, train_loss_step=17.70, train_loss_epoch=18.50]\n",
      "Validation: 0it [00:00, ?it/s]\u001b[A\n",
      "Validation:   0%|          | 0/1 [00:00<?, ?it/s]\u001b[A\n",
      "Validation DataLoader 0:   0%|          | 0/1 [00:00<?, ?it/s]\u001b[A\n",
      "Validation DataLoader 0: 100%|██████████| 1/1 [00:00<00:00, 285.11it/s]\u001b[A\n",
      "Epoch 49: 100%|██████████| 1/1 [00:00<00:00, 43.62it/s, v_num=0, train_loss_step=17.70, train_loss_epoch=18.50, valid_loss=27.00]\n",
      "Epoch 51:   0%|          | 0/1 [00:00<?, ?it/s, v_num=0, train_loss_step=17.60, train_loss_epoch=17.60, valid_loss=27.00]         \n",
      "Epoch 52:   0%|          | 0/1 [00:00<?, ?it/s, v_num=0, train_loss_step=17.00, train_loss_epoch=17.00, valid_loss=27.00]         \n",
      "Epoch 53:   0%|          | 0/1 [00:00<?, ?it/s, v_num=0, train_loss_step=16.90, train_loss_epoch=16.90, valid_loss=27.00]         \n",
      "Epoch 54: 100%|██████████| 1/1 [00:00<00:00, 133.17it/s, v_num=0, train_loss_step=16.20, train_loss_epoch=16.70, valid_loss=27.00]\n",
      "Epoch 56:   0%|          | 0/1 [00:00<?, ?it/s, v_num=0, train_loss_step=16.00, train_loss_epoch=16.00, valid_loss=27.00]         \n",
      "Epoch 57:   0%|          | 0/1 [00:00<?, ?it/s, v_num=0, train_loss_step=15.80, train_loss_epoch=15.80, valid_loss=27.00]         \n",
      "Epoch 58:   0%|          | 0/1 [00:00<?, ?it/s, v_num=0, train_loss_step=15.50, train_loss_epoch=15.50, valid_loss=27.00]         \n",
      "Epoch 60:   0%|          | 0/1 [00:00<?, ?it/s, v_num=0, train_loss_step=15.10, train_loss_epoch=15.10, valid_loss=27.00]         \n",
      "Epoch 61:   0%|          | 0/1 [00:00<?, ?it/s, v_num=0, train_loss_step=15.10, train_loss_epoch=15.10, valid_loss=27.00]         \n",
      "Epoch 62:   0%|          | 0/1 [00:00<?, ?it/s, v_num=0, train_loss_step=15.10, train_loss_epoch=15.10, valid_loss=27.00]         \n",
      "Epoch 64:   0%|          | 0/1 [00:00<?, ?it/s, v_num=0, train_loss_step=14.50, train_loss_epoch=14.50, valid_loss=27.00]         \n",
      "Epoch 64: 100%|██████████| 1/1 [00:00<00:00, 198.27it/s, v_num=0, train_loss_step=14.40, train_loss_epoch=14.40, valid_loss=27.00]\n",
      "Epoch 65:   0%|          | 0/1 [00:00<?, ?it/s, v_num=0, train_loss_step=14.40, train_loss_epoch=14.40, valid_loss=27.00]         \n",
      "Epoch 66: 100%|██████████| 1/1 [00:00<00:00, 153.57it/s, v_num=0, train_loss_step=14.10, train_loss_epoch=14.10, valid_loss=27.00]\n",
      "Epoch 68:   0%|          | 0/1 [00:00<?, ?it/s, v_num=0, train_loss_step=14.20, train_loss_epoch=14.20, valid_loss=27.00]         \n",
      "Epoch 69:   0%|          | 0/1 [00:00<?, ?it/s, v_num=0, train_loss_step=13.60, train_loss_epoch=13.60, valid_loss=27.00]         \n",
      "Epoch 71:   0%|          | 0/1 [00:00<?, ?it/s, v_num=0, train_loss_step=13.60, train_loss_epoch=13.60, valid_loss=27.00]         \n",
      "Epoch 72:   0%|          | 0/1 [00:00<?, ?it/s, v_num=0, train_loss_step=13.30, train_loss_epoch=13.30, valid_loss=27.00]         \n",
      "Epoch 73: 100%|██████████| 1/1 [00:00<00:00, 153.56it/s, v_num=0, train_loss_step=13.70, train_loss_epoch=13.70, valid_loss=27.00]\n",
      "Epoch 75:   0%|          | 0/1 [00:00<?, ?it/s, v_num=0, train_loss_step=13.40, train_loss_epoch=13.40, valid_loss=27.00]         \n",
      "Epoch 76:   0%|          | 0/1 [00:00<?, ?it/s, v_num=0, train_loss_step=13.20, train_loss_epoch=13.20, valid_loss=27.00]         \n",
      "Epoch 77:   0%|          | 0/1 [00:00<?, ?it/s, v_num=0, train_loss_step=13.10, train_loss_epoch=13.10, valid_loss=27.00]         \n",
      "Epoch 79:   0%|          | 0/1 [00:00<?, ?it/s, v_num=0, train_loss_step=13.10, train_loss_epoch=13.10, valid_loss=27.00]         \n",
      "Epoch 80:   0%|          | 0/1 [00:00<?, ?it/s, v_num=0, train_loss_step=12.90, train_loss_epoch=12.90, valid_loss=27.00]         \n",
      "Epoch 81: 100%|██████████| 1/1 [00:00<00:00, 181.44it/s, v_num=0, train_loss_step=13.20, train_loss_epoch=13.20, valid_loss=27.00]\n",
      "Epoch 83:   0%|          | 0/1 [00:00<?, ?it/s, v_num=0, train_loss_step=13.00, train_loss_epoch=13.00, valid_loss=27.00]         \n",
      "Epoch 84:   0%|          | 0/1 [00:00<?, ?it/s, v_num=0, train_loss_step=13.10, train_loss_epoch=13.10, valid_loss=27.00]         \n"
     ]
    },
    {
     "name": "stderr",
     "output_type": "stream",
     "text": [
      "\u001b[36m(_train_tune pid=29584)\u001b[0m `Trainer.fit` stopped: `max_steps=100` reached.\n",
      "2024-12-07 21:58:30,409\tINFO tensorboardx.py:311 -- Removed the following hyperparameter values when logging to tensorboard: {'loss': ('__ref_ph', 'de895953'), 'n_freq_downsample': (24, 12, 1), 'n_pool_kernel_size': (2, 2, 2), 'valid_loss': ('__ref_ph', '004b9a7a')}\n"
     ]
    },
    {
     "name": "stdout",
     "output_type": "stream",
     "text": [
      "Epoch 85:   0%|          | 0/1 [00:00<?, ?it/s, v_num=0, train_loss_step=12.90, train_loss_epoch=12.90, valid_loss=27.00]         \n",
      "Epoch 86: 100%|██████████| 1/1 [00:00<00:00, 121.84it/s, v_num=0, train_loss_step=12.90, train_loss_epoch=12.90, valid_loss=27.00]\n",
      "Epoch 88:   0%|          | 0/1 [00:00<?, ?it/s, v_num=0, train_loss_step=12.50, train_loss_epoch=12.50, valid_loss=27.00]         \n",
      "Epoch 89:   0%|          | 0/1 [00:00<?, ?it/s, v_num=0, train_loss_step=12.40, train_loss_epoch=12.40, valid_loss=27.00]         \n",
      "Epoch 91:   0%|          | 0/1 [00:00<?, ?it/s, v_num=0, train_loss_step=12.60, train_loss_epoch=12.60, valid_loss=27.00]         \n",
      "Epoch 92:   0%|          | 0/1 [00:00<?, ?it/s, v_num=0, train_loss_step=12.50, train_loss_epoch=12.50, valid_loss=27.00]         \n",
      "Epoch 93:   0%|          | 0/1 [00:00<?, ?it/s, v_num=0, train_loss_step=12.40, train_loss_epoch=12.40, valid_loss=27.00]         \n",
      "Epoch 94:   0%|          | 0/1 [00:00<?, ?it/s, v_num=0, train_loss_step=12.30, train_loss_epoch=12.30, valid_loss=27.00]         \n",
      "Epoch 94: 100%|██████████| 1/1 [00:00<00:00, 166.68it/s, v_num=0, train_loss_step=12.20, train_loss_epoch=12.20, valid_loss=27.00]\n",
      "Epoch 95:   0%|          | 0/1 [00:00<?, ?it/s, v_num=0, train_loss_step=12.20, train_loss_epoch=12.20, valid_loss=27.00]         \n",
      "Epoch 97:   0%|          | 0/1 [00:00<?, ?it/s, v_num=0, train_loss_step=12.30, train_loss_epoch=12.30, valid_loss=27.00]         \n",
      "Epoch 98:   0%|          | 0/1 [00:00<?, ?it/s, v_num=0, train_loss_step=12.10, train_loss_epoch=12.10, valid_loss=27.00]         \n",
      "Epoch 99: 100%|██████████| 1/1 [00:00<00:00, 221.91it/s, v_num=0, train_loss_step=12.30, train_loss_epoch=12.30, valid_loss=27.00]\n",
      "\u001b[36m(_train_tune pid=29584)\u001b[0m \n",
      "Validation: 0it [00:00, ?it/s]\u001b[A\n",
      "Validation:   0%|          | 0/1 [00:00<?, ?it/s]\u001b[A\n",
      "Validation DataLoader 0:   0%|          | 0/1 [00:00<?, ?it/s]\u001b[A\n",
      "Epoch 99: 100%|██████████| 1/1 [00:00<00:00, 66.60it/s, v_num=0, train_loss_step=12.30, train_loss_epoch=12.30, valid_loss=20.00] \n",
      "Epoch 99: 100%|██████████| 1/1 [00:00<00:00, 66.60it/s, v_num=0, train_loss_step=12.30, train_loss_epoch=12.30, valid_loss=20.00]\n",
      "Epoch 99: 100%|██████████| 1/1 [00:00<00:00, 62.44it/s, v_num=0, train_loss_step=12.30, train_loss_epoch=12.30, valid_loss=20.00]\n"
     ]
    },
    {
     "name": "stderr",
     "output_type": "stream",
     "text": [
      "\u001b[36m(_train_tune pid=28456)\u001b[0m D:\\software\\miniconda3\\envs\\ts\\lib\\site-packages\\torch\\storage.py:414: FutureWarning: You are using `torch.load` with `weights_only=False` (the current default value), which uses the default pickle module implicitly. It is possible to construct malicious pickle data which will execute arbitrary code during unpickling (See https://github.com/pytorch/pytorch/blob/main/SECURITY.md#untrusted-models for more details). In a future release, the default value for `weights_only` will be flipped to `True`. This limits the functions that could be executed during unpickling. Arbitrary objects will no longer be allowed to be loaded via this mode unless they are explicitly allowlisted by the user via `torch.serialization.add_safe_globals`. We recommend you start setting `weights_only=True` for any use case where you don't have full control of the loaded file. Please open an issue on GitHub for any issues related to this experimental feature.\n",
      "\u001b[36m(_train_tune pid=28456)\u001b[0m   return torch.load(io.BytesIO(b))\n",
      "\u001b[36m(_train_tune pid=28456)\u001b[0m D:\\software\\miniconda3\\envs\\ts\\lib\\site-packages\\ray\\tune\\integration\\pytorch_lightning.py:194: UserWarning: `ray.tune.integration.pytorch_lightning.TuneReportCallback` is deprecated. Use `ray.tune.integration.pytorch_lightning.TuneReportCheckpointCallback` instead.\n",
      "\u001b[36m(_train_tune pid=28456)\u001b[0m   warnings.warn(\n",
      "\u001b[36m(_train_tune pid=28456)\u001b[0m Global seed set to 9\n",
      "\u001b[36m(_train_tune pid=28456)\u001b[0m GPU available: True (cuda), used: True\n",
      "\u001b[36m(_train_tune pid=28456)\u001b[0m TPU available: False, using: 0 TPU cores\n",
      "\u001b[36m(_train_tune pid=28456)\u001b[0m IPU available: False, using: 0 IPUs\n",
      "\u001b[36m(_train_tune pid=28456)\u001b[0m HPU available: False, using: 0 HPUs\n",
      "\u001b[36m(_train_tune pid=28456)\u001b[0m You are using a CUDA device ('NVIDIA GeForce RTX 4070') that has Tensor Cores. To properly utilize them, you should set `torch.set_float32_matmul_precision('medium' | 'high')` which will trade-off precision for performance. For more details, read https://pytorch.org/docs/stable/generated/torch.set_float32_matmul_precision.html#torch.set_float32_matmul_precision\n",
      "\u001b[36m(_train_tune pid=28456)\u001b[0m Missing logger folder: C:\\Users\\ADMINI~1\\AppData\\Local\\Temp\\ray\\session_2024-12-07_21-58-08_639308_21512\\artifacts\\2024-12-07_21-58-13\\_train_tune_2024-12-07_21-58-07\\working_dirs\\_train_tune_527653e3\\lightning_logs\n",
      "\u001b[36m(_train_tune pid=28456)\u001b[0m LOCAL_RANK: 0 - CUDA_VISIBLE_DEVICES: [0]\n",
      "\u001b[36m(_train_tune pid=28456)\u001b[0m \n",
      "\u001b[36m(_train_tune pid=28456)\u001b[0m   | Name         | Type          | Params\n",
      "\u001b[36m(_train_tune pid=28456)\u001b[0m -----------------------------------------------\n",
      "\u001b[36m(_train_tune pid=28456)\u001b[0m 0 | loss         | MAE           | 0     \n",
      "\u001b[36m(_train_tune pid=28456)\u001b[0m 1 | padder_train | ConstantPad1d | 0     \n",
      "\u001b[36m(_train_tune pid=28456)\u001b[0m 2 | scaler       | TemporalNorm  | 0     \n",
      "\u001b[36m(_train_tune pid=28456)\u001b[0m 3 | blocks       | ModuleList    | 2.4 M \n",
      "\u001b[36m(_train_tune pid=28456)\u001b[0m -----------------------------------------------\n",
      "\u001b[36m(_train_tune pid=28456)\u001b[0m 2.4 M     Trainable params\n",
      "\u001b[36m(_train_tune pid=28456)\u001b[0m 0         Non-trainable params\n",
      "\u001b[36m(_train_tune pid=28456)\u001b[0m 2.4 M     Total params\n",
      "\u001b[36m(_train_tune pid=28456)\u001b[0m 9.743     Total estimated model params size (MB)\n"
     ]
    },
    {
     "name": "stdout",
     "output_type": "stream",
     "text": [
      "Sanity Checking DataLoader 0:   0%|          | 0/1 [00:00<?, ?it/s]\n",
      "Epoch 0:   0%|          | 0/1 [00:00<?, ?it/s]                             \n",
      "Epoch 7: 100%|██████████| 1/1 [00:00<00:00, 166.51it/s, v_num=0, train_loss_step=41.50, train_loss_epoch=41.50]\n",
      "Epoch 8:   0%|          | 0/1 [00:00<?, ?it/s, v_num=0, train_loss_step=41.50, train_loss_epoch=41.50]         \n",
      "Epoch 9:   0%|          | 0/1 [00:00<?, ?it/s, v_num=0, train_loss_step=40.70, train_loss_epoch=40.70]         \n",
      "Epoch 9: 100%|██████████| 1/1 [00:00<00:00, 153.77it/s, v_num=0, train_loss_step=42.10, train_loss_epoch=42.10]\n",
      "Epoch 11:   0%|          | 0/1 [00:00<?, ?it/s, v_num=0, train_loss_step=41.30, train_loss_epoch=41.30]         \n",
      "Epoch 12: 100%|██████████| 1/1 [00:00<00:00, 181.71it/s, v_num=0, train_loss_step=39.80, train_loss_epoch=39.80]\n",
      "Epoch 14:   0%|          | 0/1 [00:00<?, ?it/s, v_num=0, train_loss_step=40.90, train_loss_epoch=40.90]         \n",
      "Epoch 15: 100%|██████████| 1/1 [00:00<00:00, 166.70it/s, v_num=0, train_loss_step=40.90, train_loss_epoch=39.50]\n",
      "Epoch 15: 100%|██████████| 1/1 [00:00<00:00, 166.70it/s, v_num=0, train_loss_step=40.90, train_loss_epoch=40.90]\n",
      "Epoch 17:   0%|          | 0/1 [00:00<?, ?it/s, v_num=0, train_loss_step=40.10, train_loss_epoch=40.10]         \n",
      "Epoch 18: 100%|██████████| 1/1 [00:00<00:00, 166.67it/s, v_num=0, train_loss_step=40.30, train_loss_epoch=40.30]\n",
      "Epoch 20:   0%|          | 0/1 [00:00<?, ?it/s, v_num=0, train_loss_step=40.50, train_loss_epoch=40.50]         \n",
      "Epoch 21:   0%|          | 0/1 [00:00<?, ?it/s, v_num=0, train_loss_step=38.90, train_loss_epoch=38.90]         \n",
      "Epoch 23:   0%|          | 0/1 [00:00<?, ?it/s, v_num=0, train_loss_step=40.00, train_loss_epoch=40.00]         \n",
      "Epoch 24:   0%|          | 0/1 [00:00<?, ?it/s, v_num=0, train_loss_step=40.40, train_loss_epoch=40.40]         \n",
      "Epoch 26:   0%|          | 0/1 [00:00<?, ?it/s, v_num=0, train_loss_step=39.10, train_loss_epoch=39.10]         \n",
      "Epoch 27:   0%|          | 0/1 [00:00<?, ?it/s, v_num=0, train_loss_step=40.30, train_loss_epoch=40.30]         \n",
      "Epoch 29:   0%|          | 0/1 [00:00<?, ?it/s, v_num=0, train_loss_step=40.60, train_loss_epoch=40.60]         \n",
      "Epoch 30: 100%|██████████| 1/1 [00:00<00:00, 153.67it/s, v_num=0, train_loss_step=39.30, train_loss_epoch=39.30]\n",
      "Epoch 32:   0%|          | 0/1 [00:00<?, ?it/s, v_num=0, train_loss_step=39.60, train_loss_epoch=39.60]         \n",
      "Epoch 33: 100%|██████████| 1/1 [00:00<00:00, 181.71it/s, v_num=0, train_loss_step=39.20, train_loss_epoch=39.20]\n",
      "Epoch 35:   0%|          | 0/1 [00:00<?, ?it/s, v_num=0, train_loss_step=39.00, train_loss_epoch=39.00]         \n",
      "Epoch 37:   0%|          | 0/1 [00:00<?, ?it/s, v_num=0, train_loss_step=38.90, train_loss_epoch=38.90]         \n",
      "Epoch 38:   0%|          | 0/1 [00:00<?, ?it/s, v_num=0, train_loss_step=38.90, train_loss_epoch=38.90]         \n",
      "Epoch 40:   0%|          | 0/1 [00:00<?, ?it/s, v_num=0, train_loss_step=38.90, train_loss_epoch=38.90]         \n",
      "Epoch 41:   0%|          | 0/1 [00:00<?, ?it/s, v_num=0, train_loss_step=38.00, train_loss_epoch=38.00]         \n",
      "Epoch 43:   0%|          | 0/1 [00:00<?, ?it/s, v_num=0, train_loss_step=38.70, train_loss_epoch=38.70]         \n",
      "Epoch 44:   0%|          | 0/1 [00:00<?, ?it/s, v_num=0, train_loss_step=39.10, train_loss_epoch=39.10]         \n",
      "Epoch 45: 100%|██████████| 1/1 [00:00<00:00, 153.66it/s, v_num=0, train_loss_step=38.10, train_loss_epoch=38.10]\n",
      "Epoch 47:   0%|          | 0/1 [00:00<?, ?it/s, v_num=0, train_loss_step=38.20, train_loss_epoch=38.20]         \n",
      "Epoch 48:   0%|          | 0/1 [00:00<?, ?it/s, v_num=0, train_loss_step=37.90, train_loss_epoch=37.90]         \n",
      "Epoch 49: 100%|██████████| 1/1 [00:00<00:00, 166.65it/s, v_num=0, train_loss_step=39.20, train_loss_epoch=38.40]\n",
      "\u001b[36m(_train_tune pid=28456)\u001b[0m \n",
      "Validation: 0it [00:00, ?it/s]\u001b[A\n",
      "Validation:   0%|          | 0/1 [00:00<?, ?it/s]\u001b[A\n",
      "Validation DataLoader 0:   0%|          | 0/1 [00:00<?, ?it/s]\u001b[A\n",
      "Validation DataLoader 0: 100%|██████████| 1/1 [00:00<00:00, 330.39it/s]\u001b[A\n",
      "Epoch 49: 100%|██████████| 1/1 [00:00<00:00, 36.87it/s, v_num=0, train_loss_step=39.20, train_loss_epoch=38.40, valid_loss=63.70]\n",
      "Epoch 64:   0%|          | 0/1 [00:00<?, ?it/s, v_num=0, train_loss_step=36.90, train_loss_epoch=36.90, valid_loss=63.70]         \n",
      "Epoch 65: 100%|██████████| 1/1 [00:00<00:00, 155.24it/s, v_num=0, train_loss_step=36.70, train_loss_epoch=36.70, valid_loss=63.70]\n",
      "Epoch 67:   0%|          | 0/1 [00:00<?, ?it/s, v_num=0, train_loss_step=36.60, train_loss_epoch=36.60, valid_loss=63.70]         \n",
      "Epoch 67: 100%|██████████| 1/1 [00:00<00:00, 79.91it/s, v_num=0, train_loss_step=37.60, train_loss_epoch=37.60, valid_loss=63.70]\n",
      "Epoch 68:   0%|          | 0/1 [00:00<?, ?it/s, v_num=0, train_loss_step=37.60, train_loss_epoch=37.60, valid_loss=63.70]        \n",
      "Epoch 69:   0%|          | 0/1 [00:00<?, ?it/s, v_num=0, train_loss_step=37.10, train_loss_epoch=37.10, valid_loss=63.70]        \n",
      "Epoch 70:   0%|          | 0/1 [00:00<?, ?it/s, v_num=0, train_loss_step=36.80, train_loss_epoch=36.80, valid_loss=63.70]         \n",
      "Epoch 71: 100%|██████████| 1/1 [00:00<00:00, 138.48it/s, v_num=0, train_loss_step=36.20, train_loss_epoch=37.10, valid_loss=63.70]\n",
      "Epoch 73:   0%|          | 0/1 [00:00<?, ?it/s, v_num=0, train_loss_step=37.10, train_loss_epoch=37.10, valid_loss=63.70]         \n",
      "Epoch 74:   0%|          | 0/1 [00:00<?, ?it/s, v_num=0, train_loss_step=36.30, train_loss_epoch=36.30, valid_loss=63.70]         \n",
      "Epoch 75:   0%|          | 0/1 [00:00<?, ?it/s, v_num=0, train_loss_step=36.80, train_loss_epoch=36.80, valid_loss=63.70]         \n",
      "Epoch 75: 100%|██████████| 1/1 [00:00<00:00, 165.52it/s, v_num=0, train_loss_step=36.00, train_loss_epoch=36.00, valid_loss=63.70]\n",
      "Epoch 76:   0%|          | 0/1 [00:00<?, ?it/s, v_num=0, train_loss_step=36.00, train_loss_epoch=36.00, valid_loss=63.70]         \n",
      "Epoch 77:   0%|          | 0/1 [00:00<?, ?it/s, v_num=0, train_loss_step=38.00, train_loss_epoch=38.00, valid_loss=63.70]         \n",
      "Epoch 78:   0%|          | 0/1 [00:00<?, ?it/s, v_num=0, train_loss_step=36.20, train_loss_epoch=36.20, valid_loss=63.70]         \n",
      "Epoch 79:   0%|          | 0/1 [00:00<?, ?it/s, v_num=0, train_loss_step=36.90, train_loss_epoch=36.90, valid_loss=63.70]         \n"
     ]
    },
    {
     "name": "stderr",
     "output_type": "stream",
     "text": [
      "\u001b[36m(_train_tune pid=28456)\u001b[0m `Trainer.fit` stopped: `max_steps=100` reached.\n",
      "2024-12-07 21:58:38,444\tINFO tensorboardx.py:311 -- Removed the following hyperparameter values when logging to tensorboard: {'loss': ('__ref_ph', 'de895953'), 'n_freq_downsample': (1, 1, 1), 'n_pool_kernel_size': (16, 8, 1), 'valid_loss': ('__ref_ph', '004b9a7a')}\n"
     ]
    },
    {
     "name": "stdout",
     "output_type": "stream",
     "text": [
      "Epoch 96:   0%|          | 0/1 [00:00<?, ?it/s, v_num=0, train_loss_step=36.30, train_loss_epoch=36.30, valid_loss=63.70]         \n",
      "Epoch 97:   0%|          | 0/1 [00:00<?, ?it/s, v_num=0, train_loss_step=35.80, train_loss_epoch=35.80, valid_loss=63.70]         \n",
      "Epoch 99:   0%|          | 0/1 [00:00<?, ?it/s, v_num=0, train_loss_step=35.70, train_loss_epoch=35.70, valid_loss=63.70]         \n",
      "Epoch 99: 100%|██████████| 1/1 [00:00<00:00, 200.03it/s, v_num=0, train_loss_step=35.40, train_loss_epoch=35.70, valid_loss=63.70]\n",
      "Validation: 0it [00:00, ?it/s]\u001b[A\n",
      "Validation:   0%|          | 0/1 [00:00<?, ?it/s]\u001b[A\n",
      "Validation DataLoader 0:   0%|          | 0/1 [00:00<?, ?it/s]\u001b[A\n",
      "Validation DataLoader 0: 100%|██████████| 1/1 [00:00<00:00, 328.66it/s]\u001b[A\n",
      "Epoch 99: 100%|██████████| 1/1 [00:00<00:00, 64.32it/s, v_num=0, train_loss_step=35.40, train_loss_epoch=35.70, valid_loss=58.80] \n",
      "Epoch 99: 100%|██████████| 1/1 [00:00<00:00, 60.43it/s, v_num=0, train_loss_step=35.40, train_loss_epoch=35.40, valid_loss=58.80]\n"
     ]
    },
    {
     "name": "stderr",
     "output_type": "stream",
     "text": [
      "\u001b[36m(_train_tune pid=27784)\u001b[0m D:\\software\\miniconda3\\envs\\ts\\lib\\site-packages\\torch\\storage.py:414: FutureWarning: You are using `torch.load` with `weights_only=False` (the current default value), which uses the default pickle module implicitly. It is possible to construct malicious pickle data which will execute arbitrary code during unpickling (See https://github.com/pytorch/pytorch/blob/main/SECURITY.md#untrusted-models for more details). In a future release, the default value for `weights_only` will be flipped to `True`. This limits the functions that could be executed during unpickling. Arbitrary objects will no longer be allowed to be loaded via this mode unless they are explicitly allowlisted by the user via `torch.serialization.add_safe_globals`. We recommend you start setting `weights_only=True` for any use case where you don't have full control of the loaded file. Please open an issue on GitHub for any issues related to this experimental feature.\n",
      "\u001b[36m(_train_tune pid=27784)\u001b[0m   return torch.load(io.BytesIO(b))\n",
      "\u001b[36m(_train_tune pid=27784)\u001b[0m D:\\software\\miniconda3\\envs\\ts\\lib\\site-packages\\ray\\tune\\integration\\pytorch_lightning.py:194: UserWarning: `ray.tune.integration.pytorch_lightning.TuneReportCallback` is deprecated. Use `ray.tune.integration.pytorch_lightning.TuneReportCheckpointCallback` instead.\n",
      "\u001b[36m(_train_tune pid=27784)\u001b[0m   warnings.warn(\n",
      "\u001b[36m(_train_tune pid=27784)\u001b[0m Global seed set to 7\n",
      "\u001b[36m(_train_tune pid=27784)\u001b[0m GPU available: True (cuda), used: True\n",
      "\u001b[36m(_train_tune pid=27784)\u001b[0m TPU available: False, using: 0 TPU cores\n",
      "\u001b[36m(_train_tune pid=27784)\u001b[0m IPU available: False, using: 0 IPUs\n",
      "\u001b[36m(_train_tune pid=27784)\u001b[0m HPU available: False, using: 0 HPUs\n",
      "\u001b[36m(_train_tune pid=27784)\u001b[0m You are using a CUDA device ('NVIDIA GeForce RTX 4070') that has Tensor Cores. To properly utilize them, you should set `torch.set_float32_matmul_precision('medium' | 'high')` which will trade-off precision for performance. For more details, read https://pytorch.org/docs/stable/generated/torch.set_float32_matmul_precision.html#torch.set_float32_matmul_precision\n",
      "\u001b[36m(_train_tune pid=27784)\u001b[0m Missing logger folder: C:\\Users\\ADMINI~1\\AppData\\Local\\Temp\\ray\\session_2024-12-07_21-58-08_639308_21512\\artifacts\\2024-12-07_21-58-13\\_train_tune_2024-12-07_21-58-07\\working_dirs\\_train_tune_1e067e90\\lightning_logs\n",
      "\u001b[36m(_train_tune pid=27784)\u001b[0m LOCAL_RANK: 0 - CUDA_VISIBLE_DEVICES: [0]\n",
      "\u001b[36m(_train_tune pid=27784)\u001b[0m \n",
      "\u001b[36m(_train_tune pid=27784)\u001b[0m   | Name         | Type          | Params\n",
      "\u001b[36m(_train_tune pid=27784)\u001b[0m -----------------------------------------------\n",
      "\u001b[36m(_train_tune pid=27784)\u001b[0m 0 | loss         | MAE           | 0     \n",
      "\u001b[36m(_train_tune pid=27784)\u001b[0m 1 | padder_train | ConstantPad1d | 0     \n",
      "\u001b[36m(_train_tune pid=27784)\u001b[0m 2 | scaler       | TemporalNorm  | 0     \n",
      "\u001b[36m(_train_tune pid=27784)\u001b[0m 3 | blocks       | ModuleList    | 2.4 M \n",
      "\u001b[36m(_train_tune pid=27784)\u001b[0m -----------------------------------------------\n",
      "\u001b[36m(_train_tune pid=27784)\u001b[0m 2.4 M     Trainable params\n",
      "\u001b[36m(_train_tune pid=27784)\u001b[0m 0         Non-trainable params\n",
      "\u001b[36m(_train_tune pid=27784)\u001b[0m 2.4 M     Total params\n",
      "\u001b[36m(_train_tune pid=27784)\u001b[0m 9.698     Total estimated model params size (MB)\n"
     ]
    },
    {
     "name": "stdout",
     "output_type": "stream",
     "text": [
      "Sanity Checking DataLoader 0:   0%|          | 0/1 [00:00<?, ?it/s]\n",
      "Epoch 0:   0%|          | 0/1 [00:00<?, ?it/s]                             \n",
      "Epoch 5:   0%|          | 0/1 [00:00<?, ?it/s, v_num=0, train_loss_step=51.30, train_loss_epoch=51.30]         \n",
      "Epoch 7:   0%|          | 0/1 [00:00<?, ?it/s, v_num=0, train_loss_step=45.80, train_loss_epoch=45.80]         \n",
      "Epoch 8:   0%|          | 0/1 [00:00<?, ?it/s, v_num=0, train_loss_step=42.30, train_loss_epoch=42.30]         \n",
      "Epoch 9:   0%|          | 0/1 [00:00<?, ?it/s, v_num=0, train_loss_step=40.70, train_loss_epoch=40.70]         \n",
      "Epoch 10: 100%|██████████| 1/1 [00:00<00:00, 151.44it/s, v_num=0, train_loss_step=39.80, train_loss_epoch=39.80]\n",
      "Epoch 12:   0%|          | 0/1 [00:00<?, ?it/s, v_num=0, train_loss_step=40.70, train_loss_epoch=40.70]         \n",
      "Epoch 13:   0%|          | 0/1 [00:00<?, ?it/s, v_num=0, train_loss_step=40.90, train_loss_epoch=40.90]         \n",
      "Epoch 14:   0%|          | 0/1 [00:00<?, ?it/s, v_num=0, train_loss_step=39.70, train_loss_epoch=39.70]         \n",
      "Epoch 15: 100%|██████████| 1/1 [00:00<00:00, 142.44it/s, v_num=0, train_loss_step=38.10, train_loss_epoch=39.10]\n",
      "Epoch 17:   0%|          | 0/1 [00:00<?, ?it/s, v_num=0, train_loss_step=37.20, train_loss_epoch=37.20]         \n",
      "Epoch 17: 100%|██████████| 1/1 [00:00<00:00, 153.70it/s, v_num=0, train_loss_step=36.00, train_loss_epoch=36.00]\n",
      "Epoch 18:   0%|          | 0/1 [00:00<?, ?it/s, v_num=0, train_loss_step=36.00, train_loss_epoch=36.00]         \n",
      "Epoch 19:   0%|          | 0/1 [00:00<?, ?it/s, v_num=0, train_loss_step=33.40, train_loss_epoch=33.40]         \n",
      "Epoch 20:   0%|          | 0/1 [00:00<?, ?it/s, v_num=0, train_loss_step=32.50, train_loss_epoch=32.50]         \n",
      "Epoch 37:   0%|          | 0/1 [00:00<?, ?it/s, v_num=0, train_loss_step=22.80, train_loss_epoch=22.80]         \n",
      "Epoch 38:   0%|          | 0/1 [00:00<?, ?it/s, v_num=0, train_loss_step=22.30, train_loss_epoch=22.30]         \n",
      "Epoch 39:   0%|          | 0/1 [00:00<?, ?it/s, v_num=0, train_loss_step=20.50, train_loss_epoch=20.50]         \n",
      "Epoch 41:   0%|          | 0/1 [00:00<?, ?it/s, v_num=0, train_loss_step=22.10, train_loss_epoch=22.10]         \n",
      "Epoch 42:   0%|          | 0/1 [00:00<?, ?it/s, v_num=0, train_loss_step=20.80, train_loss_epoch=20.80]         \n",
      "Epoch 44:   0%|          | 0/1 [00:00<?, ?it/s, v_num=0, train_loss_step=20.90, train_loss_epoch=20.90]         \n",
      "Epoch 45: 100%|██████████| 1/1 [00:00<00:00, 166.53it/s, v_num=0, train_loss_step=19.30, train_loss_epoch=19.30]\n",
      "Epoch 47:   0%|          | 0/1 [00:00<?, ?it/s, v_num=0, train_loss_step=19.40, train_loss_epoch=19.40]         \n",
      "Epoch 49:   0%|          | 0/1 [00:00<?, ?it/s, v_num=0, train_loss_step=18.50, train_loss_epoch=18.50]         \n",
      "Epoch 49: 100%|██████████| 1/1 [00:00<00:00, 181.59it/s, v_num=0, train_loss_step=18.50, train_loss_epoch=18.50]\n",
      "Validation: 0it [00:00, ?it/s]\u001b[A\n",
      "Validation:   0%|          | 0/1 [00:00<?, ?it/s]\u001b[A\n",
      "Validation DataLoader 0:   0%|          | 0/1 [00:00<?, ?it/s]\u001b[A\n",
      "Validation DataLoader 0: 100%|██████████| 1/1 [00:00<00:00, 499.98it/s]\u001b[A\n",
      "Epoch 49: 100%|██████████| 1/1 [00:00<00:00, 36.88it/s, v_num=0, train_loss_step=18.50, train_loss_epoch=18.50, valid_loss=28.40]\n",
      "Epoch 65:   0%|          | 0/1 [00:00<?, ?it/s, v_num=0, train_loss_step=15.30, train_loss_epoch=15.30, valid_loss=28.40]         \n",
      "Epoch 67:   0%|          | 0/1 [00:00<?, ?it/s, v_num=0, train_loss_step=15.10, train_loss_epoch=15.10, valid_loss=28.40]         \n",
      "Epoch 68: 100%|██████████| 1/1 [00:00<00:00, 166.53it/s, v_num=0, train_loss_step=14.50, train_loss_epoch=14.50, valid_loss=28.40]\n",
      "Epoch 70:   0%|          | 0/1 [00:00<?, ?it/s, v_num=0, train_loss_step=14.80, train_loss_epoch=14.80, valid_loss=28.40]         \n",
      "Epoch 72:   0%|          | 0/1 [00:00<?, ?it/s, v_num=0, train_loss_step=14.80, train_loss_epoch=14.80, valid_loss=28.40]         \n",
      "Epoch 73:   0%|          | 0/1 [00:00<?, ?it/s, v_num=0, train_loss_step=14.30, train_loss_epoch=14.30, valid_loss=28.40]         \n",
      "Epoch 75:   0%|          | 0/1 [00:00<?, ?it/s, v_num=0, train_loss_step=14.10, train_loss_epoch=14.10, valid_loss=28.40]         \n",
      "Epoch 76: 100%|██████████| 1/1 [00:00<00:00, 166.67it/s, v_num=0, train_loss_step=14.30, train_loss_epoch=14.30, valid_loss=28.40]\n",
      "Epoch 78:   0%|          | 0/1 [00:00<?, ?it/s, v_num=0, train_loss_step=14.00, train_loss_epoch=14.00, valid_loss=28.40]         \n",
      "Epoch 79: 100%|██████████| 1/1 [00:00<00:00, 200.00it/s, v_num=0, train_loss_step=14.00, train_loss_epoch=14.00, valid_loss=28.40]\n",
      "Epoch 81:   0%|          | 0/1 [00:00<?, ?it/s, v_num=0, train_loss_step=13.60, train_loss_epoch=13.60, valid_loss=28.40]         \n",
      "Epoch 83:   0%|          | 0/1 [00:00<?, ?it/s, v_num=0, train_loss_step=13.50, train_loss_epoch=13.50, valid_loss=28.40]         \n",
      "Epoch 84:   0%|          | 0/1 [00:00<?, ?it/s, v_num=0, train_loss_step=13.30, train_loss_epoch=13.30, valid_loss=28.40]         \n",
      "Epoch 85: 100%|██████████| 1/1 [00:00<00:00, 166.67it/s, v_num=0, train_loss_step=13.30, train_loss_epoch=13.30, valid_loss=28.40]\n",
      "Epoch 86:   0%|          | 0/1 [00:00<?, ?it/s, v_num=0, train_loss_step=14.00, train_loss_epoch=14.00, valid_loss=28.40]         \n",
      "Epoch 87:   0%|          | 0/1 [00:00<?, ?it/s, v_num=0, train_loss_step=13.40, train_loss_epoch=13.40, valid_loss=28.40]         \n",
      "Epoch 88:   0%|          | 0/1 [00:00<?, ?it/s, v_num=0, train_loss_step=13.30, train_loss_epoch=13.30, valid_loss=28.40]         \n",
      "Epoch 89:   0%|          | 0/1 [00:00<?, ?it/s, v_num=0, train_loss_step=13.50, train_loss_epoch=13.50, valid_loss=28.40]         \n",
      "Epoch 91:   0%|          | 0/1 [00:00<?, ?it/s, v_num=0, train_loss_step=13.40, train_loss_epoch=13.40, valid_loss=28.40]         \n",
      "Epoch 92:   0%|          | 0/1 [00:00<?, ?it/s, v_num=0, train_loss_step=13.10, train_loss_epoch=13.10, valid_loss=28.40]         \n",
      "Epoch 94:   0%|          | 0/1 [00:00<?, ?it/s, v_num=0, train_loss_step=12.90, train_loss_epoch=12.90, valid_loss=28.40]         \n"
     ]
    },
    {
     "name": "stderr",
     "output_type": "stream",
     "text": [
      "\u001b[36m(_train_tune pid=27784)\u001b[0m `Trainer.fit` stopped: `max_steps=100` reached.\n",
      "2024-12-07 21:58:46,521\tINFO tensorboardx.py:311 -- Removed the following hyperparameter values when logging to tensorboard: {'loss': ('__ref_ph', 'de895953'), 'n_freq_downsample': (24, 12, 1), 'n_pool_kernel_size': (16, 8, 1), 'valid_loss': ('__ref_ph', '004b9a7a')}\n"
     ]
    },
    {
     "name": "stdout",
     "output_type": "stream",
     "text": [
      "Epoch 95:   0%|          | 0/1 [00:00<?, ?it/s, v_num=0, train_loss_step=12.90, train_loss_epoch=12.90, valid_loss=28.40]         \n",
      "Epoch 96: 100%|██████████| 1/1 [00:00<00:00, 132.49it/s, v_num=0, train_loss_step=12.90, train_loss_epoch=12.90, valid_loss=28.40]\n",
      "Epoch 98:   0%|          | 0/1 [00:00<?, ?it/s, v_num=0, train_loss_step=12.90, train_loss_epoch=12.90, valid_loss=28.40]         \n",
      "Epoch 99:   0%|          | 0/1 [00:00<?, ?it/s, v_num=0, train_loss_step=12.90, train_loss_epoch=12.90, valid_loss=28.40]         \n",
      "Epoch 99: 100%|██████████| 1/1 [00:00<00:00, 153.64it/s, v_num=0, train_loss_step=13.20, train_loss_epoch=12.90, valid_loss=28.40]\n",
      "Validation: 0it [00:00, ?it/s]\u001b[A\n",
      "Validation:   0%|          | 0/1 [00:00<?, ?it/s]\u001b[A\n",
      "Validation DataLoader 0:   0%|          | 0/1 [00:00<?, ?it/s]\u001b[A\n",
      "Validation DataLoader 0: 100%|██████████| 1/1 [00:00<00:00, 486.35it/s]\u001b[A\n",
      "Epoch 99: 100%|██████████| 1/1 [00:00<00:00, 47.25it/s, v_num=0, train_loss_step=13.20, train_loss_epoch=12.90, valid_loss=19.90] \n",
      "Epoch 99: 100%|██████████| 1/1 [00:00<00:00, 43.17it/s, v_num=0, train_loss_step=13.20, train_loss_epoch=13.20, valid_loss=19.90]\n"
     ]
    },
    {
     "name": "stderr",
     "output_type": "stream",
     "text": [
      "\u001b[36m(_train_tune pid=28964)\u001b[0m D:\\software\\miniconda3\\envs\\ts\\lib\\site-packages\\torch\\storage.py:414: FutureWarning: You are using `torch.load` with `weights_only=False` (the current default value), which uses the default pickle module implicitly. It is possible to construct malicious pickle data which will execute arbitrary code during unpickling (See https://github.com/pytorch/pytorch/blob/main/SECURITY.md#untrusted-models for more details). In a future release, the default value for `weights_only` will be flipped to `True`. This limits the functions that could be executed during unpickling. Arbitrary objects will no longer be allowed to be loaded via this mode unless they are explicitly allowlisted by the user via `torch.serialization.add_safe_globals`. We recommend you start setting `weights_only=True` for any use case where you don't have full control of the loaded file. Please open an issue on GitHub for any issues related to this experimental feature.\n",
      "\u001b[36m(_train_tune pid=28964)\u001b[0m   return torch.load(io.BytesIO(b))\n",
      "\u001b[36m(_train_tune pid=28964)\u001b[0m D:\\software\\miniconda3\\envs\\ts\\lib\\site-packages\\ray\\tune\\integration\\pytorch_lightning.py:194: UserWarning: `ray.tune.integration.pytorch_lightning.TuneReportCallback` is deprecated. Use `ray.tune.integration.pytorch_lightning.TuneReportCheckpointCallback` instead.\n",
      "\u001b[36m(_train_tune pid=28964)\u001b[0m   warnings.warn(\n",
      "\u001b[36m(_train_tune pid=28964)\u001b[0m Global seed set to 7\n",
      "\u001b[36m(_train_tune pid=28964)\u001b[0m GPU available: True (cuda), used: True\n",
      "\u001b[36m(_train_tune pid=28964)\u001b[0m TPU available: False, using: 0 TPU cores\n",
      "\u001b[36m(_train_tune pid=28964)\u001b[0m IPU available: False, using: 0 IPUs\n",
      "\u001b[36m(_train_tune pid=28964)\u001b[0m HPU available: False, using: 0 HPUs\n",
      "\u001b[36m(_train_tune pid=28964)\u001b[0m You are using a CUDA device ('NVIDIA GeForce RTX 4070') that has Tensor Cores. To properly utilize them, you should set `torch.set_float32_matmul_precision('medium' | 'high')` which will trade-off precision for performance. For more details, read https://pytorch.org/docs/stable/generated/torch.set_float32_matmul_precision.html#torch.set_float32_matmul_precision\n",
      "\u001b[36m(_train_tune pid=28964)\u001b[0m Missing logger folder: C:\\Users\\ADMINI~1\\AppData\\Local\\Temp\\ray\\session_2024-12-07_21-58-08_639308_21512\\artifacts\\2024-12-07_21-58-13\\_train_tune_2024-12-07_21-58-07\\working_dirs\\_train_tune_9350a408\\lightning_logs\n",
      "\u001b[36m(_train_tune pid=28964)\u001b[0m LOCAL_RANK: 0 - CUDA_VISIBLE_DEVICES: [0]\n",
      "\u001b[36m(_train_tune pid=28964)\u001b[0m \n",
      "\u001b[36m(_train_tune pid=28964)\u001b[0m   | Name         | Type          | Params\n",
      "\u001b[36m(_train_tune pid=28964)\u001b[0m -----------------------------------------------\n",
      "\u001b[36m(_train_tune pid=28964)\u001b[0m 0 | loss         | MAE           | 0     \n",
      "\u001b[36m(_train_tune pid=28964)\u001b[0m 1 | padder_train | ConstantPad1d | 0     \n",
      "\u001b[36m(_train_tune pid=28964)\u001b[0m 2 | scaler       | TemporalNorm  | 0     \n",
      "\u001b[36m(_train_tune pid=28964)\u001b[0m 3 | blocks       | ModuleList    | 2.4 M \n",
      "\u001b[36m(_train_tune pid=28964)\u001b[0m -----------------------------------------------\n",
      "\u001b[36m(_train_tune pid=28964)\u001b[0m 2.4 M     Trainable params\n",
      "\u001b[36m(_train_tune pid=28964)\u001b[0m 0         Non-trainable params\n",
      "\u001b[36m(_train_tune pid=28964)\u001b[0m 2.4 M     Total params\n",
      "\u001b[36m(_train_tune pid=28964)\u001b[0m 9.743     Total estimated model params size (MB)\n"
     ]
    },
    {
     "name": "stdout",
     "output_type": "stream",
     "text": [
      "Sanity Checking: 0it [00:00, ?it/s]\n",
      "Sanity Checking DataLoader 0:   0%|          | 0/1 [00:00<?, ?it/s]\n",
      "Sanity Checking DataLoader 0: 100%|██████████| 1/1 [00:00<00:00,  9.40it/s]\n",
      "Epoch 0:   0%|          | 0/1 [00:00<?, ?it/s]                             \n",
      "Epoch 4:   0%|          | 0/1 [00:00<?, ?it/s, v_num=0, train_loss_step=2.2e+12, train_loss_epoch=2.2e+12]           \n",
      "Epoch 5: 100%|██████████| 1/1 [00:00<00:00, 153.67it/s, v_num=0, train_loss_step=1.03e+13, train_loss_epoch=1.03e+13]\n",
      "Epoch 7:   0%|          | 0/1 [00:00<?, ?it/s, v_num=0, train_loss_step=3.18e+12, train_loss_epoch=3.18e+12]         \n",
      "Epoch 8:   0%|          | 0/1 [00:00<?, ?it/s, v_num=0, train_loss_step=2.3e+10, train_loss_epoch=2.3e+10]           \n",
      "Epoch 9:   0%|          | 0/1 [00:00<?, ?it/s, v_num=0, train_loss_step=5.25e+13, train_loss_epoch=5.25e+13]         \n",
      "Epoch 10:   0%|          | 0/1 [00:00<?, ?it/s, v_num=0, train_loss_step=1.73e+11, train_loss_epoch=1.73e+11]        \n",
      "Epoch 11: 100%|██████████| 1/1 [00:00<00:00, 151.40it/s, v_num=0, train_loss_step=1.47e+12, train_loss_epoch=1.85e+12]\n",
      "Epoch 13:   0%|          | 0/1 [00:00<?, ?it/s, v_num=0, train_loss_step=1.55e+10, train_loss_epoch=1.55e+10]         \n",
      "Epoch 15:   0%|          | 0/1 [00:00<?, ?it/s, v_num=0, train_loss_step=1.21e+13, train_loss_epoch=1.21e+13]         \n",
      "Epoch 16:   0%|          | 0/1 [00:00<?, ?it/s, v_num=0, train_loss_step=1.47e+10, train_loss_epoch=1.47e+10]         \n",
      "Epoch 18:   0%|          | 0/1 [00:00<?, ?it/s, v_num=0, train_loss_step=1.21e+11, train_loss_epoch=1.21e+11]         \n",
      "Epoch 19:   0%|          | 0/1 [00:00<?, ?it/s, v_num=0, train_loss_step=1.8e+13, train_loss_epoch=1.8e+13]           \n",
      "Epoch 21:   0%|          | 0/1 [00:00<?, ?it/s, v_num=0, train_loss_step=1.1e+13, train_loss_epoch=1.1e+13]           \n",
      "Epoch 22:   0%|          | 0/1 [00:00<?, ?it/s, v_num=0, train_loss_step=1.3e+13, train_loss_epoch=1.3e+13]           \n",
      "Epoch 24:   0%|          | 0/1 [00:00<?, ?it/s, v_num=0, train_loss_step=9.03e+13, train_loss_epoch=9.03e+13]         \n",
      "Epoch 26:   0%|          | 0/1 [00:00<?, ?it/s, v_num=0, train_loss_step=1.54e+12, train_loss_epoch=1.54e+12]         \n",
      "Epoch 27: 100%|██████████| 1/1 [00:00<00:00, 181.63it/s, v_num=0, train_loss_step=2.67e+10, train_loss_epoch=2.67e+10]\n",
      "Epoch 29:   0%|          | 0/1 [00:00<?, ?it/s, v_num=0, train_loss_step=2.2e+13, train_loss_epoch=2.2e+13]           \n",
      "Epoch 30: 100%|██████████| 1/1 [00:00<00:00, 136.96it/s, v_num=0, train_loss_step=3.65e+14, train_loss_epoch=3.65e+14]\n",
      "Epoch 32:   0%|          | 0/1 [00:00<?, ?it/s, v_num=0, train_loss_step=4.6e+12, train_loss_epoch=4.6e+12]           \n",
      "Epoch 33: 100%|██████████| 1/1 [00:00<00:00, 181.62it/s, v_num=0, train_loss_step=3.46e+11, train_loss_epoch=3.46e+11]\n",
      "Epoch 35:   0%|          | 0/1 [00:00<?, ?it/s, v_num=0, train_loss_step=8.08e+12, train_loss_epoch=8.08e+12]         \n",
      "Epoch 36: 100%|██████████| 1/1 [00:00<00:00, 152.33it/s, v_num=0, train_loss_step=1.48e+11, train_loss_epoch=1.48e+11]\n",
      "Epoch 38:   0%|          | 0/1 [00:00<?, ?it/s, v_num=0, train_loss_step=3.62e+10, train_loss_epoch=3.62e+10]         \n",
      "Epoch 39: 100%|██████████| 1/1 [00:00<00:00, 163.95it/s, v_num=0, train_loss_step=2.29e+12, train_loss_epoch=3.09e+10]\n",
      "Epoch 41:   0%|          | 0/1 [00:00<?, ?it/s, v_num=0, train_loss_step=8.45e+11, train_loss_epoch=8.45e+11]         \n",
      "Epoch 42:   0%|          | 0/1 [00:00<?, ?it/s, v_num=0, train_loss_step=1.94e+12, train_loss_epoch=1.94e+12]         \n",
      "Epoch 43:   0%|          | 0/1 [00:00<?, ?it/s, v_num=0, train_loss_step=1.37e+11, train_loss_epoch=1.37e+11]         \n",
      "Epoch 44:   0%|          | 0/1 [00:00<?, ?it/s, v_num=0, train_loss_step=3.25e+10, train_loss_epoch=3.25e+10]         \n",
      "Epoch 44: 100%|██████████| 1/1 [00:00<00:00, 165.10it/s, v_num=0, train_loss_step=1.58e+12, train_loss_epoch=1.58e+12]\n",
      "Epoch 45:   0%|          | 0/1 [00:00<?, ?it/s, v_num=0, train_loss_step=1.58e+12, train_loss_epoch=1.58e+12]         \n",
      "Epoch 46:   0%|          | 0/1 [00:00<?, ?it/s, v_num=0, train_loss_step=6.41e+10, train_loss_epoch=6.41e+10]         \n",
      "Epoch 47:   0%|          | 0/1 [00:00<?, ?it/s, v_num=0, train_loss_step=1.43e+11, train_loss_epoch=1.43e+11]         \n",
      "Epoch 48: 100%|██████████| 1/1 [00:00<00:00, 159.49it/s, v_num=0, train_loss_step=2.84e+10, train_loss_epoch=2.84e+10]\n",
      "Epoch 49: 100%|██████████| 1/1 [00:00<00:00, 144.03it/s, v_num=0, train_loss_step=1.32e+11, train_loss_epoch=2.84e+10]\n",
      "Validation: 0it [00:00, ?it/s]\u001b[A\n",
      "Validation:   0%|          | 0/1 [00:00<?, ?it/s]\u001b[A\n",
      "Validation DataLoader 0:   0%|          | 0/1 [00:00<?, ?it/s]\u001b[A\n",
      "Validation DataLoader 0: 100%|██████████| 1/1 [00:00<00:00, 500.10it/s]\u001b[A\n",
      "Epoch 49: 100%|██████████| 1/1 [00:00<00:00, 41.92it/s, v_num=0, train_loss_step=1.32e+11, train_loss_epoch=2.84e+10, valid_loss=5.48e+10]\n",
      "Epoch 65: 100%|██████████| 1/1 [00:00<00:00, 129.69it/s, v_num=0, train_loss_step=1.57e+12, train_loss_epoch=2.73e+11, valid_loss=5.48e+10]\n",
      "Epoch 67:   0%|          | 0/1 [00:00<?, ?it/s, v_num=0, train_loss_step=1.09e+12, train_loss_epoch=1.09e+12, valid_loss=5.48e+10]         \n",
      "Epoch 68:   0%|          | 0/1 [00:00<?, ?it/s, v_num=0, train_loss_step=2.43e+11, train_loss_epoch=2.43e+11, valid_loss=5.48e+10]         \n",
      "Epoch 70:   0%|          | 0/1 [00:00<?, ?it/s, v_num=0, train_loss_step=1.05e+11, train_loss_epoch=1.05e+11, valid_loss=5.48e+10]         \n",
      "Epoch 71: 100%|██████████| 1/1 [00:00<00:00, 181.44it/s, v_num=0, train_loss_step=9.71e+8, train_loss_epoch=9.71e+8, valid_loss=5.48e+10]  \n",
      "Epoch 73:   0%|          | 0/1 [00:00<?, ?it/s, v_num=0, train_loss_step=2.87e+10, train_loss_epoch=2.87e+10, valid_loss=5.48e+10]         \n",
      "Epoch 75:   0%|          | 0/1 [00:00<?, ?it/s, v_num=0, train_loss_step=1.07e+9, train_loss_epoch=1.07e+9, valid_loss=5.48e+10]           \n",
      "Epoch 76: 100%|██████████| 1/1 [00:00<00:00, 181.58it/s, v_num=0, train_loss_step=1.09e+9, train_loss_epoch=1.09e+9, valid_loss=5.48e+10]\n",
      "Epoch 78:   0%|          | 0/1 [00:00<?, ?it/s, v_num=0, train_loss_step=1.08e+9, train_loss_epoch=1.08e+9, valid_loss=5.48e+10]         \n",
      "Epoch 80:   0%|          | 0/1 [00:00<?, ?it/s, v_num=0, train_loss_step=1.01e+9, train_loss_epoch=1.01e+9, valid_loss=5.48e+10]         \n",
      "Epoch 82:   0%|          | 0/1 [00:00<?, ?it/s, v_num=0, train_loss_step=8.87e+8, train_loss_epoch=8.87e+8, valid_loss=5.48e+10]         \n",
      "Epoch 83:   0%|          | 0/1 [00:00<?, ?it/s, v_num=0, train_loss_step=8.18e+8, train_loss_epoch=8.18e+8, valid_loss=5.48e+10]         \n",
      "Epoch 85:   0%|          | 0/1 [00:00<?, ?it/s, v_num=0, train_loss_step=6.65e+8, train_loss_epoch=6.65e+8, valid_loss=5.48e+10]         \n",
      "Epoch 86:   0%|          | 0/1 [00:00<?, ?it/s, v_num=0, train_loss_step=5.93e+8, train_loss_epoch=5.93e+8, valid_loss=5.48e+10]         \n",
      "Epoch 88:   0%|          | 0/1 [00:00<?, ?it/s, v_num=0, train_loss_step=3.93e+8, train_loss_epoch=3.93e+8, valid_loss=5.48e+10]         \n",
      "Epoch 89: 100%|██████████| 1/1 [00:00<00:00, 160.01it/s, v_num=0, train_loss_step=2.2e+8, train_loss_epoch=2.2e+8, valid_loss=5.48e+10]  \n",
      "Epoch 91:   0%|          | 0/1 [00:00<?, ?it/s, v_num=0, train_loss_step=2.16e+8, train_loss_epoch=2.16e+8, valid_loss=5.48e+10]         \n",
      "Epoch 93:   0%|          | 0/1 [00:00<?, ?it/s, v_num=0, train_loss_step=2.06e+8, train_loss_epoch=2.06e+8, valid_loss=5.48e+10]         \n",
      "Epoch 94:   0%|          | 0/1 [00:00<?, ?it/s, v_num=0, train_loss_step=2.01e+8, train_loss_epoch=2.01e+8, valid_loss=5.48e+10]         \n",
      "Epoch 95:   0%|          | 0/1 [00:00<?, ?it/s, v_num=0, train_loss_step=2.1e+8, train_loss_epoch=2.1e+8, valid_loss=5.48e+10]           \n"
     ]
    },
    {
     "name": "stderr",
     "output_type": "stream",
     "text": [
      "\u001b[36m(_train_tune pid=28964)\u001b[0m `Trainer.fit` stopped: `max_steps=100` reached.\n",
      "2024-12-07 21:58:54,400\tINFO tensorboardx.py:311 -- Removed the following hyperparameter values when logging to tensorboard: {'loss': ('__ref_ph', 'de895953'), 'n_freq_downsample': (1, 1, 1), 'n_pool_kernel_size': (16, 8, 1), 'valid_loss': ('__ref_ph', '004b9a7a')}\n"
     ]
    },
    {
     "name": "stdout",
     "output_type": "stream",
     "text": [
      "Epoch 97:   0%|          | 0/1 [00:00<?, ?it/s, v_num=0, train_loss_step=1.89e+8, train_loss_epoch=1.89e+8, valid_loss=5.48e+10]         \n",
      "Epoch 98:   0%|          | 0/1 [00:00<?, ?it/s, v_num=0, train_loss_step=1.56e+8, train_loss_epoch=1.56e+8, valid_loss=5.48e+10]         \n",
      "Epoch 99: 100%|██████████| 1/1 [00:00<00:00, 177.30it/s, v_num=0, train_loss_step=8.52e+7, train_loss_epoch=1.08e+8, valid_loss=5.48e+10]\n",
      "\u001b[36m(_train_tune pid=28964)\u001b[0m \n",
      "Validation: 0it [00:00, ?it/s]\u001b[A\n",
      "Validation:   0%|          | 0/1 [00:00<?, ?it/s]\u001b[A\n",
      "Validation DataLoader 0:   0%|          | 0/1 [00:00<?, ?it/s]\u001b[A\n",
      "Validation DataLoader 0: 100%|██████████| 1/1 [00:00<00:00, 333.33it/s]\u001b[A\n",
      "Epoch 99: 100%|██████████| 1/1 [00:00<00:00, 52.22it/s, v_num=0, train_loss_step=8.52e+7, train_loss_epoch=1.08e+8, valid_loss=1.39e+8]  \n",
      "Epoch 99: 100%|██████████| 1/1 [00:00<00:00, 47.28it/s, v_num=0, train_loss_step=8.52e+7, train_loss_epoch=8.52e+7, valid_loss=1.39e+8]\n"
     ]
    },
    {
     "name": "stderr",
     "output_type": "stream",
     "text": [
      "\u001b[36m(_train_tune pid=29684)\u001b[0m D:\\software\\miniconda3\\envs\\ts\\lib\\site-packages\\torch\\storage.py:414: FutureWarning: You are using `torch.load` with `weights_only=False` (the current default value), which uses the default pickle module implicitly. It is possible to construct malicious pickle data which will execute arbitrary code during unpickling (See https://github.com/pytorch/pytorch/blob/main/SECURITY.md#untrusted-models for more details). In a future release, the default value for `weights_only` will be flipped to `True`. This limits the functions that could be executed during unpickling. Arbitrary objects will no longer be allowed to be loaded via this mode unless they are explicitly allowlisted by the user via `torch.serialization.add_safe_globals`. We recommend you start setting `weights_only=True` for any use case where you don't have full control of the loaded file. Please open an issue on GitHub for any issues related to this experimental feature.\n",
      "\u001b[36m(_train_tune pid=29684)\u001b[0m   return torch.load(io.BytesIO(b))\n",
      "\u001b[36m(_train_tune pid=29684)\u001b[0m D:\\software\\miniconda3\\envs\\ts\\lib\\site-packages\\ray\\tune\\integration\\pytorch_lightning.py:194: UserWarning: `ray.tune.integration.pytorch_lightning.TuneReportCallback` is deprecated. Use `ray.tune.integration.pytorch_lightning.TuneReportCheckpointCallback` instead.\n",
      "\u001b[36m(_train_tune pid=29684)\u001b[0m   warnings.warn(\n",
      "\u001b[36m(_train_tune pid=29684)\u001b[0m Global seed set to 3\n",
      "\u001b[36m(_train_tune pid=29684)\u001b[0m GPU available: True (cuda), used: True\n",
      "\u001b[36m(_train_tune pid=29684)\u001b[0m TPU available: False, using: 0 TPU cores\n",
      "\u001b[36m(_train_tune pid=29684)\u001b[0m IPU available: False, using: 0 IPUs\n",
      "\u001b[36m(_train_tune pid=29684)\u001b[0m HPU available: False, using: 0 HPUs\n",
      "\u001b[36m(_train_tune pid=29684)\u001b[0m You are using a CUDA device ('NVIDIA GeForce RTX 4070') that has Tensor Cores. To properly utilize them, you should set `torch.set_float32_matmul_precision('medium' | 'high')` which will trade-off precision for performance. For more details, read https://pytorch.org/docs/stable/generated/torch.set_float32_matmul_precision.html#torch.set_float32_matmul_precision\n",
      "\u001b[36m(_train_tune pid=29684)\u001b[0m Missing logger folder: C:\\Users\\ADMINI~1\\AppData\\Local\\Temp\\ray\\session_2024-12-07_21-58-08_639308_21512\\artifacts\\2024-12-07_21-58-13\\_train_tune_2024-12-07_21-58-07\\working_dirs\\_train_tune_6ed39a0e\\lightning_logs\n",
      "\u001b[36m(_train_tune pid=29684)\u001b[0m LOCAL_RANK: 0 - CUDA_VISIBLE_DEVICES: [0]\n",
      "\u001b[36m(_train_tune pid=29684)\u001b[0m \n",
      "\u001b[36m(_train_tune pid=29684)\u001b[0m   | Name         | Type          | Params\n",
      "\u001b[36m(_train_tune pid=29684)\u001b[0m -----------------------------------------------\n",
      "\u001b[36m(_train_tune pid=29684)\u001b[0m 0 | loss         | MAE           | 0     \n",
      "\u001b[36m(_train_tune pid=29684)\u001b[0m 1 | padder_train | ConstantPad1d | 0     \n",
      "\u001b[36m(_train_tune pid=29684)\u001b[0m 2 | scaler       | TemporalNorm  | 0     \n",
      "\u001b[36m(_train_tune pid=29684)\u001b[0m 3 | blocks       | ModuleList    | 2.4 M \n",
      "\u001b[36m(_train_tune pid=29684)\u001b[0m -----------------------------------------------\n",
      "\u001b[36m(_train_tune pid=29684)\u001b[0m 2.4 M     Trainable params\n",
      "\u001b[36m(_train_tune pid=29684)\u001b[0m 0         Non-trainable params\n",
      "\u001b[36m(_train_tune pid=29684)\u001b[0m 2.4 M     Total params\n",
      "\u001b[36m(_train_tune pid=29684)\u001b[0m 9.712     Total estimated model params size (MB)\n"
     ]
    },
    {
     "name": "stdout",
     "output_type": "stream",
     "text": [
      "Sanity Checking DataLoader 0:   0%|          | 0/1 [00:00<?, ?it/s]\n",
      "Epoch 0:   0%|          | 0/1 [00:00<?, ?it/s]                             \n",
      "Epoch 16:   0%|          | 0/1 [00:00<?, ?it/s, v_num=0, train_loss_step=1.03e+17, train_loss_epoch=1.03e+17]         \n",
      "Epoch 17:   0%|          | 0/1 [00:00<?, ?it/s, v_num=0, train_loss_step=4.41e+15, train_loss_epoch=4.41e+15]         \n",
      "Epoch 19:   0%|          | 0/1 [00:00<?, ?it/s, v_num=0, train_loss_step=1.12e+17, train_loss_epoch=1.12e+17]         \n",
      "Epoch 21:   0%|          | 0/1 [00:00<?, ?it/s, v_num=0, train_loss_step=1.53e+16, train_loss_epoch=1.53e+16]         \n",
      "Epoch 22:   0%|          | 0/1 [00:00<?, ?it/s, v_num=0, train_loss_step=6.3e+13, train_loss_epoch=6.3e+13]           \n",
      "Epoch 24:   0%|          | 0/1 [00:00<?, ?it/s, v_num=0, train_loss_step=3.23e+14, train_loss_epoch=3.23e+14]         \n",
      "Epoch 26:   0%|          | 0/1 [00:00<?, ?it/s, v_num=0, train_loss_step=9.19e+13, train_loss_epoch=9.19e+13]         \n",
      "Epoch 27:   0%|          | 0/1 [00:00<?, ?it/s, v_num=0, train_loss_step=6.43e+13, train_loss_epoch=6.43e+13]         \n",
      "Epoch 29:   0%|          | 0/1 [00:00<?, ?it/s, v_num=0, train_loss_step=9.52e+16, train_loss_epoch=9.52e+16]         \n",
      "Epoch 31:   0%|          | 0/1 [00:00<?, ?it/s, v_num=0, train_loss_step=1.06e+15, train_loss_epoch=1.06e+15]         \n",
      "Epoch 32:   0%|          | 0/1 [00:00<?, ?it/s, v_num=0, train_loss_step=5.17e+13, train_loss_epoch=5.17e+13]         \n",
      "Epoch 34:   0%|          | 0/1 [00:00<?, ?it/s, v_num=0, train_loss_step=5.08e+10, train_loss_epoch=5.08e+10]         \n",
      "Epoch 36:   0%|          | 0/1 [00:00<?, ?it/s, v_num=0, train_loss_step=2.9e+10, train_loss_epoch=2.9e+10]           \n",
      "Epoch 37:   0%|          | 0/1 [00:00<?, ?it/s, v_num=0, train_loss_step=3.05e+13, train_loss_epoch=3.05e+13]         \n",
      "Epoch 39:   0%|          | 0/1 [00:00<?, ?it/s, v_num=0, train_loss_step=3.62e+10, train_loss_epoch=3.62e+10]         \n",
      "Epoch 41:   0%|          | 0/1 [00:00<?, ?it/s, v_num=0, train_loss_step=4.81e+10, train_loss_epoch=4.81e+10]         \n",
      "Epoch 42:   0%|          | 0/1 [00:00<?, ?it/s, v_num=0, train_loss_step=4.91e+10, train_loss_epoch=4.91e+10]         \n",
      "Epoch 44:   0%|          | 0/1 [00:00<?, ?it/s, v_num=0, train_loss_step=4.75e+10, train_loss_epoch=4.75e+10]         \n",
      "Epoch 46:   0%|          | 0/1 [00:00<?, ?it/s, v_num=0, train_loss_step=2.5e+10, train_loss_epoch=2.5e+10]           \n",
      "Epoch 47:   0%|          | 0/1 [00:00<?, ?it/s, v_num=0, train_loss_step=2.26e+10, train_loss_epoch=2.26e+10]         \n",
      "Epoch 49:   0%|          | 0/1 [00:00<?, ?it/s, v_num=0, train_loss_step=2.16e+10, train_loss_epoch=2.16e+10]         \n",
      "Epoch 49: 100%|██████████| 1/1 [00:00<00:00, 141.87it/s, v_num=0, train_loss_step=1.5e+10, train_loss_epoch=2.16e+10] \n",
      "Validation: 0it [00:00, ?it/s]\u001b[A\n",
      "Validation:   0%|          | 0/1 [00:00<?, ?it/s]\u001b[A\n",
      "Validation DataLoader 0:   0%|          | 0/1 [00:00<?, ?it/s]\u001b[A\n",
      "Validation DataLoader 0: 100%|██████████| 1/1 [00:00<00:00, 338.50it/s]\u001b[A\n",
      "Epoch 49: 100%|██████████| 1/1 [00:00<00:00, 35.64it/s, v_num=0, train_loss_step=1.5e+10, train_loss_epoch=2.16e+10, valid_loss=1.13e+10]\n",
      "Epoch 66: 100%|██████████| 1/1 [00:00<00:00, 200.00it/s, v_num=0, train_loss_step=5.38e+9, train_loss_epoch=5.38e+9, valid_loss=1.13e+10]  \n",
      "Epoch 68:   0%|          | 0/1 [00:00<?, ?it/s, v_num=0, train_loss_step=4.41e+9, train_loss_epoch=4.41e+9, valid_loss=1.13e+10]         \n",
      "Epoch 70:   0%|          | 0/1 [00:00<?, ?it/s, v_num=0, train_loss_step=3.33e+9, train_loss_epoch=3.33e+9, valid_loss=1.13e+10]         \n",
      "Epoch 71:   0%|          | 0/1 [00:00<?, ?it/s, v_num=0, train_loss_step=3.75e+9, train_loss_epoch=3.75e+9, valid_loss=1.13e+10]         \n",
      "Epoch 73:   0%|          | 0/1 [00:00<?, ?it/s, v_num=0, train_loss_step=3.38e+9, train_loss_epoch=3.38e+9, valid_loss=1.13e+10]         \n",
      "Epoch 75:   0%|          | 0/1 [00:00<?, ?it/s, v_num=0, train_loss_step=2.91e+9, train_loss_epoch=2.91e+9, valid_loss=1.13e+10]         \n",
      "Epoch 76: 100%|██████████| 1/1 [00:00<00:00, 181.43it/s, v_num=0, train_loss_step=3e+9, train_loss_epoch=3e+9, valid_loss=1.13e+10]      \n",
      "Epoch 78:   0%|          | 0/1 [00:00<?, ?it/s, v_num=0, train_loss_step=1.58e+9, train_loss_epoch=1.58e+9, valid_loss=1.13e+10]         \n",
      "Epoch 80:   0%|          | 0/1 [00:00<?, ?it/s, v_num=0, train_loss_step=1.12e+9, train_loss_epoch=1.12e+9, valid_loss=1.13e+10]         \n",
      "Epoch 81:   0%|          | 0/1 [00:00<?, ?it/s, v_num=0, train_loss_step=1.78e+9, train_loss_epoch=1.78e+9, valid_loss=1.13e+10]         \n",
      "Epoch 83:   0%|          | 0/1 [00:00<?, ?it/s, v_num=0, train_loss_step=1.69e+9, train_loss_epoch=1.69e+9, valid_loss=1.13e+10]         \n",
      "Epoch 85:   0%|          | 0/1 [00:00<?, ?it/s, v_num=0, train_loss_step=1.58e+9, train_loss_epoch=1.58e+9, valid_loss=1.13e+10]         \n",
      "Epoch 86: 100%|██████████| 1/1 [00:00<00:00, 178.32it/s, v_num=0, train_loss_step=1.7e+9, train_loss_epoch=1.7e+9, valid_loss=1.13e+10]  \n",
      "Epoch 88: 100%|██████████| 1/1 [00:00<00:00, 181.41it/s, v_num=0, train_loss_step=1.63e+9, train_loss_epoch=1.63e+9, valid_loss=1.13e+10]\n",
      "Epoch 90:   0%|          | 0/1 [00:00<?, ?it/s, v_num=0, train_loss_step=1.14e+9, train_loss_epoch=1.14e+9, valid_loss=1.13e+10]         \n",
      "Epoch 92:   0%|          | 0/1 [00:00<?, ?it/s, v_num=0, train_loss_step=7.87e+8, train_loss_epoch=7.87e+8, valid_loss=1.13e+10]         \n",
      "Epoch 93:   0%|          | 0/1 [00:00<?, ?it/s, v_num=0, train_loss_step=1.05e+9, train_loss_epoch=1.05e+9, valid_loss=1.13e+10]         \n",
      "Epoch 95:   0%|          | 0/1 [00:00<?, ?it/s, v_num=0, train_loss_step=1.04e+9, train_loss_epoch=1.04e+9, valid_loss=1.13e+10]         \n",
      "Epoch 97:   0%|          | 0/1 [00:00<?, ?it/s, v_num=0, train_loss_step=5.96e+8, train_loss_epoch=5.96e+8, valid_loss=1.13e+10]         \n",
      "Epoch 99:   0%|          | 0/1 [00:00<?, ?it/s, v_num=0, train_loss_step=7.44e+8, train_loss_epoch=7.44e+8, valid_loss=1.13e+10]         \n",
      "Epoch 99: 100%|██████████| 1/1 [00:00<00:00, 166.63it/s, v_num=0, train_loss_step=5.24e+8, train_loss_epoch=7.44e+8, valid_loss=1.13e+10]\n",
      "Validation: 0it [00:00, ?it/s]\u001b[A\n",
      "Validation:   0%|          | 0/1 [00:00<?, ?it/s]\u001b[A\n",
      "Validation DataLoader 0:   0%|          | 0/1 [00:00<?, ?it/s]\u001b[A\n",
      "Validation DataLoader 0: 100%|██████████| 1/1 [00:00<00:00, 398.89it/s]\u001b[A\n",
      "Epoch 99: 100%|██████████| 1/1 [00:00<00:00, 64.47it/s, v_num=0, train_loss_step=5.24e+8, train_loss_epoch=7.44e+8, valid_loss=8.05e+8]  \n",
      "Epoch 99: 100%|██████████| 1/1 [00:00<00:00, 57.10it/s, v_num=0, train_loss_step=5.24e+8, train_loss_epoch=5.24e+8, valid_loss=8.05e+8]\n"
     ]
    },
    {
     "name": "stderr",
     "output_type": "stream",
     "text": [
      "\u001b[36m(_train_tune pid=29684)\u001b[0m `Trainer.fit` stopped: `max_steps=100` reached.\n",
      "2024-12-07 21:59:02,413\tINFO tensorboardx.py:311 -- Removed the following hyperparameter values when logging to tensorboard: {'loss': ('__ref_ph', 'de895953'), 'n_freq_downsample': (168, 24, 1), 'n_pool_kernel_size': (2, 2, 2), 'valid_loss': ('__ref_ph', '004b9a7a')}\n",
      "\u001b[36m(_train_tune pid=28500)\u001b[0m D:\\software\\miniconda3\\envs\\ts\\lib\\site-packages\\torch\\storage.py:414: FutureWarning: You are using `torch.load` with `weights_only=False` (the current default value), which uses the default pickle module implicitly. It is possible to construct malicious pickle data which will execute arbitrary code during unpickling (See https://github.com/pytorch/pytorch/blob/main/SECURITY.md#untrusted-models for more details). In a future release, the default value for `weights_only` will be flipped to `True`. This limits the functions that could be executed during unpickling. Arbitrary objects will no longer be allowed to be loaded via this mode unless they are explicitly allowlisted by the user via `torch.serialization.add_safe_globals`. We recommend you start setting `weights_only=True` for any use case where you don't have full control of the loaded file. Please open an issue on GitHub for any issues related to this experimental feature.\n",
      "\u001b[36m(_train_tune pid=28500)\u001b[0m   return torch.load(io.BytesIO(b))\n",
      "\u001b[36m(_train_tune pid=28500)\u001b[0m D:\\software\\miniconda3\\envs\\ts\\lib\\site-packages\\ray\\tune\\integration\\pytorch_lightning.py:194: UserWarning: `ray.tune.integration.pytorch_lightning.TuneReportCallback` is deprecated. Use `ray.tune.integration.pytorch_lightning.TuneReportCheckpointCallback` instead.\n",
      "\u001b[36m(_train_tune pid=28500)\u001b[0m   warnings.warn(\n",
      "\u001b[36m(_train_tune pid=28500)\u001b[0m Global seed set to 3\n",
      "\u001b[36m(_train_tune pid=28500)\u001b[0m GPU available: True (cuda), used: True\n",
      "\u001b[36m(_train_tune pid=28500)\u001b[0m TPU available: False, using: 0 TPU cores\n",
      "\u001b[36m(_train_tune pid=28500)\u001b[0m IPU available: False, using: 0 IPUs\n",
      "\u001b[36m(_train_tune pid=28500)\u001b[0m HPU available: False, using: 0 HPUs\n",
      "\u001b[36m(_train_tune pid=28500)\u001b[0m You are using a CUDA device ('NVIDIA GeForce RTX 4070') that has Tensor Cores. To properly utilize them, you should set `torch.set_float32_matmul_precision('medium' | 'high')` which will trade-off precision for performance. For more details, read https://pytorch.org/docs/stable/generated/torch.set_float32_matmul_precision.html#torch.set_float32_matmul_precision\n",
      "\u001b[36m(_train_tune pid=28500)\u001b[0m Missing logger folder: C:\\Users\\ADMINI~1\\AppData\\Local\\Temp\\ray\\session_2024-12-07_21-58-08_639308_21512\\artifacts\\2024-12-07_21-58-13\\_train_tune_2024-12-07_21-58-07\\working_dirs\\_train_tune_391f076b\\lightning_logs\n",
      "\u001b[36m(_train_tune pid=28500)\u001b[0m LOCAL_RANK: 0 - CUDA_VISIBLE_DEVICES: [0]\n",
      "\u001b[36m(_train_tune pid=28500)\u001b[0m \n",
      "\u001b[36m(_train_tune pid=28500)\u001b[0m   | Name         | Type          | Params\n",
      "\u001b[36m(_train_tune pid=28500)\u001b[0m -----------------------------------------------\n",
      "\u001b[36m(_train_tune pid=28500)\u001b[0m 0 | loss         | MAE           | 0     \n",
      "\u001b[36m(_train_tune pid=28500)\u001b[0m 1 | padder_train | ConstantPad1d | 0     \n",
      "\u001b[36m(_train_tune pid=28500)\u001b[0m 2 | scaler       | TemporalNorm  | 0     \n",
      "\u001b[36m(_train_tune pid=28500)\u001b[0m 3 | blocks       | ModuleList    | 2.4 M \n",
      "\u001b[36m(_train_tune pid=28500)\u001b[0m -----------------------------------------------\n",
      "\u001b[36m(_train_tune pid=28500)\u001b[0m 2.4 M     Trainable params\n",
      "\u001b[36m(_train_tune pid=28500)\u001b[0m 0         Non-trainable params\n",
      "\u001b[36m(_train_tune pid=28500)\u001b[0m 2.4 M     Total params\n",
      "\u001b[36m(_train_tune pid=28500)\u001b[0m 9.712     Total estimated model params size (MB)\n"
     ]
    },
    {
     "name": "stdout",
     "output_type": "stream",
     "text": [
      "Sanity Checking DataLoader 0:   0%|          | 0/1 [00:00<?, ?it/s]\n",
      "Epoch 0:   0%|          | 0/1 [00:00<?, ?it/s]                             \n",
      "Epoch 8:   0%|          | 0/1 [00:00<?, ?it/s, v_num=0, train_loss_step=41.50, train_loss_epoch=41.50]         \n",
      "Epoch 9:   0%|          | 0/1 [00:00<?, ?it/s, v_num=0, train_loss_step=43.20, train_loss_epoch=43.20]         \n",
      "Epoch 10:   0%|          | 0/1 [00:00<?, ?it/s, v_num=0, train_loss_step=41.50, train_loss_epoch=41.50]        \n",
      "Epoch 10: 100%|██████████| 1/1 [00:00<00:00, 153.59it/s, v_num=0, train_loss_step=40.60, train_loss_epoch=40.60]\n",
      "Epoch 11:   0%|          | 0/1 [00:00<?, ?it/s, v_num=0, train_loss_step=40.60, train_loss_epoch=40.60]         \n",
      "Epoch 12:   0%|          | 0/1 [00:00<?, ?it/s, v_num=0, train_loss_step=41.40, train_loss_epoch=41.40]         \n",
      "Epoch 13:   0%|          | 0/1 [00:00<?, ?it/s, v_num=0, train_loss_step=38.90, train_loss_epoch=38.90]         \n",
      "Epoch 13: 100%|██████████| 1/1 [00:00<00:00, 156.45it/s, v_num=0, train_loss_step=37.60, train_loss_epoch=38.90]\n",
      "Epoch 14:   0%|          | 0/1 [00:00<?, ?it/s, v_num=0, train_loss_step=37.60, train_loss_epoch=37.60]         \n",
      "Epoch 15:   0%|          | 0/1 [00:00<?, ?it/s, v_num=0, train_loss_step=35.40, train_loss_epoch=35.40]         \n",
      "Epoch 16:   0%|          | 0/1 [00:00<?, ?it/s, v_num=0, train_loss_step=33.30, train_loss_epoch=33.30]         \n",
      "Epoch 17:   0%|          | 0/1 [00:00<?, ?it/s, v_num=0, train_loss_step=32.00, train_loss_epoch=32.00]         \n",
      "Epoch 34:   0%|          | 0/1 [00:00<?, ?it/s, v_num=0, train_loss_step=19.60, train_loss_epoch=19.60]         \n",
      "Epoch 35: 100%|██████████| 1/1 [00:00<00:00, 181.50it/s, v_num=0, train_loss_step=18.80, train_loss_epoch=18.80]\n",
      "Epoch 38:   0%|          | 0/1 [00:00<?, ?it/s, v_num=0, train_loss_step=17.70, train_loss_epoch=17.70]         \n",
      "Epoch 39:   0%|          | 0/1 [00:00<?, ?it/s, v_num=0, train_loss_step=17.10, train_loss_epoch=17.10]         \n",
      "Epoch 41:   0%|          | 0/1 [00:00<?, ?it/s, v_num=0, train_loss_step=16.50, train_loss_epoch=16.50]         \n",
      "Epoch 42:   0%|          | 0/1 [00:00<?, ?it/s, v_num=0, train_loss_step=16.40, train_loss_epoch=16.40]         \n",
      "Epoch 44:   0%|          | 0/1 [00:00<?, ?it/s, v_num=0, train_loss_step=15.50, train_loss_epoch=15.50]         \n",
      "Epoch 46:   0%|          | 0/1 [00:00<?, ?it/s, v_num=0, train_loss_step=15.30, train_loss_epoch=15.30]         \n",
      "Epoch 48:   0%|          | 0/1 [00:00<?, ?it/s, v_num=0, train_loss_step=14.60, train_loss_epoch=14.60]         \n",
      "Epoch 49: 100%|██████████| 1/1 [00:00<00:00, 181.59it/s, v_num=0, train_loss_step=14.30, train_loss_epoch=14.50]\n",
      "\u001b[36m(_train_tune pid=28500)\u001b[0m \n",
      "Validation: 0it [00:00, ?it/s]\u001b[A\n",
      "Validation:   0%|          | 0/1 [00:00<?, ?it/s]\u001b[A\n",
      "Validation DataLoader 0:   0%|          | 0/1 [00:00<?, ?it/s]\u001b[A\n",
      "Epoch 49: 100%|██████████| 1/1 [00:00<00:00, 57.07it/s, v_num=0, train_loss_step=14.30, train_loss_epoch=14.50, valid_loss=24.70]\n",
      "Epoch 50:   0%|          | 0/1 [00:00<?, ?it/s, v_num=0, train_loss_step=14.30, train_loss_epoch=14.30, valid_loss=24.70]        \n",
      "Epoch 51:   0%|          | 0/1 [00:00<?, ?it/s, v_num=0, train_loss_step=14.40, train_loss_epoch=14.40, valid_loss=24.70]         \n",
      "Epoch 53:   0%|          | 0/1 [00:00<?, ?it/s, v_num=0, train_loss_step=13.60, train_loss_epoch=13.60, valid_loss=24.70]         \n",
      "Epoch 55:   0%|          | 0/1 [00:00<?, ?it/s, v_num=0, train_loss_step=13.30, train_loss_epoch=13.30, valid_loss=24.70]         \n",
      "Epoch 56: 100%|██████████| 1/1 [00:00<00:00, 221.21it/s, v_num=0, train_loss_step=13.90, train_loss_epoch=14.10, valid_loss=24.70]\n",
      "Epoch 58:   0%|          | 0/1 [00:00<?, ?it/s, v_num=0, train_loss_step=12.60, train_loss_epoch=12.60, valid_loss=24.70]         \n",
      "Epoch 60:   0%|          | 0/1 [00:00<?, ?it/s, v_num=0, train_loss_step=12.90, train_loss_epoch=12.90, valid_loss=24.70]         \n",
      "Epoch 62:   0%|          | 0/1 [00:00<?, ?it/s, v_num=0, train_loss_step=12.60, train_loss_epoch=12.60, valid_loss=24.70]         \n",
      "Epoch 64:   0%|          | 0/1 [00:00<?, ?it/s, v_num=0, train_loss_step=12.80, train_loss_epoch=12.80, valid_loss=24.70]         \n",
      "Epoch 65: 100%|██████████| 1/1 [00:00<00:00, 199.99it/s, v_num=0, train_loss_step=12.70, train_loss_epoch=12.70, valid_loss=24.70]\n",
      "Epoch 67:   0%|          | 0/1 [00:00<?, ?it/s, v_num=0, train_loss_step=12.40, train_loss_epoch=12.40, valid_loss=24.70]         \n",
      "Epoch 69:   0%|          | 0/1 [00:00<?, ?it/s, v_num=0, train_loss_step=12.10, train_loss_epoch=12.10, valid_loss=24.70]         \n",
      "Epoch 71:   0%|          | 0/1 [00:00<?, ?it/s, v_num=0, train_loss_step=11.40, train_loss_epoch=11.40, valid_loss=24.70]         \n",
      "Epoch 72:   0%|          | 0/1 [00:00<?, ?it/s, v_num=0, train_loss_step=11.50, train_loss_epoch=11.50, valid_loss=24.70]         \n",
      "Epoch 74:   0%|          | 0/1 [00:00<?, ?it/s, v_num=0, train_loss_step=11.80, train_loss_epoch=11.80, valid_loss=24.70]         \n",
      "Epoch 76:   0%|          | 0/1 [00:00<?, ?it/s, v_num=0, train_loss_step=11.30, train_loss_epoch=11.30, valid_loss=24.70]         \n",
      "Epoch 78:   0%|          | 0/1 [00:00<?, ?it/s, v_num=0, train_loss_step=11.50, train_loss_epoch=11.50, valid_loss=24.70]         \n",
      "Epoch 79:   0%|          | 0/1 [00:00<?, ?it/s, v_num=0, train_loss_step=11.30, train_loss_epoch=11.30, valid_loss=24.70]         \n",
      "Epoch 81:   0%|          | 0/1 [00:00<?, ?it/s, v_num=0, train_loss_step=11.30, train_loss_epoch=11.30, valid_loss=24.70]         \n",
      "Epoch 83:   0%|          | 0/1 [00:00<?, ?it/s, v_num=0, train_loss_step=11.20, train_loss_epoch=11.20, valid_loss=24.70]         \n",
      "Epoch 85:   0%|          | 0/1 [00:00<?, ?it/s, v_num=0, train_loss_step=11.10, train_loss_epoch=11.10, valid_loss=24.70]         \n",
      "Epoch 86: 100%|██████████| 1/1 [00:00<00:00, 160.89it/s, v_num=0, train_loss_step=11.00, train_loss_epoch=11.00, valid_loss=24.70]\n",
      "Epoch 88:   0%|          | 0/1 [00:00<?, ?it/s, v_num=0, train_loss_step=10.90, train_loss_epoch=10.90, valid_loss=24.70]         \n",
      "Epoch 90:   0%|          | 0/1 [00:00<?, ?it/s, v_num=0, train_loss_step=10.50, train_loss_epoch=10.50, valid_loss=24.70]         \n",
      "Epoch 92:   0%|          | 0/1 [00:00<?, ?it/s, v_num=0, train_loss_step=11.00, train_loss_epoch=11.00, valid_loss=24.70]         \n",
      "Epoch 94:   0%|          | 0/1 [00:00<?, ?it/s, v_num=0, train_loss_step=10.70, train_loss_epoch=10.70, valid_loss=24.70]         \n",
      "Epoch 95:   0%|          | 0/1 [00:00<?, ?it/s, v_num=0, train_loss_step=11.10, train_loss_epoch=11.10, valid_loss=24.70]         \n",
      "Epoch 97: 100%|██████████| 1/1 [00:00<00:00, 181.60it/s, v_num=0, train_loss_step=11.00, train_loss_epoch=10.70, valid_loss=24.70]\n",
      "Epoch 99:   0%|          | 0/1 [00:00<?, ?it/s, v_num=0, train_loss_step=10.50, train_loss_epoch=10.50, valid_loss=24.70]         \n",
      "Epoch 99: 100%|██████████| 1/1 [00:00<00:00, 154.36it/s, v_num=0, train_loss_step=10.80, train_loss_epoch=10.50, valid_loss=24.70]\n",
      "Validation: 0it [00:00, ?it/s]\u001b[A\n",
      "Validation:   0%|          | 0/1 [00:00<?, ?it/s]\u001b[A\n",
      "Validation DataLoader 0:   0%|          | 0/1 [00:00<?, ?it/s]\u001b[A\n",
      "Validation DataLoader 0: 100%|██████████| 1/1 [00:00<00:00, 398.66it/s]\u001b[A\n"
     ]
    },
    {
     "name": "stderr",
     "output_type": "stream",
     "text": [
      "\u001b[36m(_train_tune pid=28500)\u001b[0m `Trainer.fit` stopped: `max_steps=100` reached.\n",
      "2024-12-07 21:59:10,507\tINFO tensorboardx.py:311 -- Removed the following hyperparameter values when logging to tensorboard: {'loss': ('__ref_ph', 'de895953'), 'n_freq_downsample': (168, 24, 1), 'n_pool_kernel_size': (2, 2, 2), 'valid_loss': ('__ref_ph', '004b9a7a')}\n"
     ]
    },
    {
     "name": "stdout",
     "output_type": "stream",
     "text": [
      "Epoch 99: 100%|██████████| 1/1 [00:00<00:00, 48.80it/s, v_num=0, train_loss_step=10.80, train_loss_epoch=10.50, valid_loss=18.70] \n",
      "Epoch 99: 100%|██████████| 1/1 [00:00<00:00, 46.52it/s, v_num=0, train_loss_step=10.80, train_loss_epoch=10.80, valid_loss=18.70]\n"
     ]
    },
    {
     "name": "stderr",
     "output_type": "stream",
     "text": [
      "\u001b[36m(_train_tune pid=16948)\u001b[0m D:\\software\\miniconda3\\envs\\ts\\lib\\site-packages\\torch\\storage.py:414: FutureWarning: You are using `torch.load` with `weights_only=False` (the current default value), which uses the default pickle module implicitly. It is possible to construct malicious pickle data which will execute arbitrary code during unpickling (See https://github.com/pytorch/pytorch/blob/main/SECURITY.md#untrusted-models for more details). In a future release, the default value for `weights_only` will be flipped to `True`. This limits the functions that could be executed during unpickling. Arbitrary objects will no longer be allowed to be loaded via this mode unless they are explicitly allowlisted by the user via `torch.serialization.add_safe_globals`. We recommend you start setting `weights_only=True` for any use case where you don't have full control of the loaded file. Please open an issue on GitHub for any issues related to this experimental feature.\n",
      "\u001b[36m(_train_tune pid=16948)\u001b[0m   return torch.load(io.BytesIO(b))\n",
      "\u001b[36m(_train_tune pid=16948)\u001b[0m D:\\software\\miniconda3\\envs\\ts\\lib\\site-packages\\ray\\tune\\integration\\pytorch_lightning.py:194: UserWarning: `ray.tune.integration.pytorch_lightning.TuneReportCallback` is deprecated. Use `ray.tune.integration.pytorch_lightning.TuneReportCheckpointCallback` instead.\n",
      "\u001b[36m(_train_tune pid=16948)\u001b[0m   warnings.warn(\n",
      "\u001b[36m(_train_tune pid=16948)\u001b[0m Global seed set to 8\n",
      "\u001b[36m(_train_tune pid=16948)\u001b[0m GPU available: True (cuda), used: True\n",
      "\u001b[36m(_train_tune pid=16948)\u001b[0m TPU available: False, using: 0 TPU cores\n",
      "\u001b[36m(_train_tune pid=16948)\u001b[0m IPU available: False, using: 0 IPUs\n",
      "\u001b[36m(_train_tune pid=16948)\u001b[0m HPU available: False, using: 0 HPUs\n",
      "\u001b[36m(_train_tune pid=16948)\u001b[0m You are using a CUDA device ('NVIDIA GeForce RTX 4070') that has Tensor Cores. To properly utilize them, you should set `torch.set_float32_matmul_precision('medium' | 'high')` which will trade-off precision for performance. For more details, read https://pytorch.org/docs/stable/generated/torch.set_float32_matmul_precision.html#torch.set_float32_matmul_precision\n",
      "\u001b[36m(_train_tune pid=16948)\u001b[0m Missing logger folder: C:\\Users\\ADMINI~1\\AppData\\Local\\Temp\\ray\\session_2024-12-07_21-58-08_639308_21512\\artifacts\\2024-12-07_21-58-13\\_train_tune_2024-12-07_21-58-07\\working_dirs\\_train_tune_6399b58a\\lightning_logs\n",
      "\u001b[36m(_train_tune pid=16948)\u001b[0m LOCAL_RANK: 0 - CUDA_VISIBLE_DEVICES: [0]\n",
      "\u001b[36m(_train_tune pid=16948)\u001b[0m \n",
      "\u001b[36m(_train_tune pid=16948)\u001b[0m   | Name         | Type          | Params\n",
      "\u001b[36m(_train_tune pid=16948)\u001b[0m -----------------------------------------------\n",
      "\u001b[36m(_train_tune pid=16948)\u001b[0m 0 | loss         | MAE           | 0     \n",
      "\u001b[36m(_train_tune pid=16948)\u001b[0m 1 | padder_train | ConstantPad1d | 0     \n",
      "\u001b[36m(_train_tune pid=16948)\u001b[0m 2 | scaler       | TemporalNorm  | 0     \n",
      "\u001b[36m(_train_tune pid=16948)\u001b[0m 3 | blocks       | ModuleList    | 2.4 M \n",
      "\u001b[36m(_train_tune pid=16948)\u001b[0m -----------------------------------------------\n",
      "\u001b[36m(_train_tune pid=16948)\u001b[0m 2.4 M     Trainable params\n",
      "\u001b[36m(_train_tune pid=16948)\u001b[0m 0         Non-trainable params\n",
      "\u001b[36m(_train_tune pid=16948)\u001b[0m 2.4 M     Total params\n",
      "\u001b[36m(_train_tune pid=16948)\u001b[0m 9.698     Total estimated model params size (MB)\n"
     ]
    },
    {
     "name": "stdout",
     "output_type": "stream",
     "text": [
      "Sanity Checking DataLoader 0:   0%|          | 0/1 [00:00<?, ?it/s]\n",
      "Epoch 4:   0%|          | 0/1 [00:00<?, ?it/s, v_num=0, train_loss_step=43.00, train_loss_epoch=43.00]             \n",
      "Epoch 5:   0%|          | 0/1 [00:00<?, ?it/s, v_num=0, train_loss_step=63.20, train_loss_epoch=63.20]         \n",
      "Epoch 6:   0%|          | 0/1 [00:00<?, ?it/s, v_num=0, train_loss_step=90.30, train_loss_epoch=90.30]         \n",
      "Epoch 8:   0%|          | 0/1 [00:00<?, ?it/s, v_num=0, train_loss_step=50.30, train_loss_epoch=50.30]         \n",
      "Epoch 9: 100%|██████████| 1/1 [00:00<00:00, 161.06it/s, v_num=0, train_loss_step=42.70, train_loss_epoch=42.70]\n",
      "Epoch 11:   0%|          | 0/1 [00:00<?, ?it/s, v_num=0, train_loss_step=42.70, train_loss_epoch=42.70]         \n",
      "Epoch 13:   0%|          | 0/1 [00:00<?, ?it/s, v_num=0, train_loss_step=39.60, train_loss_epoch=39.60]         \n",
      "Epoch 15:   0%|          | 0/1 [00:00<?, ?it/s, v_num=0, train_loss_step=33.50, train_loss_epoch=33.50]         \n",
      "Epoch 17:   0%|          | 0/1 [00:00<?, ?it/s, v_num=0, train_loss_step=38.20, train_loss_epoch=38.20]         \n",
      "Epoch 19:   0%|          | 0/1 [00:00<?, ?it/s, v_num=0, train_loss_step=40.60, train_loss_epoch=40.60]         \n",
      "Epoch 20:   0%|          | 0/1 [00:00<?, ?it/s, v_num=0, train_loss_step=24.90, train_loss_epoch=24.90]         \n",
      "Epoch 22:   0%|          | 0/1 [00:00<?, ?it/s, v_num=0, train_loss_step=29.70, train_loss_epoch=29.70]         \n",
      "Epoch 24:   0%|          | 0/1 [00:00<?, ?it/s, v_num=0, train_loss_step=26.80, train_loss_epoch=26.80]         \n",
      "Epoch 25:   0%|          | 0/1 [00:00<?, ?it/s, v_num=0, train_loss_step=20.90, train_loss_epoch=20.90]         \n",
      "Epoch 27:   0%|          | 0/1 [00:00<?, ?it/s, v_num=0, train_loss_step=20.30, train_loss_epoch=20.30]         \n",
      "Epoch 29:   0%|          | 0/1 [00:00<?, ?it/s, v_num=0, train_loss_step=18.20, train_loss_epoch=18.20]         \n",
      "Epoch 31:   0%|          | 0/1 [00:00<?, ?it/s, v_num=0, train_loss_step=17.20, train_loss_epoch=17.20]         \n",
      "Epoch 32: 100%|██████████| 1/1 [00:00<00:00, 181.41it/s, v_num=0, train_loss_step=14.80, train_loss_epoch=16.40]\n",
      "Epoch 34: 100%|██████████| 1/1 [00:00<00:00, 200.01it/s, v_num=0, train_loss_step=15.80, train_loss_epoch=15.80]\n",
      "Epoch 36:   0%|          | 0/1 [00:00<?, ?it/s, v_num=0, train_loss_step=13.40, train_loss_epoch=13.40]         \n",
      "Epoch 38:   0%|          | 0/1 [00:00<?, ?it/s, v_num=0, train_loss_step=13.40, train_loss_epoch=13.40]         \n",
      "Epoch 40:   0%|          | 0/1 [00:00<?, ?it/s, v_num=0, train_loss_step=13.00, train_loss_epoch=13.00]         \n",
      "Epoch 41: 100%|██████████| 1/1 [00:00<00:00, 197.43it/s, v_num=0, train_loss_step=12.10, train_loss_epoch=12.10]\n",
      "Epoch 43:   0%|          | 0/1 [00:00<?, ?it/s, v_num=0, train_loss_step=12.40, train_loss_epoch=12.40]         \n",
      "Epoch 45:   0%|          | 0/1 [00:00<?, ?it/s, v_num=0, train_loss_step=12.10, train_loss_epoch=12.10]         \n",
      "Epoch 47:   0%|          | 0/1 [00:00<?, ?it/s, v_num=0, train_loss_step=11.80, train_loss_epoch=11.80]         \n",
      "Epoch 49:   0%|          | 0/1 [00:00<?, ?it/s, v_num=0, train_loss_step=11.30, train_loss_epoch=11.30]         \n",
      "Epoch 49: 100%|██████████| 1/1 [00:00<00:00, 153.69it/s, v_num=0, train_loss_step=11.00, train_loss_epoch=11.30]\n",
      "Validation: 0it [00:00, ?it/s]\u001b[A\n",
      "Validation:   0%|          | 0/1 [00:00<?, ?it/s]\u001b[A\n",
      "Validation DataLoader 0:   0%|          | 0/1 [00:00<?, ?it/s]\u001b[A\n",
      "Validation DataLoader 0: 100%|██████████| 1/1 [00:00<00:00, 333.33it/s]\u001b[A\n",
      "Epoch 49: 100%|██████████| 1/1 [00:00<00:00, 53.98it/s, v_num=0, train_loss_step=11.00, train_loss_epoch=11.30, valid_loss=16.60]\n",
      "Epoch 50: 100%|██████████| 1/1 [00:00<00:00, 155.86it/s, v_num=0, train_loss_step=10.70, train_loss_epoch=10.70, valid_loss=16.60]\n",
      "Epoch 52: 100%|██████████| 1/1 [00:00<00:00, 153.66it/s, v_num=0, train_loss_step=10.50, train_loss_epoch=10.50, valid_loss=16.60]\n",
      "Epoch 54:   0%|          | 0/1 [00:00<?, ?it/s, v_num=0, train_loss_step=10.20, train_loss_epoch=10.20, valid_loss=16.60]         \n",
      "Epoch 56:   0%|          | 0/1 [00:00<?, ?it/s, v_num=0, train_loss_step=10.30, train_loss_epoch=10.30, valid_loss=16.60]         \n",
      "Epoch 58:   0%|          | 0/1 [00:00<?, ?it/s, v_num=0, train_loss_step=9.700, train_loss_epoch=9.700, valid_loss=16.60]         \n",
      "Epoch 60:   0%|          | 0/1 [00:00<?, ?it/s, v_num=0, train_loss_step=9.940, train_loss_epoch=9.940, valid_loss=16.60]         \n",
      "Epoch 62:   0%|          | 0/1 [00:00<?, ?it/s, v_num=0, train_loss_step=9.930, train_loss_epoch=9.930, valid_loss=16.60]         \n",
      "Epoch 63: 100%|██████████| 1/1 [00:00<00:00, 166.69it/s, v_num=0, train_loss_step=9.820, train_loss_epoch=9.660, valid_loss=16.60]\n",
      "Epoch 65:   0%|          | 0/1 [00:00<?, ?it/s, v_num=0, train_loss_step=9.300, train_loss_epoch=9.300, valid_loss=16.60]         \n",
      "Epoch 67:   0%|          | 0/1 [00:00<?, ?it/s, v_num=0, train_loss_step=9.230, train_loss_epoch=9.230, valid_loss=16.60]         \n",
      "Epoch 69:   0%|          | 0/1 [00:00<?, ?it/s, v_num=0, train_loss_step=8.930, train_loss_epoch=8.930, valid_loss=16.60]         \n",
      "Epoch 70: 100%|██████████| 1/1 [00:00<00:00, 142.80it/s, v_num=0, train_loss_step=8.890, train_loss_epoch=8.890, valid_loss=16.60]\n",
      "Epoch 72:   0%|          | 0/1 [00:00<?, ?it/s, v_num=0, train_loss_step=8.970, train_loss_epoch=8.970, valid_loss=16.60]         \n",
      "Epoch 74:   0%|          | 0/1 [00:00<?, ?it/s, v_num=0, train_loss_step=9.040, train_loss_epoch=9.040, valid_loss=16.60]         \n",
      "Epoch 76:   0%|          | 0/1 [00:00<?, ?it/s, v_num=0, train_loss_step=8.640, train_loss_epoch=8.640, valid_loss=16.60]         \n",
      "Epoch 77: 100%|██████████| 1/1 [00:00<00:00, 181.56it/s, v_num=0, train_loss_step=8.700, train_loss_epoch=8.700, valid_loss=16.60]\n",
      "Epoch 79:   0%|          | 0/1 [00:00<?, ?it/s, v_num=0, train_loss_step=8.910, train_loss_epoch=8.910, valid_loss=16.60]         \n",
      "Epoch 81:   0%|          | 0/1 [00:00<?, ?it/s, v_num=0, train_loss_step=8.560, train_loss_epoch=8.560, valid_loss=16.60]         \n",
      "Epoch 83:   0%|          | 0/1 [00:00<?, ?it/s, v_num=0, train_loss_step=8.440, train_loss_epoch=8.440, valid_loss=16.60]         \n",
      "Epoch 84: 100%|██████████| 1/1 [00:00<00:00, 133.11it/s, v_num=0, train_loss_step=8.160, train_loss_epoch=8.550, valid_loss=16.60]\n",
      "Epoch 86:   0%|          | 0/1 [00:00<?, ?it/s, v_num=0, train_loss_step=8.310, train_loss_epoch=8.310, valid_loss=16.60]         \n",
      "Epoch 88:   0%|          | 0/1 [00:00<?, ?it/s, v_num=0, train_loss_step=8.230, train_loss_epoch=8.230, valid_loss=16.60]         \n",
      "Epoch 90:   0%|          | 0/1 [00:00<?, ?it/s, v_num=0, train_loss_step=8.000, train_loss_epoch=8.000, valid_loss=16.60]         \n",
      "Epoch 92:   0%|          | 0/1 [00:00<?, ?it/s, v_num=0, train_loss_step=8.450, train_loss_epoch=8.450, valid_loss=16.60]         \n",
      "Epoch 94:   0%|          | 0/1 [00:00<?, ?it/s, v_num=0, train_loss_step=8.000, train_loss_epoch=8.000, valid_loss=16.60]         \n",
      "Epoch 95: 100%|██████████| 1/1 [00:00<00:00, 181.47it/s, v_num=0, train_loss_step=7.450, train_loss_epoch=7.450, valid_loss=16.60]\n",
      "Epoch 97:   0%|          | 0/1 [00:00<?, ?it/s, v_num=0, train_loss_step=7.830, train_loss_epoch=7.830, valid_loss=16.60]         \n",
      "Epoch 99:   0%|          | 0/1 [00:00<?, ?it/s, v_num=0, train_loss_step=7.600, train_loss_epoch=7.600, valid_loss=16.60]         \n",
      "Epoch 99: 100%|██████████| 1/1 [00:00<00:00, 181.69it/s, v_num=0, train_loss_step=7.740, train_loss_epoch=7.600, valid_loss=16.60]\n",
      "Validation: 0it [00:00, ?it/s]\u001b[A\n",
      "Validation:   0%|          | 0/1 [00:00<?, ?it/s]\u001b[A\n",
      "Validation DataLoader 0:   0%|          | 0/1 [00:00<?, ?it/s]\u001b[A\n",
      "Validation DataLoader 0: 100%|██████████| 1/1 [00:00<00:00, 500.04it/s]\u001b[A\n"
     ]
    },
    {
     "name": "stderr",
     "output_type": "stream",
     "text": [
      "\u001b[36m(_train_tune pid=16948)\u001b[0m `Trainer.fit` stopped: `max_steps=100` reached.\n",
      "2024-12-07 21:59:18,455\tINFO tensorboardx.py:311 -- Removed the following hyperparameter values when logging to tensorboard: {'loss': ('__ref_ph', 'de895953'), 'n_freq_downsample': (168, 24, 1), 'n_pool_kernel_size': (16, 8, 1), 'valid_loss': ('__ref_ph', '004b9a7a')}\n"
     ]
    },
    {
     "name": "stdout",
     "output_type": "stream",
     "text": [
      "Epoch 99: 100%|██████████| 1/1 [00:00<00:00, 62.40it/s, v_num=0, train_loss_step=7.740, train_loss_epoch=7.600, valid_loss=17.40] \n",
      "Epoch 99: 100%|██████████| 1/1 [00:00<00:00, 58.74it/s, v_num=0, train_loss_step=7.740, train_loss_epoch=7.740, valid_loss=17.40]\n"
     ]
    },
    {
     "name": "stderr",
     "output_type": "stream",
     "text": [
      "\u001b[36m(_train_tune pid=29184)\u001b[0m D:\\software\\miniconda3\\envs\\ts\\lib\\site-packages\\torch\\storage.py:414: FutureWarning: You are using `torch.load` with `weights_only=False` (the current default value), which uses the default pickle module implicitly. It is possible to construct malicious pickle data which will execute arbitrary code during unpickling (See https://github.com/pytorch/pytorch/blob/main/SECURITY.md#untrusted-models for more details). In a future release, the default value for `weights_only` will be flipped to `True`. This limits the functions that could be executed during unpickling. Arbitrary objects will no longer be allowed to be loaded via this mode unless they are explicitly allowlisted by the user via `torch.serialization.add_safe_globals`. We recommend you start setting `weights_only=True` for any use case where you don't have full control of the loaded file. Please open an issue on GitHub for any issues related to this experimental feature.\n",
      "\u001b[36m(_train_tune pid=29184)\u001b[0m   return torch.load(io.BytesIO(b))\n",
      "\u001b[36m(_train_tune pid=29184)\u001b[0m D:\\software\\miniconda3\\envs\\ts\\lib\\site-packages\\ray\\tune\\integration\\pytorch_lightning.py:194: UserWarning: `ray.tune.integration.pytorch_lightning.TuneReportCallback` is deprecated. Use `ray.tune.integration.pytorch_lightning.TuneReportCheckpointCallback` instead.\n",
      "\u001b[36m(_train_tune pid=29184)\u001b[0m   warnings.warn(\n",
      "\u001b[36m(_train_tune pid=29184)\u001b[0m Global seed set to 4\n",
      "\u001b[36m(_train_tune pid=29184)\u001b[0m GPU available: True (cuda), used: True\n",
      "\u001b[36m(_train_tune pid=29184)\u001b[0m TPU available: False, using: 0 TPU cores\n",
      "\u001b[36m(_train_tune pid=29184)\u001b[0m IPU available: False, using: 0 IPUs\n",
      "\u001b[36m(_train_tune pid=29184)\u001b[0m HPU available: False, using: 0 HPUs\n",
      "\u001b[36m(_train_tune pid=29184)\u001b[0m You are using a CUDA device ('NVIDIA GeForce RTX 4070') that has Tensor Cores. To properly utilize them, you should set `torch.set_float32_matmul_precision('medium' | 'high')` which will trade-off precision for performance. For more details, read https://pytorch.org/docs/stable/generated/torch.set_float32_matmul_precision.html#torch.set_float32_matmul_precision\n",
      "\u001b[36m(_train_tune pid=29184)\u001b[0m Missing logger folder: C:\\Users\\ADMINI~1\\AppData\\Local\\Temp\\ray\\session_2024-12-07_21-58-08_639308_21512\\artifacts\\2024-12-07_21-58-13\\_train_tune_2024-12-07_21-58-07\\working_dirs\\_train_tune_776d348f\\lightning_logs\n",
      "\u001b[36m(_train_tune pid=29184)\u001b[0m LOCAL_RANK: 0 - CUDA_VISIBLE_DEVICES: [0]\n",
      "\u001b[36m(_train_tune pid=29184)\u001b[0m \n",
      "\u001b[36m(_train_tune pid=29184)\u001b[0m   | Name         | Type          | Params\n",
      "\u001b[36m(_train_tune pid=29184)\u001b[0m -----------------------------------------------\n",
      "\u001b[36m(_train_tune pid=29184)\u001b[0m 0 | loss         | MAE           | 0     \n",
      "\u001b[36m(_train_tune pid=29184)\u001b[0m 1 | padder_train | ConstantPad1d | 0     \n",
      "\u001b[36m(_train_tune pid=29184)\u001b[0m 2 | scaler       | TemporalNorm  | 0     \n",
      "\u001b[36m(_train_tune pid=29184)\u001b[0m 3 | blocks       | ModuleList    | 2.4 M \n",
      "\u001b[36m(_train_tune pid=29184)\u001b[0m -----------------------------------------------\n",
      "\u001b[36m(_train_tune pid=29184)\u001b[0m 2.4 M     Trainable params\n",
      "\u001b[36m(_train_tune pid=29184)\u001b[0m 0         Non-trainable params\n",
      "\u001b[36m(_train_tune pid=29184)\u001b[0m 2.4 M     Total params\n",
      "\u001b[36m(_train_tune pid=29184)\u001b[0m 9.698     Total estimated model params size (MB)\n"
     ]
    },
    {
     "name": "stdout",
     "output_type": "stream",
     "text": [
      "Sanity Checking DataLoader 0:   0%|          | 0/1 [00:00<?, ?it/s]\n",
      "Epoch 3: 100%|██████████| 1/1 [00:00<00:00, 166.57it/s, v_num=0, train_loss_step=2.49e+13, train_loss_epoch=2.49e+13]\n",
      "Epoch 5:   0%|          | 0/1 [00:00<?, ?it/s, v_num=0, train_loss_step=5.01e+11, train_loss_epoch=5.01e+11]         \n",
      "Epoch 7:   0%|          | 0/1 [00:00<?, ?it/s, v_num=0, train_loss_step=5.61e+11, train_loss_epoch=5.61e+11]         \n",
      "Epoch 9:   0%|          | 0/1 [00:00<?, ?it/s, v_num=0, train_loss_step=2.86e+10, train_loss_epoch=2.86e+10]         \n",
      "Epoch 10:   0%|          | 0/1 [00:00<?, ?it/s, v_num=0, train_loss_step=5.43e+9, train_loss_epoch=5.43e+9]           \n",
      "Epoch 12: 100%|██████████| 1/1 [00:00<00:00, 199.85it/s, v_num=0, train_loss_step=2.74e+11, train_loss_epoch=8.6e+9]\n",
      "Epoch 14: 100%|██████████| 1/1 [00:00<00:00, 153.73it/s, v_num=0, train_loss_step=5.41e+9, train_loss_epoch=5.41e+9]  \n",
      "Epoch 16:   0%|          | 0/1 [00:00<?, ?it/s, v_num=0, train_loss_step=1.88e+10, train_loss_epoch=1.88e+10]         \n",
      "Epoch 18:   0%|          | 0/1 [00:00<?, ?it/s, v_num=0, train_loss_step=9.88e+9, train_loss_epoch=9.88e+9]           \n",
      "Epoch 20:   0%|          | 0/1 [00:00<?, ?it/s, v_num=0, train_loss_step=4.97e+9, train_loss_epoch=4.97e+9]         \n",
      "Epoch 22:   0%|          | 0/1 [00:00<?, ?it/s, v_num=0, train_loss_step=4.65e+11, train_loss_epoch=4.65e+11]         \n",
      "Epoch 24:   0%|          | 0/1 [00:00<?, ?it/s, v_num=0, train_loss_step=2.3e+9, train_loss_epoch=2.3e+9]             \n",
      "Epoch 25: 100%|██████████| 1/1 [00:00<00:00, 152.65it/s, v_num=0, train_loss_step=1.37e+11, train_loss_epoch=1.37e+11]\n",
      "Epoch 27: 100%|██████████| 1/1 [00:00<00:00, 164.21it/s, v_num=0, train_loss_step=8.78e+10, train_loss_epoch=5.47e+10]\n",
      "Epoch 29:   0%|          | 0/1 [00:00<?, ?it/s, v_num=0, train_loss_step=1.03e+10, train_loss_epoch=1.03e+10]         \n",
      "Epoch 31:   0%|          | 0/1 [00:00<?, ?it/s, v_num=0, train_loss_step=1.62e+9, train_loss_epoch=1.62e+9]           \n",
      "Epoch 33:   0%|          | 0/1 [00:00<?, ?it/s, v_num=0, train_loss_step=5.44e+9, train_loss_epoch=5.44e+9]           \n",
      "Epoch 35:   0%|          | 0/1 [00:00<?, ?it/s, v_num=0, train_loss_step=5.15e+8, train_loss_epoch=5.15e+8]         \n",
      "Epoch 37:   0%|          | 0/1 [00:00<?, ?it/s, v_num=0, train_loss_step=4.31e+8, train_loss_epoch=4.31e+8]         \n",
      "Epoch 38: 100%|██████████| 1/1 [00:00<00:00, 197.61it/s, v_num=0, train_loss_step=3.21e+8, train_loss_epoch=3.21e+8]\n",
      "Epoch 40:   0%|          | 0/1 [00:00<?, ?it/s, v_num=0, train_loss_step=2.55e+8, train_loss_epoch=2.55e+8]         \n",
      "Epoch 42:   0%|          | 0/1 [00:00<?, ?it/s, v_num=0, train_loss_step=8.01e+7, train_loss_epoch=8.01e+7]         \n",
      "Epoch 44:   0%|          | 0/1 [00:00<?, ?it/s, v_num=0, train_loss_step=4.19e+6, train_loss_epoch=4.19e+6]         \n",
      "Epoch 45:   0%|          | 0/1 [00:00<?, ?it/s, v_num=0, train_loss_step=1.23e+7, train_loss_epoch=1.23e+7]         \n",
      "Epoch 46: 100%|██████████| 1/1 [00:00<00:00, 160.82it/s, v_num=0, train_loss_step=1.07e+7, train_loss_epoch=1.07e+7]\n",
      "Epoch 48:   0%|          | 0/1 [00:00<?, ?it/s, v_num=0, train_loss_step=1.84e+6, train_loss_epoch=1.84e+6]         \n",
      "Epoch 49: 100%|██████████| 1/1 [00:00<00:00, 166.56it/s, v_num=0, train_loss_step=3.69e+4, train_loss_epoch=1.65e+7]\n",
      "Validation: 0it [00:00, ?it/s]\u001b[A\n",
      "Validation:   0%|          | 0/1 [00:00<?, ?it/s]\u001b[A\n",
      "Validation DataLoader 0:   0%|          | 0/1 [00:00<?, ?it/s]\u001b[A\n",
      "Validation DataLoader 0: 100%|██████████| 1/1 [00:00<00:00, 663.45it/s]\u001b[A\n",
      "Epoch 49: 100%|██████████| 1/1 [00:00<00:00, 37.01it/s, v_num=0, train_loss_step=3.69e+4, train_loss_epoch=1.65e+7, valid_loss=5.54e+7]\n",
      "Epoch 66:   0%|          | 0/1 [00:00<?, ?it/s, v_num=0, train_loss_step=2.38e+4, train_loss_epoch=2.38e+4, valid_loss=5.54e+7]         \n",
      "Epoch 68:   0%|          | 0/1 [00:00<?, ?it/s, v_num=0, train_loss_step=1.89e+4, train_loss_epoch=1.89e+4, valid_loss=5.54e+7]         \n",
      "Epoch 70:   0%|          | 0/1 [00:00<?, ?it/s, v_num=0, train_loss_step=1.42e+4, train_loss_epoch=1.42e+4, valid_loss=5.54e+7]         \n",
      "Epoch 72:   0%|          | 0/1 [00:00<?, ?it/s, v_num=0, train_loss_step=8.4e+3, train_loss_epoch=8.4e+3, valid_loss=5.54e+7]           \n",
      "Epoch 74:   0%|          | 0/1 [00:00<?, ?it/s, v_num=0, train_loss_step=1.15e+3, train_loss_epoch=1.15e+3, valid_loss=5.54e+7]         \n",
      "Epoch 76:   0%|          | 0/1 [00:00<?, ?it/s, v_num=0, train_loss_step=5.67e+3, train_loss_epoch=5.67e+3, valid_loss=5.54e+7]         \n",
      "Epoch 77: 100%|██████████| 1/1 [00:00<00:00, 199.87it/s, v_num=0, train_loss_step=8.85e+3, train_loss_epoch=7.66e+3, valid_loss=5.54e+7]\n",
      "Epoch 79:   0%|          | 0/1 [00:00<?, ?it/s, v_num=0, train_loss_step=9.38e+3, train_loss_epoch=9.38e+3, valid_loss=5.54e+7]         \n",
      "Epoch 81:   0%|          | 0/1 [00:00<?, ?it/s, v_num=0, train_loss_step=8.33e+3, train_loss_epoch=8.33e+3, valid_loss=5.54e+7]         \n",
      "Epoch 83:   0%|          | 0/1 [00:00<?, ?it/s, v_num=0, train_loss_step=5.42e+3, train_loss_epoch=5.42e+3, valid_loss=5.54e+7]         \n",
      "Epoch 85:   0%|          | 0/1 [00:00<?, ?it/s, v_num=0, train_loss_step=931.0, train_loss_epoch=931.0, valid_loss=5.54e+7]             \n",
      "Epoch 87:   0%|          | 0/1 [00:00<?, ?it/s, v_num=0, train_loss_step=3.69e+3, train_loss_epoch=3.69e+3, valid_loss=5.54e+7]         \n",
      "Epoch 88: 100%|██████████| 1/1 [00:00<00:00, 200.03it/s, v_num=0, train_loss_step=5.18e+3, train_loss_epoch=5.18e+3, valid_loss=5.54e+7]\n",
      "Epoch 90:   0%|          | 0/1 [00:00<?, ?it/s, v_num=0, train_loss_step=4.83e+3, train_loss_epoch=4.83e+3, valid_loss=5.54e+7]         \n",
      "Epoch 92:   0%|          | 0/1 [00:00<?, ?it/s, v_num=0, train_loss_step=2.92e+3, train_loss_epoch=2.92e+3, valid_loss=5.54e+7]         \n",
      "Epoch 94:   0%|          | 0/1 [00:00<?, ?it/s, v_num=0, train_loss_step=785.0, train_loss_epoch=785.0, valid_loss=5.54e+7]             \n",
      "Epoch 96:   0%|          | 0/1 [00:00<?, ?it/s, v_num=0, train_loss_step=2.68e+3, train_loss_epoch=2.68e+3, valid_loss=5.54e+7]         \n",
      "Epoch 97: 100%|██████████| 1/1 [00:00<00:00, 153.59it/s, v_num=0, train_loss_step=2.18e+3, train_loss_epoch=2.18e+3, valid_loss=5.54e+7]\n",
      "Epoch 99: 100%|██████████| 1/1 [00:00<00:00, 153.71it/s, v_num=0, train_loss_step=175.0, train_loss_epoch=1.23e+3, valid_loss=5.54e+7]  \n",
      "\u001b[36m(_train_tune pid=29184)\u001b[0m \n",
      "Validation: 0it [00:00, ?it/s]\u001b[A\n",
      "Validation:   0%|          | 0/1 [00:00<?, ?it/s]\u001b[A\n",
      "Validation DataLoader 0:   0%|          | 0/1 [00:00<?, ?it/s]\u001b[A\n",
      "Validation DataLoader 0: 100%|██████████| 1/1 [00:00<00:00, 500.27it/s]\u001b[A\n"
     ]
    },
    {
     "name": "stderr",
     "output_type": "stream",
     "text": [
      "\u001b[36m(_train_tune pid=29184)\u001b[0m `Trainer.fit` stopped: `max_steps=100` reached.\n",
      "2024-12-07 21:59:26,718\tINFO tensorboardx.py:311 -- Removed the following hyperparameter values when logging to tensorboard: {'loss': ('__ref_ph', 'de895953'), 'n_freq_downsample': (168, 24, 1), 'n_pool_kernel_size': (16, 8, 1), 'valid_loss': ('__ref_ph', '004b9a7a')}\n"
     ]
    },
    {
     "name": "stdout",
     "output_type": "stream",
     "text": [
      "Epoch 99: 100%|██████████| 1/1 [00:00<00:00, 44.10it/s, v_num=0, train_loss_step=175.0, train_loss_epoch=1.23e+3, valid_loss=901.0]   \n",
      "Epoch 99: 100%|██████████| 1/1 [00:00<00:00, 42.23it/s, v_num=0, train_loss_step=175.0, train_loss_epoch=175.0, valid_loss=901.0]  \n"
     ]
    },
    {
     "name": "stderr",
     "output_type": "stream",
     "text": [
      "\u001b[36m(_train_tune pid=19260)\u001b[0m D:\\software\\miniconda3\\envs\\ts\\lib\\site-packages\\torch\\storage.py:414: FutureWarning: You are using `torch.load` with `weights_only=False` (the current default value), which uses the default pickle module implicitly. It is possible to construct malicious pickle data which will execute arbitrary code during unpickling (See https://github.com/pytorch/pytorch/blob/main/SECURITY.md#untrusted-models for more details). In a future release, the default value for `weights_only` will be flipped to `True`. This limits the functions that could be executed during unpickling. Arbitrary objects will no longer be allowed to be loaded via this mode unless they are explicitly allowlisted by the user via `torch.serialization.add_safe_globals`. We recommend you start setting `weights_only=True` for any use case where you don't have full control of the loaded file. Please open an issue on GitHub for any issues related to this experimental feature.\n",
      "\u001b[36m(_train_tune pid=19260)\u001b[0m   return torch.load(io.BytesIO(b))\n",
      "\u001b[36m(_train_tune pid=19260)\u001b[0m D:\\software\\miniconda3\\envs\\ts\\lib\\site-packages\\ray\\tune\\integration\\pytorch_lightning.py:194: UserWarning: `ray.tune.integration.pytorch_lightning.TuneReportCallback` is deprecated. Use `ray.tune.integration.pytorch_lightning.TuneReportCheckpointCallback` instead.\n",
      "\u001b[36m(_train_tune pid=19260)\u001b[0m   warnings.warn(\n",
      "\u001b[36m(_train_tune pid=19260)\u001b[0m Global seed set to 2\n",
      "\u001b[36m(_train_tune pid=19260)\u001b[0m GPU available: True (cuda), used: True\n",
      "\u001b[36m(_train_tune pid=19260)\u001b[0m TPU available: False, using: 0 TPU cores\n",
      "\u001b[36m(_train_tune pid=19260)\u001b[0m IPU available: False, using: 0 IPUs\n",
      "\u001b[36m(_train_tune pid=19260)\u001b[0m HPU available: False, using: 0 HPUs\n",
      "\u001b[36m(_train_tune pid=19260)\u001b[0m You are using a CUDA device ('NVIDIA GeForce RTX 4070') that has Tensor Cores. To properly utilize them, you should set `torch.set_float32_matmul_precision('medium' | 'high')` which will trade-off precision for performance. For more details, read https://pytorch.org/docs/stable/generated/torch.set_float32_matmul_precision.html#torch.set_float32_matmul_precision\n",
      "\u001b[36m(_train_tune pid=19260)\u001b[0m Missing logger folder: C:\\Users\\ADMINI~1\\AppData\\Local\\Temp\\ray\\session_2024-12-07_21-58-08_639308_21512\\artifacts\\2024-12-07_21-58-13\\_train_tune_2024-12-07_21-58-07\\working_dirs\\_train_tune_afc3d5ee\\lightning_logs\n",
      "\u001b[36m(_train_tune pid=19260)\u001b[0m LOCAL_RANK: 0 - CUDA_VISIBLE_DEVICES: [0]\n",
      "\u001b[36m(_train_tune pid=19260)\u001b[0m \n",
      "\u001b[36m(_train_tune pid=19260)\u001b[0m   | Name         | Type          | Params\n",
      "\u001b[36m(_train_tune pid=19260)\u001b[0m -----------------------------------------------\n",
      "\u001b[36m(_train_tune pid=19260)\u001b[0m 0 | loss         | MAE           | 0     \n",
      "\u001b[36m(_train_tune pid=19260)\u001b[0m 1 | padder_train | ConstantPad1d | 0     \n",
      "\u001b[36m(_train_tune pid=19260)\u001b[0m 2 | scaler       | TemporalNorm  | 0     \n",
      "\u001b[36m(_train_tune pid=19260)\u001b[0m 3 | blocks       | ModuleList    | 2.4 M \n",
      "\u001b[36m(_train_tune pid=19260)\u001b[0m -----------------------------------------------\n",
      "\u001b[36m(_train_tune pid=19260)\u001b[0m 2.4 M     Trainable params\n",
      "\u001b[36m(_train_tune pid=19260)\u001b[0m 0         Non-trainable params\n",
      "\u001b[36m(_train_tune pid=19260)\u001b[0m 2.4 M     Total params\n",
      "\u001b[36m(_train_tune pid=19260)\u001b[0m 9.757     Total estimated model params size (MB)\n"
     ]
    },
    {
     "name": "stdout",
     "output_type": "stream",
     "text": [
      "Sanity Checking DataLoader 0:   0%|          | 0/1 [00:00<?, ?it/s]\n",
      "Epoch 0:   0%|          | 0/1 [00:00<?, ?it/s]                             \n",
      "Epoch 12:   0%|          | 0/1 [00:00<?, ?it/s, v_num=0, train_loss_step=39.40, train_loss_epoch=39.40]         \n",
      "Epoch 14:   0%|          | 0/1 [00:00<?, ?it/s, v_num=0, train_loss_step=38.50, train_loss_epoch=38.50]         \n",
      "Epoch 16:   0%|          | 0/1 [00:00<?, ?it/s, v_num=0, train_loss_step=36.80, train_loss_epoch=36.80]         \n",
      "Epoch 18:   0%|          | 0/1 [00:00<?, ?it/s, v_num=0, train_loss_step=36.80, train_loss_epoch=36.80]         \n",
      "Epoch 20:   0%|          | 0/1 [00:00<?, ?it/s, v_num=0, train_loss_step=36.50, train_loss_epoch=36.50]         \n",
      "Epoch 22:   0%|          | 0/1 [00:00<?, ?it/s, v_num=0, train_loss_step=34.20, train_loss_epoch=34.20]         \n",
      "Epoch 24:   0%|          | 0/1 [00:00<?, ?it/s, v_num=0, train_loss_step=34.30, train_loss_epoch=34.30]         \n",
      "Epoch 26:   0%|          | 0/1 [00:00<?, ?it/s, v_num=0, train_loss_step=33.70, train_loss_epoch=33.70]         \n",
      "Epoch 28:   0%|          | 0/1 [00:00<?, ?it/s, v_num=0, train_loss_step=32.90, train_loss_epoch=32.90]         \n",
      "Epoch 30:   0%|          | 0/1 [00:00<?, ?it/s, v_num=0, train_loss_step=31.90, train_loss_epoch=31.90]         \n",
      "Epoch 31: 100%|██████████| 1/1 [00:00<00:00, 153.68it/s, v_num=0, train_loss_step=29.40, train_loss_epoch=29.40]\n",
      "Epoch 33: 100%|██████████| 1/1 [00:00<00:00, 153.68it/s, v_num=0, train_loss_step=28.60, train_loss_epoch=28.60]\n",
      "Epoch 35: 100%|██████████| 1/1 [00:00<00:00, 181.44it/s, v_num=0, train_loss_step=27.80, train_loss_epoch=27.80]\n",
      "Epoch 37:   0%|          | 0/1 [00:00<?, ?it/s, v_num=0, train_loss_step=26.50, train_loss_epoch=26.50]         \n",
      "Epoch 39:   0%|          | 0/1 [00:00<?, ?it/s, v_num=0, train_loss_step=27.20, train_loss_epoch=27.20]         \n",
      "Epoch 41:   0%|          | 0/1 [00:00<?, ?it/s, v_num=0, train_loss_step=25.70, train_loss_epoch=25.70]         \n",
      "Epoch 43:   0%|          | 0/1 [00:00<?, ?it/s, v_num=0, train_loss_step=24.10, train_loss_epoch=24.10]         \n",
      "Epoch 45:   0%|          | 0/1 [00:00<?, ?it/s, v_num=0, train_loss_step=24.50, train_loss_epoch=24.50]         \n",
      "Epoch 47:   0%|          | 0/1 [00:00<?, ?it/s, v_num=0, train_loss_step=22.70, train_loss_epoch=22.70]         \n",
      "Epoch 49:   0%|          | 0/1 [00:00<?, ?it/s, v_num=0, train_loss_step=22.70, train_loss_epoch=22.70]         \n",
      "Epoch 49: 100%|██████████| 1/1 [00:00<00:00, 166.55it/s, v_num=0, train_loss_step=22.10, train_loss_epoch=22.70]\n",
      "Validation: 0it [00:00, ?it/s]\u001b[A\n",
      "Validation:   0%|          | 0/1 [00:00<?, ?it/s]\u001b[A\n",
      "Validation DataLoader 0:   0%|          | 0/1 [00:00<?, ?it/s]\u001b[A\n",
      "Validation DataLoader 0: 100%|██████████| 1/1 [00:00<00:00, 663.45it/s]\u001b[A\n",
      "Epoch 49: 100%|██████████| 1/1 [00:00<00:00, 49.95it/s, v_num=0, train_loss_step=22.10, train_loss_epoch=22.70, valid_loss=33.20]\n",
      "Epoch 51:   0%|          | 0/1 [00:00<?, ?it/s, v_num=0, train_loss_step=21.30, train_loss_epoch=21.30, valid_loss=33.20]         \n",
      "Epoch 53:   0%|          | 0/1 [00:00<?, ?it/s, v_num=0, train_loss_step=21.40, train_loss_epoch=21.40, valid_loss=33.20]         \n",
      "Epoch 54:   0%|          | 0/1 [00:00<?, ?it/s, v_num=0, train_loss_step=21.20, train_loss_epoch=21.20, valid_loss=33.20]         \n",
      "Epoch 54: 100%|██████████| 1/1 [00:00<00:00, 141.13it/s, v_num=0, train_loss_step=20.20, train_loss_epoch=20.20, valid_loss=33.20]\n",
      "Epoch 56:   0%|          | 0/1 [00:00<?, ?it/s, v_num=0, train_loss_step=20.10, train_loss_epoch=20.10, valid_loss=33.20]         \n",
      "Epoch 57: 100%|██████████| 1/1 [00:00<00:00, 200.01it/s, v_num=0, train_loss_step=19.80, train_loss_epoch=19.80, valid_loss=33.20]\n",
      "Epoch 59: 100%|██████████| 1/1 [00:00<00:00, 153.57it/s, v_num=0, train_loss_step=19.80, train_loss_epoch=19.80, valid_loss=33.20]\n",
      "Epoch 61:   0%|          | 0/1 [00:00<?, ?it/s, v_num=0, train_loss_step=19.20, train_loss_epoch=19.20, valid_loss=33.20]         \n",
      "Epoch 63:   0%|          | 0/1 [00:00<?, ?it/s, v_num=0, train_loss_step=19.40, train_loss_epoch=19.40, valid_loss=33.20]         \n",
      "Epoch 65:   0%|          | 0/1 [00:00<?, ?it/s, v_num=0, train_loss_step=18.70, train_loss_epoch=18.70, valid_loss=33.20]         \n",
      "Epoch 67:   0%|          | 0/1 [00:00<?, ?it/s, v_num=0, train_loss_step=18.70, train_loss_epoch=18.70, valid_loss=33.20]         \n",
      "Epoch 69:   0%|          | 0/1 [00:00<?, ?it/s, v_num=0, train_loss_step=18.30, train_loss_epoch=18.30, valid_loss=33.20]         \n",
      "Epoch 71:   0%|          | 0/1 [00:00<?, ?it/s, v_num=0, train_loss_step=18.40, train_loss_epoch=18.40, valid_loss=33.20]         \n",
      "Epoch 73:   0%|          | 0/1 [00:00<?, ?it/s, v_num=0, train_loss_step=17.70, train_loss_epoch=17.70, valid_loss=33.20]         \n",
      "Epoch 74: 100%|██████████| 1/1 [00:00<00:00, 105.18it/s, v_num=0, train_loss_step=18.20, train_loss_epoch=18.20, valid_loss=33.20]\n",
      "Epoch 76:   0%|          | 0/1 [00:00<?, ?it/s, v_num=0, train_loss_step=18.00, train_loss_epoch=18.00, valid_loss=33.20]         \n",
      "Epoch 78:   0%|          | 0/1 [00:00<?, ?it/s, v_num=0, train_loss_step=17.60, train_loss_epoch=17.60, valid_loss=33.20]         \n",
      "Epoch 80:   0%|          | 0/1 [00:00<?, ?it/s, v_num=0, train_loss_step=17.60, train_loss_epoch=17.60, valid_loss=33.20]         \n",
      "Epoch 82:   0%|          | 0/1 [00:00<?, ?it/s, v_num=0, train_loss_step=17.60, train_loss_epoch=17.60, valid_loss=33.20]         \n",
      "Epoch 84:   0%|          | 0/1 [00:00<?, ?it/s, v_num=0, train_loss_step=17.80, train_loss_epoch=17.80, valid_loss=33.20]         \n",
      "Epoch 86:   0%|          | 0/1 [00:00<?, ?it/s, v_num=0, train_loss_step=17.40, train_loss_epoch=17.40, valid_loss=33.20]         \n",
      "Epoch 88:   0%|          | 0/1 [00:00<?, ?it/s, v_num=0, train_loss_step=16.90, train_loss_epoch=16.90, valid_loss=33.20]         \n",
      "Epoch 90:   0%|          | 0/1 [00:00<?, ?it/s, v_num=0, train_loss_step=17.00, train_loss_epoch=17.00, valid_loss=33.20]         \n",
      "Epoch 91: 100%|██████████| 1/1 [00:00<00:00, 162.27it/s, v_num=0, train_loss_step=16.80, train_loss_epoch=16.80, valid_loss=33.20]\n",
      "Epoch 93:   0%|          | 0/1 [00:00<?, ?it/s, v_num=0, train_loss_step=16.70, train_loss_epoch=16.70, valid_loss=33.20]         \n",
      "Epoch 95:   0%|          | 0/1 [00:00<?, ?it/s, v_num=0, train_loss_step=16.30, train_loss_epoch=16.30, valid_loss=33.20]         \n",
      "Epoch 97:   0%|          | 0/1 [00:00<?, ?it/s, v_num=0, train_loss_step=16.20, train_loss_epoch=16.20, valid_loss=33.20]         \n",
      "Epoch 99:   0%|          | 0/1 [00:00<?, ?it/s, v_num=0, train_loss_step=16.10, train_loss_epoch=16.10, valid_loss=33.20]         \n",
      "Epoch 99: 100%|██████████| 1/1 [00:00<00:00, 181.60it/s, v_num=0, train_loss_step=16.30, train_loss_epoch=16.10, valid_loss=33.20]\n",
      "Validation: 0it [00:00, ?it/s]\u001b[A\n",
      "Validation:   0%|          | 0/1 [00:00<?, ?it/s]\u001b[A\n",
      "Validation DataLoader 0:   0%|          | 0/1 [00:00<?, ?it/s]\u001b[A\n",
      "Validation DataLoader 0: 100%|██████████| 1/1 [00:00<00:00, 499.74it/s]\u001b[A\n"
     ]
    },
    {
     "name": "stderr",
     "output_type": "stream",
     "text": [
      "\u001b[36m(_train_tune pid=19260)\u001b[0m `Trainer.fit` stopped: `max_steps=100` reached.\n",
      "2024-12-07 21:59:34,757\tINFO tensorboardx.py:311 -- Removed the following hyperparameter values when logging to tensorboard: {'loss': ('__ref_ph', 'de895953'), 'n_freq_downsample': (1, 1, 1), 'n_pool_kernel_size': (2, 2, 2), 'valid_loss': ('__ref_ph', '004b9a7a')}\n",
      "2024-12-07 21:59:34,767\tWARNING experiment_state.py:205 -- Experiment state snapshotting has been triggered multiple times in the last 5.0 seconds. A snapshot is forced if `CheckpointConfig(num_to_keep)` is set, and a trial has checkpointed >= `num_to_keep` times since the last snapshot.\n",
      "You may want to consider increasing the `CheckpointConfig(num_to_keep)` or decreasing the frequency of saving checkpoints.\n",
      "You can suppress this error by setting the environment variable TUNE_WARN_EXCESSIVE_EXPERIMENT_CHECKPOINT_SYNC_THRESHOLD_S to a smaller value than the current threshold (5.0).\n",
      "2024-12-07 21:59:34,775\tINFO tune.py:1016 -- Wrote the latest version of all result files and experiment state to 'C:/Users/Administrator/ray_results/_train_tune_2024-12-07_21-58-07' in 0.0158s.\n",
      "Global seed set to 8\n",
      "GPU available: True (cuda), used: True\n"
     ]
    },
    {
     "name": "stdout",
     "output_type": "stream",
     "text": [
      "Epoch 99: 100%|██████████| 1/1 [00:00<00:00, 60.43it/s, v_num=0, train_loss_step=16.30, train_loss_epoch=16.10, valid_loss=26.20] \n",
      "Epoch 99: 100%|██████████| 1/1 [00:00<00:00, 56.99it/s, v_num=0, train_loss_step=16.30, train_loss_epoch=16.30, valid_loss=26.20]\n"
     ]
    },
    {
     "name": "stderr",
     "output_type": "stream",
     "text": [
      "TPU available: False, using: 0 TPU cores\n",
      "IPU available: False, using: 0 IPUs\n",
      "HPU available: False, using: 0 HPUs\n",
      "LOCAL_RANK: 0 - CUDA_VISIBLE_DEVICES: [0]\n",
      "\n",
      "  | Name         | Type          | Params\n",
      "-----------------------------------------------\n",
      "0 | loss         | MAE           | 0     \n",
      "1 | padder_train | ConstantPad1d | 0     \n",
      "2 | scaler       | TemporalNorm  | 0     \n",
      "3 | blocks       | ModuleList    | 2.4 M \n",
      "-----------------------------------------------\n",
      "2.4 M     Trainable params\n",
      "0         Non-trainable params\n",
      "2.4 M     Total params\n",
      "9.698     Total estimated model params size (MB)\n"
     ]
    },
    {
     "data": {
      "application/vnd.jupyter.widget-view+json": {
       "model_id": "",
       "version_major": 2,
       "version_minor": 0
      },
      "text/plain": [
       "Sanity Checking: 0it [00:00, ?it/s]"
      ]
     },
     "metadata": {},
     "output_type": "display_data"
    },
    {
     "data": {
      "application/vnd.jupyter.widget-view+json": {
       "model_id": "aad9a687926b48f8b57add773e675178",
       "version_major": 2,
       "version_minor": 0
      },
      "text/plain": [
       "Training: 0it [00:00, ?it/s]"
      ]
     },
     "metadata": {},
     "output_type": "display_data"
    },
    {
     "data": {
      "application/vnd.jupyter.widget-view+json": {
       "model_id": "",
       "version_major": 2,
       "version_minor": 0
      },
      "text/plain": [
       "Validation: 0it [00:00, ?it/s]"
      ]
     },
     "metadata": {},
     "output_type": "display_data"
    },
    {
     "data": {
      "application/vnd.jupyter.widget-view+json": {
       "model_id": "",
       "version_major": 2,
       "version_minor": 0
      },
      "text/plain": [
       "Validation: 0it [00:00, ?it/s]"
      ]
     },
     "metadata": {},
     "output_type": "display_data"
    },
    {
     "name": "stderr",
     "output_type": "stream",
     "text": [
      "`Trainer.fit` stopped: `max_steps=100` reached.\n"
     ]
    }
   ],
   "source": [
    "nf = NeuralForecast(models = [model], freq = \"M\")\n",
    "nf.fit(df = Y_df, val_size = 24)"
   ]
  },
  {
   "cell_type": "code",
   "execution_count": 31,
   "id": "d27a0771-ce3b-4cc2-97bc-88a95dc5b55f",
   "metadata": {},
   "outputs": [
    {
     "data": {
      "text/html": [
       "<div>\n",
       "<style scoped>\n",
       "    .dataframe tbody tr th:only-of-type {\n",
       "        vertical-align: middle;\n",
       "    }\n",
       "\n",
       "    .dataframe tbody tr th {\n",
       "        vertical-align: top;\n",
       "    }\n",
       "\n",
       "    .dataframe thead th {\n",
       "        text-align: right;\n",
       "    }\n",
       "</style>\n",
       "<table border=\"1\" class=\"dataframe\">\n",
       "  <thead>\n",
       "    <tr style=\"text-align: right;\">\n",
       "      <th></th>\n",
       "      <th>loss</th>\n",
       "      <th>train_loss</th>\n",
       "      <th>timestamp</th>\n",
       "      <th>checkpoint_dir_name</th>\n",
       "      <th>done</th>\n",
       "      <th>training_iteration</th>\n",
       "      <th>trial_id</th>\n",
       "      <th>date</th>\n",
       "      <th>time_this_iter_s</th>\n",
       "      <th>time_total_s</th>\n",
       "      <th>...</th>\n",
       "      <th>config/input_size</th>\n",
       "      <th>config/learning_rate</th>\n",
       "      <th>config/n_pool_kernel_size</th>\n",
       "      <th>config/n_freq_downsample</th>\n",
       "      <th>config/val_check_steps</th>\n",
       "      <th>config/random_seed</th>\n",
       "      <th>config/h</th>\n",
       "      <th>config/loss</th>\n",
       "      <th>config/valid_loss</th>\n",
       "      <th>logdir</th>\n",
       "    </tr>\n",
       "  </thead>\n",
       "  <tbody>\n",
       "    <tr>\n",
       "      <th>0</th>\n",
       "      <td>2.216895e+01</td>\n",
       "      <td>1.340130e+01</td>\n",
       "      <td>1733579902</td>\n",
       "      <td>None</td>\n",
       "      <td>False</td>\n",
       "      <td>2</td>\n",
       "      <td>d3dad1d8</td>\n",
       "      <td>2024-12-07_21-58-22</td>\n",
       "      <td>0.342520</td>\n",
       "      <td>2.897422</td>\n",
       "      <td>...</td>\n",
       "      <td>24</td>\n",
       "      <td>0.000390</td>\n",
       "      <td>(16, 8, 1)</td>\n",
       "      <td>(168, 24, 1)</td>\n",
       "      <td>50</td>\n",
       "      <td>9</td>\n",
       "      <td>12</td>\n",
       "      <td>MAE()</td>\n",
       "      <td>MAE()</td>\n",
       "      <td>d3dad1d8</td>\n",
       "    </tr>\n",
       "    <tr>\n",
       "      <th>1</th>\n",
       "      <td>2.002962e+01</td>\n",
       "      <td>1.226470e+01</td>\n",
       "      <td>1733579910</td>\n",
       "      <td>None</td>\n",
       "      <td>False</td>\n",
       "      <td>2</td>\n",
       "      <td>c1f2e0f1</td>\n",
       "      <td>2024-12-07_21-58-30</td>\n",
       "      <td>0.366552</td>\n",
       "      <td>2.744386</td>\n",
       "      <td>...</td>\n",
       "      <td>24</td>\n",
       "      <td>0.000966</td>\n",
       "      <td>(2, 2, 2)</td>\n",
       "      <td>(24, 12, 1)</td>\n",
       "      <td>50</td>\n",
       "      <td>2</td>\n",
       "      <td>12</td>\n",
       "      <td>MAE()</td>\n",
       "      <td>MAE()</td>\n",
       "      <td>c1f2e0f1</td>\n",
       "    </tr>\n",
       "    <tr>\n",
       "      <th>2</th>\n",
       "      <td>5.880766e+01</td>\n",
       "      <td>3.541467e+01</td>\n",
       "      <td>1733579918</td>\n",
       "      <td>None</td>\n",
       "      <td>False</td>\n",
       "      <td>2</td>\n",
       "      <td>527653e3</td>\n",
       "      <td>2024-12-07_21-58-38</td>\n",
       "      <td>0.382810</td>\n",
       "      <td>2.723147</td>\n",
       "      <td>...</td>\n",
       "      <td>24</td>\n",
       "      <td>0.000024</td>\n",
       "      <td>(16, 8, 1)</td>\n",
       "      <td>(1, 1, 1)</td>\n",
       "      <td>50</td>\n",
       "      <td>9</td>\n",
       "      <td>12</td>\n",
       "      <td>MAE()</td>\n",
       "      <td>MAE()</td>\n",
       "      <td>527653e3</td>\n",
       "    </tr>\n",
       "    <tr>\n",
       "      <th>3</th>\n",
       "      <td>1.992324e+01</td>\n",
       "      <td>1.318050e+01</td>\n",
       "      <td>1733579926</td>\n",
       "      <td>None</td>\n",
       "      <td>False</td>\n",
       "      <td>2</td>\n",
       "      <td>1e067e90</td>\n",
       "      <td>2024-12-07_21-58-46</td>\n",
       "      <td>0.363365</td>\n",
       "      <td>2.716915</td>\n",
       "      <td>...</td>\n",
       "      <td>24</td>\n",
       "      <td>0.000860</td>\n",
       "      <td>(16, 8, 1)</td>\n",
       "      <td>(24, 12, 1)</td>\n",
       "      <td>50</td>\n",
       "      <td>7</td>\n",
       "      <td>12</td>\n",
       "      <td>MAE()</td>\n",
       "      <td>MAE()</td>\n",
       "      <td>1e067e90</td>\n",
       "    </tr>\n",
       "    <tr>\n",
       "      <th>4</th>\n",
       "      <td>1.392712e+08</td>\n",
       "      <td>8.516460e+07</td>\n",
       "      <td>1733579934</td>\n",
       "      <td>None</td>\n",
       "      <td>False</td>\n",
       "      <td>2</td>\n",
       "      <td>9350a408</td>\n",
       "      <td>2024-12-07_21-58-54</td>\n",
       "      <td>0.355987</td>\n",
       "      <td>2.656157</td>\n",
       "      <td>...</td>\n",
       "      <td>24</td>\n",
       "      <td>0.068864</td>\n",
       "      <td>(16, 8, 1)</td>\n",
       "      <td>(1, 1, 1)</td>\n",
       "      <td>50</td>\n",
       "      <td>7</td>\n",
       "      <td>12</td>\n",
       "      <td>MAE()</td>\n",
       "      <td>MAE()</td>\n",
       "      <td>9350a408</td>\n",
       "    </tr>\n",
       "    <tr>\n",
       "      <th>5</th>\n",
       "      <td>8.048640e+08</td>\n",
       "      <td>5.235734e+08</td>\n",
       "      <td>1733579942</td>\n",
       "      <td>None</td>\n",
       "      <td>False</td>\n",
       "      <td>2</td>\n",
       "      <td>6ed39a0e</td>\n",
       "      <td>2024-12-07_21-59-02</td>\n",
       "      <td>0.343608</td>\n",
       "      <td>2.597581</td>\n",
       "      <td>...</td>\n",
       "      <td>24</td>\n",
       "      <td>0.094046</td>\n",
       "      <td>(2, 2, 2)</td>\n",
       "      <td>(168, 24, 1)</td>\n",
       "      <td>50</td>\n",
       "      <td>3</td>\n",
       "      <td>12</td>\n",
       "      <td>MAE()</td>\n",
       "      <td>MAE()</td>\n",
       "      <td>6ed39a0e</td>\n",
       "    </tr>\n",
       "    <tr>\n",
       "      <th>6</th>\n",
       "      <td>1.874331e+01</td>\n",
       "      <td>1.079683e+01</td>\n",
       "      <td>1733579950</td>\n",
       "      <td>None</td>\n",
       "      <td>False</td>\n",
       "      <td>2</td>\n",
       "      <td>391f076b</td>\n",
       "      <td>2024-12-07_21-59-10</td>\n",
       "      <td>0.337792</td>\n",
       "      <td>2.644845</td>\n",
       "      <td>...</td>\n",
       "      <td>24</td>\n",
       "      <td>0.002315</td>\n",
       "      <td>(2, 2, 2)</td>\n",
       "      <td>(168, 24, 1)</td>\n",
       "      <td>50</td>\n",
       "      <td>3</td>\n",
       "      <td>12</td>\n",
       "      <td>MAE()</td>\n",
       "      <td>MAE()</td>\n",
       "      <td>391f076b</td>\n",
       "    </tr>\n",
       "    <tr>\n",
       "      <th>7</th>\n",
       "      <td>1.736157e+01</td>\n",
       "      <td>7.742190e+00</td>\n",
       "      <td>1733579958</td>\n",
       "      <td>None</td>\n",
       "      <td>False</td>\n",
       "      <td>2</td>\n",
       "      <td>6399b58a</td>\n",
       "      <td>2024-12-07_21-59-18</td>\n",
       "      <td>0.342476</td>\n",
       "      <td>2.559814</td>\n",
       "      <td>...</td>\n",
       "      <td>24</td>\n",
       "      <td>0.003473</td>\n",
       "      <td>(16, 8, 1)</td>\n",
       "      <td>(168, 24, 1)</td>\n",
       "      <td>50</td>\n",
       "      <td>8</td>\n",
       "      <td>12</td>\n",
       "      <td>MAE()</td>\n",
       "      <td>MAE()</td>\n",
       "      <td>6399b58a</td>\n",
       "    </tr>\n",
       "    <tr>\n",
       "      <th>8</th>\n",
       "      <td>9.014131e+02</td>\n",
       "      <td>1.747967e+02</td>\n",
       "      <td>1733579966</td>\n",
       "      <td>None</td>\n",
       "      <td>False</td>\n",
       "      <td>2</td>\n",
       "      <td>776d348f</td>\n",
       "      <td>2024-12-07_21-59-26</td>\n",
       "      <td>0.351033</td>\n",
       "      <td>2.613345</td>\n",
       "      <td>...</td>\n",
       "      <td>24</td>\n",
       "      <td>0.063816</td>\n",
       "      <td>(16, 8, 1)</td>\n",
       "      <td>(168, 24, 1)</td>\n",
       "      <td>50</td>\n",
       "      <td>4</td>\n",
       "      <td>12</td>\n",
       "      <td>MAE()</td>\n",
       "      <td>MAE()</td>\n",
       "      <td>776d348f</td>\n",
       "    </tr>\n",
       "    <tr>\n",
       "      <th>9</th>\n",
       "      <td>2.620863e+01</td>\n",
       "      <td>1.634403e+01</td>\n",
       "      <td>1733579974</td>\n",
       "      <td>None</td>\n",
       "      <td>False</td>\n",
       "      <td>2</td>\n",
       "      <td>afc3d5ee</td>\n",
       "      <td>2024-12-07_21-59-34</td>\n",
       "      <td>0.357179</td>\n",
       "      <td>2.611377</td>\n",
       "      <td>...</td>\n",
       "      <td>24</td>\n",
       "      <td>0.000085</td>\n",
       "      <td>(2, 2, 2)</td>\n",
       "      <td>(1, 1, 1)</td>\n",
       "      <td>50</td>\n",
       "      <td>2</td>\n",
       "      <td>12</td>\n",
       "      <td>MAE()</td>\n",
       "      <td>MAE()</td>\n",
       "      <td>afc3d5ee</td>\n",
       "    </tr>\n",
       "  </tbody>\n",
       "</table>\n",
       "<p>10 rows × 26 columns</p>\n",
       "</div>"
      ],
      "text/plain": [
       "           loss    train_loss   timestamp checkpoint_dir_name   done   \n",
       "0  2.216895e+01  1.340130e+01  1733579902                None  False  \\\n",
       "1  2.002962e+01  1.226470e+01  1733579910                None  False   \n",
       "2  5.880766e+01  3.541467e+01  1733579918                None  False   \n",
       "3  1.992324e+01  1.318050e+01  1733579926                None  False   \n",
       "4  1.392712e+08  8.516460e+07  1733579934                None  False   \n",
       "5  8.048640e+08  5.235734e+08  1733579942                None  False   \n",
       "6  1.874331e+01  1.079683e+01  1733579950                None  False   \n",
       "7  1.736157e+01  7.742190e+00  1733579958                None  False   \n",
       "8  9.014131e+02  1.747967e+02  1733579966                None  False   \n",
       "9  2.620863e+01  1.634403e+01  1733579974                None  False   \n",
       "\n",
       "   training_iteration  trial_id                 date  time_this_iter_s   \n",
       "0                   2  d3dad1d8  2024-12-07_21-58-22          0.342520  \\\n",
       "1                   2  c1f2e0f1  2024-12-07_21-58-30          0.366552   \n",
       "2                   2  527653e3  2024-12-07_21-58-38          0.382810   \n",
       "3                   2  1e067e90  2024-12-07_21-58-46          0.363365   \n",
       "4                   2  9350a408  2024-12-07_21-58-54          0.355987   \n",
       "5                   2  6ed39a0e  2024-12-07_21-59-02          0.343608   \n",
       "6                   2  391f076b  2024-12-07_21-59-10          0.337792   \n",
       "7                   2  6399b58a  2024-12-07_21-59-18          0.342476   \n",
       "8                   2  776d348f  2024-12-07_21-59-26          0.351033   \n",
       "9                   2  afc3d5ee  2024-12-07_21-59-34          0.357179   \n",
       "\n",
       "   time_total_s  ...  config/input_size config/learning_rate   \n",
       "0      2.897422  ...                 24             0.000390  \\\n",
       "1      2.744386  ...                 24             0.000966   \n",
       "2      2.723147  ...                 24             0.000024   \n",
       "3      2.716915  ...                 24             0.000860   \n",
       "4      2.656157  ...                 24             0.068864   \n",
       "5      2.597581  ...                 24             0.094046   \n",
       "6      2.644845  ...                 24             0.002315   \n",
       "7      2.559814  ...                 24             0.003473   \n",
       "8      2.613345  ...                 24             0.063816   \n",
       "9      2.611377  ...                 24             0.000085   \n",
       "\n",
       "  config/n_pool_kernel_size  config/n_freq_downsample  config/val_check_steps   \n",
       "0                (16, 8, 1)              (168, 24, 1)                      50  \\\n",
       "1                 (2, 2, 2)               (24, 12, 1)                      50   \n",
       "2                (16, 8, 1)                 (1, 1, 1)                      50   \n",
       "3                (16, 8, 1)               (24, 12, 1)                      50   \n",
       "4                (16, 8, 1)                 (1, 1, 1)                      50   \n",
       "5                 (2, 2, 2)              (168, 24, 1)                      50   \n",
       "6                 (2, 2, 2)              (168, 24, 1)                      50   \n",
       "7                (16, 8, 1)              (168, 24, 1)                      50   \n",
       "8                (16, 8, 1)              (168, 24, 1)                      50   \n",
       "9                 (2, 2, 2)                 (1, 1, 1)                      50   \n",
       "\n",
       "   config/random_seed  config/h  config/loss config/valid_loss    logdir  \n",
       "0                   9        12        MAE()             MAE()  d3dad1d8  \n",
       "1                   2        12        MAE()             MAE()  c1f2e0f1  \n",
       "2                   9        12        MAE()             MAE()  527653e3  \n",
       "3                   7        12        MAE()             MAE()  1e067e90  \n",
       "4                   7        12        MAE()             MAE()  9350a408  \n",
       "5                   3        12        MAE()             MAE()  6ed39a0e  \n",
       "6                   3        12        MAE()             MAE()  391f076b  \n",
       "7                   8        12        MAE()             MAE()  6399b58a  \n",
       "8                   4        12        MAE()             MAE()  776d348f  \n",
       "9                   2        12        MAE()             MAE()  afc3d5ee  \n",
       "\n",
       "[10 rows x 26 columns]"
      ]
     },
     "execution_count": 31,
     "metadata": {},
     "output_type": "execute_result"
    }
   ],
   "source": [
    "results = nf.models[0].results.get_dataframe()\n",
    "results"
   ]
  },
  {
   "cell_type": "markdown",
   "id": "9121e130-ed93-4b18-9228-ca7d4419158b",
   "metadata": {
    "jp-MarkdownHeadingCollapsed": true
   },
   "source": [
    "## model predicting"
   ]
  },
  {
   "cell_type": "code",
   "execution_count": 35,
   "id": "b93df67a-5996-494f-994a-db1984a38a22",
   "metadata": {},
   "outputs": [
    {
     "name": "stderr",
     "output_type": "stream",
     "text": [
      "GPU available: True (cuda), used: True\n",
      "TPU available: False, using: 0 TPU cores\n",
      "IPU available: False, using: 0 IPUs\n",
      "HPU available: False, using: 0 HPUs\n",
      "LOCAL_RANK: 0 - CUDA_VISIBLE_DEVICES: [0]\n"
     ]
    },
    {
     "data": {
      "application/vnd.jupyter.widget-view+json": {
       "model_id": "f21b2d06aff94e80ae04d951dbd6409f",
       "version_major": 2,
       "version_minor": 0
      },
      "text/plain": [
       "Predicting: 0it [00:00, ?it/s]"
      ]
     },
     "metadata": {},
     "output_type": "display_data"
    },
    {
     "data": {
      "text/html": [
       "<div>\n",
       "<style scoped>\n",
       "    .dataframe tbody tr th:only-of-type {\n",
       "        vertical-align: middle;\n",
       "    }\n",
       "\n",
       "    .dataframe tbody tr th {\n",
       "        vertical-align: top;\n",
       "    }\n",
       "\n",
       "    .dataframe thead th {\n",
       "        text-align: right;\n",
       "    }\n",
       "</style>\n",
       "<table border=\"1\" class=\"dataframe\">\n",
       "  <thead>\n",
       "    <tr style=\"text-align: right;\">\n",
       "      <th></th>\n",
       "      <th>unique_id</th>\n",
       "      <th>ds</th>\n",
       "      <th>AutoNHITS</th>\n",
       "    </tr>\n",
       "  </thead>\n",
       "  <tbody>\n",
       "    <tr>\n",
       "      <th>0</th>\n",
       "      <td>1.0</td>\n",
       "      <td>1961-01-31</td>\n",
       "      <td>451.086975</td>\n",
       "    </tr>\n",
       "    <tr>\n",
       "      <th>1</th>\n",
       "      <td>1.0</td>\n",
       "      <td>1961-02-28</td>\n",
       "      <td>424.009766</td>\n",
       "    </tr>\n",
       "    <tr>\n",
       "      <th>2</th>\n",
       "      <td>1.0</td>\n",
       "      <td>1961-03-31</td>\n",
       "      <td>497.700134</td>\n",
       "    </tr>\n",
       "    <tr>\n",
       "      <th>3</th>\n",
       "      <td>1.0</td>\n",
       "      <td>1961-04-30</td>\n",
       "      <td>498.298645</td>\n",
       "    </tr>\n",
       "    <tr>\n",
       "      <th>4</th>\n",
       "      <td>1.0</td>\n",
       "      <td>1961-05-31</td>\n",
       "      <td>512.604980</td>\n",
       "    </tr>\n",
       "    <tr>\n",
       "      <th>5</th>\n",
       "      <td>1.0</td>\n",
       "      <td>1961-06-30</td>\n",
       "      <td>589.544495</td>\n",
       "    </tr>\n",
       "    <tr>\n",
       "      <th>6</th>\n",
       "      <td>1.0</td>\n",
       "      <td>1961-07-31</td>\n",
       "      <td>680.899780</td>\n",
       "    </tr>\n",
       "    <tr>\n",
       "      <th>7</th>\n",
       "      <td>1.0</td>\n",
       "      <td>1961-08-31</td>\n",
       "      <td>675.768188</td>\n",
       "    </tr>\n",
       "    <tr>\n",
       "      <th>8</th>\n",
       "      <td>1.0</td>\n",
       "      <td>1961-09-30</td>\n",
       "      <td>570.443115</td>\n",
       "    </tr>\n",
       "    <tr>\n",
       "      <th>9</th>\n",
       "      <td>1.0</td>\n",
       "      <td>1961-10-31</td>\n",
       "      <td>502.836853</td>\n",
       "    </tr>\n",
       "    <tr>\n",
       "      <th>10</th>\n",
       "      <td>1.0</td>\n",
       "      <td>1961-11-30</td>\n",
       "      <td>426.674500</td>\n",
       "    </tr>\n",
       "    <tr>\n",
       "      <th>11</th>\n",
       "      <td>1.0</td>\n",
       "      <td>1961-12-31</td>\n",
       "      <td>472.989960</td>\n",
       "    </tr>\n",
       "  </tbody>\n",
       "</table>\n",
       "</div>"
      ],
      "text/plain": [
       "    unique_id         ds   AutoNHITS\n",
       "0         1.0 1961-01-31  451.086975\n",
       "1         1.0 1961-02-28  424.009766\n",
       "2         1.0 1961-03-31  497.700134\n",
       "3         1.0 1961-04-30  498.298645\n",
       "4         1.0 1961-05-31  512.604980\n",
       "5         1.0 1961-06-30  589.544495\n",
       "6         1.0 1961-07-31  680.899780\n",
       "7         1.0 1961-08-31  675.768188\n",
       "8         1.0 1961-09-30  570.443115\n",
       "9         1.0 1961-10-31  502.836853\n",
       "10        1.0 1961-11-30  426.674500\n",
       "11        1.0 1961-12-31  472.989960"
      ]
     },
     "execution_count": 35,
     "metadata": {},
     "output_type": "execute_result"
    }
   ],
   "source": [
    "Y_hat_df_ray = nf.predict()\n",
    "Y_hat_df_ray = Y_hat_df_ray.reset_index()\n",
    "Y_hat_df_ray"
   ]
  },
  {
   "cell_type": "markdown",
   "id": "7b5c10f2-2712-4d19-9ccd-8bf21f6f748e",
   "metadata": {
    "jp-MarkdownHeadingCollapsed": true
   },
   "source": [
    "# Optuna hyperparameters grid"
   ]
  },
  {
   "cell_type": "markdown",
   "id": "ed92f739-99bf-46a6-be04-d25382196913",
   "metadata": {
    "jp-MarkdownHeadingCollapsed": true
   },
   "source": [
    "## 默认超参数网格"
   ]
  },
  {
   "cell_type": "code",
   "execution_count": 7,
   "id": "dde95b6b-bd5e-4c59-bdc1-9360f492eb35",
   "metadata": {},
   "outputs": [
    {
     "name": "stdout",
     "output_type": "stream",
     "text": [
      "<function BaseAuto._ray_config_to_optuna.<locals>.optuna_config at 0x000001A0024C19D0>\n"
     ]
    }
   ],
   "source": [
    "nhits_default_config = AutoNHITS.get_default_config(h = 12, backend = \"optuna\")\n",
    "print(nhits_default_config)\n",
    "\n",
    "def config_nhits(trial):\n",
    "    config = {\n",
    "        **nhits_default_config(trial)\n",
    "    }\n",
    "    config.update({\n",
    "        \"random_seed\": trial.suggest_int(\"random_seed\", 1, 10),\n",
    "        \"n_pool_kernel_size\": trial.suggest_categorical(\"n_pool_kernel_size\", [[2, 2, 2], [16, 8, 1]]),\n",
    "    })\n",
    "\n",
    "    return config"
   ]
  },
  {
   "cell_type": "markdown",
   "id": "190fafed-165d-4ee3-9cae-9f15d10d554c",
   "metadata": {
    "jp-MarkdownHeadingCollapsed": true
   },
   "source": [
    "## 自定超参数网格"
   ]
  },
  {
   "cell_type": "code",
   "execution_count": 8,
   "id": "93924200-ea5c-4e1c-9d2f-c0cb9b4924c1",
   "metadata": {},
   "outputs": [],
   "source": [
    "def config_nhits(trial):\n",
    "    return {\n",
    "        \"max_steps\": 100,  # Number of SGD steps\n",
    "        \"input_size\": 24,  # Size of input window\n",
    "        \"learning_rate\": trial.suggest_loguniform(\n",
    "            \"learning_rate\", \n",
    "            1e-5, 1e-1\n",
    "        ),  # Initial Learning rate\n",
    "        \"n_pool_kernel_size\": trial.suggest_categorical(\n",
    "            \"n_pool_kernel_size\", \n",
    "            [[2, 2, 2], [16, 8, 1]]\n",
    "        ),  # MaxPool's Kernelsize\n",
    "        \"n_freq_downsample\": trial.suggest_categorical(\n",
    "            \"n_freq_downsample\", \n",
    "            [[168, 24, 1], [24, 12, 1], [1, 1, 1]]\n",
    "        ),  # Interpolation expressivity ratios\n",
    "        \"val_check_steps\": 50,  # Compute validation every 50 steps\n",
    "        \"random_seed\": trial.suggest_int(\n",
    "            \"random_seed\",\n",
    "            1, 10\n",
    "        ),  # Random seed\n",
    "    }"
   ]
  },
  {
   "cell_type": "markdown",
   "id": "d84442a6-29d2-45a7-943a-893524c77d7e",
   "metadata": {
    "jp-MarkdownHeadingCollapsed": true
   },
   "source": [
    "## model"
   ]
  },
  {
   "cell_type": "code",
   "execution_count": 9,
   "id": "5015bbf3-7997-402e-9942-39e9bbe10b80",
   "metadata": {},
   "outputs": [],
   "source": [
    "model = AutoNHITS(\n",
    "    h = 12,\n",
    "    loss = MAE(),\n",
    "    config = config_nhits,\n",
    "    search_alg = optuna.samplers.TPESampler(),\n",
    "    backend = \"optuna\",\n",
    "    num_samples = 10,\n",
    ")"
   ]
  },
  {
   "cell_type": "markdown",
   "id": "a43ec679-dacb-4557-9769-6af948154a18",
   "metadata": {
    "jp-MarkdownHeadingCollapsed": true
   },
   "source": [
    "## model training"
   ]
  },
  {
   "cell_type": "code",
   "execution_count": 13,
   "id": "e3ba6883-983b-43fa-b0d6-d263bc39f8ce",
   "metadata": {},
   "outputs": [
    {
     "name": "stderr",
     "output_type": "stream",
     "text": [
      "Global seed set to 9\n",
      "GPU available: True (cuda), used: True\n",
      "TPU available: False, using: 0 TPU cores\n",
      "IPU available: False, using: 0 IPUs\n",
      "HPU available: False, using: 0 HPUs\n",
      "LOCAL_RANK: 0 - CUDA_VISIBLE_DEVICES: [0]\n",
      "\n",
      "  | Name         | Type          | Params\n",
      "-----------------------------------------------\n",
      "0 | loss         | MAE           | 0     \n",
      "1 | padder_train | ConstantPad1d | 0     \n",
      "2 | scaler       | TemporalNorm  | 0     \n",
      "3 | blocks       | ModuleList    | 2.4 M \n",
      "-----------------------------------------------\n",
      "2.4 M     Trainable params\n",
      "0         Non-trainable params\n",
      "2.4 M     Total params\n",
      "9.743     Total estimated model params size (MB)\n"
     ]
    },
    {
     "data": {
      "application/vnd.jupyter.widget-view+json": {
       "model_id": "",
       "version_major": 2,
       "version_minor": 0
      },
      "text/plain": [
       "Sanity Checking: 0it [00:00, ?it/s]"
      ]
     },
     "metadata": {},
     "output_type": "display_data"
    },
    {
     "data": {
      "application/vnd.jupyter.widget-view+json": {
       "model_id": "9be4b0b281354e2a8cce28922fa8f52a",
       "version_major": 2,
       "version_minor": 0
      },
      "text/plain": [
       "Training: 0it [00:00, ?it/s]"
      ]
     },
     "metadata": {},
     "output_type": "display_data"
    },
    {
     "data": {
      "application/vnd.jupyter.widget-view+json": {
       "model_id": "",
       "version_major": 2,
       "version_minor": 0
      },
      "text/plain": [
       "Validation: 0it [00:00, ?it/s]"
      ]
     },
     "metadata": {},
     "output_type": "display_data"
    },
    {
     "data": {
      "application/vnd.jupyter.widget-view+json": {
       "model_id": "",
       "version_major": 2,
       "version_minor": 0
      },
      "text/plain": [
       "Validation: 0it [00:00, ?it/s]"
      ]
     },
     "metadata": {},
     "output_type": "display_data"
    },
    {
     "name": "stderr",
     "output_type": "stream",
     "text": [
      "`Trainer.fit` stopped: `max_steps=100` reached.\n",
      "Global seed set to 7\n",
      "GPU available: True (cuda), used: True\n",
      "TPU available: False, using: 0 TPU cores\n",
      "IPU available: False, using: 0 IPUs\n",
      "HPU available: False, using: 0 HPUs\n",
      "LOCAL_RANK: 0 - CUDA_VISIBLE_DEVICES: [0]\n",
      "\n",
      "  | Name         | Type          | Params\n",
      "-----------------------------------------------\n",
      "0 | loss         | MAE           | 0     \n",
      "1 | padder_train | ConstantPad1d | 0     \n",
      "2 | scaler       | TemporalNorm  | 0     \n",
      "3 | blocks       | ModuleList    | 2.4 M \n",
      "-----------------------------------------------\n",
      "2.4 M     Trainable params\n",
      "0         Non-trainable params\n",
      "2.4 M     Total params\n",
      "9.757     Total estimated model params size (MB)\n"
     ]
    },
    {
     "data": {
      "application/vnd.jupyter.widget-view+json": {
       "model_id": "",
       "version_major": 2,
       "version_minor": 0
      },
      "text/plain": [
       "Sanity Checking: 0it [00:00, ?it/s]"
      ]
     },
     "metadata": {},
     "output_type": "display_data"
    },
    {
     "data": {
      "application/vnd.jupyter.widget-view+json": {
       "model_id": "85d74caa44fa430487b476044c19f0bd",
       "version_major": 2,
       "version_minor": 0
      },
      "text/plain": [
       "Training: 0it [00:00, ?it/s]"
      ]
     },
     "metadata": {},
     "output_type": "display_data"
    },
    {
     "data": {
      "application/vnd.jupyter.widget-view+json": {
       "model_id": "",
       "version_major": 2,
       "version_minor": 0
      },
      "text/plain": [
       "Validation: 0it [00:00, ?it/s]"
      ]
     },
     "metadata": {},
     "output_type": "display_data"
    },
    {
     "data": {
      "application/vnd.jupyter.widget-view+json": {
       "model_id": "",
       "version_major": 2,
       "version_minor": 0
      },
      "text/plain": [
       "Validation: 0it [00:00, ?it/s]"
      ]
     },
     "metadata": {},
     "output_type": "display_data"
    },
    {
     "name": "stderr",
     "output_type": "stream",
     "text": [
      "`Trainer.fit` stopped: `max_steps=100` reached.\n",
      "Global seed set to 9\n",
      "GPU available: True (cuda), used: True\n",
      "TPU available: False, using: 0 TPU cores\n",
      "IPU available: False, using: 0 IPUs\n",
      "HPU available: False, using: 0 HPUs\n",
      "LOCAL_RANK: 0 - CUDA_VISIBLE_DEVICES: [0]\n",
      "\n",
      "  | Name         | Type          | Params\n",
      "-----------------------------------------------\n",
      "0 | loss         | MAE           | 0     \n",
      "1 | padder_train | ConstantPad1d | 0     \n",
      "2 | scaler       | TemporalNorm  | 0     \n",
      "3 | blocks       | ModuleList    | 2.4 M \n",
      "-----------------------------------------------\n",
      "2.4 M     Trainable params\n",
      "0         Non-trainable params\n",
      "2.4 M     Total params\n",
      "9.712     Total estimated model params size (MB)\n"
     ]
    },
    {
     "data": {
      "application/vnd.jupyter.widget-view+json": {
       "model_id": "",
       "version_major": 2,
       "version_minor": 0
      },
      "text/plain": [
       "Sanity Checking: 0it [00:00, ?it/s]"
      ]
     },
     "metadata": {},
     "output_type": "display_data"
    },
    {
     "data": {
      "application/vnd.jupyter.widget-view+json": {
       "model_id": "2c8bee9c27f14435acf4e138b1322ff6",
       "version_major": 2,
       "version_minor": 0
      },
      "text/plain": [
       "Training: 0it [00:00, ?it/s]"
      ]
     },
     "metadata": {},
     "output_type": "display_data"
    },
    {
     "data": {
      "application/vnd.jupyter.widget-view+json": {
       "model_id": "",
       "version_major": 2,
       "version_minor": 0
      },
      "text/plain": [
       "Validation: 0it [00:00, ?it/s]"
      ]
     },
     "metadata": {},
     "output_type": "display_data"
    },
    {
     "data": {
      "application/vnd.jupyter.widget-view+json": {
       "model_id": "",
       "version_major": 2,
       "version_minor": 0
      },
      "text/plain": [
       "Validation: 0it [00:00, ?it/s]"
      ]
     },
     "metadata": {},
     "output_type": "display_data"
    },
    {
     "name": "stderr",
     "output_type": "stream",
     "text": [
      "`Trainer.fit` stopped: `max_steps=100` reached.\n",
      "Global seed set to 7\n",
      "GPU available: True (cuda), used: True\n",
      "TPU available: False, using: 0 TPU cores\n",
      "IPU available: False, using: 0 IPUs\n",
      "HPU available: False, using: 0 HPUs\n",
      "LOCAL_RANK: 0 - CUDA_VISIBLE_DEVICES: [0]\n",
      "\n",
      "  | Name         | Type          | Params\n",
      "-----------------------------------------------\n",
      "0 | loss         | MAE           | 0     \n",
      "1 | padder_train | ConstantPad1d | 0     \n",
      "2 | scaler       | TemporalNorm  | 0     \n",
      "3 | blocks       | ModuleList    | 2.4 M \n",
      "-----------------------------------------------\n",
      "2.4 M     Trainable params\n",
      "0         Non-trainable params\n",
      "2.4 M     Total params\n",
      "9.743     Total estimated model params size (MB)\n"
     ]
    },
    {
     "data": {
      "application/vnd.jupyter.widget-view+json": {
       "model_id": "",
       "version_major": 2,
       "version_minor": 0
      },
      "text/plain": [
       "Sanity Checking: 0it [00:00, ?it/s]"
      ]
     },
     "metadata": {},
     "output_type": "display_data"
    },
    {
     "data": {
      "application/vnd.jupyter.widget-view+json": {
       "model_id": "0a63ca6d8fb54c7385a4f8e362fe8654",
       "version_major": 2,
       "version_minor": 0
      },
      "text/plain": [
       "Training: 0it [00:00, ?it/s]"
      ]
     },
     "metadata": {},
     "output_type": "display_data"
    },
    {
     "data": {
      "application/vnd.jupyter.widget-view+json": {
       "model_id": "",
       "version_major": 2,
       "version_minor": 0
      },
      "text/plain": [
       "Validation: 0it [00:00, ?it/s]"
      ]
     },
     "metadata": {},
     "output_type": "display_data"
    },
    {
     "data": {
      "application/vnd.jupyter.widget-view+json": {
       "model_id": "",
       "version_major": 2,
       "version_minor": 0
      },
      "text/plain": [
       "Validation: 0it [00:00, ?it/s]"
      ]
     },
     "metadata": {},
     "output_type": "display_data"
    },
    {
     "name": "stderr",
     "output_type": "stream",
     "text": [
      "`Trainer.fit` stopped: `max_steps=100` reached.\n",
      "Global seed set to 10\n",
      "GPU available: True (cuda), used: True\n",
      "TPU available: False, using: 0 TPU cores\n",
      "IPU available: False, using: 0 IPUs\n",
      "HPU available: False, using: 0 HPUs\n",
      "LOCAL_RANK: 0 - CUDA_VISIBLE_DEVICES: [0]\n",
      "\n",
      "  | Name         | Type          | Params\n",
      "-----------------------------------------------\n",
      "0 | loss         | MAE           | 0     \n",
      "1 | padder_train | ConstantPad1d | 0     \n",
      "2 | scaler       | TemporalNorm  | 0     \n",
      "3 | blocks       | ModuleList    | 2.4 M \n",
      "-----------------------------------------------\n",
      "2.4 M     Trainable params\n",
      "0         Non-trainable params\n",
      "2.4 M     Total params\n",
      "9.757     Total estimated model params size (MB)\n"
     ]
    },
    {
     "data": {
      "application/vnd.jupyter.widget-view+json": {
       "model_id": "",
       "version_major": 2,
       "version_minor": 0
      },
      "text/plain": [
       "Sanity Checking: 0it [00:00, ?it/s]"
      ]
     },
     "metadata": {},
     "output_type": "display_data"
    },
    {
     "data": {
      "application/vnd.jupyter.widget-view+json": {
       "model_id": "4439816df7da48cf9a118262af74aa38",
       "version_major": 2,
       "version_minor": 0
      },
      "text/plain": [
       "Training: 0it [00:00, ?it/s]"
      ]
     },
     "metadata": {},
     "output_type": "display_data"
    },
    {
     "data": {
      "application/vnd.jupyter.widget-view+json": {
       "model_id": "",
       "version_major": 2,
       "version_minor": 0
      },
      "text/plain": [
       "Validation: 0it [00:00, ?it/s]"
      ]
     },
     "metadata": {},
     "output_type": "display_data"
    },
    {
     "data": {
      "application/vnd.jupyter.widget-view+json": {
       "model_id": "",
       "version_major": 2,
       "version_minor": 0
      },
      "text/plain": [
       "Validation: 0it [00:00, ?it/s]"
      ]
     },
     "metadata": {},
     "output_type": "display_data"
    },
    {
     "name": "stderr",
     "output_type": "stream",
     "text": [
      "`Trainer.fit` stopped: `max_steps=100` reached.\n",
      "Global seed set to 9\n",
      "GPU available: True (cuda), used: True\n",
      "TPU available: False, using: 0 TPU cores\n",
      "IPU available: False, using: 0 IPUs\n",
      "HPU available: False, using: 0 HPUs\n",
      "LOCAL_RANK: 0 - CUDA_VISIBLE_DEVICES: [0]\n",
      "\n",
      "  | Name         | Type          | Params\n",
      "-----------------------------------------------\n",
      "0 | loss         | MAE           | 0     \n",
      "1 | padder_train | ConstantPad1d | 0     \n",
      "2 | scaler       | TemporalNorm  | 0     \n",
      "3 | blocks       | ModuleList    | 2.4 M \n",
      "-----------------------------------------------\n",
      "2.4 M     Trainable params\n",
      "0         Non-trainable params\n",
      "2.4 M     Total params\n",
      "9.743     Total estimated model params size (MB)\n"
     ]
    },
    {
     "data": {
      "application/vnd.jupyter.widget-view+json": {
       "model_id": "",
       "version_major": 2,
       "version_minor": 0
      },
      "text/plain": [
       "Sanity Checking: 0it [00:00, ?it/s]"
      ]
     },
     "metadata": {},
     "output_type": "display_data"
    },
    {
     "data": {
      "application/vnd.jupyter.widget-view+json": {
       "model_id": "02555b9168e34071814d46c67022e8bd",
       "version_major": 2,
       "version_minor": 0
      },
      "text/plain": [
       "Training: 0it [00:00, ?it/s]"
      ]
     },
     "metadata": {},
     "output_type": "display_data"
    },
    {
     "data": {
      "application/vnd.jupyter.widget-view+json": {
       "model_id": "",
       "version_major": 2,
       "version_minor": 0
      },
      "text/plain": [
       "Validation: 0it [00:00, ?it/s]"
      ]
     },
     "metadata": {},
     "output_type": "display_data"
    },
    {
     "data": {
      "application/vnd.jupyter.widget-view+json": {
       "model_id": "",
       "version_major": 2,
       "version_minor": 0
      },
      "text/plain": [
       "Validation: 0it [00:00, ?it/s]"
      ]
     },
     "metadata": {},
     "output_type": "display_data"
    },
    {
     "name": "stderr",
     "output_type": "stream",
     "text": [
      "`Trainer.fit` stopped: `max_steps=100` reached.\n",
      "Global seed set to 6\n",
      "GPU available: True (cuda), used: True\n",
      "TPU available: False, using: 0 TPU cores\n",
      "IPU available: False, using: 0 IPUs\n",
      "HPU available: False, using: 0 HPUs\n",
      "LOCAL_RANK: 0 - CUDA_VISIBLE_DEVICES: [0]\n",
      "\n",
      "  | Name         | Type          | Params\n",
      "-----------------------------------------------\n",
      "0 | loss         | MAE           | 0     \n",
      "1 | padder_train | ConstantPad1d | 0     \n",
      "2 | scaler       | TemporalNorm  | 0     \n",
      "3 | blocks       | ModuleList    | 2.4 M \n",
      "-----------------------------------------------\n",
      "2.4 M     Trainable params\n",
      "0         Non-trainable params\n",
      "2.4 M     Total params\n",
      "9.712     Total estimated model params size (MB)\n"
     ]
    },
    {
     "data": {
      "application/vnd.jupyter.widget-view+json": {
       "model_id": "",
       "version_major": 2,
       "version_minor": 0
      },
      "text/plain": [
       "Sanity Checking: 0it [00:00, ?it/s]"
      ]
     },
     "metadata": {},
     "output_type": "display_data"
    },
    {
     "data": {
      "application/vnd.jupyter.widget-view+json": {
       "model_id": "25fbd4912c254fc1ac36f160f1f81c6a",
       "version_major": 2,
       "version_minor": 0
      },
      "text/plain": [
       "Training: 0it [00:00, ?it/s]"
      ]
     },
     "metadata": {},
     "output_type": "display_data"
    },
    {
     "data": {
      "application/vnd.jupyter.widget-view+json": {
       "model_id": "",
       "version_major": 2,
       "version_minor": 0
      },
      "text/plain": [
       "Validation: 0it [00:00, ?it/s]"
      ]
     },
     "metadata": {},
     "output_type": "display_data"
    },
    {
     "data": {
      "application/vnd.jupyter.widget-view+json": {
       "model_id": "",
       "version_major": 2,
       "version_minor": 0
      },
      "text/plain": [
       "Validation: 0it [00:00, ?it/s]"
      ]
     },
     "metadata": {},
     "output_type": "display_data"
    },
    {
     "name": "stderr",
     "output_type": "stream",
     "text": [
      "`Trainer.fit` stopped: `max_steps=100` reached.\n",
      "Global seed set to 2\n",
      "GPU available: True (cuda), used: True\n",
      "TPU available: False, using: 0 TPU cores\n",
      "IPU available: False, using: 0 IPUs\n",
      "HPU available: False, using: 0 HPUs\n",
      "LOCAL_RANK: 0 - CUDA_VISIBLE_DEVICES: [0]\n",
      "\n",
      "  | Name         | Type          | Params\n",
      "-----------------------------------------------\n",
      "0 | loss         | MAE           | 0     \n",
      "1 | padder_train | ConstantPad1d | 0     \n",
      "2 | scaler       | TemporalNorm  | 0     \n",
      "3 | blocks       | ModuleList    | 2.4 M \n",
      "-----------------------------------------------\n",
      "2.4 M     Trainable params\n",
      "0         Non-trainable params\n",
      "2.4 M     Total params\n",
      "9.698     Total estimated model params size (MB)\n"
     ]
    },
    {
     "data": {
      "application/vnd.jupyter.widget-view+json": {
       "model_id": "",
       "version_major": 2,
       "version_minor": 0
      },
      "text/plain": [
       "Sanity Checking: 0it [00:00, ?it/s]"
      ]
     },
     "metadata": {},
     "output_type": "display_data"
    },
    {
     "data": {
      "application/vnd.jupyter.widget-view+json": {
       "model_id": "65a2c9b45e1d4202afd77c3bea638d2a",
       "version_major": 2,
       "version_minor": 0
      },
      "text/plain": [
       "Training: 0it [00:00, ?it/s]"
      ]
     },
     "metadata": {},
     "output_type": "display_data"
    },
    {
     "data": {
      "application/vnd.jupyter.widget-view+json": {
       "model_id": "",
       "version_major": 2,
       "version_minor": 0
      },
      "text/plain": [
       "Validation: 0it [00:00, ?it/s]"
      ]
     },
     "metadata": {},
     "output_type": "display_data"
    },
    {
     "data": {
      "application/vnd.jupyter.widget-view+json": {
       "model_id": "",
       "version_major": 2,
       "version_minor": 0
      },
      "text/plain": [
       "Validation: 0it [00:00, ?it/s]"
      ]
     },
     "metadata": {},
     "output_type": "display_data"
    },
    {
     "name": "stderr",
     "output_type": "stream",
     "text": [
      "`Trainer.fit` stopped: `max_steps=100` reached.\n",
      "Global seed set to 7\n",
      "GPU available: True (cuda), used: True\n",
      "TPU available: False, using: 0 TPU cores\n",
      "IPU available: False, using: 0 IPUs\n",
      "HPU available: False, using: 0 HPUs\n",
      "LOCAL_RANK: 0 - CUDA_VISIBLE_DEVICES: [0]\n",
      "\n",
      "  | Name         | Type          | Params\n",
      "-----------------------------------------------\n",
      "0 | loss         | MAE           | 0     \n",
      "1 | padder_train | ConstantPad1d | 0     \n",
      "2 | scaler       | TemporalNorm  | 0     \n",
      "3 | blocks       | ModuleList    | 2.4 M \n",
      "-----------------------------------------------\n",
      "2.4 M     Trainable params\n",
      "0         Non-trainable params\n",
      "2.4 M     Total params\n",
      "9.712     Total estimated model params size (MB)\n"
     ]
    },
    {
     "data": {
      "application/vnd.jupyter.widget-view+json": {
       "model_id": "",
       "version_major": 2,
       "version_minor": 0
      },
      "text/plain": [
       "Sanity Checking: 0it [00:00, ?it/s]"
      ]
     },
     "metadata": {},
     "output_type": "display_data"
    },
    {
     "data": {
      "application/vnd.jupyter.widget-view+json": {
       "model_id": "45db05b45e7044498d3a2733fd78c0e4",
       "version_major": 2,
       "version_minor": 0
      },
      "text/plain": [
       "Training: 0it [00:00, ?it/s]"
      ]
     },
     "metadata": {},
     "output_type": "display_data"
    },
    {
     "data": {
      "application/vnd.jupyter.widget-view+json": {
       "model_id": "",
       "version_major": 2,
       "version_minor": 0
      },
      "text/plain": [
       "Validation: 0it [00:00, ?it/s]"
      ]
     },
     "metadata": {},
     "output_type": "display_data"
    },
    {
     "data": {
      "application/vnd.jupyter.widget-view+json": {
       "model_id": "",
       "version_major": 2,
       "version_minor": 0
      },
      "text/plain": [
       "Validation: 0it [00:00, ?it/s]"
      ]
     },
     "metadata": {},
     "output_type": "display_data"
    },
    {
     "name": "stderr",
     "output_type": "stream",
     "text": [
      "`Trainer.fit` stopped: `max_steps=100` reached.\n",
      "Global seed set to 1\n",
      "GPU available: True (cuda), used: True\n",
      "TPU available: False, using: 0 TPU cores\n",
      "IPU available: False, using: 0 IPUs\n",
      "HPU available: False, using: 0 HPUs\n",
      "LOCAL_RANK: 0 - CUDA_VISIBLE_DEVICES: [0]\n",
      "\n",
      "  | Name         | Type          | Params\n",
      "-----------------------------------------------\n",
      "0 | loss         | MAE           | 0     \n",
      "1 | padder_train | ConstantPad1d | 0     \n",
      "2 | scaler       | TemporalNorm  | 0     \n",
      "3 | blocks       | ModuleList    | 2.4 M \n",
      "-----------------------------------------------\n",
      "2.4 M     Trainable params\n",
      "0         Non-trainable params\n",
      "2.4 M     Total params\n",
      "9.757     Total estimated model params size (MB)\n"
     ]
    },
    {
     "data": {
      "application/vnd.jupyter.widget-view+json": {
       "model_id": "",
       "version_major": 2,
       "version_minor": 0
      },
      "text/plain": [
       "Sanity Checking: 0it [00:00, ?it/s]"
      ]
     },
     "metadata": {},
     "output_type": "display_data"
    },
    {
     "data": {
      "application/vnd.jupyter.widget-view+json": {
       "model_id": "9c44c4fc29944500b4f75b597453c3e8",
       "version_major": 2,
       "version_minor": 0
      },
      "text/plain": [
       "Training: 0it [00:00, ?it/s]"
      ]
     },
     "metadata": {},
     "output_type": "display_data"
    },
    {
     "data": {
      "application/vnd.jupyter.widget-view+json": {
       "model_id": "",
       "version_major": 2,
       "version_minor": 0
      },
      "text/plain": [
       "Validation: 0it [00:00, ?it/s]"
      ]
     },
     "metadata": {},
     "output_type": "display_data"
    },
    {
     "data": {
      "application/vnd.jupyter.widget-view+json": {
       "model_id": "",
       "version_major": 2,
       "version_minor": 0
      },
      "text/plain": [
       "Validation: 0it [00:00, ?it/s]"
      ]
     },
     "metadata": {},
     "output_type": "display_data"
    },
    {
     "name": "stderr",
     "output_type": "stream",
     "text": [
      "`Trainer.fit` stopped: `max_steps=100` reached.\n",
      "Global seed set to 9\n",
      "GPU available: True (cuda), used: True\n",
      "TPU available: False, using: 0 TPU cores\n",
      "IPU available: False, using: 0 IPUs\n",
      "HPU available: False, using: 0 HPUs\n",
      "LOCAL_RANK: 0 - CUDA_VISIBLE_DEVICES: [0]\n",
      "\n",
      "  | Name         | Type          | Params\n",
      "-----------------------------------------------\n",
      "0 | loss         | MAE           | 0     \n",
      "1 | padder_train | ConstantPad1d | 0     \n",
      "2 | scaler       | TemporalNorm  | 0     \n",
      "3 | blocks       | ModuleList    | 2.4 M \n",
      "-----------------------------------------------\n",
      "2.4 M     Trainable params\n",
      "0         Non-trainable params\n",
      "2.4 M     Total params\n",
      "9.712     Total estimated model params size (MB)\n"
     ]
    },
    {
     "data": {
      "application/vnd.jupyter.widget-view+json": {
       "model_id": "40454d37abf443408168e32c835f4aba",
       "version_major": 2,
       "version_minor": 0
      },
      "text/plain": [
       "Sanity Checking: 0it [00:00, ?it/s]"
      ]
     },
     "metadata": {},
     "output_type": "display_data"
    },
    {
     "data": {
      "application/vnd.jupyter.widget-view+json": {
       "model_id": "922c8ccb5fdf43cdb85713363ef276f3",
       "version_major": 2,
       "version_minor": 0
      },
      "text/plain": [
       "Training: 0it [00:00, ?it/s]"
      ]
     },
     "metadata": {},
     "output_type": "display_data"
    },
    {
     "data": {
      "application/vnd.jupyter.widget-view+json": {
       "model_id": "e78151d3a7594dd2a11c4ae823cf025c",
       "version_major": 2,
       "version_minor": 0
      },
      "text/plain": [
       "Validation: 0it [00:00, ?it/s]"
      ]
     },
     "metadata": {},
     "output_type": "display_data"
    },
    {
     "data": {
      "application/vnd.jupyter.widget-view+json": {
       "model_id": "1a61baf9106f40afb206bc5f24cfc87d",
       "version_major": 2,
       "version_minor": 0
      },
      "text/plain": [
       "Validation: 0it [00:00, ?it/s]"
      ]
     },
     "metadata": {},
     "output_type": "display_data"
    },
    {
     "name": "stderr",
     "output_type": "stream",
     "text": [
      "`Trainer.fit` stopped: `max_steps=100` reached.\n"
     ]
    }
   ],
   "source": [
    "nf = NeuralForecast(models = [model], freq = \"M\")\n",
    "nf.fit(df = Y_df, val_size = 24)"
   ]
  },
  {
   "cell_type": "code",
   "execution_count": 17,
   "id": "c9c34950-5804-4236-bc01-bccc0c66dfbe",
   "metadata": {},
   "outputs": [
    {
     "data": {
      "text/html": [
       "<div>\n",
       "<style scoped>\n",
       "    .dataframe tbody tr th:only-of-type {\n",
       "        vertical-align: middle;\n",
       "    }\n",
       "\n",
       "    .dataframe tbody tr th {\n",
       "        vertical-align: top;\n",
       "    }\n",
       "\n",
       "    .dataframe thead th {\n",
       "        text-align: right;\n",
       "    }\n",
       "</style>\n",
       "<table border=\"1\" class=\"dataframe\">\n",
       "  <thead>\n",
       "    <tr style=\"text-align: right;\">\n",
       "      <th></th>\n",
       "      <th>number</th>\n",
       "      <th>value</th>\n",
       "      <th>datetime_start</th>\n",
       "      <th>datetime_complete</th>\n",
       "      <th>duration</th>\n",
       "      <th>params_learning_rate</th>\n",
       "      <th>params_n_freq_downsample</th>\n",
       "      <th>params_n_pool_kernel_size</th>\n",
       "      <th>params_random_seed</th>\n",
       "      <th>user_attrs_METRICS</th>\n",
       "      <th>state</th>\n",
       "    </tr>\n",
       "  </thead>\n",
       "  <tbody>\n",
       "    <tr>\n",
       "      <th>0</th>\n",
       "      <td>0</td>\n",
       "      <td>1.688148e+01</td>\n",
       "      <td>2024-12-07 21:07:10.355972</td>\n",
       "      <td>2024-12-07 21:07:11.927400</td>\n",
       "      <td>0 days 00:00:01.571428</td>\n",
       "      <td>0.002851</td>\n",
       "      <td>[1, 1, 1]</td>\n",
       "      <td>[16, 8, 1]</td>\n",
       "      <td>9</td>\n",
       "      <td>{'loss': tensor(16.8815), 'train_loss': tensor...</td>\n",
       "      <td>COMPLETE</td>\n",
       "    </tr>\n",
       "    <tr>\n",
       "      <th>1</th>\n",
       "      <td>1</td>\n",
       "      <td>1.645361e+01</td>\n",
       "      <td>2024-12-07 21:07:11.928402</td>\n",
       "      <td>2024-12-07 21:07:13.321231</td>\n",
       "      <td>0 days 00:00:01.392829</td>\n",
       "      <td>0.004284</td>\n",
       "      <td>[1, 1, 1]</td>\n",
       "      <td>[2, 2, 2]</td>\n",
       "      <td>7</td>\n",
       "      <td>{'loss': tensor(16.4536), 'train_loss': tensor...</td>\n",
       "      <td>COMPLETE</td>\n",
       "    </tr>\n",
       "    <tr>\n",
       "      <th>2</th>\n",
       "      <td>2</td>\n",
       "      <td>1.547846e+01</td>\n",
       "      <td>2024-12-07 21:07:13.321231</td>\n",
       "      <td>2024-12-07 21:07:14.602140</td>\n",
       "      <td>0 days 00:00:01.280909</td>\n",
       "      <td>0.004060</td>\n",
       "      <td>[24, 12, 1]</td>\n",
       "      <td>[2, 2, 2]</td>\n",
       "      <td>9</td>\n",
       "      <td>{'loss': tensor(15.4785), 'train_loss': tensor...</td>\n",
       "      <td>COMPLETE</td>\n",
       "    </tr>\n",
       "    <tr>\n",
       "      <th>3</th>\n",
       "      <td>3</td>\n",
       "      <td>1.273332e+08</td>\n",
       "      <td>2024-12-07 21:07:14.603141</td>\n",
       "      <td>2024-12-07 21:07:15.905151</td>\n",
       "      <td>0 days 00:00:01.302010</td>\n",
       "      <td>0.069764</td>\n",
       "      <td>[1, 1, 1]</td>\n",
       "      <td>[16, 8, 1]</td>\n",
       "      <td>7</td>\n",
       "      <td>{'loss': tensor(1.2733e+08), 'train_loss': ten...</td>\n",
       "      <td>COMPLETE</td>\n",
       "    </tr>\n",
       "    <tr>\n",
       "      <th>4</th>\n",
       "      <td>4</td>\n",
       "      <td>2.245753e+01</td>\n",
       "      <td>2024-12-07 21:07:15.905151</td>\n",
       "      <td>2024-12-07 21:07:17.269298</td>\n",
       "      <td>0 days 00:00:01.364147</td>\n",
       "      <td>0.000101</td>\n",
       "      <td>[1, 1, 1]</td>\n",
       "      <td>[2, 2, 2]</td>\n",
       "      <td>10</td>\n",
       "      <td>{'loss': tensor(22.4575), 'train_loss': tensor...</td>\n",
       "      <td>COMPLETE</td>\n",
       "    </tr>\n",
       "    <tr>\n",
       "      <th>5</th>\n",
       "      <td>5</td>\n",
       "      <td>6.207273e+01</td>\n",
       "      <td>2024-12-07 21:07:17.269298</td>\n",
       "      <td>2024-12-07 21:07:18.598028</td>\n",
       "      <td>0 days 00:00:01.328730</td>\n",
       "      <td>0.000018</td>\n",
       "      <td>[1, 1, 1]</td>\n",
       "      <td>[16, 8, 1]</td>\n",
       "      <td>9</td>\n",
       "      <td>{'loss': tensor(62.0727), 'train_loss': tensor...</td>\n",
       "      <td>COMPLETE</td>\n",
       "    </tr>\n",
       "    <tr>\n",
       "      <th>6</th>\n",
       "      <td>6</td>\n",
       "      <td>3.401863e+01</td>\n",
       "      <td>2024-12-07 21:07:18.598028</td>\n",
       "      <td>2024-12-07 21:07:19.964827</td>\n",
       "      <td>0 days 00:00:01.366799</td>\n",
       "      <td>0.000060</td>\n",
       "      <td>[168, 24, 1]</td>\n",
       "      <td>[2, 2, 2]</td>\n",
       "      <td>6</td>\n",
       "      <td>{'loss': tensor(34.0186), 'train_loss': tensor...</td>\n",
       "      <td>COMPLETE</td>\n",
       "    </tr>\n",
       "    <tr>\n",
       "      <th>7</th>\n",
       "      <td>7</td>\n",
       "      <td>1.661212e+01</td>\n",
       "      <td>2024-12-07 21:07:19.964827</td>\n",
       "      <td>2024-12-07 21:07:21.420339</td>\n",
       "      <td>0 days 00:00:01.455512</td>\n",
       "      <td>0.005575</td>\n",
       "      <td>[24, 12, 1]</td>\n",
       "      <td>[16, 8, 1]</td>\n",
       "      <td>2</td>\n",
       "      <td>{'loss': tensor(16.6121), 'train_loss': tensor...</td>\n",
       "      <td>COMPLETE</td>\n",
       "    </tr>\n",
       "    <tr>\n",
       "      <th>8</th>\n",
       "      <td>8</td>\n",
       "      <td>5.422427e+01</td>\n",
       "      <td>2024-12-07 21:07:21.420339</td>\n",
       "      <td>2024-12-07 21:07:22.651821</td>\n",
       "      <td>0 days 00:00:01.231482</td>\n",
       "      <td>0.000017</td>\n",
       "      <td>[168, 24, 1]</td>\n",
       "      <td>[2, 2, 2]</td>\n",
       "      <td>7</td>\n",
       "      <td>{'loss': tensor(54.2243), 'train_loss': tensor...</td>\n",
       "      <td>COMPLETE</td>\n",
       "    </tr>\n",
       "    <tr>\n",
       "      <th>9</th>\n",
       "      <td>9</td>\n",
       "      <td>1.772611e+01</td>\n",
       "      <td>2024-12-07 21:07:22.651821</td>\n",
       "      <td>2024-12-07 21:07:23.968419</td>\n",
       "      <td>0 days 00:00:01.316598</td>\n",
       "      <td>0.001261</td>\n",
       "      <td>[1, 1, 1]</td>\n",
       "      <td>[2, 2, 2]</td>\n",
       "      <td>1</td>\n",
       "      <td>{'loss': tensor(17.7261), 'train_loss': tensor...</td>\n",
       "      <td>COMPLETE</td>\n",
       "    </tr>\n",
       "  </tbody>\n",
       "</table>\n",
       "</div>"
      ],
      "text/plain": [
       "   number         value             datetime_start          datetime_complete   \n",
       "0       0  1.688148e+01 2024-12-07 21:07:10.355972 2024-12-07 21:07:11.927400  \\\n",
       "1       1  1.645361e+01 2024-12-07 21:07:11.928402 2024-12-07 21:07:13.321231   \n",
       "2       2  1.547846e+01 2024-12-07 21:07:13.321231 2024-12-07 21:07:14.602140   \n",
       "3       3  1.273332e+08 2024-12-07 21:07:14.603141 2024-12-07 21:07:15.905151   \n",
       "4       4  2.245753e+01 2024-12-07 21:07:15.905151 2024-12-07 21:07:17.269298   \n",
       "5       5  6.207273e+01 2024-12-07 21:07:17.269298 2024-12-07 21:07:18.598028   \n",
       "6       6  3.401863e+01 2024-12-07 21:07:18.598028 2024-12-07 21:07:19.964827   \n",
       "7       7  1.661212e+01 2024-12-07 21:07:19.964827 2024-12-07 21:07:21.420339   \n",
       "8       8  5.422427e+01 2024-12-07 21:07:21.420339 2024-12-07 21:07:22.651821   \n",
       "9       9  1.772611e+01 2024-12-07 21:07:22.651821 2024-12-07 21:07:23.968419   \n",
       "\n",
       "                duration  params_learning_rate params_n_freq_downsample   \n",
       "0 0 days 00:00:01.571428              0.002851                [1, 1, 1]  \\\n",
       "1 0 days 00:00:01.392829              0.004284                [1, 1, 1]   \n",
       "2 0 days 00:00:01.280909              0.004060              [24, 12, 1]   \n",
       "3 0 days 00:00:01.302010              0.069764                [1, 1, 1]   \n",
       "4 0 days 00:00:01.364147              0.000101                [1, 1, 1]   \n",
       "5 0 days 00:00:01.328730              0.000018                [1, 1, 1]   \n",
       "6 0 days 00:00:01.366799              0.000060             [168, 24, 1]   \n",
       "7 0 days 00:00:01.455512              0.005575              [24, 12, 1]   \n",
       "8 0 days 00:00:01.231482              0.000017             [168, 24, 1]   \n",
       "9 0 days 00:00:01.316598              0.001261                [1, 1, 1]   \n",
       "\n",
       "  params_n_pool_kernel_size  params_random_seed   \n",
       "0                [16, 8, 1]                   9  \\\n",
       "1                 [2, 2, 2]                   7   \n",
       "2                 [2, 2, 2]                   9   \n",
       "3                [16, 8, 1]                   7   \n",
       "4                 [2, 2, 2]                  10   \n",
       "5                [16, 8, 1]                   9   \n",
       "6                 [2, 2, 2]                   6   \n",
       "7                [16, 8, 1]                   2   \n",
       "8                 [2, 2, 2]                   7   \n",
       "9                 [2, 2, 2]                   1   \n",
       "\n",
       "                                  user_attrs_METRICS     state  \n",
       "0  {'loss': tensor(16.8815), 'train_loss': tensor...  COMPLETE  \n",
       "1  {'loss': tensor(16.4536), 'train_loss': tensor...  COMPLETE  \n",
       "2  {'loss': tensor(15.4785), 'train_loss': tensor...  COMPLETE  \n",
       "3  {'loss': tensor(1.2733e+08), 'train_loss': ten...  COMPLETE  \n",
       "4  {'loss': tensor(22.4575), 'train_loss': tensor...  COMPLETE  \n",
       "5  {'loss': tensor(62.0727), 'train_loss': tensor...  COMPLETE  \n",
       "6  {'loss': tensor(34.0186), 'train_loss': tensor...  COMPLETE  \n",
       "7  {'loss': tensor(16.6121), 'train_loss': tensor...  COMPLETE  \n",
       "8  {'loss': tensor(54.2243), 'train_loss': tensor...  COMPLETE  \n",
       "9  {'loss': tensor(17.7261), 'train_loss': tensor...  COMPLETE  "
      ]
     },
     "execution_count": 17,
     "metadata": {},
     "output_type": "execute_result"
    }
   ],
   "source": [
    "results = nf.models[0].results.trials_dataframe()\n",
    "results.drop(columns = \"user_attrs_ALL_PARAMS\")"
   ]
  },
  {
   "cell_type": "markdown",
   "id": "052c5316-f37d-4f34-94ca-3830ec8b1a05",
   "metadata": {
    "jp-MarkdownHeadingCollapsed": true
   },
   "source": [
    "## model predicting"
   ]
  },
  {
   "cell_type": "code",
   "execution_count": 18,
   "id": "cc1bff8b-95e3-4e10-8dde-9160c8f8c15a",
   "metadata": {},
   "outputs": [
    {
     "name": "stderr",
     "output_type": "stream",
     "text": [
      "GPU available: True (cuda), used: True\n",
      "TPU available: False, using: 0 TPU cores\n",
      "IPU available: False, using: 0 IPUs\n",
      "HPU available: False, using: 0 HPUs\n",
      "LOCAL_RANK: 0 - CUDA_VISIBLE_DEVICES: [0]\n"
     ]
    },
    {
     "data": {
      "application/vnd.jupyter.widget-view+json": {
       "model_id": "09791c7175014f6eaf03ec67b7d7f266",
       "version_major": 2,
       "version_minor": 0
      },
      "text/plain": [
       "Predicting: 0it [00:00, ?it/s]"
      ]
     },
     "metadata": {},
     "output_type": "display_data"
    },
    {
     "data": {
      "text/html": [
       "<div>\n",
       "<style scoped>\n",
       "    .dataframe tbody tr th:only-of-type {\n",
       "        vertical-align: middle;\n",
       "    }\n",
       "\n",
       "    .dataframe tbody tr th {\n",
       "        vertical-align: top;\n",
       "    }\n",
       "\n",
       "    .dataframe thead th {\n",
       "        text-align: right;\n",
       "    }\n",
       "</style>\n",
       "<table border=\"1\" class=\"dataframe\">\n",
       "  <thead>\n",
       "    <tr style=\"text-align: right;\">\n",
       "      <th></th>\n",
       "      <th>unique_id</th>\n",
       "      <th>ds</th>\n",
       "      <th>AutoNHITS</th>\n",
       "    </tr>\n",
       "  </thead>\n",
       "  <tbody>\n",
       "    <tr>\n",
       "      <th>0</th>\n",
       "      <td>1.0</td>\n",
       "      <td>1961-01-31</td>\n",
       "      <td>453.378510</td>\n",
       "    </tr>\n",
       "    <tr>\n",
       "      <th>1</th>\n",
       "      <td>1.0</td>\n",
       "      <td>1961-02-28</td>\n",
       "      <td>425.522949</td>\n",
       "    </tr>\n",
       "    <tr>\n",
       "      <th>2</th>\n",
       "      <td>1.0</td>\n",
       "      <td>1961-03-31</td>\n",
       "      <td>495.473328</td>\n",
       "    </tr>\n",
       "    <tr>\n",
       "      <th>3</th>\n",
       "      <td>1.0</td>\n",
       "      <td>1961-04-30</td>\n",
       "      <td>503.095551</td>\n",
       "    </tr>\n",
       "    <tr>\n",
       "      <th>4</th>\n",
       "      <td>1.0</td>\n",
       "      <td>1961-05-31</td>\n",
       "      <td>510.216248</td>\n",
       "    </tr>\n",
       "    <tr>\n",
       "      <th>5</th>\n",
       "      <td>1.0</td>\n",
       "      <td>1961-06-30</td>\n",
       "      <td>576.599426</td>\n",
       "    </tr>\n",
       "    <tr>\n",
       "      <th>6</th>\n",
       "      <td>1.0</td>\n",
       "      <td>1961-07-31</td>\n",
       "      <td>666.714111</td>\n",
       "    </tr>\n",
       "    <tr>\n",
       "      <th>7</th>\n",
       "      <td>1.0</td>\n",
       "      <td>1961-08-31</td>\n",
       "      <td>674.762451</td>\n",
       "    </tr>\n",
       "    <tr>\n",
       "      <th>8</th>\n",
       "      <td>1.0</td>\n",
       "      <td>1961-09-30</td>\n",
       "      <td>585.423401</td>\n",
       "    </tr>\n",
       "    <tr>\n",
       "      <th>9</th>\n",
       "      <td>1.0</td>\n",
       "      <td>1961-10-31</td>\n",
       "      <td>506.677429</td>\n",
       "    </tr>\n",
       "    <tr>\n",
       "      <th>10</th>\n",
       "      <td>1.0</td>\n",
       "      <td>1961-11-30</td>\n",
       "      <td>438.493683</td>\n",
       "    </tr>\n",
       "    <tr>\n",
       "      <th>11</th>\n",
       "      <td>1.0</td>\n",
       "      <td>1961-12-31</td>\n",
       "      <td>477.154541</td>\n",
       "    </tr>\n",
       "  </tbody>\n",
       "</table>\n",
       "</div>"
      ],
      "text/plain": [
       "    unique_id         ds   AutoNHITS\n",
       "0         1.0 1961-01-31  453.378510\n",
       "1         1.0 1961-02-28  425.522949\n",
       "2         1.0 1961-03-31  495.473328\n",
       "3         1.0 1961-04-30  503.095551\n",
       "4         1.0 1961-05-31  510.216248\n",
       "5         1.0 1961-06-30  576.599426\n",
       "6         1.0 1961-07-31  666.714111\n",
       "7         1.0 1961-08-31  674.762451\n",
       "8         1.0 1961-09-30  585.423401\n",
       "9         1.0 1961-10-31  506.677429\n",
       "10        1.0 1961-11-30  438.493683\n",
       "11        1.0 1961-12-31  477.154541"
      ]
     },
     "execution_count": 18,
     "metadata": {},
     "output_type": "execute_result"
    }
   ],
   "source": [
    "Y_hat_df_optuna = nf.predict()\n",
    "Y_hat_df_optuna = Y_hat_df_optuna.reset_index()\n",
    "Y_hat_df_optuna"
   ]
  },
  {
   "cell_type": "markdown",
   "id": "7bbf1ee1-f7cb-41f1-947c-6b78b27ec3da",
   "metadata": {},
   "source": [
    "# result"
   ]
  },
  {
   "cell_type": "code",
   "execution_count": 36,
   "id": "110f95f4-485f-46ae-b011-6477a1a957a6",
   "metadata": {},
   "outputs": [
    {
     "data": {
      "image/png": "[encoded data removed]",
      "text/plain": [
       "<Figure size 2000x700 with 1 Axes>"
      ]
     },
     "metadata": {},
     "output_type": "display_data"
    }
   ],
   "source": [
    "plot_df = pd.concat([\n",
    "    Y_df,\n",
    "    Y_hat_df_ray,\n",
    "    Y_hat_df_optuna,\n",
    "]).reset_index()\n",
    "\n",
    "fig, ax = plt.subplots(1, 1, figsize = (20, 7))\n",
    "plt.plot(plot_df['ds'], plot_df['y'], label='y')\n",
    "plt.plot(plot_df['ds'], plot_df['AutoNHITS'], label='Ray')\n",
    "plt.plot(Y_hat_df_optuna['ds'], Y_hat_df_optuna['AutoNHITS'], label='Optuna')\n",
    "ax.set_title('AirPassengers Forecast', fontsize=22)\n",
    "ax.set_ylabel('Monthly Passengers', fontsize=20)\n",
    "ax.set_xlabel('Timestamp [t]', fontsize=20)\n",
    "ax.legend(prop={'size': 15})\n",
    "ax.grid()"
   ]
  },
  {
   "cell_type": "code",
   "execution_count": null,
   "id": "fc455db2-e5d8-4caa-8de6-4cb46492ca9a",
   "metadata": {},
   "outputs": [],
   "source": []
  }
 ],
 "metadata": {
  "kernelspec": {
   "display_name": "Python 3 (ipykernel)",
   "language": "python",
   "name": "python3"
  },
  "language_info": {
   "codemirror_mode": {
    "name": "ipython",
    "version": 3
   },
   "file_extension": ".py",
   "mimetype": "text/x-python",
   "name": "python",
   "nbconvert_exporter": "python",
   "pygments_lexer": "ipython3",
   "version": "3.8.19"
  }
 },
 "nbformat": 4,
 "nbformat_minor": 5
}
