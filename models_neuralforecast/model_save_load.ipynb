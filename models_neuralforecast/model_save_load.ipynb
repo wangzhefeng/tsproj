{
 "cells": [
  {
   "cell_type": "code",
   "execution_count": 10,
   "id": "e498d476-bb46-4cf8-8c3e-4746e3538497",
   "metadata": {},
   "outputs": [],
   "source": [
    "import pandas as pd\n",
    "import matplotlib.pyplot as plt\n",
    "\n",
    "from neuralforecast.utils import AirPassengersDF\n",
    "from neuralforecast.core import NeuralForecast\n",
    "from neuralforecast.auto import AutoMLP\n",
    "from neuralforecast.models import NBEATS, NHITS\n",
    "from ray import tune\n",
    "\n",
    "import warnings\n",
    "warnings.filterwarnings(\"ignore\")"
   ]
  },
  {
   "cell_type": "markdown",
   "id": "e25ad4eb-cfb9-4e9d-9604-e865f55a0600",
   "metadata": {},
   "source": [
    "# data"
   ]
  },
  {
   "cell_type": "code",
   "execution_count": 2,
   "id": "6b0f7e76-5e5b-4db2-893d-cdf5019224da",
   "metadata": {},
   "outputs": [
    {
     "name": "stdout",
     "output_type": "stream",
     "text": [
      "<bound method NDFrame.head of      unique_id         ds      y\n",
      "0          1.0 1949-01-31  112.0\n",
      "1          1.0 1949-02-28  118.0\n",
      "2          1.0 1949-03-31  132.0\n",
      "3          1.0 1949-04-30  129.0\n",
      "4          1.0 1949-05-31  121.0\n",
      "..         ...        ...    ...\n",
      "139        1.0 1960-08-31  606.0\n",
      "140        1.0 1960-09-30  508.0\n",
      "141        1.0 1960-10-31  461.0\n",
      "142        1.0 1960-11-30  390.0\n",
      "143        1.0 1960-12-31  432.0\n",
      "\n",
      "[144 rows x 3 columns]>\n",
      "\n",
      "(144, 3)\n",
      "\n",
      "1.0    144\n",
      "Name: unique_id, dtype: int64\n"
     ]
    }
   ],
   "source": [
    "Y_df = AirPassengersDF\n",
    "Y_df = Y_df.reset_index(drop = True)\n",
    "print(Y_df.head)\n",
    "print()\n",
    "print(Y_df.shape)\n",
    "print()\n",
    "print(Y_df[\"unique_id\"].value_counts())"
   ]
  },
  {
   "cell_type": "markdown",
   "id": "546a7a76-1815-4a62-8e48-de4b7c71a0f0",
   "metadata": {},
   "source": [
    "# model"
   ]
  },
  {
   "cell_type": "code",
   "execution_count": 8,
   "id": "ccc6b321-acfc-4cd6-947a-323f9b045ec4",
   "metadata": {},
   "outputs": [
    {
     "data": {
      "text/html": [],
      "text/plain": [
       "<IPython.core.display.HTML object>"
      ]
     },
     "metadata": {},
     "output_type": "display_data"
    },
    {
     "name": "stderr",
     "output_type": "stream",
     "text": [
      "2024-11-07 22:48:38,215\tINFO tune.py:1016 -- Wrote the latest version of all result files and experiment state to 'C:/Users/Administrator/ray_results/_train_tune_2024-11-07_22-48-31' in 0.0067s.\n",
      "Global seed set to 1\n",
      "GPU available: True (cuda), used: True\n",
      "TPU available: False, using: 0 TPU cores\n",
      "IPU available: False, using: 0 IPUs\n",
      "HPU available: False, using: 0 HPUs\n",
      "You are using a CUDA device ('NVIDIA GeForce RTX 4070') that has Tensor Cores. To properly utilize them, you should set `torch.set_float32_matmul_precision('medium' | 'high')` which will trade-off precision for performance. For more details, read https://pytorch.org/docs/stable/generated/torch.set_float32_matmul_precision.html#torch.set_float32_matmul_precision\n",
      "LOCAL_RANK: 0 - CUDA_VISIBLE_DEVICES: [0]\n",
      "\n",
      "  | Name         | Type          | Params\n",
      "-----------------------------------------------\n",
      "0 | loss         | MAE           | 0     \n",
      "1 | padder_train | ConstantPad1d | 0     \n",
      "2 | scaler       | TemporalNorm  | 0     \n",
      "3 | mlp          | ModuleList    | 1.1 M \n",
      "4 | out          | Linear        | 12.3 K\n",
      "-----------------------------------------------\n",
      "1.1 M     Trainable params\n",
      "0         Non-trainable params\n",
      "1.1 M     Total params\n",
      "4.399     Total estimated model params size (MB)\n"
     ]
    },
    {
     "data": {
      "application/vnd.jupyter.widget-view+json": {
       "model_id": "",
       "version_major": 2,
       "version_minor": 0
      },
      "text/plain": [
       "Sanity Checking: 0it [00:00, ?it/s]"
      ]
     },
     "metadata": {},
     "output_type": "display_data"
    },
    {
     "data": {
      "application/vnd.jupyter.widget-view+json": {
       "model_id": "895d67028b3843258ad2698164691690",
       "version_major": 2,
       "version_minor": 0
      },
      "text/plain": [
       "Training: 0it [00:00, ?it/s]"
      ]
     },
     "metadata": {},
     "output_type": "display_data"
    },
    {
     "data": {
      "application/vnd.jupyter.widget-view+json": {
       "model_id": "",
       "version_major": 2,
       "version_minor": 0
      },
      "text/plain": [
       "Validation: 0it [00:00, ?it/s]"
      ]
     },
     "metadata": {},
     "output_type": "display_data"
    },
    {
     "name": "stderr",
     "output_type": "stream",
     "text": [
      "`Trainer.fit` stopped: `max_steps=100` reached.\n"
     ]
    }
   ],
   "source": [
    "horizon = 12\n",
    "models = [\n",
    "    NBEATS(input_size=2 * horizon, h=horizon, max_steps=50),\n",
    "    NHITS(input_size=2 * horizon, h=horizon, max_steps=50),\n",
    "    # Ray tune explore config\n",
    "    AutoMLP(\n",
    "        config = dict(\n",
    "            max_steps = 100, # Operates with steps not epochs\n",
    "            input_size = tune.choice([3 * horizon]),\n",
    "            learning_rate = tune.choice([1e-3])\n",
    "        ),\n",
    "        h = horizon,\n",
    "        num_samples = 1, \n",
    "        cpus = 1\n",
    "    )\n",
    "]\n",
    "nf = NeuralForecast(models = models, freq = \"M\")\n",
    "nf.fit(df = Y_df)"
   ]
  },
  {
   "cell_type": "markdown",
   "id": "a98c5368-138d-468f-9797-c340cb29f24c",
   "metadata": {},
   "source": [
    "# model predicting"
   ]
  },
  {
   "cell_type": "code",
   "execution_count": 9,
   "id": "59425f8e-ed1a-4c84-9d85-d3742e299a79",
   "metadata": {},
   "outputs": [
    {
     "name": "stderr",
     "output_type": "stream",
     "text": [
      "GPU available: True (cuda), used: True\n",
      "TPU available: False, using: 0 TPU cores\n",
      "IPU available: False, using: 0 IPUs\n",
      "HPU available: False, using: 0 HPUs\n",
      "You are using a CUDA device ('NVIDIA GeForce RTX 4070') that has Tensor Cores. To properly utilize them, you should set `torch.set_float32_matmul_precision('medium' | 'high')` which will trade-off precision for performance. For more details, read https://pytorch.org/docs/stable/generated/torch.set_float32_matmul_precision.html#torch.set_float32_matmul_precision\n",
      "LOCAL_RANK: 0 - CUDA_VISIBLE_DEVICES: [0]\n"
     ]
    },
    {
     "data": {
      "application/vnd.jupyter.widget-view+json": {
       "model_id": "e6da9eedc2f6405f8c5676d7b060627f",
       "version_major": 2,
       "version_minor": 0
      },
      "text/plain": [
       "Predicting: 0it [00:00, ?it/s]"
      ]
     },
     "metadata": {},
     "output_type": "display_data"
    },
    {
     "name": "stderr",
     "output_type": "stream",
     "text": [
      "GPU available: True (cuda), used: True\n",
      "TPU available: False, using: 0 TPU cores\n",
      "IPU available: False, using: 0 IPUs\n",
      "HPU available: False, using: 0 HPUs\n",
      "You are using a CUDA device ('NVIDIA GeForce RTX 4070') that has Tensor Cores. To properly utilize them, you should set `torch.set_float32_matmul_precision('medium' | 'high')` which will trade-off precision for performance. For more details, read https://pytorch.org/docs/stable/generated/torch.set_float32_matmul_precision.html#torch.set_float32_matmul_precision\n",
      "LOCAL_RANK: 0 - CUDA_VISIBLE_DEVICES: [0]\n"
     ]
    },
    {
     "data": {
      "application/vnd.jupyter.widget-view+json": {
       "model_id": "7a77d7a6f7e04c1ea9f766af39ffa066",
       "version_major": 2,
       "version_minor": 0
      },
      "text/plain": [
       "Predicting: 0it [00:00, ?it/s]"
      ]
     },
     "metadata": {},
     "output_type": "display_data"
    },
    {
     "name": "stderr",
     "output_type": "stream",
     "text": [
      "GPU available: True (cuda), used: True\n",
      "TPU available: False, using: 0 TPU cores\n",
      "IPU available: False, using: 0 IPUs\n",
      "HPU available: False, using: 0 HPUs\n",
      "You are using a CUDA device ('NVIDIA GeForce RTX 4070') that has Tensor Cores. To properly utilize them, you should set `torch.set_float32_matmul_precision('medium' | 'high')` which will trade-off precision for performance. For more details, read https://pytorch.org/docs/stable/generated/torch.set_float32_matmul_precision.html#torch.set_float32_matmul_precision\n",
      "LOCAL_RANK: 0 - CUDA_VISIBLE_DEVICES: [0]\n"
     ]
    },
    {
     "data": {
      "application/vnd.jupyter.widget-view+json": {
       "model_id": "108eaa511306482cb21ca1fb0d961858",
       "version_major": 2,
       "version_minor": 0
      },
      "text/plain": [
       "Predicting: 0it [00:00, ?it/s]"
      ]
     },
     "metadata": {},
     "output_type": "display_data"
    },
    {
     "data": {
      "text/html": [
       "<div>\n",
       "<style scoped>\n",
       "    .dataframe tbody tr th:only-of-type {\n",
       "        vertical-align: middle;\n",
       "    }\n",
       "\n",
       "    .dataframe tbody tr th {\n",
       "        vertical-align: top;\n",
       "    }\n",
       "\n",
       "    .dataframe thead th {\n",
       "        text-align: right;\n",
       "    }\n",
       "</style>\n",
       "<table border=\"1\" class=\"dataframe\">\n",
       "  <thead>\n",
       "    <tr style=\"text-align: right;\">\n",
       "      <th></th>\n",
       "      <th>unique_id</th>\n",
       "      <th>ds</th>\n",
       "      <th>NBEATS</th>\n",
       "      <th>NHITS</th>\n",
       "      <th>AutoMLP</th>\n",
       "    </tr>\n",
       "  </thead>\n",
       "  <tbody>\n",
       "    <tr>\n",
       "      <th>0</th>\n",
       "      <td>1.0</td>\n",
       "      <td>1961-01-31</td>\n",
       "      <td>444.368103</td>\n",
       "      <td>450.529510</td>\n",
       "      <td>454.914154</td>\n",
       "    </tr>\n",
       "    <tr>\n",
       "      <th>1</th>\n",
       "      <td>1.0</td>\n",
       "      <td>1961-02-28</td>\n",
       "      <td>464.821472</td>\n",
       "      <td>468.269562</td>\n",
       "      <td>430.188354</td>\n",
       "    </tr>\n",
       "    <tr>\n",
       "      <th>2</th>\n",
       "      <td>1.0</td>\n",
       "      <td>1961-03-31</td>\n",
       "      <td>472.306366</td>\n",
       "      <td>478.337708</td>\n",
       "      <td>458.478607</td>\n",
       "    </tr>\n",
       "    <tr>\n",
       "      <th>3</th>\n",
       "      <td>1.0</td>\n",
       "      <td>1961-04-30</td>\n",
       "      <td>493.174072</td>\n",
       "      <td>509.043457</td>\n",
       "      <td>477.244476</td>\n",
       "    </tr>\n",
       "    <tr>\n",
       "      <th>4</th>\n",
       "      <td>1.0</td>\n",
       "      <td>1961-05-31</td>\n",
       "      <td>531.443726</td>\n",
       "      <td>562.544495</td>\n",
       "      <td>522.253052</td>\n",
       "    </tr>\n",
       "    <tr>\n",
       "      <th>5</th>\n",
       "      <td>1.0</td>\n",
       "      <td>1961-06-30</td>\n",
       "      <td>621.822571</td>\n",
       "      <td>595.196106</td>\n",
       "      <td>608.805603</td>\n",
       "    </tr>\n",
       "    <tr>\n",
       "      <th>6</th>\n",
       "      <td>1.0</td>\n",
       "      <td>1961-07-31</td>\n",
       "      <td>678.368225</td>\n",
       "      <td>658.282471</td>\n",
       "      <td>694.153198</td>\n",
       "    </tr>\n",
       "    <tr>\n",
       "      <th>7</th>\n",
       "      <td>1.0</td>\n",
       "      <td>1961-08-31</td>\n",
       "      <td>668.124023</td>\n",
       "      <td>658.865540</td>\n",
       "      <td>689.863464</td>\n",
       "    </tr>\n",
       "    <tr>\n",
       "      <th>8</th>\n",
       "      <td>1.0</td>\n",
       "      <td>1961-09-30</td>\n",
       "      <td>585.601257</td>\n",
       "      <td>598.597290</td>\n",
       "      <td>583.123596</td>\n",
       "    </tr>\n",
       "    <tr>\n",
       "      <th>9</th>\n",
       "      <td>1.0</td>\n",
       "      <td>1961-10-31</td>\n",
       "      <td>506.837067</td>\n",
       "      <td>565.858276</td>\n",
       "      <td>511.057098</td>\n",
       "    </tr>\n",
       "    <tr>\n",
       "      <th>10</th>\n",
       "      <td>1.0</td>\n",
       "      <td>1961-11-30</td>\n",
       "      <td>464.804382</td>\n",
       "      <td>513.579590</td>\n",
       "      <td>448.880707</td>\n",
       "    </tr>\n",
       "    <tr>\n",
       "      <th>11</th>\n",
       "      <td>1.0</td>\n",
       "      <td>1961-12-31</td>\n",
       "      <td>488.900726</td>\n",
       "      <td>477.922516</td>\n",
       "      <td>488.846222</td>\n",
       "    </tr>\n",
       "  </tbody>\n",
       "</table>\n",
       "</div>"
      ],
      "text/plain": [
       "    unique_id         ds      NBEATS       NHITS     AutoMLP\n",
       "0         1.0 1961-01-31  444.368103  450.529510  454.914154\n",
       "1         1.0 1961-02-28  464.821472  468.269562  430.188354\n",
       "2         1.0 1961-03-31  472.306366  478.337708  458.478607\n",
       "3         1.0 1961-04-30  493.174072  509.043457  477.244476\n",
       "4         1.0 1961-05-31  531.443726  562.544495  522.253052\n",
       "5         1.0 1961-06-30  621.822571  595.196106  608.805603\n",
       "6         1.0 1961-07-31  678.368225  658.282471  694.153198\n",
       "7         1.0 1961-08-31  668.124023  658.865540  689.863464\n",
       "8         1.0 1961-09-30  585.601257  598.597290  583.123596\n",
       "9         1.0 1961-10-31  506.837067  565.858276  511.057098\n",
       "10        1.0 1961-11-30  464.804382  513.579590  448.880707\n",
       "11        1.0 1961-12-31  488.900726  477.922516  488.846222"
      ]
     },
     "execution_count": 9,
     "metadata": {},
     "output_type": "execute_result"
    }
   ],
   "source": [
    "Y_hat_df = nf.predict().reset_index()\n",
    "Y_hat_df"
   ]
  },
  {
   "cell_type": "code",
   "execution_count": 23,
   "id": "e661edd4-3524-43b9-aed1-f3e5e246edac",
   "metadata": {},
   "outputs": [
    {
     "data": {
      "text/plain": [
       "<Figure size 1200x300 with 0 Axes>"
      ]
     },
     "metadata": {},
     "output_type": "display_data"
    },
    {
     "data": {
      "image/png": "[encoded data removed]",
      "text/plain": [
       "<Figure size 640x480 with 1 Axes>"
      ]
     },
     "metadata": {},
     "output_type": "display_data"
    }
   ],
   "source": [
    "plot_df = pd.concat([Y_df, Y_hat_df]).set_index('ds')\n",
    "\n",
    "plt.figure(figsize = (12, 3))\n",
    "plot_df[['y', 'NBEATS', 'NHITS', 'AutoMLP']].plot(linewidth=1.0)\n",
    "plt.title('AirPassengers Forecast', fontsize=10)\n",
    "plt.ylabel('Monthly Passengers', fontsize=10)\n",
    "plt.xlabel('Timestamp [t]', fontsize=10)\n",
    "plt.axvline(x = plot_df.index[-horizon], color='k', linestyle='--', linewidth=2)\n",
    "plt.legend(prop={'size': 10})\n",
    "plt.grid()"
   ]
  },
  {
   "cell_type": "markdown",
   "id": "63cc5016-0f5d-4e12-8cbf-183fe03c094a",
   "metadata": {},
   "source": [
    "# model save"
   ]
  },
  {
   "cell_type": "code",
   "execution_count": 26,
   "id": "475d5aa6-1b83-43f2-8dc7-2aac017643a4",
   "metadata": {},
   "outputs": [],
   "source": [
    "nf.save(\n",
    "    path = \"./checkpoints/test_run/\",\n",
    "    model_index = None,\n",
    "    overwrite = True,\n",
    "    save_dataset = True,\n",
    ")"
   ]
  },
  {
   "cell_type": "markdown",
   "id": "ead593e7-b91f-425c-ad03-a99a4756a425",
   "metadata": {},
   "source": [
    "# model load"
   ]
  },
  {
   "cell_type": "code",
   "execution_count": 27,
   "id": "17c1a618-b2e3-47f4-b8e9-35e0edfd6747",
   "metadata": {},
   "outputs": [
    {
     "name": "stderr",
     "output_type": "stream",
     "text": [
      "Global seed set to 1\n",
      "Global seed set to 1\n",
      "Global seed set to 1\n",
      "GPU available: True (cuda), used: True\n",
      "TPU available: False, using: 0 TPU cores\n",
      "IPU available: False, using: 0 IPUs\n",
      "HPU available: False, using: 0 HPUs\n",
      "You are using a CUDA device ('NVIDIA GeForce RTX 4070') that has Tensor Cores. To properly utilize them, you should set `torch.set_float32_matmul_precision('medium' | 'high')` which will trade-off precision for performance. For more details, read https://pytorch.org/docs/stable/generated/torch.set_float32_matmul_precision.html#torch.set_float32_matmul_precision\n",
      "LOCAL_RANK: 0 - CUDA_VISIBLE_DEVICES: [0]\n"
     ]
    },
    {
     "data": {
      "application/vnd.jupyter.widget-view+json": {
       "model_id": "e840cf87d6e14227aea22190da3908b2",
       "version_major": 2,
       "version_minor": 0
      },
      "text/plain": [
       "Predicting: 0it [00:00, ?it/s]"
      ]
     },
     "metadata": {},
     "output_type": "display_data"
    },
    {
     "name": "stderr",
     "output_type": "stream",
     "text": [
      "GPU available: True (cuda), used: True\n",
      "TPU available: False, using: 0 TPU cores\n",
      "IPU available: False, using: 0 IPUs\n",
      "HPU available: False, using: 0 HPUs\n",
      "You are using a CUDA device ('NVIDIA GeForce RTX 4070') that has Tensor Cores. To properly utilize them, you should set `torch.set_float32_matmul_precision('medium' | 'high')` which will trade-off precision for performance. For more details, read https://pytorch.org/docs/stable/generated/torch.set_float32_matmul_precision.html#torch.set_float32_matmul_precision\n",
      "LOCAL_RANK: 0 - CUDA_VISIBLE_DEVICES: [0]\n"
     ]
    },
    {
     "data": {
      "application/vnd.jupyter.widget-view+json": {
       "model_id": "1b4d2e0af937409c952966d133504d6c",
       "version_major": 2,
       "version_minor": 0
      },
      "text/plain": [
       "Predicting: 0it [00:00, ?it/s]"
      ]
     },
     "metadata": {},
     "output_type": "display_data"
    },
    {
     "name": "stderr",
     "output_type": "stream",
     "text": [
      "GPU available: True (cuda), used: True\n",
      "TPU available: False, using: 0 TPU cores\n",
      "IPU available: False, using: 0 IPUs\n",
      "HPU available: False, using: 0 HPUs\n",
      "You are using a CUDA device ('NVIDIA GeForce RTX 4070') that has Tensor Cores. To properly utilize them, you should set `torch.set_float32_matmul_precision('medium' | 'high')` which will trade-off precision for performance. For more details, read https://pytorch.org/docs/stable/generated/torch.set_float32_matmul_precision.html#torch.set_float32_matmul_precision\n",
      "LOCAL_RANK: 0 - CUDA_VISIBLE_DEVICES: [0]\n"
     ]
    },
    {
     "data": {
      "application/vnd.jupyter.widget-view+json": {
       "model_id": "71100dea2e2f401dad37cf6e9b742925",
       "version_major": 2,
       "version_minor": 0
      },
      "text/plain": [
       "Predicting: 0it [00:00, ?it/s]"
      ]
     },
     "metadata": {},
     "output_type": "display_data"
    },
    {
     "data": {
      "text/html": [
       "<div>\n",
       "<style scoped>\n",
       "    .dataframe tbody tr th:only-of-type {\n",
       "        vertical-align: middle;\n",
       "    }\n",
       "\n",
       "    .dataframe tbody tr th {\n",
       "        vertical-align: top;\n",
       "    }\n",
       "\n",
       "    .dataframe thead th {\n",
       "        text-align: right;\n",
       "    }\n",
       "</style>\n",
       "<table border=\"1\" class=\"dataframe\">\n",
       "  <thead>\n",
       "    <tr style=\"text-align: right;\">\n",
       "      <th></th>\n",
       "      <th>unique_id</th>\n",
       "      <th>ds</th>\n",
       "      <th>AutoMLP</th>\n",
       "      <th>NBEATS</th>\n",
       "      <th>NHITS</th>\n",
       "    </tr>\n",
       "  </thead>\n",
       "  <tbody>\n",
       "    <tr>\n",
       "      <th>0</th>\n",
       "      <td>1.0</td>\n",
       "      <td>1961-01-31</td>\n",
       "      <td>454.914154</td>\n",
       "      <td>444.368103</td>\n",
       "      <td>450.529510</td>\n",
       "    </tr>\n",
       "    <tr>\n",
       "      <th>1</th>\n",
       "      <td>1.0</td>\n",
       "      <td>1961-02-28</td>\n",
       "      <td>430.188354</td>\n",
       "      <td>464.821472</td>\n",
       "      <td>468.269562</td>\n",
       "    </tr>\n",
       "    <tr>\n",
       "      <th>2</th>\n",
       "      <td>1.0</td>\n",
       "      <td>1961-03-31</td>\n",
       "      <td>458.478607</td>\n",
       "      <td>472.306366</td>\n",
       "      <td>478.337708</td>\n",
       "    </tr>\n",
       "    <tr>\n",
       "      <th>3</th>\n",
       "      <td>1.0</td>\n",
       "      <td>1961-04-30</td>\n",
       "      <td>477.244476</td>\n",
       "      <td>493.174072</td>\n",
       "      <td>509.043457</td>\n",
       "    </tr>\n",
       "    <tr>\n",
       "      <th>4</th>\n",
       "      <td>1.0</td>\n",
       "      <td>1961-05-31</td>\n",
       "      <td>522.253052</td>\n",
       "      <td>531.443726</td>\n",
       "      <td>562.544495</td>\n",
       "    </tr>\n",
       "    <tr>\n",
       "      <th>5</th>\n",
       "      <td>1.0</td>\n",
       "      <td>1961-06-30</td>\n",
       "      <td>608.805603</td>\n",
       "      <td>621.822571</td>\n",
       "      <td>595.196106</td>\n",
       "    </tr>\n",
       "    <tr>\n",
       "      <th>6</th>\n",
       "      <td>1.0</td>\n",
       "      <td>1961-07-31</td>\n",
       "      <td>694.153198</td>\n",
       "      <td>678.368225</td>\n",
       "      <td>658.282471</td>\n",
       "    </tr>\n",
       "    <tr>\n",
       "      <th>7</th>\n",
       "      <td>1.0</td>\n",
       "      <td>1961-08-31</td>\n",
       "      <td>689.863464</td>\n",
       "      <td>668.124023</td>\n",
       "      <td>658.865540</td>\n",
       "    </tr>\n",
       "    <tr>\n",
       "      <th>8</th>\n",
       "      <td>1.0</td>\n",
       "      <td>1961-09-30</td>\n",
       "      <td>583.123596</td>\n",
       "      <td>585.601257</td>\n",
       "      <td>598.597290</td>\n",
       "    </tr>\n",
       "    <tr>\n",
       "      <th>9</th>\n",
       "      <td>1.0</td>\n",
       "      <td>1961-10-31</td>\n",
       "      <td>511.057098</td>\n",
       "      <td>506.837067</td>\n",
       "      <td>565.858276</td>\n",
       "    </tr>\n",
       "    <tr>\n",
       "      <th>10</th>\n",
       "      <td>1.0</td>\n",
       "      <td>1961-11-30</td>\n",
       "      <td>448.880707</td>\n",
       "      <td>464.804382</td>\n",
       "      <td>513.579590</td>\n",
       "    </tr>\n",
       "    <tr>\n",
       "      <th>11</th>\n",
       "      <td>1.0</td>\n",
       "      <td>1961-12-31</td>\n",
       "      <td>488.846222</td>\n",
       "      <td>488.900726</td>\n",
       "      <td>477.922516</td>\n",
       "    </tr>\n",
       "  </tbody>\n",
       "</table>\n",
       "</div>"
      ],
      "text/plain": [
       "    unique_id         ds     AutoMLP      NBEATS       NHITS\n",
       "0         1.0 1961-01-31  454.914154  444.368103  450.529510\n",
       "1         1.0 1961-02-28  430.188354  464.821472  468.269562\n",
       "2         1.0 1961-03-31  458.478607  472.306366  478.337708\n",
       "3         1.0 1961-04-30  477.244476  493.174072  509.043457\n",
       "4         1.0 1961-05-31  522.253052  531.443726  562.544495\n",
       "5         1.0 1961-06-30  608.805603  621.822571  595.196106\n",
       "6         1.0 1961-07-31  694.153198  678.368225  658.282471\n",
       "7         1.0 1961-08-31  689.863464  668.124023  658.865540\n",
       "8         1.0 1961-09-30  583.123596  585.601257  598.597290\n",
       "9         1.0 1961-10-31  511.057098  506.837067  565.858276\n",
       "10        1.0 1961-11-30  448.880707  464.804382  513.579590\n",
       "11        1.0 1961-12-31  488.846222  488.900726  477.922516"
      ]
     },
     "execution_count": 27,
     "metadata": {},
     "output_type": "execute_result"
    }
   ],
   "source": [
    "nf2 = NeuralForecast.load(path = \"./checkpoints/test_run/\")\n",
    "Y_hat_df = nf2.predict().reset_index()\n",
    "Y_hat_df"
   ]
  },
  {
   "cell_type": "markdown",
   "id": "0e2152af-f80d-4b24-8121-90f2219294cd",
   "metadata": {},
   "source": [
    "# result"
   ]
  },
  {
   "cell_type": "code",
   "execution_count": 30,
   "id": "f80b9141-5dff-4d87-b2e3-c339f558845f",
   "metadata": {},
   "outputs": [
    {
     "data": {
      "text/plain": [
       "<Figure size 1200x300 with 0 Axes>"
      ]
     },
     "metadata": {},
     "output_type": "display_data"
    },
    {
     "data": {
      "image/png": "[encoded data removed]",
      "text/plain": [
       "<Figure size 640x480 with 1 Axes>"
      ]
     },
     "metadata": {},
     "output_type": "display_data"
    }
   ],
   "source": [
    "plot_df = pd.concat([Y_df, Y_hat_df]).set_index('ds') # Concatenate the train and forecast dataframes\n",
    "\n",
    "plt.figure(figsize = (12, 3))\n",
    "plot_df[['y', 'NBEATS', 'NHITS', 'AutoMLP']].plot(linewidth=2)\n",
    "plt.title('AirPassengers Forecast', fontsize=10)\n",
    "plt.ylabel('Monthly Passengers', fontsize=10)\n",
    "plt.xlabel('Timestamp [t]', fontsize=10)\n",
    "plt.axvline(x=plot_df.index[-horizon], color='k', linestyle='--', linewidth=2)\n",
    "plt.legend(prop={'size': 10})\n",
    "plt.grid()"
   ]
  },
  {
   "cell_type": "code",
   "execution_count": null,
   "id": "e9139e02-f238-4ca4-a144-8a4ce91905d5",
   "metadata": {},
   "outputs": [],
   "source": []
  }
 ],
 "metadata": {
  "kernelspec": {
   "display_name": "Python 3 (ipykernel)",
   "language": "python",
   "name": "python3"
  },
  "language_info": {
   "codemirror_mode": {
    "name": "ipython",
    "version": 3
   },
   "file_extension": ".py",
   "mimetype": "text/x-python",
   "name": "python",
   "nbconvert_exporter": "python",
   "pygments_lexer": "ipython3",
   "version": "3.8.19"
  }
 },
 "nbformat": 4,
 "nbformat_minor": 5
}
