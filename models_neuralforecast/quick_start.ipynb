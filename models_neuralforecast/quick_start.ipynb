{
 "cells": [
  {
   "cell_type": "code",
   "execution_count": 45,
   "id": "534cfcda-d7d2-4387-8279-11f2d85f1c75",
   "metadata": {},
   "outputs": [],
   "source": [
    "import numpy as np\n",
    "import pandas as pd\n",
    "import matplotlib.pyplot as plt\n",
    "from IPython.display import display, Markdown\n",
    "\n",
    "from neuralforecast.utils import AirPassengersDF\n",
    "from neuralforecast import NeuralForecast\n",
    "from neuralforecast.models import NBEATS, NHITS, RNN, LSTM\n",
    "\n",
    "import warnings\n",
    "warnings.filterwarnings(\"ignore\")\n",
    "\n",
    "import torch\n",
    "torch.set_float32_matmul_precision('medium')"
   ]
  },
  {
   "cell_type": "markdown",
   "id": "8eef333f-b381-4a6f-9514-976fe94d269c",
   "metadata": {},
   "source": [
    "# data"
   ]
  },
  {
   "cell_type": "code",
   "execution_count": 39,
   "id": "a4f254d4-c9ed-46eb-bbfb-90d85dfb3719",
   "metadata": {},
   "outputs": [
    {
     "name": "stdout",
     "output_type": "stream",
     "text": [
      "(144, 3)\n",
      "\n",
      "1.0    144\n",
      "Name: unique_id, dtype: int64\n",
      "\n",
      "(132, 3)\n",
      "\n",
      "(12, 3)\n"
     ]
    }
   ],
   "source": [
    "# Split data and declare panel dataset\n",
    "Y_df = AirPassengersDF\n",
    "Y_train_df = Y_df[Y_df.ds <= \"1959-12-31\"]\n",
    "Y_test_df = Y_df[Y_df.ds > \"1959-12-31\"]\n",
    "\n",
    "print(Y_df.shape)\n",
    "print()\n",
    "print(Y_df[\"unique_id\"].value_counts())\n",
    "print()\n",
    "print(Y_train_df.shape)\n",
    "print()\n",
    "print(Y_test_df.shape)"
   ]
  },
  {
   "cell_type": "code",
   "execution_count": 8,
   "id": "b8758f06-de70-40af-9ebb-93b950e0a58d",
   "metadata": {},
   "outputs": [
    {
     "data": {
      "text/html": [
       "<div>\n",
       "<style scoped>\n",
       "    .dataframe tbody tr th:only-of-type {\n",
       "        vertical-align: middle;\n",
       "    }\n",
       "\n",
       "    .dataframe tbody tr th {\n",
       "        vertical-align: top;\n",
       "    }\n",
       "\n",
       "    .dataframe thead th {\n",
       "        text-align: right;\n",
       "    }\n",
       "</style>\n",
       "<table border=\"1\" class=\"dataframe\">\n",
       "  <thead>\n",
       "    <tr style=\"text-align: right;\">\n",
       "      <th></th>\n",
       "      <th>unique_id</th>\n",
       "      <th>ds</th>\n",
       "      <th>y</th>\n",
       "    </tr>\n",
       "  </thead>\n",
       "  <tbody>\n",
       "    <tr>\n",
       "      <th>0</th>\n",
       "      <td>1.0</td>\n",
       "      <td>1949-01-31</td>\n",
       "      <td>112.0</td>\n",
       "    </tr>\n",
       "    <tr>\n",
       "      <th>1</th>\n",
       "      <td>1.0</td>\n",
       "      <td>1949-02-28</td>\n",
       "      <td>118.0</td>\n",
       "    </tr>\n",
       "    <tr>\n",
       "      <th>2</th>\n",
       "      <td>1.0</td>\n",
       "      <td>1949-03-31</td>\n",
       "      <td>132.0</td>\n",
       "    </tr>\n",
       "    <tr>\n",
       "      <th>3</th>\n",
       "      <td>1.0</td>\n",
       "      <td>1949-04-30</td>\n",
       "      <td>129.0</td>\n",
       "    </tr>\n",
       "    <tr>\n",
       "      <th>4</th>\n",
       "      <td>1.0</td>\n",
       "      <td>1949-05-31</td>\n",
       "      <td>121.0</td>\n",
       "    </tr>\n",
       "  </tbody>\n",
       "</table>\n",
       "</div>"
      ],
      "text/plain": [
       "   unique_id         ds      y\n",
       "0        1.0 1949-01-31  112.0\n",
       "1        1.0 1949-02-28  118.0\n",
       "2        1.0 1949-03-31  132.0\n",
       "3        1.0 1949-04-30  129.0\n",
       "4        1.0 1949-05-31  121.0"
      ]
     },
     "execution_count": 8,
     "metadata": {},
     "output_type": "execute_result"
    }
   ],
   "source": [
    "Y_train_df.head()"
   ]
  },
  {
   "cell_type": "code",
   "execution_count": 9,
   "id": "a8e62fe7-dcf4-49e2-ac90-8adc72d96833",
   "metadata": {},
   "outputs": [
    {
     "data": {
      "text/html": [
       "<div>\n",
       "<style scoped>\n",
       "    .dataframe tbody tr th:only-of-type {\n",
       "        vertical-align: middle;\n",
       "    }\n",
       "\n",
       "    .dataframe tbody tr th {\n",
       "        vertical-align: top;\n",
       "    }\n",
       "\n",
       "    .dataframe thead th {\n",
       "        text-align: right;\n",
       "    }\n",
       "</style>\n",
       "<table border=\"1\" class=\"dataframe\">\n",
       "  <thead>\n",
       "    <tr style=\"text-align: right;\">\n",
       "      <th></th>\n",
       "      <th>unique_id</th>\n",
       "      <th>ds</th>\n",
       "      <th>y</th>\n",
       "    </tr>\n",
       "  </thead>\n",
       "  <tbody>\n",
       "    <tr>\n",
       "      <th>132</th>\n",
       "      <td>1.0</td>\n",
       "      <td>1960-01-31</td>\n",
       "      <td>417.0</td>\n",
       "    </tr>\n",
       "    <tr>\n",
       "      <th>133</th>\n",
       "      <td>1.0</td>\n",
       "      <td>1960-02-29</td>\n",
       "      <td>391.0</td>\n",
       "    </tr>\n",
       "    <tr>\n",
       "      <th>134</th>\n",
       "      <td>1.0</td>\n",
       "      <td>1960-03-31</td>\n",
       "      <td>419.0</td>\n",
       "    </tr>\n",
       "    <tr>\n",
       "      <th>135</th>\n",
       "      <td>1.0</td>\n",
       "      <td>1960-04-30</td>\n",
       "      <td>461.0</td>\n",
       "    </tr>\n",
       "    <tr>\n",
       "      <th>136</th>\n",
       "      <td>1.0</td>\n",
       "      <td>1960-05-31</td>\n",
       "      <td>472.0</td>\n",
       "    </tr>\n",
       "  </tbody>\n",
       "</table>\n",
       "</div>"
      ],
      "text/plain": [
       "     unique_id         ds      y\n",
       "132        1.0 1960-01-31  417.0\n",
       "133        1.0 1960-02-29  391.0\n",
       "134        1.0 1960-03-31  419.0\n",
       "135        1.0 1960-04-30  461.0\n",
       "136        1.0 1960-05-31  472.0"
      ]
     },
     "execution_count": 9,
     "metadata": {},
     "output_type": "execute_result"
    }
   ],
   "source": [
    "Y_test_df.head()"
   ]
  },
  {
   "cell_type": "markdown",
   "id": "27e7017d-ed9a-44a9-a705-9fd1a1746825",
   "metadata": {},
   "source": [
    "# model fit"
   ]
  },
  {
   "cell_type": "code",
   "execution_count": 46,
   "id": "2066e4d5-36b7-4a02-8f37-1b2792dfbc6a",
   "metadata": {},
   "outputs": [
    {
     "name": "stderr",
     "output_type": "stream",
     "text": [
      "Global seed set to 1\n",
      "Global seed set to 1\n",
      "Global seed set to 1\n",
      "GPU available: True (cuda), used: True\n",
      "TPU available: False, using: 0 TPU cores\n",
      "IPU available: False, using: 0 IPUs\n",
      "HPU available: False, using: 0 HPUs\n",
      "LOCAL_RANK: 0 - CUDA_VISIBLE_DEVICES: [0]\n",
      "\n",
      "  | Name            | Type          | Params\n",
      "--------------------------------------------------\n",
      "0 | loss            | MAE           | 0     \n",
      "1 | padder          | ConstantPad1d | 0     \n",
      "2 | scaler          | TemporalNorm  | 0     \n",
      "3 | hist_encoder    | LSTM          | 50.4 K\n",
      "4 | context_adapter | Linear        | 7.8 K \n",
      "5 | mlp_decoder     | MLP           | 769   \n",
      "--------------------------------------------------\n",
      "59.0 K    Trainable params\n",
      "0         Non-trainable params\n",
      "59.0 K    Total params\n",
      "0.236     Total estimated model params size (MB)\n"
     ]
    },
    {
     "data": {
      "application/vnd.jupyter.widget-view+json": {
       "model_id": "",
       "version_major": 2,
       "version_minor": 0
      },
      "text/plain": [
       "Sanity Checking: 0it [00:00, ?it/s]"
      ]
     },
     "metadata": {},
     "output_type": "display_data"
    },
    {
     "data": {
      "application/vnd.jupyter.widget-view+json": {
       "model_id": "6869c253e30c46298f68bb312e253285",
       "version_major": 2,
       "version_minor": 0
      },
      "text/plain": [
       "Training: 0it [00:00, ?it/s]"
      ]
     },
     "metadata": {},
     "output_type": "display_data"
    },
    {
     "data": {
      "application/vnd.jupyter.widget-view+json": {
       "model_id": "",
       "version_major": 2,
       "version_minor": 0
      },
      "text/plain": [
       "Validation: 0it [00:00, ?it/s]"
      ]
     },
     "metadata": {},
     "output_type": "display_data"
    },
    {
     "data": {
      "application/vnd.jupyter.widget-view+json": {
       "model_id": "",
       "version_major": 2,
       "version_minor": 0
      },
      "text/plain": [
       "Validation: 0it [00:00, ?it/s]"
      ]
     },
     "metadata": {},
     "output_type": "display_data"
    },
    {
     "data": {
      "application/vnd.jupyter.widget-view+json": {
       "model_id": "",
       "version_major": 2,
       "version_minor": 0
      },
      "text/plain": [
       "Validation: 0it [00:00, ?it/s]"
      ]
     },
     "metadata": {},
     "output_type": "display_data"
    },
    {
     "data": {
      "application/vnd.jupyter.widget-view+json": {
       "model_id": "",
       "version_major": 2,
       "version_minor": 0
      },
      "text/plain": [
       "Validation: 0it [00:00, ?it/s]"
      ]
     },
     "metadata": {},
     "output_type": "display_data"
    },
    {
     "data": {
      "application/vnd.jupyter.widget-view+json": {
       "model_id": "",
       "version_major": 2,
       "version_minor": 0
      },
      "text/plain": [
       "Validation: 0it [00:00, ?it/s]"
      ]
     },
     "metadata": {},
     "output_type": "display_data"
    },
    {
     "name": "stderr",
     "output_type": "stream",
     "text": [
      "`Trainer.fit` stopped: `max_steps=500` reached.\n",
      "GPU available: True (cuda), used: True\n",
      "TPU available: False, using: 0 TPU cores\n",
      "IPU available: False, using: 0 IPUs\n",
      "HPU available: False, using: 0 HPUs\n",
      "LOCAL_RANK: 0 - CUDA_VISIBLE_DEVICES: [0]\n",
      "\n",
      "  | Name         | Type          | Params\n",
      "-----------------------------------------------\n",
      "0 | loss         | MAE           | 0     \n",
      "1 | padder_train | ConstantPad1d | 0     \n",
      "2 | scaler       | TemporalNorm  | 0     \n",
      "3 | blocks       | ModuleList    | 2.4 M \n",
      "-----------------------------------------------\n",
      "2.4 M     Trainable params\n",
      "900       Non-trainable params\n",
      "2.4 M     Total params\n",
      "9.789     Total estimated model params size (MB)\n"
     ]
    },
    {
     "data": {
      "application/vnd.jupyter.widget-view+json": {
       "model_id": "",
       "version_major": 2,
       "version_minor": 0
      },
      "text/plain": [
       "Sanity Checking: 0it [00:00, ?it/s]"
      ]
     },
     "metadata": {},
     "output_type": "display_data"
    },
    {
     "data": {
      "application/vnd.jupyter.widget-view+json": {
       "model_id": "4410ebbad2c64d25aacfa991fc2837af",
       "version_major": 2,
       "version_minor": 0
      },
      "text/plain": [
       "Training: 0it [00:00, ?it/s]"
      ]
     },
     "metadata": {},
     "output_type": "display_data"
    },
    {
     "data": {
      "application/vnd.jupyter.widget-view+json": {
       "model_id": "",
       "version_major": 2,
       "version_minor": 0
      },
      "text/plain": [
       "Validation: 0it [00:00, ?it/s]"
      ]
     },
     "metadata": {},
     "output_type": "display_data"
    },
    {
     "name": "stderr",
     "output_type": "stream",
     "text": [
      "`Trainer.fit` stopped: `max_steps=50` reached.\n",
      "GPU available: True (cuda), used: True\n",
      "TPU available: False, using: 0 TPU cores\n",
      "IPU available: False, using: 0 IPUs\n",
      "HPU available: False, using: 0 HPUs\n",
      "LOCAL_RANK: 0 - CUDA_VISIBLE_DEVICES: [0]\n",
      "\n",
      "  | Name         | Type          | Params\n",
      "-----------------------------------------------\n",
      "0 | loss         | MAE           | 0     \n",
      "1 | padder_train | ConstantPad1d | 0     \n",
      "2 | scaler       | TemporalNorm  | 0     \n",
      "3 | blocks       | ModuleList    | 2.4 M \n",
      "-----------------------------------------------\n",
      "2.4 M     Trainable params\n",
      "0         Non-trainable params\n",
      "2.4 M     Total params\n",
      "9.769     Total estimated model params size (MB)\n"
     ]
    },
    {
     "data": {
      "application/vnd.jupyter.widget-view+json": {
       "model_id": "",
       "version_major": 2,
       "version_minor": 0
      },
      "text/plain": [
       "Sanity Checking: 0it [00:00, ?it/s]"
      ]
     },
     "metadata": {},
     "output_type": "display_data"
    },
    {
     "data": {
      "application/vnd.jupyter.widget-view+json": {
       "model_id": "cb9ceb46ca50492db3ecb3be5a84e690",
       "version_major": 2,
       "version_minor": 0
      },
      "text/plain": [
       "Training: 0it [00:00, ?it/s]"
      ]
     },
     "metadata": {},
     "output_type": "display_data"
    },
    {
     "data": {
      "application/vnd.jupyter.widget-view+json": {
       "model_id": "",
       "version_major": 2,
       "version_minor": 0
      },
      "text/plain": [
       "Validation: 0it [00:00, ?it/s]"
      ]
     },
     "metadata": {},
     "output_type": "display_data"
    },
    {
     "name": "stderr",
     "output_type": "stream",
     "text": [
      "`Trainer.fit` stopped: `max_steps=100` reached.\n"
     ]
    }
   ],
   "source": [
    "# forecast length\n",
    "horizon = len(Y_test_df)\n",
    "\n",
    "# model\n",
    "nf = NeuralForecast(\n",
    "    models = [\n",
    "        LSTM(h = horizon, max_steps = 500, scaler_type = \"standard\", encoder_hidden_size = 64, decoder_hidden_size = 64),\n",
    "        NBEATS(input_size = 2 * horizon, h = horizon, max_steps = 50),\n",
    "        NHITS(input_size = 2 * horizon, h = horizon, max_steps = 100, n_freq_downsample = [2, 1, 1]),\n",
    "    ], \n",
    "    freq = \"M\"\n",
    ")\n",
    "\n",
    "# model training\n",
    "nf.fit(df = Y_train_df)"
   ]
  },
  {
   "cell_type": "markdown",
   "id": "3527c883-06aa-40d0-a155-526878a1fadb",
   "metadata": {},
   "source": [
    "# model predict"
   ]
  },
  {
   "cell_type": "code",
   "execution_count": 48,
   "id": "45301b62-396f-4183-b908-9eb8324fb23e",
   "metadata": {},
   "outputs": [
    {
     "name": "stderr",
     "output_type": "stream",
     "text": [
      "GPU available: True (cuda), used: True\n",
      "TPU available: False, using: 0 TPU cores\n",
      "IPU available: False, using: 0 IPUs\n",
      "HPU available: False, using: 0 HPUs\n",
      "LOCAL_RANK: 0 - CUDA_VISIBLE_DEVICES: [0]\n"
     ]
    },
    {
     "data": {
      "application/vnd.jupyter.widget-view+json": {
       "model_id": "f494bb83823245719171c886d7847117",
       "version_major": 2,
       "version_minor": 0
      },
      "text/plain": [
       "Predicting: 0it [00:00, ?it/s]"
      ]
     },
     "metadata": {},
     "output_type": "display_data"
    },
    {
     "name": "stderr",
     "output_type": "stream",
     "text": [
      "GPU available: True (cuda), used: True\n",
      "TPU available: False, using: 0 TPU cores\n",
      "IPU available: False, using: 0 IPUs\n",
      "HPU available: False, using: 0 HPUs\n",
      "LOCAL_RANK: 0 - CUDA_VISIBLE_DEVICES: [0]\n"
     ]
    },
    {
     "data": {
      "application/vnd.jupyter.widget-view+json": {
       "model_id": "ffd86363cc1a4981aed1cd8a837c2b44",
       "version_major": 2,
       "version_minor": 0
      },
      "text/plain": [
       "Predicting: 0it [00:00, ?it/s]"
      ]
     },
     "metadata": {},
     "output_type": "display_data"
    },
    {
     "name": "stderr",
     "output_type": "stream",
     "text": [
      "GPU available: True (cuda), used: True\n",
      "TPU available: False, using: 0 TPU cores\n",
      "IPU available: False, using: 0 IPUs\n",
      "HPU available: False, using: 0 HPUs\n",
      "LOCAL_RANK: 0 - CUDA_VISIBLE_DEVICES: [0]\n"
     ]
    },
    {
     "data": {
      "application/vnd.jupyter.widget-view+json": {
       "model_id": "ebfa43f6a2a846a69647c3ebaae6da5a",
       "version_major": 2,
       "version_minor": 0
      },
      "text/plain": [
       "Predicting: 0it [00:00, ?it/s]"
      ]
     },
     "metadata": {},
     "output_type": "display_data"
    },
    {
     "data": {
      "text/html": [
       "<div>\n",
       "<style scoped>\n",
       "    .dataframe tbody tr th:only-of-type {\n",
       "        vertical-align: middle;\n",
       "    }\n",
       "\n",
       "    .dataframe tbody tr th {\n",
       "        vertical-align: top;\n",
       "    }\n",
       "\n",
       "    .dataframe thead th {\n",
       "        text-align: right;\n",
       "    }\n",
       "</style>\n",
       "<table border=\"1\" class=\"dataframe\">\n",
       "  <thead>\n",
       "    <tr style=\"text-align: right;\">\n",
       "      <th></th>\n",
       "      <th>unique_id</th>\n",
       "      <th>ds</th>\n",
       "      <th>LSTM</th>\n",
       "      <th>NBEATS</th>\n",
       "      <th>NHITS</th>\n",
       "    </tr>\n",
       "  </thead>\n",
       "  <tbody>\n",
       "    <tr>\n",
       "      <th>0</th>\n",
       "      <td>1.0</td>\n",
       "      <td>1960-01-31</td>\n",
       "      <td>416.811829</td>\n",
       "      <td>426.281372</td>\n",
       "      <td>422.886108</td>\n",
       "    </tr>\n",
       "    <tr>\n",
       "      <th>1</th>\n",
       "      <td>1.0</td>\n",
       "      <td>1960-02-29</td>\n",
       "      <td>431.704224</td>\n",
       "      <td>448.993500</td>\n",
       "      <td>423.958923</td>\n",
       "    </tr>\n",
       "    <tr>\n",
       "      <th>2</th>\n",
       "      <td>1.0</td>\n",
       "      <td>1960-03-31</td>\n",
       "      <td>421.217896</td>\n",
       "      <td>458.734619</td>\n",
       "      <td>461.139557</td>\n",
       "    </tr>\n",
       "    <tr>\n",
       "      <th>3</th>\n",
       "      <td>1.0</td>\n",
       "      <td>1960-04-30</td>\n",
       "      <td>421.195374</td>\n",
       "      <td>459.096710</td>\n",
       "      <td>463.317047</td>\n",
       "    </tr>\n",
       "    <tr>\n",
       "      <th>4</th>\n",
       "      <td>1.0</td>\n",
       "      <td>1960-05-31</td>\n",
       "      <td>468.277161</td>\n",
       "      <td>506.186737</td>\n",
       "      <td>469.914642</td>\n",
       "    </tr>\n",
       "    <tr>\n",
       "      <th>5</th>\n",
       "      <td>1.0</td>\n",
       "      <td>1960-06-30</td>\n",
       "      <td>529.506714</td>\n",
       "      <td>576.391541</td>\n",
       "      <td>550.907471</td>\n",
       "    </tr>\n",
       "    <tr>\n",
       "      <th>6</th>\n",
       "      <td>1.0</td>\n",
       "      <td>1960-07-31</td>\n",
       "      <td>590.911011</td>\n",
       "      <td>631.492065</td>\n",
       "      <td>632.620544</td>\n",
       "    </tr>\n",
       "    <tr>\n",
       "      <th>7</th>\n",
       "      <td>1.0</td>\n",
       "      <td>1960-08-31</td>\n",
       "      <td>568.070312</td>\n",
       "      <td>627.483826</td>\n",
       "      <td>637.266968</td>\n",
       "    </tr>\n",
       "    <tr>\n",
       "      <th>8</th>\n",
       "      <td>1.0</td>\n",
       "      <td>1960-09-30</td>\n",
       "      <td>502.768005</td>\n",
       "      <td>555.302856</td>\n",
       "      <td>549.146606</td>\n",
       "    </tr>\n",
       "    <tr>\n",
       "      <th>9</th>\n",
       "      <td>1.0</td>\n",
       "      <td>1960-10-31</td>\n",
       "      <td>433.618286</td>\n",
       "      <td>482.730347</td>\n",
       "      <td>464.672546</td>\n",
       "    </tr>\n",
       "    <tr>\n",
       "      <th>10</th>\n",
       "      <td>1.0</td>\n",
       "      <td>1960-11-30</td>\n",
       "      <td>454.061279</td>\n",
       "      <td>435.362030</td>\n",
       "      <td>425.192780</td>\n",
       "    </tr>\n",
       "    <tr>\n",
       "      <th>11</th>\n",
       "      <td>1.0</td>\n",
       "      <td>1960-12-31</td>\n",
       "      <td>451.919495</td>\n",
       "      <td>463.075897</td>\n",
       "      <td>460.809570</td>\n",
       "    </tr>\n",
       "  </tbody>\n",
       "</table>\n",
       "</div>"
      ],
      "text/plain": [
       "    unique_id         ds        LSTM      NBEATS       NHITS\n",
       "0         1.0 1960-01-31  416.811829  426.281372  422.886108\n",
       "1         1.0 1960-02-29  431.704224  448.993500  423.958923\n",
       "2         1.0 1960-03-31  421.217896  458.734619  461.139557\n",
       "3         1.0 1960-04-30  421.195374  459.096710  463.317047\n",
       "4         1.0 1960-05-31  468.277161  506.186737  469.914642\n",
       "5         1.0 1960-06-30  529.506714  576.391541  550.907471\n",
       "6         1.0 1960-07-31  590.911011  631.492065  632.620544\n",
       "7         1.0 1960-08-31  568.070312  627.483826  637.266968\n",
       "8         1.0 1960-09-30  502.768005  555.302856  549.146606\n",
       "9         1.0 1960-10-31  433.618286  482.730347  464.672546\n",
       "10        1.0 1960-11-30  454.061279  435.362030  425.192780\n",
       "11        1.0 1960-12-31  451.919495  463.075897  460.809570"
      ]
     },
     "execution_count": 48,
     "metadata": {},
     "output_type": "execute_result"
    }
   ],
   "source": [
    "Y_hat_df = nf.predict().reset_index()\n",
    "Y_hat_df"
   ]
  },
  {
   "cell_type": "markdown",
   "id": "2fb7a477-8fc0-424e-9ae7-9b9e1d4a3930",
   "metadata": {},
   "source": [
    "# plot_predictions"
   ]
  },
  {
   "cell_type": "code",
   "execution_count": 49,
   "id": "fbf8fde2-2341-4cfa-94e3-bb8d64c1ea45",
   "metadata": {},
   "outputs": [
    {
     "data": {
      "text/html": [
       "<div>\n",
       "<style scoped>\n",
       "    .dataframe tbody tr th:only-of-type {\n",
       "        vertical-align: middle;\n",
       "    }\n",
       "\n",
       "    .dataframe tbody tr th {\n",
       "        vertical-align: top;\n",
       "    }\n",
       "\n",
       "    .dataframe thead th {\n",
       "        text-align: right;\n",
       "    }\n",
       "</style>\n",
       "<table border=\"1\" class=\"dataframe\">\n",
       "  <thead>\n",
       "    <tr style=\"text-align: right;\">\n",
       "      <th></th>\n",
       "      <th>unique_id</th>\n",
       "      <th>ds</th>\n",
       "      <th>y</th>\n",
       "      <th>LSTM</th>\n",
       "      <th>NBEATS</th>\n",
       "      <th>NHITS</th>\n",
       "    </tr>\n",
       "  </thead>\n",
       "  <tbody>\n",
       "    <tr>\n",
       "      <th>0</th>\n",
       "      <td>1.0</td>\n",
       "      <td>1960-01-31</td>\n",
       "      <td>417.0</td>\n",
       "      <td>416.811829</td>\n",
       "      <td>426.281372</td>\n",
       "      <td>422.886108</td>\n",
       "    </tr>\n",
       "    <tr>\n",
       "      <th>1</th>\n",
       "      <td>1.0</td>\n",
       "      <td>1960-02-29</td>\n",
       "      <td>391.0</td>\n",
       "      <td>431.704224</td>\n",
       "      <td>448.993500</td>\n",
       "      <td>423.958923</td>\n",
       "    </tr>\n",
       "    <tr>\n",
       "      <th>2</th>\n",
       "      <td>1.0</td>\n",
       "      <td>1960-03-31</td>\n",
       "      <td>419.0</td>\n",
       "      <td>421.217896</td>\n",
       "      <td>458.734619</td>\n",
       "      <td>461.139557</td>\n",
       "    </tr>\n",
       "    <tr>\n",
       "      <th>3</th>\n",
       "      <td>1.0</td>\n",
       "      <td>1960-04-30</td>\n",
       "      <td>461.0</td>\n",
       "      <td>421.195374</td>\n",
       "      <td>459.096710</td>\n",
       "      <td>463.317047</td>\n",
       "    </tr>\n",
       "    <tr>\n",
       "      <th>4</th>\n",
       "      <td>1.0</td>\n",
       "      <td>1960-05-31</td>\n",
       "      <td>472.0</td>\n",
       "      <td>468.277161</td>\n",
       "      <td>506.186737</td>\n",
       "      <td>469.914642</td>\n",
       "    </tr>\n",
       "    <tr>\n",
       "      <th>5</th>\n",
       "      <td>1.0</td>\n",
       "      <td>1960-06-30</td>\n",
       "      <td>535.0</td>\n",
       "      <td>529.506714</td>\n",
       "      <td>576.391541</td>\n",
       "      <td>550.907471</td>\n",
       "    </tr>\n",
       "    <tr>\n",
       "      <th>6</th>\n",
       "      <td>1.0</td>\n",
       "      <td>1960-07-31</td>\n",
       "      <td>622.0</td>\n",
       "      <td>590.911011</td>\n",
       "      <td>631.492065</td>\n",
       "      <td>632.620544</td>\n",
       "    </tr>\n",
       "    <tr>\n",
       "      <th>7</th>\n",
       "      <td>1.0</td>\n",
       "      <td>1960-08-31</td>\n",
       "      <td>606.0</td>\n",
       "      <td>568.070312</td>\n",
       "      <td>627.483826</td>\n",
       "      <td>637.266968</td>\n",
       "    </tr>\n",
       "    <tr>\n",
       "      <th>8</th>\n",
       "      <td>1.0</td>\n",
       "      <td>1960-09-30</td>\n",
       "      <td>508.0</td>\n",
       "      <td>502.768005</td>\n",
       "      <td>555.302856</td>\n",
       "      <td>549.146606</td>\n",
       "    </tr>\n",
       "    <tr>\n",
       "      <th>9</th>\n",
       "      <td>1.0</td>\n",
       "      <td>1960-10-31</td>\n",
       "      <td>461.0</td>\n",
       "      <td>433.618286</td>\n",
       "      <td>482.730347</td>\n",
       "      <td>464.672546</td>\n",
       "    </tr>\n",
       "    <tr>\n",
       "      <th>10</th>\n",
       "      <td>1.0</td>\n",
       "      <td>1960-11-30</td>\n",
       "      <td>390.0</td>\n",
       "      <td>454.061279</td>\n",
       "      <td>435.362030</td>\n",
       "      <td>425.192780</td>\n",
       "    </tr>\n",
       "    <tr>\n",
       "      <th>11</th>\n",
       "      <td>1.0</td>\n",
       "      <td>1960-12-31</td>\n",
       "      <td>432.0</td>\n",
       "      <td>451.919495</td>\n",
       "      <td>463.075897</td>\n",
       "      <td>460.809570</td>\n",
       "    </tr>\n",
       "  </tbody>\n",
       "</table>\n",
       "</div>"
      ],
      "text/plain": [
       "    unique_id         ds      y        LSTM      NBEATS       NHITS\n",
       "0         1.0 1960-01-31  417.0  416.811829  426.281372  422.886108\n",
       "1         1.0 1960-02-29  391.0  431.704224  448.993500  423.958923\n",
       "2         1.0 1960-03-31  419.0  421.217896  458.734619  461.139557\n",
       "3         1.0 1960-04-30  461.0  421.195374  459.096710  463.317047\n",
       "4         1.0 1960-05-31  472.0  468.277161  506.186737  469.914642\n",
       "5         1.0 1960-06-30  535.0  529.506714  576.391541  550.907471\n",
       "6         1.0 1960-07-31  622.0  590.911011  631.492065  632.620544\n",
       "7         1.0 1960-08-31  606.0  568.070312  627.483826  637.266968\n",
       "8         1.0 1960-09-30  508.0  502.768005  555.302856  549.146606\n",
       "9         1.0 1960-10-31  461.0  433.618286  482.730347  464.672546\n",
       "10        1.0 1960-11-30  390.0  454.061279  435.362030  425.192780\n",
       "11        1.0 1960-12-31  432.0  451.919495  463.075897  460.809570"
      ]
     },
     "execution_count": 49,
     "metadata": {},
     "output_type": "execute_result"
    }
   ],
   "source": [
    "# test and predictions data\n",
    "Y_hat_df = Y_test_df.merge(Y_hat_df, how = \"left\", on = [\"unique_id\", \"ds\"])\n",
    "Y_hat_df"
   ]
  },
  {
   "cell_type": "code",
   "execution_count": 50,
   "id": "8e90cb9a-5210-4c8b-bd49-707f38e0ef35",
   "metadata": {},
   "outputs": [
    {
     "data": {
      "text/html": [
       "<div>\n",
       "<style scoped>\n",
       "    .dataframe tbody tr th:only-of-type {\n",
       "        vertical-align: middle;\n",
       "    }\n",
       "\n",
       "    .dataframe tbody tr th {\n",
       "        vertical-align: top;\n",
       "    }\n",
       "\n",
       "    .dataframe thead th {\n",
       "        text-align: right;\n",
       "    }\n",
       "</style>\n",
       "<table border=\"1\" class=\"dataframe\">\n",
       "  <thead>\n",
       "    <tr style=\"text-align: right;\">\n",
       "      <th></th>\n",
       "      <th>unique_id</th>\n",
       "      <th>y</th>\n",
       "      <th>LSTM</th>\n",
       "      <th>NBEATS</th>\n",
       "      <th>NHITS</th>\n",
       "    </tr>\n",
       "    <tr>\n",
       "      <th>ds</th>\n",
       "      <th></th>\n",
       "      <th></th>\n",
       "      <th></th>\n",
       "      <th></th>\n",
       "      <th></th>\n",
       "    </tr>\n",
       "  </thead>\n",
       "  <tbody>\n",
       "    <tr>\n",
       "      <th>1949-01-31</th>\n",
       "      <td>1.0</td>\n",
       "      <td>112.0</td>\n",
       "      <td>NaN</td>\n",
       "      <td>NaN</td>\n",
       "      <td>NaN</td>\n",
       "    </tr>\n",
       "    <tr>\n",
       "      <th>1949-02-28</th>\n",
       "      <td>1.0</td>\n",
       "      <td>118.0</td>\n",
       "      <td>NaN</td>\n",
       "      <td>NaN</td>\n",
       "      <td>NaN</td>\n",
       "    </tr>\n",
       "    <tr>\n",
       "      <th>1949-03-31</th>\n",
       "      <td>1.0</td>\n",
       "      <td>132.0</td>\n",
       "      <td>NaN</td>\n",
       "      <td>NaN</td>\n",
       "      <td>NaN</td>\n",
       "    </tr>\n",
       "    <tr>\n",
       "      <th>1949-04-30</th>\n",
       "      <td>1.0</td>\n",
       "      <td>129.0</td>\n",
       "      <td>NaN</td>\n",
       "      <td>NaN</td>\n",
       "      <td>NaN</td>\n",
       "    </tr>\n",
       "    <tr>\n",
       "      <th>1949-05-31</th>\n",
       "      <td>1.0</td>\n",
       "      <td>121.0</td>\n",
       "      <td>NaN</td>\n",
       "      <td>NaN</td>\n",
       "      <td>NaN</td>\n",
       "    </tr>\n",
       "    <tr>\n",
       "      <th>...</th>\n",
       "      <td>...</td>\n",
       "      <td>...</td>\n",
       "      <td>...</td>\n",
       "      <td>...</td>\n",
       "      <td>...</td>\n",
       "    </tr>\n",
       "    <tr>\n",
       "      <th>1960-08-31</th>\n",
       "      <td>1.0</td>\n",
       "      <td>606.0</td>\n",
       "      <td>568.070312</td>\n",
       "      <td>627.483826</td>\n",
       "      <td>637.266968</td>\n",
       "    </tr>\n",
       "    <tr>\n",
       "      <th>1960-09-30</th>\n",
       "      <td>1.0</td>\n",
       "      <td>508.0</td>\n",
       "      <td>502.768005</td>\n",
       "      <td>555.302856</td>\n",
       "      <td>549.146606</td>\n",
       "    </tr>\n",
       "    <tr>\n",
       "      <th>1960-10-31</th>\n",
       "      <td>1.0</td>\n",
       "      <td>461.0</td>\n",
       "      <td>433.618286</td>\n",
       "      <td>482.730347</td>\n",
       "      <td>464.672546</td>\n",
       "    </tr>\n",
       "    <tr>\n",
       "      <th>1960-11-30</th>\n",
       "      <td>1.0</td>\n",
       "      <td>390.0</td>\n",
       "      <td>454.061279</td>\n",
       "      <td>435.362030</td>\n",
       "      <td>425.192780</td>\n",
       "    </tr>\n",
       "    <tr>\n",
       "      <th>1960-12-31</th>\n",
       "      <td>1.0</td>\n",
       "      <td>432.0</td>\n",
       "      <td>451.919495</td>\n",
       "      <td>463.075897</td>\n",
       "      <td>460.809570</td>\n",
       "    </tr>\n",
       "  </tbody>\n",
       "</table>\n",
       "<p>144 rows × 5 columns</p>\n",
       "</div>"
      ],
      "text/plain": [
       "            unique_id      y        LSTM      NBEATS       NHITS\n",
       "ds                                                              \n",
       "1949-01-31        1.0  112.0         NaN         NaN         NaN\n",
       "1949-02-28        1.0  118.0         NaN         NaN         NaN\n",
       "1949-03-31        1.0  132.0         NaN         NaN         NaN\n",
       "1949-04-30        1.0  129.0         NaN         NaN         NaN\n",
       "1949-05-31        1.0  121.0         NaN         NaN         NaN\n",
       "...               ...    ...         ...         ...         ...\n",
       "1960-08-31        1.0  606.0  568.070312  627.483826  637.266968\n",
       "1960-09-30        1.0  508.0  502.768005  555.302856  549.146606\n",
       "1960-10-31        1.0  461.0  433.618286  482.730347  464.672546\n",
       "1960-11-30        1.0  390.0  454.061279  435.362030  425.192780\n",
       "1960-12-31        1.0  432.0  451.919495  463.075897  460.809570\n",
       "\n",
       "[144 rows x 5 columns]"
      ]
     },
     "execution_count": 50,
     "metadata": {},
     "output_type": "execute_result"
    }
   ],
   "source": [
    "plot_df = pd.concat([Y_train_df, Y_hat_df]).set_index(\"ds\")\n",
    "plot_df"
   ]
  },
  {
   "cell_type": "code",
   "execution_count": 52,
   "id": "fd3e1c4c-426e-4fee-9ef3-e0a06c8568a5",
   "metadata": {},
   "outputs": [
    {
     "data": {
      "image/png": "[encoded data removed]",
      "text/plain": [
       "<Figure size 2000x700 with 1 Axes>"
      ]
     },
     "metadata": {},
     "output_type": "display_data"
    }
   ],
   "source": [
    "# plot\n",
    "fig, ax = plt.subplots(1, 1, figsize = (20, 7))\n",
    "plot_df[[\"y\", \"NBEATS\", \"NHITS\", \"LSTM\"]].plot(ax = ax, linewidth = 1.5)\n",
    "ax.set_title('AirPassengers Forecast', fontsize=22)\n",
    "ax.set_ylabel('Monthly Passengers', fontsize=20)\n",
    "ax.set_xlabel('Timestamp [t]', fontsize=20)\n",
    "ax.legend(prop={'size': 15})\n",
    "ax.grid()"
   ]
  },
  {
   "cell_type": "code",
   "execution_count": null,
   "id": "cfdba203-8bfa-4b86-b3b0-c6a79054752a",
   "metadata": {},
   "outputs": [],
   "source": []
  }
 ],
 "metadata": {
  "kernelspec": {
   "display_name": "Python 3 (ipykernel)",
   "language": "python",
   "name": "python3"
  },
  "language_info": {
   "codemirror_mode": {
    "name": "ipython",
    "version": 3
   },
   "file_extension": ".py",
   "mimetype": "text/x-python",
   "name": "python",
   "nbconvert_exporter": "python",
   "pygments_lexer": "ipython3",
   "version": "3.8.19"
  }
 },
 "nbformat": 4,
 "nbformat_minor": 5
}
