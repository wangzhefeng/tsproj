{
 "cells": [
  {
   "cell_type": "code",
   "execution_count": null,
   "id": "9245e49d-2672-41ab-a8b8-d54e0f776884",
   "metadata": {},
   "outputs": [],
   "source": []
  }
 ],
 "metadata": {
  "kernelspec": {
   "display_name": "Python 3 (ipykernel)",
   "language": "python",
   "name": "python3"
  },
  "language_info": {
   "name": ""
  }
 },
 "nbformat": 4,
 "nbformat_minor": 5
}
