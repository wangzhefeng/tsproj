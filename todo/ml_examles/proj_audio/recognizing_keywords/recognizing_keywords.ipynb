{
 "cells": [
  {
   "cell_type": "markdown",
   "id": "original-hacker",
   "metadata": {},
   "source": [
    "本教程将向您展示如何构建可识别十个不同单词的基本语音识别网络。重要的是要知道真实的语音和音频识别系统要复杂得多，但是像图像的MNIST一样，它应该使您对所涉及的技术有基本的了解。完成本教程后，您将拥有一个模型，该模型尝试将一秒钟的音频片段分类为“向下”，“开始”，“向左”，“否”，“向右”，“停止”，“向上” “ 是的”。"
   ]
  },
  {
   "cell_type": "code",
   "execution_count": 3,
   "id": "extreme-channels",
   "metadata": {},
   "outputs": [],
   "source": [
    "import os\n",
    "import pathlib\n",
    "import matplotlib.pyplot as plt\n",
    "import numpy as np\n",
    "import seaborn as sns\n",
    "import tensorflow as tf\n",
    "from tensorflow.keras.layers.experimental import preprocessing\n",
    "from tensorflow.keras import layers, models\n",
    "from IPython import display\n",
    "from IPython.core.interactiveshell import InteractiveShell\n",
    "InteractiveShell.ast_node_interactivity = \"all\""
   ]
  },
  {
   "cell_type": "markdown",
   "id": "effective-accent",
   "metadata": {},
   "source": [
    "# 2.数据下载"
   ]
  },
  {
   "cell_type": "code",
   "execution_count": 4,
   "id": "fourth-separation",
   "metadata": {},
   "outputs": [
    {
     "name": "stdout",
     "output_type": "stream",
     "text": [
      "Downloading data from http://storage.googleapis.com/download.tensorflow.org/data/mini_speech_commands.zip\n",
      "182083584/182082353 [==============================] - 1690s 9us/step\n"
     ]
    },
    {
     "data": {
      "text/plain": [
       "'./data/mini_speech_commands.zip'"
      ]
     },
     "execution_count": 4,
     "metadata": {},
     "output_type": "execute_result"
    }
   ],
   "source": [
    "data_dir = pathlib.Path(\"data/mini_speech_commands\")\n",
    "if not data_dir.exists():\n",
    "    tf.keras.utils.get_file(\n",
    "        fname = \"mini_speech_commands.zip\",\n",
    "        origin = \"http://storage.googleapis.com/download.tensorflow.org/data/mini_speech_commands.zip\",\n",
    "        extract = True,\n",
    "        cache_dir = \".\",\n",
    "        cache_subdir = \"data\"\n",
    "    )"
   ]
  },
  {
   "cell_type": "code",
   "execution_count": null,
   "id": "preceding-tonight",
   "metadata": {},
   "outputs": [],
   "source": []
  }
 ],
 "metadata": {
  "kernelspec": {
   "display_name": "Python 3",
   "language": "python",
   "name": "python3"
  },
  "language_info": {
   "codemirror_mode": {
    "name": "ipython",
    "version": 3
   },
   "file_extension": ".py",
   "mimetype": "text/x-python",
   "name": "python",
   "nbconvert_exporter": "python",
   "pygments_lexer": "ipython3",
   "version": "3.7.10"
  }
 },
 "nbformat": 4,
 "nbformat_minor": 5
}
