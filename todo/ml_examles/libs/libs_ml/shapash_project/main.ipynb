{
 "cells": [
  {
   "cell_type": "code",
   "execution_count": 35,
   "outputs": [],
   "source": [
    "import pandas as pd\n",
    "from shapash.data.data_loader import data_loading\n",
    "from category_encoders import OrdinalEncoder\n",
    "from sklearn.model_selection import train_test_split\n",
    "from sklearn.ensemble import RandomForestRegressor\n",
    "from shapash.explainer.smart_explainer import SmartExplainer"
   ],
   "metadata": {
    "collapsed": false,
    "pycharm": {
     "name": "#%%\n"
    }
   }
  },
  {
   "cell_type": "markdown",
   "source": [
    "# 数据读取"
   ],
   "metadata": {
    "collapsed": false,
    "pycharm": {
     "name": "#%% md\n"
    }
   }
  },
  {
   "cell_type": "code",
   "execution_count": 27,
   "outputs": [],
   "source": [
    "house_df, house_dict = data_loading(\"house_prices\")\n",
    "y_df = house_df[\"SalePrice\"].to_frame()\n",
    "X_df = house_df[house_df.columns.difference([\"SalePrice\"])]"
   ],
   "metadata": {
    "collapsed": false,
    "pycharm": {
     "name": "#%%\n"
    }
   }
  },
  {
   "cell_type": "code",
   "execution_count": 42,
   "outputs": [
    {
     "data": {
      "text/plain": "(1460, 1)"
     },
     "execution_count": 42,
     "metadata": {},
     "output_type": "execute_result"
    }
   ],
   "source": [
    "y_df.shape"
   ],
   "metadata": {
    "collapsed": false,
    "pycharm": {
     "name": "#%%\n"
    }
   }
  },
  {
   "cell_type": "code",
   "execution_count": 29,
   "outputs": [
    {
     "data": {
      "text/plain": "    1stFlrSF  2ndFlrSF  3SsnPorch  BedroomAbvGr                BldgType  \\\nId                                                                        \n1        856       854          0             3  Single-family Detached   \n2       1262         0          0             3  Single-family Detached   \n3        920       866          0             3  Single-family Detached   \n4        961       756          0             3  Single-family Detached   \n5       1145      1053          0             4  Single-family Detached   \n\n                             BsmtCond             BsmtExposure  BsmtFinSF1  \\\nId                                                                           \n1   Typical - slight dampness allowed  No Exposure/No Basement         706   \n2   Typical - slight dampness allowed            Good Exposure         978   \n3   Typical - slight dampness allowed         Mimimum Exposure         486   \n4                                Good  No Exposure/No Basement         216   \n5   Typical - slight dampness allowed         Average Exposure         655   \n\n    BsmtFinSF2             BsmtFinType1  ...                      SaleType  \\\nId                                       ...                                 \n1            0     Good Living Quarters  ...  Warranty Deed - Conventional   \n2            0  Average Living Quarters  ...  Warranty Deed - Conventional   \n3            0     Good Living Quarters  ...  Warranty Deed - Conventional   \n4            0  Average Living Quarters  ...  Warranty Deed - Conventional   \n5            0     Good Living Quarters  ...  Warranty Deed - Conventional   \n\n    ScreenPorch  Street TotRmsAbvGrd  TotalBsmtSF  \\\nId                                                  \n1             0   Paved            8          856   \n2             0   Paved            6         1262   \n3             0   Paved            6          920   \n4             0   Paved            7          756   \n5             0   Paved            9         1145   \n\n                           Utilities WoodDeckSF YearBuilt YearRemodAdd  YrSold  \nId                                                                              \n1   All public Utilities (E,G,W,& S)          0      2003         2003    2008  \n2   All public Utilities (E,G,W,& S)        298      1976         1976    2007  \n3   All public Utilities (E,G,W,& S)          0      2001         2002    2008  \n4   All public Utilities (E,G,W,& S)          0      1915         1970    2006  \n5   All public Utilities (E,G,W,& S)        192      2000         2000    2008  \n\n[5 rows x 72 columns]",
      "text/html": "<div>\n<style scoped>\n    .dataframe tbody tr th:only-of-type {\n        vertical-align: middle;\n    }\n\n    .dataframe tbody tr th {\n        vertical-align: top;\n    }\n\n    .dataframe thead th {\n        text-align: right;\n    }\n</style>\n<table border=\"1\" class=\"dataframe\">\n  <thead>\n    <tr style=\"text-align: right;\">\n      <th></th>\n      <th>1stFlrSF</th>\n      <th>2ndFlrSF</th>\n      <th>3SsnPorch</th>\n      <th>BedroomAbvGr</th>\n      <th>BldgType</th>\n      <th>BsmtCond</th>\n      <th>BsmtExposure</th>\n      <th>BsmtFinSF1</th>\n      <th>BsmtFinSF2</th>\n      <th>BsmtFinType1</th>\n      <th>...</th>\n      <th>SaleType</th>\n      <th>ScreenPorch</th>\n      <th>Street</th>\n      <th>TotRmsAbvGrd</th>\n      <th>TotalBsmtSF</th>\n      <th>Utilities</th>\n      <th>WoodDeckSF</th>\n      <th>YearBuilt</th>\n      <th>YearRemodAdd</th>\n      <th>YrSold</th>\n    </tr>\n    <tr>\n      <th>Id</th>\n      <th></th>\n      <th></th>\n      <th></th>\n      <th></th>\n      <th></th>\n      <th></th>\n      <th></th>\n      <th></th>\n      <th></th>\n      <th></th>\n      <th></th>\n      <th></th>\n      <th></th>\n      <th></th>\n      <th></th>\n      <th></th>\n      <th></th>\n      <th></th>\n      <th></th>\n      <th></th>\n      <th></th>\n    </tr>\n  </thead>\n  <tbody>\n    <tr>\n      <th>1</th>\n      <td>856</td>\n      <td>854</td>\n      <td>0</td>\n      <td>3</td>\n      <td>Single-family Detached</td>\n      <td>Typical - slight dampness allowed</td>\n      <td>No Exposure/No Basement</td>\n      <td>706</td>\n      <td>0</td>\n      <td>Good Living Quarters</td>\n      <td>...</td>\n      <td>Warranty Deed - Conventional</td>\n      <td>0</td>\n      <td>Paved</td>\n      <td>8</td>\n      <td>856</td>\n      <td>All public Utilities (E,G,W,&amp; S)</td>\n      <td>0</td>\n      <td>2003</td>\n      <td>2003</td>\n      <td>2008</td>\n    </tr>\n    <tr>\n      <th>2</th>\n      <td>1262</td>\n      <td>0</td>\n      <td>0</td>\n      <td>3</td>\n      <td>Single-family Detached</td>\n      <td>Typical - slight dampness allowed</td>\n      <td>Good Exposure</td>\n      <td>978</td>\n      <td>0</td>\n      <td>Average Living Quarters</td>\n      <td>...</td>\n      <td>Warranty Deed - Conventional</td>\n      <td>0</td>\n      <td>Paved</td>\n      <td>6</td>\n      <td>1262</td>\n      <td>All public Utilities (E,G,W,&amp; S)</td>\n      <td>298</td>\n      <td>1976</td>\n      <td>1976</td>\n      <td>2007</td>\n    </tr>\n    <tr>\n      <th>3</th>\n      <td>920</td>\n      <td>866</td>\n      <td>0</td>\n      <td>3</td>\n      <td>Single-family Detached</td>\n      <td>Typical - slight dampness allowed</td>\n      <td>Mimimum Exposure</td>\n      <td>486</td>\n      <td>0</td>\n      <td>Good Living Quarters</td>\n      <td>...</td>\n      <td>Warranty Deed - Conventional</td>\n      <td>0</td>\n      <td>Paved</td>\n      <td>6</td>\n      <td>920</td>\n      <td>All public Utilities (E,G,W,&amp; S)</td>\n      <td>0</td>\n      <td>2001</td>\n      <td>2002</td>\n      <td>2008</td>\n    </tr>\n    <tr>\n      <th>4</th>\n      <td>961</td>\n      <td>756</td>\n      <td>0</td>\n      <td>3</td>\n      <td>Single-family Detached</td>\n      <td>Good</td>\n      <td>No Exposure/No Basement</td>\n      <td>216</td>\n      <td>0</td>\n      <td>Average Living Quarters</td>\n      <td>...</td>\n      <td>Warranty Deed - Conventional</td>\n      <td>0</td>\n      <td>Paved</td>\n      <td>7</td>\n      <td>756</td>\n      <td>All public Utilities (E,G,W,&amp; S)</td>\n      <td>0</td>\n      <td>1915</td>\n      <td>1970</td>\n      <td>2006</td>\n    </tr>\n    <tr>\n      <th>5</th>\n      <td>1145</td>\n      <td>1053</td>\n      <td>0</td>\n      <td>4</td>\n      <td>Single-family Detached</td>\n      <td>Typical - slight dampness allowed</td>\n      <td>Average Exposure</td>\n      <td>655</td>\n      <td>0</td>\n      <td>Good Living Quarters</td>\n      <td>...</td>\n      <td>Warranty Deed - Conventional</td>\n      <td>0</td>\n      <td>Paved</td>\n      <td>9</td>\n      <td>1145</td>\n      <td>All public Utilities (E,G,W,&amp; S)</td>\n      <td>192</td>\n      <td>2000</td>\n      <td>2000</td>\n      <td>2008</td>\n    </tr>\n  </tbody>\n</table>\n<p>5 rows × 72 columns</p>\n</div>"
     },
     "execution_count": 29,
     "metadata": {},
     "output_type": "execute_result"
    }
   ],
   "source": [
    "X_df.head()"
   ],
   "metadata": {
    "collapsed": false,
    "pycharm": {
     "name": "#%%\n"
    }
   }
  },
  {
   "cell_type": "markdown",
   "source": [
    "# 数据预处理"
   ],
   "metadata": {
    "collapsed": false,
    "pycharm": {
     "name": "#%% md\n"
    }
   }
  },
  {
   "cell_type": "code",
   "execution_count": 30,
   "outputs": [
    {
     "name": "stderr",
     "output_type": "stream",
     "text": [
      "/Users/zfwang/.pyenv/versions/3.7.10/envs/ml/lib/python3.7/site-packages/category_encoders/utils.py:21: FutureWarning: is_categorical is deprecated and will be removed in a future version.  Use is_categorical_dtype instead\n",
      "  elif pd.api.types.is_categorical(cols):\n"
     ]
    },
    {
     "data": {
      "text/plain": "    1stFlrSF  2ndFlrSF  3SsnPorch  BedroomAbvGr  BldgType  BsmtCond  \\\nId                                                                    \n1        856       854          0             3         1         1   \n2       1262         0          0             3         1         1   \n3        920       866          0             3         1         1   \n4        961       756          0             3         1         2   \n5       1145      1053          0             4         1         1   \n\n    BsmtExposure  BsmtFinSF1  BsmtFinSF2  BsmtFinType1  ...  SaleType  \\\nId                                                      ...             \n1              1         706           0             1  ...         1   \n2              2         978           0             2  ...         1   \n3              3         486           0             1  ...         1   \n4              1         216           0             2  ...         1   \n5              4         655           0             1  ...         1   \n\n    ScreenPorch  Street  TotRmsAbvGrd  TotalBsmtSF  Utilities  WoodDeckSF  \\\nId                                                                          \n1             0       1             8          856          1           0   \n2             0       1             6         1262          1         298   \n3             0       1             6          920          1           0   \n4             0       1             7          756          1           0   \n5             0       1             9         1145          1         192   \n\n    YearBuilt  YearRemodAdd  YrSold  \nId                                   \n1        2003          2003    2008  \n2        1976          1976    2007  \n3        2001          2002    2008  \n4        1915          1970    2006  \n5        2000          2000    2008  \n\n[5 rows x 72 columns]",
      "text/html": "<div>\n<style scoped>\n    .dataframe tbody tr th:only-of-type {\n        vertical-align: middle;\n    }\n\n    .dataframe tbody tr th {\n        vertical-align: top;\n    }\n\n    .dataframe thead th {\n        text-align: right;\n    }\n</style>\n<table border=\"1\" class=\"dataframe\">\n  <thead>\n    <tr style=\"text-align: right;\">\n      <th></th>\n      <th>1stFlrSF</th>\n      <th>2ndFlrSF</th>\n      <th>3SsnPorch</th>\n      <th>BedroomAbvGr</th>\n      <th>BldgType</th>\n      <th>BsmtCond</th>\n      <th>BsmtExposure</th>\n      <th>BsmtFinSF1</th>\n      <th>BsmtFinSF2</th>\n      <th>BsmtFinType1</th>\n      <th>...</th>\n      <th>SaleType</th>\n      <th>ScreenPorch</th>\n      <th>Street</th>\n      <th>TotRmsAbvGrd</th>\n      <th>TotalBsmtSF</th>\n      <th>Utilities</th>\n      <th>WoodDeckSF</th>\n      <th>YearBuilt</th>\n      <th>YearRemodAdd</th>\n      <th>YrSold</th>\n    </tr>\n    <tr>\n      <th>Id</th>\n      <th></th>\n      <th></th>\n      <th></th>\n      <th></th>\n      <th></th>\n      <th></th>\n      <th></th>\n      <th></th>\n      <th></th>\n      <th></th>\n      <th></th>\n      <th></th>\n      <th></th>\n      <th></th>\n      <th></th>\n      <th></th>\n      <th></th>\n      <th></th>\n      <th></th>\n      <th></th>\n      <th></th>\n    </tr>\n  </thead>\n  <tbody>\n    <tr>\n      <th>1</th>\n      <td>856</td>\n      <td>854</td>\n      <td>0</td>\n      <td>3</td>\n      <td>1</td>\n      <td>1</td>\n      <td>1</td>\n      <td>706</td>\n      <td>0</td>\n      <td>1</td>\n      <td>...</td>\n      <td>1</td>\n      <td>0</td>\n      <td>1</td>\n      <td>8</td>\n      <td>856</td>\n      <td>1</td>\n      <td>0</td>\n      <td>2003</td>\n      <td>2003</td>\n      <td>2008</td>\n    </tr>\n    <tr>\n      <th>2</th>\n      <td>1262</td>\n      <td>0</td>\n      <td>0</td>\n      <td>3</td>\n      <td>1</td>\n      <td>1</td>\n      <td>2</td>\n      <td>978</td>\n      <td>0</td>\n      <td>2</td>\n      <td>...</td>\n      <td>1</td>\n      <td>0</td>\n      <td>1</td>\n      <td>6</td>\n      <td>1262</td>\n      <td>1</td>\n      <td>298</td>\n      <td>1976</td>\n      <td>1976</td>\n      <td>2007</td>\n    </tr>\n    <tr>\n      <th>3</th>\n      <td>920</td>\n      <td>866</td>\n      <td>0</td>\n      <td>3</td>\n      <td>1</td>\n      <td>1</td>\n      <td>3</td>\n      <td>486</td>\n      <td>0</td>\n      <td>1</td>\n      <td>...</td>\n      <td>1</td>\n      <td>0</td>\n      <td>1</td>\n      <td>6</td>\n      <td>920</td>\n      <td>1</td>\n      <td>0</td>\n      <td>2001</td>\n      <td>2002</td>\n      <td>2008</td>\n    </tr>\n    <tr>\n      <th>4</th>\n      <td>961</td>\n      <td>756</td>\n      <td>0</td>\n      <td>3</td>\n      <td>1</td>\n      <td>2</td>\n      <td>1</td>\n      <td>216</td>\n      <td>0</td>\n      <td>2</td>\n      <td>...</td>\n      <td>1</td>\n      <td>0</td>\n      <td>1</td>\n      <td>7</td>\n      <td>756</td>\n      <td>1</td>\n      <td>0</td>\n      <td>1915</td>\n      <td>1970</td>\n      <td>2006</td>\n    </tr>\n    <tr>\n      <th>5</th>\n      <td>1145</td>\n      <td>1053</td>\n      <td>0</td>\n      <td>4</td>\n      <td>1</td>\n      <td>1</td>\n      <td>4</td>\n      <td>655</td>\n      <td>0</td>\n      <td>1</td>\n      <td>...</td>\n      <td>1</td>\n      <td>0</td>\n      <td>1</td>\n      <td>9</td>\n      <td>1145</td>\n      <td>1</td>\n      <td>192</td>\n      <td>2000</td>\n      <td>2000</td>\n      <td>2008</td>\n    </tr>\n  </tbody>\n</table>\n<p>5 rows × 72 columns</p>\n</div>"
     },
     "execution_count": 30,
     "metadata": {},
     "output_type": "execute_result"
    }
   ],
   "source": [
    "categorical_features = [col for col in X_df.columns if X_df[col].dtype == \"object\"]\n",
    "encoder = OrdinalEncoder(cols = categorical_features).fit(X_df)\n",
    "X_df = encoder.transform(X_df)\n",
    "X_df.head()"
   ],
   "metadata": {
    "collapsed": false,
    "pycharm": {
     "name": "#%%\n"
    }
   }
  },
  {
   "cell_type": "markdown",
   "source": [
    "# 模型训练"
   ],
   "metadata": {
    "collapsed": false,
    "pycharm": {
     "name": "#%% md\n"
    }
   }
  },
  {
   "cell_type": "code",
   "execution_count": 39,
   "outputs": [
    {
     "name": "stderr",
     "output_type": "stream",
     "text": [
      "/Users/zfwang/.pyenv/versions/3.7.10/envs/ml/lib/python3.7/site-packages/ipykernel_launcher.py:2: DataConversionWarning:\n",
      "\n",
      "A column-vector y was passed when a 1d array was expected. Please change the shape of y to (n_samples,), for example using ravel().\n",
      "\n"
     ]
    }
   ],
   "source": [
    "X_train, X_test, y_train, y_test = train_test_split(X_df, y_df, train_size = 0.75)\n",
    "reg = RandomForestRegressor(n_estimators = 200, min_samples_leaf = 2).fit(X_train, y_train)\n",
    "y_pred = pd.DataFrame(reg.predict(X_test), columns = [\"pred\"], index = X_test.index)"
   ],
   "metadata": {
    "collapsed": false,
    "pycharm": {
     "name": "#%%\n"
    }
   }
  },
  {
   "cell_type": "markdown",
   "source": [
    "# 模型解释"
   ],
   "metadata": {
    "collapsed": false,
    "pycharm": {
     "name": "#%% md\n"
    }
   }
  },
  {
   "cell_type": "code",
   "execution_count": 40,
   "outputs": [
    {
     "name": "stdout",
     "output_type": "stream",
     "text": [
      "Backend: Shap TreeExplainer\n"
     ]
    }
   ],
   "source": [
    "xpl = SmartExplainer(features_dict = house_dict)\n",
    "xpl.compile(\n",
    "    x = X_test,\n",
    "    model = reg,\n",
    "    preprocessing = encoder,\n",
    "    y_pred = y_pred\n",
    ")"
   ],
   "metadata": {
    "collapsed": false,
    "pycharm": {
     "name": "#%%\n"
    }
   }
  },
  {
   "cell_type": "code",
   "execution_count": 41,
   "outputs": [
    {
     "name": "stderr",
     "output_type": "stream",
     "text": [
      "INFO:numexpr.utils:Note: NumExpr detected 16 cores but \"NUMEXPR_MAX_THREADS\" not set, so enforcing safe limit of 8.\n",
      "INFO:numexpr.utils:NumExpr defaulting to 8 threads.\n",
      "/Users/zfwang/.pyenv/versions/3.7.10/envs/ml/lib/python3.7/site-packages/pandas/core/frame.py:1554: FutureWarning:\n",
      "\n",
      "Using short name for 'orient' is deprecated. Only the options: ('dict', list, 'series', 'split', 'records', 'index') will be used in a future version. Use one of the above to silence this warning.\n",
      "\n",
      "INFO:root:Your Shapash application run on http://Wangzf:8050/\n"
     ]
    },
    {
     "name": "stdout",
     "output_type": "stream",
     "text": [
      "Dash is running on http://0.0.0.0:8050/\n",
      "\n"
     ]
    },
    {
     "name": "stderr",
     "output_type": "stream",
     "text": [
      "INFO:root:Use the method .kill() to down your app.\n",
      "INFO:shapash.webapp.smart_app:Dash is running on http://0.0.0.0:8050/\n",
      "\n"
     ]
    },
    {
     "name": "stdout",
     "output_type": "stream",
     "text": [
      " * Serving Flask app 'shapash.webapp.smart_app' (lazy loading)\n",
      " * Environment: production\n"
     ]
    }
   ],
   "source": [
    "app = xpl.run_app()"
   ],
   "metadata": {
    "collapsed": false,
    "pycharm": {
     "name": "#%%\n"
    }
   }
  },
  {
   "cell_type": "code",
   "execution_count": 43,
   "outputs": [],
   "source": [
    "app.kill()"
   ],
   "metadata": {
    "collapsed": false,
    "pycharm": {
     "name": "#%%\n"
    }
   }
  },
  {
   "cell_type": "code",
   "execution_count": null,
   "outputs": [],
   "source": [],
   "metadata": {
    "collapsed": false,
    "pycharm": {
     "name": "#%%\n"
    }
   }
  }
 ],
 "metadata": {
  "kernelspec": {
   "display_name": "Python 3",
   "language": "python",
   "name": "python3"
  },
  "language_info": {
   "codemirror_mode": {
    "name": "ipython",
    "version": 2
   },
   "file_extension": ".py",
   "mimetype": "text/x-python",
   "name": "python",
   "nbconvert_exporter": "python",
   "pygments_lexer": "ipython2",
   "version": "2.7.6"
  }
 },
 "nbformat": 4,
 "nbformat_minor": 0
}