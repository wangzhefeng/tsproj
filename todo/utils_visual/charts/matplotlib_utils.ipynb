{
 "cells": [
  {
   "cell_type": "code",
   "execution_count": 14,
   "metadata": {},
   "outputs": [],
   "source": [
    "import numpy as np\n",
    "import pandas as pd\n",
    "import matplotlib as mpl\n",
    "import matplotlib.pyplot as plt\n",
    "from IPython.display import Image\n",
    "\n",
    "# config\n",
    "# 在 Notebook 中启动交互式图形\n",
    "# %matplotlib notebook\n",
    "# 在 Notebook 中启动静态图形\n",
    "%matplotlib inline\n",
    "plt.style.use(\"classic\")\n",
    "plt.style.use(\"seaborn-whitegrid\")"
   ]
  },
  {
   "cell_type": "markdown",
   "metadata": {},
   "source": [
    "- APIs:\n",
    "    - plt.style.use()\n",
    "    - fig = plt.figure()\n",
    "    - axs = plt.axes()\n",
    "    - plt.subplot()\n",
    "    - plt.subplots()\n",
    "    - plt/axs.plot()\n",
    "    - plt.gcf()\n",
    "    - plt.gca()\n",
    "    - plt.title() -> axs.set_title()\n",
    "    - plt.xlabel() -> axs.set_xlabel()\n",
    "    - plt.ylabel() -> axs.set_ylabel()\n",
    "    - plt.xlim() -> axs.set_xlim()\n",
    "    - plt.ylim() -> axs.set_ylim()\n",
    "    - plt.axis()\n",
    "    - plt/axs.legend()\n",
    "    - plt.save()\n",
    "    - fig.showfig()\n",
    "    - asx.set()\n",
    "\n",
    "- MatLab Style\n",
    "\n",
    "```python\n",
    "fig, axs = plt.figure(), plt.axes()\n",
    "plt.subplots(m, n, i)\n",
    "plt.plot()\n",
    "plt.subplot(m, n, i + 1)\n",
    "plt.plot();\n",
    "\n",
    "\n",
    "plt.gcf() # 获取当前图形\n",
    "plt.gca() # 获取当前坐标轴\n",
    "```\n",
    "\n",
    "- OOP Style\n",
    "\n",
    "```python\n",
    "fig, ax = plt.subplots(n)\n",
    "ax[0].plot()\n",
    "ax[1].plot()\n",
    "...\n",
    "ax[n].plot();\n",
    "```"
   ]
  },
  {
   "cell_type": "markdown",
   "metadata": {},
   "source": []
  }
 ],
 "metadata": {
  "kernelspec": {
   "display_name": "Python 3",
   "language": "python",
   "name": "python3"
  },
  "language_info": {
   "codemirror_mode": {
    "name": "ipython",
    "version": 3
   },
   "file_extension": ".py",
   "mimetype": "text/x-python",
   "name": "python",
   "nbconvert_exporter": "python",
   "pygments_lexer": "ipython3",
   "version": "3.8.5"
  }
 },
 "nbformat": 4,
 "nbformat_minor": 4
}
