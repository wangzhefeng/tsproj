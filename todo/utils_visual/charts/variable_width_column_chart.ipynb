{
 "cells": [
  {
   "cell_type": "code",
   "execution_count": 1,
   "metadata": {},
   "outputs": [],
   "source": [
    "import os\n",
    "import sys\n",
    "import numpy as np\n",
    "import pandas as pd\n",
    "import matplotlib.pyplot as plt\n",
    "import seaborn as sns\n",
    "from plotnine import *"
   ]
  },
  {
   "cell_type": "markdown",
   "metadata": {},
   "source": [
    "## 不等宽柱形图"
   ]
  },
  {
   "cell_type": "code",
   "execution_count": 7,
   "metadata": {},
   "outputs": [
    {
     "name": "stderr",
     "output_type": "stream",
     "text": [
      "/Users/zfwang/opt/anaconda3/lib/python3.7/site-packages/ipykernel_launcher.py:8: SettingWithCopyWarning: \n",
      "A value is trying to be set on a copy of a slice from a DataFrame\n",
      "\n",
      "See the caveats in the documentation: https://pandas.pydata.org/pandas-docs/stable/user_guide/indexing.html#returning-a-view-versus-a-copy\n",
      "  \n",
      "/Users/zfwang/opt/anaconda3/lib/python3.7/site-packages/ipykernel_launcher.py:11: SettingWithCopyWarning: \n",
      "A value is trying to be set on a copy of a slice from a DataFrame\n",
      "\n",
      "See the caveats in the documentation: https://pandas.pydata.org/pandas-docs/stable/user_guide/indexing.html#returning-a-view-versus-a-copy\n",
      "  # This is added back by InteractiveShellApp.init_path()\n",
      "/Users/zfwang/opt/anaconda3/lib/python3.7/site-packages/ipykernel_launcher.py:14: SettingWithCopyWarning: \n",
      "A value is trying to be set on a copy of a slice from a DataFrame\n",
      "\n",
      "See the caveats in the documentation: https://pandas.pydata.org/pandas-docs/stable/user_guide/indexing.html#returning-a-view-versus-a-copy\n",
      "  \n"
     ]
    },
    {
     "data": {
      "text/html": [
       "<div>\n",
       "<style scoped>\n",
       "    .dataframe tbody tr th:only-of-type {\n",
       "        vertical-align: middle;\n",
       "    }\n",
       "\n",
       "    .dataframe tbody tr th {\n",
       "        vertical-align: top;\n",
       "    }\n",
       "\n",
       "    .dataframe thead th {\n",
       "        text-align: right;\n",
       "    }\n",
       "</style>\n",
       "<table border=\"1\" class=\"dataframe\">\n",
       "  <thead>\n",
       "    <tr style=\"text-align: right;\">\n",
       "      <th></th>\n",
       "      <th>Name</th>\n",
       "      <th>Scale</th>\n",
       "      <th>ARPU</th>\n",
       "      <th>xmin</th>\n",
       "      <th>xmax</th>\n",
       "      <th>label</th>\n",
       "    </tr>\n",
       "  </thead>\n",
       "  <tbody>\n",
       "    <tr>\n",
       "      <th>0</th>\n",
       "      <td>Project 1</td>\n",
       "      <td>35</td>\n",
       "      <td>56</td>\n",
       "      <td>0</td>\n",
       "      <td>35</td>\n",
       "      <td>17</td>\n",
       "    </tr>\n",
       "    <tr>\n",
       "      <th>1</th>\n",
       "      <td>Project 2</td>\n",
       "      <td>30</td>\n",
       "      <td>37</td>\n",
       "      <td>35</td>\n",
       "      <td>65</td>\n",
       "      <td>50</td>\n",
       "    </tr>\n",
       "    <tr>\n",
       "      <th>2</th>\n",
       "      <td>Project 3</td>\n",
       "      <td>20</td>\n",
       "      <td>63</td>\n",
       "      <td>65</td>\n",
       "      <td>85</td>\n",
       "      <td>75</td>\n",
       "    </tr>\n",
       "    <tr>\n",
       "      <th>3</th>\n",
       "      <td>Project 4</td>\n",
       "      <td>10</td>\n",
       "      <td>57</td>\n",
       "      <td>85</td>\n",
       "      <td>95</td>\n",
       "      <td>90</td>\n",
       "    </tr>\n",
       "    <tr>\n",
       "      <th>4</th>\n",
       "      <td>Project 5</td>\n",
       "      <td>15</td>\n",
       "      <td>59</td>\n",
       "      <td>95</td>\n",
       "      <td>110</td>\n",
       "      <td>102</td>\n",
       "    </tr>\n",
       "  </tbody>\n",
       "</table>\n",
       "</div>"
      ],
      "text/plain": [
       "        Name  Scale  ARPU  xmin  xmax  label\n",
       "0  Project 1     35    56     0    35     17\n",
       "1  Project 2     30    37    35    65     50\n",
       "2  Project 3     20    63    65    85     75\n",
       "3  Project 4     10    57    85    95     90\n",
       "4  Project 5     15    59    95   110    102"
      ]
     },
     "execution_count": 7,
     "metadata": {},
     "output_type": "execute_result"
    }
   ],
   "source": [
    "mydata = pd.DataFrame({\n",
    "    \"Name\": [\"Project 1\", \"Project 2\", \"Project 3\", \"Project 4\", \"Project 5\"],\n",
    "    \"Scale\": [35, 30, 20, 10, 15],\n",
    "    \"ARPU\": [56, 37, 63, 57, 59]\n",
    "})\n",
    "mydata[\"xmin\"] = 0\n",
    "for i in range(1, 5):\n",
    "    mydata[\"xmin\"][i] = np.sum(mydata[\"Scale\"][0:i])\n",
    "mydata[\"xmax\"] = 0\n",
    "for i in range(0, 5):\n",
    "    mydata[\"xmax\"][i] = np.sum(mydata[\"Scale\"][0:i+1])\n",
    "mydata[\"label\"] = 0\n",
    "for i in range(0, 5):\n",
    "    mydata[\"label\"][i] = np.sum(mydata[\"Scale\"][0:i+1]) - mydata[\"Scale\"][i] / 2\n",
    "mydata"
   ]
  },
  {
   "cell_type": "code",
   "execution_count": 19,
   "metadata": {},
   "outputs": [
    {
     "data": {
      "image/png": "[encoded data removed]",
      "text/plain": [
       "<Figure size 640x480 with 1 Axes>"
      ]
     },
     "metadata": {},
     "output_type": "display_data"
    },
    {
     "data": {
      "text/plain": [
       "<ggplot: (8764955076401)>"
      ]
     },
     "execution_count": 19,
     "metadata": {},
     "output_type": "execute_result"
    }
   ],
   "source": [
    "base_plot = (\n",
    "    ggplot(mydata) +\n",
    "        geom_rect(aes(xmin = \"xmin\", xmax = \"xmax\", ymin = 0, ymax = \"ARPU\", fill = \"Name\"), colour = \"black\", size = 0.25) +\n",
    "        geom_text(aes(x = \"label\", y = \"ARPU + 3\", label = \"ARPU\"), size = 10, colour = \"black\") +\n",
    "        geom_text(aes(x = \"label\", y = -4, label = \"Name\"), size = 7, colour = \"black\") +\n",
    "        scale_fill_hue(s = 0.90, l = 0.65, h = 0.0417, color_space = \"husl\")\n",
    ")\n",
    "base_plot"
   ]
  },
  {
   "cell_type": "code",
   "execution_count": null,
   "metadata": {},
   "outputs": [],
   "source": []
  }
 ],
 "metadata": {
  "kernelspec": {
   "display_name": "Python 3",
   "language": "python",
   "name": "python3"
  },
  "language_info": {
   "codemirror_mode": {
    "name": "ipython",
    "version": 3
   },
   "file_extension": ".py",
   "mimetype": "text/x-python",
   "name": "python",
   "nbconvert_exporter": "python",
   "pygments_lexer": "ipython3",
   "version": "3.8.5"
  }
 },
 "nbformat": 4,
 "nbformat_minor": 4
}
