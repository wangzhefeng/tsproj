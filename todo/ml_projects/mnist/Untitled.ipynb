{
 "cells": [
  {
   "cell_type": "code",
   "execution_count": 78,
   "id": "cd1f11a5",
   "metadata": {},
   "outputs": [],
   "source": [
    "import numpy as np\n",
    "import pandas as pd\n",
    "import matplotlib as mpl\n",
    "import matplotlib.pyplot as plt\n",
    "\n",
    "from sklearn.datasets import fetch_openml\n",
    "from sklearn.model_selection import train_test_split\n",
    "from sklearn.linear_model import SGDClassifier\n",
    "from sklearn.model_selection import cross_val_score\n",
    "from sklearn.model_selection import cross_val_predict\n",
    "from sklearn.metrics import confusion_matrix\n",
    "from sklearn.metrics import precision_score, recall_score, f1_score\n",
    "\n",
    "%matplotlib inline"
   ]
  },
  {
   "cell_type": "markdown",
   "id": "f309dbde",
   "metadata": {},
   "source": [
    "# data"
   ]
  },
  {
   "cell_type": "markdown",
   "id": "a89dff05",
   "metadata": {},
   "source": [
    "## data read"
   ]
  },
  {
   "cell_type": "code",
   "execution_count": 51,
   "id": "39f8a355",
   "metadata": {},
   "outputs": [
    {
     "data": {
      "text/plain": [
       "dict_keys(['data', 'target', 'frame', 'categories', 'feature_names', 'target_names', 'DESCR', 'details', 'url'])"
      ]
     },
     "execution_count": 51,
     "metadata": {},
     "output_type": "execute_result"
    }
   ],
   "source": [
    "mnist = fetch_openml(\"mnist_784\", as_frame = False)\n",
    "mnist.keys()"
   ]
  },
  {
   "cell_type": "code",
   "execution_count": 52,
   "id": "dc3a5a63",
   "metadata": {},
   "outputs": [
    {
     "name": "stdout",
     "output_type": "stream",
     "text": [
      "X shape: (70000, 784)\n",
      "y shape: (70000,)\n"
     ]
    }
   ],
   "source": [
    "X, y = mnist[\"data\"], mnist[\"target\"]\n",
    "print(f\"X shape: {X.shape}\")\n",
    "print(f\"y shape: {y.shape}\")"
   ]
  },
  {
   "cell_type": "markdown",
   "id": "74a8d827",
   "metadata": {},
   "source": [
    "## data show"
   ]
  },
  {
   "cell_type": "code",
   "execution_count": 53,
   "id": "5efc2ec8",
   "metadata": {},
   "outputs": [
    {
     "data": {
      "image/png": "[encoded data removed]",
      "text/plain": [
       "<Figure size 432x288 with 1 Axes>"
      ]
     },
     "metadata": {
      "needs_background": "light"
     },
     "output_type": "display_data"
    }
   ],
   "source": [
    "digit = X[36000, :]\n",
    "digit_image = digit.reshape(int(np.sqrt(X.shape[1])), int(np.sqrt(X.shape[1])))\n",
    "plt.imshow(digit_image, cmap = mpl.cm.binary, interpolation = \"nearest\")\n",
    "plt.axis(\"off\")\n",
    "plt.show()"
   ]
  },
  {
   "cell_type": "markdown",
   "id": "b360b2fd",
   "metadata": {},
   "source": [
    "## data split"
   ]
  },
  {
   "cell_type": "code",
   "execution_count": 63,
   "id": "5e0c0899",
   "metadata": {},
   "outputs": [
    {
     "data": {
      "text/plain": [
       "array(['8', '7', '2', ..., '8', '3', '8'], dtype=object)"
      ]
     },
     "execution_count": 63,
     "metadata": {},
     "output_type": "execute_result"
    }
   ],
   "source": [
    "X_train, X_test, y_train, y_test = X[:60000], X[60000:], y[:60000], y[60000:]\n",
    "# X_train, X_test, y_train, y_test = train_test_split(X, y, train_size = 60000, test_size=10000)"
   ]
  },
  {
   "cell_type": "markdown",
   "id": "913ab807",
   "metadata": {},
   "source": [
    "## data shuffle"
   ]
  },
  {
   "cell_type": "code",
   "execution_count": 64,
   "id": "6df96d30",
   "metadata": {},
   "outputs": [],
   "source": [
    "shuffle_index = np.random.permutation(60000)\n",
    "X_train, y_train = X_train[shuffle_index], y_train[shuffle_index]"
   ]
  },
  {
   "cell_type": "markdown",
   "id": "04664d6d",
   "metadata": {},
   "source": [
    "# model"
   ]
  },
  {
   "cell_type": "markdown",
   "id": "2e6f8717",
   "metadata": {},
   "source": [
    "## binary classifier"
   ]
  },
  {
   "cell_type": "markdown",
   "id": "cd92a90e",
   "metadata": {},
   "source": [
    "### model training"
   ]
  },
  {
   "cell_type": "code",
   "execution_count": 67,
   "id": "424866c2",
   "metadata": {},
   "outputs": [],
   "source": [
    "y_train_9 = (y_train == \"9\")\n",
    "y_test = (y_test == \"9\")"
   ]
  },
  {
   "cell_type": "code",
   "execution_count": 70,
   "id": "f8dbb40d",
   "metadata": {},
   "outputs": [
    {
     "data": {
      "text/plain": [
       "SGDClassifier(random_state=42)"
      ]
     },
     "execution_count": 70,
     "metadata": {},
     "output_type": "execute_result"
    }
   ],
   "source": [
    "sgd_clf = SGDClassifier(random_state = 42)\n",
    "sgd_clf.fit(X_train, y_train_9)"
   ]
  },
  {
   "cell_type": "markdown",
   "id": "f08c2f35",
   "metadata": {},
   "source": [
    "### model predict"
   ]
  },
  {
   "cell_type": "code",
   "execution_count": 74,
   "id": "4617de6c",
   "metadata": {},
   "outputs": [
    {
     "data": {
      "text/plain": [
       "array([False])"
      ]
     },
     "execution_count": 74,
     "metadata": {},
     "output_type": "execute_result"
    }
   ],
   "source": [
    "sgd_clf.predict([digit])"
   ]
  },
  {
   "cell_type": "markdown",
   "id": "3ce8b032",
   "metadata": {},
   "source": [
    "### model performance"
   ]
  },
  {
   "cell_type": "code",
   "execution_count": 73,
   "id": "5fc3c1f6",
   "metadata": {},
   "outputs": [
    {
     "data": {
      "text/plain": [
       "array([0.92855, 0.94655, 0.8929 ])"
      ]
     },
     "execution_count": 73,
     "metadata": {},
     "output_type": "execute_result"
    }
   ],
   "source": [
    "cross_val_score(sgd_clf, X_train, y_train_9, cv = 3, scoring = \"accuracy\")"
   ]
  },
  {
   "cell_type": "code",
   "execution_count": 75,
   "id": "369988e5",
   "metadata": {},
   "outputs": [
    {
     "data": {
      "text/plain": [
       "False    54026\n",
       "True      5974\n",
       "dtype: int64"
      ]
     },
     "execution_count": 75,
     "metadata": {},
     "output_type": "execute_result"
    }
   ],
   "source": [
    "pd.Series(y_train_9).value_counts()"
   ]
  },
  {
   "cell_type": "markdown",
   "id": "f157a751",
   "metadata": {},
   "source": [
    "### confusion matrix"
   ]
  },
  {
   "cell_type": "code",
   "execution_count": 77,
   "id": "561ba415",
   "metadata": {},
   "outputs": [
    {
     "data": {
      "text/plain": [
       "array([[50086,  3940],\n",
       "       [  700,  5274]])"
      ]
     },
     "execution_count": 77,
     "metadata": {},
     "output_type": "execute_result"
    }
   ],
   "source": [
    "y_train_9_predict = cross_val_predict(sgd_clf, X_train, y_train_9, cv = 3)\n",
    "confusion_matrix(y_train_9, y_train_9_predict)"
   ]
  },
  {
   "cell_type": "code",
   "execution_count": 79,
   "id": "5b4bee6d",
   "metadata": {},
   "outputs": [
    {
     "data": {
      "text/plain": [
       "0.5723898415454742"
      ]
     },
     "execution_count": 79,
     "metadata": {},
     "output_type": "execute_result"
    }
   ],
   "source": [
    "precision_score(y_train_9, y_train_9_predict)"
   ]
  },
  {
   "cell_type": "code",
   "execution_count": 81,
   "id": "239378b6",
   "metadata": {},
   "outputs": [
    {
     "data": {
      "text/plain": [
       "0.8828255775025109"
      ]
     },
     "execution_count": 81,
     "metadata": {},
     "output_type": "execute_result"
    }
   ],
   "source": [
    "recall_score(y_train_9, y_train_9_predict)"
   ]
  },
  {
   "cell_type": "code",
   "execution_count": 82,
   "id": "8679f545",
   "metadata": {},
   "outputs": [
    {
     "data": {
      "text/plain": [
       "0.6944956544640505"
      ]
     },
     "execution_count": 82,
     "metadata": {},
     "output_type": "execute_result"
    }
   ],
   "source": [
    "f1_score(y_train_9, y_train_9_predict)"
   ]
  },
  {
   "cell_type": "code",
   "execution_count": null,
   "id": "9498685f",
   "metadata": {},
   "outputs": [],
   "source": []
  }
 ],
 "metadata": {
  "kernelspec": {
   "display_name": "Python 3",
   "language": "python",
   "name": "python3"
  },
  "language_info": {
   "codemirror_mode": {
    "name": "ipython",
    "version": 3
   },
   "file_extension": ".py",
   "mimetype": "text/x-python",
   "name": "python",
   "nbconvert_exporter": "python",
   "pygments_lexer": "ipython3",
   "version": "3.7.10"
  }
 },
 "nbformat": 4,
 "nbformat_minor": 5
}
