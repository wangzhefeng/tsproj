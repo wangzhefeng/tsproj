{
 "cells": [
  {
   "cell_type": "code",
   "execution_count": 1,
   "metadata": {},
   "outputs": [],
   "source": [
    "# 数据结构\n",
    "import pandas as pd\n",
    "import numpy as np\n",
    "import matplotlib.pyplot as plt\n",
    "plt.rc(\"font\", family = \"SimHei\", size =13)\n",
    "\n",
    "# 模型相关\n",
    "from sklearn import linear_model\n",
    "from sklearn.model_selection import train_test_split\n",
    "from sklearn.metrics import roc_curve, auc\n",
    "from tqdm import tqdm\n",
    "from tqdm import tqdm_notebook as tqdm\n",
    "from math import log\n",
    "\n",
    "# 配置工具\n",
    "import time\n",
    "import logging\n",
    "logging.basicConfig(level = logging.INFO,\n",
    "                    format = \"%(asctime)s %(levelname)s %(message)s\",\n",
    "                    datefmt = \"%Y %H:%M%S\")\n",
    "\n",
    "# 多线程\n",
    "from multiprocessing.pool import ThreadPool\n",
    "from multiprocessing.dummy import Pool\n",
    "import multiprocessing"
   ]
  },
  {
   "cell_type": "code",
   "execution_count": null,
   "metadata": {},
   "outputs": [],
   "source": []
  }
 ],
 "metadata": {
  "kernelspec": {
   "display_name": "Python 3",
   "language": "python",
   "name": "python3"
  },
  "language_info": {
   "codemirror_mode": {
    "name": "ipython",
    "version": 3
   },
   "file_extension": ".py",
   "mimetype": "text/x-python",
   "name": "python",
   "nbconvert_exporter": "python",
   "pygments_lexer": "ipython3",
   "version": "3.7.0"
  }
 },
 "nbformat": 4,
 "nbformat_minor": 2
}
