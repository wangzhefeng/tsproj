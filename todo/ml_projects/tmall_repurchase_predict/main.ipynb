{
 "cells": [
  {
   "cell_type": "code",
   "execution_count": 42,
   "id": "b7213fec",
   "metadata": {
    "tags": []
   },
   "outputs": [],
   "source": [
    "import os\n",
    "import sys\n",
    "sys.path.append(os.path.abspath(\"../..\"))\n",
    "sys.path.append(os.path.abspath(\"../../../../datasets\"))\n",
    "\n",
    "import numpy as np\n",
    "import pandas as pd\n",
    "import matplotlib.pyplot as plt\n",
    "import seaborn as sns\n",
    "%matplotlib inline\n",
    "\n",
    "from collections import Counter\n",
    "from scipy import stats\n",
    "from scipy import sparse\n",
    "\n",
    "# metrics\n",
    "from sklearn.metrics import roc_auc_score\n",
    "from sklearn.metrics import log_loss\n",
    "from sklearn.metrics import mean_absolute_error\n",
    "from sklearn.metrics import mean_squared_error\n",
    "\n",
    "# model\n",
    "from sklearn.model_selection import KFold\n",
    "from sklearn.model_selection import cross_val_score\n",
    "from sklearn.model_selection import train_test_split\n",
    "\n",
    "from sklearn.ensemble import RandomForestClassifier\n",
    "from sklearn.ensemble import AdaBoostClassifier\n",
    "from sklearn.ensemble import GradientBoostingClassifier\n",
    "from sklearn.ensemble import ExtraTreesClassifier\n",
    "from sklearn.ensemble import RandomForestRegressor\n",
    "from sklearn.ensemble import AdaBoostRegressor\n",
    "from sklearn.ensemble import GradientBoostingRegressor\n",
    "from sklearn.ensemble import ExtraTreesRegressor\n",
    "from sklearn.linear_model import LinearRegression\n",
    "from sklearn.linear_model import LogisticRegression\n",
    "from sklearn.svm import LinearSVC, SVC\n",
    "from sklearn.neighbors import KNeighborsClassifier\n",
    "from sklearn.naive_bayes import MultinomialNB, GaussianNB\n",
    "import lightgbm as lgb\n",
    "\n",
    "from sklearn.impute import SimpleImputer\n",
    "from sklearn.feature_selection import VarianceThreshold\n",
    "from sklearn.feature_selection import SelectKBest\n",
    "from sklearn.feature_selection import chi2\n",
    "from sklearn.feature_selection import mutual_info_classif\n",
    "from sklearn.feature_selection import RFECV\n",
    "from sklearn.feature_selection import SelectFromModel\n",
    "from sklearn.preprocessing import Normalizer\n",
    "\n",
    "\n",
    "# NLP\n",
    "from sklearn.feature_extraction.text import CountVectorizer\n",
    "from sklearn.feature_extraction.text import TfidfVectorizer\n",
    "from sklearn.feature_extraction.text import ENGLISH_STOP_WORDS\n",
    "import gensim\n",
    "\n",
    "# 内存管理\n",
    "import gc\n",
    "\n",
    "# utils\n",
    "from utils.data_logging import data_logging\n",
    "# 内存优化\n",
    "from utils.data_memory_optim import reduce_memory_usage\n",
    "# feature stacking\n",
    "from utils.FeatureStacking import stacking_clf\n",
    "from utils.FeatureStacking import rf_clf, ada_clf, gb_clf, et_clf, xgb_clf, lgb_clf, gnb_clf, lr_clf, knn_clf\n",
    "\n",
    "import warnings\n",
    "warnings.filterwarnings(\"ignore\")"
   ]
  },
  {
   "cell_type": "markdown",
   "id": "cb56cb82",
   "metadata": {},
   "source": [
    "# 1.背景介绍"
   ]
  },
  {
   "cell_type": "markdown",
   "id": "733be6de",
   "metadata": {},
   "source": [
    "## 1.1 问题背景"
   ]
  },
  {
   "cell_type": "markdown",
   "id": "5d3501b5",
   "metadata": {},
   "source": [
    "## 1.2 评估指标"
   ]
  },
  {
   "cell_type": "markdown",
   "id": "04ed752b",
   "metadata": {},
   "source": [
    "- AUC(Area Under Curve)\n",
    "    - $$AUC = \\frac{\\sum_{i \\in positive Class} rank_{i} - \\frac{M(1 + M)}{2}}{M \\times N}$$\n",
    "    - AUC 有两方面的含义\n",
    "        - AUC 只反映模型对正负样本排序能力的强弱, 对 score 的大小和精度没有要求\n",
    "        - AUC 越高, 模型排序能力越强. 理论上, 当模型把所有正样本都排在负样本之前时, AUC 为 1.0, 是理论的最大值 "
   ]
  },
  {
   "cell_type": "markdown",
   "id": "312b0664",
   "metadata": {},
   "source": [
    "# 2.数据探索"
   ]
  },
  {
   "cell_type": "markdown",
   "id": "ba8af89f",
   "metadata": {},
   "source": [
    "## 2.1 数据读取"
   ]
  },
  {
   "cell_type": "code",
   "execution_count": 2,
   "id": "f57234a0",
   "metadata": {},
   "outputs": [],
   "source": [
    "data_path = \"../../../../datasets/tmall_repurchase_predict/data_format1/\"\n",
    "# 用户行为日志\n",
    "user_log = pd.read_csv(os.path.join(data_path, \"user_log_format1.csv\"), encoding = \"utf-8\")#.rename(columns = {\"seller_id\": \"merchant_id\"})\n",
    "# 用户特征数据\n",
    "user_info = pd.read_csv(os.path.join(data_path, \"user_info_format1.csv\"), encoding = \"utf-8\")#.drop_duplicates()\n",
    "# 训练数据\n",
    "train_data = pd.read_csv(os.path.join(data_path, \"train_format1.csv\"), encoding = \"utf-8\")\n",
    "# 测试数据\n",
    "test_data = pd.read_csv(os.path.join(data_path, \"test_format1.csv\"), encoding = \"utf-8\")"
   ]
  },
  {
   "cell_type": "markdown",
   "id": "4b7315d7",
   "metadata": {},
   "source": [
    "## 2.2 数据探索"
   ]
  },
  {
   "cell_type": "code",
   "execution_count": 3,
   "id": "3d719e92",
   "metadata": {},
   "outputs": [
    {
     "name": "stdout",
     "output_type": "stream",
     "text": [
      "========================================\n",
      "user_log.head()\n",
      "========================================\n",
      "   user_id  item_id  cat_id  seller_id  brand_id  time_stamp  action_type\n",
      "0   328862   323294     833       2882    2661.0         829            0\n",
      "1   328862   844400    1271       2882    2661.0         829            0\n",
      "2   328862   575153    1271       2882    2661.0         829            0\n",
      "3   328862   996875    1271       2882    2661.0         829            0\n",
      "4   328862  1086186    1271       1253    1049.0         829            0\n",
      "========================================\n",
      "user_log.tail()\n",
      "========================================\n",
      "          user_id  item_id  cat_id  seller_id  brand_id  time_stamp  \\\n",
      "54925325   208016   107662     898       1346    7995.0        1110   \n",
      "54925326   208016  1058313     898       1346    7995.0        1110   \n",
      "54925327   208016   449814     898        983    7995.0        1110   \n",
      "54925328   208016   634856     898       1346    7995.0        1110   \n",
      "54925329   208016   272094     898       1346    7995.0        1111   \n",
      "\n",
      "          action_type  \n",
      "54925325            0  \n",
      "54925326            0  \n",
      "54925327            0  \n",
      "54925328            0  \n",
      "54925329            0  \n",
      "========================================\n",
      "user_log.info()\n",
      "========================================\n",
      "<class 'pandas.core.frame.DataFrame'>\n",
      "RangeIndex: 54925330 entries, 0 to 54925329\n",
      "Data columns (total 7 columns):\n",
      " #   Column       Dtype  \n",
      "---  ------       -----  \n",
      " 0   user_id      int64  \n",
      " 1   item_id      int64  \n",
      " 2   cat_id       int64  \n",
      " 3   seller_id    int64  \n",
      " 4   brand_id     float64\n",
      " 5   time_stamp   int64  \n",
      " 6   action_type  int64  \n",
      "dtypes: float64(1), int64(6)\n",
      "memory usage: 2.9 GB\n",
      "None\n",
      "========================================\n",
      "user_log.describe()\n",
      "========================================\n",
      "            user_id       item_id        cat_id     seller_id      brand_id  \\\n",
      "count  5.492533e+07  5.492533e+07  5.492533e+07  5.492533e+07  5.483432e+07   \n",
      "mean   2.121568e+05  5.538613e+05  8.770308e+02  2.470941e+03  4.153348e+03   \n",
      "std    1.222872e+05  3.221459e+05  4.486269e+02  1.473310e+03  2.397679e+03   \n",
      "min    1.000000e+00  1.000000e+00  1.000000e+00  1.000000e+00  1.000000e+00   \n",
      "25%    1.063360e+05  2.731680e+05  5.550000e+02  1.151000e+03  2.027000e+03   \n",
      "50%    2.126540e+05  5.555290e+05  8.210000e+02  2.459000e+03  4.065000e+03   \n",
      "75%    3.177500e+05  8.306890e+05  1.252000e+03  3.760000e+03  6.196000e+03   \n",
      "max    4.241700e+05  1.113166e+06  1.671000e+03  4.995000e+03  8.477000e+03   \n",
      "\n",
      "         time_stamp   action_type  \n",
      "count  5.492533e+07  5.492533e+07  \n",
      "mean   9.230953e+02  2.854458e-01  \n",
      "std    1.954305e+02  8.075806e-01  \n",
      "min    5.110000e+02  0.000000e+00  \n",
      "25%    7.300000e+02  0.000000e+00  \n",
      "50%    1.010000e+03  0.000000e+00  \n",
      "75%    1.109000e+03  0.000000e+00  \n",
      "max    1.112000e+03  3.000000e+00  \n",
      "None\n",
      "----------------------------------------------------------------------------------------------------\n",
      "========================================\n",
      "user_info.head()\n",
      "========================================\n",
      "   user_id  age_range  gender\n",
      "0   376517        6.0     1.0\n",
      "1   234512        5.0     0.0\n",
      "2   344532        5.0     0.0\n",
      "3   186135        5.0     0.0\n",
      "4    30230        5.0     0.0\n",
      "========================================\n",
      "user_info.tail()\n",
      "========================================\n",
      "        user_id  age_range  gender\n",
      "424165   395814        3.0     1.0\n",
      "424166   245950        0.0     1.0\n",
      "424167   208016        NaN     NaN\n",
      "424168   272535        6.0     1.0\n",
      "424169    18031        3.0     1.0\n",
      "========================================\n",
      "user_info.info()\n",
      "========================================\n",
      "<class 'pandas.core.frame.DataFrame'>\n",
      "RangeIndex: 424170 entries, 0 to 424169\n",
      "Data columns (total 3 columns):\n",
      " #   Column     Non-Null Count   Dtype  \n",
      "---  ------     --------------   -----  \n",
      " 0   user_id    424170 non-null  int64  \n",
      " 1   age_range  421953 non-null  float64\n",
      " 2   gender     417734 non-null  float64\n",
      "dtypes: float64(2), int64(1)\n",
      "memory usage: 9.7 MB\n",
      "None\n",
      "========================================\n",
      "user_info.describe()\n",
      "========================================\n",
      "             user_id      age_range         gender\n",
      "count  424170.000000  421953.000000  417734.000000\n",
      "mean   212085.500000       2.930262       0.341179\n",
      "std    122447.476178       1.942978       0.524112\n",
      "min         1.000000       0.000000       0.000000\n",
      "25%    106043.250000       2.000000       0.000000\n",
      "50%    212085.500000       3.000000       0.000000\n",
      "75%    318127.750000       4.000000       1.000000\n",
      "max    424170.000000       8.000000       2.000000\n",
      "None\n",
      "----------------------------------------------------------------------------------------------------\n",
      "========================================\n",
      "train_data.head()\n",
      "========================================\n",
      "   user_id  merchant_id  label\n",
      "0    34176         3906      0\n",
      "1    34176          121      0\n",
      "2    34176         4356      1\n",
      "3    34176         2217      0\n",
      "4   230784         4818      0\n",
      "========================================\n",
      "train_data.tail()\n",
      "========================================\n",
      "        user_id  merchant_id  label\n",
      "260859   359807         4325      0\n",
      "260860   294527         3971      0\n",
      "260861   294527          152      0\n",
      "260862   294527         2537      0\n",
      "260863   229247         4140      0\n",
      "========================================\n",
      "train_data.info()\n",
      "========================================\n",
      "<class 'pandas.core.frame.DataFrame'>\n",
      "RangeIndex: 260864 entries, 0 to 260863\n",
      "Data columns (total 3 columns):\n",
      " #   Column       Non-Null Count   Dtype\n",
      "---  ------       --------------   -----\n",
      " 0   user_id      260864 non-null  int64\n",
      " 1   merchant_id  260864 non-null  int64\n",
      " 2   label        260864 non-null  int64\n",
      "dtypes: int64(3)\n",
      "memory usage: 6.0 MB\n",
      "None\n",
      "========================================\n",
      "train_data.describe()\n",
      "========================================\n",
      "             user_id    merchant_id          label\n",
      "count  260864.000000  260864.000000  260864.000000\n",
      "mean   211889.321420    2540.292363       0.061151\n",
      "std    122399.488027    1451.207514       0.239607\n",
      "min         1.000000       2.000000       0.000000\n",
      "25%    105488.000000    1340.000000       0.000000\n",
      "50%    211927.500000    2482.000000       0.000000\n",
      "75%    317670.500000    3898.000000       0.000000\n",
      "max    424170.000000    4993.000000       1.000000\n",
      "None\n",
      "----------------------------------------------------------------------------------------------------\n",
      "========================================\n",
      "test_data.head()\n",
      "========================================\n",
      "   user_id  merchant_id  prob\n",
      "0   163968         4605   NaN\n",
      "1   360576         1581   NaN\n",
      "2    98688         1964   NaN\n",
      "3    98688         3645   NaN\n",
      "4   295296         3361   NaN\n",
      "========================================\n",
      "test_data.tail()\n",
      "========================================\n",
      "        user_id  merchant_id  prob\n",
      "261472   228479         3111   NaN\n",
      "261473    97919         2341   NaN\n",
      "261474    97919         3971   NaN\n",
      "261475    32639         3536   NaN\n",
      "261476    32639         3319   NaN\n",
      "========================================\n",
      "test_data.info()\n",
      "========================================\n",
      "<class 'pandas.core.frame.DataFrame'>\n",
      "RangeIndex: 261477 entries, 0 to 261476\n",
      "Data columns (total 3 columns):\n",
      " #   Column       Non-Null Count   Dtype  \n",
      "---  ------       --------------   -----  \n",
      " 0   user_id      261477 non-null  int64  \n",
      " 1   merchant_id  261477 non-null  int64  \n",
      " 2   prob         0 non-null       float64\n",
      "dtypes: float64(1), int64(2)\n",
      "memory usage: 6.0 MB\n",
      "None\n",
      "========================================\n",
      "test_data.describe()\n",
      "========================================\n",
      "             user_id    merchant_id  prob\n",
      "count  261477.000000  261477.000000   0.0\n",
      "mean   212121.259128    2539.620077   NaN\n",
      "std    122480.366678    1451.697856   NaN\n",
      "min         2.000000       2.000000   NaN\n",
      "25%    106317.000000    1340.000000   NaN\n",
      "50%    212289.000000    2482.000000   NaN\n",
      "75%    318194.000000    3898.000000   NaN\n",
      "max    424169.000000    4993.000000   NaN\n",
      "None\n"
     ]
    }
   ],
   "source": [
    "print(data_logging(user_log, \"user_log\"))\n",
    "print(\"-\" * 100)\n",
    "print(data_logging(user_info, \"user_info\"))\n",
    "print(\"-\" * 100)\n",
    "print(data_logging(train_data, \"train_data\"))\n",
    "print(\"-\" * 100)\n",
    "print(data_logging(test_data, \"test_data\"))"
   ]
  },
  {
   "cell_type": "markdown",
   "id": "b35f6efc",
   "metadata": {},
   "source": [
    "## 2.3 查看缺失值"
   ]
  },
  {
   "cell_type": "markdown",
   "id": "ddb454ea",
   "metadata": {},
   "source": [
    "### 2.3.1 查看用户特征信息数据缺失情况"
   ]
  },
  {
   "cell_type": "markdown",
   "id": "40e6a61f",
   "metadata": {},
   "source": [
    "#### 2.3.1.1 查看用户特征信息数据缺失情况"
   ]
  },
  {
   "cell_type": "code",
   "execution_count": 14,
   "id": "eb09dc6e",
   "metadata": {},
   "outputs": [
    {
     "data": {
      "text/plain": [
       "user_id         0\n",
       "age_range    2217\n",
       "gender       6436\n",
       "dtype: int64"
      ]
     },
     "execution_count": 14,
     "metadata": {},
     "output_type": "execute_result"
    }
   ],
   "source": [
    "user_info.isna().sum()"
   ]
  },
  {
   "cell_type": "markdown",
   "id": "9d9143cb",
   "metadata": {},
   "source": [
    "#### 2.3.1.2 查看用户特征信息年龄数据缺失情况"
   ]
  },
  {
   "cell_type": "code",
   "execution_count": 15,
   "id": "2b9e9bd1",
   "metadata": {},
   "outputs": [
    {
     "data": {
      "text/plain": [
       "0.005226677982884221"
      ]
     },
     "execution_count": 15,
     "metadata": {},
     "output_type": "execute_result"
    }
   ],
   "source": [
    "(user_info.shape[0] - user_info[\"age_range\"].count()) / user_info.shape[0]"
   ]
  },
  {
   "cell_type": "code",
   "execution_count": 25,
   "id": "cb1d1fbc",
   "metadata": {},
   "outputs": [
    {
     "data": {
      "text/plain": [
       "user_id      95131\n",
       "age_range    92914\n",
       "gender       90664\n",
       "dtype: int64"
      ]
     },
     "execution_count": 25,
     "metadata": {},
     "output_type": "execute_result"
    }
   ],
   "source": [
    "user_info[user_info[\"age_range\"].isna() | (user_info[\"age_range\"] == 0)].count()#[\"age_range\"].count()"
   ]
  },
  {
   "cell_type": "code",
   "execution_count": 17,
   "id": "8dc544b3",
   "metadata": {},
   "outputs": [
    {
     "data": {
      "text/html": [
       "<div>\n",
       "<style scoped>\n",
       "    .dataframe tbody tr th:only-of-type {\n",
       "        vertical-align: middle;\n",
       "    }\n",
       "\n",
       "    .dataframe tbody tr th {\n",
       "        vertical-align: top;\n",
       "    }\n",
       "\n",
       "    .dataframe thead th {\n",
       "        text-align: right;\n",
       "    }\n",
       "</style>\n",
       "<table border=\"1\" class=\"dataframe\">\n",
       "  <thead>\n",
       "    <tr style=\"text-align: right;\">\n",
       "      <th></th>\n",
       "      <th>user_id</th>\n",
       "    </tr>\n",
       "    <tr>\n",
       "      <th>age_range</th>\n",
       "      <th></th>\n",
       "    </tr>\n",
       "  </thead>\n",
       "  <tbody>\n",
       "    <tr>\n",
       "      <th>0.0</th>\n",
       "      <td>92914</td>\n",
       "    </tr>\n",
       "    <tr>\n",
       "      <th>1.0</th>\n",
       "      <td>24</td>\n",
       "    </tr>\n",
       "    <tr>\n",
       "      <th>2.0</th>\n",
       "      <td>52871</td>\n",
       "    </tr>\n",
       "    <tr>\n",
       "      <th>3.0</th>\n",
       "      <td>111654</td>\n",
       "    </tr>\n",
       "    <tr>\n",
       "      <th>4.0</th>\n",
       "      <td>79991</td>\n",
       "    </tr>\n",
       "    <tr>\n",
       "      <th>5.0</th>\n",
       "      <td>40777</td>\n",
       "    </tr>\n",
       "    <tr>\n",
       "      <th>6.0</th>\n",
       "      <td>35464</td>\n",
       "    </tr>\n",
       "    <tr>\n",
       "      <th>7.0</th>\n",
       "      <td>6992</td>\n",
       "    </tr>\n",
       "    <tr>\n",
       "      <th>8.0</th>\n",
       "      <td>1266</td>\n",
       "    </tr>\n",
       "  </tbody>\n",
       "</table>\n",
       "</div>"
      ],
      "text/plain": [
       "           user_id\n",
       "age_range         \n",
       "0.0          92914\n",
       "1.0             24\n",
       "2.0          52871\n",
       "3.0         111654\n",
       "4.0          79991\n",
       "5.0          40777\n",
       "6.0          35464\n",
       "7.0           6992\n",
       "8.0           1266"
      ]
     },
     "execution_count": 17,
     "metadata": {},
     "output_type": "execute_result"
    }
   ],
   "source": [
    "user_info.groupby([\"age_range\"])[[\"user_id\"]].count()"
   ]
  },
  {
   "cell_type": "markdown",
   "id": "ee4e4fcb",
   "metadata": {},
   "source": [
    "#### 2.3.1.3 查看用户特征信息性别数据缺失情况"
   ]
  },
  {
   "cell_type": "code",
   "execution_count": 18,
   "id": "1ce9db12",
   "metadata": {},
   "outputs": [
    {
     "data": {
      "text/plain": [
       "0.01517316170403376"
      ]
     },
     "execution_count": 18,
     "metadata": {},
     "output_type": "execute_result"
    }
   ],
   "source": [
    "(user_info.shape[0] - user_info[\"gender\"].count()) / user_info.shape[0]"
   ]
  },
  {
   "cell_type": "code",
   "execution_count": 19,
   "id": "f5225209",
   "metadata": {},
   "outputs": [
    {
     "data": {
      "text/plain": [
       "user_id      16862\n",
       "age_range    14664\n",
       "gender       10426\n",
       "dtype: int64"
      ]
     },
     "execution_count": 19,
     "metadata": {},
     "output_type": "execute_result"
    }
   ],
   "source": [
    "user_info[user_info[\"gender\"].isna() | (user_info[\"gender\"] == 2)].count()#[\"gender\"].count()"
   ]
  },
  {
   "cell_type": "code",
   "execution_count": 20,
   "id": "77a505b3",
   "metadata": {},
   "outputs": [
    {
     "data": {
      "text/html": [
       "<div>\n",
       "<style scoped>\n",
       "    .dataframe tbody tr th:only-of-type {\n",
       "        vertical-align: middle;\n",
       "    }\n",
       "\n",
       "    .dataframe tbody tr th {\n",
       "        vertical-align: top;\n",
       "    }\n",
       "\n",
       "    .dataframe thead th {\n",
       "        text-align: right;\n",
       "    }\n",
       "</style>\n",
       "<table border=\"1\" class=\"dataframe\">\n",
       "  <thead>\n",
       "    <tr style=\"text-align: right;\">\n",
       "      <th></th>\n",
       "      <th>user_id</th>\n",
       "    </tr>\n",
       "    <tr>\n",
       "      <th>gender</th>\n",
       "      <th></th>\n",
       "    </tr>\n",
       "  </thead>\n",
       "  <tbody>\n",
       "    <tr>\n",
       "      <th>0.0</th>\n",
       "      <td>285638</td>\n",
       "    </tr>\n",
       "    <tr>\n",
       "      <th>1.0</th>\n",
       "      <td>121670</td>\n",
       "    </tr>\n",
       "    <tr>\n",
       "      <th>2.0</th>\n",
       "      <td>10426</td>\n",
       "    </tr>\n",
       "  </tbody>\n",
       "</table>\n",
       "</div>"
      ],
      "text/plain": [
       "        user_id\n",
       "gender         \n",
       "0.0      285638\n",
       "1.0      121670\n",
       "2.0       10426"
      ]
     },
     "execution_count": 20,
     "metadata": {},
     "output_type": "execute_result"
    }
   ],
   "source": [
    "user_info.groupby([\"gender\"])[[\"user_id\"]].count()"
   ]
  },
  {
   "cell_type": "markdown",
   "id": "6d8e15d9",
   "metadata": {},
   "source": [
    "#### 2.3.1.4 查看用户特征信息年龄或性别数据缺失情况"
   ]
  },
  {
   "cell_type": "code",
   "execution_count": 21,
   "id": "c3e0f348",
   "metadata": {
    "tags": []
   },
   "outputs": [
    {
     "data": {
      "text/plain": [
       "user_id      106330\n",
       "age_range    104113\n",
       "gender        99894\n",
       "dtype: int64"
      ]
     },
     "execution_count": 21,
     "metadata": {},
     "output_type": "execute_result"
    }
   ],
   "source": [
    "user_info[user_info[\"age_range\"].isna() | (user_info[\"age_range\"] == 0) | user_info[\"gender\"].isna() | (user_info[\"gender\"] == 2)].count()"
   ]
  },
  {
   "cell_type": "markdown",
   "id": "51896bec",
   "metadata": {},
   "source": [
    "### 2.3.2 查看用户行为日志数据缺失情况"
   ]
  },
  {
   "cell_type": "code",
   "execution_count": 22,
   "id": "ef99d200",
   "metadata": {},
   "outputs": [
    {
     "data": {
      "text/plain": [
       "user_id            0\n",
       "item_id            0\n",
       "cat_id             0\n",
       "seller_id          0\n",
       "brand_id       91015\n",
       "time_stamp         0\n",
       "action_type        0\n",
       "dtype: int64"
      ]
     },
     "execution_count": 22,
     "metadata": {},
     "output_type": "execute_result"
    }
   ],
   "source": [
    "user_log.isna().sum()"
   ]
  },
  {
   "cell_type": "markdown",
   "id": "2567b127",
   "metadata": {},
   "source": [
    "### 2.3.3 查看训练数据缺失情况"
   ]
  },
  {
   "cell_type": "code",
   "execution_count": 23,
   "id": "c1c787cf",
   "metadata": {},
   "outputs": [
    {
     "data": {
      "text/plain": [
       "user_id        0\n",
       "merchant_id    0\n",
       "label          0\n",
       "dtype: int64"
      ]
     },
     "execution_count": 23,
     "metadata": {},
     "output_type": "execute_result"
    }
   ],
   "source": [
    "train_data.isna().sum()"
   ]
  },
  {
   "cell_type": "markdown",
   "id": "d391e558",
   "metadata": {},
   "source": [
    "### 2.3.4 查看测试数据缺失情况"
   ]
  },
  {
   "cell_type": "code",
   "execution_count": 24,
   "id": "3a0f96d1",
   "metadata": {},
   "outputs": [
    {
     "data": {
      "text/plain": [
       "user_id             0\n",
       "merchant_id         0\n",
       "prob           261477\n",
       "dtype: int64"
      ]
     },
     "execution_count": 24,
     "metadata": {},
     "output_type": "execute_result"
    }
   ],
   "source": [
    "test_data.isna().sum()"
   ]
  },
  {
   "cell_type": "markdown",
   "id": "292d0f68",
   "metadata": {},
   "source": [
    "## 2.4 观察数据分布"
   ]
  },
  {
   "cell_type": "markdown",
   "id": "a0105163",
   "metadata": {},
   "source": [
    "### 2.4.1 查看整体数据统计信息"
   ]
  },
  {
   "cell_type": "code",
   "execution_count": 20,
   "id": "e13af45c",
   "metadata": {},
   "outputs": [
    {
     "name": "stdout",
     "output_type": "stream",
     "text": [
      "            user_id       item_id        cat_id     seller_id      brand_id  \\\n",
      "count  5.492533e+07  5.492533e+07  5.492533e+07  5.492533e+07  5.483432e+07   \n",
      "mean   2.121568e+05  5.538613e+05  8.770308e+02  2.470941e+03  4.153348e+03   \n",
      "std    1.222872e+05  3.221459e+05  4.486269e+02  1.473310e+03  2.397679e+03   \n",
      "min    1.000000e+00  1.000000e+00  1.000000e+00  1.000000e+00  1.000000e+00   \n",
      "25%    1.063360e+05  2.731680e+05  5.550000e+02  1.151000e+03  2.027000e+03   \n",
      "50%    2.126540e+05  5.555290e+05  8.210000e+02  2.459000e+03  4.065000e+03   \n",
      "75%    3.177500e+05  8.306890e+05  1.252000e+03  3.760000e+03  6.196000e+03   \n",
      "max    4.241700e+05  1.113166e+06  1.671000e+03  4.995000e+03  8.477000e+03   \n",
      "\n",
      "         time_stamp   action_type  \n",
      "count  5.492533e+07  5.492533e+07  \n",
      "mean   9.230953e+02  2.854458e-01  \n",
      "std    1.954305e+02  8.075806e-01  \n",
      "min    5.110000e+02  0.000000e+00  \n",
      "25%    7.300000e+02  0.000000e+00  \n",
      "50%    1.010000e+03  0.000000e+00  \n",
      "75%    1.109000e+03  0.000000e+00  \n",
      "max    1.112000e+03  3.000000e+00  \n",
      "--------------------------------------------------\n",
      "             user_id      age_range         gender\n",
      "count  424170.000000  421953.000000  417734.000000\n",
      "mean   212085.500000       2.930262       0.341179\n",
      "std    122447.476178       1.942978       0.524112\n",
      "min         1.000000       0.000000       0.000000\n",
      "25%    106043.250000       2.000000       0.000000\n",
      "50%    212085.500000       3.000000       0.000000\n",
      "75%    318127.750000       4.000000       1.000000\n",
      "max    424170.000000       8.000000       2.000000\n",
      "--------------------------------------------------\n",
      "             user_id    merchant_id          label\n",
      "count  260864.000000  260864.000000  260864.000000\n",
      "mean   211889.321420    2540.292363       0.061151\n",
      "std    122399.488027    1451.207514       0.239607\n",
      "min         1.000000       2.000000       0.000000\n",
      "25%    105488.000000    1340.000000       0.000000\n",
      "50%    211927.500000    2482.000000       0.000000\n",
      "75%    317670.500000    3898.000000       0.000000\n",
      "max    424170.000000    4993.000000       1.000000\n",
      "--------------------------------------------------\n",
      "             user_id    merchant_id  prob\n",
      "count  261477.000000  261477.000000   0.0\n",
      "mean   212121.259128    2539.620077   NaN\n",
      "std    122480.366678    1451.697856   NaN\n",
      "min         2.000000       2.000000   NaN\n",
      "25%    106317.000000    1340.000000   NaN\n",
      "50%    212289.000000    2482.000000   NaN\n",
      "75%    318194.000000    3898.000000   NaN\n",
      "max    424169.000000    4993.000000   NaN\n"
     ]
    }
   ],
   "source": [
    "print(user_log.describe())\n",
    "print(\"-\" * 50)\n",
    "print(user_info.describe())\n",
    "print(\"-\" * 50)\n",
    "print(train_data.describe())\n",
    "print(\"-\" * 50)\n",
    "print(test_data.describe())"
   ]
  },
  {
   "cell_type": "markdown",
   "id": "22db732c",
   "metadata": {},
   "source": [
    "### 2.4.2 查看正负样本的分布"
   ]
  },
  {
   "cell_type": "code",
   "execution_count": 10,
   "id": "16b3ce1e",
   "metadata": {},
   "outputs": [
    {
     "name": "stdout",
     "output_type": "stream",
     "text": [
      "正负样本的数量: \n",
      " label\n",
      "0    244912\n",
      "1     15952\n",
      "Name: user_id, dtype: int64\n"
     ]
    }
   ],
   "source": [
    "# 方法1\n",
    "label_gp = train_data.groupby(\"label\")[\"user_id\"].count()\n",
    "print(\"正负样本的数量: \\n\", label_gp)\n",
    "\n",
    "# 方法2\n",
    "# label_gp = train_data.label.value_counts()\n",
    "# print(\"正负样本的数量: \\n\", label_gp)"
   ]
  },
  {
   "cell_type": "code",
   "execution_count": 11,
   "id": "0ee0c7b7",
   "metadata": {},
   "outputs": [
    {
     "data": {
      "image/png": "[encoded data removed]",
      "text/plain": [
       "<Figure size 864x432 with 2 Axes>"
      ]
     },
     "metadata": {
      "needs_background": "light"
     },
     "output_type": "display_data"
    }
   ],
   "source": [
    "_, axe = plt.subplots(1, 2, figsize = (12, 6))\n",
    "train_data.label.value_counts() \\\n",
    "    .plot(kind = \"pie\", autopct = \"%1.1f%%\", shadow = False, explode = [0, 0.1], ax = axe[0])\n",
    "sns.countplot(\"label\", data = train_data, ax = axe[1]);"
   ]
  },
  {
   "cell_type": "markdown",
   "id": "52b7cb20",
   "metadata": {},
   "source": [
    "## 2.5 探查影响复购的各种因素"
   ]
  },
  {
   "cell_type": "markdown",
   "id": "fd36f54b",
   "metadata": {},
   "source": [
    "### 2.5.1 对店铺的分析"
   ]
  },
  {
   "cell_type": "markdown",
   "id": "6da519ae",
   "metadata": {},
   "source": [
    "#### 2.5.1.1 分析不同店铺与复购的关系"
   ]
  },
  {
   "cell_type": "code",
   "execution_count": 23,
   "id": "5a7b92d1",
   "metadata": {},
   "outputs": [
    {
     "name": "stdout",
     "output_type": "stream",
     "text": [
      "选取top5店铺:\n",
      "-------------\n",
      "店铺\t购买次数\n",
      "4044    3379\n",
      "3828    3254\n",
      "4173    2542\n",
      "1102    2483\n",
      "4976    1925\n",
      "Name: merchant_id, dtype: int64\n"
     ]
    }
   ],
   "source": [
    "print(\"选取top5店铺:\\n-------------\\n店铺\\t购买次数\")\n",
    "print(train_data.merchant_id.value_counts().head(5))"
   ]
  },
  {
   "cell_type": "code",
   "execution_count": 24,
   "id": "1e11c5ac",
   "metadata": {},
   "outputs": [
    {
     "data": {
      "image/png": "[encoded data removed]",
      "text/plain": [
       "<Figure size 576x432 with 1 Axes>"
      ]
     },
     "metadata": {
      "needs_background": "light"
     },
     "output_type": "display_data"
    }
   ],
   "source": [
    "train_data_merchant = train_data.copy()\n",
    "train_data_merchant[\"TOP5\"] = train_data_merchant[\"merchant_id\"].map(lambda x: 1 if x in [4044, 3828, 4137, 1102, 4976] else 0)\n",
    "train_data_merchant = train_data_merchant[train_data_merchant[\"TOP5\"] == 1]\n",
    "plt.figure(figsize = (8, 6))\n",
    "plt.title(\"Merchant VS Label\")\n",
    "sax = sns.countplot(\"merchant_id\", hue = \"label\", data = train_data_merchant)"
   ]
  },
  {
   "cell_type": "markdown",
   "id": "123c2774",
   "metadata": {},
   "source": [
    "#### 2.5.1.2 查看店铺的复购分布"
   ]
  },
  {
   "cell_type": "code",
   "execution_count": 25,
   "id": "6f0a7421",
   "metadata": {},
   "outputs": [
    {
     "data": {
      "image/png": "[encoded data removed]",
      "text/plain": [
       "<Figure size 864x432 with 2 Axes>"
      ]
     },
     "metadata": {
      "needs_background": "light"
     },
     "output_type": "display_data"
    }
   ],
   "source": [
    "merchant_repeat_buy = [rate for rate in train_data.groupby(\"merchant_id\")[\"label\"].mean() if rate > 0 and rate <= 1]\n",
    "plt.figure(figsize = (12, 6))\n",
    "ax = plt.subplot(1, 2, 1)\n",
    "sns.distplot(merchant_repeat_buy, fit = stats.norm)\n",
    "ax = plt.subplot(1, 2, 2)\n",
    "res = stats.probplot(merchant_repeat_buy, plot = plt)"
   ]
  },
  {
   "cell_type": "markdown",
   "id": "e3ac41a3",
   "metadata": {},
   "source": [
    "### 2.5.2 对用户的分析"
   ]
  },
  {
   "cell_type": "code",
   "execution_count": 26,
   "id": "c9c5ca7e",
   "metadata": {},
   "outputs": [
    {
     "data": {
      "image/png": "[encoded data removed]",
      "text/plain": [
       "<Figure size 864x432 with 2 Axes>"
      ]
     },
     "metadata": {
      "needs_background": "light"
     },
     "output_type": "display_data"
    }
   ],
   "source": [
    "user_repeat_buy = [rate for rate in train_data.groupby(\"user_id\")[\"label\"].mean() if rate > 0 and rate <= 1]\n",
    "plt.figure(figsize = (12, 6))\n",
    "ax = plt.subplot(1, 2, 1)\n",
    "sns.distplot(user_repeat_buy, fit = stats.norm)\n",
    "ax = plt.subplot(1, 2, 2)\n",
    "res = stats.probplot(user_repeat_buy, plot = plt)"
   ]
  },
  {
   "cell_type": "markdown",
   "id": "27268760",
   "metadata": {},
   "source": [
    "### 2.5.3 对用户性别的分析"
   ]
  },
  {
   "cell_type": "code",
   "execution_count": 27,
   "id": "ea780dad",
   "metadata": {},
   "outputs": [
    {
     "name": "stdout",
     "output_type": "stream",
     "text": [
      "<class 'pandas.core.frame.DataFrame'>\n",
      "Int64Index: 260864 entries, 0 to 260863\n",
      "Data columns (total 5 columns):\n",
      " #   Column       Non-Null Count   Dtype  \n",
      "---  ------       --------------   -----  \n",
      " 0   user_id      260864 non-null  int64  \n",
      " 1   merchant_id  260864 non-null  int64  \n",
      " 2   label        260864 non-null  int64  \n",
      " 3   age_range    259611 non-null  float64\n",
      " 4   gender       257153 non-null  float64\n",
      "dtypes: float64(2), int64(3)\n",
      "memory usage: 11.9 MB\n"
     ]
    }
   ],
   "source": [
    "train_data_user_info = train_data.merge(user_info, on = [\"user_id\"], how = \"left\")\n",
    "train_data_user_info.info()"
   ]
  },
  {
   "cell_type": "markdown",
   "id": "05db85eb",
   "metadata": {},
   "source": [
    "#### 2.5.3.1 分析用户性别与复购的关系"
   ]
  },
  {
   "cell_type": "code",
   "execution_count": 28,
   "id": "dc640432",
   "metadata": {},
   "outputs": [
    {
     "data": {
      "image/png": "[encoded data removed]",
      "text/plain": [
       "<Figure size 576x576 with 1 Axes>"
      ]
     },
     "metadata": {
      "needs_background": "light"
     },
     "output_type": "display_data"
    }
   ],
   "source": [
    "plt.figure(figsize = (8, 8))\n",
    "plt.title(\"Gender VS Label\")\n",
    "ax = sns.countplot(\"gender\", hue = \"label\", data = train_data_user_info)"
   ]
  },
  {
   "cell_type": "markdown",
   "id": "04428c3f",
   "metadata": {},
   "source": [
    "#### 2.5.3.2 查看用户性别复购的分布"
   ]
  },
  {
   "cell_type": "code",
   "execution_count": 29,
   "id": "24c0d8f3",
   "metadata": {},
   "outputs": [
    {
     "data": {
      "image/png": "[encoded data removed]",
      "text/plain": [
       "<Figure size 864x432 with 2 Axes>"
      ]
     },
     "metadata": {
      "needs_background": "light"
     },
     "output_type": "display_data"
    }
   ],
   "source": [
    "gender_repeat_buy = [rate for rate in train_data_user_info.groupby([\"gender\"])[\"label\"].mean()]\n",
    "plt.figure(figsize = (12, 6))\n",
    "ax = plt.subplot(1, 2, 1)\n",
    "sns.distplot(gender_repeat_buy, fit = stats.norm)\n",
    "ax = plt.subplot(1, 2, 2)\n",
    "res = stats.probplot(gender_repeat_buy, plot = plt)"
   ]
  },
  {
   "cell_type": "markdown",
   "id": "98329909",
   "metadata": {},
   "source": [
    "### 2.5.4 对用户年龄的分析"
   ]
  },
  {
   "cell_type": "markdown",
   "id": "633f5b70",
   "metadata": {},
   "source": [
    "#### 2.5.4.1 分析用户年龄与复购的关系"
   ]
  },
  {
   "cell_type": "code",
   "execution_count": 30,
   "id": "289436a2",
   "metadata": {},
   "outputs": [
    {
     "data": {
      "image/png": "[encoded data removed]",
      "text/plain": [
       "<Figure size 576x576 with 1 Axes>"
      ]
     },
     "metadata": {
      "needs_background": "light"
     },
     "output_type": "display_data"
    }
   ],
   "source": [
    "plt.figure(figsize = (8, 8))\n",
    "plt.title(\"Age VS Label\")\n",
    "ax = sns.countplot(\"age_range\", hue = \"label\", data = train_data_user_info)"
   ]
  },
  {
   "cell_type": "markdown",
   "id": "1fec9779",
   "metadata": {},
   "source": [
    "#### 2.5.4.2 查看用户年龄复购的分布"
   ]
  },
  {
   "cell_type": "code",
   "execution_count": 31,
   "id": "9f9e15d7",
   "metadata": {},
   "outputs": [
    {
     "data": {
      "image/png": "[encoded data removed]",
      "text/plain": [
       "<Figure size 864x432 with 2 Axes>"
      ]
     },
     "metadata": {
      "needs_background": "light"
     },
     "output_type": "display_data"
    }
   ],
   "source": [
    "age_repeat_buy = [rate for rate in train_data_user_info.groupby([\"age_range\"])[\"label\"].mean()]\n",
    "plt.figure(figsize = (12, 6))\n",
    "ax = plt.subplot(1, 2, 1)\n",
    "sns.distplot(age_repeat_buy, fit = stats.norm)\n",
    "ax = plt.subplot(1, 2, 2)\n",
    "res = stats.probplot(age_repeat_buy, plot = plt)"
   ]
  },
  {
   "cell_type": "markdown",
   "id": "bfb3d500",
   "metadata": {},
   "source": [
    "# 3.特征工程"
   ]
  },
  {
   "cell_type": "markdown",
   "id": "86f1176c",
   "metadata": {},
   "source": [
    "## 3.1 对数据进行内存压缩"
   ]
  },
  {
   "cell_type": "code",
   "execution_count": 26,
   "id": "b53c45c1",
   "metadata": {},
   "outputs": [
    {
     "name": "stdout",
     "output_type": "stream",
     "text": [
      "Memory usage before optimization is: 2933.3292 MB\n",
      "Memory usage after optimization is: 890.4750 MB\n",
      "Memory decreased by 69.6%\n",
      "Memory usage before optimization is: 9.7086 MB\n",
      "Memory usage after optimization is: 3.2363 MB\n",
      "Memory decreased by 66.7%\n",
      "Memory usage before optimization is: 5.9708 MB\n",
      "Memory usage after optimization is: 1.7416 MB\n",
      "Memory decreased by 70.8%\n",
      "Memory usage before optimization is: 5.9849 MB\n",
      "Memory usage after optimization is: 3.4912 MB\n",
      "Memory decreased by 41.7%\n"
     ]
    }
   ],
   "source": [
    "user_log = reduce_memory_usage(user_log)\n",
    "user_info = reduce_memory_usage(user_info)\n",
    "trian_data = reduce_memory_usage(train_data)\n",
    "test_data = reduce_memory_usage(test_data)"
   ]
  },
  {
   "cell_type": "code",
   "execution_count": 33,
   "id": "98229464",
   "metadata": {},
   "outputs": [
    {
     "name": "stdout",
     "output_type": "stream",
     "text": [
      "<class 'pandas.core.frame.DataFrame'>\n",
      "RangeIndex: 54925330 entries, 0 to 54925329\n",
      "Data columns (total 7 columns):\n",
      " #   Column       Dtype  \n",
      "---  ------       -----  \n",
      " 0   user_id      int32  \n",
      " 1   item_id      int32  \n",
      " 2   cat_id       int16  \n",
      " 3   seller_id    int16  \n",
      " 4   brand_id     float16\n",
      " 5   time_stamp   int16  \n",
      " 6   action_type  int8   \n",
      "dtypes: float16(1), int16(3), int32(2), int8(1)\n",
      "memory usage: 890.5 MB\n",
      "None\n",
      "--------------------------------------------------\n",
      "<class 'pandas.core.frame.DataFrame'>\n",
      "RangeIndex: 424170 entries, 0 to 424169\n",
      "Data columns (total 3 columns):\n",
      " #   Column     Non-Null Count   Dtype  \n",
      "---  ------     --------------   -----  \n",
      " 0   user_id    424170 non-null  int32  \n",
      " 1   age_range  421953 non-null  float16\n",
      " 2   gender     417734 non-null  float16\n",
      "dtypes: float16(2), int32(1)\n",
      "memory usage: 3.2 MB\n",
      "None\n",
      "--------------------------------------------------\n",
      "<class 'pandas.core.frame.DataFrame'>\n",
      "RangeIndex: 260864 entries, 0 to 260863\n",
      "Data columns (total 3 columns):\n",
      " #   Column       Non-Null Count   Dtype\n",
      "---  ------       --------------   -----\n",
      " 0   user_id      260864 non-null  int32\n",
      " 1   merchant_id  260864 non-null  int16\n",
      " 2   label        260864 non-null  int8 \n",
      "dtypes: int16(1), int32(1), int8(1)\n",
      "memory usage: 1.7 MB\n",
      "None\n",
      "--------------------------------------------------\n",
      "<class 'pandas.core.frame.DataFrame'>\n",
      "RangeIndex: 261477 entries, 0 to 261476\n",
      "Data columns (total 3 columns):\n",
      " #   Column       Non-Null Count   Dtype  \n",
      "---  ------       --------------   -----  \n",
      " 0   user_id      261477 non-null  int32  \n",
      " 1   merchant_id  261477 non-null  int16  \n",
      " 2   prob         0 non-null       float64\n",
      "dtypes: float64(1), int16(1), int32(1)\n",
      "memory usage: 3.5 MB\n",
      "None\n"
     ]
    }
   ],
   "source": [
    "print(user_log.info())\n",
    "print(\"-\" * 50)\n",
    "print(user_info.info())\n",
    "print(\"-\" * 50)\n",
    "print(train_data.info())\n",
    "print(\"-\" * 50)\n",
    "print(test_data.info())"
   ]
  },
  {
   "cell_type": "markdown",
   "id": "ebf9c6fc",
   "metadata": {},
   "source": [
    "## 3.2 数据处理"
   ]
  },
  {
   "cell_type": "markdown",
   "id": "a4e14586",
   "metadata": {},
   "source": [
    "### 3.2.1 合并用户信息"
   ]
  },
  {
   "cell_type": "code",
   "execution_count": 34,
   "id": "a5975639",
   "metadata": {},
   "outputs": [],
   "source": [
    "all_data = train_data.append(test_data)\n",
    "all_data = all_data.merge(user_info, on = [\"user_id\"], how = \"left\")"
   ]
  },
  {
   "cell_type": "code",
   "execution_count": 35,
   "id": "1ec044c4",
   "metadata": {},
   "outputs": [
    {
     "data": {
      "text/html": [
       "<div>\n",
       "<style scoped>\n",
       "    .dataframe tbody tr th:only-of-type {\n",
       "        vertical-align: middle;\n",
       "    }\n",
       "\n",
       "    .dataframe tbody tr th {\n",
       "        vertical-align: top;\n",
       "    }\n",
       "\n",
       "    .dataframe thead th {\n",
       "        text-align: right;\n",
       "    }\n",
       "</style>\n",
       "<table border=\"1\" class=\"dataframe\">\n",
       "  <thead>\n",
       "    <tr style=\"text-align: right;\">\n",
       "      <th></th>\n",
       "      <th>user_id</th>\n",
       "      <th>merchant_id</th>\n",
       "      <th>label</th>\n",
       "      <th>prob</th>\n",
       "      <th>age_range</th>\n",
       "      <th>gender</th>\n",
       "    </tr>\n",
       "  </thead>\n",
       "  <tbody>\n",
       "    <tr>\n",
       "      <th>0</th>\n",
       "      <td>34176</td>\n",
       "      <td>3906</td>\n",
       "      <td>0.0</td>\n",
       "      <td>NaN</td>\n",
       "      <td>6.0</td>\n",
       "      <td>0.0</td>\n",
       "    </tr>\n",
       "    <tr>\n",
       "      <th>1</th>\n",
       "      <td>34176</td>\n",
       "      <td>121</td>\n",
       "      <td>0.0</td>\n",
       "      <td>NaN</td>\n",
       "      <td>6.0</td>\n",
       "      <td>0.0</td>\n",
       "    </tr>\n",
       "    <tr>\n",
       "      <th>2</th>\n",
       "      <td>34176</td>\n",
       "      <td>4356</td>\n",
       "      <td>1.0</td>\n",
       "      <td>NaN</td>\n",
       "      <td>6.0</td>\n",
       "      <td>0.0</td>\n",
       "    </tr>\n",
       "    <tr>\n",
       "      <th>3</th>\n",
       "      <td>34176</td>\n",
       "      <td>2217</td>\n",
       "      <td>0.0</td>\n",
       "      <td>NaN</td>\n",
       "      <td>6.0</td>\n",
       "      <td>0.0</td>\n",
       "    </tr>\n",
       "    <tr>\n",
       "      <th>4</th>\n",
       "      <td>230784</td>\n",
       "      <td>4818</td>\n",
       "      <td>0.0</td>\n",
       "      <td>NaN</td>\n",
       "      <td>0.0</td>\n",
       "      <td>0.0</td>\n",
       "    </tr>\n",
       "  </tbody>\n",
       "</table>\n",
       "</div>"
      ],
      "text/plain": [
       "   user_id  merchant_id  label  prob  age_range  gender\n",
       "0    34176         3906    0.0   NaN        6.0     0.0\n",
       "1    34176          121    0.0   NaN        6.0     0.0\n",
       "2    34176         4356    1.0   NaN        6.0     0.0\n",
       "3    34176         2217    0.0   NaN        6.0     0.0\n",
       "4   230784         4818    0.0   NaN        0.0     0.0"
      ]
     },
     "execution_count": 35,
     "metadata": {},
     "output_type": "execute_result"
    }
   ],
   "source": [
    "all_data.head()"
   ]
  },
  {
   "cell_type": "code",
   "execution_count": 36,
   "id": "357db560",
   "metadata": {},
   "outputs": [
    {
     "name": "stdout",
     "output_type": "stream",
     "text": [
      "<class 'pandas.core.frame.DataFrame'>\n",
      "Int64Index: 522341 entries, 0 to 522340\n",
      "Data columns (total 6 columns):\n",
      " #   Column       Non-Null Count   Dtype  \n",
      "---  ------       --------------   -----  \n",
      " 0   user_id      522341 non-null  int32  \n",
      " 1   merchant_id  522341 non-null  int16  \n",
      " 2   label        260864 non-null  float64\n",
      " 3   prob         0 non-null       float64\n",
      " 4   age_range    519763 non-null  float16\n",
      " 5   gender       514796 non-null  float16\n",
      "dtypes: float16(2), float64(2), int16(1), int32(1)\n",
      "memory usage: 16.9 MB\n"
     ]
    }
   ],
   "source": [
    "all_data.info()"
   ]
  },
  {
   "cell_type": "code",
   "execution_count": 37,
   "id": "0992a808",
   "metadata": {},
   "outputs": [
    {
     "data": {
      "text/plain": [
       "10760"
      ]
     },
     "execution_count": 37,
     "metadata": {},
     "output_type": "execute_result"
    }
   ],
   "source": [
    "# 删除数据并回收内存\n",
    "del train_data, test_data, user_info\n",
    "gc.collect()"
   ]
  },
  {
   "cell_type": "markdown",
   "id": "8298c698",
   "metadata": {},
   "source": [
    "### 3.2.2 将用户行为日志信息按时间进行排序"
   ]
  },
  {
   "cell_type": "code",
   "execution_count": 38,
   "id": "f607778d",
   "metadata": {},
   "outputs": [],
   "source": [
    "# 对每个用户逐个合并所有字段, 合并字段为 item_id\n",
    "list_join_func = lambda x: \" \".join([str(i) for i in x])\n",
    "agg_dict = {\n",
    "    \"item_id\": list_join_func,\n",
    "    \"cat_id\": list_join_func,\n",
    "    \"seller_id\": list_join_func,\n",
    "    \"brand_id\": list_join_func,\n",
    "    \"time_stamp\": list_join_func,\n",
    "    \"action_type\": list_join_func,\n",
    "}\n",
    "rename_dict = {\n",
    "    \"item_id\": \"item_path\",\n",
    "    \"cat_id\": \"cat_path\",\n",
    "    \"seller_id\": \"seller_path\",\n",
    "    \"brand_id\": \"brand_path\",\n",
    "    \"time_stamp\": \"time_stamp_path\",\n",
    "    \"action_type\": \"action_type_path\",\n",
    "}\n",
    "def merge_list(df_ID, join_columns, df_data, agg_dict, rename_dict):\n",
    "    df_data = df_data. \\\n",
    "        groupby(join_columns). \\\n",
    "        agg(agg_dict). \\\n",
    "        reset_index(). \\\n",
    "        rename(columns = rename_dict)\n",
    "    df_ID = df_ID.merge(df_data, on = join_columns, how = \"left\")\n",
    "    return df_ID"
   ]
  },
  {
   "cell_type": "code",
   "execution_count": 39,
   "id": "b52e8082",
   "metadata": {},
   "outputs": [],
   "source": [
    "user_log = user_log.sort_values([\"user_id\", \"time_stamp\"])\n",
    "all_data = merge_list(all_data, \"user_id\", user_log, agg_dict, rename_dict)"
   ]
  },
  {
   "cell_type": "code",
   "execution_count": 40,
   "id": "62fc96c9",
   "metadata": {},
   "outputs": [
    {
     "data": {
      "text/html": [
       "<div>\n",
       "<style scoped>\n",
       "    .dataframe tbody tr th:only-of-type {\n",
       "        vertical-align: middle;\n",
       "    }\n",
       "\n",
       "    .dataframe tbody tr th {\n",
       "        vertical-align: top;\n",
       "    }\n",
       "\n",
       "    .dataframe thead th {\n",
       "        text-align: right;\n",
       "    }\n",
       "</style>\n",
       "<table border=\"1\" class=\"dataframe\">\n",
       "  <thead>\n",
       "    <tr style=\"text-align: right;\">\n",
       "      <th></th>\n",
       "      <th>user_id</th>\n",
       "      <th>merchant_id</th>\n",
       "      <th>label</th>\n",
       "      <th>prob</th>\n",
       "      <th>age_range</th>\n",
       "      <th>gender</th>\n",
       "      <th>item_path</th>\n",
       "      <th>cat_path</th>\n",
       "      <th>seller_path</th>\n",
       "      <th>brand_path</th>\n",
       "      <th>time_stamp_path</th>\n",
       "      <th>action_type_path</th>\n",
       "    </tr>\n",
       "  </thead>\n",
       "  <tbody>\n",
       "    <tr>\n",
       "      <th>0</th>\n",
       "      <td>34176</td>\n",
       "      <td>3906</td>\n",
       "      <td>0.0</td>\n",
       "      <td>NaN</td>\n",
       "      <td>6.0</td>\n",
       "      <td>0.0</td>\n",
       "      <td>581818 879005 581818 581818 1011673 52343 2773...</td>\n",
       "      <td>1505 662 1505 1505 1505 662 1095 1505 662 1095...</td>\n",
       "      <td>416 3606 416 416 416 3760 3606 416 1926 3004 4...</td>\n",
       "      <td>4014.0 33.0 4014.0 4014.0 4014.0 3738.0 33.0 4...</td>\n",
       "      <td>521 521 521 521 521 521 521 521 521 521 521 52...</td>\n",
       "      <td>0 0 0 0 0 0 0 0 0 0 0 0 0 2 0 0 0 0 0 0 2 0 2 ...</td>\n",
       "    </tr>\n",
       "    <tr>\n",
       "      <th>1</th>\n",
       "      <td>34176</td>\n",
       "      <td>121</td>\n",
       "      <td>0.0</td>\n",
       "      <td>NaN</td>\n",
       "      <td>6.0</td>\n",
       "      <td>0.0</td>\n",
       "      <td>581818 879005 581818 581818 1011673 52343 2773...</td>\n",
       "      <td>1505 662 1505 1505 1505 662 1095 1505 662 1095...</td>\n",
       "      <td>416 3606 416 416 416 3760 3606 416 1926 3004 4...</td>\n",
       "      <td>4014.0 33.0 4014.0 4014.0 4014.0 3738.0 33.0 4...</td>\n",
       "      <td>521 521 521 521 521 521 521 521 521 521 521 52...</td>\n",
       "      <td>0 0 0 0 0 0 0 0 0 0 0 0 0 2 0 0 0 0 0 0 2 0 2 ...</td>\n",
       "    </tr>\n",
       "    <tr>\n",
       "      <th>2</th>\n",
       "      <td>34176</td>\n",
       "      <td>4356</td>\n",
       "      <td>1.0</td>\n",
       "      <td>NaN</td>\n",
       "      <td>6.0</td>\n",
       "      <td>0.0</td>\n",
       "      <td>581818 879005 581818 581818 1011673 52343 2773...</td>\n",
       "      <td>1505 662 1505 1505 1505 662 1095 1505 662 1095...</td>\n",
       "      <td>416 3606 416 416 416 3760 3606 416 1926 3004 4...</td>\n",
       "      <td>4014.0 33.0 4014.0 4014.0 4014.0 3738.0 33.0 4...</td>\n",
       "      <td>521 521 521 521 521 521 521 521 521 521 521 52...</td>\n",
       "      <td>0 0 0 0 0 0 0 0 0 0 0 0 0 2 0 0 0 0 0 0 2 0 2 ...</td>\n",
       "    </tr>\n",
       "    <tr>\n",
       "      <th>3</th>\n",
       "      <td>34176</td>\n",
       "      <td>2217</td>\n",
       "      <td>0.0</td>\n",
       "      <td>NaN</td>\n",
       "      <td>6.0</td>\n",
       "      <td>0.0</td>\n",
       "      <td>581818 879005 581818 581818 1011673 52343 2773...</td>\n",
       "      <td>1505 662 1505 1505 1505 662 1095 1505 662 1095...</td>\n",
       "      <td>416 3606 416 416 416 3760 3606 416 1926 3004 4...</td>\n",
       "      <td>4014.0 33.0 4014.0 4014.0 4014.0 3738.0 33.0 4...</td>\n",
       "      <td>521 521 521 521 521 521 521 521 521 521 521 52...</td>\n",
       "      <td>0 0 0 0 0 0 0 0 0 0 0 0 0 2 0 0 0 0 0 0 2 0 2 ...</td>\n",
       "    </tr>\n",
       "    <tr>\n",
       "      <th>4</th>\n",
       "      <td>230784</td>\n",
       "      <td>4818</td>\n",
       "      <td>0.0</td>\n",
       "      <td>NaN</td>\n",
       "      <td>0.0</td>\n",
       "      <td>0.0</td>\n",
       "      <td>191923 191923 191923 191923 964906 229470 2294...</td>\n",
       "      <td>1023 1023 1023 1023 662 664 664 1544 664 662 6...</td>\n",
       "      <td>3545 3545 3545 3545 4566 2537 2537 2420 2537 4...</td>\n",
       "      <td>5860.0 5860.0 5860.0 5860.0 6320.0 6064.0 6064...</td>\n",
       "      <td>601 601 601 601 614 614 614 614 614 614 618 61...</td>\n",
       "      <td>0 2 0 0 0 0 0 0 0 0 0 0 0 0 0 0 2 2 0 0 0 0 0 ...</td>\n",
       "    </tr>\n",
       "  </tbody>\n",
       "</table>\n",
       "</div>"
      ],
      "text/plain": [
       "   user_id  merchant_id  label  prob  age_range  gender  \\\n",
       "0    34176         3906    0.0   NaN        6.0     0.0   \n",
       "1    34176          121    0.0   NaN        6.0     0.0   \n",
       "2    34176         4356    1.0   NaN        6.0     0.0   \n",
       "3    34176         2217    0.0   NaN        6.0     0.0   \n",
       "4   230784         4818    0.0   NaN        0.0     0.0   \n",
       "\n",
       "                                           item_path  \\\n",
       "0  581818 879005 581818 581818 1011673 52343 2773...   \n",
       "1  581818 879005 581818 581818 1011673 52343 2773...   \n",
       "2  581818 879005 581818 581818 1011673 52343 2773...   \n",
       "3  581818 879005 581818 581818 1011673 52343 2773...   \n",
       "4  191923 191923 191923 191923 964906 229470 2294...   \n",
       "\n",
       "                                            cat_path  \\\n",
       "0  1505 662 1505 1505 1505 662 1095 1505 662 1095...   \n",
       "1  1505 662 1505 1505 1505 662 1095 1505 662 1095...   \n",
       "2  1505 662 1505 1505 1505 662 1095 1505 662 1095...   \n",
       "3  1505 662 1505 1505 1505 662 1095 1505 662 1095...   \n",
       "4  1023 1023 1023 1023 662 664 664 1544 664 662 6...   \n",
       "\n",
       "                                         seller_path  \\\n",
       "0  416 3606 416 416 416 3760 3606 416 1926 3004 4...   \n",
       "1  416 3606 416 416 416 3760 3606 416 1926 3004 4...   \n",
       "2  416 3606 416 416 416 3760 3606 416 1926 3004 4...   \n",
       "3  416 3606 416 416 416 3760 3606 416 1926 3004 4...   \n",
       "4  3545 3545 3545 3545 4566 2537 2537 2420 2537 4...   \n",
       "\n",
       "                                          brand_path  \\\n",
       "0  4014.0 33.0 4014.0 4014.0 4014.0 3738.0 33.0 4...   \n",
       "1  4014.0 33.0 4014.0 4014.0 4014.0 3738.0 33.0 4...   \n",
       "2  4014.0 33.0 4014.0 4014.0 4014.0 3738.0 33.0 4...   \n",
       "3  4014.0 33.0 4014.0 4014.0 4014.0 3738.0 33.0 4...   \n",
       "4  5860.0 5860.0 5860.0 5860.0 6320.0 6064.0 6064...   \n",
       "\n",
       "                                     time_stamp_path  \\\n",
       "0  521 521 521 521 521 521 521 521 521 521 521 52...   \n",
       "1  521 521 521 521 521 521 521 521 521 521 521 52...   \n",
       "2  521 521 521 521 521 521 521 521 521 521 521 52...   \n",
       "3  521 521 521 521 521 521 521 521 521 521 521 52...   \n",
       "4  601 601 601 601 614 614 614 614 614 614 618 61...   \n",
       "\n",
       "                                    action_type_path  \n",
       "0  0 0 0 0 0 0 0 0 0 0 0 0 0 2 0 0 0 0 0 0 2 0 2 ...  \n",
       "1  0 0 0 0 0 0 0 0 0 0 0 0 0 2 0 0 0 0 0 0 2 0 2 ...  \n",
       "2  0 0 0 0 0 0 0 0 0 0 0 0 0 2 0 0 0 0 0 0 2 0 2 ...  \n",
       "3  0 0 0 0 0 0 0 0 0 0 0 0 0 2 0 0 0 0 0 0 2 0 2 ...  \n",
       "4  0 2 0 0 0 0 0 0 0 0 0 0 0 0 0 0 2 2 0 0 0 0 0 ...  "
      ]
     },
     "execution_count": 40,
     "metadata": {},
     "output_type": "execute_result"
    }
   ],
   "source": [
    "all_data.head()"
   ]
  },
  {
   "cell_type": "code",
   "execution_count": 41,
   "id": "6715459b",
   "metadata": {},
   "outputs": [
    {
     "name": "stdout",
     "output_type": "stream",
     "text": [
      "<class 'pandas.core.frame.DataFrame'>\n",
      "Int64Index: 522341 entries, 0 to 522340\n",
      "Data columns (total 12 columns):\n",
      " #   Column            Non-Null Count   Dtype  \n",
      "---  ------            --------------   -----  \n",
      " 0   user_id           522341 non-null  int32  \n",
      " 1   merchant_id       522341 non-null  int16  \n",
      " 2   label             260864 non-null  float64\n",
      " 3   prob              0 non-null       float64\n",
      " 4   age_range         519763 non-null  float16\n",
      " 5   gender            514796 non-null  float16\n",
      " 6   item_path         522341 non-null  object \n",
      " 7   cat_path          522341 non-null  object \n",
      " 8   seller_path       522341 non-null  object \n",
      " 9   brand_path        522341 non-null  object \n",
      " 10  time_stamp_path   522341 non-null  object \n",
      " 11  action_type_path  522341 non-null  object \n",
      "dtypes: float16(2), float64(2), int16(1), int32(1), object(6)\n",
      "memory usage: 40.8+ MB\n"
     ]
    }
   ],
   "source": [
    "all_data.info()"
   ]
  },
  {
   "cell_type": "code",
   "execution_count": 42,
   "id": "dbec9295",
   "metadata": {},
   "outputs": [
    {
     "data": {
      "text/plain": [
       "66"
      ]
     },
     "execution_count": 42,
     "metadata": {},
     "output_type": "execute_result"
    }
   ],
   "source": [
    "# 删除数据并回收内存\n",
    "del user_log\n",
    "gc.collect()"
   ]
  },
  {
   "cell_type": "markdown",
   "id": "4de2c7f5",
   "metadata": {},
   "source": [
    "## 3.5 提取统计特征"
   ]
  },
  {
   "cell_type": "markdown",
   "id": "c8077191",
   "metadata": {},
   "source": [
    "### 3.5.1 特征统计"
   ]
  },
  {
   "cell_type": "code",
   "execution_count": 43,
   "id": "369c765f",
   "metadata": {},
   "outputs": [],
   "source": [
    "# 定义特征统计函数\n",
    "def cnt_(x):\n",
    "    \"\"\"\n",
    "    统计数据总数的函数\n",
    "    \"\"\"\n",
    "    try:\n",
    "        return len(x.split(\" \"))\n",
    "    except:\n",
    "        return -1\n",
    "\n",
    "\n",
    "def nunique_(x):\n",
    "    \"\"\"\n",
    "    统计数据中唯一值总数的函数\n",
    "    \"\"\"\n",
    "    try:\n",
    "        return len(set(x.split(\" \")))\n",
    "    except:\n",
    "        return -1\n",
    "\n",
    "\n",
    "def max_(x):\n",
    "    \"\"\"\n",
    "    统计数据最大值的函数\n",
    "    \"\"\"\n",
    "    try:\n",
    "        return np.max([float(i) for i in x.split(\" \")])\n",
    "    except:\n",
    "        return -1\n",
    "    \n",
    "    \n",
    "def min_(x):\n",
    "    \"\"\"\n",
    "    统计数据最小值的函数\n",
    "    \"\"\"\n",
    "    try:\n",
    "        return np.min([float(i) for i in x.split(\" \")])\n",
    "    except:\n",
    "        return -1\n",
    "\n",
    "\n",
    "def std_(x):\n",
    "    \"\"\"\n",
    "    统计数据标准差\n",
    "    \"\"\"\n",
    "    try:\n",
    "        return np.std([float(i) for i in x.split(\" \")])\n",
    "    except:\n",
    "        return -1\n",
    "\n",
    "\n",
    "def most_n(x, n):\n",
    "    \"\"\"\n",
    "    统计数据中 top N 数据\n",
    "    \"\"\"\n",
    "    try:\n",
    "        return Counter(x.split(\" \")).most_common(n)[n - 1][0]\n",
    "    except:\n",
    "        return -1\n",
    "    \n",
    "\n",
    "def most_n_cnt(x, n):\n",
    "    \"\"\"\n",
    "    统计数据中 top N 数据总数\n",
    "    \"\"\"\n",
    "    try:\n",
    "        return Counter(x.split(\" \")).most_common(n)[n-1][1]\n",
    "    except:\n",
    "        return -1"
   ]
  },
  {
   "cell_type": "code",
   "execution_count": 44,
   "id": "a2497322",
   "metadata": {},
   "outputs": [],
   "source": [
    "# 调用特征统计函数\n",
    "def user_cnt(data, single_col, name):\n",
    "    data[name] = data[single_col].apply(cnt_)\n",
    "    return data\n",
    "\n",
    "\n",
    "def user_nunique(data, single_col, name):\n",
    "    data[name] = data[single_col].apply(nunique_)\n",
    "    return data\n",
    "\n",
    "\n",
    "def user_max(data, single_col, name):\n",
    "    data[name] = data[single_col].apply(max_)\n",
    "    return data\n",
    "\n",
    "\n",
    "def user_min(data, single_col, name):\n",
    "    data[name] = data[single_col].apply(min_)\n",
    "    return data\n",
    "\n",
    "\n",
    "def user_std(data, single_col, name):\n",
    "    data[name] = data[single_col].apply(std_)\n",
    "    return data\n",
    "\n",
    "\n",
    "def user_most_n(data, single_col, name, n = 1):\n",
    "    func = lambda x: most_n(x, n)\n",
    "    data[name] = data[single_col].apply(func)\n",
    "    return data\n",
    "\n",
    "\n",
    "def user_most_n_cnt(data, single_col, name, n = 1):\n",
    "    func = lambda x: most_n_cnt(x, n)\n",
    "    data[name] = data[single_col].apply(func)\n",
    "    return data"
   ]
  },
  {
   "cell_type": "code",
   "execution_count": 45,
   "id": "f530be02",
   "metadata": {},
   "outputs": [],
   "source": [
    "# 1.店铺特征统计: 统计与店铺特点有关的特征, 如店铺、商品、品牌\n",
    "all_data_test = all_data.head(2000)\n",
    "# all_data_test = all_data\n",
    "\n",
    "# 1.1 统计用户点击、浏览、加购、购买行为\n",
    "# 总次数\n",
    "all_data_test = user_cnt(all_data_test, \"seller_path\", \"user_cnt\")\n",
    "# 不同店铺个数\n",
    "all_data_test = user_nunique(all_data_test, \"seller_path\", \"seller_nunique\")\n",
    "# 不同品类个数\n",
    "all_data_test = user_nunique(all_data_test, \"cat_path\", \"cat_nunique\")\n",
    "# 不同品牌个数\n",
    "all_data_test = user_nunique(all_data_test, \"brand_path\", \"brand_nunique\")\n",
    "# 不同商品个数\n",
    "all_data_test = user_nunique(all_data_test, \"item_path\", \"item_nunique\")\n",
    "# 活跃个数\n",
    "all_data_test = user_nunique(all_data_test, \"time_stamp_path\", \"time_stamp_nunique\")\n",
    "# 不同用户行为种数\n",
    "all_data_test = user_nunique(all_data_test, \"action_type_path\", \"action_type_nunique\")\n",
    "# 最晚时间\n",
    "all_data_test = user_max(all_data_test, \"action_type_path\", \"time_stamp_max\")\n",
    "# 最早时间\n",
    "all_data_test = user_min(all_data_test, \"action_type_path\", \"time_stamp_min\")\n",
    "# 活跃天数方差\n",
    "all_data_test = user_std(all_data_test, \"action_type_path\", \"time_stamp_std\")\n",
    "# 最早和最晚相差天数\n",
    "all_data_test[\"time_stamp_range\"] = all_data_test[\"time_stamp_max\"] - all_data_test[\"time_stamp_min\"]\n",
    "# 用户最喜欢的店铺\n",
    "all_data_test = user_most_n(all_data_test, \"seller_path\", \"seller_most_1\", n = 1)\n",
    "# 用户最喜欢的类目\n",
    "all_data_test = user_most_n(all_data_test, \"cat_path\", \"cat_most_1\", n = 1)\n",
    "# 用户最喜欢的品牌\n",
    "all_data_test = user_most_n(all_data_test, \"brand_path\", \"brand_most_1\", n = 1)\n",
    "# 最常见的行为动作\n",
    "all_data_test = user_most_n(all_data_test, \"action_type_path\", \"action_type_1\", n = 1)\n",
    "# 用户最喜欢的店铺 行为次数\n",
    "all_data_test = user_most_n_cnt(all_data_test, \"seller_path\", \"seller_most_1_cnt\", n = 1)\n",
    "# 最喜欢的类目 行为次数\n",
    "all_data_test = user_most_n_cnt(all_data_test, \"cat_path\", \"cat_most_1_cnt\", n = 1)\n",
    "# 最喜欢的品牌 行为次数\n",
    "all_data_test = user_most_n_cnt(all_data_test, \"brand_path\", \"brand_most_1_cnt\", n = 1)\n",
    "# 最常见的行为动作 行为次数\n",
    "all_data_test = user_most_n_cnt(all_data_test, \"action_type_path\", \"action_type_most_1_cnt\", n = 1)"
   ]
  },
  {
   "cell_type": "code",
   "execution_count": 46,
   "id": "cd18e141",
   "metadata": {},
   "outputs": [],
   "source": [
    "# 2.用户特征统计: 对用户的点击、加购、购买、收藏等特征进行统计\n",
    "# 对点击、加购、购买、收藏分开统计\n",
    "def col_cnt_(data, columns_list, action_type):\n",
    "    try:\n",
    "        data_dict = {}\n",
    "        col_list = copy.deepcopy(columns_list)\n",
    "        if action_type != None:\n",
    "            col_list += [\"action_type_path\"]\n",
    "        for col in col_list:\n",
    "            data_dict[col] = df_data[col].split(\" \")\n",
    "        path_len = len(data_dict[col])\n",
    "        data_out = []\n",
    "        for i_ in range(path_len):\n",
    "            data_txt = \"\"\n",
    "            for col_ in columns_list:\n",
    "                if data_dict[\"action_type_path\"][i_] == action_type:\n",
    "                    data_txt += \"_\" + data_dict[col_][i_]\n",
    "            data_out.append(data_txt)\n",
    "        return len(data_out)\n",
    "    except:\n",
    "        return -1\n",
    "\n",
    "\n",
    "def col_nunique_(data, columns_list, action_type):\n",
    "    try:\n",
    "        data_dict = {}\n",
    "        col_list = copy.deepcopy(columns_list)\n",
    "        if action_type != None:\n",
    "            col_list += [\"action_type_path\"]\n",
    "        for col in col_list:\n",
    "            data_dict[col] = df_data[col].split(\" \")\n",
    "        path_len = len(data_dict[col])\n",
    "        data_out = []\n",
    "        for i_ in range(path_len):\n",
    "            data_txt = \"\"\n",
    "            for col_ in columns_list:\n",
    "                if data_dict[\"action_type_path\"][i_] == action_type:\n",
    "                    data_txt += \"_\" + data_dict[col_][i_]\n",
    "            data_out.append(data_txt)\n",
    "        return len(set(data_out))\n",
    "    except:\n",
    "        return -1\n",
    "\n",
    "\n",
    "def user_col_cnt(data, columns_list, action_type, name):\n",
    "    data[name] = data.apply(lambda x: col_cnt_(x, columns_list, action_type), axis = 1)\n",
    "    return data\n",
    "\n",
    "\n",
    "def user_col_nunique(data, columns_list, action_type, name):\n",
    "    data[name] = data.apply(lambda x: col_nunique_(x, columns_list, action_type), axis = 1)\n",
    "    return data"
   ]
  },
  {
   "cell_type": "code",
   "execution_count": 47,
   "id": "2d2bf4be",
   "metadata": {},
   "outputs": [],
   "source": [
    "# 3.统计用户和店铺的关系: 对店铺的用户点击次数、加购次数、购买次数、收藏次数等进行统计\n",
    "# 3.1 点击次数\n",
    "all_data_test = user_col_cnt(all_data_test, [\"seller_path\"], \"0\", \"user_cnt_0\")\n",
    "# 3.2 加购次数\n",
    "all_data_test = user_col_cnt(all_data_test, [\"seller_path\"], \"1\", \"user_cnt_1\")"
   ]
  },
  {
   "cell_type": "markdown",
   "id": "cbc16fc1",
   "metadata": {},
   "source": [
    "### 3.5.2 特征组合"
   ]
  },
  {
   "cell_type": "code",
   "execution_count": 48,
   "id": "5e445ec5",
   "metadata": {},
   "outputs": [
    {
     "data": {
      "text/plain": [
       "Index(['user_id', 'merchant_id', 'label', 'prob', 'age_range', 'gender',\n",
       "       'item_path', 'cat_path', 'seller_path', 'brand_path', 'time_stamp_path',\n",
       "       'action_type_path', 'user_cnt', 'seller_nunique', 'cat_nunique',\n",
       "       'brand_nunique', 'item_nunique', 'time_stamp_nunique',\n",
       "       'action_type_nunique', 'time_stamp_max', 'time_stamp_min',\n",
       "       'time_stamp_std', 'time_stamp_range', 'seller_most_1', 'cat_most_1',\n",
       "       'brand_most_1', 'action_type_1', 'seller_most_1_cnt', 'cat_most_1_cnt',\n",
       "       'brand_most_1_cnt', 'action_type_most_1_cnt', 'user_cnt_0',\n",
       "       'user_cnt_1', 'seller_nunique_0'],\n",
       "      dtype='object')"
      ]
     },
     "execution_count": 48,
     "metadata": {},
     "output_type": "execute_result"
    }
   ],
   "source": [
    "# 点击次数\n",
    "all_data_test = user_col_cnt(all_data_test, [\"seller_path\", \"item_path\"], \"0\", \"user_cnt_0\")\n",
    "# 不同店铺数\n",
    "all_data_test = user_col_nunique(all_data_test, [\"seller_path\", \"item_path\"], \"0\", \"seller_nunique_0\")\n",
    "all_data_test.columns"
   ]
  },
  {
   "cell_type": "markdown",
   "id": "bb795e97",
   "metadata": {},
   "source": [
    "## 3.6 利用 Countvector 和 TF-IDF 提取特征"
   ]
  },
  {
   "cell_type": "code",
   "execution_count": 49,
   "id": "b72adf4a",
   "metadata": {},
   "outputs": [],
   "source": [
    "tfidfVec = TfidfVectorizer(stop_words = ENGLISH_STOP_WORDS, ngram_range = (1, 1), max_features = 100)\n",
    "columns_list = [\"seller_path\"]\n",
    "for i, col in enumerate(columns_list):\n",
    "    tfidfVec.fit(all_data_test[col])\n",
    "    data_ = tfidfVec.transform(all_data_test[col])\n",
    "    if i == 0:\n",
    "        data_cat = data_\n",
    "    else:\n",
    "        data_cat = sparse.hstack((data_cat, data_))\n",
    "        \n",
    "df_tfidf = pd.DataFrame(data_cat.toarray())\n",
    "df_tfidf.columns = [\"tfidf_\" + str(i) for i in df_tfidf.columns]\n",
    "all_data_test = pd.concat([all_data_test, df_tfidf], axis = 1)"
   ]
  },
  {
   "cell_type": "markdown",
   "id": "b45cac2a",
   "metadata": {},
   "source": [
    "## 3.7 嵌入特征"
   ]
  },
  {
   "cell_type": "code",
   "execution_count": 50,
   "id": "1f0e57fa",
   "metadata": {},
   "outputs": [],
   "source": [
    "model = gensim.models.Word2Vec(\n",
    "    all_data_test[\"seller_path\"].apply(lambda x: x.split(\" \")),\n",
    "    size = 100,\n",
    "    window = 5,\n",
    "    min_count = 5,\n",
    "    workers = 4\n",
    ")\n",
    "# model.save(\"product2vec.model\")\n",
    "# model = gensim.models.Word2Vec.load(\"product2vec.model\")\n",
    "\n",
    "\n",
    "def mean_w2v_(x, model, size = 100):\n",
    "    \"\"\"\n",
    "    \n",
    "    \"\"\"\n",
    "    try:\n",
    "        i = 0\n",
    "        for word in x.split(\" \"):\n",
    "            if word in model.wv.vocab:\n",
    "                i += 1\n",
    "                if i == 1:\n",
    "                    vec = np.zeros(size)\n",
    "                vec += model.wv[word]\n",
    "        return vec / i\n",
    "    except:\n",
    "        return np.zeros(size)\n",
    "    \n",
    "\n",
    "def get_mean_w2v(data, columns, model, size):\n",
    "    \"\"\"\n",
    "    \n",
    "    \"\"\"\n",
    "    data_array = []\n",
    "    for index, row in data.iterrows():\n",
    "        w2v = mean_w2v_(row[columns], model, size)\n",
    "        data_array.append(w2v)\n",
    "    return pd.DataFrame(data_array)\n",
    "\n",
    "\n",
    "df_embeeding = get_mean_w2v(all_data_test, \"seller_path\", model, 100)\n",
    "df_embeeding.columns = [\"embeeding_\" + str(i) for i in df_embeeding.columns]\n",
    "all_data_test = pd.concat([all_data_test, df_embeeding], axis = 1)"
   ]
  },
  {
   "cell_type": "markdown",
   "id": "0b432f32",
   "metadata": {},
   "source": [
    "## 3.8 Stacking 分类特征"
   ]
  },
  {
   "cell_type": "markdown",
   "id": "12a07bb7",
   "metadata": {},
   "source": [
    "### 3.8.1 定义 Stacking 分类特征相关函数"
   ]
  },
  {
   "cell_type": "code",
   "execution_count": null,
   "id": "a7678256",
   "metadata": {},
   "outputs": [],
   "source": []
  },
  {
   "cell_type": "markdown",
   "id": "c501ea82",
   "metadata": {},
   "source": [
    "### 3.8.2 读取训练数据和验证数据"
   ]
  },
  {
   "cell_type": "code",
   "execution_count": 51,
   "id": "4d487fa0",
   "metadata": {},
   "outputs": [],
   "source": [
    "features_columns = [c for c in all_data_test.columns if c not in [\"label\", \"prob\", \"seller_path\", \"cat_path\", \"brand_path\", \"action_type_path\", \"item_path\", \"time_stamp_path\"]]\n",
    "x_train = all_data_test[~all_data_test[\"label\"].isna()][features_columns].values\n",
    "y_train = all_data_test[~all_data_test[\"label\"].isna()][\"label\"].values\n",
    "x_valid = all_data_test[all_data_test[\"label\"].isna()][features_columns].values"
   ]
  },
  {
   "cell_type": "code",
   "execution_count": 52,
   "id": "def9be57",
   "metadata": {},
   "outputs": [],
   "source": [
    "def get_matrix(data):\n",
    "    where_are_nan = np.isnan(data)\n",
    "    where_are_inf = np.isinf(data)\n",
    "    data[where_are_nan] = 0\n",
    "    data[where_are_inf] = 0\n",
    "    return data\n",
    "\n",
    "x_train = np.float_(get_matrix(np.float_(x_train)))\n",
    "y_train = np.int_(y_train)\n",
    "x_valid = x_train"
   ]
  },
  {
   "cell_type": "markdown",
   "id": "978dea01",
   "metadata": {},
   "source": [
    "### 3.8.3 使用 lgb 和 xgb 分类模型构造 Stacking 特征"
   ]
  },
  {
   "cell_type": "code",
   "execution_count": 27,
   "id": "4fbc9088",
   "metadata": {},
   "outputs": [],
   "source": [
    "# 1.使用5折交叉验证\n",
    "folds =5 \n",
    "seed = 1\n",
    "# 2.选择lgb和xgb分类模型作为基模型\n",
    "clf_list = [lgb_clf, xgb_clf]\n",
    "clf_list_col = [\"lgb_clf\", \"xgb_clf\"]\n",
    "# 3.获取Stacking特征\n",
    "clf_list = clf_list\n",
    "column_list = []\n",
    "train_data_list = []\n",
    "test_data_list = []\n",
    "for clf in clf_list:\n",
    "    train_data, test_data, clf_name = clf(x_train, y_train, x_valid, folds, label_split = None)\n",
    "    train_data_list.append(train_data)\n",
    "    test_data_list.append(test_data)\n",
    "train_stacking = np.concatenate(train_data_list, axis = 1)\n",
    "test_stacking = np.concatenate(test_data_list, axis = 1)"
   ]
  },
  {
   "cell_type": "markdown",
   "id": "b5bc5873",
   "metadata": {},
   "source": [
    "### 3.8.4 原始特征和 Stacking 特征合并"
   ]
  },
  {
   "cell_type": "code",
   "execution_count": null,
   "id": "3e472089",
   "metadata": {},
   "outputs": [],
   "source": [
    "train = pd.DataFrame(np.concatenate([x_train, train_stacking], axis = 1))\n",
    "test = np.concatenate([x_valid, test_stacking], axis = 1)\n",
    "df_train_all = pd.DataFrame(train)\n",
    "df_train_all.columns = feature_columns + clf_list_col\n",
    "df_test_all = pd.DataFrame(test)\n",
    "df_test_all.columns = features_columns + clf_list_col\n",
    "df_train_all[\"user_id\"] = all_data_test[~all_data_test[\"label\"].isna()][\"user_id\"]\n",
    "df_train_all[\"label\"] = all_data_test[~all_data_test[\"label\"].isna()][\"label\"]\n",
    "df_test_all[\"user_id\"] = all_data_test[all_data_test[\"label\"].isna()][\"user_id\"]\n",
    "\n",
    "df_train_all.to_csv(\"train_all.csv\", header = True, index = False)\n",
    "df_test_all.to_csv(\"test_all.csv\", header = True, index = False)"
   ]
  },
  {
   "cell_type": "markdown",
   "id": "d9d9fc80",
   "metadata": {},
   "source": [
    "# 4.模型训练"
   ]
  },
  {
   "cell_type": "code",
   "execution_count": null,
   "id": "68d8f16d",
   "metadata": {},
   "outputs": [],
   "source": []
  },
  {
   "cell_type": "markdown",
   "id": "13755cfd",
   "metadata": {},
   "source": [
    "# 5.模型验证"
   ]
  },
  {
   "cell_type": "code",
   "execution_count": null,
   "id": "7b8482ba",
   "metadata": {},
   "outputs": [],
   "source": [
    "# data\n",
    "train_data = pd.read_csv(\"train_all.csv\")\n",
    "test_data = pd.read_csv(\"test_all.csv\")\n",
    "\n",
    "features_columns = [col for col in train_data.columns if col not in [\"user_id\", \"label\"]]\n",
    "train = train_data[features_columns].values\n",
    "test = test_data[features_columns].values\n",
    "target = train_dasta[\"label\"].values\n",
    "\n",
    "# train and test split\n"
   ]
  },
  {
   "cell_type": "markdown",
   "id": "00aa4c47",
   "metadata": {},
   "source": [
    "# 6.特征优化"
   ]
  },
  {
   "cell_type": "code",
   "execution_count": null,
   "id": "bac1463c",
   "metadata": {},
   "outputs": [],
   "source": [
    "# data\n",
    "train_data = pd.read_csv(\"train_all.csv\")\n",
    "test_data = pd.read_csv(\"test_all.csv\")\n",
    "\n",
    "features_columns = [col for col in train_data.columns if col not in [\"user_id\", \"label\"]]\n",
    "train = train_data[features_columns].values\n",
    "test = test_data[features_columns].values\n",
    "target = train_dasta[\"label\"].values"
   ]
  },
  {
   "cell_type": "markdown",
   "id": "a7d2261b",
   "metadata": {},
   "source": [
    "## 6.2 缺失值填充"
   ]
  },
  {
   "cell_type": "code",
   "execution_count": 31,
   "id": "98f7661c",
   "metadata": {},
   "outputs": [],
   "source": [
    "imputer = SimpleImputer(missing_values = np.nan, strategy = \"median\")\n",
    "imputer = imputer.fit(train)\n",
    "train_imputer = imputer.transform(train)\n",
    "test_imputer = imputer.transform(test)"
   ]
  },
  {
   "cell_type": "markdown",
   "id": "918257b7",
   "metadata": {},
   "source": [
    "## 6.3 特征选择"
   ]
  },
  {
   "cell_type": "code",
   "execution_count": 33,
   "id": "9b244b1c",
   "metadata": {},
   "outputs": [],
   "source": [
    "def feature_selection(train, train_sel, target):\n",
    "    clf = RandomForestClassifier(n_estimators = 100, max_depth = 2, random_state = 0, n_jobs = -1)\n",
    "    scores = cross_val_score(clf, train, target, cv = 5)\n",
    "    scores_sel = cross_val_score(clf, train_sel, target, cv = 5)\n",
    "    print(\"No Select Accuracy: %0.2f (+/- %0.2f)\" % (scores.mean(), scores.std() * 2))\n",
    "    print(\"Features Select Accuracy: %0.2f (+/- %0.2f)\" % (scores_sel.mean(), scores_sel.std() * 2))"
   ]
  },
  {
   "cell_type": "markdown",
   "id": "d9091d0c",
   "metadata": {},
   "source": [
    "### 6.3.1 删除方差较小的特征"
   ]
  },
  {
   "cell_type": "code",
   "execution_count": null,
   "id": "821834f2",
   "metadata": {},
   "outputs": [],
   "source": [
    "sel = VarianceThreshold(threshold = (0.8 * (1 - 0.8)))\n",
    "sel = sel.fit(train)\n",
    "train_sel = sel.transform(train)\n",
    "test_sel = sel.transform(test)\n",
    "print(\"训练数据未特征筛选维度: \", train.shape)\n",
    "print(\"训练数据特征筛选维度后: \", train_sel.shape)"
   ]
  },
  {
   "cell_type": "code",
   "execution_count": 36,
   "id": "dc79d837",
   "metadata": {},
   "outputs": [],
   "source": [
    "# 特征选择前后对比\n",
    "feature_selection(train, train_sel, target)"
   ]
  },
  {
   "cell_type": "markdown",
   "id": "f01e7c0c",
   "metadata": {},
   "source": [
    "### 6.3.2 单变量特征选择"
   ]
  },
  {
   "cell_type": "code",
   "execution_count": null,
   "id": "5214857a",
   "metadata": {},
   "outputs": [],
   "source": [
    "sel = SelectKBest(mutual_info_classif, k = 2)\n",
    "sel = sel.fit(train, target)\n",
    "train_sel = sel.transform(train)\n",
    "test_sel = sel.transform(test)\n",
    "print(\"训练数据未特征筛选维度: \", train.shape)\n",
    "print(\"训练数据特征筛选维度后: \", train_sel.shape)"
   ]
  },
  {
   "cell_type": "markdown",
   "id": "c343197f",
   "metadata": {},
   "source": [
    "### 6.3.3 递归功能消除"
   ]
  },
  {
   "cell_type": "code",
   "execution_count": null,
   "id": "957251b0",
   "metadata": {},
   "outputs": [],
   "source": [
    "clf = RandomForestClassifier(n_estimators = 10, max_depth = 2, random_state = 0, n_jobs = -1)\n",
    "selector = RFECV(clf, step = 1, cv = 2)\n",
    "selector = selector.fit(train, target)\n",
    "print(selector.support_)\n",
    "print(selector.ranking_)"
   ]
  },
  {
   "cell_type": "markdown",
   "id": "3f0b2dbe",
   "metadata": {},
   "source": [
    "### 6.3.4 使用模型选择特征"
   ]
  },
  {
   "cell_type": "code",
   "execution_count": null,
   "id": "0645b6e5",
   "metadata": {},
   "outputs": [],
   "source": [
    "normalizer = Normalizer()\n",
    "normalizer = normalizer.fit(train)\n",
    "train_norm = normalizer.transform(train)\n",
    "test_norm = normalizer.transform(test)"
   ]
  },
  {
   "cell_type": "markdown",
   "id": "2b2c5f39",
   "metadata": {},
   "source": [
    "#### 6.3.4.1 L2 范数特征选择"
   ]
  },
  {
   "cell_type": "code",
   "execution_count": null,
   "id": "4a7c3cb7",
   "metadata": {},
   "outputs": [],
   "source": [
    "LR = LogisticRegression(penalty = \"l2\", C = 5)\n",
    "LR = LR.fit(tranin_norm, target)\n",
    "model = SelectFromModel(LR, prefit = True)\n",
    "train_sel = model.transform(train)\n",
    "test_sel = model.transform(test)\n",
    "print(\"训练数据未特征筛选维度: \", train.shape)\n",
    "print(\"训练数据特征筛选维度后: \", train_sel.shape)"
   ]
  },
  {
   "cell_type": "code",
   "execution_count": null,
   "id": "08f1b79b",
   "metadata": {},
   "outputs": [],
   "source": [
    "# L2 范数选择参数\n",
    "LR.coef_[0][:10]"
   ]
  },
  {
   "cell_type": "code",
   "execution_count": null,
   "id": "31f49053",
   "metadata": {},
   "outputs": [],
   "source": [
    "# 特征选择前后对比\n",
    "feature_selection(train, train_sel, target)"
   ]
  },
  {
   "cell_type": "markdown",
   "id": "96168e6a",
   "metadata": {},
   "source": [
    "#### 6.3.4.2 L1 范数特征选择"
   ]
  },
  {
   "cell_type": "code",
   "execution_count": null,
   "id": "76845ee1",
   "metadata": {},
   "outputs": [],
   "source": [
    "LR = LogisticRegression(penalty = \"l1\", C = 5)\n",
    "LR = LR.fit(tranin_norm, target)\n",
    "model = SelectFromModel(LR, prefit = True)\n",
    "train_sel = model.transform(train)\n",
    "test_sel = model.transform(test)\n",
    "print(\"训练数据未特征筛选维度: \", train.shape)\n",
    "print(\"训练数据特征筛选维度后: \", train_sel.shape)"
   ]
  },
  {
   "cell_type": "code",
   "execution_count": null,
   "id": "0d1c5520",
   "metadata": {},
   "outputs": [],
   "source": [
    "# L1 范数选择参数\n",
    "LR.coef_[0][:10]"
   ]
  },
  {
   "cell_type": "code",
   "execution_count": null,
   "id": "02ce2e5c",
   "metadata": {},
   "outputs": [],
   "source": [
    "# 特征选择前后对比\n",
    "feature_selection(train, train_sel, target)"
   ]
  },
  {
   "cell_type": "markdown",
   "id": "10ee0558",
   "metadata": {},
   "source": [
    "### 6.3.5 基于树模型的特征选择"
   ]
  },
  {
   "cell_type": "code",
   "execution_count": null,
   "id": "0dab00e5",
   "metadata": {},
   "outputs": [],
   "source": [
    "clf = ExtraTreesClassifier(n_estimators = 50)\n",
    "clf = clf.fit(train, target)\n",
    "model = SelectFromModel(clf, prefit = True)\n",
    "train_sel = model.transform(train)\n",
    "test_sel = model.transform(test)\n",
    "print(\"训练数据未特征筛选维度: \", train.shape)\n",
    "print(\"训练数据特征筛选维度后: \", train_sel.shape)"
   ]
  },
  {
   "cell_type": "code",
   "execution_count": null,
   "id": "be060e73",
   "metadata": {},
   "outputs": [],
   "source": [
    "# 树特征的重要性\n",
    "clf.feature_importances_[:10]"
   ]
  },
  {
   "cell_type": "code",
   "execution_count": null,
   "id": "69d1c9fb",
   "metadata": {},
   "outputs": [],
   "source": [
    "# 特征选择前后对比\n",
    "feature_selection(train, train_sel, target)"
   ]
  },
  {
   "cell_type": "markdown",
   "id": "edebd531",
   "metadata": {},
   "source": [
    "### 6.3.6 基于 LGB 模型的特征选择"
   ]
  },
  {
   "cell_type": "code",
   "execution_count": null,
   "id": "00da09a1",
   "metadata": {},
   "outputs": [],
   "source": [
    "X_train, X_test, y_train, y_test = train_test_split(train, target, test_size = 0.4, random_state = 0)\n",
    "clf = lgb()\n",
    "train_matrix = clf.Dataset(X_train, label = y_train)\n",
    "test_matrix = clf.Dataset(X_test, label = y_test)\n",
    "params = {\n",
    "    \"boosting_type\": \"gbdt\",\n",
    "    # \"boosting_type\": \"dart\",\n",
    "    \"objective\": \"multiclass\",\n",
    "    \"metric\": \"multi_logloss\",\n",
    "    \"min_child_weight\": 1.5,\n",
    "    \"num_leaves\": 2 ** 5,\n",
    "    \"lambda_l2\": 10,\n",
    "    \"subsmaple\": 0.7,\n",
    "    \"colsample_bytree\": 0.7,\n",
    "    \"colsample_bylevel\": 0.7,\n",
    "    \"learning_rate\": 0.03,\n",
    "    \"tree_method\": \"exact\",\n",
    "    \"seed\": 2021,\n",
    "    \"num_class\": 2,\n",
    "    \"silent\": True,\n",
    "}\n",
    "num_round = 10000\n",
    "early_stopping_rounds = 100\n",
    "model = clf.train(params, train_matrix, num_round, valid_sets = test_matrix, early_stopping_rounds = early_stopping_rounds)"
   ]
  },
  {
   "cell_type": "code",
   "execution_count": null,
   "id": "ce3c6263",
   "metadata": {},
   "outputs": [],
   "source": [
    "def lgb_transform(train, test, model, topK):\n",
    "    train_df = pd.DataFrame(train)\n",
    "    train_df.columns = range(train.shape[1])\n",
    "    \n",
    "    test_df = pd.DataFrame(test)\n",
    "    test_df.columns = range(test.shape[1])\n",
    "    \n",
    "    features_import = pd.DataFrame()\n",
    "    features_import[\"importance\"] = model.feature_importance()\n",
    "    features_import[\"col\"] = range(train.shape[1])\n",
    "    features_import = features_import.sort_values([\"importance\"], ascending = 0).head(topK)\n",
    "    sel_col = list(features_import.col)\n",
    "    \n",
    "    train_sel = train_df[sel_col]\n",
    "    test_sel = test_df[sel_col]\n",
    "    return train_sel, test_sel\n",
    "\n",
    "train_sel, test_sel = lgb_transform(train, test, model, 20)\n",
    "print(\"训练数据未特征筛选维度: \", trian.shape)\n",
    "print(\"训练数据特征筛选维度后: \", trian_sel.shape)"
   ]
  },
  {
   "cell_type": "code",
   "execution_count": 43,
   "id": "5f66d651",
   "metadata": {},
   "outputs": [],
   "source": [
    "# LGB 特征的重要性\n",
    "model.feature_importance()[:10]"
   ]
  },
  {
   "cell_type": "code",
   "execution_count": null,
   "id": "5828d5d0",
   "metadata": {},
   "outputs": [],
   "source": [
    "# 特征选择前后对比\n",
    "feature_selection(train, train_sel, target)"
   ]
  }
 ],
 "metadata": {
  "kernelspec": {
   "display_name": "Python 3",
   "language": "python",
   "name": "python3"
  },
  "language_info": {
   "codemirror_mode": {
    "name": "ipython",
    "version": 3
   },
   "file_extension": ".py",
   "mimetype": "text/x-python",
   "name": "python",
   "nbconvert_exporter": "python",
   "pygments_lexer": "ipython3",
   "version": "3.7.10"
  },
  "toc-autonumbering": false,
  "toc-showmarkdowntxt": true,
  "toc-showtags": false
 },
 "nbformat": 4,
 "nbformat_minor": 5
}
