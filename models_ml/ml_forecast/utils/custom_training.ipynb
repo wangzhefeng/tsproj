{
 "cells": [
  {
   "cell_type": "code",
   "execution_count": 4,
   "id": "4ef16f74-89df-43b1-8712-bef965c1f7b7",
   "metadata": {},
   "outputs": [],
   "source": [
    "# tools\n",
    "import numpy as np\n",
    "\n",
    "# data\n",
    "from mlforecast.utils import generate_daily_series\n",
    "\n",
    "# forecast\n",
    "from mlforecast import MLForecast\n",
    "\n",
    "# models\n",
    "from sklearn.linear_model import LinearRegression\n",
    "import lightgbm as lgb"
   ]
  },
  {
   "cell_type": "markdown",
   "id": "700632d6-698b-42f6-8526-922b8b943636",
   "metadata": {},
   "source": [
    "# data"
   ]
  },
  {
   "cell_type": "code",
   "execution_count": 23,
   "id": "d37d473e-9c86-4878-acb1-ac344d849074",
   "metadata": {},
   "outputs": [
    {
     "name": "stdout",
     "output_type": "stream",
     "text": [
      "  unique_id         ds         y\n",
      "0      id_0 2000-01-01  0.428973\n",
      "1      id_0 2000-01-02  1.423626\n",
      "2      id_0 2000-01-03  2.311782\n",
      "3      id_0 2000-01-04  3.192191\n",
      "4      id_0 2000-01-05  4.148767\n",
      "\n",
      "(1101, 3)\n",
      "\n",
      "unique_id\n",
      "id_4    373\n",
      "id_3    242\n",
      "id_0    222\n",
      "id_2    167\n",
      "id_1     97\n",
      "Name: count, dtype: int64\n"
     ]
    }
   ],
   "source": [
    "series = generate_daily_series(n_series = 5)\n",
    "print(series.head())\n",
    "print()\n",
    "print(series.shape)\n",
    "print()\n",
    "print(series[\"unique_id\"].value_counts())"
   ]
  },
  {
   "cell_type": "markdown",
   "id": "b43057ae-32f4-4e30-914d-49f4e3f00b1a",
   "metadata": {},
   "source": [
    "# forecast"
   ]
  },
  {
   "cell_type": "code",
   "execution_count": 24,
   "id": "33044bff-f31d-460c-ad4e-e9405b5e6065",
   "metadata": {},
   "outputs": [],
   "source": [
    "fcst = MLForecast(\n",
    "    models = {\"lr\": LinearRegression()},\n",
    "    freq = \"D\",\n",
    "    lags = [1],\n",
    "    date_features = [\"dayofweek\"],\n",
    ")"
   ]
  },
  {
   "cell_type": "markdown",
   "id": "c12e140d-a1a4-4138-921e-3cc3a7fe6a40",
   "metadata": {},
   "source": [
    "# training set"
   ]
  },
  {
   "cell_type": "code",
   "execution_count": 25,
   "id": "bbaf94a1-901d-44b8-a547-1177c1e7edb6",
   "metadata": {},
   "outputs": [
    {
     "name": "stdout",
     "output_type": "stream",
     "text": [
      "  unique_id         ds         y      lag1  dayofweek\n",
      "1      id_0 2000-01-02  1.423626  0.428973          6\n",
      "2      id_0 2000-01-03  2.311782  1.423626          0\n",
      "3      id_0 2000-01-04  3.192191  2.311782          1\n",
      "4      id_0 2000-01-05  4.148767  3.192191          2\n",
      "5      id_0 2000-01-06  5.028356  4.148767          3\n",
      "\n",
      "(1096, 5)\n",
      "\n",
      "unique_id\n",
      "id_4    372\n",
      "id_3    241\n",
      "id_0    221\n",
      "id_2    166\n",
      "id_1     96\n",
      "Name: count, dtype: int64\n"
     ]
    }
   ],
   "source": [
    "preps = fcst.preprocess(series)\n",
    "print(preps.head())\n",
    "print()\n",
    "print(preps.shape)\n",
    "print()\n",
    "print(preps[\"unique_id\"].value_counts())"
   ]
  },
  {
   "cell_type": "code",
   "execution_count": 26,
   "id": "577b308c-e0e0-4d00-97d0-b0fe079ca208",
   "metadata": {},
   "outputs": [
    {
     "name": "stdout",
     "output_type": "stream",
     "text": [
      "X shape: (1096, 2)\n",
      "y shape: (1096,)\n"
     ]
    }
   ],
   "source": [
    "X = preps.drop(columns = [\"unique_id\", \"ds\", \"y\"])\n",
    "y = preps[\"y\"]\n",
    "print(f\"X shape: {X.shape}\")\n",
    "print(f\"y shape: {y.shape}\")"
   ]
  },
  {
   "cell_type": "markdown",
   "id": "4b2a63a2-536b-4b01-9171-ccbaa3817473",
   "metadata": {},
   "source": [
    "# training"
   ]
  },
  {
   "cell_type": "markdown",
   "id": "11f0cb1f-16fc-40ad-accf-3b6de8c2499a",
   "metadata": {},
   "source": [
    "## training lr1"
   ]
  },
  {
   "cell_type": "code",
   "execution_count": 27,
   "id": "453848b7-ec1d-477e-a5eb-3c7d2f33d081",
   "metadata": {},
   "outputs": [
    {
     "data": {
      "text/plain": [
       "MLForecast(models=[lr], freq=D, lag_features=['lag1'], date_features=['dayofweek'], num_threads=1)"
      ]
     },
     "execution_count": 27,
     "metadata": {},
     "output_type": "execute_result"
    }
   ],
   "source": [
    "fcst.fit(series)"
   ]
  },
  {
   "cell_type": "code",
   "execution_count": 28,
   "id": "a10ba3be-797d-4968-a5ec-0240a8d87a95",
   "metadata": {},
   "outputs": [
    {
     "data": {
      "text/plain": [
       "{'lr': LinearRegression()}"
      ]
     },
     "execution_count": 28,
     "metadata": {},
     "output_type": "execute_result"
    }
   ],
   "source": [
    "fcst.models_"
   ]
  },
  {
   "cell_type": "markdown",
   "id": "d4499753-1c60-4599-9e3e-c8c9b78bdeea",
   "metadata": {},
   "source": [
    "## training lr2"
   ]
  },
  {
   "cell_type": "code",
   "execution_count": 18,
   "id": "2a6e5f8d-33fb-4fd2-8d6d-4327e11ae268",
   "metadata": {},
   "outputs": [
    {
     "data": {
      "text/plain": [
       "MLForecast(models=[lr], freq=D, lag_features=['lag1'], date_features=['dayofweek'], num_threads=1)"
      ]
     },
     "execution_count": 18,
     "metadata": {},
     "output_type": "execute_result"
    }
   ],
   "source": [
    "fcst.fit_models(X, y)"
   ]
  },
  {
   "cell_type": "code",
   "execution_count": 19,
   "id": "8c3fbe66-e787-4a62-8f0c-61b81c83e62b",
   "metadata": {},
   "outputs": [
    {
     "data": {
      "text/plain": [
       "{'lr': LinearRegression()}"
      ]
     },
     "execution_count": 19,
     "metadata": {},
     "output_type": "execute_result"
    }
   ],
   "source": [
    "fcst.models_"
   ]
  },
  {
   "cell_type": "markdown",
   "id": "7e83cc25-d766-4d83-9768-30bf41e857cb",
   "metadata": {},
   "source": [
    "## training lgb"
   ]
  },
  {
   "cell_type": "code",
   "execution_count": 29,
   "id": "f4bd2543-9834-433f-a8b3-3853f9cf3d07",
   "metadata": {},
   "outputs": [
    {
     "name": "stdout",
     "output_type": "stream",
     "text": [
      "[20]\ttraining's l2: 0.0823528\n",
      "[40]\ttraining's l2: 0.0230292\n",
      "[60]\ttraining's l2: 0.0207829\n",
      "[80]\ttraining's l2: 0.019675\n",
      "[100]\ttraining's l2: 0.018778\n"
     ]
    }
   ],
   "source": [
    "model = lgb.LGBMRegressor(n_estimators=100, verbosity = -1)\n",
    "model.fit(\n",
    "    X, \n",
    "    y, \n",
    "    eval_set = [(X, y)],\n",
    "    categorical_feature = [\"dayofweek\"],\n",
    "    callbacks = [lgb.log_evaluation(20)],\n",
    ");"
   ]
  },
  {
   "cell_type": "markdown",
   "id": "b43f2dd0-5daf-42db-8f15-f8a100f33aa0",
   "metadata": {},
   "source": [
    "# computing forecasts"
   ]
  },
  {
   "cell_type": "code",
   "execution_count": 30,
   "id": "b8e772c0-6913-44c0-91e2-d697c65a03b7",
   "metadata": {},
   "outputs": [
    {
     "data": {
      "text/plain": [
       "{'lr': LinearRegression(), 'lgbm': LGBMRegressor(verbosity=-1)}"
      ]
     },
     "execution_count": 30,
     "metadata": {},
     "output_type": "execute_result"
    }
   ],
   "source": [
    "fcst.models_[\"lgbm\"] = model\n",
    "fcst.models_"
   ]
  },
  {
   "cell_type": "code",
   "execution_count": 31,
   "id": "fec50e00-432b-4fe5-852e-fffa42df01df",
   "metadata": {},
   "outputs": [
    {
     "data": {
      "text/html": [
       "<div>\n",
       "<style scoped>\n",
       "    .dataframe tbody tr th:only-of-type {\n",
       "        vertical-align: middle;\n",
       "    }\n",
       "\n",
       "    .dataframe tbody tr th {\n",
       "        vertical-align: top;\n",
       "    }\n",
       "\n",
       "    .dataframe thead th {\n",
       "        text-align: right;\n",
       "    }\n",
       "</style>\n",
       "<table border=\"1\" class=\"dataframe\">\n",
       "  <thead>\n",
       "    <tr style=\"text-align: right;\">\n",
       "      <th></th>\n",
       "      <th>unique_id</th>\n",
       "      <th>ds</th>\n",
       "      <th>lr</th>\n",
       "      <th>lgbm</th>\n",
       "    </tr>\n",
       "  </thead>\n",
       "  <tbody>\n",
       "    <tr>\n",
       "      <th>0</th>\n",
       "      <td>id_0</td>\n",
       "      <td>2000-08-10</td>\n",
       "      <td>3.549124</td>\n",
       "      <td>5.166797</td>\n",
       "    </tr>\n",
       "    <tr>\n",
       "      <th>1</th>\n",
       "      <td>id_1</td>\n",
       "      <td>2000-04-07</td>\n",
       "      <td>3.154285</td>\n",
       "      <td>4.252490</td>\n",
       "    </tr>\n",
       "    <tr>\n",
       "      <th>2</th>\n",
       "      <td>id_2</td>\n",
       "      <td>2000-06-16</td>\n",
       "      <td>2.880933</td>\n",
       "      <td>3.224506</td>\n",
       "    </tr>\n",
       "    <tr>\n",
       "      <th>3</th>\n",
       "      <td>id_3</td>\n",
       "      <td>2000-08-30</td>\n",
       "      <td>4.061801</td>\n",
       "      <td>0.245443</td>\n",
       "    </tr>\n",
       "    <tr>\n",
       "      <th>4</th>\n",
       "      <td>id_4</td>\n",
       "      <td>2001-01-08</td>\n",
       "      <td>2.904872</td>\n",
       "      <td>2.225106</td>\n",
       "    </tr>\n",
       "  </tbody>\n",
       "</table>\n",
       "</div>"
      ],
      "text/plain": [
       "  unique_id         ds        lr      lgbm\n",
       "0      id_0 2000-08-10  3.549124  5.166797\n",
       "1      id_1 2000-04-07  3.154285  4.252490\n",
       "2      id_2 2000-06-16  2.880933  3.224506\n",
       "3      id_3 2000-08-30  4.061801  0.245443\n",
       "4      id_4 2001-01-08  2.904872  2.225106"
      ]
     },
     "execution_count": 31,
     "metadata": {},
     "output_type": "execute_result"
    }
   ],
   "source": [
    "fcst.predict(h = 1)"
   ]
  },
  {
   "cell_type": "code",
   "execution_count": null,
   "id": "2e39018a-ff3c-4264-b182-d651424a6310",
   "metadata": {},
   "outputs": [],
   "source": []
  }
 ],
 "metadata": {
  "kernelspec": {
   "display_name": "Python 3 (ipykernel)",
   "language": "python",
   "name": "python3"
  },
  "language_info": {
   "codemirror_mode": {
    "name": "ipython",
    "version": 3
   },
   "file_extension": ".py",
   "mimetype": "text/x-python",
   "name": "python",
   "nbconvert_exporter": "python",
   "pygments_lexer": "ipython3",
   "version": "3.11.9"
  }
 },
 "nbformat": 4,
 "nbformat_minor": 5
}
