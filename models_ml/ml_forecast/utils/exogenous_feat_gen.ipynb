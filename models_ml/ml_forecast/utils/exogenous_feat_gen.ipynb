{
 "cells": [
  {
   "cell_type": "code",
   "execution_count": 2,
   "id": "4da69c72-8cf3-4ade-8db2-0f61d79cb7c0",
   "metadata": {},
   "outputs": [],
   "source": [
    "import pandas as pd\n",
    "\n",
    "from mlforecast import MLForecast\n",
    "from mlforecast.utils import generate_daily_series, generate_prices_for_series\n",
    "from mlforecast.lag_transforms import ExpandingMean, RollingMean\n",
    "from utilsforecast.plotting import plot_series\n",
    "from utilsforecast.feature_engineering import fourier\n",
    "\n",
    "from sklearn.linear_model import LinearRegression"
   ]
  },
  {
   "cell_type": "markdown",
   "id": "ed6b294c-234a-4783-a899-7ac0e65ea2f9",
   "metadata": {},
   "source": [
    "# data"
   ]
  },
  {
   "cell_type": "markdown",
   "id": "efcf3dc0-f18b-4ab6-9378-51bc6d7d7d0d",
   "metadata": {},
   "source": [
    "## 生成模拟数据"
   ]
  },
  {
   "cell_type": "code",
   "execution_count": 3,
   "id": "32c12d7c-a6c7-4b56-8a17-a82a85ec214b",
   "metadata": {},
   "outputs": [
    {
     "name": "stdout",
     "output_type": "stream",
     "text": [
      "  unique_id         ds           y  static_0  product_id\n",
      "0     id_00 2000-10-05   39.811983        79          45\n",
      "1     id_00 2000-10-06  103.757103        79          45\n",
      "2     id_00 2000-10-07  177.540923        79          45\n",
      "3     id_00 2000-10-08  260.437170        79          45\n",
      "4     id_00 2000-10-09  346.872764        79          45\n",
      "\n",
      "(27003, 5)\n",
      "\n",
      "id_46    499\n",
      "id_35    498\n",
      "id_72    492\n",
      "id_34    481\n",
      "id_83    480\n",
      "        ... \n",
      "id_51     81\n",
      "id_73     81\n",
      "id_58     78\n",
      "id_25     75\n",
      "id_08     59\n",
      "Name: unique_id, Length: 100, dtype: int64\n"
     ]
    }
   ],
   "source": [
    "series = generate_daily_series(\n",
    "    n_series=100,\n",
    "    # max_length=300,\n",
    "    equal_ends=True,\n",
    "    n_static_features=2,\n",
    "    static_as_categorical=False,\n",
    "    with_trend = True,\n",
    ").rename(columns = {\"static_1\": \"product_id\"})\n",
    "print(series.head())\n",
    "print()\n",
    "print(series.shape)\n",
    "print()\n",
    "print(series[\"unique_id\"].value_counts())"
   ]
  },
  {
   "cell_type": "markdown",
   "id": "271a34c2-f3e3-4710-990f-7cf8a8030c38",
   "metadata": {},
   "source": [
    "## 添加傅里叶项模拟季节性"
   ]
  },
  {
   "cell_type": "code",
   "execution_count": 4,
   "id": "ff040461-a5c0-447c-97ff-2cdd36ccb4e4",
   "metadata": {},
   "outputs": [],
   "source": [
    "transformed_df, future_df = fourier(\n",
    "    series, \n",
    "    freq = \"D\", \n",
    "    season_length = 7, \n",
    "    k = 2, \n",
    "    h = 7\n",
    ")"
   ]
  },
  {
   "cell_type": "code",
   "execution_count": 5,
   "id": "fcd47a77-5ba8-409a-b75d-f9822b27776c",
   "metadata": {},
   "outputs": [
    {
     "name": "stdout",
     "output_type": "stream",
     "text": [
      "  unique_id         ds           y  static_0  ...    sin1_7    sin2_7    cos1_7    cos2_7\n",
      "0     id_00 2000-10-05   39.811983        79  ... -0.974927  0.433893 -0.222526 -0.900964\n",
      "1     id_00 2000-10-06  103.757103        79  ... -0.781834 -0.974926  0.623486 -0.222530\n",
      "2     id_00 2000-10-07  177.540923        79  ... -0.000004 -0.000009  1.000000  1.000000\n",
      "3     id_00 2000-10-08  260.437170        79  ...  0.781829  0.974930  0.623493 -0.222513\n",
      "4     id_00 2000-10-09  346.872764        79  ...  0.974929 -0.433877 -0.222517 -0.900972\n",
      "\n",
      "[5 rows x 9 columns]\n",
      "\n",
      "(27003, 9)\n",
      "\n",
      "id_46    499\n",
      "id_35    498\n",
      "id_72    492\n",
      "id_34    481\n",
      "id_83    480\n",
      "        ... \n",
      "id_51     81\n",
      "id_73     81\n",
      "id_58     78\n",
      "id_25     75\n",
      "id_08     59\n",
      "Name: unique_id, Length: 100, dtype: int64\n"
     ]
    }
   ],
   "source": [
    "print(transformed_df.head())\n",
    "print()\n",
    "print(transformed_df.shape)\n",
    "print()\n",
    "print(transformed_df[\"unique_id\"].value_counts())"
   ]
  },
  {
   "cell_type": "code",
   "execution_count": 6,
   "id": "a92a96c0-cbd9-4fd0-b517-72aad03b63d9",
   "metadata": {},
   "outputs": [
    {
     "name": "stdout",
     "output_type": "stream",
     "text": [
      "  unique_id         ds    sin1_7    sin2_7    cos1_7    cos2_7\n",
      "0     id_00 2001-05-15  0.433884 -0.781832 -0.900969  0.623489\n",
      "1     id_00 2001-05-16 -0.433898  0.781851 -0.900962  0.623466\n",
      "2     id_00 2001-05-17 -0.974928  0.433883 -0.222521 -0.900969\n",
      "3     id_00 2001-05-18 -0.781821 -0.974935  0.623502 -0.222490\n",
      "4     id_00 2001-05-19  0.000001  0.000002  1.000000  1.000000\n",
      "\n",
      "(700, 6)\n",
      "\n",
      "id_00    7\n",
      "id_63    7\n",
      "id_73    7\n",
      "id_72    7\n",
      "id_71    7\n",
      "        ..\n",
      "id_30    7\n",
      "id_29    7\n",
      "id_28    7\n",
      "id_27    7\n",
      "id_99    7\n",
      "Name: unique_id, Length: 100, dtype: int64\n"
     ]
    }
   ],
   "source": [
    "print(future_df.head())\n",
    "print()\n",
    "print(future_df.shape)\n",
    "print()\n",
    "print(future_df[\"unique_id\"].value_counts())"
   ]
  },
  {
   "cell_type": "markdown",
   "id": "c9bf1920-838c-493d-a562-d3645946833b",
   "metadata": {},
   "source": [
    "# model training"
   ]
  },
  {
   "cell_type": "code",
   "execution_count": 9,
   "id": "cd54026b-7969-426e-b85b-d305f641f335",
   "metadata": {},
   "outputs": [
    {
     "data": {
      "text/plain": [
       "MLForecast(models=[LinearRegression], freq=D, lag_features=[], date_features=[], num_threads=1)"
      ]
     },
     "execution_count": 9,
     "metadata": {},
     "output_type": "execute_result"
    }
   ],
   "source": [
    "fcst = MLForecast(\n",
    "    models = LinearRegression(),\n",
    "    freq = \"D\",\n",
    ")\n",
    "fcst.fit(transformed_df, static_features = [\"static_0\", \"product_id\"])"
   ]
  },
  {
   "cell_type": "markdown",
   "id": "c8f990cf-3877-4751-9e00-8a05f46dc819",
   "metadata": {},
   "source": [
    "# model predicting"
   ]
  },
  {
   "cell_type": "code",
   "execution_count": 10,
   "id": "fdd04112-c7e9-4ca6-b377-4fda27b077a2",
   "metadata": {},
   "outputs": [
    {
     "name": "stdout",
     "output_type": "stream",
     "text": [
      "  unique_id         ds  LinearRegression\n",
      "0     id_00 2001-05-15        329.941452\n",
      "1     id_00 2001-05-16        321.069495\n",
      "2     id_00 2001-05-17        328.576132\n",
      "3     id_00 2001-05-18        348.461299\n",
      "4     id_00 2001-05-19        358.108337\n",
      "\n",
      "(700, 3)\n",
      "\n",
      "id_00    7\n",
      "id_63    7\n",
      "id_73    7\n",
      "id_72    7\n",
      "id_71    7\n",
      "        ..\n",
      "id_30    7\n",
      "id_29    7\n",
      "id_28    7\n",
      "id_27    7\n",
      "id_99    7\n",
      "Name: unique_id, Length: 100, dtype: int64\n"
     ]
    }
   ],
   "source": [
    "predicion = fcst.predict(h = 7, X_df = future_df)\n",
    "print(predicion.head())\n",
    "print()\n",
    "print(predicion.shape)\n",
    "print()\n",
    "print(predicion[\"unique_id\"].value_counts())"
   ]
  },
  {
   "cell_type": "code",
   "execution_count": null,
   "id": "a027377b-d9f8-407b-bd2b-3c18e1a32fdc",
   "metadata": {},
   "outputs": [],
   "source": []
  }
 ],
 "metadata": {
  "kernelspec": {
   "display_name": "Python 3 (ipykernel)",
   "language": "python",
   "name": "python3"
  },
  "language_info": {
   "codemirror_mode": {
    "name": "ipython",
    "version": 3
   },
   "file_extension": ".py",
   "mimetype": "text/x-python",
   "name": "python",
   "nbconvert_exporter": "python",
   "pygments_lexer": "ipython3",
   "version": "3.12.7"
  }
 },
 "nbformat": 4,
 "nbformat_minor": 5
}
