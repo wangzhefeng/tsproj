{
 "cells": [
  {
   "cell_type": "code",
   "execution_count": 2,
   "id": "5e438692-31df-4ddd-8fe0-778dd7542c22",
   "metadata": {},
   "outputs": [],
   "source": [
    "# tools\n",
    "import copy\n",
    "import subprocess\n",
    "import time\n",
    "import requests\n",
    "\n",
    "import mlflow\n",
    "import pandas as pd\n",
    "\n",
    "# data\n",
    "from utilsforecast.data import generate_series\n",
    "\n",
    "# feature engineer\n",
    "from utilsforecast.feature_engineering import fourier\n",
    "from mlforecast.lag_transforms import ExponentiallyWeightedMean\n",
    "from mlforecast.utils import PredictionIntervals\n",
    "\n",
    "# forecast\n",
    "import mlforecast.flavor\n",
    "from mlforecast import MLForecast\n",
    "\n",
    "# models\n",
    "import lightgbm as lgb\n",
    "from sklearn.linear_model import LinearRegression\n",
    "\n",
    "# evaluate\n",
    "from utilsforecast.losses import rmse, smape\n",
    "from utilsforecast.evaluation import evaluate"
   ]
  },
  {
   "cell_type": "markdown",
   "id": "dfb56224-5598-4caf-8cd4-6b3370257d35",
   "metadata": {},
   "source": [
    "# data"
   ]
  },
  {
   "cell_type": "code",
   "execution_count": 10,
   "id": "d42b97be-b244-41fc-bdac-a9ef2787c4ea",
   "metadata": {},
   "outputs": [],
   "source": [
    "n_series = 5\n",
    "freq = \"h\"\n",
    "horizon = 10"
   ]
  },
  {
   "cell_type": "code",
   "execution_count": 11,
   "id": "6c4331f5-502a-4824-a6b0-eea2b8fc069b",
   "metadata": {},
   "outputs": [
    {
     "name": "stdout",
     "output_type": "stream",
     "text": [
      "series data:\n",
      "----------------------------------------\n",
      "  unique_id                  ds         y\n",
      "0         0 2000-01-01 00:00:00  0.428973\n",
      "1         0 2000-01-01 01:00:00  0.423626\n",
      "2         0 2000-01-01 02:00:00  0.311782\n",
      "3         0 2000-01-01 03:00:00  0.192191\n",
      "4         0 2000-01-01 04:00:00  0.148767\n",
      "\n",
      "(1101, 3)\n",
      "\n",
      "unique_id\n",
      "4    373\n",
      "3    242\n",
      "0    222\n",
      "2    167\n",
      "1     97\n",
      "Name: count, dtype: int64\n",
      "valid data:\n",
      "----------------------------------------\n",
      "    unique_id                  ds         y\n",
      "212         0 2000-01-09 20:00:00  0.114610\n",
      "213         0 2000-01-09 21:00:00  0.440793\n",
      "214         0 2000-01-09 22:00:00  0.452212\n",
      "215         0 2000-01-09 23:00:00  0.322892\n",
      "216         0 2000-01-10 00:00:00  0.162341\n",
      "\n",
      "(50, 3)\n",
      "\n",
      "unique_id\n",
      "0    10\n",
      "1    10\n",
      "2    10\n",
      "3    10\n",
      "4    10\n",
      "Name: count, dtype: int64\n",
      "train data:\n",
      "----------------------------------------\n",
      "  unique_id                  ds         y\n",
      "0         0 2000-01-01 00:00:00  0.428973\n",
      "1         0 2000-01-01 01:00:00  0.423626\n",
      "2         0 2000-01-01 02:00:00  0.311782\n",
      "3         0 2000-01-01 03:00:00  0.192191\n",
      "4         0 2000-01-01 04:00:00  0.148767\n",
      "\n",
      "(1051, 3)\n",
      "\n",
      "unique_id\n",
      "4    363\n",
      "3    232\n",
      "0    212\n",
      "2    157\n",
      "1     87\n",
      "Name: count, dtype: int64\n",
      "fourier train data:\n",
      "----------------------------------------\n",
      "     unique_id                  ds         y  ...       sin2_24   cos1_24   cos2_24\n",
      "0            0 2000-01-01 00:00:00  0.428973  ... -8.660251e-01 -0.500000 -0.500001\n",
      "1            0 2000-01-01 01:00:00  0.423626  ... -1.000000e+00 -0.707109  0.000006\n",
      "2            0 2000-01-01 02:00:00  0.311782  ... -8.660230e-01 -0.866027  0.500004\n",
      "3            0 2000-01-01 03:00:00  0.192191  ... -4.999967e-01 -0.965926  0.866027\n",
      "4            0 2000-01-01 04:00:00  0.148767  ...  2.749829e-06 -1.000000  1.000000\n",
      "...        ...                 ...       ...  ...           ...       ...       ...\n",
      "1086         4 2000-01-15 22:00:00  0.125813  ... -4.999921e-01  0.965927  0.866030\n",
      "1087         4 2000-01-15 23:00:00  0.078942  ...  4.769952e-07  1.000000  1.000000\n",
      "1088         4 2000-01-16 00:00:00  0.393430  ...  5.000061e-01  0.965925  0.866022\n",
      "1089         4 2000-01-16 01:00:00  0.486508  ...  8.660246e-01  0.866026  0.500001\n",
      "1090         4 2000-01-16 02:00:00  0.031018  ...  1.000000e+00  0.707105 -0.000005\n",
      "\n",
      "[1051 rows x 7 columns]\n",
      "fourier X_df data:\n",
      "----------------------------------------\n",
      "   unique_id                  ds   sin1_24   sin2_24   cos1_24   cos2_24\n",
      "0          0 2000-01-09 20:00:00  0.866028  0.866020  0.499995 -0.500010\n",
      "1          0 2000-01-09 21:00:00  0.965926  0.499998  0.258818 -0.866027\n",
      "2          0 2000-01-09 22:00:00  1.000000 -0.000009 -0.000005 -1.000000\n",
      "3          0 2000-01-09 23:00:00  0.965926 -0.500001 -0.258819 -0.866025\n",
      "4          0 2000-01-10 00:00:00  0.866024 -0.866029 -0.500003 -0.499994\n",
      "5          0 2000-01-10 01:00:00  0.707107 -1.000000 -0.707106 -0.000001\n",
      "6          0 2000-01-10 02:00:00  0.499998 -0.866023 -0.866027  0.500004\n",
      "7          0 2000-01-10 03:00:00  0.258813 -0.499990 -0.965927  0.866031\n",
      "8          0 2000-01-10 04:00:00 -0.000002  0.000003 -1.000000  1.000000\n",
      "9          0 2000-01-10 05:00:00 -0.258824  0.500008 -0.965925  0.866021\n",
      "10         1 2000-01-04 15:00:00  0.866028  0.866020  0.499995 -0.500010\n",
      "11         1 2000-01-04 16:00:00  0.965926  0.499998  0.258818 -0.866027\n",
      "12         1 2000-01-04 17:00:00  1.000000 -0.000009 -0.000005 -1.000000\n",
      "13         1 2000-01-04 18:00:00  0.965926 -0.500001 -0.258819 -0.866025\n",
      "14         1 2000-01-04 19:00:00  0.866024 -0.866029 -0.500003 -0.499994\n",
      "15         1 2000-01-04 20:00:00  0.707107 -1.000000 -0.707106 -0.000001\n",
      "16         1 2000-01-04 21:00:00  0.499998 -0.866023 -0.866027  0.500004\n",
      "17         1 2000-01-04 22:00:00  0.258813 -0.499990 -0.965927  0.866031\n",
      "18         1 2000-01-04 23:00:00 -0.000002  0.000003 -1.000000  1.000000\n",
      "19         1 2000-01-05 00:00:00 -0.258824  0.500008 -0.965925  0.866021\n",
      "20         2 2000-01-07 13:00:00  0.866028  0.866020  0.499995 -0.500010\n",
      "21         2 2000-01-07 14:00:00  0.965926  0.499998  0.258818 -0.866027\n",
      "22         2 2000-01-07 15:00:00  1.000000 -0.000009 -0.000005 -1.000000\n",
      "23         2 2000-01-07 16:00:00  0.965926 -0.500001 -0.258819 -0.866025\n",
      "24         2 2000-01-07 17:00:00  0.866024 -0.866029 -0.500003 -0.499994\n",
      "25         2 2000-01-07 18:00:00  0.707107 -1.000000 -0.707106 -0.000001\n",
      "26         2 2000-01-07 19:00:00  0.499998 -0.866023 -0.866027  0.500004\n",
      "27         2 2000-01-07 20:00:00  0.258813 -0.499990 -0.965927  0.866031\n",
      "28         2 2000-01-07 21:00:00 -0.000002  0.000003 -1.000000  1.000000\n",
      "29         2 2000-01-07 22:00:00 -0.258824  0.500008 -0.965925  0.866021\n",
      "30         3 2000-01-10 16:00:00  0.866028  0.866020  0.499995 -0.500010\n",
      "31         3 2000-01-10 17:00:00  0.965926  0.499998  0.258818 -0.866027\n",
      "32         3 2000-01-10 18:00:00  1.000000 -0.000009 -0.000005 -1.000000\n",
      "33         3 2000-01-10 19:00:00  0.965926 -0.500001 -0.258819 -0.866025\n",
      "34         3 2000-01-10 20:00:00  0.866024 -0.866029 -0.500003 -0.499994\n",
      "35         3 2000-01-10 21:00:00  0.707107 -1.000000 -0.707106 -0.000001\n",
      "36         3 2000-01-10 22:00:00  0.499998 -0.866023 -0.866027  0.500004\n",
      "37         3 2000-01-10 23:00:00  0.258813 -0.499990 -0.965927  0.866031\n",
      "38         3 2000-01-11 00:00:00 -0.000002  0.000003 -1.000000  1.000000\n",
      "39         3 2000-01-11 01:00:00 -0.258824  0.500008 -0.965925  0.866021\n",
      "40         4 2000-01-16 03:00:00  0.866028  0.866020  0.499995 -0.500010\n",
      "41         4 2000-01-16 04:00:00  0.965926  0.499998  0.258818 -0.866027\n",
      "42         4 2000-01-16 05:00:00  1.000000 -0.000009 -0.000005 -1.000000\n",
      "43         4 2000-01-16 06:00:00  0.965926 -0.500001 -0.258819 -0.866025\n",
      "44         4 2000-01-16 07:00:00  0.866024 -0.866029 -0.500003 -0.499994\n",
      "45         4 2000-01-16 08:00:00  0.707107 -1.000000 -0.707106 -0.000001\n",
      "46         4 2000-01-16 09:00:00  0.499998 -0.866023 -0.866027  0.500004\n",
      "47         4 2000-01-16 10:00:00  0.258813 -0.499990 -0.965927  0.866031\n",
      "48         4 2000-01-16 11:00:00 -0.000002  0.000003 -1.000000  1.000000\n",
      "49         4 2000-01-16 12:00:00 -0.258824  0.500008 -0.965925  0.866021\n"
     ]
    }
   ],
   "source": [
    "series = generate_series(n_series = n_series, freq = freq)\n",
    "print(f\"series data:\")\n",
    "print(\"-\" * 40)\n",
    "print(series.head())\n",
    "print()\n",
    "print(series.shape)\n",
    "print()\n",
    "print(series[\"unique_id\"].value_counts())\n",
    "\n",
    "valid = series.groupby(\"unique_id\", observed = True).tail(horizon)\n",
    "print(f\"valid data:\")\n",
    "print(\"-\" * 40)\n",
    "print(valid.head())\n",
    "print()\n",
    "print(valid.shape)\n",
    "print()\n",
    "print(valid[\"unique_id\"].value_counts())\n",
    "train = series.drop(valid.index)\n",
    "print(f\"train data:\")\n",
    "print(\"-\" * 40)\n",
    "print(train.head())\n",
    "print()\n",
    "print(train.shape)\n",
    "print()\n",
    "print(train[\"unique_id\"].value_counts())\n",
    "\n",
    "train, X_df = fourier(train, freq = freq, season_length = 24, k = 2, h = horizon)\n",
    "print(f\"fourier train data:\")\n",
    "print(\"-\" * 40)\n",
    "print(train)\n",
    "print(f\"fourier X_df data:\")\n",
    "print(\"-\" * 40)\n",
    "print(X_df)"
   ]
  },
  {
   "cell_type": "markdown",
   "id": "3ef6df26-123e-4341-92ac-f4fcbdea4d2e",
   "metadata": {},
   "source": [
    "# params"
   ]
  },
  {
   "cell_type": "code",
   "execution_count": 19,
   "id": "e4cda6bf-6aaf-4af1-89c0-93440f87bec4",
   "metadata": {},
   "outputs": [],
   "source": [
    "params = {\n",
    "    \"init\": {\n",
    "        \"models\": {\n",
    "            \"lgb\": lgb.LGBMRegressor(n_estimators=50, num_leaves = 16, verbosity = -1),\n",
    "            \"lr\": LinearRegression(),\n",
    "        },\n",
    "        \"freq\": freq,\n",
    "        \"lags\": [24],\n",
    "        \"lag_transforms\": {\n",
    "            1: [ExponentiallyWeightedMean(0.9)],\n",
    "        },\n",
    "        \"num_threads\": 2,\n",
    "    },\n",
    "    \"fit\": {\n",
    "        \"static_features\": [\"unique_id\"],\n",
    "        \"prediction_intervals\": PredictionIntervals(n_windows = 2, h = horizon),\n",
    "    },\n",
    "}"
   ]
  },
  {
   "cell_type": "markdown",
   "id": "11c5391d-c3c8-4f9c-8b42-9559de0862e5",
   "metadata": {},
   "source": [
    "# logging"
   ]
  },
  {
   "cell_type": "code",
   "execution_count": 21,
   "id": "47587392-78c7-4085-9035-6252df6aadd5",
   "metadata": {},
   "outputs": [
    {
     "name": "stderr",
     "output_type": "stream",
     "text": [
      "/Users/wangzf/Applications/miniconda3/envs/ts/lib/python3.11/site-packages/mlflow/types/utils.py:407: UserWarning: Hint: Inferred schema contains integer column(s). Integer columns in Python cannot represent missing values. If your input data contains missing values at inference time, it will be encoded as floats and will cause a schema enforcement error. The best way to avoid this problem is to infer the model schema based on a realistic data sample (training dataset) that includes missing values. Alternatively, you can declare integer columns as doubles (float64) whenever these columns may have missing values. See `Handling Integers With Missing Values <https://www.mlflow.org/docs/latest/models.html#handling-integers-with-missing-values>`_ for more details.\n",
      "  warnings.warn(\n",
      "2024/12/05 21:28:18 WARNING mlflow.models.model: Model logged without a signature and input example. Please set `input_example` parameter when logging the model to auto infer the model signature.\n"
     ]
    }
   ],
   "source": [
    "mlflow.set_experiment(\"mlforecast\")\n",
    "with mlflow.start_run() as run:\n",
    "    train_ds = mlflow.data.from_pandas(train)\n",
    "    valid_ds = mlflow.data.from_pandas(valid)\n",
    "    mlflow.log_input(train_ds, context=\"training\")\n",
    "    mlflow.log_input(valid_ds, context=\"validation\")\n",
    "    logged_params = copy.deepcopy(params) \n",
    "    logged_params['init']['models'] = {\n",
    "        k: (v.__class__.__name__, v.get_params())\n",
    "        for k, v in params['init']['models'].items()\n",
    "    }\n",
    "    mlflow.log_params(logged_params)\n",
    "    mlf = MLForecast(**params['init'])\n",
    "    mlf.fit(train, **params['fit'])\n",
    "    preds = mlf.predict(horizon, X_df=X_df)\n",
    "    eval_result = evaluate(\n",
    "        valid.merge(preds, on=['unique_id', 'ds']),\n",
    "        metrics=[rmse, smape],\n",
    "        agg_fn='mean',\n",
    "    )\n",
    "    models = mlf.models_.keys()\n",
    "    logged_metrics = {}\n",
    "    for _, row in eval_result.iterrows():\n",
    "        metric = row['metric']\n",
    "        for model in models:\n",
    "            logged_metrics[f'{metric}_{model}'] = row[model]\n",
    "    mlflow.log_metrics(logged_metrics)\n",
    "    mlforecast.flavor.log_model(model=mlf, artifact_path=\"model\")\n",
    "    model_uri = mlflow.get_artifact_uri(\"model\")\n",
    "    run_id = run.info.run_id"
   ]
  },
  {
   "cell_type": "markdown",
   "id": "07664ce3-25fb-48d3-a85d-056c1a08afd2",
   "metadata": {},
   "source": [
    "# load model"
   ]
  },
  {
   "cell_type": "code",
   "execution_count": 23,
   "id": "5fdb0c90-da81-4be0-83e8-62a96cc079f6",
   "metadata": {},
   "outputs": [
    {
     "data": {
      "text/html": [
       "<div>\n",
       "<style scoped>\n",
       "    .dataframe tbody tr th:only-of-type {\n",
       "        vertical-align: middle;\n",
       "    }\n",
       "\n",
       "    .dataframe tbody tr th {\n",
       "        vertical-align: top;\n",
       "    }\n",
       "\n",
       "    .dataframe thead th {\n",
       "        text-align: right;\n",
       "    }\n",
       "</style>\n",
       "<table border=\"1\" class=\"dataframe\">\n",
       "  <thead>\n",
       "    <tr style=\"text-align: right;\">\n",
       "      <th></th>\n",
       "      <th>unique_id</th>\n",
       "      <th>ds</th>\n",
       "      <th>lgb</th>\n",
       "      <th>lr</th>\n",
       "    </tr>\n",
       "  </thead>\n",
       "  <tbody>\n",
       "    <tr>\n",
       "      <th>0</th>\n",
       "      <td>3</td>\n",
       "      <td>2000-01-10 16:00:00</td>\n",
       "      <td>0.333308</td>\n",
       "      <td>0.243017</td>\n",
       "    </tr>\n",
       "    <tr>\n",
       "      <th>1</th>\n",
       "      <td>3</td>\n",
       "      <td>2000-01-10 17:00:00</td>\n",
       "      <td>0.127424</td>\n",
       "      <td>0.249742</td>\n",
       "    </tr>\n",
       "  </tbody>\n",
       "</table>\n",
       "</div>"
      ],
      "text/plain": [
       "  unique_id                  ds       lgb        lr\n",
       "0         3 2000-01-10 16:00:00  0.333308  0.243017\n",
       "1         3 2000-01-10 17:00:00  0.127424  0.249742"
      ]
     },
     "execution_count": 23,
     "metadata": {},
     "output_type": "execute_result"
    }
   ],
   "source": [
    "loaded_model = mlforecast.flavor.load_model(model_uri=model_uri)\n",
    "results = loaded_model.predict(h=horizon, X_df=X_df, ids=[3])\n",
    "results.head(2)"
   ]
  },
  {
   "cell_type": "markdown",
   "id": "1ccef535-bc84-4d37-a845-d87bca98c741",
   "metadata": {},
   "source": [
    "# PyFunc"
   ]
  },
  {
   "cell_type": "code",
   "execution_count": 25,
   "id": "5f34365a-41ad-4e8e-b088-bd90dd4354ab",
   "metadata": {},
   "outputs": [
    {
     "data": {
      "text/html": [
       "<div>\n",
       "<style scoped>\n",
       "    .dataframe tbody tr th:only-of-type {\n",
       "        vertical-align: middle;\n",
       "    }\n",
       "\n",
       "    .dataframe tbody tr th {\n",
       "        vertical-align: top;\n",
       "    }\n",
       "\n",
       "    .dataframe thead th {\n",
       "        text-align: right;\n",
       "    }\n",
       "</style>\n",
       "<table border=\"1\" class=\"dataframe\">\n",
       "  <thead>\n",
       "    <tr style=\"text-align: right;\">\n",
       "      <th></th>\n",
       "      <th>unique_id</th>\n",
       "      <th>ds</th>\n",
       "      <th>lgb</th>\n",
       "      <th>lr</th>\n",
       "      <th>lgb-lo-80</th>\n",
       "      <th>lgb-hi-80</th>\n",
       "      <th>lr-lo-80</th>\n",
       "      <th>lr-hi-80</th>\n",
       "    </tr>\n",
       "  </thead>\n",
       "  <tbody>\n",
       "    <tr>\n",
       "      <th>0</th>\n",
       "      <td>0</td>\n",
       "      <td>2000-01-09 20:00:00</td>\n",
       "      <td>0.260544</td>\n",
       "      <td>0.244128</td>\n",
       "      <td>0.140168</td>\n",
       "      <td>0.380921</td>\n",
       "      <td>0.114001</td>\n",
       "      <td>0.374254</td>\n",
       "    </tr>\n",
       "    <tr>\n",
       "      <th>1</th>\n",
       "      <td>0</td>\n",
       "      <td>2000-01-09 21:00:00</td>\n",
       "      <td>0.250096</td>\n",
       "      <td>0.247742</td>\n",
       "      <td>0.072820</td>\n",
       "      <td>0.427372</td>\n",
       "      <td>0.047584</td>\n",
       "      <td>0.447900</td>\n",
       "    </tr>\n",
       "  </tbody>\n",
       "</table>\n",
       "</div>"
      ],
      "text/plain": [
       "  unique_id                  ds       lgb  ...  lgb-hi-80  lr-lo-80  lr-hi-80\n",
       "0         0 2000-01-09 20:00:00  0.260544  ...   0.380921  0.114001  0.374254\n",
       "1         0 2000-01-09 21:00:00  0.250096  ...   0.427372  0.047584  0.447900\n",
       "\n",
       "[2 rows x 8 columns]"
      ]
     },
     "execution_count": 25,
     "metadata": {},
     "output_type": "execute_result"
    }
   ],
   "source": [
    "loaded_pyfunc = mlforecast.flavor.pyfunc.load_model(model_uri=model_uri)\n",
    "# single row dataframe\n",
    "predict_conf = pd.DataFrame(\n",
    "    [\n",
    "        {\n",
    "            \"h\": horizon,\n",
    "            \"ids\": [0, 2],\n",
    "            \"X_df\": X_df,\n",
    "            \"level\": [80]\n",
    "        }\n",
    "    ]\n",
    ")\n",
    "pyfunc_result = loaded_pyfunc.predict(predict_conf)\n",
    "pyfunc_result.head(2)"
   ]
  },
  {
   "cell_type": "markdown",
   "id": "a9964502-ae07-4e93-bdb1-67604670f521",
   "metadata": {},
   "source": [
    "# model serving"
   ]
  },
  {
   "cell_type": "code",
   "execution_count": 27,
   "id": "8f5a72a3-e93c-4d72-b225-7071b8b98291",
   "metadata": {},
   "outputs": [
    {
     "name": "stderr",
     "output_type": "stream",
     "text": [
      "Downloading artifacts: 100%|██████████| 7/7 [00:00<00:00, 19443.79it/s]\n",
      "2024/12/05 21:28:51 INFO mlflow.models.flavor_backend_registry: Selected backend for flavor 'python_function'\n",
      "2024/12/05 21:28:51 INFO mlflow.pyfunc.backend: === Running command 'exec gunicorn --timeout=60 -b localhost:5000 -w 1 ${GUNICORN_CMD_ARGS} -- mlflow.pyfunc.scoring_server.wsgi:app'\n",
      "[2024-12-05 21:28:51 +0800] [3853] [INFO] Starting gunicorn 23.0.0\n",
      "[2024-12-05 21:28:51 +0800] [3853] [ERROR] Connection in use: ('localhost', 5000)\n",
      "[2024-12-05 21:28:51 +0800] [3853] [ERROR] connection to ('localhost', 5000) failed: [Errno 48] Address already in use\n",
      "[2024-12-05 21:28:52 +0800] [3853] [ERROR] Connection in use: ('localhost', 5000)\n",
      "[2024-12-05 21:28:52 +0800] [3853] [ERROR] connection to ('localhost', 5000) failed: [Errno 48] Address already in use\n",
      "[2024-12-05 21:28:53 +0800] [3853] [ERROR] Connection in use: ('localhost', 5000)\n",
      "[2024-12-05 21:28:53 +0800] [3853] [ERROR] connection to ('localhost', 5000) failed: [Errno 48] Address already in use\n",
      "[2024-12-05 21:28:54 +0800] [3853] [ERROR] Connection in use: ('localhost', 5000)\n",
      "[2024-12-05 21:28:54 +0800] [3853] [ERROR] connection to ('localhost', 5000) failed: [Errno 48] Address already in use\n",
      "[2024-12-05 21:28:55 +0800] [3853] [ERROR] Connection in use: ('localhost', 5000)\n",
      "[2024-12-05 21:28:55 +0800] [3853] [ERROR] connection to ('localhost', 5000) failed: [Errno 48] Address already in use\n"
     ]
    },
    {
     "name": "stdout",
     "output_type": "stream",
     "text": [
      "   unique_id                   ds       lgb  ...  lgb-hi-95  lr-lo-95  lr-hi-95\n",
      "0          3  2000-01-10T16:00:00  0.333308  ...   0.492544  0.032451  0.453583\n",
      "1          3  2000-01-10T17:00:00  0.127424  ...   0.264842  0.045525  0.453959\n",
      "\n",
      "[2 rows x 8 columns]\n"
     ]
    },
    {
     "name": "stderr",
     "output_type": "stream",
     "text": [
      "/Users/wangzf/Applications/miniconda3/envs/ts/lib/python3.11/multiprocessing/resource_tracker.py:254: UserWarning: resource_tracker: There appear to be 1 leaked semaphore objects to clean up at shutdown\n",
      "  warnings.warn('resource_tracker: There appear to be %d '\n"
     ]
    },
    {
     "data": {
      "text/plain": [
       "-15"
      ]
     },
     "execution_count": 27,
     "metadata": {},
     "output_type": "execute_result"
    },
    {
     "name": "stderr",
     "output_type": "stream",
     "text": [
      "[2024-12-05 21:28:56 +0800] [3853] [ERROR] Can't connect to ('localhost', 5000)\n"
     ]
    }
   ],
   "source": [
    "host = 'localhost'\n",
    "port = '5000'\n",
    "cmd = f'mlflow models serve -m runs:/{run_id}/model -h {host} -p {port} --env-manager local'\n",
    "# initialize server\n",
    "process = subprocess.Popen(cmd.split())\n",
    "time.sleep(5)\n",
    "# single row dataframe. must be JSON serializable\n",
    "predict_conf = pd.DataFrame(\n",
    "    [\n",
    "        {\n",
    "            \"h\": horizon,\n",
    "            \"ids\": [3, 4],\n",
    "            \"X_df\": X_df.astype({'ds': 'str'}).to_dict(orient='list'),\n",
    "            \"level\": [95]\n",
    "        }\n",
    "    ]\n",
    ")\n",
    "payload = {'dataframe_split': predict_conf.to_dict(orient='split', index=False)}\n",
    "resp = requests.post(f'http://{host}:{port}/invocations', json=payload)\n",
    "print(pd.DataFrame(resp.json()['predictions']).head(2))\n",
    "process.terminate()\n",
    "process.wait(timeout=10)"
   ]
  },
  {
   "cell_type": "code",
   "execution_count": null,
   "id": "c33d028f-ebc0-419f-b445-ce74133ed947",
   "metadata": {},
   "outputs": [],
   "source": []
  }
 ],
 "metadata": {
  "kernelspec": {
   "display_name": "Python 3 (ipykernel)",
   "language": "python",
   "name": "python3"
  },
  "language_info": {
   "codemirror_mode": {
    "name": "ipython",
    "version": 3
   },
   "file_extension": ".py",
   "mimetype": "text/x-python",
   "name": "python",
   "nbconvert_exporter": "python",
   "pygments_lexer": "ipython3",
   "version": "3.11.9"
  }
 },
 "nbformat": 4,
 "nbformat_minor": 5
}
