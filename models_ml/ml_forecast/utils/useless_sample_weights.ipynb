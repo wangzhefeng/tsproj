{
 "cells": [
  {
   "cell_type": "code",
   "execution_count": 5,
   "id": "02f03062-5b07-4093-95b7-5f57f19cbb0b",
   "metadata": {},
   "outputs": [],
   "source": [
    "# data\n",
    "import numpy as np\n",
    "from mlforecast.utils import generate_daily_series\n",
    "\n",
    "# forecast\n",
    "from mlforecast import MLForecast\n",
    "# model\n",
    "from sklearn.linear_model import LinearRegression\n",
    "import lightgbm as lgb"
   ]
  },
  {
   "cell_type": "markdown",
   "id": "760c720b-c298-4660-a5b5-07456f73d66f",
   "metadata": {},
   "source": [
    "# data"
   ]
  },
  {
   "cell_type": "code",
   "execution_count": 2,
   "id": "de80699b-0b47-4f00-9aef-1cb698068c63",
   "metadata": {},
   "outputs": [
    {
     "data": {
      "text/html": [
       "<div>\n",
       "<style scoped>\n",
       "    .dataframe tbody tr th:only-of-type {\n",
       "        vertical-align: middle;\n",
       "    }\n",
       "\n",
       "    .dataframe tbody tr th {\n",
       "        vertical-align: top;\n",
       "    }\n",
       "\n",
       "    .dataframe thead th {\n",
       "        text-align: right;\n",
       "    }\n",
       "</style>\n",
       "<table border=\"1\" class=\"dataframe\">\n",
       "  <thead>\n",
       "    <tr style=\"text-align: right;\">\n",
       "      <th></th>\n",
       "      <th>unique_id</th>\n",
       "      <th>ds</th>\n",
       "      <th>y</th>\n",
       "      <th>weight</th>\n",
       "    </tr>\n",
       "  </thead>\n",
       "  <tbody>\n",
       "    <tr>\n",
       "      <th>0</th>\n",
       "      <td>id_0</td>\n",
       "      <td>2000-01-01</td>\n",
       "      <td>0.357595</td>\n",
       "      <td>0.636962</td>\n",
       "    </tr>\n",
       "    <tr>\n",
       "      <th>1</th>\n",
       "      <td>id_0</td>\n",
       "      <td>2000-01-02</td>\n",
       "      <td>1.301382</td>\n",
       "      <td>0.269787</td>\n",
       "    </tr>\n",
       "    <tr>\n",
       "      <th>2</th>\n",
       "      <td>id_0</td>\n",
       "      <td>2000-01-03</td>\n",
       "      <td>2.272442</td>\n",
       "      <td>0.040974</td>\n",
       "    </tr>\n",
       "    <tr>\n",
       "      <th>3</th>\n",
       "      <td>id_0</td>\n",
       "      <td>2000-01-04</td>\n",
       "      <td>3.211827</td>\n",
       "      <td>0.016528</td>\n",
       "    </tr>\n",
       "    <tr>\n",
       "      <th>4</th>\n",
       "      <td>id_0</td>\n",
       "      <td>2000-01-05</td>\n",
       "      <td>4.322947</td>\n",
       "      <td>0.813270</td>\n",
       "    </tr>\n",
       "  </tbody>\n",
       "</table>\n",
       "</div>"
      ],
      "text/plain": [
       "  unique_id         ds         y    weight\n",
       "0      id_0 2000-01-01  0.357595  0.636962\n",
       "1      id_0 2000-01-02  1.301382  0.269787\n",
       "2      id_0 2000-01-03  2.272442  0.040974\n",
       "3      id_0 2000-01-04  3.211827  0.016528\n",
       "4      id_0 2000-01-05  4.322947  0.813270"
      ]
     },
     "execution_count": 2,
     "metadata": {},
     "output_type": "execute_result"
    }
   ],
   "source": [
    "series = generate_daily_series(n_series = 2)\n",
    "series[\"weight\"] = np.random.default_rng(seed = 0).random(series.shape[0])\n",
    "series.head()"
   ]
  },
  {
   "cell_type": "markdown",
   "id": "2ede0b6d-098e-4ce5-a3d2-d01368ebf13a",
   "metadata": {},
   "source": [
    "# model"
   ]
  },
  {
   "cell_type": "code",
   "execution_count": 6,
   "id": "abcf09ea-8656-4857-a908-16e8661e4ce9",
   "metadata": {},
   "outputs": [],
   "source": [
    "fcst = MLForecast(\n",
    "    models = {\n",
    "        \"lr\": LinearRegression(),\n",
    "        \"lgbm\": lgb.LGBMRegressor(verbosity = -1),\n",
    "    },\n",
    "    freq = \"D\",\n",
    "    lags = [1],\n",
    "    date_features = [\"dayofweek\"],\n",
    ")"
   ]
  },
  {
   "cell_type": "markdown",
   "id": "7b10904e-34f2-4f1c-902d-a354b89b73c4",
   "metadata": {},
   "source": [
    "# training and forecasting"
   ]
  },
  {
   "cell_type": "code",
   "execution_count": 9,
   "id": "ab0f0583-e3fd-4cd3-bb63-6e11f4d4b77a",
   "metadata": {},
   "outputs": [],
   "source": [
    "fcst.fit(series,  weight_col = \"weight\").predict(1)"
   ]
  },
  {
   "cell_type": "markdown",
   "id": "4e045821-5dfc-419f-ad4c-2e6fd74c50d1",
   "metadata": {},
   "source": [
    "# cross validation"
   ]
  },
  {
   "cell_type": "code",
   "execution_count": 11,
   "id": "0aac05e7-a55b-465c-ab60-e914617018fe",
   "metadata": {},
   "outputs": [],
   "source": [
    "fcst.cross_validation(series, n_windows = 2, h = 1, weight_col = \"weight\")"
   ]
  }
 ],
 "metadata": {
  "kernelspec": {
   "display_name": "Python 3 (ipykernel)",
   "language": "python",
   "name": "python3"
  },
  "language_info": {
   "codemirror_mode": {
    "name": "ipython",
    "version": 3
   },
   "file_extension": ".py",
   "mimetype": "text/x-python",
   "name": "python",
   "nbconvert_exporter": "python",
   "pygments_lexer": "ipython3",
   "version": "3.8.19"
  }
 },
 "nbformat": 4,
 "nbformat_minor": 5
}
