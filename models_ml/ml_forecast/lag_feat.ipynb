{
 "cells": [
  {
   "cell_type": "code",
   "execution_count": 11,
   "id": "92d9ab69-61d8-4db2-a825-417310eb715a",
   "metadata": {},
   "outputs": [],
   "source": [
    "import numpy as np\n",
    "import pandas as pd\n",
    "import operator\n",
    "\n",
    "from mlforecast import MLForecast\n",
    "from mlforecast.utils import generate_daily_series\n",
    "from mlforecast.lag_transforms import ExpandingStd, RollingMean\n",
    "from mlforecast.lag_transforms import Combine, Offset\n",
    "from numba import njit\n",
    "from window_ops.expanding import expanding_mean\n",
    "from window_ops.shift import shift_array"
   ]
  },
  {
   "cell_type": "markdown",
   "id": "5874218f-1745-4685-b6f1-47c445d56477",
   "metadata": {},
   "source": [
    "# data"
   ]
  },
  {
   "cell_type": "code",
   "execution_count": 2,
   "id": "b5cf42be-4599-4b94-9183-40933b015eed",
   "metadata": {},
   "outputs": [
    {
     "name": "stdout",
     "output_type": "stream",
     "text": [
      "  unique_id         ds         y\n",
      "0      id_0 2000-01-01  0.322947\n",
      "1      id_0 2000-01-02  1.218794\n",
      "2      id_0 2000-01-03  2.445887\n",
      "3      id_0 2000-01-04  3.481831\n",
      "4      id_0 2000-01-05  4.191721\n",
      "\n",
      "(2376, 3)\n",
      "\n",
      "id_7    409\n",
      "id_4    373\n",
      "id_5    301\n",
      "id_9    261\n",
      "id_6    245\n",
      "id_3    242\n",
      "id_0    222\n",
      "id_2    167\n",
      "id_1     97\n",
      "id_8     59\n",
      "Name: unique_id, dtype: int64\n"
     ]
    }
   ],
   "source": [
    "data = generate_daily_series(n_series = 10)\n",
    "print(data.head())\n",
    "print()\n",
    "print(data.shape)\n",
    "print()\n",
    "print(data[\"unique_id\"].value_counts())"
   ]
  },
  {
   "cell_type": "markdown",
   "id": "5a44aafc-ce1b-4eff-ab1e-59ae4d0ece21",
   "metadata": {},
   "source": [
    "# 内置 transformation"
   ]
  },
  {
   "cell_type": "code",
   "execution_count": 7,
   "id": "5e3bafb6-1f01-4583-a916-c00638cf434f",
   "metadata": {},
   "outputs": [
    {
     "name": "stdout",
     "output_type": "stream",
     "text": [
      "   unique_id         ds         y  expanding_std_lag1  \\\n",
      "20      id_0 2000-01-21  6.319961            1.956363   \n",
      "21      id_0 2000-01-22  0.071677            2.028545   \n",
      "22      id_0 2000-01-23  1.472334            2.095850   \n",
      "23      id_0 2000-01-24  2.260924            2.077423   \n",
      "24      id_0 2000-01-25  3.207331            2.038621   \n",
      "\n",
      "    rolling_mean_lag7_window_size7_min_samples1  \\\n",
      "20                                     3.234486   \n",
      "21                                     3.256055   \n",
      "22                                     3.259842   \n",
      "23                                     3.311851   \n",
      "24                                     3.338590   \n",
      "\n",
      "    rolling_mean_lag7_window_size14  \n",
      "20                         3.283064  \n",
      "21                         3.291068  \n",
      "22                         3.310390  \n",
      "23                         3.307083  \n",
      "24                         3.289148  \n",
      "\n",
      "(2176, 6)\n",
      "\n",
      "id_7    389\n",
      "id_4    353\n",
      "id_5    281\n",
      "id_9    241\n",
      "id_6    225\n",
      "id_3    222\n",
      "id_0    202\n",
      "id_2    147\n",
      "id_1     77\n",
      "id_8     39\n",
      "Name: unique_id, dtype: int64\n"
     ]
    }
   ],
   "source": [
    "fcst = MLForecast(\n",
    "    models = [],\n",
    "    freq = \"D\",\n",
    "    lag_transforms = {\n",
    "        1: [ExpandingStd()],\n",
    "        7: [\n",
    "            RollingMean(window_size = 7, min_samples = 1),\n",
    "            RollingMean(window_size = 14),\n",
    "        ]\n",
    "    }\n",
    ")\n",
    "prep_data = fcst.preprocess(data)\n",
    "\n",
    "with pd.option_context(\"display.max_columns\", None):\n",
    "    print(prep_data.head())\n",
    "    print()\n",
    "    print(prep_data.shape)\n",
    "    print()\n",
    "    print(prep_data[\"unique_id\"].value_counts())"
   ]
  },
  {
   "cell_type": "code",
   "execution_count": 12,
   "id": "2e469ec3-190e-4438-8199-f833cd4ee76f",
   "metadata": {},
   "outputs": [
    {
     "name": "stdout",
     "output_type": "stream",
     "text": [
      "   unique_id         ds         y  rolling_mean_lag1_window_size7  \\\n",
      "14      id_0 2000-01-15  0.435006                        3.234486   \n",
      "15      id_0 2000-01-16  1.489309                        3.256055   \n",
      "16      id_0 2000-01-17  2.399579                        3.259842   \n",
      "17      id_0 2000-01-18  3.230740                        3.311851   \n",
      "18      id_0 2000-01-19  4.390265                        3.338590   \n",
      "\n",
      "    rolling_mean_lag1_window_size14  \\\n",
      "14                         3.283064   \n",
      "15                         3.291068   \n",
      "16                         3.310390   \n",
      "17                         3.307083   \n",
      "18                         3.289148   \n",
      "\n",
      "    rolling_mean_lag1_window_size7_truediv_rolling_mean_lag1_window_size14  \n",
      "14                                           0.985204                       \n",
      "15                                           0.989361                       \n",
      "16                                           0.984730                       \n",
      "17                                           1.001442                       \n",
      "18                                           1.015032                       \n",
      "\n",
      "(2236, 6)\n",
      "\n",
      "id_7    395\n",
      "id_4    359\n",
      "id_5    287\n",
      "id_9    247\n",
      "id_6    231\n",
      "id_3    228\n",
      "id_0    208\n",
      "id_2    153\n",
      "id_1     83\n",
      "id_8     45\n",
      "Name: unique_id, dtype: int64\n"
     ]
    }
   ],
   "source": [
    "fcst = MLForecast(\n",
    "    models = [],\n",
    "    freq = \"D\",\n",
    "    lag_transforms = {\n",
    "        1: [\n",
    "            RollingMean(window_size = 7),\n",
    "            RollingMean(window_size = 14),\n",
    "            Combine(\n",
    "                RollingMean(window_size = 7),\n",
    "                RollingMean(window_size = 14),\n",
    "                operator.truediv,\n",
    "            )\n",
    "        ],\n",
    "    },\n",
    ")\n",
    "prep_data = fcst.preprocess(data)\n",
    "\n",
    "with pd.option_context(\"display.max_columns\", None):\n",
    "    print(prep_data.head())\n",
    "    print()\n",
    "    print(prep_data.shape)\n",
    "    print()\n",
    "    print(prep_data[\"unique_id\"].value_counts())"
   ]
  },
  {
   "cell_type": "code",
   "execution_count": 13,
   "id": "bd5accc1-b53a-41cb-9a38-0d5c16ac0639",
   "metadata": {},
   "outputs": [
    {
     "name": "stdout",
     "output_type": "stream",
     "text": [
      "   unique_id         ds         y  rolling_mean_lag1_window_size7  \\\n",
      "8       id_0 2000-01-09  1.462798                        3.326081   \n",
      "9       id_0 2000-01-10  2.035518                        3.360938   \n",
      "10      id_0 2000-01-11  3.043565                        3.302314   \n",
      "11      id_0 2000-01-12  4.010109                        3.239705   \n",
      "12      id_0 2000-01-13  5.416310                        3.213760   \n",
      "\n",
      "    rolling_mean_lag1_window_size7_truediv_rolling_mean_lag2_window_size7  \\\n",
      "8                                            0.998331                       \n",
      "9                                            1.010480                       \n",
      "10                                           0.982557                       \n",
      "11                                           0.981041                       \n",
      "12                                           0.991992                       \n",
      "\n",
      "    rolling_mean_lag2_window_size7  \n",
      "8                         3.331641  \n",
      "9                         3.326081  \n",
      "10                        3.360938  \n",
      "11                        3.302314  \n",
      "12                        3.239705  \n",
      "\n",
      "(2296, 6)\n",
      "\n",
      "id_7    401\n",
      "id_4    365\n",
      "id_5    293\n",
      "id_9    253\n",
      "id_6    237\n",
      "id_3    234\n",
      "id_0    214\n",
      "id_2    159\n",
      "id_1     89\n",
      "id_8     51\n",
      "Name: unique_id, dtype: int64\n"
     ]
    }
   ],
   "source": [
    "fcst = MLForecast(\n",
    "    models=[],\n",
    "    freq = 'D',\n",
    "    lag_transforms = {\n",
    "        1: [\n",
    "            RollingMean(window_size = 7),\n",
    "            Combine(\n",
    "                RollingMean(window_size = 7),\n",
    "                Offset(RollingMean(window_size = 7), n = 1),\n",
    "                operator.truediv,\n",
    "            )\n",
    "        ],\n",
    "        2: [RollingMean(window_size = 7)]\n",
    "    },\n",
    ")\n",
    "prep_data = fcst.preprocess(data)\n",
    "\n",
    "with pd.option_context(\"display.max_columns\", None):\n",
    "    print(prep_data.head())\n",
    "    print()\n",
    "    print(prep_data.shape)\n",
    "    print()\n",
    "    print(prep_data[\"unique_id\"].value_counts())"
   ]
  },
  {
   "cell_type": "markdown",
   "id": "d02f5c61-cba4-47cd-ad61-7b8df428426d",
   "metadata": {},
   "source": [
    "# 基于 numba 的 transformation"
   ]
  },
  {
   "cell_type": "code",
   "execution_count": null,
   "id": "4a81766c-4323-4e7e-8058-6dff61bce0df",
   "metadata": {},
   "outputs": [],
   "source": []
  },
  {
   "cell_type": "code",
   "execution_count": null,
   "id": "fc5a1612-1b3a-4cfc-b228-2b006475fe68",
   "metadata": {},
   "outputs": [],
   "source": []
  }
 ],
 "metadata": {
  "kernelspec": {
   "display_name": "Python 3 (ipykernel)",
   "language": "python",
   "name": "python3"
  },
  "language_info": {
   "codemirror_mode": {
    "name": "ipython",
    "version": 3
   },
   "file_extension": ".py",
   "mimetype": "text/x-python",
   "name": "python",
   "nbconvert_exporter": "python",
   "pygments_lexer": "ipython3",
   "version": "3.8.19"
  }
 },
 "nbformat": 4,
 "nbformat_minor": 5
}
