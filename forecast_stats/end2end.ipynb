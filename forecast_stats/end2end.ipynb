{
 "cells": [
  {
   "cell_type": "code",
   "execution_count": 1,
   "id": "b9f18162-3d09-4243-8940-5f92f09460f8",
   "metadata": {},
   "outputs": [
    {
     "data": {
      "text/plain": [
       "\"\\nAuto Forecast:\\n    - large collections of univariate time series\\n    - ARIMA, ETS, Theta, CES\\nExponential Smoothing:\\n    - data with no clear trend or seasonality\\n    - SES, Holt's Winters, SSO\\nBenchmark models:\\n    - Mean, Navie, Random Walk\\nIntermittent or Sparse models:\\n    - series with very few non-zero observations\\n    - CROSTON, ADIDA, IMAPA\\nMultiple Seasonalities:\\n    - signals with more than one clear seasonality\\n    - low-frequency data\\n    - MSTL\\nTheta Models:\\n    - deseasonalized time series\\n    - Theta, DynamicTheta\\n\""
      ]
     },
     "execution_count": 1,
     "metadata": {},
     "output_type": "execute_result"
    }
   ],
   "source": [
    "\"\"\"\n",
    "Auto Forecast:\n",
    "    - large collections of univariate time series\n",
    "    - ARIMA, ETS, Theta, CES\n",
    "Exponential Smoothing:\n",
    "    - data with no clear trend or seasonality\n",
    "    - SES, Holt's Winters, SSO\n",
    "Benchmark models:\n",
    "    - Mean, Navie, Random Walk\n",
    "Intermittent or Sparse models:\n",
    "    - series with very few non-zero observations\n",
    "    - CROSTON, ADIDA, IMAPA\n",
    "Multiple Seasonalities:\n",
    "    - signals with more than one clear seasonality\n",
    "    - low-frequency data\n",
    "    - MSTL\n",
    "Theta Models:\n",
    "    - deseasonalized time series\n",
    "    - Theta, DynamicTheta\n",
    "\"\"\""
   ]
  },
  {
   "cell_type": "code",
   "execution_count": 2,
   "id": "511ae9ea-0d9b-4ba8-bf81-a3a237bd99c4",
   "metadata": {},
   "outputs": [],
   "source": [
    "# tools\n",
    "import os\n",
    "import pandas as pd\n",
    "import matplotlib.pyplot as plt\n",
    "import multiprocessing as mp\n",
    "\n",
    "# forecast\n",
    "from statsforecast import StatsForecast\n",
    "\n",
    "# models\n",
    "from statsforecast.models import (\n",
    "    HoltWinters,\n",
    "    CrostonClassic as Croston,\n",
    "    HistoricAverage,\n",
    "    DynamicOptimizedTheta as DOT,\n",
    "    SeasonalNaive,\n",
    ")\n",
    "\n",
    "os.environ[\"NIXTLA_ID_AS_COL\"] = \"1\"\n",
    "os.environ[\"NUMBA_NUM_THREADS\"] = \"1\""
   ]
  },
  {
   "cell_type": "markdown",
   "id": "c6c80ff8-90e5-4c4d-b0f3-b90e0e59eca5",
   "metadata": {},
   "source": [
    "# data"
   ]
  },
  {
   "cell_type": "code",
   "execution_count": 3,
   "id": "218856dd-37ad-4cce-9f2a-91a04103154c",
   "metadata": {},
   "outputs": [
    {
     "name": "stdout",
     "output_type": "stream",
     "text": [
      "    unique_id   ds      y\n",
      "580        H1  581  587.0\n",
      "581        H1  582  537.0\n",
      "582        H1  583  492.0\n",
      "583        H1  584  464.0\n",
      "584        H1  585  443.0 \n",
      "\n",
      "(1680, 3) \n",
      "\n",
      "unique_id\n",
      "H1      168\n",
      "H10     168\n",
      "H100    168\n",
      "H101    168\n",
      "H102    168\n",
      "H103    168\n",
      "H104    168\n",
      "H105    168\n",
      "H106    168\n",
      "H107    168\n",
      "Name: count, dtype: int64\n"
     ]
    }
   ],
   "source": [
    "def load_data():\n",
    "    # data read\n",
    "    Y_df = pd.read_parquet(\"https://datasets-nixtla.s3.amazonaws.com/m4-hourly.parquet\")\n",
    "    # data filter\n",
    "    uids = Y_df[\"unique_id\"].unique()[:10]\n",
    "    Y_df = Y_df.query(\"unique_id in @uids\")\n",
    "    Y_df = Y_df.groupby(\"unique_id\").tail(7 * 24)\n",
    "\n",
    "    return Y_df\n",
    "\n",
    "\n",
    "Y_df = load_data()\n",
    "print(Y_df.head(), \"\\n\")\n",
    "print(Y_df.shape, \"\\n\")\n",
    "print(Y_df[\"unique_id\"].value_counts())"
   ]
  },
  {
   "cell_type": "markdown",
   "id": "caf64c13-c8e9-494f-862f-4e1db8f67de6",
   "metadata": {},
   "source": [
    "# EDA"
   ]
  },
  {
   "cell_type": "code",
   "execution_count": 4,
   "id": "f2e5c9ff-b6eb-4aae-8a0e-abb27a986811",
   "metadata": {},
   "outputs": [],
   "source": [
    "StatsForecast.plot(Y_df, engine=\"matplotlib\")"
   ]
  },
  {
   "cell_type": "markdown",
   "id": "07da0ecb-5fd8-4bf5-8dc1-9634911e2b3f",
   "metadata": {},
   "source": [
    "# model training"
   ]
  },
  {
   "cell_type": "code",
   "execution_count": null,
   "id": "3518329c-be50-4047-ab66-020266e0e6e1",
   "metadata": {},
   "outputs": [],
   "source": [
    "models = [\n",
    "    HoltWinters(),\n",
    "    Croston(),\n",
    "    SeasonalNaive(season_length=24),\n",
    "    HistoricAverage(),\n",
    "    DOT(season_length=24),\n",
    "]\n",
    "sf = StatsForecast(\n",
    "    models = models,\n",
    "    freq = 1,\n",
    "    fallback_model=SeasonalNaive(season_length=7),\n",
    "    n_jobs = 1,\n",
    ")"
   ]
  },
  {
   "cell_type": "markdown",
   "id": "8a808d3e-1f30-4e86-8671-53656bc4e8d0",
   "metadata": {},
   "source": [
    "# model evluation"
   ]
  },
  {
   "cell_type": "code",
   "execution_count": null,
   "id": "d5aa16b8-6885-4ffe-8662-f8716a3efe66",
   "metadata": {},
   "outputs": [],
   "source": [
    "forecasts_df = sf.forecast(df = Y_df, h = 48, level = [90])\n",
    "print(forecasts_df)\n",
    "sf.plot(Y_df, forecasts_df)\n",
    "sf.plot(Y_df, forecasts_df, models = [\"HoltWinters\", \"DynamicOptimizedTheta\"], unique_ids = [\"H10\", \"H105\"], level = [90])"
   ]
  }
 ],
 "metadata": {
  "kernelspec": {
   "display_name": "Python 3 (ipykernel)",
   "language": "python",
   "name": "python3"
  },
  "language_info": {
   "codemirror_mode": {
    "name": "ipython",
    "version": 3
   },
   "file_extension": ".py",
   "mimetype": "text/x-python",
   "name": "python",
   "nbconvert_exporter": "python",
   "pygments_lexer": "ipython3",
   "version": "3.8.19"
  }
 },
 "nbformat": 4,
 "nbformat_minor": 5
}
